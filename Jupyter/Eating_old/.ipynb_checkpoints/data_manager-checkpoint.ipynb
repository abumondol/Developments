{
 "cells": [
  {
   "cell_type": "code",
   "execution_count": 1,
   "metadata": {
    "collapsed": true
   },
   "outputs": [],
   "source": [
    "import numpy as np\n",
    "import pickle\n",
    "import os"
   ]
  },
  {
   "cell_type": "code",
   "execution_count": 2,
   "metadata": {
    "collapsed": true
   },
   "outputs": [],
   "source": [
    "def get_root_path():\n",
    "    return \"C:\\\\ASM\\\\DevData\\\\eating\\\\python\\\\\"\n",
    "\n",
    "def get_slash():\n",
    "    return \"\\\\\""
   ]
  },
  {
   "cell_type": "code",
   "execution_count": 3,
   "metadata": {
    "collapsed": true
   },
   "outputs": [],
   "source": [
    "def create_folder(folder_name, path=\"\"):\n",
    "    if len(path)==0:\n",
    "        path = get_root_path()\n",
    "        \n",
    "    subdir_path = path + folder_name        \n",
    "    directory = os.path.dirname(subdir_path)\n",
    "    if not os.path.exists(directory):\n",
    "        os.makedirs(directory)\n",
    "        print(\"Directory created: \", directory)\n",
    "    return subdir_path\n",
    "    \n",
    "    "
   ]
  },
  {
   "cell_type": "code",
   "execution_count": 4,
   "metadata": {
    "collapsed": true
   },
   "outputs": [],
   "source": [
    "def get_data(file_name, subdir = \"\"):    \n",
    "    if len(subdir)==0:\n",
    "        file_path = get_root_path() + file_name + \".pkl\"\n",
    "    else:\n",
    "        subdir_path = create_folder(subdir)         \n",
    "        file_path = subdir_path + get_slash() + file_name+\".pkl\"\n",
    "        \n",
    "    with open(file_path, \"rb\") as file:\n",
    "        res = pickle.load(file)\n",
    "    \n",
    "    return res"
   ]
  },
  {
   "cell_type": "code",
   "execution_count": 5,
   "metadata": {
    "collapsed": true
   },
   "outputs": [],
   "source": [
    "def save_data(data, file_name, subdir=\"\"):    \n",
    "    if len(subdir)==0:\n",
    "        file_path = get_root_path() + file_name + \".pkl\"\n",
    "    else:\n",
    "        subdir_path = create_folder(subdir)         \n",
    "        file_path = subdir_path + get_slash() + file_name+\".pkl\"\n",
    "        \n",
    "    with open(file_path, \"wb\") as file:\n",
    "        pickle.dump(data, file)    "
   ]
  },
  {
   "cell_type": "code",
   "execution_count": 6,
   "metadata": {
    "collapsed": true
   },
   "outputs": [],
   "source": [
    "def get_data_uva_lab(smooth_factor=\"\"):\n",
    "    if len(smooth_factor)==0:\n",
    "        return get_data(\"uva_lab_data\", \"data\")\n",
    "    else:\n",
    "        return get_data(\"uva_lab_data_\"+smooth_factor, \"data\")"
   ]
  },
  {
   "cell_type": "code",
   "execution_count": 7,
   "metadata": {
    "collapsed": true
   },
   "outputs": [],
   "source": [
    "def get_data_uva_free(smooth_factor=\"\"):\n",
    "    if len(smooth_factor)==0:\n",
    "        return get_data(\"uva_free_data\", \"data\")\n",
    "    else:\n",
    "        return get_data(\"uva_free_data_\"+smooth_factor, \"data\")"
   ]
  },
  {
   "cell_type": "code",
   "execution_count": 8,
   "metadata": {
    "collapsed": true
   },
   "outputs": [],
   "source": [
    "def get_data_steven_lab(smooth_factor=\"\"):\n",
    "    if len(smooth_factor)==0:\n",
    "        return get_data(\"steven_lab_data\", \"data\")\n",
    "    else:\n",
    "        return get_data(\"steven_lab_data_\"+smooth_factor, \"data\")"
   ]
  },
  {
   "cell_type": "code",
   "execution_count": 4,
   "metadata": {
    "collapsed": true
   },
   "outputs": [],
   "source": [
    "def get_data_steven_free(smooth_factor=\"\"):\n",
    "    if len(smooth_factor)==0:\n",
    "        return get_data(\"steven_free_data\", \"data\")\n",
    "    else:\n",
    "        return get_data(\"steven_free_data_\"+smooth_factor, \"data\")"
   ]
  }
 ],
 "metadata": {
  "anaconda-cloud": {},
  "kernelspec": {
   "display_name": "Python [conda root]",
   "language": "python",
   "name": "conda-root-py"
  },
  "language_info": {
   "codemirror_mode": {
    "name": "ipython",
    "version": 3
   },
   "file_extension": ".py",
   "mimetype": "text/x-python",
   "name": "python",
   "nbconvert_exporter": "python",
   "pygments_lexer": "ipython3",
   "version": "3.5.2"
  }
 },
 "nbformat": 4,
 "nbformat_minor": 1
}
