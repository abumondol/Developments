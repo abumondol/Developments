{
 "cells": [
  {
   "cell_type": "code",
   "execution_count": 22,
   "metadata": {
    "collapsed": false
   },
   "outputs": [],
   "source": [
    "def get_params():\n",
    "    params = {}\n",
    "    \n",
    "    params[\"smooth_factor\"] = 0.8\n",
    "    \n",
    "    params[\"x_th_max\"] = -3\n",
    "    params[\"min_bite_interval\"] = 40\n",
    "    params[\"var_th\"] = 1\n",
    "    \n",
    "    params[\"window_len_left\"] = 48\n",
    "    params[\"window_len_right\"] = 48\n",
    "    params[\"max_annot_distance\"] = 32\n",
    "    params[\"exclude_annot_distance\"] = 64\n",
    "    \n",
    "    return params\n",
    "    \n",
    "def print_params(params):\n",
    "    print(\"----------------------------------\")\n",
    "    print(\"List of paramters and their values\")\n",
    "    print(\"----------------------------------\")\n",
    "    for key, value in params.items():\n",
    "        print(key+\" : \"+str(value))\n",
    "    print(\"\") "
   ]
  }
 ],
 "metadata": {
  "anaconda-cloud": {},
  "kernelspec": {
   "display_name": "Python [conda root]",
   "language": "python",
   "name": "conda-root-py"
  },
  "language_info": {
   "codemirror_mode": {
    "name": "ipython",
    "version": 3
   },
   "file_extension": ".py",
   "mimetype": "text/x-python",
   "name": "python",
   "nbconvert_exporter": "python",
   "pygments_lexer": "ipython3",
   "version": "3.5.2"
  }
 },
 "nbformat": 4,
 "nbformat_minor": 1
}
