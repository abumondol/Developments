{
 "cells": [
  {
   "cell_type": "code",
   "execution_count": null,
   "metadata": {
    "collapsed": true
   },
   "outputs": [],
   "source": [
    "import numpy as np\n",
    "import pickle\n",
    "import matplotlib.pyplot as plt\n",
    "%matplotlib inline"
   ]
  },
  {
   "cell_type": "code",
   "execution_count": null,
   "metadata": {
    "collapsed": false
   },
   "outputs": [],
   "source": [
    "path = \"C:\\\\ASM\\\\DevData\\\\eating\\\\python\\\\results\\\\res.pkl\"\n",
    "with open(path, \"rb\") as file:\n",
    "    res = pickle.load(file)\n",
    "\n",
    "path = \"C:\\\\ASM\\\\DevData\\\\eating\\\\python\\\\selected_min_points.pkl\"\n",
    "with open(path, \"rb\") as file:\n",
    "    mps = pickle.load(file)\n",
    "    "
   ]
  },
  {
   "cell_type": "code",
   "execution_count": null,
   "metadata": {
    "collapsed": false,
    "scrolled": false
   },
   "outputs": [],
   "source": [
    "########## Lab Performance #################\n",
    "path = \"C:\\\\ASM\\\\DevData\\\\eating\\\\python\\\\steven_lab_data.pkl\"\n",
    "with open(path, \"rb\") as file:\n",
    "    data = pickle.load(file) \n",
    "\n",
    "for subject in range(5):    \n",
    "    for sess in range(len(res[subject][\"lab\"])):        \n",
    "        print(\"\\nSubject {}, Session {}>>\".format(subject, sess))\n",
    "        r = res[subject][\"lab\"][sess]\n",
    "        mp = mps[5][subject+2][sess]\n",
    "        #print(len(data[subject+2][sess][1]))\n",
    "        annot = data[subject+2][sess][1]\n",
    "        \n",
    "        mp_count = len(mp)\n",
    "        annot_count = len(annot)\n",
    "        res_count = len(r)\n",
    "        detect_count = np.sum(r[:, 1]==1)        \n",
    "        \n",
    "        print(\"mp_count, res_count: {}, {}\".format(mp_count, res_count))\n",
    "        print(\"Original bite count, detected: {}, {}\".format(annot_count, detect_count))        \n",
    "    "
   ]
  },
  {
   "cell_type": "code",
   "execution_count": null,
   "metadata": {
    "collapsed": false,
    "scrolled": false
   },
   "outputs": [],
   "source": [
    "for subject in range(11):    \n",
    "    for sess in range(len(res[subject][\"free\"])):        \n",
    "        print(\"\\nSubject {}, Session {}>>\".format(subject, sess))\n",
    "        r = res[subject][\"free\"][sess]\n",
    "        mp = mps[3][subject][sess]\n",
    "        #print(len(data[subject+2][sess][1]))\n",
    "        annot = data[subject][sess][1]\n",
    "        \n",
    "        mp_count = len(mp)\n",
    "        annot_count = len(annot)\n",
    "        res_count = len(r)        \n",
    "        \n",
    "        print(\"mp_count, res_count: {}, {}\".format(mp_count, res_count))\n",
    "        print(\"annot_count: {}\".format(annot_count))        \n",
    "        \n",
    "        res_meals = find_meals(mp, r)\n",
    "        #print(annot*0.0625)\n",
    "        evaluate_result(annot, res_meals)\n",
    "        \n",
    "        flag = True\n",
    "        if flag:\n",
    "            continue\n",
    "        \n",
    "        fig = plt.figure(figsize=(14,10))\n",
    "        subplot = fig.add_subplot(111)        \n",
    "        subplot.scatter(mp[:, 0], r[:, 1], marker=\".\")\n",
    "        #subplot.plot(d[:, 2], label='Y')\n",
    "        #subplot.plot(d[:, 3], label='Z')\n",
    "        #subplot.legend()\n",
    "        \n",
    "        \n",
    "        for i in range(annot_count):            \n",
    "            ix1 = annot[i, 0]\n",
    "            ix2 = annot[i, 1]\n",
    "            meal_type = annot[i, 2]\n",
    "            \n",
    "            subplot.plot([ix1, ix1], [-5, 5], '--', c = 'b')\n",
    "            subplot.plot([ix2, ix2], [-5, 5], c = 'g')\n",
    "        \n",
    "        #plt.show()\n",
    "        plt.savefig(\"C:\\\\ASM\\\\DevData\\\\eating\\\\python\\\\figs2\\\\\"+str(subject)+\"_\"+str(sess)+\".png\")\n",
    "        "
   ]
  }
 ],
 "metadata": {
  "anaconda-cloud": {},
  "kernelspec": {
   "display_name": "Python [conda root]",
   "language": "python",
   "name": "conda-root-py"
  },
  "language_info": {
   "codemirror_mode": {
    "name": "ipython",
    "version": 3
   },
   "file_extension": ".py",
   "mimetype": "text/x-python",
   "name": "python",
   "nbconvert_exporter": "python",
   "pygments_lexer": "ipython3",
   "version": "3.5.2"
  }
 },
 "nbformat": 4,
 "nbformat_minor": 1
}
