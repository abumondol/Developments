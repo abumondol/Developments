{
 "cells": [
  {
   "cell_type": "code",
   "execution_count": 2,
   "metadata": {
    "collapsed": true
   },
   "outputs": [],
   "source": [
    "import numpy as np\n",
    "import pickle\n",
    "import os\n",
    "\n",
    "import matplotlib.pyplot as plt\n",
    "%matplotlib inline"
   ]
  },
  {
   "cell_type": "code",
   "execution_count": 37,
   "metadata": {
    "collapsed": true
   },
   "outputs": [],
   "source": [
    "def process_annots_uva(annots, accel):\n",
    "    #annots[:, 0] = time_to_index(accel, annots[:, 0])\n",
    "    annot_count = len(annots)\n",
    "    flags = np.ones((annot_count,))\n",
    "    for i in range(annot_count):\n",
    "        if 1 <= annots[i, 1] < 400:\n",
    "            annots[i, 1] = 1\n",
    "        elif 400 <= annots[i, 1] < 1000:\n",
    "            annots[i, 1] = 2\n",
    "        else:\n",
    "            print(\"XXXXXXX UVA annot Problem XXXXXXXXXXX\")\n",
    "            \n",
    "        if i>=1 and annots[i,0] - annots[i-1, 0]<=1:\n",
    "            flags[i] = 0 \n",
    "    \n",
    "    #print(np.sum(flags))\n",
    "    annots = annots[flags==1, :]\n",
    "    #annots = annots.astype(float)\n",
    "    return annots\n",
    "    \n",
    "\n",
    "def read_data_uva_lab():\n",
    "    print(\"Reading data UVA lab\")\n",
    "    path = 'C:\\\\ASM\\\\DevData\\\\eating\\\\our_data\\\\lab_data\\\\'\n",
    "    data = []\n",
    "    for i in range(35):        \n",
    "        accel = np.genfromtxt(path + \"accel_\"+str(i), delimiter=',')\n",
    "        #print(accel.shape)\n",
    "        #print(accel[:10, :])\n",
    "        print(\"\\nSession \", str(i), \" Before process >> Duration: \", str(accel[0, 0]), \" - \", str(accel[-1, 0]), \", Count: \"+str(len(accel)) )         \n",
    "        \n",
    "        \n",
    "        #accel = resample(accel, sampling_rate)\n",
    "        #print(accel[:10, :])\n",
    "        #accel[:, 1:] = smooth_data(accel[:, 1:], smooth_factor)\n",
    "        #print(\"Session \", str(i), \" After process >> Duration: \", str(accel[0, 0]), \" - \", str(accel[-1, 0]), \", Count: \"+str(len(accel)) )         \n",
    "        #print(accel[:10, :])\n",
    "          \n",
    "        annots = np.genfromtxt(path+\"annot_\"+str(i), delimiter=',') \n",
    "        annots = process_annots_uva(annots, accel)\n",
    "        print(\"Session \", str(i), \" Annots >> Duration: \", str(annots[0, 0]), \" - \", str(annots[-1, 0]), \", Count: \"+str(len(annots)) )         \n",
    "                \n",
    "        #print(annots[:10, :])\n",
    "        \n",
    "        dsess = [accel, annots]        \n",
    "        dsubject = [dsess]        \n",
    "        data.append(dsubject)\n",
    "        \n",
    "    \n",
    "    #dm.save_data(data, \"uva_lab_data\", \"data\")            \n",
    "    return data\n",
    "    "
   ]
  },
  {
   "cell_type": "code",
   "execution_count": 38,
   "metadata": {
    "collapsed": false
   },
   "outputs": [
    {
     "name": "stdout",
     "output_type": "stream",
     "text": [
      "Reading data UVA lab\n",
      "\n",
      "Session  0  Before process >> Duration:  0.0  -  2519.98784 , Count: 151894\n",
      "Session  0  Annots >> Duration:  103.2  -  2149.0 , Count: 102\n",
      "\n",
      "Session  1  Before process >> Duration:  0.0  -  2107.51442 , Count: 127874\n",
      "Session  1  Annots >> Duration:  131.7  -  2053.6 , Count: 115\n",
      "\n",
      "Session  2  Before process >> Duration:  0.0  -  2190.18375 , Count: 136694\n",
      "Session  2  Annots >> Duration:  135.7  -  2114.4 , Count: 81\n",
      "\n",
      "Session  3  Before process >> Duration:  0.0  -  2111.33028 , Count: 129059\n",
      "Session  3  Annots >> Duration:  57.7  -  2082.6 , Count: 75\n",
      "\n",
      "Session  4  Before process >> Duration:  0.0  -  2002.7103 , Count: 122886\n",
      "Session  4  Annots >> Duration:  79.1  -  1976.7 , Count: 126\n",
      "\n",
      "Session  5  Before process >> Duration:  0.0  -  2024.74561 , Count: 124080\n",
      "Session  5  Annots >> Duration:  52.8  -  2004.7 , Count: 151\n",
      "\n",
      "Session  6  Before process >> Duration:  0.0  -  2342.85 , Count: 145624\n",
      "Session  6  Annots >> Duration:  145.2  -  2271.3 , Count: 72\n",
      "\n",
      "Session  7  Before process >> Duration:  0.0  -  2124.7812 , Count: 130862\n",
      "Session  7  Annots >> Duration:  133.6  -  1793.1 , Count: 71\n",
      "\n",
      "Session  8  Before process >> Duration:  0.0  -  2039.04692 , Count: 126316\n",
      "Session  8  Annots >> Duration:  74.0  -  2010.5 , Count: 93\n",
      "\n",
      "Session  9  Before process >> Duration:  0.0  -  2268.45674 , Count: 138318\n",
      "Session  9  Annots >> Duration:  145.5  -  2095.5 , Count: 89\n",
      "\n",
      "Session  10  Before process >> Duration:  0.0  -  1974.62303 , Count: 121466\n",
      "Session  10  Annots >> Duration:  57.0  -  1831.1 , Count: 64\n",
      "\n",
      "Session  11  Before process >> Duration:  0.0  -  2093.16144 , Count: 127114\n",
      "Session  11  Annots >> Duration:  210.2  -  2014.1 , Count: 152\n",
      "\n",
      "Session  12  Before process >> Duration:  0.0  -  2080.66711 , Count: 127772\n",
      "Session  12  Annots >> Duration:  190.9  -  2026.4 , Count: 148\n",
      "\n",
      "Session  13  Before process >> Duration:  0.0  -  2143.68695 , Count: 132867\n",
      "Session  13  Annots >> Duration:  227.3  -  2091.7 , Count: 132\n",
      "\n",
      "Session  14  Before process >> Duration:  0.0  -  986.70544 , Count: 62924\n",
      "Session  14  Annots >> Duration:  18.0  -  974.6 , Count: 63\n",
      "\n",
      "Session  15  Before process >> Duration:  0.0  -  494.64496 , Count: 30977\n",
      "Session  15  Annots >> Duration:  35.3  -  454.5 , Count: 34\n",
      "\n",
      "Session  16  Before process >> Duration:  0.0  -  1159.74628 , Count: 74027\n",
      "Session  16  Annots >> Duration:  8.0  -  836.6 , Count: 47\n",
      "\n",
      "Session  17  Before process >> Duration:  0.0  -  750.45178 , Count: 46850\n",
      "Session  17  Annots >> Duration:  28.6  -  729.9 , Count: 55\n",
      "\n",
      "Session  18  Before process >> Duration:  0.0  -  1093.57324 , Count: 65805\n",
      "Session  18  Annots >> Duration:  33.1  -  636.4 , Count: 26\n",
      "\n",
      "Session  19  Before process >> Duration:  0.0  -  972.70899 , Count: 60045\n",
      "Session  19  Annots >> Duration:  17.5  -  916.7 , Count: 41\n",
      "\n",
      "Session  20  Before process >> Duration:  0.0  -  2979.65387 , Count: 183079\n",
      "Session  20  Annots >> Duration:  30.5  -  2939.9 , Count: 53\n",
      "\n",
      "Session  21  Before process >> Duration:  0.0  -  762.75269 , Count: 48684\n",
      "Session  21  Annots >> Duration:  16.5  -  753.2 , Count: 76\n",
      "\n",
      "Session  22  Before process >> Duration:  0.0  -  481.34348 , Count: 30010\n",
      "Session  22  Annots >> Duration:  20.0  -  454.5 , Count: 31\n",
      "\n",
      "Session  23  Before process >> Duration:  0.0  -  819.91122 , Count: 52129\n",
      "Session  23  Annots >> Duration:  16.8  -  807.2 , Count: 70\n",
      "\n",
      "Session  24  Before process >> Duration:  0.0  -  510.69824 , Count: 31978\n",
      "Session  24  Annots >> Duration:  15.6  -  487.6 , Count: 32\n",
      "\n",
      "Session  25  Before process >> Duration:  0.0  -  908.36389 , Count: 57799\n",
      "Session  25  Annots >> Duration:  17.0  -  891.9 , Count: 64\n",
      "\n",
      "Session  26  Before process >> Duration:  0.0  -  449.82248 , Count: 28099\n",
      "Session  26  Annots >> Duration:  29.3  -  422.0 , Count: 36\n",
      "\n",
      "Session  27  Before process >> Duration:  0.0  -  280.17062 , Count: 17588\n",
      "Session  27  Annots >> Duration:  15.7  -  260.8 , Count: 27\n",
      "\n",
      "Session  28  Before process >> Duration:  0.0  -  562.96516 , Count: 34811\n",
      "Session  28  Annots >> Duration:  31.9  -  536.0 , Count: 33\n",
      "\n",
      "Session  29  Before process >> Duration:  0.0  -  1114.92633 , Count: 71193\n",
      "Session  29  Annots >> Duration:  12.6  -  1099.3 , Count: 70\n",
      "\n",
      "Session  30  Before process >> Duration:  0.0  -  567.96233 , Count: 35036\n",
      "Session  30  Annots >> Duration:  17.5  -  540.9 , Count: 57\n",
      "\n",
      "Session  31  Before process >> Duration:  0.0  -  519.03874 , Count: 32571\n",
      "Session  31  Annots >> Duration:  38.6  -  503.2 , Count: 40\n",
      "\n",
      "Session  32  Before process >> Duration:  0.0  -  451.77249 , Count: 28335\n",
      "Session  32  Annots >> Duration:  58.5  -  443.0 , Count: 34\n",
      "\n",
      "Session  33  Before process >> Duration:  0.0  -  489.62161 , Count: 31297\n",
      "Session  33  Annots >> Duration:  16.1  -  481.0 , Count: 37\n",
      "\n",
      "Session  34  Before process >> Duration:  0.0  -  599.49402 , Count: 37507\n",
      "Session  34  Annots >> Duration:  10.7  -  573.2 , Count: 57\n"
     ]
    }
   ],
   "source": [
    "d = read_data_uva_lab()"
   ]
  },
  {
   "cell_type": "code",
   "execution_count": 46,
   "metadata": {
    "collapsed": false
   },
   "outputs": [
    {
     "name": "stdout",
     "output_type": "stream",
     "text": [
      "[[2519.98784], [2107.51442], [2190.18375], [2111.33028], [2002.7103], [2024.74561], [2342.85], [2124.7812], [2039.04692], [2268.45674], [1974.62303], [2093.16144], [2080.66711], [2143.68695], [986.70544], [494.64496], [1159.74628], [750.45178], [1093.57324], [972.70899], [2979.65387], [762.75269], [481.34348], [819.91122], [510.69824], [908.36389], [449.82248], [280.17062], [562.96516], [1114.92633], [567.96233], [519.03874], [451.77249], [489.62161], [599.49402]]\n",
      "22.371463547619047\n",
      "Total annots: 2454 1766 688\n"
     ]
    },
    {
     "data": {
      "text/plain": [
       "<matplotlib.text.Text at 0x173403c8>"
      ]
     },
     "execution_count": 46,
     "metadata": {},
     "output_type": "execute_result"
    },
    {
     "data": {
      "image/png": "[encoded data removed]",
      "text/plain": [
       "<matplotlib.figure.Figure at 0x25e5c128>"
      ]
     },
     "metadata": {},
     "output_type": "display_data"
    }
   ],
   "source": [
    "durations = []\n",
    "annots_all = np.empty((0, 2))\n",
    "all_diff = []\n",
    "for subject in range(len(d)):\n",
    "    subject_data = d[subject]\n",
    "    for sess in range(len(subject_data)):\n",
    "        accel = d[subject][sess][0]\n",
    "        durations.append([accel[-1,0]])\n",
    "        annots = d[subject][sess][1]\n",
    "        annots_all= np.concatenate((annots_all, annots))        \n",
    "        a = annots[:, 0]\n",
    "        diff = np.diff(a)\n",
    "        all_diff = np.concatenate((all_diff, diff))\n",
    "        \n",
    "print(durations)\n",
    "print(np.mean(durations)/60)\n",
    "a = annots_all        \n",
    "print(\"Total annots:\", len(a), len(a[a[:,1]==1, :]), len(a[a[:,1]==2, :]))\n",
    "\n",
    "all_diff = all_diff[all_diff<=10]\n",
    "\n",
    "fig, ax = plt.subplots()\n",
    "plt.hist(all_diff, bins=50)\n",
    "plt.xlim([0, 10])\n",
    "plt.xlabel('Interval between consecutive bites/sips (Seconds)')\n",
    "plt.ylabel('Count')\n",
    "        \n"
   ]
  },
  {
   "cell_type": "code",
   "execution_count": null,
   "metadata": {
    "collapsed": true
   },
   "outputs": [],
   "source": []
  }
 ],
 "metadata": {
  "anaconda-cloud": {},
  "kernelspec": {
   "display_name": "Python [conda root]",
   "language": "python",
   "name": "conda-root-py"
  },
  "language_info": {
   "codemirror_mode": {
    "name": "ipython",
    "version": 3
   },
   "file_extension": ".py",
   "mimetype": "text/x-python",
   "name": "python",
   "nbconvert_exporter": "python",
   "pygments_lexer": "ipython3",
   "version": "3.5.2"
  }
 },
 "nbformat": 4,
 "nbformat_minor": 1
}
