{
 "cells": [
  {
   "cell_type": "code",
   "execution_count": 7,
   "metadata": {
    "collapsed": false
   },
   "outputs": [],
   "source": [
    "import numpy as np\n",
    "import pickle\n",
    "import os\n",
    "import data_manager as dm"
   ]
  },
  {
   "cell_type": "code",
   "execution_count": 8,
   "metadata": {
    "collapsed": true
   },
   "outputs": [],
   "source": [
    "def resample(data, rate):\n",
    "    interval = 1/rate\n",
    "    duration = data[-1, 0]\n",
    "    ts = np.arange(0, duration, interval)    \n",
    "    count = len(ts)\n",
    "    #print(interval, \", \",count)\n",
    "    res = np.zeros((count-1, data.shape[1]))\n",
    "    \n",
    "    i = 0\n",
    "    j = 0\n",
    "    while i < count-1:\n",
    "        t = ts[i]\n",
    "        res[i, 0] = t        \n",
    "        t1 = data[j, 0]\n",
    "        t2 = data[j+1, 0]\n",
    "        \n",
    "        if t1 <= t < t2:\n",
    "            factor = (t - t1)/(t2-t1);\n",
    "            res[i, 1:] = (1-factor)*data[j, 1:]  + factor*data[j+1, 1:]\n",
    "            i+=1\n",
    "        \n",
    "        while not(data[j, 0] <= ts[i] < data[j+1, 0]):\n",
    "            j+=1   \n",
    "            \n",
    "    return res"
   ]
  },
  {
   "cell_type": "code",
   "execution_count": 17,
   "metadata": {
    "collapsed": true
   },
   "outputs": [],
   "source": [
    "def read_data_steven_free(position):\n",
    "    path = 'C:\\\\ASM\\\\PublicData\\\\PHI_ACE-E-FL_public\\\\'\n",
    "    subject_codes = [2, 3, 4, 5, 6, 101, 102, 103, 104, 107, 109]\n",
    "    sampling_rate = 16\n",
    "    \n",
    "    data_all = []\n",
    "    for subject in subject_codes:\n",
    "        data_subject = [];\n",
    "        sess_count = 2\n",
    "        if subject == 107:\n",
    "            sess_count = 5\n",
    "        \n",
    "        for sess in range(sess_count):\n",
    "            if subject < 10:\n",
    "                file_path = path + \"\\\\0\" + str(subject) + \"\\\\000\" + str(sess) + \"\\\\watch_\"+position+\"_000\" + str(sess) + \".csv\";                \n",
    "            elif subject == 109:\n",
    "                file_path = path + \"\\\\\" + str(subject) + \"\\\\000\" + str(sess+3) + \"\\\\watch_\"+position+\"_000\" + str(sess+3) + \".csv\";                \n",
    "            else:\n",
    "                file_path = path + \"\\\\\" + str(subject) + \"\\\\000\" + str(sess) + \"\\\\watch_\"+position+\"_000\" + str(sess) + \".csv\";\n",
    "                \n",
    "                \n",
    "            data = np.genfromtxt(file_path, delimiter=',')\n",
    "            data = data[:, :7]\n",
    "            data[:, 0] = data[:, 0]/1e9\n",
    "            print(\"\\n\\nSubject \", str(subject), \", Session \", str(sess), \" Before process >> Duration: \", str(data[0, 0]), \" - \", str(data[-1, 0]), \", Count: \"+str(len(data)), \", Sampling rate: \" + str(len(data)/data[-1, 0]))         \n",
    "            data = resample(data, sampling_rate)                        \n",
    "            print(\"Subject \", str(subject), \", Session \", str(sess), \" After process >> Duration: \", str(data[0, 0]), \" - \", str(data[-1, 0]), \", Count: \"+str(len(data)), \", Sampling rate: \" + str(len(data)/data[-1, 0]))         \n",
    "\n",
    "            data = data[:, 1:]\n",
    "            print(data.shape)\n",
    "            data_subject.append(data)        \n",
    "            \n",
    "        data_all.append(data_subject)\n",
    "    \n",
    "    return data_all\n",
    "    "
   ]
  },
  {
   "cell_type": "code",
   "execution_count": 18,
   "metadata": {
    "collapsed": false
   },
   "outputs": [
    {
     "name": "stdout",
     "output_type": "stream",
     "text": [
      "\n",
      "\n",
      "Subject  2 , Session  0  Before process >> Duration:  0.0  -  37720.4523654 , Count: 625128 , Sampling rate: 16.5726538469\n",
      "Subject  2 , Session  0  After process >> Duration:  0.0  -  37720.375 , Count: 603527 , Sampling rate: 16.0000265109\n",
      "(603527, 6)\n",
      "\n",
      "\n",
      "Subject  2 , Session  1  Before process >> Duration:  0.0  -  33380.6630536 , Count: 559858 , Sampling rate: 16.7719256835\n",
      "Subject  2 , Session  1  After process >> Duration:  0.0  -  33380.5625 , Count: 534090 , Sampling rate: 16.0000299576\n",
      "(534090, 6)\n",
      "\n",
      "\n",
      "Subject  3 , Session  0  Before process >> Duration:  0.0  -  36664.6356145 , Count: 584168 , Sampling rate: 15.9327370969\n",
      "Subject  3 , Session  0  After process >> Duration:  0.0  -  36664.5625 , Count: 586634 , Sampling rate: 16.0000272743\n",
      "(586634, 6)\n",
      "\n",
      "\n",
      "Subject  3 , Session  1  Before process >> Duration:  0.0  -  37076.9867288 , Count: 588543 , Sampling rate: 15.8735391391\n",
      "Subject  3 , Session  1  After process >> Duration:  0.0  -  37076.875 , Count: 593231 , Sampling rate: 16.000026971\n",
      "(593231, 6)\n",
      "\n",
      "\n",
      "Subject  4 , Session  0  Before process >> Duration:  0.0  -  38298.6424824 , Count: 602478 , Sampling rate: 15.7310536601\n",
      "Subject  4 , Session  0  After process >> Duration:  0.0  -  38298.5625 , Count: 612778 , Sampling rate: 16.0000261106\n",
      "(612778, 6)\n",
      "\n",
      "\n",
      "Subject  4 , Session  1  Before process >> Duration:  0.0  -  39735.9936225 , Count: 574563 , Sampling rate: 14.4595100719\n",
      "Subject  4 , Session  1  After process >> Duration:  0.0  -  39735.875 , Count: 635775 , Sampling rate: 16.0000251662\n",
      "(635775, 6)\n",
      "\n",
      "\n",
      "Subject  5 , Session  0  Before process >> Duration:  0.0  -  25196.497072 , Count: 389217 , Sampling rate: 15.4472662961\n",
      "Subject  5 , Session  0  After process >> Duration:  0.0  -  25196.375 , Count: 403143 , Sampling rate: 16.0000396882\n",
      "(403143, 6)\n",
      "\n",
      "\n",
      "Subject  5 , Session  1  Before process >> Duration:  0.0  -  28719.6761222 , Count: 477650 , Sampling rate: 16.6314549638\n",
      "Subject  5 , Session  1  After process >> Duration:  0.0  -  28719.5625 , Count: 459514 , Sampling rate: 16.0000348195\n",
      "(459514, 6)\n",
      "\n",
      "\n",
      "Subject  6 , Session  0  Before process >> Duration:  0.0  -  30691.5698668 , Count: 441933 , Sampling rate: 14.3991656966\n",
      "Subject  6 , Session  0  After process >> Duration:  0.0  -  30691.5 , Count: 491065 , Sampling rate: 16.0000325823\n",
      "(491065, 6)\n",
      "\n",
      "\n",
      "Subject  6 , Session  1  Before process >> Duration:  0.0  -  32498.1978835 , Count: 570139 , Sampling rate: 17.5437112557\n",
      "Subject  6 , Session  1  After process >> Duration:  0.0  -  32498.125 , Count: 519971 , Sampling rate: 16.000030771\n",
      "(519971, 6)\n",
      "\n",
      "\n",
      "Subject  101 , Session  0  Before process >> Duration:  0.0  -  15565.4884968 , Count: 222470 , Sampling rate: 14.2925164247\n",
      "Subject  101 , Session  0  After process >> Duration:  0.0  -  15565.375 , Count: 249047 , Sampling rate: 16.0000642452\n",
      "(249047, 6)\n",
      "\n",
      "\n",
      "Subject  101 , Session  1  Before process >> Duration:  0.0  -  31624.6604032 , Count: 452110 , Sampling rate: 14.2961218946\n",
      "Subject  101 , Session  1  After process >> Duration:  0.0  -  31624.5625 , Count: 505994 , Sampling rate: 16.000031621\n",
      "(505994, 6)\n",
      "\n",
      "\n",
      "Subject  102 , Session  0  Before process >> Duration:  0.0  -  37011.6031184 , Count: 529015 , Sampling rate: 14.2932203803\n",
      "Subject  102 , Session  0  After process >> Duration:  0.0  -  37011.5 , Count: 592185 , Sampling rate: 16.0000270186\n",
      "(592185, 6)\n",
      "\n",
      "\n",
      "Subject  102 , Session  1  Before process >> Duration:  0.0  -  27208.4585327 , Count: 388924 , Sampling rate: 14.2942313153\n",
      "Subject  102 , Session  1  After process >> Duration:  0.0  -  27208.375 , Count: 435335 , Sampling rate: 16.0000367534\n",
      "(435335, 6)\n",
      "\n",
      "\n",
      "Subject  103 , Session  0  Before process >> Duration:  0.0  -  20557.9922889 , Count: 293826 , Sampling rate: 14.2925435456\n",
      "Subject  103 , Session  0  After process >> Duration:  0.0  -  20557.875 , Count: 328927 , Sampling rate: 16.0000486432\n",
      "(328927, 6)\n",
      "\n",
      "\n",
      "Subject  103 , Session  1  Before process >> Duration:  0.0  -  49932.9435071 , Count: 714213 , Sampling rate: 14.3034427742\n",
      "Subject  103 , Session  1  After process >> Duration:  0.0  -  49932.875 , Count: 798927 , Sampling rate: 16.0000200269\n",
      "(798927, 6)\n",
      "\n",
      "\n",
      "Subject  104 , Session  0  Before process >> Duration:  0.0  -  38377.0036898 , Count: 548539 , Sampling rate: 14.293429587\n",
      "Subject  104 , Session  0  After process >> Duration:  0.0  -  38376.9375 , Count: 614032 , Sampling rate: 16.0000260573\n",
      "(614032, 6)\n",
      "\n",
      "\n",
      "Subject  104 , Session  1  Before process >> Duration:  0.0  -  40106.5961255 , Count: 572774 , Sampling rate: 14.2812917408\n",
      "Subject  104 , Session  1  After process >> Duration:  0.0  -  40106.5 , Count: 641705 , Sampling rate: 16.0000249336\n",
      "(641705, 6)\n",
      "\n",
      "\n",
      "Subject  107 , Session  0  Before process >> Duration:  0.0  -  33252.1015193 , Count: 475255 , Sampling rate: 14.2924801226\n",
      "Subject  107 , Session  0  After process >> Duration:  0.0  -  33252.0 , Count: 532033 , Sampling rate: 16.0000300734\n",
      "(532033, 6)\n",
      "\n",
      "\n",
      "Subject  107 , Session  1  Before process >> Duration:  0.0  -  34196.5050304 , Count: 489104 , Sampling rate: 14.3027481775\n",
      "Subject  107 , Session  1  After process >> Duration:  0.0  -  34196.4375 , Count: 547144 , Sampling rate: 16.0000292428\n",
      "(547144, 6)\n",
      "\n",
      "\n",
      "Subject  107 , Session  2  Before process >> Duration:  0.0  -  34244.222327 , Count: 489591 , Sampling rate: 14.2970395217\n",
      "Subject  107 , Session  2  After process >> Duration:  0.0  -  34244.125 , Count: 547907 , Sampling rate: 16.0000292021\n",
      "(547907, 6)\n",
      "\n",
      "\n",
      "Subject  107 , Session  3  Before process >> Duration:  0.0  -  35921.8076988 , Count: 513817 , Sampling rate: 14.3037623359\n",
      "Subject  107 , Session  3  After process >> Duration:  0.0  -  35921.6875 , Count: 574748 , Sampling rate: 16.0000278383\n",
      "(574748, 6)\n",
      "\n",
      "\n",
      "Subject  107 , Session  4  Before process >> Duration:  0.0  -  25377.7323711 , Count: 362826 , Sampling rate: 14.297022078\n",
      "Subject  107 , Session  4  After process >> Duration:  0.0  -  25377.625 , Count: 406043 , Sampling rate: 16.0000394048\n",
      "(406043, 6)\n",
      "\n",
      "\n",
      "Subject  109 , Session  0  Before process >> Duration:  0.0  -  34720.3164877 , Count: 496629 , Sampling rate: 14.3037002608\n",
      "Subject  109 , Session  0  After process >> Duration:  0.0  -  34720.25 , Count: 555525 , Sampling rate: 16.0000288016\n",
      "(555525, 6)\n",
      "\n",
      "\n",
      "Subject  109 , Session  1  Before process >> Duration:  0.0  -  41819.2466955 , Count: 597178 , Sampling rate: 14.2799798463\n",
      "Subject  109 , Session  1  After process >> Duration:  0.0  -  41819.125 , Count: 669107 , Sampling rate: 16.0000239125\n",
      "(669107, 6)\n"
     ]
    }
   ],
   "source": [
    "position = 'left'\n",
    "data = read_data_steven_free(position)\n",
    "with open(\"C:\\\\ASM\\\\DevData\\\\accel2gyro\\\\data\\\\steven_free\\\\steven_free_\"+position+\".pkl\", \"wb\") as file:\n",
    "    pickle.dump(data, file)"
   ]
  },
  {
   "cell_type": "code",
   "execution_count": 15,
   "metadata": {
    "collapsed": false
   },
   "outputs": [
    {
     "name": "stdout",
     "output_type": "stream",
     "text": [
      "610970\n"
     ]
    }
   ],
   "source": [
    "print(len(data[0][1]))"
   ]
  },
  {
   "cell_type": "code",
   "execution_count": null,
   "metadata": {
    "collapsed": true
   },
   "outputs": [],
   "source": []
  }
 ],
 "metadata": {
  "anaconda-cloud": {},
  "kernelspec": {
   "display_name": "Python [conda root]",
   "language": "python",
   "name": "conda-root-py"
  },
  "language_info": {
   "codemirror_mode": {
    "name": "ipython",
    "version": 3
   },
   "file_extension": ".py",
   "mimetype": "text/x-python",
   "name": "python",
   "nbconvert_exporter": "python",
   "pygments_lexer": "ipython3",
   "version": "3.5.2"
  }
 },
 "nbformat": 4,
 "nbformat_minor": 1
}
