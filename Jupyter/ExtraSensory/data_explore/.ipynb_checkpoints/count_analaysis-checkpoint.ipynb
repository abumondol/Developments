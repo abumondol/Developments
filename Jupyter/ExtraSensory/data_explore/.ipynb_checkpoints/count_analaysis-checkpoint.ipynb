{
 "cells": [
  {
   "cell_type": "code",
   "execution_count": 1,
   "metadata": {},
   "outputs": [],
   "source": [
    "import numpy as np\n",
    "import pickle\n",
    "import os\n",
    "import sys"
   ]
  },
  {
   "cell_type": "code",
   "execution_count": 4,
   "metadata": {},
   "outputs": [],
   "source": [
    "path = 'C:/ASM/DevData/extrasensory/data/'\n",
    "with open(path+'features_labels.pkl', 'rb') as file:\n",
    "    data = pickle.load(file)\n",
    "    \n",
    "with open(path+'features_labels_column_names.pkl', 'rb') as file:\n",
    "    columns = pickle.load(file)"
   ]
  },
  {
   "cell_type": "code",
   "execution_count": 6,
   "metadata": {},
   "outputs": [
    {
     "name": "stdout",
     "output_type": "stream",
     "text": [
      "60\n",
      "watch_acceleration:magnitude_autocorrelation:normalized_ac\n"
     ]
    }
   ],
   "source": [
    "subj_count = len(data)\n",
    "print(subj_count)\n",
    "print(columns[100])"
   ]
  },
  {
   "cell_type": "code",
   "execution_count": 16,
   "metadata": {},
   "outputs": [
    {
     "name": "stdout",
     "output_type": "stream",
     "text": [
      "377346.0 1600.0 11996.0 6289.1\n"
     ]
    }
   ],
   "source": [
    "l = np.zeros((subj_count, ))\n",
    "for i in range(subj_count):\n",
    "    l[i] =  data[i].shape[0]\n",
    "\n",
    "print(np.sum(l), np.min(l), np.max(l), np.mean(l))"
   ]
  },
  {
   "cell_type": "code",
   "execution_count": 11,
   "metadata": {},
   "outputs": [],
   "source": [
    "dist = np.zeros((0, ))\n",
    "for i in range(subj_count):\n",
    "    d = data[i][1:, 0] - data[i][:-1, 0]\n",
    "    dist = np.concatenate((dist, d))\n",
    "    \n",
    "        "
   ]
  },
  {
   "cell_type": "code",
   "execution_count": 23,
   "metadata": {},
   "outputs": [
    {
     "name": "stdout",
     "output_type": "stream",
     "text": [
      "362949\n",
      "0\n",
      "30\n",
      "2085\n",
      "9434\n",
      "19404\n",
      "30471\n",
      "292807\n",
      "332135\n",
      "345128\n",
      "356692\n",
      "363677\n",
      "366223\n",
      "368617\n",
      "370398\n",
      "371206\n",
      "371815\n",
      "372275\n",
      "372553\n",
      "372899\n",
      "373160\n",
      "373344\n",
      "373496\n",
      "373630\n",
      "373730\n",
      "373844\n",
      "373947\n",
      "374007\n",
      "374067\n",
      "374115\n",
      "374170\n",
      "375699\n",
      "375935\n",
      "375976\n",
      "375998\n",
      "376022\n",
      "376050\n",
      "376075\n",
      "376101\n",
      "376122\n",
      "376141\n",
      "376158\n",
      "376167\n",
      "376186\n",
      "376208\n",
      "376218\n",
      "376224\n",
      "376235\n",
      "376245\n",
      "376260\n",
      "376277\n",
      "376283\n",
      "376292\n",
      "376299\n",
      "376304\n",
      "376315\n",
      "376328\n",
      "376333\n",
      "376337\n",
      "376345\n",
      "376352\n",
      "376367\n",
      "376378\n",
      "376382\n",
      "376388\n",
      "376392\n",
      "376397\n",
      "376401\n",
      "376407\n",
      "376412\n",
      "376419\n",
      "376424\n",
      "376429\n",
      "376437\n",
      "376443\n",
      "376449\n",
      "376452\n",
      "376458\n",
      "376464\n",
      "376469\n",
      "376473\n",
      "376476\n",
      "376477\n",
      "376478\n",
      "376482\n",
      "376488\n",
      "376491\n",
      "376493\n",
      "376497\n",
      "376502\n",
      "376505\n",
      "376511\n",
      "376516\n",
      "376518\n",
      "376522\n",
      "376524\n",
      "376527\n",
      "376528\n",
      "376531\n",
      "376532\n",
      "376533\n"
     ]
    }
   ],
   "source": [
    "print(len(d))\n",
    "\n",
    "for i in range(0, 1000, 10):\n",
    "    print(i, np.sum(dist<=i))"
   ]
  },
  {
   "cell_type": "code",
   "execution_count": 22,
   "metadata": {},
   "outputs": [
    {
     "data": {
      "image/png": "[encoded data removed]",
      "text/plain": [
       "<matplotlib.figure.Figure at 0x1f6037b1048>"
      ]
     },
     "metadata": {},
     "output_type": "display_data"
    }
   ],
   "source": [
    "import matplotlib.pyplot as plt\n",
    "%matplotlib inline\n",
    "\n",
    "\n",
    "plt.hist(d, bins=100)\n",
    "plt.xlim([-1, 100])\n",
    "plt.show()"
   ]
  },
  {
   "cell_type": "code",
   "execution_count": null,
   "metadata": {},
   "outputs": [],
   "source": []
  }
 ],
 "metadata": {
  "kernelspec": {
   "display_name": "Python 3",
   "language": "python",
   "name": "python3"
  },
  "language_info": {
   "codemirror_mode": {
    "name": "ipython",
    "version": 3
   },
   "file_extension": ".py",
   "mimetype": "text/x-python",
   "name": "python",
   "nbconvert_exporter": "python",
   "pygments_lexer": "ipython3",
   "version": "3.6.4"
  }
 },
 "nbformat": 4,
 "nbformat_minor": 2
}
