{
 "cells": [
  {
   "cell_type": "code",
   "execution_count": 1,
   "metadata": {},
   "outputs": [],
   "source": [
    "import numpy as np\n",
    "import pickle\n",
    "import os\n",
    "import sys"
   ]
  },
  {
   "cell_type": "code",
   "execution_count": 4,
   "metadata": {},
   "outputs": [],
   "source": [
    "path = 'C:/ASM/DevData/extrasensory/data/'\n",
    "with open(path+'features_labels.pkl', 'rb') as file:\n",
    "    data = pickle.load(file)\n",
    "    \n",
    "with open(path+'features_labels_column_names.pkl', 'rb') as file:\n",
    "    columns = pickle.load(file)"
   ]
  },
  {
   "cell_type": "code",
   "execution_count": 6,
   "metadata": {},
   "outputs": [
    {
     "name": "stdout",
     "output_type": "stream",
     "text": [
      "60\n",
      "watch_acceleration:magnitude_autocorrelation:normalized_ac\n"
     ]
    }
   ],
   "source": [
    "subj_count = len(data)\n",
    "print(subj_count)\n",
    "print(columns[100])"
   ]
  },
  {
   "cell_type": "code",
   "execution_count": 16,
   "metadata": {},
   "outputs": [
    {
     "name": "stdout",
     "output_type": "stream",
     "text": [
      "377346.0 1600.0 11996.0 6289.1\n"
     ]
    }
   ],
   "source": [
    "l = np.zeros((subj_count, ))\n",
    "for i in range(subj_count):\n",
    "    l[i] =  data[i].shape[0]\n",
    "\n",
    "print(np.sum(l), np.min(l), np.max(l), np.mean(l))"
   ]
  },
  {
   "cell_type": "code",
   "execution_count": 11,
   "metadata": {},
   "outputs": [],
   "source": [
    "dist = np.zeros((0, ))\n",
    "for i in range(subj_count):\n",
    "    d = data[i][1:, 0] - data[i][:-1, 0]\n",
    "    dist = np.concatenate((dist, d))\n",
    "    \n",
    "        "
   ]
  },
  {
   "cell_type": "code",
   "execution_count": 25,
   "metadata": {},
   "outputs": [
    {
     "name": "stdout",
     "output_type": "stream",
     "text": [
      "377286\n",
      "0 0\n",
      "10 30\n",
      "20 2085\n",
      "30 9434\n",
      "40 19404\n",
      "50 30471\n",
      "60 292807\n",
      "70 332135\n",
      "80 345128\n",
      "90 356692\n",
      "100 363677\n",
      "110 366223\n",
      "120 368617\n",
      "130 370398\n",
      "140 371206\n",
      "150 371815\n",
      "160 372275\n",
      "170 372553\n",
      "180 372899\n",
      "190 373160\n",
      "200 373344\n",
      "210 373496\n",
      "220 373630\n",
      "230 373730\n",
      "240 373844\n",
      "250 373947\n",
      "260 374007\n",
      "270 374067\n",
      "280 374115\n",
      "290 374170\n",
      "300 375699\n",
      "310 375935\n",
      "320 375976\n",
      "330 375998\n",
      "340 376022\n",
      "350 376050\n",
      "360 376075\n",
      "370 376101\n",
      "380 376122\n",
      "390 376141\n",
      "400 376158\n",
      "410 376167\n",
      "420 376186\n",
      "430 376208\n",
      "440 376218\n",
      "450 376224\n",
      "460 376235\n",
      "470 376245\n",
      "480 376260\n",
      "490 376277\n",
      "500 376283\n",
      "510 376292\n",
      "520 376299\n",
      "530 376304\n",
      "540 376315\n",
      "550 376328\n",
      "560 376333\n",
      "570 376337\n",
      "580 376345\n",
      "590 376352\n",
      "600 376367\n",
      "610 376378\n",
      "620 376382\n",
      "630 376388\n",
      "640 376392\n",
      "650 376397\n",
      "660 376401\n",
      "670 376407\n",
      "680 376412\n",
      "690 376419\n",
      "700 376424\n",
      "710 376429\n",
      "720 376437\n",
      "730 376443\n",
      "740 376449\n",
      "750 376452\n",
      "760 376458\n",
      "770 376464\n",
      "780 376469\n",
      "790 376473\n",
      "800 376476\n",
      "810 376477\n",
      "820 376478\n",
      "830 376482\n",
      "840 376488\n",
      "850 376491\n",
      "860 376493\n",
      "870 376497\n",
      "880 376502\n",
      "890 376505\n",
      "900 376511\n",
      "910 376516\n",
      "920 376518\n",
      "930 376522\n",
      "940 376524\n",
      "950 376527\n",
      "960 376528\n",
      "970 376531\n",
      "980 376532\n",
      "990 376533\n"
     ]
    }
   ],
   "source": [
    "print(len(dist))\n",
    "\n",
    "for i in range(0, 1000, 10):\n",
    "    print(i, np.sum(dist<=i))"
   ]
  },
  {
   "cell_type": "code",
   "execution_count": 22,
   "metadata": {},
   "outputs": [
    {
     "data": {
      "image/png": "[encoded data removed]",
      "text/plain": [
       "<matplotlib.figure.Figure at 0x1f6037b1048>"
      ]
     },
     "metadata": {},
     "output_type": "display_data"
    }
   ],
   "source": [
    "import matplotlib.pyplot as plt\n",
    "%matplotlib inline\n",
    "\n",
    "\n",
    "plt.hist(d, bins=100)\n",
    "plt.xlim([-1, 100])\n",
    "plt.show()"
   ]
  },
  {
   "cell_type": "code",
   "execution_count": null,
   "metadata": {},
   "outputs": [],
   "source": []
  }
 ],
 "metadata": {
  "kernelspec": {
   "display_name": "Python 3",
   "language": "python",
   "name": "python3"
  },
  "language_info": {
   "codemirror_mode": {
    "name": "ipython",
    "version": 3
   },
   "file_extension": ".py",
   "mimetype": "text/x-python",
   "name": "python",
   "nbconvert_exporter": "python",
   "pygments_lexer": "ipython3",
   "version": "3.6.4"
  }
 },
 "nbformat": 4,
 "nbformat_minor": 2
}
