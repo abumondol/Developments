{
 "cells": [
  {
   "cell_type": "code",
   "execution_count": 1,
   "metadata": {},
   "outputs": [],
   "source": [
    "import numpy as np\n",
    "import shutil\n",
    "import gzip\n",
    "import os"
   ]
  },
  {
   "cell_type": "code",
   "execution_count": 5,
   "metadata": {},
   "outputs": [
    {
     "name": "stdout",
     "output_type": "stream",
     "text": [
      "total files:  60\n"
     ]
    }
   ],
   "source": [
    "src_folder = \"C:/ASM/PublicData/extrasensory/ExtraSensory.per_uuid_features_labels\"\n",
    "dest_folder = \"C:/ASM/PublicData/extrasensory/per_uuid_features_labels_extracted\"\n",
    "\n",
    "if not os.path.exists(dest_folder):\n",
    "    os.makedirs(dest_folder)\n",
    "\n",
    "file_list = os.listdir(src_folder)\n",
    "print(\"total files: \", len(file_list))\n",
    "#print(file_list)\n",
    "\n",
    "for file in file_list:\n",
    "    with gzip.open(src_folder + '/' + file, 'rb') as f_in:\n",
    "        file = file.replace(\".gz\", \"\")        \n",
    "        with open(dest_folder + '/'+ file, 'wb') as f_out:\n",
    "            shutil.copyfileobj(f_in, f_out)\n",
    "        "
   ]
  },
  {
   "cell_type": "code",
   "execution_count": 2,
   "metadata": {},
   "outputs": [
    {
     "name": "stdout",
     "output_type": "stream",
     "text": [
      "total files:  60\n"
     ]
    }
   ],
   "source": [
    "src_folder = \"C:/ASM/PublicData/extrasensory/ExtraSensory.per_uuid_original_labels\"\n",
    "dest_folder = \"C:/ASM/PublicData/extrasensory/per_uuid_original_labels_extracted\"\n",
    "\n",
    "if not os.path.exists(dest_folder):\n",
    "    os.makedirs(dest_folder)\n",
    "\n",
    "file_list = os.listdir(src_folder)\n",
    "print(\"total files: \", len(file_list))\n",
    "#print(file_list)\n",
    "\n",
    "for file in file_list:\n",
    "    with gzip.open(src_folder + '/' + file, 'rb') as f_in:\n",
    "        file = file.replace(\".gz\", \"\")        \n",
    "        with open(dest_folder + '/'+ file, 'wb') as f_out:\n",
    "            shutil.copyfileobj(f_in, f_out)\n",
    "        "
   ]
  },
  {
   "cell_type": "code",
   "execution_count": null,
   "metadata": {},
   "outputs": [],
   "source": []
  }
 ],
 "metadata": {
  "kernelspec": {
   "display_name": "Python 3",
   "language": "python",
   "name": "python3"
  },
  "language_info": {
   "codemirror_mode": {
    "name": "ipython",
    "version": 3
   },
   "file_extension": ".py",
   "mimetype": "text/x-python",
   "name": "python",
   "nbconvert_exporter": "python",
   "pygments_lexer": "ipython3",
   "version": "3.6.4"
  }
 },
 "nbformat": 4,
 "nbformat_minor": 2
}
