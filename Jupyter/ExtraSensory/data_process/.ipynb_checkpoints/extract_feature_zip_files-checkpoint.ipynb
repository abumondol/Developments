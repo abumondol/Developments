{
 "cells": [
  {
   "cell_type": "code",
   "execution_count": 1,
   "metadata": {},
   "outputs": [],
   "source": [
    "import numpy as np\n",
    "import shutil\n",
    "import gzip\n",
    "import os"
   ]
  },
  {
   "cell_type": "code",
   "execution_count": 2,
   "metadata": {},
   "outputs": [
    {
     "name": "stdout",
     "output_type": "stream",
     "text": [
      "total files:  60\n",
      "0 00EABED2-271D-49D8-B599-1D4A09240601\n",
      "1 098A72A5-E3E5-4F54-A152-BBDA0DF7B694\n",
      "2 0A986513-7828-4D53-AA1F-E02D6DF9561B\n",
      "3 0BFC35E2-4817-4865-BFA7-764742302A2D\n",
      "4 0E6184E1-90C0-48EE-B25A-F1ECB7B9714E\n",
      "5 1155FF54-63D3-4AB2-9863-8385D0BD0A13\n",
      "6 11B5EC4D-4133-4289-B475-4E737182A406\n",
      "7 136562B6-95B2-483D-88DC-065F28409FD2\n",
      "8 1538C99F-BA1E-4EFB-A949-6C7C47701B20\n",
      "9 1DBB0F6F-1F81-4A50-9DF4-CD62ACFA4842\n",
      "10 24E40C4C-A349-4F9F-93AB-01D00FB994AF\n",
      "11 27E04243-B138-4F40-A164-F40B60165CF3\n",
      "12 2C32C23E-E30C-498A-8DD2-0EFB9150A02E\n",
      "13 33A85C34-CFE4-4732-9E73-0A7AC861B27A\n",
      "14 3600D531-0C55-44A7-AE95-A7A38519464E\n",
      "15 40E170A7-607B-4578-AF04-F021C3B0384A\n",
      "16 481F4DD2-7689-43B9-A2AA-C8772227162B\n",
      "17 4E98F91F-4654-42EF-B908-A3389443F2E7\n",
      "18 4FC32141-E888-4BFF-8804-12559A491D8C\n",
      "19 5119D0F8-FCA8-4184-A4EB-19421A40DE0D\n",
      "20 5152A2DF-FAF3-4BA8-9CA9-E66B32671A53\n",
      "21 59818CD2-24D7-4D32-B133-24C2FE3801E5\n",
      "22 59EEFAE0-DEB0-4FFF-9250-54D2A03D0CF2\n",
      "23 5EF64122-B513-46AE-BCF1-E62AAC285D2C\n",
      "24 61359772-D8D8-480D-B623-7C636EAD0C81\n",
      "25 61976C24-1C50-4355-9C49-AAE44A7D09F6\n",
      "26 665514DE-49DC-421F-8DCB-145D0B2609AD\n",
      "27 74B86067-5D4B-43CF-82CF-341B76BEA0F4\n",
      "28 78A91A4E-4A51-4065-BDA7-94755F0BB3BB\n",
      "29 797D145F-3858-4A7F-A7C2-A4EB721E133C\n",
      "30 7CE37510-56D0-4120-A1CF-0E23351428D2\n",
      "31 7D9BB102-A612-4E2A-8E22-3159752F55D8\n",
      "32 8023FE1A-D3B0-4E2C-A57A-9321B7FC755F\n",
      "33 806289BC-AD52-4CC1-806C-0CDB14D65EB6\n",
      "34 81536B0A-8DBF-4D8A-AC24-9543E2E4C8E0\n",
      "35 83CF687B-7CEC-434B-9FE8-00C3D5799BE6\n",
      "36 86A4F379-B305-473D-9D83-FC7D800180EF\n",
      "37 96A358A0-FFF2-4239-B93E-C7425B901B47\n",
      "38 9759096F-1119-4E19-A0AD-6F16989C7E1C\n",
      "39 99B204C0-DD5C-4BB7-83E8-A37281B8D769\n",
      "40 9DC38D04-E82E-4F29-AB52-B476535226F2\n",
      "41 A5A30F76-581E-4757-97A2-957553A2C6AA\n",
      "42 A5CDF89D-02A2-4EC1-89F8-F534FDABDD96\n",
      "43 A7599A50-24AE-46A6-8EA6-2576F1011D81\n",
      "44 A76A5AF5-5A93-4CF2-A16E-62353BB70E8A\n",
      "45 B09E373F-8A54-44C8-895B-0039390B859F\n",
      "46 B7F9D634-263E-4A97-87F9-6FFB4DDCB36C\n",
      "47 B9724848-C7E2-45F4-9B3F-A1F38D864495\n",
      "48 BE3CA5A6-A561-4BBD-B7C9-5DF6805400FC\n",
      "49 BEF6C611-50DA-4971-A040-87FB979F3FC1\n",
      "50 C48CE857-A0DD-4DDB-BEA5-3A25449B2153\n",
      "51 CA820D43-E5E2-42EF-9798-BE56F776370B\n",
      "52 CCAF77F0-FABB-4F2F-9E24-D56AD0C5A82F\n",
      "53 CDA3BBF7-6631-45E8-85BA-EEB416B32A3C\n",
      "54 CF722AA9-2533-4E51-9FEB-9EAC84EE9AAC\n",
      "55 D7D20E2E-FC78-405D-B346-DBD3FD8FC92B\n",
      "56 E65577C1-8D5D-4F70-AF23-B3ADB9D3DBA3\n",
      "57 ECECC2AB-D32F-4F90-B74C-E12A1C69BBE2\n",
      "58 F50235E0-DD67-4F2A-B00B-1F31ADA998B9\n",
      "59 FDAA70A1-42A3-4E3F-9AE3-3FDA412E03BF\n"
     ]
    }
   ],
   "source": [
    "src_folder = \"C:/ASM/PublicData/extrasensory/ExtraSensory.per_uuid_features_labels\"\n",
    "dest_folder = \"C:/ASM/PublicData/extrasensory/per_uuid_features_labels_extracted\"\n",
    "\n",
    "if not os.path.exists(dest_folder):\n",
    "    os.makedirs(dest_folder)\n",
    "\n",
    "file_list = os.listdir(src_folder)\n",
    "print(\"total files: \", len(file_list))\n",
    "#print(file_list)\n",
    "\n",
    "for file in file_list:\n",
    "    with gzip.open(src_folder + '/' + file, 'rb') as f_in:\n",
    "        file = file.replace(\".gz\", \"\")        \n",
    "        with open(dest_folder + '/'+ file, 'wb') as f_out:\n",
    "            shutil.copyfileobj(f_in, f_out)\n",
    "        "
   ]
  },
  {
   "cell_type": "code",
   "execution_count": 3,
   "metadata": {},
   "outputs": [
    {
     "name": "stdout",
     "output_type": "stream",
     "text": [
      "60\n"
     ]
    }
   ],
   "source": [
    "print(len(uuids))\n",
    "s = \"\\n\".join(uuids)\n",
    "with open('C:/ASM/DevData/extrasensory/data/uuid_list.csv', 'w') as f:\n",
    "    f.write(s)"
   ]
  },
  {
   "cell_type": "code",
   "execution_count": null,
   "metadata": {},
   "outputs": [],
   "source": []
  },
  {
   "cell_type": "code",
   "execution_count": null,
   "metadata": {},
   "outputs": [],
   "source": []
  }
 ],
 "metadata": {
  "kernelspec": {
   "display_name": "Python 3",
   "language": "python",
   "name": "python3"
  },
  "language_info": {
   "codemirror_mode": {
    "name": "ipython",
    "version": 3
   },
   "file_extension": ".py",
   "mimetype": "text/x-python",
   "name": "python",
   "nbconvert_exporter": "python",
   "pygments_lexer": "ipython3",
   "version": "3.6.4"
  }
 },
 "nbformat": 4,
 "nbformat_minor": 2
}
