{
 "cells": [
  {
   "cell_type": "code",
   "execution_count": 1,
   "metadata": {},
   "outputs": [],
   "source": [
    "import numpy as np\n",
    "import os\n",
    "import pickle"
   ]
  },
  {
   "cell_type": "code",
   "execution_count": 3,
   "metadata": {},
   "outputs": [
    {
     "name": "stdout",
     "output_type": "stream",
     "text": [
      "Column counts:  278\n",
      "Column counts:  118\n"
     ]
    }
   ],
   "source": [
    "src_folder = \"C:/ASM/PublicData/extrasensory/per_uuid_features_labels\"\n",
    "src_folder_original_labels = \"C:/ASM/PublicData/extrasensory/per_uuid_original_labels\"\n",
    "dest_folder = \"C:/ASM/DevData/extrasensory/data\"\n",
    "\n",
    "if not os.path.exists(dest_folder):\n",
    "    os.makedirs(dest_folder)\n",
    "\n",
    "s='timestamp,raw_acc:magnitude_stats:mean,raw_acc:magnitude_stats:std,raw_acc:magnitude_stats:moment3,raw_acc:magnitude_stats:moment4,raw_acc:magnitude_stats:percentile25,raw_acc:magnitude_stats:percentile50,raw_acc:magnitude_stats:percentile75,raw_acc:magnitude_stats:value_entropy,raw_acc:magnitude_stats:time_entropy,raw_acc:magnitude_spectrum:log_energy_band0,raw_acc:magnitude_spectrum:log_energy_band1,raw_acc:magnitude_spectrum:log_energy_band2,raw_acc:magnitude_spectrum:log_energy_band3,raw_acc:magnitude_spectrum:log_energy_band4,raw_acc:magnitude_spectrum:spectral_entropy,raw_acc:magnitude_autocorrelation:period,raw_acc:magnitude_autocorrelation:normalized_ac,raw_acc:3d:mean_x,raw_acc:3d:mean_y,raw_acc:3d:mean_z,raw_acc:3d:std_x,raw_acc:3d:std_y,raw_acc:3d:std_z,raw_acc:3d:ro_xy,raw_acc:3d:ro_xz,raw_acc:3d:ro_yz,proc_gyro:magnitude_stats:mean,proc_gyro:magnitude_stats:std,proc_gyro:magnitude_stats:moment3,proc_gyro:magnitude_stats:moment4,proc_gyro:magnitude_stats:percentile25,proc_gyro:magnitude_stats:percentile50,proc_gyro:magnitude_stats:percentile75,proc_gyro:magnitude_stats:value_entropy,proc_gyro:magnitude_stats:time_entropy,proc_gyro:magnitude_spectrum:log_energy_band0,proc_gyro:magnitude_spectrum:log_energy_band1,proc_gyro:magnitude_spectrum:log_energy_band2,proc_gyro:magnitude_spectrum:log_energy_band3,proc_gyro:magnitude_spectrum:log_energy_band4,proc_gyro:magnitude_spectrum:spectral_entropy,proc_gyro:magnitude_autocorrelation:period,proc_gyro:magnitude_autocorrelation:normalized_ac,proc_gyro:3d:mean_x,proc_gyro:3d:mean_y,proc_gyro:3d:mean_z,proc_gyro:3d:std_x,proc_gyro:3d:std_y,proc_gyro:3d:std_z,proc_gyro:3d:ro_xy,proc_gyro:3d:ro_xz,proc_gyro:3d:ro_yz,raw_magnet:magnitude_stats:mean,raw_magnet:magnitude_stats:std,raw_magnet:magnitude_stats:moment3,raw_magnet:magnitude_stats:moment4,raw_magnet:magnitude_stats:percentile25,raw_magnet:magnitude_stats:percentile50,raw_magnet:magnitude_stats:percentile75,raw_magnet:magnitude_stats:value_entropy,raw_magnet:magnitude_stats:time_entropy,raw_magnet:magnitude_spectrum:log_energy_band0,raw_magnet:magnitude_spectrum:log_energy_band1,raw_magnet:magnitude_spectrum:log_energy_band2,raw_magnet:magnitude_spectrum:log_energy_band3,raw_magnet:magnitude_spectrum:log_energy_band4,raw_magnet:magnitude_spectrum:spectral_entropy,raw_magnet:magnitude_autocorrelation:period,raw_magnet:magnitude_autocorrelation:normalized_ac,raw_magnet:3d:mean_x,raw_magnet:3d:mean_y,raw_magnet:3d:mean_z,raw_magnet:3d:std_x,raw_magnet:3d:std_y,raw_magnet:3d:std_z,raw_magnet:3d:ro_xy,raw_magnet:3d:ro_xz,raw_magnet:3d:ro_yz,raw_magnet:avr_cosine_similarity_lag_range0,raw_magnet:avr_cosine_similarity_lag_range1,raw_magnet:avr_cosine_similarity_lag_range2,raw_magnet:avr_cosine_similarity_lag_range3,raw_magnet:avr_cosine_similarity_lag_range4,watch_acceleration:magnitude_stats:mean,watch_acceleration:magnitude_stats:std,watch_acceleration:magnitude_stats:moment3,watch_acceleration:magnitude_stats:moment4,watch_acceleration:magnitude_stats:percentile25,watch_acceleration:magnitude_stats:percentile50,watch_acceleration:magnitude_stats:percentile75,watch_acceleration:magnitude_stats:value_entropy,watch_acceleration:magnitude_stats:time_entropy,watch_acceleration:magnitude_spectrum:log_energy_band0,watch_acceleration:magnitude_spectrum:log_energy_band1,watch_acceleration:magnitude_spectrum:log_energy_band2,watch_acceleration:magnitude_spectrum:log_energy_band3,watch_acceleration:magnitude_spectrum:log_energy_band4,watch_acceleration:magnitude_spectrum:spectral_entropy,watch_acceleration:magnitude_autocorrelation:period,watch_acceleration:magnitude_autocorrelation:normalized_ac,watch_acceleration:3d:mean_x,watch_acceleration:3d:mean_y,watch_acceleration:3d:mean_z,watch_acceleration:3d:std_x,watch_acceleration:3d:std_y,watch_acceleration:3d:std_z,watch_acceleration:3d:ro_xy,watch_acceleration:3d:ro_xz,watch_acceleration:3d:ro_yz,watch_acceleration:spectrum:x_log_energy_band0,watch_acceleration:spectrum:x_log_energy_band1,watch_acceleration:spectrum:x_log_energy_band2,watch_acceleration:spectrum:x_log_energy_band3,watch_acceleration:spectrum:x_log_energy_band4,watch_acceleration:spectrum:y_log_energy_band0,watch_acceleration:spectrum:y_log_energy_band1,watch_acceleration:spectrum:y_log_energy_band2,watch_acceleration:spectrum:y_log_energy_band3,watch_acceleration:spectrum:y_log_energy_band4,watch_acceleration:spectrum:z_log_energy_band0,watch_acceleration:spectrum:z_log_energy_band1,watch_acceleration:spectrum:z_log_energy_band2,watch_acceleration:spectrum:z_log_energy_band3,watch_acceleration:spectrum:z_log_energy_band4,watch_acceleration:relative_directions:avr_cosine_similarity_lag_range0,watch_acceleration:relative_directions:avr_cosine_similarity_lag_range1,watch_acceleration:relative_directions:avr_cosine_similarity_lag_range2,watch_acceleration:relative_directions:avr_cosine_similarity_lag_range3,watch_acceleration:relative_directions:avr_cosine_similarity_lag_range4,watch_heading:mean_cos,watch_heading:std_cos,watch_heading:mom3_cos,watch_heading:mom4_cos,watch_heading:mean_sin,watch_heading:std_sin,watch_heading:mom3_sin,watch_heading:mom4_sin,watch_heading:entropy_8bins,location:num_valid_updates,location:log_latitude_range,location:log_longitude_range,location:min_altitude,location:max_altitude,location:min_speed,location:max_speed,location:best_horizontal_accuracy,location:best_vertical_accuracy,location:diameter,location:log_diameter,location_quick_features:std_lat,location_quick_features:std_long,location_quick_features:lat_change,location_quick_features:long_change,location_quick_features:mean_abs_lat_deriv,location_quick_features:mean_abs_long_deriv,audio_naive:mfcc0:mean,audio_naive:mfcc1:mean,audio_naive:mfcc2:mean,audio_naive:mfcc3:mean,audio_naive:mfcc4:mean,audio_naive:mfcc5:mean,audio_naive:mfcc6:mean,audio_naive:mfcc7:mean,audio_naive:mfcc8:mean,audio_naive:mfcc9:mean,audio_naive:mfcc10:mean,audio_naive:mfcc11:mean,audio_naive:mfcc12:mean,audio_naive:mfcc0:std,audio_naive:mfcc1:std,audio_naive:mfcc2:std,audio_naive:mfcc3:std,audio_naive:mfcc4:std,audio_naive:mfcc5:std,audio_naive:mfcc6:std,audio_naive:mfcc7:std,audio_naive:mfcc8:std,audio_naive:mfcc9:std,audio_naive:mfcc10:std,audio_naive:mfcc11:std,audio_naive:mfcc12:std,audio_properties:max_abs_value,audio_properties:normalization_multiplier,discrete:app_state:is_active,discrete:app_state:is_inactive,discrete:app_state:is_background,discrete:app_state:missing,discrete:battery_plugged:is_ac,discrete:battery_plugged:is_usb,discrete:battery_plugged:is_wireless,discrete:battery_plugged:missing,discrete:battery_state:is_unknown,discrete:battery_state:is_unplugged,discrete:battery_state:is_not_charging,discrete:battery_state:is_discharging,discrete:battery_state:is_charging,discrete:battery_state:is_full,discrete:battery_state:missing,discrete:on_the_phone:is_False,discrete:on_the_phone:is_True,discrete:on_the_phone:missing,discrete:ringer_mode:is_normal,discrete:ringer_mode:is_silent_no_vibrate,discrete:ringer_mode:is_silent_with_vibrate,discrete:ringer_mode:missing,discrete:wifi_status:is_not_reachable,discrete:wifi_status:is_reachable_via_wifi,discrete:wifi_status:is_reachable_via_wwan,discrete:wifi_status:missing,lf_measurements:light,lf_measurements:pressure,lf_measurements:proximity_cm,lf_measurements:proximity,lf_measurements:relative_humidity,lf_measurements:battery_level,lf_measurements:screen_brightness,lf_measurements:temperature_ambient,discrete:time_of_day:between0and6,discrete:time_of_day:between3and9,discrete:time_of_day:between6and12,discrete:time_of_day:between9and15,discrete:time_of_day:between12and18,discrete:time_of_day:between15and21,discrete:time_of_day:between18and24,discrete:time_of_day:between21and3,label:LYING_DOWN,label:SITTING,label:FIX_walking,label:FIX_running,label:BICYCLING,label:SLEEPING,label:LAB_WORK,label:IN_CLASS,label:IN_A_MEETING,label:LOC_main_workplace,label:OR_indoors,label:OR_outside,label:IN_A_CAR,label:ON_A_BUS,label:DRIVE_-_I_M_THE_DRIVER,label:DRIVE_-_I_M_A_PASSENGER,label:LOC_home,label:FIX_restaurant,label:PHONE_IN_POCKET,label:OR_exercise,label:COOKING,label:SHOPPING,label:STROLLING,label:DRINKING__ALCOHOL_,label:BATHING_-_SHOWER,label:CLEANING,label:DOING_LAUNDRY,label:WASHING_DISHES,label:WATCHING_TV,label:SURFING_THE_INTERNET,label:AT_A_PARTY,label:AT_A_BAR,label:LOC_beach,label:SINGING,label:TALKING,label:COMPUTER_WORK,label:EATING,label:TOILET,label:GROOMING,label:DRESSING,label:AT_THE_GYM,label:STAIRS_-_GOING_UP,label:STAIRS_-_GOING_DOWN,label:ELEVATOR,label:OR_standing,label:AT_SCHOOL,label:PHONE_IN_HAND,label:PHONE_IN_BAG,label:PHONE_ON_TABLE,label:WITH_CO-WORKERS,label:WITH_FRIENDS,label_source'\n",
    "columns = s.split(\",\")\n",
    "column_count = len(columns)\n",
    "print(\"Column counts: \", column_count)\n",
    "\n",
    "with open(dest_folder+'/features_labels_column_names.pkl', 'wb') as f:\n",
    "    pickle.dump(columns, f)\n",
    "\n",
    "s = 'timestamp,original_label:LYING_DOWN,original_label:SITTING,original_label:STANDING_IN_PLACE,original_label:STANDING_AND_MOVING,original_label:WALKING,original_label:RUNNING,original_label:BICYCLING,original_label:LIFTING_WEIGHTS,original_label:PLAYING_BASEBALL,original_label:PLAYING_BASKETBALL,original_label:PLAYING_LACROSSE,original_label:SKATEBOARDING,original_label:PLAYING_SOCCER,original_label:PLAYING_FRISBEE,original_label:EXERCISING,original_label:STRETCHING,original_label:YOGA,original_label:ELLIPTICAL_MACHINE,original_label:TREADMILL,original_label:STATIONARY_BIKE,original_label:COOKING,original_label:CLEANING,original_label:GARDENING,original_label:DOING_LAUNDRY,original_label:MOWING_THE_LAWN,original_label:RAKING_LEAVES,original_label:VACUUMING,original_label:WASHING_DISHES,original_label:WASHING_CAR,original_label:MANUAL_LABOR,original_label:DANCING,original_label:LISTENING_TO_MUSIC__WITH_EARPHONES_,original_label:LISTENING_TO_MUSIC__NO_EARPHONES_,original_label:LISTENING_TO_AUDIO__WITH_EARPHONES_,original_label:LISTENING_TO_AUDIO__NO_EARPHONES_,original_label:PLAYING_MUSICAL_INSTRUMENT,original_label:SINGING,original_label:WHISTLING,original_label:PLAYING_VIDEOGAMES,original_label:PLAYING_PHONE-GAMES,original_label:RELAXING,original_label:STROLLING,original_label:HIKING,original_label:SHOPPING,original_label:WATCHING_TV,original_label:TALKING,original_label:READING_A_BOOK,original_label:DRINKING__ALCOHOL_,original_label:SMOKING,original_label:EATING,original_label:DRINKING__NON-ALCOHOL_,original_label:SLEEPING,original_label:TOILET,original_label:BATHING_-_BATH,original_label:BATHING_-_SHOWER,original_label:GROOMING,original_label:DRESSING,original_label:STAIRS_-_GOING_UP,original_label:STAIRS_-_GOING_DOWN,original_label:LIMPING,original_label:JUMPING,original_label:LAUGHING,original_label:CRYING,original_label:USING_CRUTCHES,original_label:WHEELCHAIR,original_label:LAB_WORK,original_label:WRITTEN_WORK,original_label:DRAWING,original_label:TEXTING,original_label:SURFING_THE_INTERNET,original_label:COMPUTER_WORK,original_label:STUDYING,original_label:IN_CLASS,original_label:IN_A_MEETING,original_label:AT_HOME,original_label:AT_WORK,original_label:AT_SCHOOL,original_label:AT_A_BAR,original_label:AT_A_CONCERT,original_label:AT_A_PARTY,original_label:AT_A_SPORTS_EVENT,original_label:AT_THE_BEACH,original_label:AT_SEA,original_label:AT_THE_POOL,original_label:AT_THE_GYM,original_label:AT_A_RESTAURANT,original_label:OUTSIDE,original_label:INDOORS,original_label:ON_A_BUS,original_label:ON_A_PLANE,original_label:ON_A_TRAIN,original_label:ON_A_BOAT,original_label:ELEVATOR,original_label:MOTORBIKE,original_label:RIDING_AN_ANIMAL,original_label:DRIVE_-_I_M_THE_DRIVER,original_label:DRIVE_-_I_M_A_PASSENGER,original_label:IN_A_CAR,original_label:PHONE_IN_POCKET,original_label:PHONE_IN_HAND,original_label:PHONE_IN_BAG,original_label:PHONE_ON_TABLE,original_label:PHONE_AWAY_FROM_ME,original_label:PHONE_-_SOMEONE_ELSE_USING_IT,original_label:PHONE_STRAPPED,original_label:TRANSFER_-_BED_TO_WHEELCHAIR,original_label:TRANSFER_-_BED_TO_STAND,original_label:TRANSFER_-_WHEELCHAIR_TO_BED,original_label:TRANSFER_-_STAND_TO_BED,original_label:ON_A_DATE,original_label:WITH_CO-WORKERS,original_label:WITH_FAMILY,original_label:WITH_FRIENDS,original_label:WITH_KIDS,original_label:TAKING_CARE_OF_KIDS,original_label:WITH_A_PET,label_source'\n",
    "columns = s.split(\",\")\n",
    "column_count = len(columns)\n",
    "print(\"Column counts: \", column_count)\n",
    "\n",
    "with open(dest_folder+'/original_labels_column_names.pkl', 'wb') as f:\n",
    "    pickle.dump(columns, f)"
   ]
  },
  {
   "cell_type": "code",
   "execution_count": null,
   "metadata": {},
   "outputs": [
    {
     "name": "stdout",
     "output_type": "stream",
     "text": [
      "00EABED2-271D-49D8-B599-1D4A09240601.features_labels.csv.gz (2287, 278) 1444079161.0 1444750828.0\n",
      "098A72A5-E3E5-4F54-A152-BBDA0DF7B694.features_labels.csv.gz (6813, 278) 1438708458.0 1441139452.0\n",
      "0A986513-7828-4D53-AA1F-E02D6DF9561B.features_labels.csv.gz (3960, 278) 1449601597.0 1449859707.0\n",
      "0BFC35E2-4817-4865-BFA7-764742302A2D.features_labels.csv.gz (3108, 278) 1445366534.0 1445969835.0\n",
      "0E6184E1-90C0-48EE-B25A-F1ECB7B9714E.features_labels.csv.gz (7521, 278) 1448907005.0 1449509088.0\n",
      "1155FF54-63D3-4AB2-9863-8385D0BD0A13.features_labels.csv.gz (2685, 278) 1464129912.0 1464887622.0\n",
      "11B5EC4D-4133-4289-B475-4E737182A406.features_labels.csv.gz (8845, 278) 1440000455.0 1440612571.0\n",
      "136562B6-95B2-483D-88DC-065F28409FD2.features_labels.csv.gz (6218, 278) 1439926672.0 1440532976.0\n",
      "1538C99F-BA1E-4EFB-A949-6C7C47701B20.features_labels.csv.gz (6549, 278) 1445379289.0 1445982789.0\n",
      "1DBB0F6F-1F81-4A50-9DF4-CD62ACFA4842.features_labels.csv.gz (7375, 278) 1440627472.0 1441293083.0\n",
      "24E40C4C-A349-4F9F-93AB-01D00FB994AF.features_labels.csv.gz (4771, 278) 1445452132.0 1446441027.0\n",
      "27E04243-B138-4F40-A164-F40B60165CF3.features_labels.csv.gz (4927, 278) 1448316686.0 1448996921.0\n",
      "2C32C23E-E30C-498A-8DD2-0EFB9150A02E.features_labels.csv.gz (8516, 278) 1439590067.0 1440194229.0\n",
      "33A85C34-CFE4-4732-9E73-0A7AC861B27A.features_labels.csv.gz (6172, 278) 1441314267.0 1441927589.0\n",
      "3600D531-0C55-44A7-AE95-A7A38519464E.features_labels.csv.gz (5203, 278) 1446679890.0 1447354980.0\n",
      "40E170A7-607B-4578-AF04-F021C3B0384A.features_labels.csv.gz (7649, 278) 1450127451.0 1450732109.0\n",
      "481F4DD2-7689-43B9-A2AA-C8772227162B.features_labels.csv.gz (6691, 278) 1464121019.0 1464890640.0\n",
      "4E98F91F-4654-42EF-B908-A3389443F2E7.features_labels.csv.gz (3250, 278) 1446750638.0 1447355157.0\n",
      "4FC32141-E888-4BFF-8804-12559A491D8C.features_labels.csv.gz (4979, 278) 1440004129.0 1440428963.0\n",
      "5119D0F8-FCA8-4184-A4EB-19421A40DE0D.features_labels.csv.gz (6617, 278) 1443038776.0 1443587194.0\n",
      "5152A2DF-FAF3-4BA8-9CA9-E66B32671A53.features_labels.csv.gz (6617, 278) 1443043074.0 1443647130.0\n",
      "59818CD2-24D7-4D32-B133-24C2FE3801E5.features_labels.csv.gz (5947, 278) 1464302284.0 1464895575.0\n",
      "59EEFAE0-DEB0-4FFF-9250-54D2A03D0CF2.features_labels.csv.gz (7542, 278) 1464303710.0 1464898647.0\n",
      "5EF64122-B513-46AE-BCF1-E62AAC285D2C.features_labels.csv.gz (3911, 278) 1442423219.0 1442671439.0\n",
      "61359772-D8D8-480D-B623-7C636EAD0C81.features_labels.csv.gz (6079, 278) 1444923638.0 1445551544.0\n",
      "61976C24-1C50-4355-9C49-AAE44A7D09F6.features_labels.csv.gz (8730, 278) 1433537341.0 1444069297.0\n",
      "665514DE-49DC-421F-8DCB-145D0B2609AD.features_labels.csv.gz (9167, 278) 1449177721.0 1449782489.0\n",
      "74B86067-5D4B-43CF-82CF-341B76BEA0F4.features_labels.csv.gz (7298, 278) 1441303601.0 1441840393.0\n",
      "78A91A4E-4A51-4065-BDA7-94755F0BB3BB.features_labels.csv.gz (11996, 278) 1449009040.0 1449809384.0\n",
      "797D145F-3858-4A7F-A7C2-A4EB721E133C.features_labels.csv.gz (3593, 278) 1449877990.0 1450389532.0\n",
      "7CE37510-56D0-4120-A1CF-0E23351428D2.features_labels.csv.gz (9761, 278) 1444251682.0 1444840613.0\n",
      "7D9BB102-A612-4E2A-8E22-3159752F55D8.features_labels.csv.gz (1600, 278) 1447724713.0 1448312150.0\n",
      "8023FE1A-D3B0-4E2C-A57A-9321B7FC755F.features_labels.csv.gz (9189, 278) 1445989902.0 1446677772.0\n",
      "806289BC-AD52-4CC1-806C-0CDB14D65EB6.features_labels.csv.gz (9242, 278) 1448303626.0 1448909322.0\n",
      "81536B0A-8DBF-4D8A-AC24-9543E2E4C8E0.features_labels.csv.gz (6407, 278) 1446141691.0 1446750032.0\n",
      "83CF687B-7CEC-434B-9FE8-00C3D5799BE6.features_labels.csv.gz (9539, 278) 1449511099.0 1450117058.0\n",
      "86A4F379-B305-473D-9D83-FC7D800180EF.features_labels.csv.gz (10738, 278) 1440274725.0 1441294569.0\n",
      "96A358A0-FFF2-4239-B93E-C7425B901B47.features_labels.csv.gz (5819, 278) 1448482210.0 1449176505.0\n",
      "9759096F-1119-4E19-A0AD-6F16989C7E1C.features_labels.csv.gz (9959, 278) 1441736514.0 1442338773.0\n",
      "99B204C0-DD5C-4BB7-83E8-A37281B8D769.features_labels.csv.gz (6038, 278) 1444339547.0 1445011616.0\n",
      "9DC38D04-E82E-4F29-AB52-B476535226F2.features_labels.csv.gz (9686, 278) 1448922048.0 1449525431.0\n",
      "A5A30F76-581E-4757-97A2-957553A2C6AA.features_labels.csv.gz (1667, 278) 1437680357.0 1438086913.0\n",
      "A5CDF89D-02A2-4EC1-89F8-F534FDABDD96.features_labels.csv.gz (6040, 278) 1440537067.0 1441268546.0\n",
      "A7599A50-24AE-46A6-8EA6-2576F1011D81.features_labels.csv.gz (3898, 278) 1446762297.0 1447307917.0\n",
      "A76A5AF5-5A93-4CF2-A16E-62353BB70E8A.features_labels.csv.gz (7520, 278) 1442952406.0 1443557065.0\n"
     ]
    }
   ],
   "source": [
    "file_list = os.listdir(src_folder)\n",
    "print(\"total files: \", len(file_list))\n",
    "\n",
    "res = []\n",
    "uuids = []\n",
    "\n",
    "for file_name in file_list:\n",
    "    d = np.genfromtxt(src_folder+'/'+file_name, delimiter=',', skip_header=1)\n",
    "    ol = np.genfromtxt(src_folder_original_labels+'/'+file_name.replace('features', 'original'), delimiter=',', skip_header=1)\n",
    "    print(file_name, d.shape, d[-1,0] - d[0,0], d.shape)\n",
    "    \n",
    "        \n",
    "    assert column_count == d.shape[1]    \n",
    "    assert ol.shape[1] == 118\n",
    "    res.append(d)\n",
    "    \n",
    "    uuids.append(file_name.split(\".\")[0])    \n"
   ]
  },
  {
   "cell_type": "code",
   "execution_count": null,
   "metadata": {},
   "outputs": [],
   "source": [
    "with open(dest_folder+'/features_labels.pkl', 'wb') as f:\n",
    "    pickle.dump(res, f)"
   ]
  },
  {
   "cell_type": "code",
   "execution_count": null,
   "metadata": {},
   "outputs": [],
   "source": [
    "print(len(uuids))\n",
    "print(uuids)\n",
    "s = \"\\n\".join(uuids)\n",
    "with open('C:/ASM/DevData/extrasensory/data/uuid_list.csv', 'w') as f:\n",
    "    f.write(s)"
   ]
  },
  {
   "cell_type": "code",
   "execution_count": null,
   "metadata": {},
   "outputs": [],
   "source": []
  }
 ],
 "metadata": {
  "kernelspec": {
   "display_name": "Python 3",
   "language": "python",
   "name": "python3"
  },
  "language_info": {
   "codemirror_mode": {
    "name": "ipython",
    "version": 3
   },
   "file_extension": ".py",
   "mimetype": "text/x-python",
   "name": "python",
   "nbconvert_exporter": "python",
   "pygments_lexer": "ipython3",
   "version": "3.6.4"
  }
 },
 "nbformat": 4,
 "nbformat_minor": 2
}
