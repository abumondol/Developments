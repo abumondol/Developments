{
 "cells": [
  {
   "cell_type": "code",
   "execution_count": 1,
   "metadata": {},
   "outputs": [],
   "source": [
    "import numpy as np\n",
    "#import tensorflow as tf"
   ]
  },
  {
   "cell_type": "code",
   "execution_count": 2,
   "metadata": {},
   "outputs": [
    {
     "name": "stdout",
     "output_type": "stream",
     "text": [
      "[[0.3830381  0.87735363 0.80836663 0.92949469 0.69264118]\n",
      " [0.22141673 0.12729956 0.57325402 0.72382772 0.0517319 ]\n",
      " [0.52235825 0.29855988 0.05307358 0.87681731 0.07098557]\n",
      " [0.47869404 0.82618371 0.05046751 0.24671334 0.36361086]\n",
      " [0.26699601 0.38896347 0.52481552 0.90551997 0.40340016]\n",
      " [0.34732036 0.37472759 0.7858813  0.28553552 0.74292156]\n",
      " [0.66234725 0.07253036 0.54711193 0.66828219 0.86053619]\n",
      " [0.82112446 0.55989794 0.20494013 0.04388078 0.57665858]\n",
      " [0.90181804 0.25591365 0.16944335 0.50955563 0.11505655]\n",
      " [0.27351992 0.25753336 0.5166661  0.77696688 0.28775301]]\n"
     ]
    }
   ],
   "source": [
    "a = np.random.rand(10,5)\n",
    "print(a)"
   ]
  },
  {
   "cell_type": "code",
   "execution_count": 3,
   "metadata": {},
   "outputs": [],
   "source": [
    "b = a[:5]"
   ]
  },
  {
   "cell_type": "code",
   "execution_count": 4,
   "metadata": {},
   "outputs": [
    {
     "name": "stdout",
     "output_type": "stream",
     "text": [
      "[[0.3830381  0.87735363 0.80836663 0.92949469 0.69264118]\n",
      " [0.22141673 0.12729956 0.57325402 0.72382772 0.0517319 ]\n",
      " [0.52235825 0.29855988 0.05307358 0.87681731 0.07098557]\n",
      " [0.47869404 0.82618371 0.05046751 0.24671334 0.36361086]\n",
      " [0.26699601 0.38896347 0.52481552 0.90551997 0.40340016]]\n"
     ]
    }
   ],
   "source": [
    "print(b)"
   ]
  },
  {
   "cell_type": "code",
   "execution_count": 7,
   "metadata": {},
   "outputs": [
    {
     "name": "stdout",
     "output_type": "stream",
     "text": [
      "Tensor(\"Mul:0\", shape=(), dtype=int32)\n"
     ]
    }
   ],
   "source": [
    "a = tf.multiply(4, 3)\n",
    "print(a)"
   ]
  },
  {
   "cell_type": "code",
   "execution_count": 16,
   "metadata": {
    "collapsed": true
   },
   "outputs": [],
   "source": [
    "a, b = (2, 4)"
   ]
  },
  {
   "cell_type": "code",
   "execution_count": 17,
   "metadata": {},
   "outputs": [
    {
     "name": "stdout",
     "output_type": "stream",
     "text": [
      "2 4\n"
     ]
    }
   ],
   "source": [
    "print(a, b)"
   ]
  },
  {
   "cell_type": "code",
   "execution_count": 1,
   "metadata": {
    "collapsed": true
   },
   "outputs": [],
   "source": [
    "a = lambda x: x+2"
   ]
  },
  {
   "cell_type": "code",
   "execution_count": 2,
   "metadata": {},
   "outputs": [
    {
     "name": "stdout",
     "output_type": "stream",
     "text": [
      "12\n"
     ]
    }
   ],
   "source": [
    "print(a(10))"
   ]
  },
  {
   "cell_type": "code",
   "execution_count": null,
   "metadata": {
    "collapsed": true
   },
   "outputs": [],
   "source": []
  }
 ],
 "metadata": {
  "anaconda-cloud": {},
  "kernelspec": {
   "display_name": "Python 3",
   "language": "python",
   "name": "python3"
  },
  "language_info": {
   "codemirror_mode": {
    "name": "ipython",
    "version": 3
   },
   "file_extension": ".py",
   "mimetype": "text/x-python",
   "name": "python",
   "nbconvert_exporter": "python",
   "pygments_lexer": "ipython3",
   "version": "3.6.4"
  }
 },
 "nbformat": 4,
 "nbformat_minor": 1
}
