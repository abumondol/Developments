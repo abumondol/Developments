{
 "cells": [
  {
   "cell_type": "code",
   "execution_count": 6,
   "metadata": {
    "collapsed": true
   },
   "outputs": [],
   "source": [
    "import numpy as np\n",
    "import tensorflow as tf"
   ]
  },
  {
   "cell_type": "code",
   "execution_count": 12,
   "metadata": {
    "collapsed": false
   },
   "outputs": [
    {
     "name": "stdout",
     "output_type": "stream",
     "text": [
      "[[[ 0.0356854   0.20758399  0.82948995  0.81357605  0.51663964]\n",
      "  [ 0.40583577  0.62768485  0.26458246  0.50344826  0.99381737]\n",
      "  [ 0.45575683  0.83996502  0.41872161  0.97213974  0.14121848]]\n",
      "\n",
      " [[ 0.85244488  0.27407527  0.95318775  0.77423646  0.62266662]\n",
      "  [ 0.56451179  0.16702138  0.48080902  0.48030994  0.65859303]\n",
      "  [ 0.47533053  0.49970648  0.44567046  0.59504457  0.50378033]]]\n"
     ]
    }
   ],
   "source": [
    "a = np.random.rand(2, 3, 5)\n",
    "print(a)"
   ]
  },
  {
   "cell_type": "code",
   "execution_count": 13,
   "metadata": {
    "collapsed": false
   },
   "outputs": [
    {
     "name": "stdout",
     "output_type": "stream",
     "text": [
      "[[ 0.0356854   0.20758399  0.82948995  0.81357605  0.51663964  0.40583577]\n",
      " [ 0.62768485  0.26458246  0.50344826  0.99381737  0.45575683  0.83996502]\n",
      " [ 0.41872161  0.97213974  0.14121848  0.85244488  0.27407527  0.95318775]\n",
      " [ 0.77423646  0.62266662  0.56451179  0.16702138  0.48080902  0.48030994]\n",
      " [ 0.65859303  0.47533053  0.49970648  0.44567046  0.59504457  0.50378033]]\n"
     ]
    }
   ],
   "source": [
    "a = a.reshape((5,6))\n",
    "print(a)"
   ]
  },
  {
   "cell_type": "code",
   "execution_count": 5,
   "metadata": {
    "collapsed": false
   },
   "outputs": [
    {
     "name": "stdout",
     "output_type": "stream",
     "text": [
      "[[ 0.26671035  0.81519282]\n",
      " [ 0.62268518  0.43438946]\n",
      " [ 0.12085022  0.498988  ]]\n"
     ]
    }
   ],
   "source": [
    "print(a)"
   ]
  },
  {
   "cell_type": "code",
   "execution_count": 7,
   "metadata": {
    "collapsed": false
   },
   "outputs": [
    {
     "name": "stdout",
     "output_type": "stream",
     "text": [
      "Tensor(\"Mul:0\", shape=(), dtype=int32)\n"
     ]
    }
   ],
   "source": [
    "a = tf.multiply(4, 3)\n",
    "print(a)"
   ]
  },
  {
   "cell_type": "code",
   "execution_count": 16,
   "metadata": {
    "collapsed": true
   },
   "outputs": [],
   "source": [
    "a, b = (2, 4)"
   ]
  },
  {
   "cell_type": "code",
   "execution_count": 17,
   "metadata": {
    "collapsed": false
   },
   "outputs": [
    {
     "name": "stdout",
     "output_type": "stream",
     "text": [
      "2 4\n"
     ]
    }
   ],
   "source": [
    "print(a, b)"
   ]
  },
  {
   "cell_type": "code",
   "execution_count": 1,
   "metadata": {
    "collapsed": true
   },
   "outputs": [],
   "source": [
    "a = lambda x: x+2"
   ]
  },
  {
   "cell_type": "code",
   "execution_count": 2,
   "metadata": {
    "collapsed": false
   },
   "outputs": [
    {
     "name": "stdout",
     "output_type": "stream",
     "text": [
      "12\n"
     ]
    }
   ],
   "source": [
    "print(a(10))"
   ]
  },
  {
   "cell_type": "code",
   "execution_count": null,
   "metadata": {
    "collapsed": true
   },
   "outputs": [],
   "source": []
  }
 ],
 "metadata": {
  "anaconda-cloud": {},
  "kernelspec": {
   "display_name": "Python [conda root]",
   "language": "python",
   "name": "conda-root-py"
  },
  "language_info": {
   "codemirror_mode": {
    "name": "ipython",
    "version": 3
   },
   "file_extension": ".py",
   "mimetype": "text/x-python",
   "name": "python",
   "nbconvert_exporter": "python",
   "pygments_lexer": "ipython3",
   "version": "3.5.2"
  }
 },
 "nbformat": 4,
 "nbformat_minor": 1
}
