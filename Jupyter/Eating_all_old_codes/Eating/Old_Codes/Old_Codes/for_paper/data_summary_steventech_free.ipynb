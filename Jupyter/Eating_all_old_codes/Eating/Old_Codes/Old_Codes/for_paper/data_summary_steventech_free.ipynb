{
 "cells": [
  {
   "cell_type": "code",
   "execution_count": 1,
   "metadata": {
    "collapsed": true
   },
   "outputs": [],
   "source": [
    "import numpy as np\n",
    "import pickle\n",
    "import os\n",
    "\n",
    "import matplotlib.pyplot as plt\n",
    "%matplotlib inline"
   ]
  },
  {
   "cell_type": "code",
   "execution_count": 11,
   "metadata": {
    "collapsed": true
   },
   "outputs": [],
   "source": [
    "def get_meal_code(meal):    \n",
    "    code = 0\n",
    "    if meal == \"meal\":\n",
    "        code = 1\n",
    "    elif meal==\"lunch\":\n",
    "        code = 2\n",
    "    elif meal==\"dinner\":\n",
    "        code = 3\n",
    "    elif meal==\"snack\":\n",
    "        code = 4    \n",
    "    elif meal==\"drink\":\n",
    "        code = 5\n",
    "    elif meal==\"eat\":\n",
    "        code = 6\n",
    "    return code;\n",
    "\n",
    "def process_meal_annots_steven(annots, accel, subject_code, session):\n",
    "    meal_count = len(annots)\n",
    "    accel_count = len(accel)\n",
    "    #if subject_code == 5 and session == 0:\n",
    "    #    meal_count = 9\n",
    "    #elif subject_code == 6 and session == 0:\n",
    "    #    meal_count = 2\n",
    "    #elif subject_code == 102 and session == 1:\n",
    "    #    meal_count = 1\n",
    "    #elif subject_code == 104 and session == 0:\n",
    "    #    meal_count = 7\n",
    "    \n",
    "    j = 0\n",
    "    a = np.zeros((meal_count, 3))\n",
    "    for i in range(meal_count):        \n",
    "        s = annots[i].split(\",\")\n",
    "        a[i, 0] = float(s[1].rstrip())\n",
    "        a[i, 1] = float(s[2].rstrip())\n",
    "        a[i, 2] = get_meal_code(s[3].rstrip().strip())\n",
    "        \n",
    "        if a[i, 2]==0:\n",
    "            print(\" \\n\\n******************* Meal code problem *************** code is -1\\n\\n\")\n",
    "            \n",
    "    return a"
   ]
  },
  {
   "cell_type": "code",
   "execution_count": 36,
   "metadata": {
    "collapsed": true
   },
   "outputs": [],
   "source": [
    "def read_data_steven_free():\n",
    "    path = 'C:\\\\ASM\\\\PublicData\\\\eating_steventech\\\\free'\n",
    "    subject_codes = [2, 3, 4, 5, 6, 101, 102, 103, 104, 107, 109]\n",
    "    \n",
    "    data = [];\n",
    "    for subject in range(len(subject_codes)):\n",
    "        dsubject = [];\n",
    "        sess_count = 2\n",
    "        if subject_codes[subject] == 107:\n",
    "            sess_count = 5\n",
    "        \n",
    "        for sess in range(sess_count):\n",
    "            print(subject, sess)\n",
    "            if subject_codes[subject] < 10:\n",
    "                filePathAccel = path + \"\\\\0\" + str(subject_codes[subject]) + \"\\\\000\" + str(sess) + \"\\\\watch_right_000\" + str(sess) + \".csv\";\n",
    "                filePathAnnots = path + \"\\\\0\" + str(subject_codes[subject]) + \"\\\\000\" + str(sess) + \"\\\\meal_events.csv\";\n",
    "            elif subject_codes[subject] == 109:\n",
    "                filePathAccel = path + \"\\\\\" + str(subject_codes[subject]) + \"\\\\000\" + str(sess+3) + \"\\\\watch_right_000\" + str(sess+3) + \".csv\";\n",
    "                filePathAnnots = path + \"\\\\\" + str(subject_codes[subject]) + \"\\\\000\" + str(sess+3) + \"\\\\meal_events.csv\";\n",
    "            else:\n",
    "                filePathAccel = path + \"\\\\\" + str(subject_codes[subject]) + \"\\\\000\" + str(sess) + \"\\\\watch_right_000\" + str(sess) + \".csv\";\n",
    "                filePathAnnots = path + \"\\\\\" + str(subject_codes[subject]) + \"\\\\000\" + str(sess) + \"\\\\meal_events.csv\";\n",
    "          \n",
    "            accel = np.genfromtxt(filePathAccel, delimiter=',')\n",
    "            t = accel[:, 0]/1e9\n",
    "          \n",
    "            file = open(filePathAnnots)\n",
    "            annots = file.readlines()\n",
    "            annots = process_meal_annots_steven(annots, accel, subject_codes[subject], sess)                                \n",
    "            \n",
    "            dsess = [accel, annots]        \n",
    "            dsubject.append(dsess)        \n",
    "            \n",
    "        data.append(dsubject)\n",
    "    return data\n",
    "    "
   ]
  },
  {
   "cell_type": "code",
   "execution_count": 37,
   "metadata": {
    "collapsed": false
   },
   "outputs": [
    {
     "name": "stdout",
     "output_type": "stream",
     "text": [
      "0 0\n",
      "0 1\n",
      "1 0\n",
      "1 1\n",
      "2 0\n",
      "2 1\n",
      "3 0\n",
      "3 1\n",
      "4 0\n",
      "4 1\n",
      "5 0\n",
      "5 1\n",
      "6 0\n",
      "6 1\n",
      "7 0\n",
      "7 1\n",
      "8 0\n",
      "8 1\n",
      "9 0\n",
      "9 1\n",
      "9 2\n",
      "9 3\n",
      "9 4\n",
      "10 0\n",
      "10 1\n"
     ]
    }
   ],
   "source": [
    "d = read_data_steven_free()"
   ]
  },
  {
   "cell_type": "code",
   "execution_count": 52,
   "metadata": {
    "collapsed": false
   },
   "outputs": [
    {
     "name": "stdout",
     "output_type": "stream",
     "text": [
      "3, 0, 5.0:: excluded completely:: 0.2509666666666211\n",
      "3, 0, 6.0:: excluded completely:: 8.308950000000005\n",
      "4, 0, 1.0:: excluded completely:: 19.73695000000001\n",
      "6, 1, 1.0:: excluded completely:: 10.783966666666675\n",
      "8, 0, 1.0:: excluded completely:: 44.71880000000007\n",
      "9, 0, 1.0:: excluded partially:: 28.87410000000006, 3.3515051411333845\n",
      "9, 2, 1.0:: excluded partially:: 9.347466666666636, 8.128865528833314\n"
     ]
    }
   ],
   "source": [
    "durations = []\n",
    "for subject in range(len(d)):    \n",
    "    subject_data = d[subject]\n",
    "    for sess in range(len(subject_data)):        \n",
    "        t = d[subject][sess][0][-1, 0]/1e9\n",
    "        #print('{}, {} :: {}'.format(subject, sess, t/3600))\n",
    "        #durations.append(t/3600)\n",
    "        \n",
    "        a = d[subject][sess][1]\n",
    "        for i in range(len(a)):\n",
    "            if a[i, 0] > t:\n",
    "                print('{}, {}, {}:: excluded completely:: {}'.format(subject, sess, a[i, 2], (a[i,1]-a[i,0])/60))\n",
    "                \n",
    "            if a[i, 0] < t and a[i, 1]>t:\n",
    "                print('{}, {}, {}:: excluded partially:: {}, {}'.format(subject, sess, a[i, 2], (a[i,1]-a[i,0])/60, (t-a[i,0])/60) )\n",
    "\n",
    "#durations  = np.array(durations)\n",
    "#print(np.mean(durations))\n",
    "\n",
    "\n",
    "        \n",
    "        \n",
    "#duratio"
   ]
  },
  {
   "cell_type": "code",
   "execution_count": 49,
   "metadata": {
    "collapsed": false,
    "scrolled": false
   },
   "outputs": [
    {
     "name": "stdout",
     "output_type": "stream",
     "text": [
      "\n",
      "0, 0 >> 4826.95, 4885.95, 5.0 :: 0.9833333333333333 :: 60.833333333333336\n",
      "0, 1 >> 8287.308, 8332.338, 5.0 :: 0.7504999999999806 :: 91.89383333333335\n",
      "0, 1 >> 24973.1849592, 25037.5599592, 5.0 :: 1.0729166666666667 :: 80.84273299333333\n",
      "0, 1 >> 29940.7629592, 29993.6359592, 5.0 :: 0.8812166666666599 :: 81.72005000000003\n",
      "\n",
      "1, 1 >> 6558.788, 10127.369, 5.0 :: 59.47635000000002 :: 95.67031666666665\n",
      "\n",
      "2, 0 >> 6084.662, 6121.057, 5.0 :: 0.6065833333333255 :: 0.0\n",
      "2, 0 >> 26704.4279592, 26740.5009592, 5.0 :: 0.601216666666672 :: 216.51383299333332\n",
      "2, 1 >> 5275.883, 5449.793, 5.0 :: 2.8984999999999976 :: 53.83636666666666\n",
      "2, 1 >> 14184.9499796, 14225.1949796, 5.0 :: 0.6707500000000134 :: 145.58594966\n",
      "2, 1 >> 22377.1439796, 22638.7449796, 5.0 :: 4.360016666666646 :: 17.458200000000033\n",
      "2, 1 >> 26002.1499592, 26012.7649592, 5.0 :: 0.17691666666669334 :: 56.05674966\n",
      "2, 1 >> 29116.7869592, 29127.6659592, 5.0 :: 0.18131666666668025 :: 51.733699999999956\n",
      "\n",
      "3, 0 >> 4864.679, 5288.583, 5.0 :: 7.065066666666659 :: 31.62386666666667\n",
      "3, 0 >> 6315.901, 6327.06, 5.0 :: 0.18598333333334266 :: 17.12196666666667\n",
      "3, 0 >> 15494.7899796, 15511.3209796, 5.0 :: 0.27551666666665064 :: 146.81504966\n",
      "3, 0 >> 20175.5769796, 20188.4009796, 5.0 :: 0.21373333333334207 :: 77.73759999999999\n",
      "3, 0 >> 27602.5139592, 27617.5719592, 5.0 :: 0.2509666666666211 :: 74.63288299333338\n",
      "3, 1 >> 4419.396, 4427.891, 5.0 :: 0.1415833333333315 :: 9.632266666666661\n",
      "======== diff is small =================\n",
      "3, 1 >> 9151.15, 9164.844, 5.0 :: 0.2282333333333251 :: 78.72098333333334\n",
      "\n",
      "4, 0 >> 14414.9899796, 14472.9049796, 5.0 :: 0.9652499999999843 :: 25.00770000000002\n",
      "\n",
      "5, 0 >> 590.487, 1224.062, 5.0 :: 10.559583333333332 :: 0.0\n",
      "\n",
      "\n",
      "7, 0 >> 17089.9199796, 17204.2429796, 5.0 :: 1.9053833333333388 :: 96.43746632666665\n",
      "\n",
      "8, 0 >> 6193.85, 8689.175, 5.0 :: 41.58874999999998 :: 3.5154166666666695\n",
      "======== diff is small =================\n",
      "8, 0 >> 10419.755, 14203.4659796, 5.0 :: 63.06184966000001 :: 28.843\n",
      "\n",
      "\n",
      "total sess:  25\n",
      "total annots:  110\n",
      "Type 0 : 0\n",
      "Type 1 : 49\n",
      "Type 2 : 2\n",
      "Type 3 : 1\n",
      "Type 4 : 33\n",
      "Type 5 : 24\n",
      "Type 6 : 1\n",
      "2.3957166666667034 54.64968333333333 17.793018557048075 16.893991666666672\n",
      "0.17614999999999176 28.233100000000015 7.252532312929293 5.096599999999975\n",
      "0.1415833333333315 63.06184966000001 8.295896513611108 0.8158583333333203\n",
      "Eat:  [8.30895]\n",
      "0.1415833333333315 63.06184966000001 12.472554523816662 8.758600000000055\n"
     ]
    },
    {
     "data": {
      "text/plain": [
       "<matplotlib.text.Text at 0x18dd6d30>"
      ]
     },
     "execution_count": 49,
     "metadata": {},
     "output_type": "execute_result"
    },
    {
     "data": {
      "image/png": "[encoded data removed]",
      "text/plain": [
       "<matplotlib.figure.Figure at 0x449a0ef0>"
      ]
     },
     "metadata": {},
     "output_type": "display_data"
    },
    {
     "data": {
      "image/png": "[encoded data removed]",
      "text/plain": [
       "<matplotlib.figure.Figure at 0x4a694390>"
      ]
     },
     "metadata": {},
     "output_type": "display_data"
    },
    {
     "data": {
      "image/png": "[encoded data removed]",
      "text/plain": [
       "<matplotlib.figure.Figure at 0x67357b8>"
      ]
     },
     "metadata": {},
     "output_type": "display_data"
    }
   ],
   "source": [
    "total_sess = 0\n",
    "annots_all = np.empty((0, 3))\n",
    "for subject in range(len(d)):\n",
    "    print()\n",
    "    subject_data = d[subject]\n",
    "    for sess in range(len(subject_data)):\n",
    "        total_sess+=1\n",
    "        t = d[subject][sess][0][-1, 0]/1e9       \n",
    "        \n",
    "        a = d[subject][sess][1]\n",
    "        for i in range(len(a)):\n",
    "            diff=0\n",
    "            if i>0:\n",
    "                diff = a[i, 0] - a[i-1, 1]\n",
    "            if a[i,2]==5:\n",
    "                print('{}, {} >> {}, {}, {} :: {} :: {}'.format(subject, sess, a[i,0], a[i,1], a[i, 2], (a[i, 1]-a[i, 0])/60, diff/60))\n",
    "                if 0<diff<10*60:\n",
    "                    print(\"======== diff is small =================\")\n",
    "        \n",
    "        annots_all = np.concatenate((annots_all, a))        \n",
    "        #print(\"\\nSubject {}, Sess{}>>\".format(subject, sess))        \n",
    "        \n",
    "print(\"total sess: \", total_sess)\n",
    "print(\"total annots: \", len(annots_all))\n",
    "\n",
    "for i in range(7):\n",
    "    a = annots_all\n",
    "    a = a[a[:, 2]==i, :]\n",
    "    print(\"Type {} : {}\".format(i, len(a)))\n",
    "        \n",
    "a = annots_all\n",
    "m = a[a[:, 2]<=3, :]\n",
    "m = (m[:,1] - m[:, 0])/60\n",
    "\n",
    "s = a[a[:, 2]==4, :]\n",
    "s = (s[:,1] - s[:, 0])/60\n",
    "\n",
    "dr = a[a[:, 2]==5, :]\n",
    "dr = (dr[:,1] - dr[:, 0])/60\n",
    "\n",
    "print(np.amin(m), np.amax(m), np.mean(m), np.median(m))\n",
    "print(np.amin(s), np.amax(s), np.mean(s), np.median(s))\n",
    "print(np.amin(dr), np.amax(dr), np.mean(dr), np.median(dr))\n",
    "e = a[a[:, 2]==6, :]\n",
    "e = (e[:,1] - e[:, 0])/60\n",
    "print(\"Eat: \", e)\n",
    "\n",
    "a = (a[:,1] - a[:, 0])/60\n",
    "print(np.amin(a), np.amax(a), np.mean(a), np.median(a))\n",
    "\n",
    "#print(dr)\n",
    "\n",
    "mx = np.amax([np.amax(m), np.amax(s), np.amax(dr)])\n",
    "edges = np.arange(0, mx+2)\n",
    "\n",
    "\n",
    "fig, ax = plt.subplots()\n",
    "plt.hist(m, bins=edges)\n",
    "#plt.ylim([0, 6])\n",
    "plt.xlabel('Duration 9Minutes')\n",
    "plt.ylabel('Count')\n",
    "plt.title('Meals')\n",
    "\n",
    "fig, ax = plt.subplots()\n",
    "plt.hist(s, bins=edges)\n",
    "#plt.ylim([0, 6])\n",
    "plt.xlabel('Duration 9Minutes')\n",
    "plt.ylabel('Count')\n",
    "plt.title('Snacks')\n",
    "\n",
    "fig, ax = plt.subplots()\n",
    "plt.hist(dr, bins=edges)\n",
    "#plt.ylim([0, 6])\n",
    "plt.xlabel('Duration 9Minutes')\n",
    "plt.ylabel('Count')\n",
    "plt.title('Drinks')\n",
    "\n",
    "        "
   ]
  },
  {
   "cell_type": "code",
   "execution_count": null,
   "metadata": {
    "collapsed": true
   },
   "outputs": [],
   "source": []
  }
 ],
 "metadata": {
  "anaconda-cloud": {},
  "kernelspec": {
   "display_name": "Python [conda root]",
   "language": "python",
   "name": "conda-root-py"
  },
  "language_info": {
   "codemirror_mode": {
    "name": "ipython",
    "version": 3
   },
   "file_extension": ".py",
   "mimetype": "text/x-python",
   "name": "python",
   "nbconvert_exporter": "python",
   "pygments_lexer": "ipython3",
   "version": "3.5.2"
  }
 },
 "nbformat": 4,
 "nbformat_minor": 1
}
