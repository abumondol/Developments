{
 "cells": [
  {
   "cell_type": "code",
   "execution_count": null,
   "metadata": {},
   "outputs": [],
   "source": [
    "import numpy as np\n",
    "import pickle"
   ]
  },
  {
   "cell_type": "code",
   "execution_count": null,
   "metadata": {},
   "outputs": [],
   "source": [
    "with open('C:/ASM/DevData/eating/data/steven_lab_data.pkl', 'rb') as file:\n",
    "    steven_data = pickle.load(file)"
   ]
  },
  {
   "cell_type": "code",
   "execution_count": null,
   "metadata": {},
   "outputs": [],
   "source": [
    "with open('C:/ASM/DevData/eating/data/uva_lab_data.pkl', 'rb') as file:\n",
    "    uva_data = pickle.load(file)"
   ]
  },
  {
   "cell_type": "code",
   "execution_count": null,
   "metadata": {},
   "outputs": [],
   "source": [
    "print(len(steven_data), len(uva_data))"
   ]
  },
  {
   "cell_type": "code",
   "execution_count": null,
   "metadata": {},
   "outputs": [],
   "source": [
    "combo = steven_data\n",
    "combo.extend(uva_data)\n",
    "print(len(combo))"
   ]
  },
  {
   "cell_type": "code",
   "execution_count": null,
   "metadata": {},
   "outputs": [],
   "source": [
    "with open('C:/ASM/DevData/eating/data/steven_uva_lab_data_combined.pkl', 'wb') as file:\n",
    "    pickle.dump(combo, file)"
   ]
  },
  {
   "cell_type": "code",
   "execution_count": null,
   "metadata": {},
   "outputs": [],
   "source": [
    "ds = np.empty((0, 6))\n",
    "for subject in range(len(combo)):\n",
    "    for sess in range(len(combo[subject])):\n",
    "        print(subject, sess, \" :: \", end=\"\")\n",
    "        d = combo[subject][sess][\"data\"][:, 4:]\n",
    "        ds = np.concatenate((ds,d), axis=0)\n",
    "        \n",
    "print(ds.shape)"
   ]
  },
  {
   "cell_type": "code",
   "execution_count": null,
   "metadata": {},
   "outputs": [],
   "source": [
    "mu = np.mean(ds, axis=0)\n",
    "sigma = np.std(ds, axis=0)\n",
    "mu, sigma"
   ]
  },
  {
   "cell_type": "code",
   "execution_count": null,
   "metadata": {},
   "outputs": [],
   "source": [
    "for subject in range(len(combo)):\n",
    "    for sess in range(len(combo[subject])):\n",
    "        print(subject, sess, \" :: \", end=\"\")\n",
    "        d = combo[subject][sess][\"data\"][:, 4:]\n",
    "        combo[subject][sess][\"data\"][:, 4:] = (d-mu)/sigma        "
   ]
  },
  {
   "cell_type": "code",
   "execution_count": null,
   "metadata": {},
   "outputs": [],
   "source": [
    "with open('C:/ASM/DevData/eating/data/steven_uva_lab_data_combined_normalized.pkl', 'wb') as file:\n",
    "    pickle.dump(combo, file)"
   ]
  },
  {
   "cell_type": "code",
   "execution_count": null,
   "metadata": {},
   "outputs": [],
   "source": [
    "d ={\"mu\":mu, \"sigma\":sigma}\n",
    "with open('C:/ASM/DevData/eating/data/steven_uva_lab_data__normalization_params.pkl', 'wb') as file:\n",
    "    pickle.dump(d, file)"
   ]
  },
  {
   "cell_type": "code",
   "execution_count": null,
   "metadata": {},
   "outputs": [],
   "source": []
  }
 ],
 "metadata": {
  "kernelspec": {
   "display_name": "Python 3",
   "language": "python",
   "name": "python3"
  },
  "language_info": {
   "codemirror_mode": {
    "name": "ipython",
    "version": 3
   },
   "file_extension": ".py",
   "mimetype": "text/x-python",
   "name": "python",
   "nbconvert_exporter": "python",
   "pygments_lexer": "ipython3",
   "version": "3.6.4"
  }
 },
 "nbformat": 4,
 "nbformat_minor": 2
}
