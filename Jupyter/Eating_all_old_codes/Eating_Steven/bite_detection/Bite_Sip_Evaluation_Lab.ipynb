{
 "cells": [
  {
   "cell_type": "code",
   "execution_count": 1,
   "metadata": {},
   "outputs": [],
   "source": [
    "import numpy as np\n",
    "import pickle\n",
    "import os\n",
    "import sys\n",
    "from sklearn.utils import shuffle\n",
    "from sklearn.model_selection import train_test_split\n",
    "import matplotlib.pyplot as plt"
   ]
  },
  {
   "cell_type": "code",
   "execution_count": 2,
   "metadata": {},
   "outputs": [
    {
     "name": "stderr",
     "output_type": "stream",
     "text": [
      "c:\\asm\\continuum\\anaconda3\\lib\\site-packages\\h5py\\__init__.py:36: FutureWarning: Conversion of the second argument of issubdtype from `float` to `np.floating` is deprecated. In future, it will be treated as `np.float64 == np.dtype(float).type`.\n",
      "  from ._conv import register_converters as _register_converters\n",
      "Using TensorFlow backend.\n"
     ]
    }
   ],
   "source": [
    "from keras.layers import Conv2D, MaxPooling2D, Bidirectional, LSTM, Dense, Flatten, Dropout, Activation\n",
    "from keras.models import Sequential, model_from_json, load_model"
   ]
  },
  {
   "cell_type": "code",
   "execution_count": 3,
   "metadata": {},
   "outputs": [],
   "source": [
    "path = 'C:/ASM/DevData/eating_steven' if 'C:' in os.getcwd() else '.'\n",
    "\n",
    "with open(path + '/data/lab_data_steven.pkl', 'rb') as file:\n",
    "    data = pickle.load(file)\n",
    "    \n",
    "with open(path + '/data/lab_windows_steven.pkl', 'rb') as file:\n",
    "    w_indices = pickle.load(file)    "
   ]
  },
  {
   "cell_type": "code",
   "execution_count": 4,
   "metadata": {},
   "outputs": [],
   "source": [
    "def get_test_windows_labels(data, w_indices, subj, sess, vth):\n",
    "    win_size=80    \n",
    "    axis_count =9\n",
    "    half_win_size = win_size//2\n",
    "    \n",
    "    print(\"Generating Test data ... subj, sess: \", subj, sess)\n",
    "            \n",
    "    d = data[subj][sess][\"data_right\"]\n",
    "    mn, mx = -2*9.8, 2*9.8\n",
    "    d[:, 1:4] = (np.clip(d[:, 1:4], mn, mx)-mn)/(mx-mn)\n",
    "\n",
    "    mn, mx = -15, 15\n",
    "    d[:, 4:7] = (np.clip(d[:, 4:7], mn, mx)-mn)/(mx-mn)\n",
    "\n",
    "    indices = w_indices[subj][sess][\"w_indices\"]\n",
    "    test_y = w_indices[subj][sess][\"labels\"][:, 0]\n",
    "    \n",
    "    var_mask = (indices[:, -1]>=vth)\n",
    "    indices = indices[var_mask, :]\n",
    "    test_y = test_y[var_mask]\n",
    "    \n",
    "    wcount = len(indices)        \n",
    "    test_x = np.zeros((wcount, win_size, axis_count))        \n",
    "    for i in range(wcount):\n",
    "        j = int(indices[i, 0])\n",
    "        test_x[i, :, :] = d[j-half_win_size:j+half_win_size, 1:]\n",
    "\n",
    "\n",
    "    assert len(test_x) ==len(test_y)\n",
    "    #test_y = test_y.reshape((-1, 1))\n",
    "    \n",
    "    return test_x, test_y, indices"
   ]
  },
  {
   "cell_type": "code",
   "execution_count": 5,
   "metadata": {},
   "outputs": [],
   "source": [
    "def get_bites(proba_y, indices, var_mask, proba_th=0.5):\n",
    "    pass\n",
    "    "
   ]
  },
  {
   "cell_type": "code",
   "execution_count": 6,
   "metadata": {},
   "outputs": [],
   "source": [
    "def evaluate_bite_detection(gt_bite, pr_bite, offset=0):\n",
    "    pass"
   ]
  },
  {
   "cell_type": "code",
   "execution_count": 7,
   "metadata": {},
   "outputs": [
    {
     "name": "stdout",
     "output_type": "stream",
     "text": [
      "Original shape:  (114333, 4)\n"
     ]
    },
    {
     "ename": "NameError",
     "evalue": "name 'windows' is not defined",
     "output_type": "error",
     "traceback": [
      "\u001b[1;31m---------------------------------------------------------------------------\u001b[0m",
      "\u001b[1;31mNameError\u001b[0m                                 Traceback (most recent call last)",
      "\u001b[1;32m<ipython-input-7-8240bb92ce0d>\u001b[0m in \u001b[0;36m<module>\u001b[1;34m()\u001b[0m\n\u001b[0;32m      3\u001b[0m \u001b[1;33m\u001b[0m\u001b[0m\n\u001b[0;32m      4\u001b[0m \u001b[0mprint\u001b[0m\u001b[1;33m(\u001b[0m\u001b[1;34m\"Original shape: \"\u001b[0m\u001b[1;33m,\u001b[0m \u001b[0mw_indices\u001b[0m\u001b[1;33m[\u001b[0m\u001b[0msubj\u001b[0m\u001b[1;33m]\u001b[0m\u001b[1;33m[\u001b[0m\u001b[0msess\u001b[0m\u001b[1;33m]\u001b[0m\u001b[1;33m[\u001b[0m\u001b[1;34m\"w_indices\"\u001b[0m\u001b[1;33m]\u001b[0m\u001b[1;33m.\u001b[0m\u001b[0mshape\u001b[0m\u001b[1;33m)\u001b[0m\u001b[1;33m\u001b[0m\u001b[0m\n\u001b[1;32m----> 5\u001b[1;33m \u001b[0mtest_x\u001b[0m\u001b[1;33m,\u001b[0m \u001b[0mtest_y\u001b[0m\u001b[1;33m,\u001b[0m \u001b[0mindices\u001b[0m \u001b[1;33m=\u001b[0m \u001b[0mget_test_windows_labels\u001b[0m\u001b[1;33m(\u001b[0m\u001b[0mdata\u001b[0m\u001b[1;33m,\u001b[0m \u001b[0mwindows\u001b[0m\u001b[1;33m,\u001b[0m \u001b[0msubj\u001b[0m\u001b[1;33m,\u001b[0m \u001b[0msess\u001b[0m\u001b[1;33m,\u001b[0m \u001b[0mvth\u001b[0m\u001b[1;33m=\u001b[0m\u001b[1;36m0.5\u001b[0m\u001b[1;33m)\u001b[0m\u001b[1;33m\u001b[0m\u001b[0m\n\u001b[0m\u001b[0;32m      6\u001b[0m \u001b[0mprint\u001b[0m\u001b[1;33m(\u001b[0m\u001b[1;34m\"Shapes: \"\u001b[0m\u001b[1;33m,\u001b[0m \u001b[0mtest_x\u001b[0m\u001b[1;33m.\u001b[0m\u001b[0mshape\u001b[0m\u001b[1;33m,\u001b[0m \u001b[0mtest_y\u001b[0m\u001b[1;33m.\u001b[0m\u001b[0mshape\u001b[0m\u001b[1;33m,\u001b[0m \u001b[0mindices\u001b[0m\u001b[1;33m.\u001b[0m\u001b[0mshape\u001b[0m\u001b[1;33m)\u001b[0m\u001b[1;33m\u001b[0m\u001b[0m\n\u001b[0;32m      7\u001b[0m \u001b[1;33m\u001b[0m\u001b[0m\n",
      "\u001b[1;31mNameError\u001b[0m: name 'windows' is not defined"
     ]
    }
   ],
   "source": [
    "subj, sess = 0, 0    \n",
    "model = load_model(path+'/models/right_hand_lab/keras_blstm_lab_'+str(subj)+'.h5')\n",
    "\n",
    "print(\"Original shape: \", w_indices[subj][sess][\"w_indices\"].shape)\n",
    "test_x, test_y, indices = get_test_windows_labels(data, windows, subj, sess, vth=0.5)\n",
    "print(\"Shapes: \", test_x.shape, test_y.shape, indices.shape)        \n",
    "\n",
    "proba_y = model.predict(test_x)\n",
    "print(\"Proba done... positive: \", np.sum(proba_y>=0.5))"
   ]
  },
  {
   "cell_type": "code",
   "execution_count": null,
   "metadata": {
    "scrolled": false
   },
   "outputs": [],
   "source": [
    "a = data[subj][sess][\"annots\"]\n",
    "print(len(a), np.sum(a[:,2]==1), np.sum(a[:, 2]==2))\n",
    "step = 16*60*20\n",
    "#print(a[:,0]/16)\n",
    "for i in range(0, len(data[subj][sess][\"data_right\"]), step):\n",
    "    cond = (i<=indices[:, 0]) & (indices[:, 0]<=i+step)\n",
    "    \n",
    "    if np.sum(cond)==0: \n",
    "        continue\n",
    "\n",
    "    p = proba_y[cond]\n",
    "    v = indices[cond, -1]\n",
    "    t = indices[cond, 0]/16\n",
    "\n",
    "    cond = (i<=a[:,0]) & (a[:,0]<=i+step)\n",
    "    a1 = a[cond, 0]/16\n",
    "    cond = (i<=a[:,1]) & (a[:,1]<=i+step)\n",
    "    a2 = a[cond, 1]/16\n",
    "\n",
    "    fig, ax = plt.subplots(figsize=(16,6))\n",
    "    ax.scatter(t, p, marker='.', color='green')    \n",
    "    ax.scatter(a1, np.zeros((len(a1), )), marker='o', s=100, color='red')\n",
    "    #a2 = a2[a2!=a1]\n",
    "    ax.scatter(a2, np.zeros((len(a2), )), marker='x', s =100, color='blue')\n",
    "    plt.title(\"Time: \"+str(i/16)+\" - \"+str((i+step)/16))\n",
    "    plt.show()\n",
    "\n",
    "    fig, ax = plt.subplots(figsize=(16,6))\n",
    "    ax.scatter(t, v, marker='.')\n",
    "    ax.scatter(a1, np.zeros((len(a1), )), marker='o')\n",
    "    ax.scatter(a2, np.zeros((len(a2), )), marker='x')\n",
    "    plt.show()"
   ]
  },
  {
   "cell_type": "code",
   "execution_count": null,
   "metadata": {},
   "outputs": [],
   "source": []
  }
 ],
 "metadata": {
  "kernelspec": {
   "display_name": "Python 3",
   "language": "python",
   "name": "python3"
  },
  "language_info": {
   "codemirror_mode": {
    "name": "ipython",
    "version": 3
   },
   "file_extension": ".py",
   "mimetype": "text/x-python",
   "name": "python",
   "nbconvert_exporter": "python",
   "pygments_lexer": "ipython3",
   "version": "3.6.4"
  }
 },
 "nbformat": 4,
 "nbformat_minor": 2
}
