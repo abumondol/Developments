{
 "cells": [
  {
   "cell_type": "code",
   "execution_count": 1,
   "metadata": {},
   "outputs": [],
   "source": [
    "import numpy as np"
   ]
  },
  {
   "cell_type": "code",
   "execution_count": null,
   "metadata": {},
   "outputs": [],
   "source": [
    "def adjust_annots(annots, subj, sess):\n",
    "    a = annots\n",
    "    if subj==0 and sess==1:\n",
    "        cond = a[:,0]>=9508\n",
    "        a[cond, 0] = a[cond, 0] + int(1.6*16) #add offset\n",
    "        a[cond, 1] = a[cond, 1] + int(1.6*16) #add offset\n",
    "\n",
    "    if subj==2 and sess==0:\n",
    "        cond = a[:,0]>=9215\n",
    "        #a = a[cond, :] \n",
    "\n",
    "    if subj==5 and sess==1:\n",
    "        cond = a[:,0]>=11717\n",
    "        a[cond, 0] = a[cond, 0] + int(1.3*16) #add offset\n",
    "        a[cond, 1] = a[cond, 1] + int(1.3*16) #add offset\n",
    "        \n",
    "    return a"
   ]
  }
 ],
 "metadata": {
  "kernelspec": {
   "display_name": "Python 3",
   "language": "python",
   "name": "python3"
  },
  "language_info": {
   "codemirror_mode": {
    "name": "ipython",
    "version": 3
   },
   "file_extension": ".py",
   "mimetype": "text/x-python",
   "name": "python",
   "nbconvert_exporter": "python",
   "pygments_lexer": "ipython3",
   "version": "3.6.4"
  }
 },
 "nbformat": 4,
 "nbformat_minor": 2
}
