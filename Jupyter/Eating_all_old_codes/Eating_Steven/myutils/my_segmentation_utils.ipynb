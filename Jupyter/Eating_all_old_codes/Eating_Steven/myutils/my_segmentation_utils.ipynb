{
 "cells": [
  {
   "cell_type": "code",
   "execution_count": 1,
   "metadata": {},
   "outputs": [],
   "source": [
    "import numpy as np"
   ]
  },
  {
   "cell_type": "code",
   "execution_count": null,
   "metadata": {},
   "outputs": [],
   "source": [
    "def filter_segment_by_length(segments, min_len):\n",
    "    s = segments\n",
    "    cond = (s[:,1]-s[:,2]+1)>=min_len\n",
    "    s = s[cond, :]\n",
    "    return s  "
   ]
  },
  {
   "cell_type": "code",
   "execution_count": 2,
   "metadata": {},
   "outputs": [],
   "source": [
    "def segments_by_xth(x, xth):\n",
    "    #return segs as indices\n",
    "    count = len(x)\n",
    "            \n",
    "    y = (x<=xth).astype(int)    \n",
    "    y = y[:-1] - y[1:]\n",
    "    \n",
    "    inside = 1 + np.argwhere(y==-1)\n",
    "    outside = np.argwhere(y==1)\n",
    "    #print(inside.shape, outside.shape)\n",
    "    \n",
    "    if inside[0]>outside[0]:\n",
    "        outside = outside[1:]\n",
    "    \n",
    "    if inside[-1]>outside[-1]:\n",
    "        inside = inside[:-1]\n",
    "        \n",
    "    assert len(inside)==len(outside)   \n",
    "    res = np.concatenate((inside, outside), axis=1).astype(int)    \n",
    "    return res"
   ]
  },
  {
   "cell_type": "code",
   "execution_count": 3,
   "metadata": {},
   "outputs": [],
   "source": [
    "def find_min_points_by_xth(x, xth, min_bite_interval):    \n",
    "    step_length = min_bite_interval//2\n",
    "    \n",
    "    count = len(x)    \n",
    "    mp = []\n",
    "    for i in range(0, count-step_length, step_length):\n",
    "        min_index = i + np.argmin(x[i:i+step_length])\n",
    "        \n",
    "        if x[min_index] <= xth:\n",
    "            mp.append(min_index)\n",
    "            \n",
    "    return mp"
   ]
  },
  {
   "cell_type": "code",
   "execution_count": 1,
   "metadata": {},
   "outputs": [],
   "source": [
    "def filter_min_points_by_neighbor(mp, accel, params):\n",
    "    if len(mp)<=1:\n",
    "        return mp\n",
    "    \n",
    "    min_bite_interval = params[\"min_bite_interval\"]\n",
    "    window_len_left = params[\"window_len_left\"]\n",
    "    window_len_right = params[\"window_len_right\"]\n",
    "    window_len = window_len_left + window_len_right    \n",
    "    step_length = min_bite_interval//2\n",
    "    \n",
    "    x = accel[:, 1]\n",
    "    while True:\n",
    "        res = []\n",
    "        count = len(mp)\n",
    "        ix = mp[0]\n",
    "        ixRight = mp[1]\n",
    "        if ixRight - ix > min_bite_interval or x[ix] < x[ixRight]:\n",
    "            res.append(ix)\n",
    "        \n",
    "        for i in range(1, count - 1):\n",
    "            ix = mp[i]\n",
    "            ixLeft = mp[i - 1]\n",
    "            ixRight = mp[i + 1]\n",
    "\n",
    "            cond_left = ix - ixLeft > min_bite_interval or x[ix] <= x[ixLeft]\n",
    "            cond_right = ixRight - ix > min_bite_interval or x[ix] < x[ixRight]        \n",
    "\n",
    "            if cond_left and cond_right:\n",
    "                res.append(ix)\n",
    "        \n",
    "        ix = mp[count - 1]\n",
    "        ixLeft = mp[count - 2]\n",
    "        if ix - ixLeft > min_bite_interval or x[ix] <= x[ixLeft]:\n",
    "            res.append(ix)            \n",
    "        \n",
    "        if len(mp) == len(res):\n",
    "            break        \n",
    "        mp = res\n",
    "        #print(\"     mp count: \", len(mp))\n",
    "    \n",
    "    return res"
   ]
  },
  {
   "cell_type": "code",
   "execution_count": null,
   "metadata": {},
   "outputs": [],
   "source": [
    "def remove_min_points_at_boundary(mps, data_len, offset):    \n",
    "    si, ei = 0, len(mps)-1\n",
    "    mp_count = len(mps)\n",
    "    \n",
    "    while si<mp_count and mps[si]-offset<0:\n",
    "        si += 1\n",
    "    \n",
    "    while ei>=0 and mps[ei]+offset>=data_len:\n",
    "        ei -= 1\n",
    "        \n",
    "    mps = mps[si:ei+1]\n",
    "    return mps\n",
    "    "
   ]
  },
  {
   "cell_type": "code",
   "execution_count": null,
   "metadata": {},
   "outputs": [],
   "source": [
    "def filter_min_points_by_feature(mp, accel, params):\n",
    "    var_th = params[\"var_th\"]\n",
    "    window_len_left = params[\"window_len_left\"]\n",
    "    window_len_right = params[\"window_len_right\"]\n",
    "    window_len = window_len_left + window_len_right\n",
    "    \n",
    "    res = [];\n",
    "    count = len(mp)\n",
    "    for i in range(count):\n",
    "        ix = mp[i]\n",
    "        v = np.sum(np.var(accel[ix-window_len_left:ix+window_len_right+1, 1:], axis = 0))\n",
    "        if v >= var_th:\n",
    "            res.append(ix)\n",
    "    return res    "
   ]
  }
 ],
 "metadata": {
  "kernelspec": {
   "display_name": "Python 3",
   "language": "python",
   "name": "python3"
  },
  "language_info": {
   "codemirror_mode": {
    "name": "ipython",
    "version": 3
   },
   "file_extension": ".py",
   "mimetype": "text/x-python",
   "name": "python",
   "nbconvert_exporter": "python",
   "pygments_lexer": "ipython3",
   "version": "3.6.4"
  }
 },
 "nbformat": 4,
 "nbformat_minor": 2
}
