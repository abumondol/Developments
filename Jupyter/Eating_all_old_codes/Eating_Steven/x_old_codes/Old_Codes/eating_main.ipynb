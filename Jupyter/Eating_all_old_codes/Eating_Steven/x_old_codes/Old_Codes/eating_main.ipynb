{
 "cells": [
  {
   "cell_type": "code",
   "execution_count": null,
   "metadata": {
    "collapsed": true
   },
   "outputs": [],
   "source": [
    "import numpy as np\n",
    "import copy\n",
    "import os\n",
    "#from IPython.display import clear_output\n",
    "import pickle\n",
    "\n",
    "import find_potential_bites as fpb\n",
    "import data_manager as dm\n",
    "import myutils\n",
    "import myparams\n",
    "import mycnn"
   ]
  },
  {
   "cell_type": "code",
   "execution_count": null,
   "metadata": {
    "collapsed": true
   },
   "outputs": [],
   "source": [
    "def get_train_data(data, exclude_subject):    \n",
    "    X_train, Y_train = [], []\n",
    "    for i in range(4):        \n",
    "        for subject in range(len(data[i])):\n",
    "            if (i ==1 and subject == exclude_subject+2) or (i ==3 and subject == exclude_subject):\n",
    "                continue\n",
    "            for sess in range(len(data[i][subject])):\n",
    "                x = data[i][subject][sess][\"x\"]\n",
    "                y = data[i][subject][sess][\"y\"]\n",
    "                \n",
    "                if i<2:\n",
    "                    if len(X_train)==0:\n",
    "                        X_train = x\n",
    "                        Y_train = y\n",
    "                    else:\n",
    "                        X_train = np.concatenate((X_train, x), axis = 0)\n",
    "                        Y_train = np.concatenate((Y_train, y), axis = 0)\n",
    "                        \n",
    "                elif i==3:\n",
    "                    x = x[y==0, :, :]\n",
    "                    y = y[y==0]\n",
    "                    \n",
    "                    X_train = np.concatenate((X_train, x), axis = 0)\n",
    "                    Y_train = np.concatenate((Y_train, y), axis = 0)                                    \n",
    "    \n",
    "    return X_train, Y_train"
   ]
  },
  {
   "cell_type": "code",
   "execution_count": null,
   "metadata": {
    "collapsed": true
   },
   "outputs": [],
   "source": [
    "def train_subject_wise(mps, seg_data, model_path, result_path):\n",
    "    batch_size = 64\n",
    "    epochs = 150\n",
    "    print(model_path)\n",
    "    print(result_path)\n",
    "    \n",
    "    res = []\n",
    "    for subject in range(11):\n",
    "        print(\"Subject: \", subject)\n",
    "        X_train, Y_train = get_train_data(seg_data, subject)\n",
    "        X_train = X_train.reshape(X_train.shape[0], X_train.shape[1], X_train.shape[2], 1)\n",
    "        Y_train = Y_train.reshape(Y_train.shape[0], 1)\n",
    "        print(\"X_train shape: \", X_train.shape)\n",
    "        print(\"Y_train shape: \", Y_train.shape)\n",
    "        model = mycnn.train_model(X_train, Y_train, batch_size, epochs)\n",
    "        \n",
    "        model.save(model_path+\"model_\"+str(subject)+\".h5\")\n",
    "        print(\"Saved model to disk\")\n",
    "\n",
    "        print(\"Testing ...\")\n",
    "        res_lab = []\n",
    "        if subject<=4:        \n",
    "            path = result_path + \"lab_\"\n",
    "            for sess in range(len(seg_data[5][subject+2])):\n",
    "                X_test = seg_data[5][subject+2][sess][\"x\"]\n",
    "                Y_test = seg_data[5][subject+2][sess][\"y\"]\n",
    "                X_test = X_test.reshape(X_test.shape[0], X_test.shape[1], X_test.shape[2], 1)\n",
    "                Y_test = Y_test.reshape(Y_test.shape[0], 1)            \n",
    "                Y = mycnn.test_model(model, X_test, Y_test)                \n",
    "                res_lab.append(Y)\n",
    "                np.savetxt(path+str(subject)+\"_\"+str(sess)+\".csv\", Y, delimiter=\",\")\n",
    "\n",
    "        res_free = []\n",
    "        path = result_path + \"free_\"\n",
    "        for sess in range(len(seg_data[3][subject])):\n",
    "            X_test = seg_data[3][subject][sess][\"x\"]\n",
    "            Y_test = seg_data[3][subject][sess][\"y\"]\n",
    "            X_test = X_test.reshape(X_test.shape[0], X_test.shape[1], X_test.shape[2], 1)\n",
    "            Y_test = Y_test.reshape(Y_test.shape[0], 1)        \n",
    "            Y = mycnn.test_model(model, X_test, Y_test)            \n",
    "            res_free.append(Y)\n",
    "            np.savetxt(path+str(subject)+\"_\"+str(sess)+\".csv\", Y, delimiter=\",\")\n",
    "\n",
    "        res_subject = {\"lab\":res_lab, \"free\":res_free}    \n",
    "        res.append(res_subject)\n",
    "        print(\" Done\")\n",
    "        \n",
    "    path = result_path + \"res_all.pkl\"    \n",
    "    with open(path, \"wb\") as file:\n",
    "        pickle.dump(res, file)\n"
   ]
  },
  {
   "cell_type": "code",
   "execution_count": null,
   "metadata": {
    "collapsed": true
   },
   "outputs": [],
   "source": [
    "for window_len in range(48, 50, 8):\n",
    "    params = myparams.get_params()\n",
    "    params[\"window_len_left\"] = window_len\n",
    "    params[\"window_len_right\"] = window_len \n",
    "    folder_path = myutils.get_file_name_from_params(params)        \n",
    "    model_path = folder_path+dm.get_slash()+\"models\"+dm.get_slash()\n",
    "    result_path = folder_path + dm.get_slash() + \"results\" + dm.get_slash()\n",
    "    model_path = dm.create_folder(model_path)\n",
    "    result_path = dm.create_folder(result_path)\n",
    "    \n",
    "    \n",
    "    print(\"Model path: \", model_path)\n",
    "    print(\"Result path: \", result_path)\n",
    "    print(\"Window len: \", window_len)\n",
    "    print(\"Finding potential bites and extracting segments ...\")\n",
    "    mps, segs = fpb.find_min_points_segments_all(params)\n",
    "    dm.save_data(mps, \"mps\", folder_path)\n",
    "    #dm.save_data(segs, \"segments\", folder_path)\n",
    "    #clear_output()        \n",
    "    print(\"Training ...\")\n",
    "    train_subject_wise(mps, segs, model_path, result_path)"
   ]
  },
  {
   "cell_type": "code",
   "execution_count": null,
   "metadata": {
    "collapsed": true
   },
   "outputs": [],
   "source": []
  }
 ],
 "metadata": {
  "anaconda-cloud": {},
  "kernelspec": {
   "display_name": "Python 3",
   "language": "python",
   "name": "python3"
  },
  "language_info": {
   "codemirror_mode": {
    "name": "ipython",
    "version": 3
   },
   "file_extension": ".py",
   "mimetype": "text/x-python",
   "name": "python",
   "nbconvert_exporter": "python",
   "pygments_lexer": "ipython3",
   "version": "3.6.4"
  }
 },
 "nbformat": 4,
 "nbformat_minor": 1
}
