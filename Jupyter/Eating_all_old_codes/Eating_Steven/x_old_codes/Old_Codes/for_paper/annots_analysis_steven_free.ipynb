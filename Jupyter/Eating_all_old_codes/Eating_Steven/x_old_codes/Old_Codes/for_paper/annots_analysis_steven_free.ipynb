{
 "cells": [
  {
   "cell_type": "code",
   "execution_count": 37,
   "metadata": {
    "collapsed": true
   },
   "outputs": [],
   "source": [
    "import numpy as np\n",
    "import pickle\n",
    "import os\n",
    "\n",
    "import matplotlib.pyplot as plt\n",
    "%matplotlib inline"
   ]
  },
  {
   "cell_type": "code",
   "execution_count": 38,
   "metadata": {
    "collapsed": false
   },
   "outputs": [],
   "source": [
    "with open('C:\\\\ASM\\\\DevData\\\\eating\\\\meal_detection\\\\data\\\\steven_free_data.pkl', 'rb') as file:\n",
    "    data = pickle.load(file)"
   ]
  },
  {
   "cell_type": "code",
   "execution_count": 51,
   "metadata": {
    "collapsed": false
   },
   "outputs": [
    {
     "name": "stdout",
     "output_type": "stream",
     "text": [
      "Subject 2 Sess 0 :: 2, 4.713541666666667 :: 1.0, 1.0\n",
      "Subject 2 Sess 0 :: 5, 3.109375 :: 1.0, 2.0\n",
      "Subject 3 Sess 0 :: 3, 1.209375 :: 3.0, 2.0\n",
      "Subject 3 Sess 0 :: 7, 1.4989583333333334 :: 1.0, 1.0\n",
      "Subject 3 Sess 0 :: 8, 1.553125 :: 1.0, 1.0\n",
      "Subject 3 Sess 1 :: 1, 1.9270833333333333 :: 1.0, 2.0\n",
      "Subject 3 Sess 1 :: 2, 9.632291666666667 :: 2.0, 3.0\n",
      "Subject 3 Sess 1 :: 5, 2.5614583333333334 :: 2.0, 2.0\n",
      "Subject 4 Sess 1 :: 2, 3.5229166666666667 :: 2.0, 2.0\n",
      "Subject 6 Sess 0 :: 1, 5.755208333333333 :: 1.0, 1.0\n",
      "Subject 8 Sess 0 :: 1, 3.515625 :: 2.0, 3.0\n",
      "Subject 8 Sess 0 :: 3, 5.169791666666667 :: 3.0, 1.0\n",
      "[  1.209375     1.49895833   1.553125     1.92708333   2.56145833\n",
      "   3.109375     3.515625     3.52291667   4.71354167   5.16979167\n",
      "   5.75520833   9.63229167  12.30208333  13.61458333  15.615625\n",
      "  17.121875    17.45833333  20.55520833  21.83854167  25.00729167\n",
      "  25.23854167  28.84375     30.42708333  31.62395833  33.55416667\n",
      "  35.97604167  37.03854167  37.1         41.81458333  46.57395833\n",
      "  51.73333333  53.83645833  56.05729167  60.83333333  63.12604167\n",
      "  64.775       76.00729167  76.36458333  77.7375      78.72083333\n",
      "  78.98854167  80.84270833  81.72083333  82.93958333  83.621875\n",
      "  84.80416667  89.221875    89.26875     90.62604167  91.89375\n",
      "  94.56666667  95.66979167  96.31041667  96.4375      96.68854167\n",
      " 102.425      105.09375    111.92604167 113.753125   125.21666667\n",
      " 129.09791667 134.78645833 137.525      144.703125   145.58645833\n",
      " 146.225      146.81458333 150.61354167 160.31666667 171.33854167\n",
      " 185.06041667 186.415625   211.76145833 216.51354167 225.42708333\n",
      " 240.00104167 246.89270833 252.74583333 255.44375    358.60520833]\n"
     ]
    },
    {
     "data": {
      "text/plain": [
       "<matplotlib.text.Text at 0x1a944588>"
      ]
     },
     "execution_count": 51,
     "metadata": {},
     "output_type": "execute_result"
    },
    {
     "data": {
      "image/png": "[encoded data removed]",
      "text/plain": [
       "<matplotlib.figure.Figure at 0x1a838908>"
      ]
     },
     "metadata": {},
     "output_type": "display_data"
    }
   ],
   "source": [
    "diff = []\n",
    "for subject in range(11):\n",
    "        for sess in range(len(data[subject ])):            \n",
    "            a = data[subject][sess][1]                                  \n",
    "            for i in range(1, len(a)):                \n",
    "                d = a[i, 0] - a[i-1, 1]\n",
    "                d = d/16/60\n",
    "                if d<10:\n",
    "                    print(\"Subject {} Sess {} :: {}, {} :: {}, {}\".format(subject, sess, i, d, a[i-1, 2], a[i, 2]))\n",
    "                diff.extend([d])\n",
    "diff = np.array(diff)\n",
    "diff = np.sort(diff)\n",
    "#print(len(diff))\n",
    "print(diff)\n",
    "#diff = diff[diff<60]\n",
    "mx = np.amax(diff)\n",
    "mx = int(mx+1)\n",
    "fig, ax = plt.subplots()\n",
    "edges = np.arange(0, mx+5,5)\n",
    "plt.hist(diff, bins= edges)\n",
    "\n",
    "#plt.ylim([0, 6])\n",
    "plt.xlabel('Interval (Minute)')\n",
    "plt.ylabel('Eating Episode Count')\n",
    "#plt.yticks([0,1,2,3,4, 5])\n",
    "               \n",
    "                \n",
    "            \n",
    "            \n",
    "            "
   ]
  },
  {
   "cell_type": "code",
   "execution_count": null,
   "metadata": {
    "collapsed": true
   },
   "outputs": [],
   "source": []
  }
 ],
 "metadata": {
  "anaconda-cloud": {},
  "kernelspec": {
   "display_name": "Python [conda root]",
   "language": "python",
   "name": "conda-root-py"
  },
  "language_info": {
   "codemirror_mode": {
    "name": "ipython",
    "version": 3
   },
   "file_extension": ".py",
   "mimetype": "text/x-python",
   "name": "python",
   "nbconvert_exporter": "python",
   "pygments_lexer": "ipython3",
   "version": "3.5.2"
  }
 },
 "nbformat": 4,
 "nbformat_minor": 1
}
