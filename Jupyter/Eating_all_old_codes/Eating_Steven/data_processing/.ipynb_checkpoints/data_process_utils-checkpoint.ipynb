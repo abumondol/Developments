{
 "cells": [
  {
   "cell_type": "code",
   "execution_count": 1,
   "metadata": {},
   "outputs": [],
   "source": [
    "import numpy as np"
   ]
  },
  {
   "cell_type": "code",
   "execution_count": 3,
   "metadata": {},
   "outputs": [],
   "source": [
    "def resample(data, rate, start_end_times = []):\n",
    "    interval = 1/rate\n",
    "    if len(start_end_times)==0:\n",
    "        start_time, end_time = data[0, 0], data[-1, 0]        \n",
    "    else:\n",
    "        start_time, end_time = start_end_times\n",
    "    \n",
    "    ts = np.arange(start_time, end_time, interval)    \n",
    "    count = len(ts)    \n",
    "    res = np.zeros((count, data.shape[1]))\n",
    "    res[:, 0] = ts\n",
    "    \n",
    "    print('Resampling... Rate: {}'.format(rate))\n",
    "    print('Old start, end: {}, {}'.format(data[0,0], data[-1, 0]))\n",
    "    print('New start, end: {}, {}'.format(start_time, end_time))\n",
    "    print('Sample Count old, new: {}, {}'.format(len(data), len(ts)))\n",
    "    \n",
    "    j = 0\n",
    "    while not(data[j, 0] <= ts[0] < data[j+1, 0]):\n",
    "        j+=1    \n",
    "    \n",
    "    for i in range(count):\n",
    "        while not(data[j, 0] <= ts[i] < data[j+1, 0]):\n",
    "            j+=1        \n",
    "        \n",
    "        factor = (ts[i] - data[j, 0])/(data[j+1, 0] - data[j, 0]);\n",
    "        res[i, 1:] = (1-factor)*data[j, 1:]  + factor*data[j+1, 1:]        \n",
    "        \n",
    "    print('Resampling Done')\n",
    "    return res"
   ]
  },
  {
   "cell_type": "code",
   "execution_count": 4,
   "metadata": {},
   "outputs": [],
   "source": [
    "def time_to_index(data, ts):\n",
    "    count = len(ts)\n",
    "    ix = np.zeros(count)\n",
    "    \n",
    "    \n",
    "    print('Time to index ... ')\n",
    "    print('Data start, end: {}, {}'.format(data[0,0], data[-1, 0]))\n",
    "    print('TS start, end: {}, {}'.format(ts[0], ts[-1]))    \n",
    "    \n",
    "    j = 0\n",
    "    data_count = len(data)\n",
    "    \n",
    "    for i in range(count):            \n",
    "        while j<data_count-1 and not(data[j, 0] <= ts[i] < data[j+1, 0]):\n",
    "            j += 1\n",
    "        \n",
    "        if j==data_count-1:\n",
    "            if ts[i] > data[j, 0]:                \n",
    "                raise Exception('Time to index: time is greater than data limit')\n",
    "            \n",
    "            if i<count-1:\n",
    "                raise Exception('Time to index: more than one beyond data limit')\n",
    "                \n",
    "        ix[i] = j\n",
    "    \n",
    "    ix = ix.astype(int)\n",
    "    print('Time to index Done.')\n",
    "    \n",
    "    return ix        \n",
    "    "
   ]
  },
  {
   "cell_type": "code",
   "execution_count": 1,
   "metadata": {},
   "outputs": [],
   "source": [
    "def quat2mat(q):\n",
    "    nrows, ncols = q.shape\n",
    "    if ncols == 4:\n",
    "        q0 = q[:, 0]\n",
    "        q1 = q[:, 1]\n",
    "        q2 = q[:, 2]\n",
    "        q3 = q[:, 3]\n",
    "    else:\n",
    "        q1 = q[:, 0]\n",
    "        q2 = q[:, 1]\n",
    "        q3 = q[:, 2]\n",
    "        q0 = 1-q1*q1 - q2*q2 - q3*q3\n",
    "        q0[q0<0] = 0\n",
    "        q0 = np.sqrt(q0)\n",
    "    \n",
    "    q0 = q0.reshape((nrows, 1))\n",
    "    q1 = q1.reshape((nrows, 1))\n",
    "    q2 = q2.reshape((nrows, 1))\n",
    "    q3 = q3.reshape((nrows, 1))\n",
    "        \n",
    "    Rx = np.concatenate( ( q0*q0+q1*q1-q2*q2-q3*q3, 2*(q1*q2-q0*q3), 2*(q1*q3+q0*q2) ), axis=1)\n",
    "    Ry = np.concatenate( ( 2*(q0*q3+q1*q2),  q0*q0-q1*q1+q2*q2-q3*q3, 2*(q2*q3 - q0*q1) ), axis=1)\n",
    "    Rz = np.concatenate( ( 2*(q1*q3 - q0*q2), 2*(q2*q3+q0*q1), q0*q0-q1*q1-q2*q2+q3*q3 ), axis=1)\n",
    "    \n",
    "    return Rx, Ry, Rz"
   ]
  },
  {
   "cell_type": "code",
   "execution_count": null,
   "metadata": {},
   "outputs": [],
   "source": []
  }
 ],
 "metadata": {
  "kernelspec": {
   "display_name": "Python 3",
   "language": "python",
   "name": "python3"
  },
  "language_info": {
   "codemirror_mode": {
    "name": "ipython",
    "version": 3
   },
   "file_extension": ".py",
   "mimetype": "text/x-python",
   "name": "python",
   "nbconvert_exporter": "python",
   "pygments_lexer": "ipython3",
   "version": "3.6.4"
  }
 },
 "nbformat": 4,
 "nbformat_minor": 2
}
