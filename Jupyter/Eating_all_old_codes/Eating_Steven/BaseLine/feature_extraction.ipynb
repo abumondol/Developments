{
 "cells": [
  {
   "cell_type": "code",
   "execution_count": null,
   "metadata": {
    "scrolled": true
   },
   "outputs": [],
   "source": [
    "import numpy as np\n",
    "from scipy import signal\n",
    "import pickle\n",
    "import os\n",
    "import matplotlib.pyplot as plt"
   ]
  },
  {
   "cell_type": "code",
   "execution_count": null,
   "metadata": {
    "scrolled": true
   },
   "outputs": [],
   "source": [
    "def mean_magnitude(d):\n",
    "    d= np.sqrt(np.sum(d*d, axis=1))\n",
    "    return np.mean(d)\n",
    "\n",
    "def butter_highpass(cutoff, fs, order=5):\n",
    "    nyq = 0.5 * fs\n",
    "    normal_cutoff = cutoff / nyq\n",
    "    b, a = signal.butter(order, normal_cutoff, btype='high', analog=False)\n",
    "    return b, a\n",
    "\n",
    "def butter_highpass_filter(data, cutoff, fs, order=5):\n",
    "    b, a = butter_highpass(cutoff, fs, order=order)\n",
    "    y = signal.filtfilt(b, a, data)\n",
    "    return y\n",
    "\n",
    "def zero_cross(d):\n",
    "    x = (d[:-1]*d[1:]<0)\n",
    "    zcr = np.sum(x)\n",
    "    x = np.argwhere(x==True)\n",
    "    #print(x.reshape((1,-1)))\n",
    "    std = np.std(x[1:]-x[:-1])    \n",
    "    return zcr, std    "
   ]
  },
  {
   "cell_type": "code",
   "execution_count": null,
   "metadata": {
    "scrolled": true
   },
   "outputs": [],
   "source": [
    "def get_features_one_window(d):\n",
    "    t, accel, gyro, grav = d[:, 0], d[:, 1:4], d[:, 4:7], d[:, 7:]\n",
    "    \n",
    "    accel_mean = np.mean(accel, axis=0)\n",
    "    gyro_mean = np.mean(gyro, axis=0)\n",
    "    gyro_mean_mag = mean_magnitude(gyro)\n",
    "    accel_dv_mean_mag = mean_magnitude(accel[1:, :]-accel[:-1, :])\n",
    "    \n",
    "    accel_cov = np.cov(accel, rowvar=False)\n",
    "    #accel_cov = np.corrcoef(accel, rowvar=False)\n",
    "    accel_cov = np.array([accel_cov[0,1], accel_cov[0,2], accel_cov[1,2]])\n",
    "    \n",
    "    hamming_window = signal.hamming(len(accel))    \n",
    "    poly_x = np.polyfit(t-t[0], accel[:, 0], deg=4, w=hamming_window)\n",
    "    poly_y = np.polyfit(t-t[0], accel[:, 1], deg=4, w=hamming_window)\n",
    "    poly_z = np.polyfit(t-t[0], accel[:, 2], deg=4, w=hamming_window)\n",
    "    \n",
    "    high_x = butter_highpass_filter(accel[:, 0], cutoff = 4, fs=16)\n",
    "    high_y = butter_highpass_filter(accel[:, 1], cutoff = 4, fs=16)\n",
    "    high_z = butter_highpass_filter(accel[:, 2], cutoff = 4, fs=16)\n",
    "    \n",
    "    accel_zcr_x, accel_zcr_std_x = zero_cross(high_x)\n",
    "    accel_zcr_y, accel_zcr_std_y = zero_cross(high_y)\n",
    "    accel_zcr_z, accel_zcr_std_z = zero_cross(high_z)\n",
    "    \n",
    "    res = np.zeros((1, 32))\n",
    "    res[0, 0:3] = accel_mean\n",
    "    res[0, 3:6] = gyro_mean\n",
    "    res[0, 6] = gyro_mean_mag\n",
    "    res[0, 7] = accel_dv_mean_mag\n",
    "    res[0, 8:11] = accel_cov\n",
    "    res[0, 11:16] = poly_x\n",
    "    res[0, 16:21] = poly_y\n",
    "    res[0, 21:26] = poly_z\n",
    "    res[0, 26] = accel_zcr_x\n",
    "    res[0, 27] = accel_zcr_y\n",
    "    res[0, 28] = accel_zcr_z\n",
    "    res[0, 29] = accel_zcr_std_x\n",
    "    res[0, 30] = accel_zcr_std_y\n",
    "    res[0, 31] = accel_zcr_std_z\n",
    "    \n",
    "    return res"
   ]
  },
  {
   "cell_type": "code",
   "execution_count": null,
   "metadata": {
    "scrolled": true
   },
   "outputs": [],
   "source": [
    "def get_features_one_session(data, window_size=5*16, step_size=2):\n",
    "    count = (len(data)-window_size)//step_size + 1\n",
    "    res = np.zeros((count, 33))\n",
    "    \n",
    "    print(\"Data sahpe: \", data.shape, \"Feature shape: \", res.shape)\n",
    "    for i in range(count):\n",
    "        si = i*2        \n",
    "        d = data[si:si+window_size, :]\n",
    "        res[i, 0] = d[0, 0]\n",
    "        res[i, 1:] = get_features_one_window(d)\n",
    "        if i%10000==0:\n",
    "            print(i, end=\", \")\n",
    "    \n",
    "    return res"
   ]
  },
  {
   "cell_type": "code",
   "execution_count": null,
   "metadata": {
    "scrolled": true
   },
   "outputs": [],
   "source": [
    "def get_features_steven_lab():\n",
    "    path = 'C:/ASM/DevData/eating_steven/data' if \"C:\" in os.getcwd() else 'data'    \n",
    "    feature_path = path + '/features_steven_lab.pkl'\n",
    "    if os.path.exists(feature_path):\n",
    "        print(\"Features file exists. Reading from file...\")\n",
    "        with open(feature_path, 'rb') as file:\n",
    "            features = pickle.load(file)            \n",
    "        return features\n",
    "        \n",
    "    with open(path+'/data_steven_lab.pkl', 'rb') as file:\n",
    "        data = pickle.load(file)\n",
    "    \n",
    "    features = []    \n",
    "    for subj in range(len(data)):\n",
    "        fsubj =[]\n",
    "        for sess in range(len(data[subj])):\n",
    "            print(\"Extracing features... Subj, sess: \", subj, sess)\n",
    "            d = data[subj][sess][\"data_right\"]\n",
    "            f = get_features_one_session(d)\n",
    "            print(\"Feature shape: \", f.shape)\n",
    "            fsubj.append(f)\n",
    "            \n",
    "        features.append(fsubj)\n",
    "        \n",
    "    with open(feature_path, 'wb') as file:\n",
    "        pickle.dump(features, file)\n",
    "        \n",
    "    return features"
   ]
  },
  {
   "cell_type": "code",
   "execution_count": null,
   "metadata": {
    "scrolled": false
   },
   "outputs": [],
   "source": [
    "#f=get_features_steven_lab()"
   ]
  },
  {
   "cell_type": "code",
   "execution_count": null,
   "metadata": {
    "scrolled": true
   },
   "outputs": [],
   "source": [
    "def get_features_steven_free():\n",
    "    path = 'C:/ASM/DevData/eating_steven/data' if \"C:\" in os.getcwd() else 'data'    \n",
    "    feature_path = path + '/features_steven_free.pkl'\n",
    "    \n",
    "    if os.path.exists(feature_path):\n",
    "        print(\"Features file exists. Reading from file...\")\n",
    "        with open(feature_path, 'rb') as file:\n",
    "            features = pickle.load(file)            \n",
    "        return features\n",
    "        \n",
    "    with open(path + '/data_steven_free.pkl', 'rb') as file:\n",
    "        data = pickle.load(file)\n",
    "    \n",
    "    features = []    \n",
    "    for subj in range(len(data)):\n",
    "        fsubj =[]\n",
    "        for sess in range(len(data[subj])):\n",
    "            print(\"Extracing features... Subj, sess: \", subj, sess)\n",
    "            d = data[subj][sess][\"data_right\"]\n",
    "            f = get_features_one_session(d)\n",
    "            print(\"Feature shape: \", f.shape)\n",
    "            fsubj.append(f)\n",
    "            \n",
    "        features.append(fsubj)\n",
    "        \n",
    "    with open(feature_path, 'wb') as file:\n",
    "        pickle.dump(features, file)\n",
    "        \n",
    "    return features"
   ]
  },
  {
   "cell_type": "code",
   "execution_count": null,
   "metadata": {
    "scrolled": true
   },
   "outputs": [],
   "source": [
    "#get_features_steven_free()"
   ]
  },
  {
   "cell_type": "code",
   "execution_count": null,
   "metadata": {
    "scrolled": true
   },
   "outputs": [],
   "source": [
    "\"\"\"\n",
    "at = data[0][0][\"annots\"][5, 0]\n",
    "at = int(at*16)\n",
    "d = data[0][0][\"data_right\"]\n",
    "d = d[at-40:at+40, :]\n",
    "print(d.shape)\n",
    "t, accel, gyro, grav = d[:, 0], d[:, 1:4], d[:, 4:7], d[:, 7:]\n",
    "\n",
    "res = get_features_one_window(d)\n",
    "print(res.shape)\n",
    "print(res)\n",
    "#accel_mean = np.mean(accel, axis=0)\n",
    "#gyro_mean = np.mean(gyro, axis=0)\n",
    "#gyro_mean_mag = mean_magnitude(gyro)\n",
    "#accel_dv_mean_mag = mean_magnitude(accel[1:, :]-accel[:-1, :])\n",
    "#print(accel_mean)\n",
    "#print(gyro_mean)\n",
    "#print(gyro_mean_mag)\n",
    "#print(accel_dv_mean_mag)\n",
    "\n",
    "#accel_cov = np.cov(accel, rowvar=False)\n",
    "#print(accel_cov)\n",
    "#accel_cov = [accel_cov[0,1], accel_cov[0,2], accel_cov[1,2]]\n",
    "#print(accel_cov)\n",
    "\n",
    "#hamming_window = signal.hamming(len(accel))    \n",
    "#poly_x = np.polyfit(t-t[0], accel[:, 0], deg=4, w=hamming_window)\n",
    "#poly_y = np.polyfit(t-t[0], accel[:, 1], deg=4, w=hamming_window)\n",
    "#poly_z = np.polyfit(t-t[0], accel[:, 2], deg=4, w=hamming_window)\n",
    "#print(poly_x,\"\\n\", poly_y, \"\\n\", poly_z)\n",
    "\n",
    "#px, py, pz = np.poly1d(poly_x), np.poly1d(poly_y), np.poly1d(poly_z)\n",
    "#fig,ax=plt.subplots(figsize=(14,8))\n",
    "#plt.plot(d[:, 0], hamming_window)\n",
    "#plt.plot(d[:, 0], accel[:, 2])\n",
    "#plt.plot(d[:, 0], pz(t-t[0]), linestyle=\":\")\n",
    "#plt.show()\n",
    "\n",
    "high_x = butter_highpass_filter(accel[:, 0], cutoff = 4, fs=16)\n",
    "high_x5 = butter_highpass_filter(accel[:, 0], cutoff = 5, fs=16)\n",
    "high_x6 = butter_highpass_filter(accel[:, 0], cutoff = 6, fs=16)\n",
    "high_x3 = butter_highpass_filter(accel[:, 0], cutoff = 3, fs=16)\n",
    "high_y = butter_highpass_filter(accel[:, 1], cutoff = 3, fs=16)\n",
    "high_z = butter_highpass_filter(accel[:, 1], cutoff = 3, fs=16)\n",
    "#accel_zcr, accel_zcr_std = zero_cross(np.concatenate((high_x. high_y, high_z), axis=1))\n",
    "#accel_zcr, accel_zcr_std = zero_cross(high_y)\n",
    "#print(accel_zcr)\n",
    "#print(accel_zcr_std)\n",
    "\n",
    "fig,ax=plt.subplots(figsize=(14,8))\n",
    "#plt.plot(d[:, 0], high_x, color='black')\n",
    "plt.plot((t-t[0])*16, high_y, color='red')\n",
    "#plt.plot(d[:, 0], high_x5, color='green')\n",
    "#plt.plot(d[:, 0], high_x6, color='blue')\n",
    "plt.grid(True)\n",
    "plt.show()\n",
    "\n",
    "fig,ax=plt.subplots(figsize=(14,8))\n",
    "plt.plot(d[:, 0], accel)\n",
    "plt.show()\n",
    "\n",
    "fig,ax=plt.subplots(figsize=(14,8))\n",
    "plt.plot(d[:, 0], gyro)\n",
    "plt.show()\n",
    "\n",
    "fig,ax=plt.subplots(figsize=(14,8))\n",
    "plt.plot(d[:, 0], d[:, 7:])\n",
    "plt.show()\n",
    "\"\"\""
   ]
  },
  {
   "cell_type": "code",
   "execution_count": null,
   "metadata": {
    "scrolled": true
   },
   "outputs": [],
   "source": []
  }
 ],
 "metadata": {
  "kernelspec": {
   "display_name": "Python 3",
   "language": "python",
   "name": "python3"
  },
  "language_info": {
   "codemirror_mode": {
    "name": "ipython",
    "version": 3
   },
   "file_extension": ".py",
   "mimetype": "text/x-python",
   "name": "python",
   "nbconvert_exporter": "python",
   "pygments_lexer": "ipython3",
   "version": "3.6.4"
  }
 },
 "nbformat": 4,
 "nbformat_minor": 2
}
