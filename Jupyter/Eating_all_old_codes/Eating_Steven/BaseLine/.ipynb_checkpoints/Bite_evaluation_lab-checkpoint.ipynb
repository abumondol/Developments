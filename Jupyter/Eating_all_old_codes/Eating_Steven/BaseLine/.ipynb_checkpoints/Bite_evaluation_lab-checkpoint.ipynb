{
 "cells": [
  {
   "cell_type": "code",
   "execution_count": 1,
   "metadata": {},
   "outputs": [],
   "source": [
    "import numpy as np\n",
    "import scipy as sp\n",
    "import os \n",
    "import pickle\n",
    "import sys"
   ]
  },
  {
   "cell_type": "code",
   "execution_count": 2,
   "metadata": {},
   "outputs": [],
   "source": [
    "path = 'C:/ASM/DevData/eating_steven/data' if \"C:\" in os.getcwd() else 'data'    \n",
    "with open(path+'/data_steven_lab.pkl', 'rb') as file:\n",
    "    data = pickle.load(file)"
   ]
  },
  {
   "cell_type": "code",
   "execution_count": 55,
   "metadata": {},
   "outputs": [],
   "source": [
    "def find_bites(proba):\n",
    "    count = len(proba)\n",
    "    th = np.percentile(proba, 99.9)\n",
    "    print(\"Count, Threshold: \", count, th)\n",
    "    print(np.sum(proba>th))\n",
    "    \n",
    "    res =[]\n",
    "    inside = False\n",
    "    for i in range(count):\n",
    "        if proba[i]>=th and inside==False:\n",
    "            inside = True\n",
    "            si = i\n",
    "        elif proba[i]<th/2 and inside==True:            \n",
    "            res.append([si, i])\n",
    "            inside = False\n",
    "    \n",
    "    return np.array(res)\n",
    "\n",
    "def compare_results(a, b):\n",
    "    a = a[a[:, -1]==0, :]\n",
    "    a = a[:,0]+a[:,1]/2\n",
    "    b = (b[:,0]+b[:,1])/2\n",
    "    offset = 3\n",
    "    tp, fp, fn = 0, 0, 0\n",
    "    \n",
    "    for i in range(len(a)):\n",
    "        if np.sum((b-offset<=a[i]) &(a[i]<=b+offset))>0:\n",
    "            tp += 1\n",
    "        else:\n",
    "            fn+=1\n",
    "    \n",
    "    for i in range(len(b)):\n",
    "        if np.sum((b-offset<=a[i]) &(a[i]<=b+offset))==0:\n",
    "            fp += 1\n",
    "        \n",
    "    return tp, fp, fn\n",
    "    "
   ]
  },
  {
   "cell_type": "code",
   "execution_count": 60,
   "metadata": {},
   "outputs": [
    {
     "name": "stdout",
     "output_type": "stream",
     "text": [
      "Subj, sess:  0 0\n",
      "Count, Threshold:  181954 0.37\n",
      "171\n",
      "3.25\n",
      "TP, FP, FN:  3 49 152\n",
      "Subj, sess:  0 1\n",
      "Count, Threshold:  187104 0.5\n",
      "184\n",
      "2.75\n",
      "TP, FP, FN:  31 60 360\n",
      "Subj, sess:  1 0\n",
      "Count, Threshold:  172680 0.41\n",
      "167\n",
      "2.625\n",
      "TP, FP, FN:  9 31 33\n",
      "Subj, sess:  2 0\n",
      "Count, Threshold:  183582 0.51\n",
      "171\n",
      "4.625\n",
      "TP, FP, FN:  19 37 134\n",
      "Subj, sess:  2 1\n",
      "Count, Threshold:  169643 0.43\n",
      "160\n",
      "3.875\n",
      "TP, FP, FN:  8 29 136\n",
      "Subj, sess:  3 0\n",
      "Count, Threshold:  175611 0.31\n",
      "165\n",
      "6.5\n",
      "TP, FP, FN:  16 49 148\n",
      "Subj, sess:  3 1\n",
      "Count, Threshold:  173248 0.47\n",
      "168\n",
      "3.0\n",
      "TP, FP, FN:  6 25 92\n",
      "Subj, sess:  4 0\n",
      "Count, Threshold:  175751 0.5\n",
      "154\n",
      "4.5\n",
      "TP, FP, FN:  23 40 165\n",
      "Subj, sess:  4 1\n",
      "Count, Threshold:  173150 0.33\n",
      "166\n",
      "3.125\n",
      "TP, FP, FN:  5 31 68\n",
      "Subj, sess:  5 0\n",
      "Count, Threshold:  169937 0.36\n",
      "156\n",
      "3.625\n",
      "TP, FP, FN:  13 30 107\n",
      "Subj, sess:  5 1\n",
      "Count, Threshold:  181030 0.39\n",
      "164\n",
      "2.75\n",
      "TP, FP, FN:  21 45 86\n",
      "Subj, sess:  6 0\n",
      "Count, Threshold:  170724 0.48\n",
      "163\n",
      "3.125\n",
      "TP, FP, FN:  6 23 42\n",
      "Subj, sess:  6 1\n",
      "Count, Threshold:  169265 0.45000000000000007\n",
      "168\n",
      "2.5\n",
      "TP, FP, FN:  10 36 79\n",
      "TPs, FPs, FNs:  170 485 1602\n"
     ]
    }
   ],
   "source": [
    "tps, fps, fns = 0, 0, 0\n",
    "for subj in range(len(data)):\n",
    "    for sess in range(len(data[subj])):\n",
    "        print(\"Subj, sess: \", subj, sess)\n",
    "        \n",
    "        a = data[subj][sess][\"annots\"]\n",
    "        with open(path+'/rf_results_lopo_binary/result_'+str(subj)+'-'+str(sess)+'.pkl', 'rb') as file:\n",
    "            res = pickle.load(file)\n",
    "        \n",
    "        plabel = res[\"plabel\"]\n",
    "        proba = res[\"proba\"][:, 1]\n",
    "        \n",
    "        b = find_bites(proba)\n",
    "        b = 2*b/16\n",
    "        \n",
    "        print(np.amax(b[:,1]-b[:, 0]))\n",
    "        #print(a[:,0]+a[:,1]/2)\n",
    "        #print((b[:,0]+b[:,1])/2)\n",
    "        \n",
    "        tp, fp, fn = compare_results(a, b)\n",
    "        print(\"TP, FP, FN: \", tp, fp, fn)\n",
    "        \n",
    "        tps+=tp\n",
    "        fps+=fp\n",
    "        fns+=fn\n",
    "print(\"TPs, FPs, FNs: \", tps, fps, fns)"
   ]
  },
  {
   "cell_type": "code",
   "execution_count": 61,
   "metadata": {},
   "outputs": [
    {
     "name": "stdout",
     "output_type": "stream",
     "text": [
      "0.2595419847328244 0.09593679458239278\n"
     ]
    }
   ],
   "source": [
    "pc = tps/(tps+fps)\n",
    "rc = tps/(tps+fns)\n",
    "\n",
    "print(pc, rc)"
   ]
  },
  {
   "cell_type": "code",
   "execution_count": null,
   "metadata": {},
   "outputs": [],
   "source": []
  }
 ],
 "metadata": {
  "kernelspec": {
   "display_name": "Python 3",
   "language": "python",
   "name": "python3"
  },
  "language_info": {
   "codemirror_mode": {
    "name": "ipython",
    "version": 3
   },
   "file_extension": ".py",
   "mimetype": "text/x-python",
   "name": "python",
   "nbconvert_exporter": "python",
   "pygments_lexer": "ipython3",
   "version": "3.6.4"
  }
 },
 "nbformat": 4,
 "nbformat_minor": 2
}
