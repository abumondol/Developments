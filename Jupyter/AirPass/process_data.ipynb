{
 "cells": [
  {
   "cell_type": "code",
   "execution_count": 2,
   "metadata": {
    "collapsed": false
   },
   "outputs": [],
   "source": [
    "import numpy as np\n",
    "import pickle\n",
    "import os\n",
    "import sys\n",
    "import myutils"
   ]
  },
  {
   "cell_type": "code",
   "execution_count": 3,
   "metadata": {
    "collapsed": false
   },
   "outputs": [],
   "source": [
    "def get_data(file_name):\n",
    "    d = []\n",
    "    with open(\"C:/ASM/DevData/AirPass/genuine/\"+f, \"rb\") as file:\n",
    "        d = pickle.load(file)\n",
    "    return d\n",
    "\n",
    "def process_password(pw):\n",
    "    si, ei = myutils.boundaries(pw)\n",
    "    pw = pw[si:ei+1, :]\n",
    "    pw[:, 0] = pw[:, 0] - pw[0, 0]\n",
    "    pw = myutils.normalize_data(pw)\n",
    "    return pw\n",
    "    "
   ]
  },
  {
   "cell_type": "code",
   "execution_count": 4,
   "metadata": {
    "collapsed": false
   },
   "outputs": [
    {
     "name": "stdout",
     "output_type": "stream",
     "text": [
      "Processing  abu.pkl >> PW  1 , Count  10\n",
      "Processing  abu.pkl >> PW  2 , Count  10\n",
      "Processing  abu.pkl >> PW  3 , Count  10\n",
      "Processing  liza.pkl >> PW  1 , Count  10\n",
      "Processing  liza.pkl >> PW  2 , Count  10\n",
      "Processing  liza.pkl >> PW  3 , Count  10\n"
     ]
    }
   ],
   "source": [
    "flist = os.listdir(\"C:/ASM/DevData/AirPass/genuine/\")\n",
    "for f in flist:\n",
    "    d = get_data(f)\n",
    "    if len(d) == 0:\n",
    "        print(\"length is 0\")\n",
    "        sys.exit(0)\n",
    "    \n",
    "    for key, value in d.items():        \n",
    "        pws = d[key]        \n",
    "        pw_count = len(pws)\n",
    "        \n",
    "        print(\"Processing \", f, \">> PW \",key, \", Count \", pw_count)        \n",
    "        for i in range(pw_count):\n",
    "            pws[i] = process_password(pws[i])\n",
    "\n",
    "        d[key] = pws\n",
    "            \n",
    "    with open(\"C:/ASM/DevData/AirPass/genuine_processed/\"+f, \"wb\") as file:\n",
    "        pickle.dump(d, file)\n",
    "        "
   ]
  },
  {
   "cell_type": "code",
   "execution_count": null,
   "metadata": {
    "collapsed": true
   },
   "outputs": [],
   "source": []
  }
 ],
 "metadata": {
  "kernelspec": {
   "display_name": "Python [conda root]",
   "language": "python",
   "name": "conda-root-py"
  },
  "language_info": {
   "codemirror_mode": {
    "name": "ipython",
    "version": 3
   },
   "file_extension": ".py",
   "mimetype": "text/x-python",
   "name": "python",
   "nbconvert_exporter": "python",
   "pygments_lexer": "ipython3",
   "version": "3.5.2"
  }
 },
 "nbformat": 4,
 "nbformat_minor": 1
}
