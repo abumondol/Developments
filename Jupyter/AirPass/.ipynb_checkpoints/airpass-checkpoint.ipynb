{
 "cells": [
  {
   "cell_type": "code",
   "execution_count": 133,
   "metadata": {
    "collapsed": true
   },
   "outputs": [],
   "source": [
    "import numpy as np\n",
    "import pickle\n",
    "import os\n",
    "import sys\n",
    "from sklearn.cluster import KMeans\n",
    "import myutils\n",
    "\n",
    "import matplotlib.pyplot as plt\n",
    "%matplotlib inline"
   ]
  },
  {
   "cell_type": "code",
   "execution_count": 134,
   "metadata": {
    "collapsed": true
   },
   "outputs": [],
   "source": [
    "def get_data(subejcts):\n",
    "    data = {}\n",
    "    for subj in subjects:\n",
    "        with open(\"C:/ASM/DevData/AirPass/genuine_processed/\"+subj+\".pkl\", \"rb\") as file:\n",
    "            data[subj] = pickle.load(file)\n",
    "    return data"
   ]
  },
  {
   "cell_type": "code",
   "execution_count": 135,
   "metadata": {
    "collapsed": false
   },
   "outputs": [],
   "source": [
    "passwords = {1:\"123456\", 2:\"abc123\", 3:\"password\"}\n",
    "subjects = [\"abu\", \"liza\"]\n",
    "subject_count = len(subjects)\n",
    "data = get_data(subjects)"
   ]
  },
  {
   "cell_type": "code",
   "execution_count": 145,
   "metadata": {
    "collapsed": true
   },
   "outputs": [],
   "source": [
    "def DTW_euclidean(a, b, a_indices, b_indices):\n",
    "    a_six, a_eix = a_indices\n",
    "    b_six, b_eix = b_indices\n",
    "    \n",
    "    n = a_eix - a_six + 1\n",
    "    m = b_eix - b_six + 1    \n",
    "        \n",
    "    D = np.zeros((n+1, m+1)) + 1e10            \n",
    "    D[0, 0] = 0\n",
    "    for i in range(1, n+1):\n",
    "        for j in range(1, m+1):\n",
    "            d = a[a_six + i-1, 1:4] - b[b_six + j-1, 1:4]\n",
    "            D[i, j] = np.sum(d*d) + min([D[i-1, j-1], D[i, j-1], D[i-1, j]])\n",
    "            \n",
    "    distance = D[n, m]        \n",
    "    return distance  "
   ]
  },
  {
   "cell_type": "code",
   "execution_count": 146,
   "metadata": {
    "collapsed": true
   },
   "outputs": [],
   "source": [
    "def DTW(a, b, a_indices, b_indices):\n",
    "    a_six, a_eix = a_indices\n",
    "    b_six, b_eix = b_indices\n",
    "    \n",
    "    n = a_eix - a_six + 1\n",
    "    m = b_eix - b_six + 1    \n",
    "        \n",
    "    D = np.zeros((3, n+1, m+1)) + 1e10            \n",
    "    D[:, 0, 0] = 0\n",
    "    for i in range(1, n+1):\n",
    "        for j in range(1, m+1):\n",
    "            d = np.absolute(a[a_six + i-1, 1:4] - b[b_six + j-1, 1:4])\n",
    "            for axis in range(3):                \n",
    "                D[axis, i, j] = d[axis] + min([D[axis, i-1, j-1], D[axis, i, j-1], D[axis, i-1, j]])\n",
    "            \n",
    "    distance = D[0, n, m] + D[1, n, m] + D[2, n, m]\n",
    "    return distance  "
   ]
  },
  {
   "cell_type": "code",
   "execution_count": 147,
   "metadata": {
    "collapsed": true
   },
   "outputs": [],
   "source": [
    "def DTW_step(a, b, a_indices, b_indices, step_size):\n",
    "    \n",
    "    bmin_ix, b_six, b_eix, bmax_ix = b_indices\n",
    "    \n",
    "    res = []\n",
    "    for s in range(b_six, bmin_ix-1, -step_size):\n",
    "        e = s + b_eix - b_six\n",
    "        d = DTW(a, b, a_indices, [s, e])\n",
    "        res.append(d)\n",
    "        \n",
    "    for e in range(b_eix+step_size, bmax_ix+1, step_size):\n",
    "        s = e - (b_eix - b_six)\n",
    "        d = DTW(a, b, a_indices, [s, e])\n",
    "        res.append(d)\n",
    "    \n",
    "    return min(res)"
   ]
  },
  {
   "cell_type": "code",
   "execution_count": 148,
   "metadata": {
    "collapsed": true
   },
   "outputs": [],
   "source": [
    "def distance(a, b, pw_len, step): # a is the password, b is the template\n",
    "    npoints = 2*pw_len + 2\n",
    "    apts = np.round(np.linspace(0, len(a)-1, npoints))\n",
    "    bpts = np.round(np.linspace(0, len(b)-1, npoints))\n",
    "    apts = apts.astype(int)\n",
    "    bpts = bpts.astype(int)\n",
    "    #print(\"a, apts:\", len(a), apts)\n",
    "    #print(\"b, apts:\", len(b), bpts)\n",
    "    #print(len(a), len(b), pw_len, step)\n",
    "    \n",
    "    d = 0\n",
    "    for i in range(npoints-2):\n",
    "        a_indices = [ apts[i], apts[i+2] ]\n",
    "        b_indices = [ bpts[max([0, i-1])],  bpts[i], bpts[i+2], bpts[min(i+3, npoints-1)] ]\n",
    "        #print(a_indices)\n",
    "        #print(b_indices)\n",
    "        d += DTW_step(a, b, a_indices, b_indices, step)\n",
    "        \n",
    "    return d"
   ]
  },
  {
   "cell_type": "code",
   "execution_count": 149,
   "metadata": {
    "collapsed": true
   },
   "outputs": [],
   "source": [
    "def train_model(pws, pw_len, step):\n",
    "    pw_count = len(pws)\n",
    "    ds = []    \n",
    "    for i in range(pw_count):\n",
    "        for j in range(i+1, pw_count):\n",
    "            d1 = distance(pws[i], pws[j], pw_len, step)            \n",
    "            d2 = distance(pws[j], pws[i], pw_len, step)\n",
    "            print(\"Distance {}, {} :{}, {}\".format(i, j, d1, d2))\n",
    "            ds.append(d1)\n",
    "            ds.append(d2)\n",
    "    \n",
    "    mu = np.mean(ds)\n",
    "    sigma = np.std(ds)    \n",
    "    model = {\"pws\":pws, \"ds\":ds, \"mu\":mu, \"sigma\":sigma}\n",
    "    return model\n",
    "    \n",
    "    "
   ]
  },
  {
   "cell_type": "code",
   "execution_count": 150,
   "metadata": {
    "collapsed": true
   },
   "outputs": [],
   "source": [
    "def test_pw(model, pw, pw_len, step):    \n",
    "    ds = []\n",
    "    for p in model[\"pws\"]:\n",
    "        d1 = distance(p, pw, pw_len, step)  \n",
    "        d2 = distance(pw, p, pw_len, step)  \n",
    "        ds.append(d1)\n",
    "        ds.append(d2)\n",
    "        \n",
    "    d = np.mean(ds)\n",
    "    sigma = (d - model[\"mu\"])/model[\"sigma\"]\n",
    "    return sigma\n",
    "    \n",
    "def test_pws(model, pws, pw_len, step):\n",
    "    res = []\n",
    "    for p in pws:\n",
    "        sigma = test_pw(model, p, pw_len, step)\n",
    "        print(sigma)\n",
    "        res.append(sigma)        \n",
    "    return res"
   ]
  },
  {
   "cell_type": "code",
   "execution_count": 151,
   "metadata": {
    "collapsed": true
   },
   "outputs": [],
   "source": [
    "def check_training_pws(pws, pw_len, step):\n",
    "    pw_count = len(pws)\n",
    "    max_sigma = -1\n",
    "    max_index = -1\n",
    "    for i in range(pw_count):\n",
    "        pws_new = []\n",
    "        for j in range(pw_count):\n",
    "            if j!=i:\n",
    "                pws_new.append(pws[j])\n",
    "                \n",
    "        model = train_model(pws_new, pw_len, step)        \n",
    "        sigma = test_pw(model, pws[i], pw_len, step)\n",
    "        print(\"Password {}>> model mu :{}, model sigma:{}, pw sigma:{}\".format(i, model[\"mu\"], model[\"sigma\"], sigma))\n",
    "        \n",
    "        if sigma >max_sigma:\n",
    "            max_sigma = sigma\n",
    "            max_index = i\n",
    "            \n",
    "    return i, max_sigma"
   ]
  },
  {
   "cell_type": "code",
   "execution_count": 156,
   "metadata": {
    "collapsed": false
   },
   "outputs": [
    {
     "name": "stdout",
     "output_type": "stream",
     "text": [
      "Distance 0, 1 :543.3934455759436, 501.3386078736009\n",
      "Distance 0, 2 :602.6908492191379, 573.5789842954252\n",
      "Distance 0, 3 :543.2436076482506, 523.7468917868597\n",
      "Distance 0, 4 :573.8373559841937, 531.8042284795577\n",
      "Distance 1, 2 :478.64183249080395, 471.00969664061296\n",
      "Distance 1, 3 :519.4668463310518, 506.41141532987746\n",
      "Distance 1, 4 :544.6786546396661, 546.6638250436725\n",
      "Distance 2, 3 :482.6383564741693, 483.18570616704403\n",
      "Distance 2, 4 :504.9337991571521, 517.6379868511195\n",
      "Distance 3, 4 :480.87140448665616, 467.52805712353427\n",
      "Model mu:519.8650775799164, sigma:36.79626971228676\n"
     ]
    }
   ],
   "source": [
    "pw_no = 3\n",
    "pws1 = data[\"abu\"][pw_no]\n",
    "pws2 = data[\"liza\"][pw_no]\n",
    "pw_len = len(passwords[pw_no])\n",
    "\n",
    "step = 5\n",
    "#i, max_sigma = check_training_pws(pws[:5], pw_len = len(passwords[pw_no]), step = step)\n",
    "model = train_model(pws2[:5], pw_len, step)\n",
    "print(\"Model mu:{}, sigma:{}\".format(model[\"mu\"], model[\"sigma\"]))\n"
   ]
  },
  {
   "cell_type": "code",
   "execution_count": 157,
   "metadata": {
    "collapsed": false,
    "scrolled": true
   },
   "outputs": [
    {
     "name": "stdout",
     "output_type": "stream",
     "text": [
      "0.540546360766\n",
      "-0.405427243589\n",
      "-0.31446128228\n",
      "0.302475684744\n",
      "-0.039979119907\n",
      "[0.54054636076585583, -0.40542724358851556, -0.31446128227975434, 0.30247568474406811, -0.0399791199069865]\n",
      "11.8582573501\n",
      "12.0106321624\n",
      "16.5419082946\n",
      "11.2833052812\n",
      "13.4737620497\n",
      "8.74213493235\n",
      "12.0630351246\n",
      "10.6691623106\n",
      "13.2884105231\n",
      "13.0564527489\n",
      "[11.858257350110293, 12.010632162386367, 16.541908294620296, 11.283305281172655, 13.473762049725813, 8.7421349323473088, 12.063035124590812, 10.669162310618946, 13.288410523138204, 13.056452748904553]\n"
     ]
    }
   ],
   "source": [
    "res1 = test_pws(model, pws2[5:], pw_len, step)\n",
    "print(res1)\n",
    "\n",
    "res2 = test_pws(model, pws1, pw_len, step)\n",
    "print(res2)\n"
   ]
  },
  {
   "cell_type": "code",
   "execution_count": null,
   "metadata": {
    "collapsed": true
   },
   "outputs": [],
   "source": []
  }
 ],
 "metadata": {
  "kernelspec": {
   "display_name": "Python [conda root]",
   "language": "python",
   "name": "conda-root-py"
  },
  "language_info": {
   "codemirror_mode": {
    "name": "ipython",
    "version": 3
   },
   "file_extension": ".py",
   "mimetype": "text/x-python",
   "name": "python",
   "nbconvert_exporter": "python",
   "pygments_lexer": "ipython3",
   "version": "3.5.2"
  }
 },
 "nbformat": 4,
 "nbformat_minor": 1
}
