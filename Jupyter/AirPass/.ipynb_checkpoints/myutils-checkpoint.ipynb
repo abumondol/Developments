{
 "cells": [
  {
   "cell_type": "code",
   "execution_count": 10,
   "metadata": {
    "collapsed": true
   },
   "outputs": [],
   "source": [
    "import numpy as np\n",
    "from sklearn.cluster import KMeans"
   ]
  },
  {
   "cell_type": "code",
   "execution_count": 11,
   "metadata": {
    "collapsed": true
   },
   "outputs": [],
   "source": [
    "#print(sub_dict[1][0][:100, :])\n",
    "def boundaries(data):\n",
    "    d = data[:, -3:]\n",
    "    km = KMeans(n_clusters = 2)\n",
    "    res = km.fit_predict(d)    \n",
    "    si = 0    \n",
    "    for i in range(len(d)-1):\n",
    "        if res[i] != res[i+1]:\n",
    "            si = i + 1\n",
    "            break\n",
    "            \n",
    "    ei = len(d)-1    \n",
    "    for i in range(len(d)-1, 0, -1):\n",
    "        if res[i] != res[i-1]:\n",
    "            ei = i - 1\n",
    "            break         \n",
    "    \n",
    "    return si, ei"
   ]
  },
  {
   "cell_type": "code",
   "execution_count": 12,
   "metadata": {
    "collapsed": true
   },
   "outputs": [],
   "source": [
    "def normalize_data(data, si=0, ei=0):\n",
    "    if ei==0:\n",
    "        ei=len(data)\n",
    "        \n",
    "    data = np.copy(data)\n",
    "    m = np.mean(data[si:ei, 1:], axis = 0)\n",
    "    s = np.std(data[si:ei, 1:], axis = 0)\n",
    "    \n",
    "    data[:, 1:] = (data[:, 1:] - m)/s\n",
    "    return data"
   ]
  },
  {
   "cell_type": "code",
   "execution_count": null,
   "metadata": {
    "collapsed": true
   },
   "outputs": [],
   "source": [
    "def DTW(a, b):\n",
    "    n = len(a)\n",
    "    m = len(b)        \n",
    "        \n",
    "    D = np.zeros((n+1, m+1)) + 1e10            \n",
    "    for i in range(1, n+1):\n",
    "        for j in range(1, m+1):\n",
    "            d = a[i-1, :] - b[j-1, :]\n",
    "            D[i, j] = np.sum(d*d) + min([D[i-1, j-1], D[i, j-1], D[i-1, j]])\n",
    "            \n",
    "    distance = d[n, m]        \n",
    "    return distance\n",
    "    "
   ]
  },
  {
   "cell_type": "code",
   "execution_count": null,
   "metadata": {
    "collapsed": true
   },
   "outputs": [],
   "source": [
    "def DTW(a, b, a_indices, b_indices):\n",
    "    a_six, a_eix = a_indices\n",
    "    b_six, b_eix = b_indices\n",
    "    \n",
    "    n = a_eix - a_six + 1\n",
    "    m = b_eix - b_six + 1        \n",
    "        \n",
    "    D = np.zeros((n+1, m+1)) + 1e10            \n",
    "    for i in range(1, n+1):\n",
    "        for j in range(1, m+1):\n",
    "            d = a[a_six + i-1, :] - b[b_six + j-1, :]\n",
    "            D[i, j] = np.sum(d*d) + min([D[i-1, j-1], D[i, j-1], D[i-1, j]])\n",
    "            \n",
    "    distance = d[n, m]        \n",
    "    return distance    "
   ]
  },
  {
   "cell_type": "code",
   "execution_count": 13,
   "metadata": {
    "collapsed": true
   },
   "outputs": [],
   "source": [
    "def DTW_invariance(a, b, si, ei):\n",
    "    n = len(a)\n",
    "    m = len(b)        \n",
    "        \n",
    "    D = np.zeros((n+1, m+1)) + 1e10        \n",
    "    \n",
    "    if si >0:\n",
    "        D[0, 0:si] = 0\n",
    "    \n",
    "    for i in range(1, n+1):\n",
    "        for j in range(1, m+1):\n",
    "            d = a[i-1, :] - b[j-1, :]\n",
    "            D[i, j] = np.sum(d*d) + min([D[i-1, j-1], D[i, j-1], D[i-1, j]])\n",
    "    \n",
    "    if m-1>ei:\n",
    "        distance = np.amin(d[n, ei:])\n",
    "    else:\n",
    "        distance = d[n, m]\n",
    "        \n",
    "    return distance"
   ]
  },
  {
   "cell_type": "code",
   "execution_count": null,
   "metadata": {
    "collapsed": true
   },
   "outputs": [],
   "source": [
    "def DTW_step(a, b, a_indices, b_indices, step_size):\n",
    "    \n",
    "    bmin_ix, b_six, b_eix, bmax_ix = b_indices\n",
    "    \n",
    "    res = []    \n",
    "    for s in range(b_six, bmin_ix-1, -step_size):\n",
    "        e = s + b_eix - b_six\n",
    "        r = DTW(a, b, a_indices, [s, e])\n",
    "        res.append(r)\n",
    "        \n",
    "    for s in range(b_six, bmax_ix+1, step_size):\n",
    "        e = s + b_eix - b_six\n",
    "        r = DTW(a, b, a_indices, [s, e])\n",
    "        res.append(r)\n",
    "    \n",
    "    return min(res)"
   ]
  }
 ],
 "metadata": {
  "anaconda-cloud": {},
  "kernelspec": {
   "display_name": "Python [conda root]",
   "language": "python",
   "name": "conda-root-py"
  },
  "language_info": {
   "codemirror_mode": {
    "name": "ipython",
    "version": 3
   },
   "file_extension": ".py",
   "mimetype": "text/x-python",
   "name": "python",
   "nbconvert_exporter": "python",
   "pygments_lexer": "ipython3",
   "version": "3.5.2"
  }
 },
 "nbformat": 4,
 "nbformat_minor": 1
}
