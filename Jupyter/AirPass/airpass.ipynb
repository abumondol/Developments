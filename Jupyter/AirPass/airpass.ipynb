{
 "cells": [
  {
   "cell_type": "code",
   "execution_count": 133,
   "metadata": {
    "collapsed": true
   },
   "outputs": [],
   "source": [
    "import numpy as np\n",
    "import pickle\n",
    "import os\n",
    "import sys\n",
    "from sklearn.cluster import KMeans\n",
    "import myutils\n",
    "\n",
    "import matplotlib.pyplot as plt\n",
    "%matplotlib inline"
   ]
  },
  {
   "cell_type": "code",
   "execution_count": 134,
   "metadata": {
    "collapsed": true
   },
   "outputs": [],
   "source": [
    "def get_data(subejcts):\n",
    "    data = {}\n",
    "    for subj in subjects:\n",
    "        with open(\"C:/ASM/DevData/AirPass/genuine_processed/\"+subj+\".pkl\", \"rb\") as file:\n",
    "            data[subj] = pickle.load(file)\n",
    "    return data"
   ]
  },
  {
   "cell_type": "code",
   "execution_count": 135,
   "metadata": {
    "collapsed": false
   },
   "outputs": [],
   "source": [
    "passwords = {1:\"123456\", 2:\"abc123\", 3:\"password\"}\n",
    "subjects = [\"abu\", \"liza\"]\n",
    "subject_count = len(subjects)\n",
    "data = get_data(subjects)"
   ]
  },
  {
   "cell_type": "code",
   "execution_count": 145,
   "metadata": {
    "collapsed": true
   },
   "outputs": [],
   "source": [
    "def DTW_euclidean(a, b, a_indices, b_indices):\n",
    "    a_six, a_eix = a_indices\n",
    "    b_six, b_eix = b_indices\n",
    "    \n",
    "    n = a_eix - a_six + 1\n",
    "    m = b_eix - b_six + 1    \n",
    "        \n",
    "    D = np.zeros((n+1, m+1)) + 1e10            \n",
    "    D[0, 0] = 0\n",
    "    for i in range(1, n+1):\n",
    "        for j in range(1, m+1):\n",
    "            d = a[a_six + i-1, 1:4] - b[b_six + j-1, 1:4]\n",
    "            D[i, j] = np.sum(d*d) + min([D[i-1, j-1], D[i, j-1], D[i-1, j]])\n",
    "            \n",
    "    distance = D[n, m]        \n",
    "    return distance  "
   ]
  },
  {
   "cell_type": "code",
   "execution_count": 146,
   "metadata": {
    "collapsed": true
   },
   "outputs": [],
   "source": [
    "def DTW(a, b, a_indices, b_indices):\n",
    "    a_six, a_eix = a_indices\n",
    "    b_six, b_eix = b_indices\n",
    "    \n",
    "    n = a_eix - a_six + 1\n",
    "    m = b_eix - b_six + 1    \n",
    "        \n",
    "    D = np.zeros((3, n+1, m+1)) + 1e10            \n",
    "    D[:, 0, 0] = 0\n",
    "    for i in range(1, n+1):\n",
    "        for j in range(1, m+1):\n",
    "            d = np.absolute(a[a_six + i-1, 1:4] - b[b_six + j-1, 1:4])\n",
    "            for axis in range(3):                \n",
    "                D[axis, i, j] = d[axis] + min([D[axis, i-1, j-1], D[axis, i, j-1], D[axis, i-1, j]])\n",
    "            \n",
    "    distance = D[0, n, m] + D[1, n, m] + D[2, n, m]\n",
    "    return distance  "
   ]
  },
  {
   "cell_type": "code",
   "execution_count": 147,
   "metadata": {
    "collapsed": true
   },
   "outputs": [],
   "source": [
    "def DTW_step(a, b, a_indices, b_indices, step_size):\n",
    "    \n",
    "    bmin_ix, b_six, b_eix, bmax_ix = b_indices\n",
    "    \n",
    "    res = []\n",
    "    for s in range(b_six, bmin_ix-1, -step_size):\n",
    "        e = s + b_eix - b_six\n",
    "        d = DTW(a, b, a_indices, [s, e])\n",
    "        res.append(d)\n",
    "        \n",
    "    for e in range(b_eix+step_size, bmax_ix+1, step_size):\n",
    "        s = e - (b_eix - b_six)\n",
    "        d = DTW(a, b, a_indices, [s, e])\n",
    "        res.append(d)\n",
    "    \n",
    "    return min(res)"
   ]
  },
  {
   "cell_type": "code",
   "execution_count": 148,
   "metadata": {
    "collapsed": true
   },
   "outputs": [],
   "source": [
    "def distance(a, b, pw_len, step): # a is the password, b is the template\n",
    "    npoints = 2*pw_len + 2\n",
    "    apts = np.round(np.linspace(0, len(a)-1, npoints))\n",
    "    bpts = np.round(np.linspace(0, len(b)-1, npoints))\n",
    "    apts = apts.astype(int)\n",
    "    bpts = bpts.astype(int)\n",
    "    #print(\"a, apts:\", len(a), apts)\n",
    "    #print(\"b, apts:\", len(b), bpts)\n",
    "    #print(len(a), len(b), pw_len, step)\n",
    "    \n",
    "    d = 0\n",
    "    for i in range(npoints-2):\n",
    "        a_indices = [ apts[i], apts[i+2] ]\n",
    "        b_indices = [ bpts[max([0, i-1])],  bpts[i], bpts[i+2], bpts[min(i+3, npoints-1)] ]\n",
    "        #print(a_indices)\n",
    "        #print(b_indices)\n",
    "        d += DTW_step(a, b, a_indices, b_indices, step)\n",
    "        \n",
    "    return d"
   ]
  },
  {
   "cell_type": "code",
   "execution_count": 149,
   "metadata": {
    "collapsed": true
   },
   "outputs": [],
   "source": [
    "def train_model(pws, pw_len, step):\n",
    "    pw_count = len(pws)\n",
    "    ds = []    \n",
    "    for i in range(pw_count):\n",
    "        for j in range(i+1, pw_count):\n",
    "            d1 = distance(pws[i], pws[j], pw_len, step)            \n",
    "            d2 = distance(pws[j], pws[i], pw_len, step)\n",
    "            print(\"Distance {}, {} :{}, {}\".format(i, j, d1, d2))\n",
    "            ds.append(d1)\n",
    "            ds.append(d2)\n",
    "    \n",
    "    mu = np.mean(ds)\n",
    "    sigma = np.std(ds)    \n",
    "    model = {\"pws\":pws, \"ds\":ds, \"mu\":mu, \"sigma\":sigma}\n",
    "    return model\n",
    "    \n",
    "    "
   ]
  },
  {
   "cell_type": "code",
   "execution_count": 150,
   "metadata": {
    "collapsed": true
   },
   "outputs": [],
   "source": [
    "def test_pw(model, pw, pw_len, step):    \n",
    "    ds = []\n",
    "    for p in model[\"pws\"]:\n",
    "        d1 = distance(p, pw, pw_len, step)  \n",
    "        d2 = distance(pw, p, pw_len, step)  \n",
    "        ds.append(d1)\n",
    "        ds.append(d2)\n",
    "        \n",
    "    d = np.mean(ds)\n",
    "    sigma = (d - model[\"mu\"])/model[\"sigma\"]\n",
    "    return sigma\n",
    "    \n",
    "def test_pws(model, pws, pw_len, step):\n",
    "    res = []\n",
    "    for p in pws:\n",
    "        sigma = test_pw(model, p, pw_len, step)\n",
    "        print(sigma)\n",
    "        res.append(sigma)        \n",
    "    return res"
   ]
  },
  {
   "cell_type": "code",
   "execution_count": 151,
   "metadata": {
    "collapsed": true
   },
   "outputs": [],
   "source": [
    "def check_training_pws(pws, pw_len, step):\n",
    "    pw_count = len(pws)\n",
    "    max_sigma = -1\n",
    "    max_index = -1\n",
    "    for i in range(pw_count):\n",
    "        pws_new = []\n",
    "        for j in range(pw_count):\n",
    "            if j!=i:\n",
    "                pws_new.append(pws[j])\n",
    "                \n",
    "        model = train_model(pws_new, pw_len, step)        \n",
    "        sigma = test_pw(model, pws[i], pw_len, step)\n",
    "        print(\"Password {}>> model mu :{}, model sigma:{}, pw sigma:{}\".format(i, model[\"mu\"], model[\"sigma\"], sigma))\n",
    "        \n",
    "        if sigma >max_sigma:\n",
    "            max_sigma = sigma\n",
    "            max_index = i\n",
    "            \n",
    "    return i, max_sigma"
   ]
  },
  {
   "cell_type": "code",
   "execution_count": 162,
   "metadata": {
    "collapsed": false
   },
   "outputs": [
    {
     "name": "stdout",
     "output_type": "stream",
     "text": [
      "Distance 0, 1 :679.2606634703977, 632.798931967999\n",
      "Distance 0, 2 :561.7248049424251, 553.5677426477029\n",
      "Distance 0, 3 :554.3274778595799, 554.5399244918108\n",
      "Distance 0, 4 :587.9318810914848, 571.2806992506761\n",
      "Distance 1, 2 :688.0087587301209, 678.5918132198935\n",
      "Distance 1, 3 :655.5406261585858, 647.6287569281163\n",
      "Distance 1, 4 :676.3501720174122, 645.85899127454\n",
      "Distance 2, 3 :553.0178641041709, 577.2276312028213\n",
      "Distance 2, 4 :558.2998001212684, 553.2842318076348\n",
      "Distance 3, 4 :554.2479655495717, 541.9099066173272\n",
      "Model mu:601.269932172677, sigma:52.62722587432579\n"
     ]
    }
   ],
   "source": [
    "pw_no = 1\n",
    "\n",
    "\n",
    "pws1 = data[\"abu\"][pw_no]\n",
    "pws2 = data[\"liza\"][pw_no]\n",
    "pw_len = len(passwords[pw_no])\n",
    "\n",
    "step = 5\n",
    "#i, max_sigma = check_training_pws(pws[:5], pw_len = len(passwords[pw_no]), step = step)\n",
    "model = train_model(pws2[:5], pw_len, step)\n",
    "print(\"Model mu:{}, sigma:{}\".format(model[\"mu\"], model[\"sigma\"]))\n"
   ]
  },
  {
   "cell_type": "code",
   "execution_count": 163,
   "metadata": {
    "collapsed": false,
    "scrolled": true
   },
   "outputs": [
    {
     "name": "stdout",
     "output_type": "stream",
     "text": [
      "1.67964957359\n",
      "1.69296750622\n",
      "2.71116055176\n",
      "0.533482489724\n",
      "1.10270631062\n",
      "[1.6796495735890362, 1.6929675062207528, 2.7111605517595394, 0.5334824897237519, 1.1027063106185968]\n",
      "4.3931672715\n",
      "3.51232025471\n",
      "4.36335238529\n",
      "4.18051325881\n",
      "4.9387692928\n",
      "8.65722318983\n",
      "4.14597846008\n",
      "4.80210156997\n",
      "4.02736924974\n",
      "4.37417974212\n",
      "[4.3931672715000376, 3.5123202547126953, 4.3633523852900282, 4.180513258810941, 4.9387692927975229, 8.6572231898303631, 4.1459784600839589, 4.8021015699709215, 4.0273692497377027, 4.3741797421210293]\n"
     ]
    }
   ],
   "source": [
    "res1 = test_pws(model, pws2[5:], pw_len, step)\n",
    "print(res1)\n",
    "\n",
    "res2 = test_pws(model, pws1, pw_len, step)\n",
    "print(res2)\n"
   ]
  },
  {
   "cell_type": "code",
   "execution_count": null,
   "metadata": {
    "collapsed": true
   },
   "outputs": [],
   "source": []
  },
  {
   "cell_type": "code",
   "execution_count": null,
   "metadata": {
    "collapsed": true
   },
   "outputs": [],
   "source": []
  }
 ],
 "metadata": {
  "kernelspec": {
   "display_name": "Python [conda root]",
   "language": "python",
   "name": "conda-root-py"
  },
  "language_info": {
   "codemirror_mode": {
    "name": "ipython",
    "version": 3
   },
   "file_extension": ".py",
   "mimetype": "text/x-python",
   "name": "python",
   "nbconvert_exporter": "python",
   "pygments_lexer": "ipython3",
   "version": "3.5.2"
  }
 },
 "nbformat": 4,
 "nbformat_minor": 1
}
