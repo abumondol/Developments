{
 "cells": [
  {
   "cell_type": "code",
   "execution_count": 13,
   "metadata": {
    "collapsed": false
   },
   "outputs": [],
   "source": [
    "import numpy as np\n",
    "import pickle\n",
    "import os"
   ]
  },
  {
   "cell_type": "code",
   "execution_count": 14,
   "metadata": {
    "collapsed": true
   },
   "outputs": [],
   "source": [
    "src_folder = \"C:/Users/mm5gg/Box Sync/PublicData/nursing/labelled/Labelled/\"\n",
    "dest_folder = \"C:/ASM/DevData/handwash/nursing_data/\""
   ]
  },
  {
   "cell_type": "code",
   "execution_count": 15,
   "metadata": {
    "collapsed": false
   },
   "outputs": [
    {
     "name": "stdout",
     "output_type": "stream",
     "text": [
      "54\n",
      "118\n"
     ]
    }
   ],
   "source": [
    "label_files = os.listdir(src_folder+\"labels/\")\n",
    "sensor_files = os.listdir(src_folder+\"sensors/\")\n",
    "print(len(label_files))\n",
    "print(len(sensor_files))"
   ]
  },
  {
   "cell_type": "code",
   "execution_count": 20,
   "metadata": {
    "collapsed": false
   },
   "outputs": [
    {
     "name": "stdout",
     "output_type": "stream",
     "text": [
      "1 :  N013_20140217.csv\n",
      "      >>  1 :  N013_20140217_081011-081201.csv\n",
      "data type:  float64\n",
      "(2198, 10)\n",
      "Saved data for id  13 ,  20140217\n",
      "2 :  N013_20140224.csv\n",
      "      >>  2 :  N013_20140224_084602-111038.csv\n",
      "data type:  float64\n",
      "(173513, 10)\n",
      "      >>  3 :  N013_20140224_133248-181707.csv\n",
      "data type:  float64\n",
      "(341182, 10)\n",
      "Saved data for id  13 ,  20140224\n",
      "3 :  N014_20140210.csv\n",
      "      >>  4 :  N014_20140210_081824-082136.csv\n",
      "data type:  float64\n",
      "(3853, 10)\n",
      "      >>  5 :  N014_20140210_084417-112824.csv\n",
      "data type:  float64\n",
      "(196942, 10)\n",
      "      >>  6 :  N014_20140210_122456-161137.csv\n",
      "data type:  float64\n",
      "(272016, 10)\n",
      "      >>  7 :  N014_20140210_202534-202819.csv\n",
      "data type:  float64\n",
      "(3292, 10)\n",
      "Saved data for id  14 ,  20140210\n",
      "4 :  N027_20140214.csv\n",
      "      >>  8 :  N027_20140214_082849-165240.csv\n",
      "data type:  float64\n",
      "(604623, 10)\n",
      "      >>  9 :  N027_20140214_191611-192200.csv\n",
      "data type:  float64\n",
      "(6974, 10)\n",
      "Saved data for id  27 ,  20140214\n",
      "5 :  N027_20140218.csv\n",
      "      >>  10 :  N027_20140218_084003-115725.csv\n"
     ]
    },
    {
     "ename": "KeyboardInterrupt",
     "evalue": "",
     "output_type": "error",
     "traceback": [
      "\u001b[0;31m---------------------------------------------------------------------------\u001b[0m",
      "\u001b[0;31mKeyboardInterrupt\u001b[0m                         Traceback (most recent call last)",
      "\u001b[0;32m<ipython-input-20-4371f8e8c813>\u001b[0m in \u001b[0;36m<module>\u001b[0;34m()\u001b[0m\n\u001b[1;32m     20\u001b[0m             \u001b[0ms\u001b[0m \u001b[1;33m=\u001b[0m \u001b[0mint\u001b[0m\u001b[1;33m(\u001b[0m\u001b[0msf\u001b[0m\u001b[1;33m[\u001b[0m\u001b[1;36m18\u001b[0m\u001b[1;33m:\u001b[0m\u001b[1;36m20\u001b[0m\u001b[1;33m]\u001b[0m\u001b[1;33m)\u001b[0m\u001b[1;33m\u001b[0m\u001b[0m\n\u001b[1;32m     21\u001b[0m             \u001b[0mt\u001b[0m \u001b[1;33m=\u001b[0m \u001b[0mh\u001b[0m\u001b[1;33m*\u001b[0m\u001b[1;36m60\u001b[0m\u001b[1;33m*\u001b[0m\u001b[1;36m60\u001b[0m\u001b[1;33m+\u001b[0m\u001b[0mm\u001b[0m\u001b[1;33m*\u001b[0m\u001b[1;36m60\u001b[0m\u001b[1;33m+\u001b[0m\u001b[0ms\u001b[0m\u001b[1;33m\u001b[0m\u001b[0m\n\u001b[0;32m---> 22\u001b[0;31m             \u001b[0md\u001b[0m \u001b[1;33m=\u001b[0m \u001b[0mnp\u001b[0m\u001b[1;33m.\u001b[0m\u001b[0mgenfromtxt\u001b[0m\u001b[1;33m(\u001b[0m\u001b[0msrc_folder\u001b[0m\u001b[1;33m+\u001b[0m\u001b[1;34m\"sensors/\"\u001b[0m\u001b[1;33m+\u001b[0m\u001b[0msf\u001b[0m\u001b[1;33m,\u001b[0m \u001b[0mdelimiter\u001b[0m\u001b[1;33m=\u001b[0m\u001b[1;34m\",\"\u001b[0m\u001b[1;33m,\u001b[0m \u001b[0mskip_header\u001b[0m\u001b[1;33m=\u001b[0m\u001b[1;36m1\u001b[0m\u001b[1;33m)\u001b[0m\u001b[1;33m\u001b[0m\u001b[0m\n\u001b[0m\u001b[1;32m     23\u001b[0m             \u001b[0md\u001b[0m\u001b[1;33m[\u001b[0m\u001b[1;33m:\u001b[0m\u001b[1;33m,\u001b[0m \u001b[1;36m0\u001b[0m\u001b[1;33m]\u001b[0m \u001b[1;33m=\u001b[0m \u001b[0md\u001b[0m\u001b[1;33m[\u001b[0m\u001b[1;33m:\u001b[0m\u001b[1;33m,\u001b[0m \u001b[1;36m0\u001b[0m\u001b[1;33m]\u001b[0m \u001b[1;33m+\u001b[0m \u001b[0mt\u001b[0m\u001b[1;33m\u001b[0m\u001b[0m\n\u001b[1;32m     24\u001b[0m             \u001b[0mprint\u001b[0m\u001b[1;33m(\u001b[0m\u001b[1;34m\"data type: \"\u001b[0m\u001b[1;33m,\u001b[0m \u001b[0md\u001b[0m\u001b[1;33m.\u001b[0m\u001b[0mdtype\u001b[0m\u001b[1;33m)\u001b[0m\u001b[1;33m\u001b[0m\u001b[0m\n",
      "\u001b[0;32mC:\\Users\\mm5gg\\AppData\\Local\\Continuum\\Anaconda3\\lib\\site-packages\\numpy\\lib\\npyio.py\u001b[0m in \u001b[0;36mgenfromtxt\u001b[0;34m(fname, dtype, comments, delimiter, skip_header, skip_footer, converters, missing_values, filling_values, usecols, names, excludelist, deletechars, replace_space, autostrip, case_sensitive, defaultfmt, unpack, usemask, loose, invalid_raise, max_rows)\u001b[0m\n\u001b[1;32m   1881\u001b[0m         rows = list(\n\u001b[1;32m   1882\u001b[0m             zip(*[[conv._loose_call(_r) for _r in map(itemgetter(i), rows)]\n\u001b[0;32m-> 1883\u001b[0;31m                   for (i, conv) in enumerate(converters)]))\n\u001b[0m\u001b[1;32m   1884\u001b[0m     \u001b[1;32melse\u001b[0m\u001b[1;33m:\u001b[0m\u001b[1;33m\u001b[0m\u001b[0m\n\u001b[1;32m   1885\u001b[0m         rows = list(\n",
      "\u001b[0;32mC:\\Users\\mm5gg\\AppData\\Local\\Continuum\\Anaconda3\\lib\\site-packages\\numpy\\lib\\npyio.py\u001b[0m in \u001b[0;36m<listcomp>\u001b[0;34m(.0)\u001b[0m\n\u001b[1;32m   1881\u001b[0m         rows = list(\n\u001b[1;32m   1882\u001b[0m             zip(*[[conv._loose_call(_r) for _r in map(itemgetter(i), rows)]\n\u001b[0;32m-> 1883\u001b[0;31m                   for (i, conv) in enumerate(converters)]))\n\u001b[0m\u001b[1;32m   1884\u001b[0m     \u001b[1;32melse\u001b[0m\u001b[1;33m:\u001b[0m\u001b[1;33m\u001b[0m\u001b[0m\n\u001b[1;32m   1885\u001b[0m         rows = list(\n",
      "\u001b[0;32mC:\\Users\\mm5gg\\AppData\\Local\\Continuum\\Anaconda3\\lib\\site-packages\\numpy\\lib\\npyio.py\u001b[0m in \u001b[0;36m<listcomp>\u001b[0;34m(.0)\u001b[0m\n\u001b[1;32m   1880\u001b[0m     \u001b[1;32mif\u001b[0m \u001b[0mloose\u001b[0m\u001b[1;33m:\u001b[0m\u001b[1;33m\u001b[0m\u001b[0m\n\u001b[1;32m   1881\u001b[0m         rows = list(\n\u001b[0;32m-> 1882\u001b[0;31m             zip(*[[conv._loose_call(_r) for _r in map(itemgetter(i), rows)]\n\u001b[0m\u001b[1;32m   1883\u001b[0m                   for (i, conv) in enumerate(converters)]))\n\u001b[1;32m   1884\u001b[0m     \u001b[1;32melse\u001b[0m\u001b[1;33m:\u001b[0m\u001b[1;33m\u001b[0m\u001b[0m\n",
      "\u001b[0;31mKeyboardInterrupt\u001b[0m: "
     ]
    }
   ],
   "source": [
    "gt = []\n",
    "nidix = 0\n",
    "senix = 0\n",
    "for f in label_files:\n",
    "    nidix+=1\n",
    "    print(nidix, \": \", f)\n",
    "    nid = int(f[1:4])\n",
    "    day_date = int(f[5:13])    \n",
    "    labels = np.genfromtxt(src_folder+\"labels_processed/\"+f, delimiter=\",\")\n",
    "    labels_hw = labels[labels[:,0]==39, 1:]\n",
    "    \n",
    "    sensor_data_times=[]\n",
    "    sensor_data = []\n",
    "    for sf in sensor_files:\n",
    "        if sf[:13] == f[:13]:\n",
    "            senix += 1\n",
    "            print(\"      >> \", senix, \": \", sf)            \n",
    "            h = int(sf[14:16])\n",
    "            m = int(sf[16:18])\n",
    "            s = int(sf[18:20])\n",
    "            t = h*60*60+m*60+s\n",
    "            d = np.genfromtxt(src_folder+\"sensors/\"+sf, delimiter=\",\", skip_header=1)           \n",
    "            d[:, 0] = d[:, 0] + t\n",
    "            print(\"data type: \", d.dtype)\n",
    "            print(d.shape)\n",
    "            #print(d[:10, :])\n",
    "            sensor_data.append(d)\n",
    "            \n",
    "            h = int(sf[21:23])\n",
    "            m = int(sf[23:25])\n",
    "            s = int(sf[25:27])\n",
    "            t2 = h*60*60+m*60+s\n",
    "            sensor_data_times.append([t, t2])\n",
    "            \n",
    "    gt.append([nid, day_date, labels, labels_hw, sensor_data_times])\n",
    "            \n",
    "    with open(dest_folder+str(nid)+\"_\"+ str(day_date)+\".pkl\", \"wb\") as file:\n",
    "        pickle.dump(sensor_data, file,  pickle.HIGHEST_PROTOCOL)\n",
    "        print(\"Saved data for id \", nid, \", \", day_date)\n",
    "\n",
    "with open(dest_folder+\"meta_data.pkl\", \"wb\") as file:\n",
    "    pickle.dump(gt, file,  pickle.HIGHEST_PROTOCOL)   "
   ]
  },
  {
   "cell_type": "code",
   "execution_count": null,
   "metadata": {
    "collapsed": false
   },
   "outputs": [],
   "source": [
    "total = 0\n",
    "for key, subject_data in data.items():    \n",
    "    for key1, day_data in subject_data.items():\n",
    "        print(\"ID: \", key, \", Date: \", key1, \" Sensor File Count: \", len(day_data[\"sensors\"]))\n",
    "        sd = day_data[\"sensors\"]\n",
    "        for s in sd:\n",
    "            s = s.astype(np.float32)\n",
    "            size = s.nbytes\n",
    "            print(\"    >> \",s.dtype, \", \", size)\n",
    "            total+=size\n",
    "    "
   ]
  },
  {
   "cell_type": "code",
   "execution_count": null,
   "metadata": {
    "collapsed": false,
    "scrolled": true
   },
   "outputs": [],
   "source": [
    "print(total/1024)"
   ]
  },
  {
   "cell_type": "code",
   "execution_count": null,
   "metadata": {
    "collapsed": true
   },
   "outputs": [],
   "source": []
  }
 ],
 "metadata": {
  "anaconda-cloud": {},
  "kernelspec": {
   "display_name": "Python [conda root]",
   "language": "python",
   "name": "conda-root-py"
  },
  "language_info": {
   "codemirror_mode": {
    "name": "ipython",
    "version": 3
   },
   "file_extension": ".py",
   "mimetype": "text/x-python",
   "name": "python",
   "nbconvert_exporter": "python",
   "pygments_lexer": "ipython3",
   "version": "3.5.2"
  }
 },
 "nbformat": 4,
 "nbformat_minor": 1
}
