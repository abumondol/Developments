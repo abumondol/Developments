{
 "cells": [
  {
   "cell_type": "code",
   "execution_count": 4,
   "metadata": {},
   "outputs": [],
   "source": [
    "import numpy as np\n",
    "import pickle\n",
    "import matplotlib.pyplot as plt\n",
    "import sys"
   ]
  },
  {
   "cell_type": "code",
   "execution_count": 131,
   "metadata": {},
   "outputs": [],
   "source": [
    "def get_windows(data, annots, window_size):    \n",
    "    step_size = window_size//3\n",
    "    annot_count = len(annots)\n",
    "    sample_count = len(data)\n",
    "    indices = np.arange(0, sample_count-window_size, step_size)\n",
    "    window_count = len(indices)\n",
    "    windows = np.zeros((window_count, window_size, data.shape[1]))\n",
    "    labels = np.zeros((window_count, ))\n",
    "    features = np.zeros((window_count, 2))\n",
    "    cut_points = np.zeros((window_count, 5))\n",
    "    \n",
    "    lab = True if annots.shape[1]==2 else False \n",
    "    \n",
    "    annot_index = 0    \n",
    "    for i in range(window_count):\n",
    "        si = indices[i]\n",
    "        windows[i, :, :] = (data[si:si+window_size, :]+9.8)/(2*9.8)\n",
    "        \n",
    "        mid_start = si + step_size\n",
    "        mid_end = mid_start + step_size-1\n",
    "        \n",
    "        features[i, 0] = np.amin(data[mid_start:mid_end+1, 0])\n",
    "        features[i, 1] = np.sum(np.var(data[si:si+window_size, :], axis=0))\n",
    "        \n",
    "        cut_points[i, :] = [si, mid_start, mid_end, si+window_size-1, 0]        \n",
    "                \n",
    "        if lab and annot_index < annot_count and annots[annot_index, 0] < si+window_size:            \n",
    "            if annots[annot_index, 0] > mid_end:\n",
    "                labels[i] = -1\n",
    "                \n",
    "            elif mid_start <= annots[annot_index, 0] <= mid_end:\n",
    "                labels[i] = annots[annot_index, 1]\n",
    "                cut_points[i, 4] = annots[annot_index, 0]\n",
    "                \n",
    "            elif si <= annots[annot_index, 0] < mid_start:\n",
    "                labels[i] = -1                \n",
    "                annot_index = annot_index + 1\n",
    "                while annot_index < annot_count and annots[annot_index, 0] < mid_start: \n",
    "                    annot_index = annot_index + 1\n",
    "                    \n",
    "                if annot_index < annot_count and mid_start <= annots[annot_index, 0] <= mid_end:\n",
    "                    labels[i] = annots[annot_index, 1]\n",
    "                    cut_points[i, 4] = annots[annot_index, 0]\n",
    "                \n",
    "            else:\n",
    "                print(\"Annot time error\")\n",
    "                sys.exit(0)\n",
    "                \n",
    "        elif (not lab) and annot_index < annot_count and annots[annot_index, 0] < si+window_size:\n",
    "            if si > annots[annot_index, 1]:\n",
    "                annot_index += 1\n",
    "            else:\n",
    "                if annots[annot_index, 2] <3:\n",
    "                    labels[i] = 1\n",
    "                else:\n",
    "                    labels[i] = 2\n",
    "                \n",
    "    return windows, labels, features, cut_points            "
   ]
  },
  {
   "cell_type": "code",
   "execution_count": 132,
   "metadata": {},
   "outputs": [],
   "source": [
    "def get_windows_dataset(ds, window_size):\n",
    "    windows = []\n",
    "    labels = []\n",
    "    features = []\n",
    "    cut_points = []\n",
    "    subject_session = []\n",
    "    for subject in range(len(ds)):\n",
    "        for sess in range(len(ds[subject])):\n",
    "            accel = ds[subject][sess][0]\n",
    "            annots = ds[subject][sess][1]\n",
    "          \n",
    "            w, l, f, c = get_windows(accel[:, 1:], annots, window_size)            \n",
    "            ss = np.zeros((len(l), 2))\n",
    "            ss[:, 0] = subject\n",
    "            ss[:, 1] = sess\n",
    "            \n",
    "            if len(windows)==0:\n",
    "                windows = w\n",
    "                labels = l\n",
    "                features = f\n",
    "                cut_points = c\n",
    "                subject_session = ss\n",
    "                \n",
    "            else:\n",
    "                windows = np.concatenate((windows, w), axis=0)\n",
    "                labels = np.concatenate((labels, l), axis=0)\n",
    "                features = np.concatenate((features, f), axis=0)\n",
    "                cut_points = np.concatenate((cut_points, c), axis=0)\n",
    "                subject_session = np.concatenate((subject_session, ss), axis=0)\n",
    "                \n",
    "    return windows, labels, features, cut_points, subject_session"
   ]
  },
  {
   "cell_type": "code",
   "execution_count": 141,
   "metadata": {},
   "outputs": [],
   "source": [
    "def process_annots(annots, min_distance):    \n",
    "    count = len(annots)\n",
    "    flags = np.ones((count, ))\n",
    "    \n",
    "    for i in range(1, count):\n",
    "        if annots[i, 0] - annots[i-1, 0]<=min_distance:\n",
    "            flags[i-1] = 0\n",
    "            \n",
    "    annots = annots[flags==1]\n",
    "    #print('Annnot prcess: before, after :: ', count, len(annots))\n",
    "    return annots\n",
    "            \n",
    "    \n",
    "def process_annots_dataset(ds, min_distance):\n",
    "    for subject in range(len(ds)):\n",
    "        for sess in range(len(ds[subject])):            \n",
    "            annots = ds[subject][sess][1]\n",
    "            ds[subject][sess][1] = process_annots(annots, min_distance)            \n",
    "    return ds\n",
    "    \n",
    "def process_uva_lab_data(data, min_distance):\n",
    "    #usc:0-13, uva: 2, 5, 2, 2, 4, 5, 1\n",
    "    data[14] = [data[14][0], data[15][0]]\n",
    "    data[15] = [data[16][0], data[17][0], data[18][0], data[19][0], data[20][0]]\n",
    "    data[16] = [data[21][0], data[22][0]]\n",
    "    data[17] = [data[23][0], data[24][0]]\n",
    "    data[18] = [data[25][0], data[26][0], data[27][0], data[28][0]]\n",
    "    data[19] = [data[29][0], data[30][0], data[31][0], data[32][0], data[33][0]]\n",
    "    data[20] = data[34]\n",
    "    data = data[:21]\n",
    "    data = process_annots_dataset(data, min_distance)\n",
    "    return data    "
   ]
  },
  {
   "cell_type": "code",
   "execution_count": 142,
   "metadata": {},
   "outputs": [
    {
     "name": "stdout",
     "output_type": "stream",
     "text": [
      "7 21\n",
      "28\n"
     ]
    }
   ],
   "source": [
    "root_path ='C:/ASM/DevData/eating/eating_detection/'\n",
    "with open(root_path + \"data/steven_lab_data.pkl\", 'rb') as file:\n",
    "    stev_lab_data = pickle.load(file)\n",
    "with open(root_path + \"data/uva_lab_data.pkl\", 'rb') as file:\n",
    "    uva_lab_data = pickle.load(file)\n",
    "    uva_lab_data = process_uva_lab_data(uva_lab_data, 16)\n",
    "\n",
    "print(len(stev_lab_data), len(uva_lab_data))    \n",
    "stev_lab_data.extend(uva_lab_data)\n",
    "lab_data = stev_lab_data\n",
    "print(len(lab_data))"
   ]
  },
  {
   "cell_type": "code",
   "execution_count": 146,
   "metadata": {},
   "outputs": [],
   "source": [
    "windows, labels, features, cut_points, subject_session = get_windows_dataset(lab_data, 16*6)"
   ]
  },
  {
   "cell_type": "code",
   "execution_count": 138,
   "metadata": {},
   "outputs": [
    {
     "name": "stdout",
     "output_type": "stream",
     "text": [
      "(23401, 96, 3) (23401,) (23401, 2) (23401, 5) (23401, 2)\n",
      "23401 16459 1769 692 0 4481\n"
     ]
    }
   ],
   "source": [
    "print(windows.shape, labels.shape, features.shape, cut_points.shape, subject_session.shape)\n",
    "a = labels\n",
    "print(len(a), np.sum(a==0), np.sum(a==1), np.sum(a==2), np.sum(a==3), np.sum(a<0))"
   ]
  },
  {
   "cell_type": "markdown",
   "metadata": {},
   "source": [
    "f = features[labels>0, 0]\n",
    "plt.hist(f, bins=100)\n",
    "plt.show()\n",
    "\n",
    "f = features[labels==0, 0]\n",
    "plt.hist(f, bins=100)\n",
    "plt.show()"
   ]
  },
  {
   "cell_type": "code",
   "execution_count": 149,
   "metadata": {
    "scrolled": true
   },
   "outputs": [
    {
     "name": "stdout",
     "output_type": "stream",
     "text": [
      "143837 3888\n",
      "52192 3808\n",
      "36294 2932 863\n"
     ]
    }
   ],
   "source": [
    "l = labels\n",
    "print(len(l[l==0]), len(l[l>0]))\n",
    "\n",
    "m = features[:, 0]\n",
    "v = features[:, 1]\n",
    "l = labels[m<=-3]\n",
    "print(len(l[l==0]), len(l[l>0]))\n",
    "\n",
    "l = labels[ (m<=-3) & (v>=0.1)]\n",
    "print(len(l[l==0]), len(l[l==1]), len(l[l==2]))\n"
   ]
  },
  {
   "cell_type": "code",
   "execution_count": 124,
   "metadata": {},
   "outputs": [],
   "source": [
    "ds = stev_free_data\n",
    "d = np.empty((0, 3))\n",
    "for subject in range(len(ds)):\n",
    "    for sess in range(len(ds[subject])):\n",
    "        accel = ds[subject][sess][0]\n",
    "        annots = ds[subject][sess][1]\n",
    "        d = np.concatenate((d, accel[:, 1:]))        "
   ]
  },
  {
   "cell_type": "code",
   "execution_count": 125,
   "metadata": {},
   "outputs": [
    {
     "data": {
      "image/png": "[encoded data removed]",
      "text/plain": [
       "<matplotlib.figure.Figure at 0x1d4fecc0>"
      ]
     },
     "metadata": {},
     "output_type": "display_data"
    }
   ],
   "source": [
    "plt.hist(d.reshape((-1,)), bins=100)\n",
    "plt.show()"
   ]
  },
  {
   "cell_type": "code",
   "execution_count": null,
   "metadata": {},
   "outputs": [],
   "source": []
  }
 ],
 "metadata": {
  "anaconda-cloud": {},
  "kernelspec": {
   "display_name": "Python 3",
   "language": "python",
   "name": "python3"
  },
  "language_info": {
   "codemirror_mode": {
    "name": "ipython",
    "version": 3
   },
   "file_extension": ".py",
   "mimetype": "text/x-python",
   "name": "python",
   "nbconvert_exporter": "python",
   "pygments_lexer": "ipython3",
   "version": "3.6.4"
  }
 },
 "nbformat": 4,
 "nbformat_minor": 1
}
