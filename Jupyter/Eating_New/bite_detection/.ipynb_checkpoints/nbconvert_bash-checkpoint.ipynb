{
 "cells": [
  {
   "cell_type": "code",
   "execution_count": 10,
   "metadata": {},
   "outputs": [
    {
     "name": "stdout",
     "output_type": "stream",
     "text": [
      "Microsoft Windows [Version 10.0.16299.309]\r\n",
      "(c) 2017 Microsoft Corporation. All rights reserved.\r\n",
      "\r\n",
      "C:\\ASM\\Dropbox\\Developments\\Jupyter\\Eating_New\\bite_detection>jupyter nbconvert --to script bite_detection_utils.ipynb\n",
      "\r\n",
      "C:\\ASM\\Dropbox\\Developments\\Jupyter\\Eating_New\\bite_detection>"
     ]
    },
    {
     "name": "stderr",
     "output_type": "stream",
     "text": [
      "[NbConvertApp] Converting notebook bite_detection_utils.ipynb to script\r\n",
      "[NbConvertApp] Writing 6620 bytes to bite_detection_utils.py\r\n"
     ]
    }
   ],
   "source": [
    "%%cmd\n",
    "jupyter nbconvert --to script bite_detection_utils.ipynb"
   ]
  },
  {
   "cell_type": "code",
   "execution_count": null,
   "metadata": {},
   "outputs": [],
   "source": []
  }
 ],
 "metadata": {
  "kernelspec": {
   "display_name": "Python 3",
   "language": "python",
   "name": "python3"
  },
  "language_info": {
   "codemirror_mode": {
    "name": "ipython",
    "version": 3
   },
   "file_extension": ".py",
   "mimetype": "text/x-python",
   "name": "python",
   "nbconvert_exporter": "python",
   "pygments_lexer": "ipython3",
   "version": "3.6.4"
  }
 },
 "nbformat": 4,
 "nbformat_minor": 2
}
