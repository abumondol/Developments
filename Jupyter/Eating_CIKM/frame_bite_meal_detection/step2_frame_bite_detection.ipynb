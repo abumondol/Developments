{
 "cells": [
  {
   "cell_type": "code",
   "execution_count": 1,
   "metadata": {},
   "outputs": [],
   "source": [
    "import numpy as np\n",
    "import os \n",
    "import sys\n",
    "import importlib\n",
    "import copy"
   ]
  },
  {
   "cell_type": "code",
   "execution_count": 2,
   "metadata": {},
   "outputs": [],
   "source": [
    "util_path = 'C:/ASM/Dropbox/Developments/Jupyter/Eating/myutils' if 'C:' in os.getcwd() else './myutils'\n",
    "sys.path.append(util_path)\n",
    "import my_file_utils as mfileu"
   ]
  },
  {
   "cell_type": "code",
   "execution_count": 3,
   "metadata": {},
   "outputs": [],
   "source": [
    "all_proba = mfileu.read_file('generated_for_result', 'all_proba.pkl')\n",
    "all_pct_proba = mfileu.read_file('generated_for_result', 'all_pct_proba.pkl')"
   ]
  },
  {
   "cell_type": "code",
   "execution_count": 4,
   "metadata": {},
   "outputs": [],
   "source": [
    "def detect_bites(ix_proba, proba_th):\n",
    "    min_interval = 2*16\n",
    "    \n",
    "    count = len(ix_proba)\n",
    "    ix = ix_proba[:, 0]\n",
    "    proba = ix_proba[:, 1]    \n",
    "    \n",
    "    peaks = []    \n",
    "    for i in range(1, count-1):\n",
    "        if proba[i-1]<proba[i]<=proba[i+1] and proba[i]>=proba_th:        \n",
    "            peaks.append(i)\n",
    "    #print(len(peaks))\n",
    "    \n",
    "    if len(peaks)==0:\n",
    "        return []\n",
    "    elif len(peaks)==1:\n",
    "        return np.array([ix[peaks[0]]])\n",
    "    \n",
    "    while True:\n",
    "        count = len(peaks)\n",
    "        if count<=1:\n",
    "            break\n",
    "        \n",
    "        bites = []\n",
    "        \n",
    "        if proba[peaks[0]]>proba[peaks[1]] or ix[peaks[1]] - ix[peaks[0]]>=min_interval:\n",
    "            bites.append(peaks[0])            \n",
    "        \n",
    "        for i in range(1, count-1):\n",
    "            cond1 = (proba[peaks[i]]>proba[peaks[i+1]]) and proba[peaks[i]]>proba[peaks[i-1]]\n",
    "            cond2 = (ix[peaks[i+1]] - ix[peaks[i]]>=2*16) and (ix[peaks[i]] - ix[peaks[i-1]]>=min_interval)\n",
    "            if cond1 or cond2:\n",
    "                bites.append(peaks[i])\n",
    "    \n",
    "        if proba[peaks[count-1]]>proba[peaks[count-2]] or ix[peaks[count-1]] - ix[peaks[count-2]]>=min_interval:\n",
    "            bites.append(peaks[count-1])\n",
    "    \n",
    "        if len(bites)==len(peaks):\n",
    "            break\n",
    "            \n",
    "        peaks = bites\n",
    "    \n",
    "    \n",
    "    if len(peaks)==0:\n",
    "        return []\n",
    "    \n",
    "    indices = [ix[i] for i in peaks]\n",
    "    return np.array(indices).astype(int)"
   ]
  },
  {
   "cell_type": "code",
   "execution_count": 5,
   "metadata": {},
   "outputs": [],
   "source": [
    "def get_frames_bites(ix_proba, percentile_proba, percentile_proba_val, pct_proba=None, off_on=None, blank_array = []):\n",
    "    assert off_on in [None, \"offline\", \"online\"]      \n",
    "    assert percentile_proba in [\"percentile\", \"proba\"]    \n",
    "    \n",
    "    ba = blank_array\n",
    "    frames = copy.deepcopy(blank_array)\n",
    "    bites = copy.deepcopy(blank_array)\n",
    "    \n",
    "    for subj in range(len(ba)):\n",
    "        for sess in range(len(ba[subj])):            \n",
    "            ix_p = ix_proba[subj][sess][:, :2]\n",
    "            ix_p[:, 0] = ix_p[:, 0]+40 #add offset\n",
    "            \n",
    "            if percentile_proba=='percentile':                \n",
    "                cond  = (pct_proba[:, 0]==subj) & (pct_proba[:, 1]==sess) & (pct_proba[:, 2]==percentile_proba_val)\n",
    "                assert np.sum(cond)==1                        \n",
    "                proba_th = pct_proba[cond, -2] if off_on==\"offline\" else pct_proba[cond, -1]\n",
    "            else:\n",
    "                proba_th = percentile_proba_val\n",
    "                        \n",
    "            frames[subj][sess] = ix_p[ix_p[:, 1]>=proba_th, 0]            \n",
    "            bites[subj][sess] = detect_bites(ix_p, proba_th=proba_th)                            \n",
    "            \n",
    "    assert len(frames)>=len(bites)        \n",
    "    return frames, bites"
   ]
  },
  {
   "cell_type": "code",
   "execution_count": 6,
   "metadata": {},
   "outputs": [],
   "source": [
    "def get_frames_bites_all(lab_free, clf):\n",
    "    if lab_free =='lab':\n",
    "        ba = mfileu.read_file('data', 'lab_data_steven_blank_array.pkl')\n",
    "    else:\n",
    "        ba = mfileu.read_file('data', 'free_data_steven_blank_array.pkl')\n",
    "    \n",
    "    ix_proba = all_proba[lab_free][clf]\n",
    "    pct_proba = all_pct_proba[lab_free][clf]\n",
    "    \n",
    "    frames = {\"proba\":{}, \"percentile_offline\":{}, \"percentile_online\":{} }\n",
    "    bites = {\"proba\":{}, \"percentile_offline\":{}, \"percentile_online\":{} }    \n",
    "        \n",
    "    for p in range(10, 95, 5):            \n",
    "        proba = p/100\n",
    "        print(proba, end=\" | \")\n",
    "        f, b = get_frames_bites(ix_proba, \"proba\", percentile_proba_val=proba, blank_array=ba)             \n",
    "        frames[\"proba\"][proba] = f   \n",
    "        bites[\"proba\"][proba] = b\n",
    "\n",
    "    for p in range(9800, 10000):\n",
    "        percentile = p/100                            \n",
    "        print(percentile, end=\" | \")\n",
    "\n",
    "        f, b = get_frames_bites(ix_proba, \"percentile\", percentile_proba_val=percentile, pct_proba=pct_proba, off_on=\"offline\", blank_array=ba)\n",
    "        frames[\"percentile_offline\"][percentile] = f\n",
    "        bites[\"percentile_offline\"][percentile] = b\n",
    "\n",
    "        if lab_free == 'free':\n",
    "            f, b = get_frames_bites(ix_proba, \"percentile\", percentile_proba_val=percentile, pct_proba=pct_proba, off_on=\"online\", blank_array=ba)\n",
    "            frames[\"percentile_online\"][percentile] = f\n",
    "            bites[\"percentile_online\"][percentile] = b\n",
    "    \n",
    "    return frames, bites\n",
    "   "
   ]
  },
  {
   "cell_type": "code",
   "execution_count": 7,
   "metadata": {},
   "outputs": [
    {
     "name": "stdout",
     "output_type": "stream",
     "text": [
      "\n",
      "\n",
      "-------------- lab RF --------------\n",
      "0.1 | 0.15 | 0.2 | 0.25 | 0.3 | 0.35 | 0.4 | 0.45 | 0.5 | 0.55 | 0.6 | 0.65 | 0.7 | 0.75 | 0.8 | 0.85 | 0.9 | 98.0 | 98.01 | 98.02 | 98.03 | 98.04 | 98.05 | 98.06 | 98.07 | 98.08 | 98.09 | 98.1 | 98.11 | 98.12 | 98.13 | 98.14 | 98.15 | 98.16 | 98.17 | 98.18 | 98.19 | 98.2 | 98.21 | 98.22 | 98.23 | 98.24 | 98.25 | 98.26 | 98.27 | 98.28 | 98.29 | 98.3 | 98.31 | 98.32 | 98.33 | 98.34 | 98.35 | 98.36 | 98.37 | 98.38 | 98.39 | 98.4 | 98.41 | 98.42 | 98.43 | 98.44 | 98.45 | 98.46 | 98.47 | 98.48 | 98.49 | 98.5 | 98.51 | 98.52 | 98.53 | 98.54 | 98.55 | 98.56 | 98.57 | 98.58 | 98.59 | 98.6 | 98.61 | 98.62 | 98.63 | 98.64 | 98.65 | 98.66 | 98.67 | 98.68 | 98.69 | 98.7 | 98.71 | 98.72 | 98.73 | 98.74 | 98.75 | 98.76 | 98.77 | 98.78 | 98.79 | 98.8 | 98.81 | 98.82 | 98.83 | 98.84 | 98.85 | 98.86 | 98.87 | 98.88 | 98.89 | 98.9 | 98.91 | 98.92 | 98.93 | 98.94 | 98.95 | 98.96 | 98.97 | 98.98 | 98.99 | 99.0 | 99.01 | 99.02 | 99.03 | 99.04 | 99.05 | 99.06 | 99.07 | 99.08 | 99.09 | 99.1 | 99.11 | 99.12 | 99.13 | 99.14 | 99.15 | 99.16 | 99.17 | 99.18 | 99.19 | 99.2 | 99.21 | 99.22 | 99.23 | 99.24 | 99.25 | 99.26 | 99.27 | 99.28 | 99.29 | 99.3 | 99.31 | 99.32 | 99.33 | 99.34 | 99.35 | 99.36 | 99.37 | 99.38 | 99.39 | 99.4 | 99.41 | 99.42 | 99.43 | 99.44 | 99.45 | 99.46 | 99.47 | 99.48 | 99.49 | 99.5 | 99.51 | 99.52 | 99.53 | 99.54 | 99.55 | 99.56 | 99.57 | 99.58 | 99.59 | 99.6 | 99.61 | 99.62 | 99.63 | 99.64 | 99.65 | 99.66 | 99.67 | 99.68 | 99.69 | 99.7 | 99.71 | 99.72 | 99.73 | 99.74 | 99.75 | 99.76 | 99.77 | 99.78 | 99.79 | 99.8 | 99.81 | 99.82 | 99.83 | 99.84 | 99.85 | 99.86 | 99.87 | 99.88 | 99.89 | 99.9 | 99.91 | 99.92 | 99.93 | 99.94 | 99.95 | 99.96 | 99.97 | 99.98 | 99.99 | \n",
      "\n",
      "-------------- lab our --------------\n",
      "0.1 | 0.15 | 0.2 | 0.25 | 0.3 | 0.35 | 0.4 | 0.45 | 0.5 | 0.55 | 0.6 | 0.65 | 0.7 | 0.75 | 0.8 | 0.85 | 0.9 | 98.0 | 98.01 | 98.02 | 98.03 | 98.04 | 98.05 | 98.06 | 98.07 | 98.08 | 98.09 | 98.1 | 98.11 | 98.12 | 98.13 | 98.14 | 98.15 | 98.16 | 98.17 | 98.18 | 98.19 | 98.2 | 98.21 | 98.22 | 98.23 | 98.24 | 98.25 | 98.26 | 98.27 | 98.28 | 98.29 | 98.3 | 98.31 | 98.32 | 98.33 | 98.34 | 98.35 | 98.36 | 98.37 | 98.38 | 98.39 | 98.4 | 98.41 | 98.42 | 98.43 | 98.44 | 98.45 | 98.46 | 98.47 | 98.48 | 98.49 | 98.5 | 98.51 | 98.52 | 98.53 | 98.54 | 98.55 | 98.56 | 98.57 | 98.58 | 98.59 | 98.6 | 98.61 | 98.62 | 98.63 | 98.64 | 98.65 | 98.66 | 98.67 | 98.68 | 98.69 | 98.7 | 98.71 | 98.72 | 98.73 | 98.74 | 98.75 | 98.76 | 98.77 | 98.78 | 98.79 | 98.8 | 98.81 | 98.82 | 98.83 | 98.84 | 98.85 | 98.86 | 98.87 | 98.88 | 98.89 | 98.9 | 98.91 | 98.92 | 98.93 | 98.94 | 98.95 | 98.96 | 98.97 | 98.98 | 98.99 | 99.0 | 99.01 | 99.02 | 99.03 | 99.04 | 99.05 | 99.06 | 99.07 | 99.08 | 99.09 | 99.1 | 99.11 | 99.12 | 99.13 | 99.14 | 99.15 | 99.16 | 99.17 | 99.18 | 99.19 | 99.2 | 99.21 | 99.22 | 99.23 | 99.24 | 99.25 | 99.26 | 99.27 | 99.28 | 99.29 | 99.3 | 99.31 | 99.32 | 99.33 | 99.34 | 99.35 | 99.36 | 99.37 | 99.38 | 99.39 | 99.4 | 99.41 | 99.42 | 99.43 | 99.44 | 99.45 | 99.46 | 99.47 | 99.48 | 99.49 | 99.5 | 99.51 | 99.52 | 99.53 | 99.54 | 99.55 | 99.56 | 99.57 | 99.58 | 99.59 | 99.6 | 99.61 | 99.62 | 99.63 | 99.64 | 99.65 | 99.66 | 99.67 | 99.68 | 99.69 | 99.7 | 99.71 | 99.72 | 99.73 | 99.74 | 99.75 | 99.76 | 99.77 | 99.78 | 99.79 | 99.8 | 99.81 | 99.82 | 99.83 | 99.84 | 99.85 | 99.86 | 99.87 | 99.88 | 99.89 | 99.9 | 99.91 | 99.92 | 99.93 | 99.94 | 99.95 | 99.96 | 99.97 | 99.98 | 99.99 | \n",
      "\n",
      "-------------- free RF --------------\n",
      "0.1 | 0.15 | 0.2 | 0.25 | 0.3 | 0.35 | 0.4 | 0.45 | 0.5 | 0.55 | 0.6 | 0.65 | 0.7 | 0.75 | 0.8 | 0.85 | 0.9 | 98.0 | 98.01 | 98.02 | 98.03 | 98.04 | 98.05 | 98.06 | 98.07 | 98.08 | 98.09 | 98.1 | 98.11 | 98.12 | 98.13 | 98.14 | 98.15 | 98.16 | 98.17 | 98.18 | 98.19 | 98.2 | 98.21 | 98.22 | 98.23 | 98.24 | 98.25 | 98.26 | 98.27 | 98.28 | 98.29 | 98.3 | 98.31 | 98.32 | 98.33 | 98.34 | 98.35 | 98.36 | 98.37 | 98.38 | 98.39 | 98.4 | 98.41 | 98.42 | 98.43 | 98.44 | 98.45 | 98.46 | 98.47 | 98.48 | 98.49 | 98.5 | 98.51 | 98.52 | 98.53 | 98.54 | 98.55 | 98.56 | 98.57 | 98.58 | 98.59 | 98.6 | 98.61 | 98.62 | 98.63 | 98.64 | 98.65 | 98.66 | 98.67 | 98.68 | 98.69 | 98.7 | 98.71 | 98.72 | 98.73 | 98.74 | 98.75 | 98.76 | 98.77 | 98.78 | 98.79 | 98.8 | 98.81 | 98.82 | 98.83 | 98.84 | 98.85 | 98.86 | 98.87 | 98.88 | 98.89 | 98.9 | 98.91 | 98.92 | 98.93 | 98.94 | 98.95 | 98.96 | 98.97 | 98.98 | 98.99 | 99.0 | 99.01 | 99.02 | 99.03 | 99.04 | 99.05 | 99.06 | 99.07 | 99.08 | 99.09 | 99.1 | 99.11 | 99.12 | 99.13 | 99.14 | 99.15 | 99.16 | 99.17 | 99.18 | 99.19 | 99.2 | 99.21 | 99.22 | 99.23 | 99.24 | 99.25 | 99.26 | 99.27 | 99.28 | 99.29 | 99.3 | 99.31 | 99.32 | 99.33 | 99.34 | 99.35 | 99.36 | 99.37 | 99.38 | 99.39 | 99.4 | 99.41 | 99.42 | 99.43 | 99.44 | 99.45 | 99.46 | 99.47 | 99.48 | 99.49 | 99.5 | 99.51 | 99.52 | 99.53 | 99.54 | 99.55 | 99.56 | 99.57 | 99.58 | 99.59 | 99.6 | 99.61 | 99.62 | 99.63 | 99.64 | 99.65 | 99.66 | 99.67 | 99.68 | 99.69 | 99.7 | 99.71 | 99.72 | 99.73 | 99.74 | 99.75 | 99.76 | 99.77 | 99.78 | 99.79 | 99.8 | 99.81 | 99.82 | 99.83 | 99.84 | 99.85 | 99.86 | 99.87 | 99.88 | 99.89 | 99.9 | 99.91 | 99.92 | 99.93 | 99.94 | 99.95 | 99.96 | 99.97 | 99.98 | 99.99 | \n",
      "\n",
      "-------------- free our --------------\n",
      "0.1 | 0.15 | 0.2 | 0.25 | 0.3 | 0.35 | 0.4 | 0.45 | 0.5 | 0.55 | 0.6 | 0.65 | 0.7 | 0.75 | 0.8 | 0.85 | 0.9 | 98.0 | 98.01 | 98.02 | 98.03 | 98.04 | 98.05 | 98.06 | 98.07 | 98.08 | 98.09 | 98.1 | 98.11 | 98.12 | 98.13 | 98.14 | 98.15 | 98.16 | 98.17 | 98.18 | 98.19 | 98.2 | 98.21 | 98.22 | 98.23 | 98.24 | 98.25 | 98.26 | 98.27 | 98.28 | 98.29 | 98.3 | 98.31 | 98.32 | 98.33 | 98.34 | 98.35 | 98.36 | 98.37 | 98.38 | 98.39 | 98.4 | 98.41 | 98.42 | 98.43 | 98.44 | 98.45 | 98.46 | 98.47 | 98.48 | 98.49 | 98.5 | 98.51 | 98.52 | 98.53 | 98.54 | 98.55 | 98.56 | 98.57 | 98.58 | 98.59 | 98.6 | 98.61 | 98.62 | 98.63 | 98.64 | 98.65 | 98.66 | 98.67 | 98.68 | 98.69 | 98.7 | 98.71 | 98.72 | 98.73 | 98.74 | 98.75 | 98.76 | 98.77 | 98.78 | 98.79 | 98.8 | 98.81 | 98.82 | 98.83 | 98.84 | 98.85 | 98.86 | 98.87 | 98.88 | 98.89 | 98.9 | 98.91 | 98.92 | 98.93 | 98.94 | 98.95 | 98.96 | 98.97 | 98.98 | 98.99 | 99.0 | 99.01 | 99.02 | 99.03 | 99.04 | 99.05 | 99.06 | 99.07 | 99.08 | 99.09 | 99.1 | 99.11 | 99.12 | 99.13 | 99.14 | 99.15 | 99.16 | 99.17 | 99.18 | 99.19 | 99.2 | 99.21 | 99.22 | 99.23 | 99.24 | 99.25 | 99.26 | 99.27 | 99.28 | 99.29 | 99.3 | 99.31 | 99.32 | 99.33 | 99.34 | 99.35 | 99.36 | 99.37 | 99.38 | 99.39 | 99.4 | 99.41 | 99.42 | 99.43 | 99.44 | 99.45 | 99.46 | 99.47 | 99.48 | 99.49 | 99.5 | 99.51 | 99.52 | 99.53 | 99.54 | 99.55 | 99.56 | 99.57 | 99.58 | 99.59 | 99.6 | 99.61 | 99.62 | 99.63 | 99.64 | 99.65 | 99.66 | 99.67 | 99.68 | 99.69 | 99.7 | 99.71 | 99.72 | 99.73 | 99.74 | 99.75 | 99.76 | 99.77 | 99.78 | 99.79 | 99.8 | 99.81 | 99.82 | 99.83 | 99.84 | 99.85 | 99.86 | 99.87 | 99.88 | 99.89 | 99.9 | 99.91 | 99.92 | 99.93 | 99.94 | 99.95 | 99.96 | 99.97 | 99.98 | 99.99 | Done!!!\n"
     ]
    }
   ],
   "source": [
    "#res_lab_free = mfileu.read_file('generated_for_result', 'all_frames_bites.pkl')\n",
    "all_frames, all_bites = {}, {}\n",
    "\n",
    "for lab_free in ['lab', 'free']:    \n",
    "    frames_clf, bites_clf = {}, {}\n",
    "    for clf in ['RF', 'our']:        \n",
    "        print(\"\\n\\n--------------\", lab_free, clf, \"--------------\")\n",
    "        f, b = get_frames_bites_all(lab_free, clf)\n",
    "        frames_clf[clf] = f\n",
    "        bites_clf[clf] = b\n",
    "        \n",
    "    all_frames[lab_free] = frames_clf\n",
    "    all_bites[lab_free] = bites_clf\n",
    "            \n",
    "mfileu.write_file('generated_for_result', 'all_frames.pkl', all_frames)\n",
    "mfileu.write_file('generated_for_result', 'all_bites.pkl', all_bites)\n",
    "print(\"Done!!!\")"
   ]
  },
  {
   "cell_type": "code",
   "execution_count": null,
   "metadata": {},
   "outputs": [],
   "source": []
  }
 ],
 "metadata": {
  "kernelspec": {
   "display_name": "Python 3",
   "language": "python",
   "name": "python3"
  },
  "language_info": {
   "codemirror_mode": {
    "name": "ipython",
    "version": 3
   },
   "file_extension": ".py",
   "mimetype": "text/x-python",
   "name": "python",
   "nbconvert_exporter": "python",
   "pygments_lexer": "ipython3",
   "version": "3.6.4"
  }
 },
 "nbformat": 4,
 "nbformat_minor": 2
}
