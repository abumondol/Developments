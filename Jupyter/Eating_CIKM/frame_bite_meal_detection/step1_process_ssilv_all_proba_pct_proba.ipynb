{
 "cells": [
  {
   "cell_type": "code",
   "execution_count": 1,
   "metadata": {},
   "outputs": [],
   "source": [
    "import numpy as np\n",
    "import scipy as sp\n",
    "import os \n",
    "import sys\n",
    "import importlib"
   ]
  },
  {
   "cell_type": "code",
   "execution_count": 2,
   "metadata": {},
   "outputs": [],
   "source": [
    "util_path = 'C:/ASM/Dropbox/Developments/Jupyter/Eating/myutils' if 'C:' in os.getcwd() else './myutils'\n",
    "sys.path.append(util_path)\n",
    "import my_file_utils as mfileu\n",
    "#importlib.reload(mdu)"
   ]
  },
  {
   "cell_type": "code",
   "execution_count": 3,
   "metadata": {},
   "outputs": [],
   "source": [
    "def get_percentile_proba_other_sess(all_proba, subj, exclude_sess, percentile):\n",
    "    other_p = []\n",
    "    for sess in range(len(all_proba[subj])):\n",
    "        if sess == exclude_sess:\n",
    "            continue\n",
    "        p = all_proba[subj][sess][:, -1]    \n",
    "        other_p = p if len(other_p)==0 else np.concatenate((other_p, p))\n",
    "            \n",
    "    return np.percentile(other_p, percentile)"
   ]
  },
  {
   "cell_type": "code",
   "execution_count": 4,
   "metadata": {},
   "outputs": [],
   "source": [
    "def get_percentile_proba_all(all_proba, isLab=False):\n",
    "    pct_proba=[]\n",
    "    for subj in range(len(all_proba)):\n",
    "        for sess in range(len(all_proba[subj])):\n",
    "            for p in range(9800, 10000):                \n",
    "                percentile = p/100\n",
    "                p_off = np.percentile(all_proba[subj][sess][:, -1] , percentile)\n",
    "                p_on = 0 if isLab else get_percentile_proba_other_sess(all_proba, subj=subj, exclude_sess=sess, percentile=percentile)                     \n",
    "                pct_proba.append([subj, sess, percentile, p_off, p_on])                \n",
    "                \n",
    "    return np.array(pct_proba)"
   ]
  },
  {
   "cell_type": "code",
   "execution_count": 5,
   "metadata": {},
   "outputs": [
    {
     "name": "stdout",
     "output_type": "stream",
     "text": [
      "\n",
      "\n",
      "-----------------\n",
      "Lab/Free:  lab\n",
      "-----------------\n",
      "\n",
      "Processing ssilv: \n",
      "(363907, 5) | (374208, 5) | (345359, 5) | (367163, 5) | (339285, 5) | (351222, 5) | (346496, 5) | (351501, 5) | (346299, 5) | (339873, 5) | (362059, 5) | (341448, 5) | (338529, 5) | \n",
      "Processing all_proba:  RF\n",
      "(363907, 3) | (374208, 3) | (345359, 3) | (367163, 3) | (339285, 3) | (351222, 3) | (346496, 3) | (351501, 3) | (346299, 3) | (339873, 3) | (362059, 3) | (341448, 3) | (338529, 3) | \n",
      "Processing pct_proba:  RF\n",
      "\n",
      "Processing all_proba:  our\n",
      "(363907, 3) | (374208, 3) | (345359, 3) | (367163, 3) | (339285, 3) | (351222, 3) | (346496, 3) | (351501, 3) | (346299, 3) | (339873, 3) | (362059, 3) | (341448, 3) | (338529, 3) | \n",
      "Processing pct_proba:  our\n",
      "\n",
      "\n",
      "-----------------\n",
      "Lab/Free:  free\n",
      "-----------------\n",
      "\n",
      "Processing ssilv: \n",
      "(646714, 5) | (610892, 5) | (585629, 5) | (592694, 5) | (691924, 5) | (674177, 5) | (403064, 5) | (459454, 5) | (490986, 5) | (628567, 5) | (248969, 5) | (505918, 5) | (592097, 5) | (435264, 5) | (328846, 5) | (798852, 5) | (613959, 5) | (641621, 5) | (531954, 5) | (547062, 5) | (547827, 5) | (574671, 5) | (405966, 5) | (555449, 5) | (669019, 5) | \n",
      "Processing all_proba:  RF\n",
      "(646714, 3) | (610892, 3) | (585629, 3) | (592694, 3) | (691924, 3) | (674177, 3) | (403064, 3) | (459454, 3) | (490986, 3) | (628567, 3) | (248969, 3) | (505918, 3) | (592097, 3) | (435264, 3) | (328846, 3) | (798852, 3) | (613959, 3) | (641621, 3) | (531954, 3) | (547062, 3) | (547827, 3) | (574671, 3) | (405966, 3) | (555449, 3) | (669019, 3) | \n",
      "Processing pct_proba:  RF\n",
      "\n",
      "Processing all_proba:  our\n",
      "(646714, 3) | (610892, 3) | (585629, 3) | (592694, 3) | (691924, 3) | (674177, 3) | (403064, 3) | (459454, 3) | (490986, 3) | (628567, 3) | (248969, 3) | (505918, 3) | (592097, 3) | (435264, 3) | (328846, 3) | (798852, 3) | (613959, 3) | (641621, 3) | (531954, 3) | (547062, 3) | (547827, 3) | (574671, 3) | (405966, 3) | (555449, 3) | (669019, 3) | \n",
      "Processing pct_proba:  our\n",
      "Done\n"
     ]
    }
   ],
   "source": [
    "step_size = 8\n",
    "res_ssilv, res_all_proba, res_pct_proba = {}, {}, {}\n",
    "\n",
    "for lab_free in ['lab', 'free']:\n",
    "    print(\"\\n\\n-----------------\")\n",
    "    print(\"Lab/Free: \", lab_free)\n",
    "    print(\"-----------------\")\n",
    "    \n",
    "    print(\"\\nProcessing ssilv: \")\n",
    "    ssilv = mfileu.read_file('ssilv', '{}_ssilv_steven_right.pkl'.format(lab_free))\n",
    "    for subj in range(len(ssilv)):\n",
    "        for sess in range(len(ssilv[subj])):\n",
    "            print(ssilv[subj][sess].shape, end=\" | \")\n",
    "            ssilv[subj][sess] = ssilv[subj][sess][::step_size, :]\n",
    "    res_ssilv[lab_free] = ssilv\n",
    "    \n",
    "    res_ap, res_pct = {}, {}\n",
    "    for clf in ['RF', 'our']:         \n",
    "        print(\"\\nProcessing all_proba: \", clf)        \n",
    "        ap = mfileu.read_file('all_proba', 'all_proba_frame_{}_{}.pkl'.format(lab_free, clf))\n",
    "        for subj in range(len(ap)):\n",
    "            for sess in range(len(ap[subj])):\n",
    "                print(ap[subj][sess].shape, end=\" | \")\n",
    "                ap[subj][sess] = ap[subj][sess][::step_size, :2]\n",
    "        res_ap[clf] = ap        \n",
    "        \n",
    "        print(\"\\nProcessing pct_proba: \", clf)                \n",
    "        isLab = True if lab_free=='lab' else False\n",
    "        pct_proba = get_percentile_proba_all(ap, isLab)\n",
    "        res_pct[clf] = pct_proba\n",
    "        \n",
    "    res_all_proba[lab_free] = res_ap\n",
    "    res_pct_proba[lab_free] = res_pct\n",
    "        \n",
    "\n",
    "mfileu.write_file('generated_for_result', 'all_ssilv.pkl', res_ssilv)\n",
    "mfileu.write_file('generated_for_result', 'all_proba.pkl', res_all_proba)\n",
    "mfileu.write_file('generated_for_result', 'all_pct_proba.pkl', res_pct_proba)\n",
    "print(\"Done\")"
   ]
  },
  {
   "cell_type": "code",
   "execution_count": null,
   "metadata": {},
   "outputs": [],
   "source": []
  },
  {
   "cell_type": "code",
   "execution_count": null,
   "metadata": {},
   "outputs": [],
   "source": []
  }
 ],
 "metadata": {
  "kernelspec": {
   "display_name": "Python 3",
   "language": "python",
   "name": "python3"
  },
  "language_info": {
   "codemirror_mode": {
    "name": "ipython",
    "version": 3
   },
   "file_extension": ".py",
   "mimetype": "text/x-python",
   "name": "python",
   "nbconvert_exporter": "python",
   "pygments_lexer": "ipython3",
   "version": "3.6.4"
  }
 },
 "nbformat": 4,
 "nbformat_minor": 2
}
