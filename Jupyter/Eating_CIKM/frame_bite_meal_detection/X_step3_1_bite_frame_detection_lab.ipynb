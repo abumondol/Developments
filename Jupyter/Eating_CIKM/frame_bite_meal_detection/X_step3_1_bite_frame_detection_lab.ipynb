{
 "cells": [
  {
   "cell_type": "code",
   "execution_count": 1,
   "metadata": {},
   "outputs": [],
   "source": [
    "import numpy as np\n",
    "import scipy as sp\n",
    "import os \n",
    "import sys\n",
    "import importlib\n",
    "import bite_detection_utils as bdu\n",
    "import copy"
   ]
  },
  {
   "cell_type": "code",
   "execution_count": 2,
   "metadata": {},
   "outputs": [],
   "source": [
    "util_path = 'C:/ASM/Dropbox/Developments/Jupyter/Eating/myutils' if 'C:' in os.getcwd() else './myutils'\n",
    "sys.path.append(util_path)\n",
    "import my_file_utils as mfileu\n",
    "#importlib.reload(mdu)"
   ]
  },
  {
   "cell_type": "code",
   "execution_count": 3,
   "metadata": {},
   "outputs": [],
   "source": [
    "annots = mfileu.read_file('data', 'lab_annots_steven_right.pkl')\n",
    "ssilv = mfileu.read_file('ssilv2', 'lab_ssilv_steven_right.pkl')"
   ]
  },
  {
   "cell_type": "code",
   "execution_count": 11,
   "metadata": {},
   "outputs": [],
   "source": [
    "RF_our ='RF'\n",
    "all_proba = mfileu.read_file('all_proba2', 'all_proba_frame_lab_{}.pkl'.format(RF_our))\n",
    "pct_proba = mfileu.read_file('pct_proba2', 'pct_proba_frame_lab_{}.pkl'.format(RF_our))"
   ]
  },
  {
   "cell_type": "code",
   "execution_count": 6,
   "metadata": {},
   "outputs": [],
   "source": [
    "\n",
    "def check_bites(a, indices):        \n",
    "    ix = indices\n",
    "    gt = a[a[:,2]==1, 0]\n",
    "    gt_count = len(gt)\n",
    "    ix_count = len(ix)\n",
    "    \n",
    "    tp, fp, fn = 0, 0, 0    \n",
    "    if ix_count==0:\n",
    "        fn = gt_count\n",
    "        return tp, fp, fn\n",
    "    \n",
    "    \n",
    "    \n",
    "    tp_ix = np.zeros((ix_count, ))\n",
    "    for i in range(gt_count):\n",
    "        d = np.absolute(ix-gt[i])\n",
    "        mi = np.argmin(d)\n",
    "        if d[mi]<=gt_distance:\n",
    "            tp_ix[mi] = 1\n",
    "        \n",
    "    tp = np.sum(tp_ix)\n",
    "    fp = ix_count - tp\n",
    "    fn = gt_count - tp\n",
    "                \n",
    "    return tp, fp, fn"
   ]
  },
  {
   "cell_type": "code",
   "execution_count": 7,
   "metadata": {},
   "outputs": [],
   "source": [
    "gt_distance = 2*16\n",
    "def check_bites_old(a, indices):    \n",
    "    tp, fp, tn, fn = 0, 0, 0, 0\n",
    "    if len(indices)==0:\n",
    "        return tp, fp, fn\n",
    "    \n",
    "    ix = (indices[:,0]+indices[:,1])/2\n",
    "    ix = ix.astype(int)    \n",
    "    gt = a[a[:,2]==1, 0]\n",
    "    gt_count = len(gt)\n",
    "    ix_count = len(ix)\n",
    "    \n",
    "    for i in range(ix_count):\n",
    "        cond = np.absolute(gt - ix[i])<=gt_distance        \n",
    "        if np.sum(cond)>0:\n",
    "            tp += 1\n",
    "        else:\n",
    "            fp += 1\n",
    "        \n",
    "    for i in range(gt_count):\n",
    "        cond = np.absolute(gt[i] - ix)<=gt_distance        \n",
    "        if np.sum(cond)==0:\n",
    "            fn +=1 \n",
    "            \n",
    "    return tp, fp, fn"
   ]
  },
  {
   "cell_type": "code",
   "execution_count": 8,
   "metadata": {},
   "outputs": [],
   "source": [
    "def get_bites_frames(bite_frame, percentile_proba, percentile_proba_val, off_on=None):\n",
    "    assert off_on in [None, \"offline\", \"online\"]\n",
    "    assert bite_frame in [\"bite\", \"frame\"]    \n",
    "    assert percentile_proba in [\"percentile\", \"proba\"]    \n",
    "    \n",
    "    ba = mfileu.read_file('data', 'lab_data_steven_blank_array.pkl')\n",
    "    tp, fp, tn, fn = 0, 0, 0, 0\n",
    "    \n",
    "    \n",
    "    \n",
    "    for subj in range(len(ba)):\n",
    "        for sess in range(len(ba[subj])):\n",
    "            a = annots[subj][sess]            \n",
    "            ix_proba = all_proba[subj][sess][:, :2]\n",
    "            \n",
    "            if percentile_proba=='percentile':                \n",
    "                cond  = (pct_proba[:, 0]==subj) & (pct_proba[:, 1]==sess) & (pct_proba[:, 2]==percentile_proba_val)\n",
    "                assert np.sum(cond)==1                        \n",
    "                proba_th = pct_proba[cond, -2] if off_on==\"offline\" else pct_proba[cond, -1]\n",
    "            else:\n",
    "                proba_th = percentile_proba_val\n",
    "            \n",
    "            if bite_frame==\"bite\":\n",
    "                indices = bdu.detect_bites(ix_proba, proba_th=proba_th, ix_offset=40)\n",
    "                ba[subj][sess] = indices                \n",
    "                tp_1, fp_1, fn_1 = check_bites(a, indices)\n",
    "                #print(tp_1, fp_1, fn_1)\n",
    "                \n",
    "            else:\n",
    "                #ix = ix_proba[:, 0]+40\n",
    "                proba = ix_proba[:, 1]            \n",
    "                #indices = ix[proba>=proba_th].reshape((-1, 1))\n",
    "                pred = proba>=proba_th                \n",
    "                gt = (ssilv[subj][sess][:, 3]==1)\n",
    "                                \n",
    "                tp_1 = np.sum(pred & gt)\n",
    "                fp_1 = np.sum(pred & np.logical_not(gt))\n",
    "                fn_1 = np.sum(np.logical_not(pred) & gt)\n",
    "                tn_1 = np.sum(np.logical_not(pred) & np.logical_not(gt))\n",
    "                \n",
    "                #print(tp_1, fp_1, fn_1, tn_1, len(pred), len(gt))\n",
    "                assert tp_1 + fp_1 + fn_1 + tn_1 == len(pred)\n",
    "                \n",
    "            \n",
    "            tp += tp_1\n",
    "            fp += fp_1            \n",
    "            fn += fn_1\n",
    "    \n",
    "    res = {\"list\":ba, \"tp\":tp, \"fp\":fp, \"fn\":fn}\n",
    "    #res = {\"tp\":tp, \"fp\":fp, \"fn\":fp}\n",
    "    return res"
   ]
  },
  {
   "cell_type": "code",
   "execution_count": 9,
   "metadata": {},
   "outputs": [
    {
     "name": "stdout",
     "output_type": "stream",
     "text": [
      "our 98.0 : our 98.01 : our 98.02 : our 98.03 : our 98.04 : our 98.05 : our 98.06 : our 98.07 : our 98.08 : our 98.09 : our 98.1 : our 98.11 : our 98.12 : our 98.13 : our 98.14 : our 98.15 : our 98.16 : our 98.17 : our 98.18 : our 98.19 : our 98.2 : our 98.21 : "
     ]
    },
    {
     "ename": "KeyboardInterrupt",
     "evalue": "",
     "output_type": "error",
     "traceback": [
      "\u001b[1;31m---------------------------------------------------------------------------\u001b[0m",
      "\u001b[1;31mKeyboardInterrupt\u001b[0m                         Traceback (most recent call last)",
      "\u001b[1;32m<ipython-input-9-0b61fd864c96>\u001b[0m in \u001b[0;36m<module>\u001b[1;34m()\u001b[0m\n\u001b[0;32m      4\u001b[0m     \u001b[0mprint\u001b[0m\u001b[1;33m(\u001b[0m\u001b[0mRF_our\u001b[0m\u001b[1;33m,\u001b[0m \u001b[0mpercentile\u001b[0m\u001b[1;33m,\u001b[0m \u001b[0mend\u001b[0m\u001b[1;33m=\u001b[0m\u001b[1;34m\" : \"\u001b[0m\u001b[1;33m)\u001b[0m\u001b[1;33m\u001b[0m\u001b[0m\n\u001b[0;32m      5\u001b[0m     \u001b[0mx\u001b[0m \u001b[1;33m=\u001b[0m \u001b[1;33m{\u001b[0m\u001b[1;33m}\u001b[0m\u001b[1;33m\u001b[0m\u001b[0m\n\u001b[1;32m----> 6\u001b[1;33m     \u001b[0mx\u001b[0m\u001b[1;33m[\u001b[0m\u001b[1;34m\"bite_offline\"\u001b[0m\u001b[1;33m]\u001b[0m \u001b[1;33m=\u001b[0m \u001b[0mget_bites_frames\u001b[0m\u001b[1;33m(\u001b[0m\u001b[1;34m\"bite\"\u001b[0m\u001b[1;33m,\u001b[0m \u001b[1;34m\"percentile\"\u001b[0m\u001b[1;33m,\u001b[0m \u001b[0mpercentile\u001b[0m\u001b[1;33m,\u001b[0m \u001b[1;34m\"offline\"\u001b[0m\u001b[1;33m)\u001b[0m\u001b[1;33m\u001b[0m\u001b[0m\n\u001b[0m\u001b[0;32m      7\u001b[0m     \u001b[1;31m#x[\"frame_offline\"] = get_bites_frames(\"frame\", \"percentile\", percentile, \"offline\")\u001b[0m\u001b[1;33m\u001b[0m\u001b[1;33m\u001b[0m\u001b[0m\n\u001b[0;32m      8\u001b[0m     \u001b[0mres\u001b[0m\u001b[1;33m[\u001b[0m\u001b[0mpercentile\u001b[0m\u001b[1;33m]\u001b[0m \u001b[1;33m=\u001b[0m \u001b[0mx\u001b[0m\u001b[1;33m\u001b[0m\u001b[0m\n",
      "\u001b[1;32m<ipython-input-8-e99a78768ed8>\u001b[0m in \u001b[0;36mget_bites_frames\u001b[1;34m(bite_frame, percentile_proba, percentile_proba_val, off_on)\u001b[0m\n\u001b[0;32m     22\u001b[0m \u001b[1;33m\u001b[0m\u001b[0m\n\u001b[0;32m     23\u001b[0m             \u001b[1;32mif\u001b[0m \u001b[0mbite_frame\u001b[0m\u001b[1;33m==\u001b[0m\u001b[1;34m\"bite\"\u001b[0m\u001b[1;33m:\u001b[0m\u001b[1;33m\u001b[0m\u001b[0m\n\u001b[1;32m---> 24\u001b[1;33m                 \u001b[0mindices\u001b[0m \u001b[1;33m=\u001b[0m \u001b[0mdetect_bites\u001b[0m\u001b[1;33m(\u001b[0m\u001b[0mix_proba\u001b[0m\u001b[1;33m,\u001b[0m \u001b[0mproba_th\u001b[0m\u001b[1;33m=\u001b[0m\u001b[0mproba_th\u001b[0m\u001b[1;33m,\u001b[0m \u001b[0mix_offset\u001b[0m\u001b[1;33m=\u001b[0m\u001b[1;36m40\u001b[0m\u001b[1;33m)\u001b[0m\u001b[1;33m\u001b[0m\u001b[0m\n\u001b[0m\u001b[0;32m     25\u001b[0m                 \u001b[0mba\u001b[0m\u001b[1;33m[\u001b[0m\u001b[0msubj\u001b[0m\u001b[1;33m]\u001b[0m\u001b[1;33m[\u001b[0m\u001b[0msess\u001b[0m\u001b[1;33m]\u001b[0m \u001b[1;33m=\u001b[0m \u001b[0mindices\u001b[0m\u001b[1;33m\u001b[0m\u001b[0m\n\u001b[0;32m     26\u001b[0m                 \u001b[0mtp_1\u001b[0m\u001b[1;33m,\u001b[0m \u001b[0mfp_1\u001b[0m\u001b[1;33m,\u001b[0m \u001b[0mfn_1\u001b[0m \u001b[1;33m=\u001b[0m \u001b[0mcheck_bites\u001b[0m\u001b[1;33m(\u001b[0m\u001b[0ma\u001b[0m\u001b[1;33m,\u001b[0m \u001b[0mindices\u001b[0m\u001b[1;33m)\u001b[0m\u001b[1;33m\u001b[0m\u001b[0m\n",
      "\u001b[1;32m<ipython-input-5-455df2b3f973>\u001b[0m in \u001b[0;36mdetect_bites\u001b[1;34m(ix_proba, proba_th, ix_offset)\u001b[0m\n\u001b[0;32m      7\u001b[0m     \u001b[0mpeaks\u001b[0m \u001b[1;33m=\u001b[0m \u001b[1;33m[\u001b[0m\u001b[1;33m]\u001b[0m\u001b[1;33m\u001b[0m\u001b[0m\n\u001b[0;32m      8\u001b[0m     \u001b[1;32mfor\u001b[0m \u001b[0mi\u001b[0m \u001b[1;32min\u001b[0m \u001b[0mrange\u001b[0m\u001b[1;33m(\u001b[0m\u001b[1;36m1\u001b[0m\u001b[1;33m,\u001b[0m \u001b[0mcount\u001b[0m\u001b[1;33m-\u001b[0m\u001b[1;36m1\u001b[0m\u001b[1;33m)\u001b[0m\u001b[1;33m:\u001b[0m\u001b[1;33m\u001b[0m\u001b[0m\n\u001b[1;32m----> 9\u001b[1;33m         \u001b[1;32mif\u001b[0m \u001b[0mproba\u001b[0m\u001b[1;33m[\u001b[0m\u001b[0mi\u001b[0m\u001b[1;33m-\u001b[0m\u001b[1;36m1\u001b[0m\u001b[1;33m]\u001b[0m\u001b[1;33m<\u001b[0m\u001b[0mproba\u001b[0m\u001b[1;33m[\u001b[0m\u001b[0mi\u001b[0m\u001b[1;33m]\u001b[0m\u001b[1;33m<=\u001b[0m\u001b[0mproba\u001b[0m\u001b[1;33m[\u001b[0m\u001b[0mi\u001b[0m\u001b[1;33m+\u001b[0m\u001b[1;36m1\u001b[0m\u001b[1;33m]\u001b[0m \u001b[1;32mand\u001b[0m \u001b[0mproba\u001b[0m\u001b[1;33m[\u001b[0m\u001b[0mi\u001b[0m\u001b[1;33m]\u001b[0m\u001b[1;33m>=\u001b[0m\u001b[0mproba_th\u001b[0m\u001b[1;33m:\u001b[0m\u001b[1;33m\u001b[0m\u001b[0m\n\u001b[0m\u001b[0;32m     10\u001b[0m             \u001b[0mpeaks\u001b[0m\u001b[1;33m.\u001b[0m\u001b[0mappend\u001b[0m\u001b[1;33m(\u001b[0m\u001b[0mi\u001b[0m\u001b[1;33m)\u001b[0m\u001b[1;33m\u001b[0m\u001b[0m\n\u001b[0;32m     11\u001b[0m     \u001b[1;31m#print(len(peaks))\u001b[0m\u001b[1;33m\u001b[0m\u001b[1;33m\u001b[0m\u001b[0m\n",
      "\u001b[1;31mKeyboardInterrupt\u001b[0m: "
     ]
    }
   ],
   "source": [
    "res ={}\n",
    "for p in range(9800, 10000):\n",
    "    percentile = p/100    \n",
    "    print(RF_our, percentile, end=\" : \")    \n",
    "    x = {}\n",
    "    x[\"bite_offline\"] = get_bites_frames(\"bite\", \"percentile\", percentile, \"offline\")    \n",
    "    #x[\"frame_offline\"] = get_bites_frames(\"frame\", \"percentile\", percentile, \"offline\")    \n",
    "    res[percentile] = x\n",
    "    \n",
    "mfileu.write_file('all_bites_frames_lab', 'all_bites_frames_percentile_{}.pkl'.format(RF_our), res)"
   ]
  },
  {
   "cell_type": "code",
   "execution_count": 12,
   "metadata": {},
   "outputs": [
    {
     "name": "stdout",
     "output_type": "stream",
     "text": [
      "RF 0.1 : RF 0.15 : RF 0.2 : RF 0.25 : RF 0.3 : RF 0.35 : RF 0.4 : RF 0.45 : RF 0.5 : RF 0.55 : RF 0.6 : RF 0.65 : RF 0.7 : RF 0.75 : RF 0.8 : RF 0.85 : RF 0.9 : "
     ]
    }
   ],
   "source": [
    "res ={}\n",
    "for p in range(10, 95, 5):\n",
    "    proba = p/100    \n",
    "    print(RF_our, proba, end=\" : \")    \n",
    "    x = {}\n",
    "    x[\"bite\"] = get_bites_frames(\"bite\", \"proba\", proba)    \n",
    "    #x[\"frame\"] = get_bites_frames(\"frame\", \"proba\", proba)    \n",
    "    res[proba] = x\n",
    "    \n",
    "    #print(RF_our, proba)\n",
    "    #print(x[\"bite\"][\"tp\"], x[\"bite\"][\"fp\"], x[\"bite\"][\"fn\"])\n",
    "    \n",
    "mfileu.write_file('all_bites_frames_lab', 'all_bites_frames_proba_{}.pkl'.format(RF_our), res)"
   ]
  },
  {
   "cell_type": "code",
   "execution_count": null,
   "metadata": {},
   "outputs": [],
   "source": []
  },
  {
   "cell_type": "code",
   "execution_count": null,
   "metadata": {},
   "outputs": [],
   "source": []
  }
 ],
 "metadata": {
  "kernelspec": {
   "display_name": "Python 3",
   "language": "python",
   "name": "python3"
  },
  "language_info": {
   "codemirror_mode": {
    "name": "ipython",
    "version": 3
   },
   "file_extension": ".py",
   "mimetype": "text/x-python",
   "name": "python",
   "nbconvert_exporter": "python",
   "pygments_lexer": "ipython3",
   "version": "3.6.4"
  }
 },
 "nbformat": 4,
 "nbformat_minor": 2
}
