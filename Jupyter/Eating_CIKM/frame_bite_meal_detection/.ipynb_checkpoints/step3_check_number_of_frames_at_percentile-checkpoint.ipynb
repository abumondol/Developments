{
 "cells": [
  {
   "cell_type": "code",
   "execution_count": 3,
   "metadata": {},
   "outputs": [],
   "source": [
    "import numpy as np\n",
    "import scipy as sp\n",
    "import os \n",
    "import sys\n",
    "import importlib\n",
    "import bite_detection_utils as bdu\n",
    "import copy"
   ]
  },
  {
   "cell_type": "code",
   "execution_count": 4,
   "metadata": {},
   "outputs": [],
   "source": [
    "util_path = 'C:/ASM/Dropbox/Developments/Jupyter/Eating/myutils' if 'C:' in os.getcwd() else './myutils'\n",
    "sys.path.append(util_path)\n",
    "import my_file_utils as mfileu\n",
    "#importlib.reload(mdu)"
   ]
  },
  {
   "cell_type": "code",
   "execution_count": 5,
   "metadata": {},
   "outputs": [],
   "source": [
    "annots = mfileu.read_file('data', 'free_annots_steven_processed.pkl')"
   ]
  },
  {
   "cell_type": "code",
   "execution_count": 6,
   "metadata": {},
   "outputs": [],
   "source": [
    "RF_our ='RF'\n",
    "all_proba = mfileu.read_file('all_proba2', 'all_proba_bite_free_{}.pkl'.format(RF_our))\n",
    "pct_proba = mfileu.read_file('pct_proba2', 'pct_proba_bite_free_{}.pkl'.format(RF_our))"
   ]
  },
  {
   "cell_type": "code",
   "execution_count": 7,
   "metadata": {},
   "outputs": [],
   "source": [
    "def get_labels_free(indices, a):\n",
    "    if len(indices)==0:\n",
    "        return []\n",
    "    \n",
    "    count = len(indices)    \n",
    "    labels=np.zeros((count, 2))\n",
    "    \n",
    "    isBite = True if indices.shape[1]>1 else False\n",
    "    \n",
    "    acount = len(a)    \n",
    "    for i in range(acount):                 \n",
    "        ix1 = a[i, 0]\n",
    "        ix2 = a[i, 1]\n",
    "        if isBite:\n",
    "            cond = (indices[:,1]>=ix1) & (indices[:,0]<=ix2)\n",
    "        else:\n",
    "            cond = (indices[:, 0]>=ix1) & (indices[:, 0]<=ix2)\n",
    "            \n",
    "        labels[cond, 0] = a[i, 2]\n",
    "    \n",
    "    cond = (labels[:,0]==1) | (labels[:,0]==2)\n",
    "    labels[cond, 1] = 1\n",
    "    \n",
    "    return labels.astype(int)"
   ]
  },
  {
   "cell_type": "code",
   "execution_count": 14,
   "metadata": {},
   "outputs": [],
   "source": [
    "def get_bites_frames(bite_frame, percentile=0, off_on=None):\n",
    "    assert off_on in [None, \"offline\", \"online\"]\n",
    "    assert bite_frame in [\"bite\", \"frame\"]\n",
    "    assert off_on!=None or percentile==0\n",
    "    \n",
    "    \n",
    "    ba = mfileu.read_file('data', 'free_data_steven_blank_array.pkl')\n",
    "    tp, fp, total = 0, 0, 0\n",
    "    \n",
    "    for subj in range(len(ba)):\n",
    "        for sess in range(len(ba[subj])):\n",
    "            a = annots[subj][sess]            \n",
    "            ix_proba = all_proba[subj][sess][:, :2]\n",
    "            total += len(ix_proba)\n",
    "            \n",
    "            if percentile>0:\n",
    "                cond  = (pct_proba[:, 0]==subj) & (pct_proba[:, 1]==sess) & (pct_proba[:, 2]==percentile)\n",
    "                assert np.sum(cond)==1                        \n",
    "                proba_th = pct_proba[cond, -2] if off_on==\"offline\" else pct_proba[cond, -1]\n",
    "            else:\n",
    "                proba_th = 0.5\n",
    "            \n",
    "            if bite_frame==\"bite\":\n",
    "                indices = bdu.detect_bites(ix_proba, proba_th=proba_th, ix_offset=40)                                 \n",
    "            else:\n",
    "                ix = ix_proba[:, 0]+40\n",
    "                proba = ix_proba[:, 1]            \n",
    "                indices = ix[proba==proba_th].reshape((-1, 1))\n",
    "            \n",
    "            if len(indices)>0:\n",
    "                l = get_labels_free(indices, a)            \n",
    "                ba[subj][sess] = np.concatenate((indices, l), axis=1).astype(int)                \n",
    "                \n",
    "                tp_1 = np.sum(l[:,1]==1)\n",
    "                fp_1 = len(l) - tp_1\n",
    "                \n",
    "                tp += tp_1\n",
    "                fp += fp_1           \n",
    "    \n",
    "    print(total, tp, fp, tp+fp, 100*(tp+fp)/total)\n",
    "    res = {\"list\":ba, \"tp\":tp, \"fp\":fp}\n",
    "    return res"
   ]
  },
  {
   "cell_type": "code",
   "execution_count": 15,
   "metadata": {},
   "outputs": [
    {
     "name": "stdout",
     "output_type": "stream",
     "text": [
      "our 99.7\n",
      "1722708 0 0 0 0.0\n",
      "1722708 0 0 0 0.0\n"
     ]
    }
   ],
   "source": [
    "res ={}\n",
    "#for p in range(9970, 10000):\n",
    "for p in range(9970, 9971):\n",
    "    percentile = p/100    \n",
    "    print(RF_our, percentile)    \n",
    "    x = {}\n",
    "    #x[\"bite_offline\"] = get_bites_frames(\"bite\", percentile, \"offline\")\n",
    "    #x[\"bite_online\"] = get_bites_frames(\"bite\", percentile, \"online\")\n",
    "    x[\"frame_offline\"] = get_bites_frames(\"frame\", percentile, \"offline\")\n",
    "    x[\"frame_online\"] = get_bites_frames(\"frame\", percentile, \"online\")    \n",
    "    res[percentile] = x \n",
    "\n",
    "#x = {}\n",
    "#x[\"bite\"] = get_bites_frames(\"bite\")\n",
    "#x[\"frame\"] = get_bites_frames(\"frame\")\n",
    "#res[\"prob_0.5\"] =  x\n",
    "\n",
    "#mfileu.write_file('all_bites_frames', 'all_bites_frames_{}.pkl'.format(RF_our), res)"
   ]
  },
  {
   "cell_type": "code",
   "execution_count": null,
   "metadata": {},
   "outputs": [],
   "source": []
  },
  {
   "cell_type": "code",
   "execution_count": null,
   "metadata": {},
   "outputs": [],
   "source": []
  }
 ],
 "metadata": {
  "kernelspec": {
   "display_name": "Python 3",
   "language": "python",
   "name": "python3"
  },
  "language_info": {
   "codemirror_mode": {
    "name": "ipython",
    "version": 3
   },
   "file_extension": ".py",
   "mimetype": "text/x-python",
   "name": "python",
   "nbconvert_exporter": "python",
   "pygments_lexer": "ipython3",
   "version": "3.6.4"
  }
 },
 "nbformat": 4,
 "nbformat_minor": 2
}
