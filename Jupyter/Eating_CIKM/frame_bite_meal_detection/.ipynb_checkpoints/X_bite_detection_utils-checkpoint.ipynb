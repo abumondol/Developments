{
 "cells": [
  {
   "cell_type": "code",
   "execution_count": 3,
   "metadata": {},
   "outputs": [],
   "source": [
    "import numpy as np\n",
    "import os\n",
    "import sys"
   ]
  },
  {
   "cell_type": "code",
   "execution_count": 4,
   "metadata": {},
   "outputs": [],
   "source": [
    "util_path = 'C:/ASM/Dropbox/Developments/Jupyter/Eating/myutils' if 'C:' in os.getcwd() else './myutils'\n",
    "sys.path.append(util_path)\n",
    "import my_file_utils as mfileu\n",
    "import my_steven_free_utils as msfreeu\n",
    "import my_cluster_utils as mclusteru\n",
    "#importlib.reload(mdu)"
   ]
  },
  {
   "cell_type": "code",
   "execution_count": 5,
   "metadata": {},
   "outputs": [],
   "source": [
    "def detect_bites_old(ix_proba, proba_th, ix_offset=0):\n",
    "    count = len(ix_proba)    \n",
    "    #print(\"Count total, Threshold, count greater proba_th: \", count, proba_th, np.sum(proba>proba_th))    \n",
    "    ix = ix_proba[:, 0]+ix_offset\n",
    "    proba = ix_proba[:, 1]\n",
    "    \n",
    "    res = []\n",
    "    inside = False\n",
    "    for i in range(count):\n",
    "        if proba[i]>=proba_th and inside==False:\n",
    "            inside = True\n",
    "            si = i\n",
    "        elif proba[i]<proba_th and inside==True:            \n",
    "            ei = i-1\n",
    "            res.append([ix[si], ix[ei], ei-si+1])\n",
    "            inside = False\n",
    "        \n",
    "    res = np.array(res).astype(int)\n",
    "    return res"
   ]
  },
  {
   "cell_type": "code",
   "execution_count": 8,
   "metadata": {},
   "outputs": [],
   "source": [
    "def plot_result(annots, clusters, bite_indices=[], meal_indices=[], title=\"\"):\n",
    "    import matplotlib.pyplot as plt\n",
    "    %matplotlib inline\n",
    "    \n",
    "    idf = 16*60*60\n",
    "    fig = plt.figure(figsize=(20,5))\n",
    "    ax = plt.subplot(111)     \n",
    "    \n",
    "    if len(bite_indices)>0:\n",
    "        ax.scatter(bite_indices[:,0]/idf, np.zeros((len(bite_indices)),)+3, marker='x', s=10, color='blue')                \n",
    "        \n",
    "    if len(meal_indices)>0:\n",
    "        ax.scatter(meal_indices[:,0]/idf, np.zeros((len(meal_indices)),)+3, marker='x', s=10, color='green')                \n",
    "    \n",
    "    clrs = ['', 'blue', 'green', 'red', 'black']    \n",
    "    for i in range(len(annots)):\n",
    "        si = annots[i, 0]/idf\n",
    "        ei = annots[i, 1]/idf\n",
    "        mt = annots[i, 2]            \n",
    "        ax.plot([si, ei], [1, 1], color=clrs[mt], linewidth=5)\n",
    "\n",
    "    for i in range(len(clusters)):\n",
    "        si = clusters[i, 0]/idf\n",
    "        ei = clusters[i, 1]/idf            \n",
    "        ax.plot([si, ei], [2, 2], color='black', linewidth=5)\n",
    "\n",
    "    plt.title(title, fontsize=20)\n",
    "    plt.xlabel('Time (Hour)', fontsize=20)        \n",
    "    plt.ylim([0, 4])\n",
    "    plt.grid(True)\n",
    "    plt.show()"
   ]
  },
  {
   "cell_type": "code",
   "execution_count": null,
   "metadata": {},
   "outputs": [],
   "source": []
  }
 ],
 "metadata": {
  "kernelspec": {
   "display_name": "Python 3",
   "language": "python",
   "name": "python3"
  },
  "language_info": {
   "codemirror_mode": {
    "name": "ipython",
    "version": 3
   },
   "file_extension": ".py",
   "mimetype": "text/x-python",
   "name": "python",
   "nbconvert_exporter": "python",
   "pygments_lexer": "ipython3",
   "version": "3.6.4"
  }
 },
 "nbformat": 4,
 "nbformat_minor": 2
}
