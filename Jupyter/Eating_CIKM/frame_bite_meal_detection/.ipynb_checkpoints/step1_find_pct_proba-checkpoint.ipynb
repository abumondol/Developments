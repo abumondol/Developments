{
 "cells": [
  {
   "cell_type": "code",
   "execution_count": 1,
   "metadata": {},
   "outputs": [],
   "source": [
    "import numpy as np\n",
    "import scipy as sp\n",
    "import os \n",
    "import sys\n",
    "import importlib"
   ]
  },
  {
   "cell_type": "code",
   "execution_count": 2,
   "metadata": {},
   "outputs": [],
   "source": [
    "util_path = 'C:/ASM/Dropbox/Developments/Jupyter/Eating/myutils' if 'C:' in os.getcwd() else './myutils'\n",
    "sys.path.append(util_path)\n",
    "import my_file_utils as mfileu\n",
    "#importlib.reload(mdu)"
   ]
  },
  {
   "cell_type": "code",
   "execution_count": 3,
   "metadata": {},
   "outputs": [],
   "source": [
    "def get_percentile_proba_other_sess(ipvg_subj, exclude_sess, percentile):\n",
    "    other_p = []\n",
    "    for sess in range(len(ipvg_subj)):\n",
    "        if sess == exclude_sess:\n",
    "            continue\n",
    "        p = ipvg_subj[sess][:, 1]    \n",
    "        other_p = p if len(other_p)==0 else np.concatenate((other_p, p))\n",
    "            \n",
    "    return np.percentile(other_p, percentile)"
   ]
  },
  {
   "cell_type": "code",
   "execution_count": 4,
   "metadata": {},
   "outputs": [],
   "source": [
    "def get_percentile_proba_all(ipvg, lab_free):    \n",
    "    pct_proba=[]\n",
    "    for subj in range(len(ipvg)):\n",
    "        for sess in range(len(ipvg[subj])):\n",
    "            for p in range(9900, 10000, 5):                \n",
    "                percentile = p/100\n",
    "                proba = ipvg[subj][sess][:, 1]\n",
    "                p_off = np.percentile(proba , percentile)\n",
    "                p_on = 0 if lab_free=='lab' else get_percentile_proba_other_sess(ipvg[subj], exclude_sess=sess, percentile=percentile)                     \n",
    "                pct_proba.append([subj, sess, percentile, p_off, p_on])                \n",
    "                \n",
    "    return np.array(pct_proba)"
   ]
  },
  {
   "cell_type": "code",
   "execution_count": 5,
   "metadata": {},
   "outputs": [
    {
     "name": "stdout",
     "output_type": "stream",
     "text": [
      "\n",
      "Processing pct_proba:  lab rf\n",
      "[[ 0.    0.   99.    0.18  0.  ]\n",
      " [ 0.    0.   99.05  0.18  0.  ]\n",
      " [ 0.    0.   99.1   0.19  0.  ]\n",
      " ...\n",
      " [ 6.    1.   99.85  0.41  0.  ]\n",
      " [ 6.    1.   99.9   0.44  0.  ]\n",
      " [ 6.    1.   99.95  0.5   0.  ]]\n",
      "---------- Done------------\n",
      "\n",
      "Processing pct_proba:  lab our\n",
      "[[0.00000000e+00 0.00000000e+00 9.90000000e+01 2.42138454e-02\n",
      "  0.00000000e+00]\n",
      " [0.00000000e+00 0.00000000e+00 9.90500000e+01 3.00944404e-02\n",
      "  0.00000000e+00]\n",
      " [0.00000000e+00 0.00000000e+00 9.91000000e+01 3.82621040e-02\n",
      "  0.00000000e+00]\n",
      " ...\n",
      " [6.00000000e+00 1.00000000e+00 9.98500000e+01 9.99516706e-01\n",
      "  0.00000000e+00]\n",
      " [6.00000000e+00 1.00000000e+00 9.99000000e+01 9.99692319e-01\n",
      "  0.00000000e+00]\n",
      " [6.00000000e+00 1.00000000e+00 9.99500000e+01 9.99887604e-01\n",
      "  0.00000000e+00]]\n",
      "---------- Done------------\n",
      "\n",
      "Processing pct_proba:  free rf\n",
      "[[ 0.    0.   99.    0.16  0.17]\n",
      " [ 0.    0.   99.05  0.16  0.17]\n",
      " [ 0.    0.   99.1   0.17  0.18]\n",
      " ...\n",
      " [10.    1.   99.85  0.2   0.22]\n",
      " [10.    1.   99.9   0.22  0.26]\n",
      " [10.    1.   99.95  0.27  0.34]]\n",
      "---------- Done------------\n",
      "\n",
      "Processing pct_proba:  free our\n",
      "[[0.00000000e+00 0.00000000e+00 9.90000000e+01 8.22839413e-03\n",
      "  6.90835668e-03]\n",
      " [0.00000000e+00 0.00000000e+00 9.90500000e+01 1.11466852e-02\n",
      "  9.77492446e-03]\n",
      " [0.00000000e+00 0.00000000e+00 9.91000000e+01 1.66349522e-02\n",
      "  1.28904532e-02]\n",
      " ...\n",
      " [1.00000000e+01 1.00000000e+00 9.98500000e+01 7.46212450e-01\n",
      "  9.98500199e-01]\n",
      " [1.00000000e+01 1.00000000e+00 9.99000000e+01 9.78746413e-01\n",
      "  9.99455799e-01]\n",
      " [1.00000000e+01 1.00000000e+00 9.99500000e+01 9.97962332e-01\n",
      "  9.99829983e-01]]\n",
      "---------- Done------------\n"
     ]
    }
   ],
   "source": [
    "for lab_free in ['lab', 'free']:       \n",
    "    for clf in ['rf', 'our']:         \n",
    "        print(\"\\nProcessing pct_proba: \", lab_free, clf)                \n",
    "        ipvg = mfileu.read_file('ipvg/ipvg_step4', '{}_ipvg_{}.pkl'.format(lab_free, clf))\n",
    "        pct_proba = get_percentile_proba_all(ipvg, lab_free)\n",
    "        mfileu.write_file('generated_for_result/pct_proba', '{}_pct_proba_{}.pkl'.format(lab_free, clf), pct_proba)\n",
    "        \n",
    "        p = pct_proba\n",
    "        for i in range(p.shape[0]):\n",
    "            print(\"{:.0f}, {:.0f}: {:.2f}, {:.3f}, {:.3f}\".format(p[i, 0], p[i, 1], p[i, 2], p[i, 3], p[i, 4]))\n",
    "        \n",
    "        print(\"---------- Done------------\")"
   ]
  },
  {
   "cell_type": "code",
   "execution_count": null,
   "metadata": {},
   "outputs": [],
   "source": []
  },
  {
   "cell_type": "code",
   "execution_count": null,
   "metadata": {},
   "outputs": [],
   "source": []
  }
 ],
 "metadata": {
  "kernelspec": {
   "display_name": "Python 3",
   "language": "python",
   "name": "python3"
  },
  "language_info": {
   "codemirror_mode": {
    "name": "ipython",
    "version": 3
   },
   "file_extension": ".py",
   "mimetype": "text/x-python",
   "name": "python",
   "nbconvert_exporter": "python",
   "pygments_lexer": "ipython3",
   "version": "3.6.4"
  }
 },
 "nbformat": 4,
 "nbformat_minor": 2
}
