{
 "cells": [
  {
   "cell_type": "code",
   "execution_count": 8,
   "metadata": {},
   "outputs": [],
   "source": [
    "import numpy as np\n",
    "import pickle\n",
    "import os\n",
    "import sys"
   ]
  },
  {
   "cell_type": "code",
   "execution_count": 9,
   "metadata": {},
   "outputs": [],
   "source": [
    "util_path = 'C:/ASM/Dropbox/Developments/Jupyter/Eating_CIKM/my_utils' if 'C:' in os.getcwd() else './my_utils'\n",
    "sys.path.append(util_path)\n",
    "import my_file_utils as mfileu\n",
    "import my_steven_lab_utils as mslabu"
   ]
  },
  {
   "cell_type": "code",
   "execution_count": 10,
   "metadata": {},
   "outputs": [],
   "source": [
    "ds = mfileu.read_file('data', 'lab_data_steven.pkl')\n",
    "fs = mfileu.read_file('features', 'lab_features_steven_right.pkl')"
   ]
  },
  {
   "cell_type": "code",
   "execution_count": 11,
   "metadata": {},
   "outputs": [],
   "source": [
    "def get_mu_sigma(exlude_subj):\n",
    "    d = np.zeros((0, 6))    \n",
    "    for subj in range(len(ds)):\n",
    "        if subj==exlude_subj:\n",
    "            continue        \n",
    "        for sess in range(len(ds[subj])):\n",
    "            dr = ds[subj][sess]['data_right'][:, 1:7]\n",
    "            d = np.concatenate((d, dr))\n",
    "            \n",
    "    mu = np.mean(d, axis=0)\n",
    "    sigma = np.std(d, axis=0)\n",
    "    \n",
    "    return mu, sigma            "
   ]
  },
  {
   "cell_type": "code",
   "execution_count": 12,
   "metadata": {},
   "outputs": [
    {
     "name": "stdout",
     "output_type": "stream",
     "text": [
      "0\n",
      "1\n",
      "2\n",
      "3\n",
      "4\n",
      "5\n",
      "6\n"
     ]
    }
   ],
   "source": [
    "subj_count = len(ds)\n",
    "mu, sigma = np.zeros((subj_count+1, 6)), np.zeros((subj_count+1, 6))\n",
    "\n",
    "for subj in range(subj_count):\n",
    "    print(subj)\n",
    "    m, s = get_mu_sigma(subj)\n",
    "    mu[subj, :] = m\n",
    "    sigma[subj, :] = s\n",
    "    \n",
    "m, s = get_mu_sigma(100)\n",
    "mu[subj_count, :] = m\n",
    "sigma[subj_count, :] = s\n",
    "    "
   ]
  },
  {
   "cell_type": "code",
   "execution_count": 13,
   "metadata": {},
   "outputs": [
    {
     "name": "stdout",
     "output_type": "stream",
     "text": [
      "0 0\n",
      "0 1\n",
      "1 0\n",
      "2 0\n",
      "2 1\n",
      "3 0\n",
      "3 1\n",
      "4 0\n",
      "4 1\n",
      "5 0\n",
      "5 1\n",
      "6 0\n",
      "6 1\n"
     ]
    }
   ],
   "source": [
    "subj_count = len(ds)\n",
    "labels = {}\n",
    "for subj in range(subj_count):    \n",
    "    for sess in range(len(fs[subj])):\n",
    "        print(subj, sess)\n",
    "        a = ds[subj][sess]['annots']        \n",
    "        ix = fs[subj][sess][:, 0]\n",
    "        l = mslabu.get_labels_right_hand(ix, a, win_size=5*16)\n",
    "        l[l==2]=0\n",
    "        assert np.sum(l[l>1])==0\n",
    "        \n",
    "        ix = ix.reshape((-1,1))\n",
    "        l = l.reshape((-1,1))        \n",
    "        labels[(subj, sess)] = np.concatenate((ix, l), axis=1).astype(int) "
   ]
  },
  {
   "cell_type": "code",
   "execution_count": 14,
   "metadata": {},
   "outputs": [],
   "source": [
    "res = {\"mu\":mu, \"sigma\":sigma, \"labels\":labels}\n",
    "mfileu.write_file('features', 'mu_sigma_labels_lab_right.pkl', res)"
   ]
  },
  {
   "cell_type": "code",
   "execution_count": null,
   "metadata": {},
   "outputs": [],
   "source": []
  }
 ],
 "metadata": {
  "kernelspec": {
   "display_name": "Python 3",
   "language": "python",
   "name": "python3"
  },
  "language_info": {
   "codemirror_mode": {
    "name": "ipython",
    "version": 3
   },
   "file_extension": ".py",
   "mimetype": "text/x-python",
   "name": "python",
   "nbconvert_exporter": "python",
   "pygments_lexer": "ipython3",
   "version": "3.6.4"
  }
 },
 "nbformat": 4,
 "nbformat_minor": 2
}
