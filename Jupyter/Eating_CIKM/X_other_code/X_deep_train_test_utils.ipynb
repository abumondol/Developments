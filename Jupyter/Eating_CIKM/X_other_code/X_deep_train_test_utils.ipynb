{
 "cells": [
  {
   "cell_type": "code",
   "execution_count": null,
   "metadata": {},
   "outputs": [],
   "source": [
    "import numpy as np\n",
    "import pickle\n",
    "import os\n",
    "import sys\n",
    "import importlib\n",
    "from sklearn.utils import shuffle\n",
    "from sklearn.model_selection import train_test_split\n",
    "import tensorflow as tf"
   ]
  },
  {
   "cell_type": "code",
   "execution_count": null,
   "metadata": {},
   "outputs": [],
   "source": [
    "util_path = 'C:/ASM/Dropbox/Developments/Jupyter/Eating_CIKM/my_utils' if 'C:' in os.getcwd() else './my_utils'\n",
    "sys.path.append(util_path)\n",
    "import my_data_process_utils as mdpu"
   ]
  },
  {
   "cell_type": "code",
   "execution_count": null,
   "metadata": {},
   "outputs": [],
   "source": [
    "def get_window_data_normalized(ds, indices, win_size, mu, sigma):\n",
    "    count = len(indices)\n",
    "    w = np.zeros((count, win_size, 6))        \n",
    "    \n",
    "    for i in range(count):\n",
    "        subj, sess, ix = indices[i, 0], indices[i, 1], indices[i, 2]\n",
    "        accel_gyro = ds[subj][sess][ix:ix+win_size, 1:7]\n",
    "        accel_gyro = (accel_gyro - mu) / sigma        \n",
    "        w[i, :, :] = accel_gyro\n",
    "    \n",
    "    return w"
   ]
  },
  {
   "cell_type": "code",
   "execution_count": null,
   "metadata": {},
   "outputs": [],
   "source": [
    "def get_window_data(ds, indices, win_size):\n",
    "    count = len(indices)\n",
    "    w = np.zeros((count, win_size, 6))        \n",
    "    \n",
    "    for i in range(count):\n",
    "        subj, sess, ix = indices[i, 0], indices[i, 1], indices[i, 2]\n",
    "        accel_gyro = ds[subj][sess][ix:ix+win_size, 1:7]        \n",
    "        w[i, :, :] = accel_gyro\n",
    "    \n",
    "    return w"
   ]
  },
  {
   "cell_type": "code",
   "execution_count": null,
   "metadata": {},
   "outputs": [],
   "source": [
    "def get_all_indices_labels_exclude_subject(ds, indices_labels, exclude_subj=-1):\n",
    "    res = np.zeros((0, 4))\n",
    "    for subj in range(len(ds)):\n",
    "        if subj==exclude_subj:\n",
    "            continue\n",
    "        for sess in range(len(ds[subj])):            \n",
    "            ixl = indices_labels[(subj,sess)]    \n",
    "            ixl = mdpu.add_subj_sess_to_array(ixl, subj, sess, at_begin=True)\n",
    "            res = np.concatenate((res, ixl))\n",
    "\n",
    "    res = res.astype(int)\n",
    "    assert np.sum(res[:, -1]>1) == 0\n",
    "    assert np.sum(res[:, -1]<0) == 0    \n",
    "    return res"
   ]
  },
  {
   "cell_type": "code",
   "execution_count": null,
   "metadata": {},
   "outputs": [],
   "source": [
    "def get_session_indices_with_subj_sess(fs, subj, sess):    \n",
    "    ix = fs[subj][sess][:, 0]\n",
    "    \n",
    "    count = len(ix)\n",
    "    res = np.zeros((count, 3))\n",
    "    res[:, 0] = subj\n",
    "    res[:, 1] = sess\n",
    "    res[:, 2] = ix\n",
    "    \n",
    "    return res"
   ]
  }
 ],
 "metadata": {
  "kernelspec": {
   "display_name": "Python 3",
   "language": "python",
   "name": "python3"
  },
  "language_info": {
   "codemirror_mode": {
    "name": "ipython",
    "version": 3
   },
   "file_extension": ".py",
   "mimetype": "text/x-python",
   "name": "python",
   "nbconvert_exporter": "python",
   "pygments_lexer": "ipython3",
   "version": "3.6.4"
  }
 },
 "nbformat": 4,
 "nbformat_minor": 2
}
