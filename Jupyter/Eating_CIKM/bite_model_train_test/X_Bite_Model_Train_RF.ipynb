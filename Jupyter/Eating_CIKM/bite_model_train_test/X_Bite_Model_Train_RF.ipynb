{
 "cells": [
  {
   "cell_type": "code",
   "execution_count": null,
   "metadata": {},
   "outputs": [],
   "source": [
    "import numpy as np\n",
    "import scipy as sp\n",
    "import os \n",
    "import sys\n",
    "from sklearn.ensemble import RandomForestClassifier\n",
    "from sklearn.svm import SVC\n",
    "from sklearn import metrics\n",
    "import importlib"
   ]
  },
  {
   "cell_type": "code",
   "execution_count": null,
   "metadata": {},
   "outputs": [],
   "source": [
    "util_path = 'C:/ASM/Dropbox/Developments/Jupyter/Eating/myutils' if 'C:' in os.getcwd() else './myutils'\n",
    "sys.path.append(util_path)\n",
    "import my_file_utils as mfileu\n",
    "import my_classification_utils as mcu\n",
    "#importlib.reload(mdu)"
   ]
  },
  {
   "cell_type": "code",
   "execution_count": null,
   "metadata": {},
   "outputs": [],
   "source": [
    "features = mfileu.read_file('features', 'lab_features_combo_right.pkl')\n",
    "labels = mfileu.read_file('ssilv', 'lab_ssilv_array_combo.pkl')"
   ]
  },
  {
   "cell_type": "code",
   "execution_count": null,
   "metadata": {},
   "outputs": [],
   "source": [
    "def get_lopo_train_features_labels(features, exclude_subj):    \n",
    "    train_x, train_y = [], []\n",
    "    for subj in range(len(features)):        \n",
    "        if subj==exclude_subj:\n",
    "            continue\n",
    "        for sess in range(len(features[subj])):             \n",
    "            f = features[subj][sess][:, 1:]\n",
    "            #a = data[subj][sess][\"annots\"]            \n",
    "            #l = mslabu.get_labels_right_hand(features[subj][sess][:, 0], a, 5*16)\n",
    "            l = labels[(subj,sess)][:, 1]\n",
    "            \n",
    "            assert len(f)==len(l)\n",
    "            assert np.sum(features[subj][sess][:, 0] - labels[(subj,sess)][:, 0]) ==0\n",
    "            \n",
    "            train_x, train_y = (f, l) if len(train_x)==0 else ( np.concatenate((train_x, f)), np.concatenate((train_y, l)) )\n",
    "    \n",
    "    return train_x, train_y\n",
    "    "
   ]
  },
  {
   "cell_type": "code",
   "execution_count": null,
   "metadata": {},
   "outputs": [],
   "source": [
    "#for subj in [0, 1, 2, 3, 4, 5, 6, 100]:\n",
    "subj = int(sys.argv[1])\n",
    "print(\"Train Subject: \", subj)\n",
    "\n",
    "train_x, train_y = get_lopo_train_features_labels(features=features, exclude_subj=subj)\n",
    "print(\"Subj:\", subj, \", shapes:\", train_x.shape, train_y.shape, \"Neg, Bite, sip, other:\", np.sum(train_y==0), np.sum(train_y==1), np.sum(train_y==2), np.sum(train_y==3))\n",
    "train_y[train_y==2] = 0\n",
    "print(\"Subj:\", subj, \", shapes:\", train_x.shape, train_y.shape, \"Neg, Bite, sip, other:\", np.sum(train_y==0), np.sum(train_y==1), np.sum(train_y==2), np.sum(train_y==3))\n",
    "\n",
    "#clf = RandomForestClassifier(n_estimators =100, random_state=0, n_jobs=-1, verbose=1)    \n",
    "clf = SVC(verbose=True)    \n",
    "\n",
    "clf.fit(train_x, train_y)    \n",
    "print(\"Training done!\")\n",
    "\n",
    "mfileu.write_file('bite_models_SVM', 'lab_'+str(subj)+'.pkl', clf)\n",
    "print(\"Model saved\")\n"
   ]
  },
  {
   "cell_type": "code",
   "execution_count": null,
   "metadata": {},
   "outputs": [],
   "source": []
  },
  {
   "cell_type": "code",
   "execution_count": null,
   "metadata": {},
   "outputs": [],
   "source": []
  }
 ],
 "metadata": {
  "kernelspec": {
   "display_name": "Python 3",
   "language": "python",
   "name": "python3"
  },
  "language_info": {
   "codemirror_mode": {
    "name": "ipython",
    "version": 3
   },
   "file_extension": ".py",
   "mimetype": "text/x-python",
   "name": "python",
   "nbconvert_exporter": "python",
   "pygments_lexer": "ipython3",
   "version": "3.6.4"
  }
 },
 "nbformat": 4,
 "nbformat_minor": 2
}
