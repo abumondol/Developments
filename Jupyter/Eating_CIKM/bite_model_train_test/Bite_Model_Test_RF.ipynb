{
 "cells": [
  {
   "cell_type": "code",
   "execution_count": null,
   "metadata": {},
   "outputs": [],
   "source": [
    "import numpy as np\n",
    "import scipy as sp\n",
    "import os \n",
    "import sys\n",
    "import importlib\n",
    "from sklearn.ensemble import RandomForestClassifier"
   ]
  },
  {
   "cell_type": "code",
   "execution_count": null,
   "metadata": {},
   "outputs": [],
   "source": [
    "util_path = 'C:/ASM/Dropbox/Developments/Jupyter/Eating/myutils' if 'C:' in os.getcwd() else './myutils'\n",
    "sys.path.append(util_path)\n",
    "import my_file_utils as mfileu\n",
    "import my_steven_free_utils as msfreeu\n",
    "import my_classification_utils as mcu\n",
    "#importlib.reload(mdu)"
   ]
  },
  {
   "cell_type": "code",
   "execution_count": null,
   "metadata": {},
   "outputs": [],
   "source": [
    "model, lab_free = sys.argv[1], sys.argv[2]\n",
    "print(\"Model, lab_free: \", model, lab_free)"
   ]
  },
  {
   "cell_type": "code",
   "execution_count": null,
   "metadata": {},
   "outputs": [],
   "source": [
    "########## Test Free Data for bite\n",
    "if lab_free=='free':\n",
    "    fs = mfileu.read_file('features', 'free_features_steven_right.pkl')\n",
    "    ssilv = mfileu.read_file('ssilv', 'free_ssilv_steven_right.pkl')\n",
    "    ba = mfileu.read_file('data', 'free_data_steven_blank_array.pkl')\n",
    "    \n",
    "\n",
    "    for subj in range(len(ssilv)):\n",
    "        for sess in range(len(ssilv[subj])):\n",
    "            print(\"\\nTesting free subject, sess: \", subj, sess)\n",
    "\n",
    "            if subj<5:\n",
    "                clf = mfileu.read_file('bite_models/'+model, 'lab_'+str(subj+2)+'.pkl')\n",
    "            else:\n",
    "                clf = mfileu.read_file('bite_models/'+model, 'lab_100.pkl')            \n",
    "\n",
    "            proba = clf.predict_proba(fs[subj][sess][:, 1:])\n",
    "            proba = np.array(proba)\n",
    "            proba = proba[:, 1]\n",
    "            \n",
    "            gt = ssilv[subj][sess][:, 3]\n",
    "            ssilv[subj][sess][:, 3] = proba                    \n",
    "            ba[subj][sess] = ssilv[subj][sess][:, 2:]            \n",
    "            print(\"Proba shape, pos, gtpos:\", proba.shape, np.sum(proba>=0.5), np.sum(gt==1))\n",
    "\n",
    "    mfileu.write_file('all_proba', 'all_proba_bite_free_{}.pkl'.format(model), ba)"
   ]
  },
  {
   "cell_type": "code",
   "execution_count": null,
   "metadata": {},
   "outputs": [],
   "source": [
    "########Test Lab data for bite##########################\n",
    "if lab_free=='lab':\n",
    "    fs = mfileu.read_file('features', 'lab_features_steven_right.pkl')    \n",
    "    ssilv = mfileu.read_file('ssilv', 'lab_ssilv_steven_right.pkl')\n",
    "    ba = mfileu.read_file('data', 'lab_data_steven_blank_array.pkl')\n",
    "\n",
    "    for subj in range(len(ssilv)):\n",
    "        for sess in range(len(ssilv[subj])):\n",
    "            print(\"\\nTesting lab subject, sess: \", subj, sess)\n",
    "\n",
    "            clf = mfileu.read_file('bite_models/'+model, 'lab_'+str(subj)+'.pkl')\n",
    "            proba = clf.predict_proba(fs[subj][sess][:, 1:])\n",
    "            proba = np.array(proba)\n",
    "            proba = proba[:, 1]\n",
    "            \n",
    "            gt = np.copy(ssilv[subj][sess][:, 3])\n",
    "            ssilv[subj][sess][:, 3] = proba                    \n",
    "            ba[subj][sess] = ssilv[subj][sess][:, 2:]\n",
    "            print(\"Proba shape, pos, gtpos:\", proba.shape, np.sum(proba>=0.5), np.sum(gt==1)/40)\n",
    "\n",
    "    mfileu.write_file('all_proba', 'all_proba_bite_lab_{}.pkl'.format(model), ba)        "
   ]
  }
 ],
 "metadata": {
  "kernelspec": {
   "display_name": "Python 3",
   "language": "python",
   "name": "python3"
  },
  "language_info": {
   "codemirror_mode": {
    "name": "ipython",
    "version": 3
   },
   "file_extension": ".py",
   "mimetype": "text/x-python",
   "name": "python",
   "nbconvert_exporter": "python",
   "pygments_lexer": "ipython3",
   "version": "3.6.4"
  }
 },
 "nbformat": 4,
 "nbformat_minor": 2
}
