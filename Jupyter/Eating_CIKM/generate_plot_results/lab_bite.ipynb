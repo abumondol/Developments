{
 "cells": [
  {
   "cell_type": "code",
   "execution_count": 1,
   "metadata": {},
   "outputs": [],
   "source": [
    "import numpy as np\n",
    "import scipy as sp\n",
    "import os \n",
    "import sys\n",
    "import importlib\n",
    "import copy\n",
    "import matplotlib.pyplot as plt\n",
    "%matplotlib inline"
   ]
  },
  {
   "cell_type": "code",
   "execution_count": 2,
   "metadata": {},
   "outputs": [],
   "source": [
    "util_path = 'C:/ASM/Dropbox/Developments/Jupyter/Eating/myutils' if 'C:' in os.getcwd() else './myutils'\n",
    "sys.path.append(util_path)\n",
    "import my_file_utils as mfileu\n",
    "import my_data_process_utils as mdpu\n",
    "import my_classification_utils as mcu\n",
    "#importlib.reload()"
   ]
  },
  {
   "cell_type": "code",
   "execution_count": 3,
   "metadata": {},
   "outputs": [],
   "source": [
    "data = mfileu.read_file('data', 'lab_data_steven_right.pkl')\n",
    "annots = mfileu.read_file('data', 'lab_annots_steven_right.pkl')\n",
    "ssilvg = mfileu.read_file('ssilvg/ssilvg_step4', 'lab_ssilvg_steven_right.pkl')\n",
    "ipvg_rf = mfileu.read_file('ipvg/ipvg_step4', 'lab_ipvg_rf.pkl')\n",
    "ipvg_our = mfileu.read_file('ipvg/ipvg_step4', 'lab_ipvg_our.pkl')\n",
    "\n",
    "bites_proba_rf = mfileu.read_file('generated_for_result/bites', 'lab_bites_proba_rf.pkl')\n",
    "bites_proba_our = mfileu.read_file('generated_for_result/bites', 'lab_bites_proba_our.pkl')\n",
    "bites_pct_offline_rf = mfileu.read_file('generated_for_result/bites', 'lab_bites_pct_offline_rf.pkl')\n",
    "bites_pct_offline_our = mfileu.read_file('generated_for_result/bites', 'lab_bites_pct_offline_our.pkl')"
   ]
  },
  {
   "cell_type": "code",
   "execution_count": 4,
   "metadata": {},
   "outputs": [
    {
     "name": "stdout",
     "output_type": "stream",
     "text": [
      "Lab episode count:  32\n"
     ]
    }
   ],
   "source": [
    "episodes = mfileu.read_file('data', 'lab_episodes_steven_right.pkl')\n",
    "print(\"Lab episode count: \", len(episodes))"
   ]
  },
  {
   "cell_type": "code",
   "execution_count": 5,
   "metadata": {},
   "outputs": [],
   "source": [
    "############# Sessionwise Bite/hour ###############"
   ]
  },
  {
   "cell_type": "code",
   "execution_count": 6,
   "metadata": {},
   "outputs": [
    {
     "name": "stdout",
     "output_type": "stream",
     "text": [
      "Total :  1578 1332 246\n"
     ]
    },
    {
     "data": {
      "image/png": "[encoded data removed]",
      "text/plain": [
       "<matplotlib.figure.Figure at 0x2580458f780>"
      ]
     },
     "metadata": {},
     "output_type": "display_data"
    }
   ],
   "source": [
    "res = []\n",
    "i, annot_count, bite_count, sip_count = 0, 0, 0, 0\n",
    "\n",
    "for subj in range(len(annots)):\n",
    "    for sess in range(len(annots[subj])):\n",
    "        dcount = len(data[subj][sess])\n",
    "        a = annots[subj][sess]\n",
    "        b = a[a[:, 2]==1, :]\n",
    "        s = a[a[:, 2]==2, :]\n",
    "        #print(subj, sess, dcount, len(a), len(b), len(s))\n",
    "        annot_count += len(a)\n",
    "        bite_count += len(b)\n",
    "        sip_count += len(s)\n",
    "        \n",
    "        res.append([i+1, dcount/16/3600, len(b)])\n",
    "        i+=1\n",
    "print(\"Total : \", annot_count, bite_count, sip_count)\n",
    "#print(res)\n",
    "###############################\n",
    "fig = plt.figure(figsize=(8,5))\n",
    "ax = plt.subplot(111)  \n",
    "\n",
    "res = np.array(res)\n",
    "x = res[:, 0]\n",
    "y = res[:, 2]/res[:, 1]\n",
    "#print(x)\n",
    "#print(y)\n",
    "ax.scatter(x, y)\n",
    "\n",
    "plt.xlabel(\"Session\", fontsize=14)        \n",
    "plt.ylabel(\"Average Bites/Hour\", fontsize=14)            \n",
    "plt.xlim([0, 14])\n",
    "plt.ylim([0, 52])\n",
    "plt.grid(True)\n",
    "plt.show()  "
   ]
  },
  {
   "cell_type": "code",
   "execution_count": 35,
   "metadata": {},
   "outputs": [],
   "source": [
    "######### IEBR, OEBR (Proba) ##############"
   ]
  },
  {
   "cell_type": "code",
   "execution_count": 7,
   "metadata": {},
   "outputs": [],
   "source": [
    "def get_results(bites, proba_pct):    \n",
    "    pos, neg = 0, 0    \n",
    "    for subj in range(len(annots)):\n",
    "        for sess in range(len(annots[subj])):\n",
    "            cond = (episodes[:,0]==subj) & (episodes[:,1]==sess)\n",
    "            a = episodes[cond, 2:]\n",
    "            \n",
    "            b = bites[(subj, sess, proba_pct)]            \n",
    "            flags = np.zeros((len(b, )))\n",
    "            for i in range(len(a)):\n",
    "                cond = (b>=a[i, 0] ) & (b<=a[i, 1])\n",
    "                flags[cond] = 1\n",
    "                \n",
    "            p = np.sum(flags)\n",
    "            pos += p\n",
    "            neg += len(flags) - p\n",
    "            \n",
    "    return pos, neg"
   ]
  },
  {
   "cell_type": "code",
   "execution_count": 13,
   "metadata": {},
   "outputs": [],
   "source": [
    "def plot_iebr_oebr(res_rf, res_our, xlabel):\n",
    "    fig = plt.figure(figsize=(8,5))\n",
    "    ax = plt.subplot(111)  \n",
    "\n",
    "    r = res_rf\n",
    "    #ax.plot(r[:,0], 100*r[:,1]/bite_count, label='IEBR (RF)', color='green', linestyle='--')\n",
    "    #ax.plot(r[:,0], 100*r[:,2]/bite_count, label='OEBR (RF)', color='red', linestyle='--')\n",
    "    #ax.plot(r[:,0], 100*r[:,3]/bite_count, label='FNR (RF)', color='black', linestyle='--')\n",
    "\n",
    "    r = res_our\n",
    "    ax.plot(r[:,0], 100*r[:,1]/bite_count, label='IEBR (ConvBLSTM)', color='green')\n",
    "    ax.plot(r[:,0], 100*r[:,2]/bite_count, label='OEBR (ConvBLSTM)', color='red')\n",
    "    #ax.plot(r[:,0], 100*r[:,3]/bite_count, label='FNR (ConvBLSTM)', color='black')\n",
    "\n",
    "    ax.legend(loc='upper center', bbox_to_anchor=(0.5, 1.15),\n",
    "              ncol=2, fancybox=True, shadow=True, fontsize=14)\n",
    "\n",
    "    plt.xlabel(xlabel, fontsize=14)        \n",
    "    plt.ylabel(\"Rate (%)\", fontsize=14)            \n",
    "    #plt.legend()\n",
    "    plt.grid(True)\n",
    "    plt.show() "
   ]
  },
  {
   "cell_type": "code",
   "execution_count": 14,
   "metadata": {},
   "outputs": [
    {
     "data": {
      "image/png": "[encoded data removed]",
      "text/plain": [
       "<matplotlib.figure.Figure at 0x2580487a438>"
      ]
     },
     "metadata": {},
     "output_type": "display_data"
    },
    {
     "data": {
      "text/plain": [
       "'\\nres_rf, res_our  = [], []\\nfor p in range(9900, 10000, 2):\\n    percentile = p/100    \\n    pos, neg = get_results(all_bites_lab[\"RF\"][\"percentile_offline\"][percentile])\\n    res_rf.append([percentile, pos, neg])    \\n    \\n    pos, neg = get_results(all_bites_lab[\"our\"][\"percentile_offline\"][percentile])\\n    res_our.append([percentile, pos, neg])\\n    \\nres_rf, res_our = np.array(res_rf), np.array(res_our)\\nplot_iebr_oebr(res_rf, res_our, \"Percentile\")\\n'"
      ]
     },
     "execution_count": 14,
     "metadata": {},
     "output_type": "execute_result"
    }
   ],
   "source": [
    "res_rf, res_our  = [], []\n",
    "for p in range(10, 95, 5):\n",
    "    proba_th = p/100    \n",
    "    pos, neg = get_results(bites_proba_rf, proba_th)\n",
    "    res_rf.append([proba_th, pos, neg])    \n",
    "    \n",
    "    pos, neg = get_results(bites_proba_our, proba_th)\n",
    "    res_our.append([proba_th, pos, neg])\n",
    "    \n",
    "res_rf, res_our = np.array(res_rf), np.array(res_our)\n",
    "#print(res_rf)\n",
    "#print(res_our)\n",
    "plot_iebr_oebr(res_rf, res_our, \"Probability Threshold\")\n",
    "\n",
    "'''\n",
    "res_rf, res_our  = [], []\n",
    "for p in range(9900, 10000, 2):\n",
    "    percentile = p/100    \n",
    "    pos, neg = get_results(all_bites_lab[\"RF\"][\"percentile_offline\"][percentile])\n",
    "    res_rf.append([percentile, pos, neg])    \n",
    "    \n",
    "    pos, neg = get_results(all_bites_lab[\"our\"][\"percentile_offline\"][percentile])\n",
    "    res_our.append([percentile, pos, neg])\n",
    "    \n",
    "res_rf, res_our = np.array(res_rf), np.array(res_our)\n",
    "plot_iebr_oebr(res_rf, res_our, \"Percentile\")\n",
    "'''\n"
   ]
  },
  {
   "cell_type": "code",
   "execution_count": null,
   "metadata": {},
   "outputs": [],
   "source": [
    "#################################################################"
   ]
  },
  {
   "cell_type": "code",
   "execution_count": null,
   "metadata": {},
   "outputs": [],
   "source": [
    "########## precision, recall, F1-score of bites (Proba) ###########"
   ]
  },
  {
   "cell_type": "code",
   "execution_count": null,
   "metadata": {},
   "outputs": [],
   "source": [
    "prf = all_bf_proba_rf\n",
    "pour = all_bf_proba_our\n",
    "\n",
    "res_rf = []\n",
    "res_our = []\n",
    "for p in range(1, 10):\n",
    "    proba = p/10    \n",
    "    tp = prf[proba][\"bite\"][\"tp\"]\n",
    "    fp = prf[proba][\"bite\"][\"fp\"]\n",
    "    fn = prf[proba][\"bite\"][\"fn\"]\n",
    "    pr, rc, f1 = mcu.pr_rc_f1(tp, fp, fn)    \n",
    "    res_rf.append([proba, tp, fp, fn, pr, rc, f1])\n",
    "    \n",
    "    tp = pour[proba][\"bite\"][\"tp\"]\n",
    "    fp = pour[proba][\"bite\"][\"fp\"]\n",
    "    fn = pour[proba][\"bite\"][\"fn\"]\n",
    "    pr, rc, f1 = mcu.pr_rc_f1(tp, fp, fn)    \n",
    "    res_our.append([proba, tp, fp, fn, pr, rc, f1])\n",
    "\n",
    "res_rf, res_our = np.array(res_rf), np.array(res_our)\n",
    "r = res_rf\n",
    "for i in range(len(r)):\n",
    "    x= r[i, :]\n",
    "    print(\"{:.1f} : {:4d}, {:4d}, {:4d} : {:.4f}, {:.4f}, {:.4f}\".format(x[0], int(x[1]), int(x[2]), int(x[3]), x[4], x[5], x[6]))\n",
    "\n",
    "r = res_our\n",
    "for i in range(len(r)):\n",
    "    x= r[i, :]\n",
    "    print(\"{:.1f} : {:4d}, {:4d}, {:4d} : {:.4f}, {:.4f}, {:.4f}\".format(x[0], int(x[1]), int(x[2]), int(x[3]), x[4], x[5], x[6]))"
   ]
  },
  {
   "cell_type": "code",
   "execution_count": null,
   "metadata": {},
   "outputs": [],
   "source": [
    "fig = plt.figure(figsize=(8,5))\n",
    "ax = plt.subplot(111)  \n",
    "\n",
    "r = res_rf\n",
    "ax.plot(r[:,0], 100*r[:,1]/bite_count, label='TPR (RF)', color='green', linestyle='--')\n",
    "ax.plot(r[:,0], 100*r[:,2]/bite_count, label='FPR (RF)', color='red', linestyle='--')\n",
    "ax.plot(r[:,0], 100*r[:,3]/bite_count, label='FNR (RF)', color='black', linestyle='--')\n",
    "\n",
    "r = res_our\n",
    "ax.plot(r[:,0], 100*r[:,1]/bite_count, label='TPR (ConvBLSTM)', color='green')\n",
    "ax.plot(r[:,0], 100*r[:,2]/bite_count, label='FPR (ConvBLSTM)', color='red')\n",
    "ax.plot(r[:,0], 100*r[:,3]/bite_count, label='FNR (ConvBLSTM)', color='black')\n",
    "\n",
    "ax.legend(loc='upper center', bbox_to_anchor=(0.5, 1.15),\n",
    "          ncol=2, fancybox=True, shadow=True, fontsize=14)\n",
    "\n",
    "plt.xlabel(\"Probablity Threshold\", fontsize=14)        \n",
    "plt.ylabel(\"Rate (%)\", fontsize=14)            \n",
    "#plt.legend()\n",
    "plt.grid(True)\n",
    "plt.show()  \n"
   ]
  },
  {
   "cell_type": "code",
   "execution_count": null,
   "metadata": {},
   "outputs": [],
   "source": [
    "res_rf, res_our = np.array(res_rf), np.array(res_our)\n",
    "\n",
    "fig = plt.figure(figsize=(8,5))\n",
    "ax = plt.subplot(111)  \n",
    "\n",
    "r = res_rf\n",
    "ax.plot(r[:,0], r[:,4], label='Precision (RF)', color='green', linestyle='--')\n",
    "ax.plot(r[:,0], r[:,5], label='Recall (RF)', color='red', linestyle='--')\n",
    "ax.plot(r[:,0], r[:,6], label='F1-Score (RF)', color='black', linestyle='--')\n",
    "\n",
    "r = res_our\n",
    "ax.plot(r[:,0], r[:,4], label='Precision (ConvBLSTM)', color='green')\n",
    "ax.plot(r[:,0], r[:,5], label='Recall (ConvBLSTM)', color='red')\n",
    "ax.plot(r[:,0], r[:,6], label='F1-Score (ConvBLSTM)', color='black')\n",
    "\n",
    "ax.legend(loc='upper center', bbox_to_anchor=(0.5, 1.25),\n",
    "          ncol=2, fancybox=True, shadow=True, fontsize=14)\n",
    "\n",
    "plt.xlabel(\"Probablity Threshold\", fontsize=14)        \n",
    "plt.ylabel(\"Rate (%)\", fontsize=14)            \n",
    "#plt.legend()\n",
    "plt.grid(True)\n",
    "plt.show()  \n"
   ]
  },
  {
   "cell_type": "code",
   "execution_count": null,
   "metadata": {},
   "outputs": [],
   "source": [
    "#################################################################\n",
    "################## precision, recall, F1-score of bites (Percentile)"
   ]
  },
  {
   "cell_type": "code",
   "execution_count": null,
   "metadata": {},
   "outputs": [],
   "source": [
    "prf = all_bf_percentile_rf\n",
    "pour = all_bf_percentile_our\n",
    "\n",
    "res_rf, res_our = [], []\n",
    "for p in range(9800, 10000, 5):\n",
    "    percentile = p/100    \n",
    "    tp = prf[percentile][\"bite_offline\"][\"tp\"]\n",
    "    fp = prf[percentile][\"bite_offline\"][\"fp\"]\n",
    "    fn = prf[percentile][\"bite_offline\"][\"fn\"]\n",
    "    pr, rc, f1 = mcu.pr_rc_f1(tp, fp, fn)    \n",
    "    res_rf.append([percentile, tp, fp, fn, pr, rc, f1])\n",
    "    \n",
    "    tp = pour[percentile][\"bite_offline\"][\"tp\"]\n",
    "    fp = pour[percentile][\"bite_offline\"][\"fp\"]\n",
    "    fn = pour[percentile][\"bite_offline\"][\"fn\"]\n",
    "    pr, rc, f1 = mcu.pr_rc_f1(tp, fp, fn)    \n",
    "    res_our.append([percentile, tp, fp, fn, pr, rc, f1])\n",
    "\n",
    "res_rf, res_our = np.array(res_rf), np.array(res_our)\n",
    "\n",
    "'''\n",
    "r = res_rf\n",
    "for i in range(len(r)):\n",
    "    x= r[i, :]\n",
    "    print(\"{:.2f} : {:4d}, {:4d}, {:4d} : {:.4f}, {:.4f}, {:.4f}\".format(x[0], int(x[1]), int(x[2]), int(x[3]), x[4], x[5], x[6]))\n",
    "\n",
    "r = res_our\n",
    "for i in range(len(r)):\n",
    "    x= r[i, :]\n",
    "    print(\"{:.2f} : {:4d}, {:4d}, {:4d} : {:.4f}, {:.4f}, {:.4f}\".format(x[0], int(x[1]), int(x[2]), int(x[3]), x[4], x[5], x[6]))\n",
    "'''"
   ]
  },
  {
   "cell_type": "code",
   "execution_count": null,
   "metadata": {},
   "outputs": [],
   "source": [
    "fig = plt.figure(figsize=(8,5))\n",
    "ax = plt.subplot(111)  \n",
    "\n",
    "r = res_rf\n",
    "ax.plot(r[:,0], 100*r[:,1]/bite_count, label='TPR (RF)', color='green', linestyle='--')\n",
    "ax.plot(r[:,0], 100*r[:,2]/bite_count, label='FPR (RF)', color='red', linestyle='--')\n",
    "ax.plot(r[:,0], 100*r[:,3]/bite_count, label='FNR (RF)', color='black', linestyle='--')\n",
    "\n",
    "r = res_our\n",
    "ax.plot(r[:,0], 100*r[:,1]/bite_count, label='TPR (ConvBLSTM)', color='green')\n",
    "ax.plot(r[:,0], 100*r[:,2]/bite_count, label='FPR (ConvBLSTM)', color='red')\n",
    "ax.plot(r[:,0], 100*r[:,3]/bite_count, label='FNR (ConvBLSTM)', color='black')\n",
    "\n",
    "ax.legend(loc='upper center', bbox_to_anchor=(0.5, 1.15),\n",
    "          ncol=2, fancybox=True, shadow=True, fontsize=14)\n",
    "\n",
    "plt.xlabel(\"Percentile\", fontsize=14)        \n",
    "plt.ylabel(\"Rate (%)\", fontsize=14)            \n",
    "#plt.legend()\n",
    "plt.grid(True)\n",
    "plt.show()  \n"
   ]
  },
  {
   "cell_type": "code",
   "execution_count": null,
   "metadata": {},
   "outputs": [],
   "source": [
    "res_rf, res_our = np.array(res_rf), np.array(res_our)\n",
    "\n",
    "fig = plt.figure(figsize=(8,5))\n",
    "ax = plt.subplot(111)  \n",
    "\n",
    "r = res_rf\n",
    "ax.plot(r[:,0], r[:,4], label='Precision (RF)', color='green', linestyle='--')\n",
    "ax.plot(r[:,0], r[:,5], label='Recall (RF)', color='red', linestyle='--')\n",
    "ax.plot(r[:,0], r[:,6], label='F1-Score (RF)', color='black', linestyle='--')\n",
    "\n",
    "r = res_our\n",
    "ax.plot(r[:,0], r[:,4], label='Precision (ConvBLSTM)', color='green')\n",
    "ax.plot(r[:,0], r[:,5], label='Recall (ConvBLSTM)', color='red')\n",
    "ax.plot(r[:,0], r[:,6], label='F1-Score (ConvBLSTM)', color='black')\n",
    "\n",
    "ax.legend(loc='upper center', bbox_to_anchor=(0.5, 1.25),\n",
    "          ncol=2, fancybox=True, shadow=True, fontsize=14)\n",
    "\n",
    "plt.xlabel(\"Percentile\", fontsize=14)        \n",
    "#plt.ylabel(\"Rate (%)\", fontsize=14)            \n",
    "#plt.legend()\n",
    "plt.grid(True)\n",
    "plt.show()  \n"
   ]
  },
  {
   "cell_type": "code",
   "execution_count": null,
   "metadata": {},
   "outputs": [],
   "source": [
    "#############################################################\n",
    "################### Check bites in and out of episodes"
   ]
  },
  {
   "cell_type": "code",
   "execution_count": null,
   "metadata": {},
   "outputs": [],
   "source": [
    "def get_episodes(a):\n",
    "    a = a[a[:, 2]==1, 0]    \n",
    "    clusters = []\n",
    "    si = 0\n",
    "    for i in range(1, len(a)):\n",
    "        if a[i]-a[i-1]>5*16*60:\n",
    "            clusters.append([a[si], a[i-1], i-si])\n",
    "            si = i\n",
    "        \n",
    "    clusters.append([a[si], a[i-1], i-si])\n",
    "    return np.array(clusters).astype(float)"
   ]
  },
  {
   "cell_type": "code",
   "execution_count": null,
   "metadata": {},
   "outputs": [],
   "source": [
    "b1 = all_bf_proba_rf[0.2][\"bite\"][\"list\"]\n",
    "b2 = all_bf_proba_our[0.5][\"bite\"][\"list\"]\n",
    "\n",
    "b11 = all_bf_percentile_rf[99.5][\"bite_offline\"][\"list\"]\n",
    "b12 = all_bf_percentile_our[99.5][\"bite_offline\"][\"list\"]\n"
   ]
  },
  {
   "cell_type": "code",
   "execution_count": null,
   "metadata": {},
   "outputs": [],
   "source": [
    "print(len(b11[-1][-1]), len(b12[-1][-1]))"
   ]
  },
  {
   "cell_type": "code",
   "execution_count": null,
   "metadata": {
    "scrolled": false
   },
   "outputs": [],
   "source": [
    "episodes = np.zeros((0, 5))\n",
    "for subj in range(len(annots)):\n",
    "    for sess in range(len(annots[subj])):\n",
    "        a = annots[subj][sess]      \n",
    "        t = a[:,0]/(16*60)\n",
    "        b= a[:,2]\n",
    "        \n",
    "        c = get_episodes(a)\n",
    "        ssc = mdpu.add_subj_sess_to_array(c, subj, sess)\n",
    "        episodes = np.concatenate((episodes, ssc))\n",
    "        c[:,0:2] = c[:,0:2]/16/60\n",
    "        print(\"Episode count: \", len(c))\n",
    "        print(c)\n",
    "        \n",
    "        \n",
    "        fig = plt.figure(figsize=(18,6))\n",
    "        ax = plt.subplot(111)  \n",
    "\n",
    "        ax.scatter(t, b, marker='x')\n",
    "        \n",
    "        ax.scatter(b1[subj][sess]/16/60, np.zeros((len(b1[subj][sess], )))+1.1, marker='x' )\n",
    "        ax.scatter(b2[subj][sess]/16/60, np.zeros((len(b2[subj][sess], )))+1.2, marker='x' )\n",
    "        ax.scatter(b11[subj][sess]/16/60, np.zeros((len(b11[subj][sess], )))+1.3, marker='x' )\n",
    "        ax.scatter(b12[subj][sess]/16/60, np.zeros((len(b12[subj][sess], )))+1.4, marker='x' )\n",
    "        \n",
    "        for i in range(len(c)):            \n",
    "            ax.plot([c[i, 0], c[i, 1]] , [1.9, 1.9] , linewidth=5, color='blue')\n",
    "            \n",
    "        \n",
    "        plt.title(\"Subj, sess: {}, {}  Bite, Sip:{}, {}\".format(subj, sess, np.sum(b==1), np.sum(b==2)), fontsize=16)\n",
    "        plt.xlabel(\"Time \", fontsize=16)        \n",
    "        #plt.ylabel(\"Rate (%)\", fontsize=16)            \n",
    "        #plt.legend(fontsize=16)\n",
    "        plt.xlim([0, 400])\n",
    "        plt.grid(True)\n",
    "        plt.show()\n",
    "\n",
    "print(len(episodes), len(episodes)/13)\n"
   ]
  },
  {
   "cell_type": "code",
   "execution_count": null,
   "metadata": {},
   "outputs": [],
   "source": []
  }
 ],
 "metadata": {
  "kernelspec": {
   "display_name": "Python 3",
   "language": "python",
   "name": "python3"
  },
  "language_info": {
   "codemirror_mode": {
    "name": "ipython",
    "version": 3
   },
   "file_extension": ".py",
   "mimetype": "text/x-python",
   "name": "python",
   "nbconvert_exporter": "python",
   "pygments_lexer": "ipython3",
   "version": "3.6.4"
  }
 },
 "nbformat": 4,
 "nbformat_minor": 2
}
