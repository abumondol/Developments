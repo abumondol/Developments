{
 "cells": [
  {
   "cell_type": "code",
   "execution_count": 32,
   "metadata": {},
   "outputs": [],
   "source": [
    "import numpy as np\n",
    "import scipy as sp\n",
    "import os \n",
    "import sys\n",
    "import importlib\n",
    "import copy\n",
    "import meal_detection_utils as mdu\n",
    "import result_utils as resu\n",
    "\n",
    "import matplotlib.pyplot as plt\n",
    "%matplotlib inline"
   ]
  },
  {
   "cell_type": "code",
   "execution_count": 33,
   "metadata": {},
   "outputs": [],
   "source": [
    "util_path = 'C:/ASM/Dropbox/Developments/Jupyter/Eating/myutils' if 'C:' in os.getcwd() else './myutils'\n",
    "sys.path.append(util_path)\n",
    "import my_file_utils as mfileu\n",
    "import my_data_process_utils as mdpu"
   ]
  },
  {
   "cell_type": "code",
   "execution_count": 34,
   "metadata": {},
   "outputs": [],
   "source": [
    "bites_proba_rf = mfileu.read_file('generated_for_result/bites', 'lab_bites_proba_rf.pkl')\n",
    "bites_proba_our = mfileu.read_file('generated_for_result/bites', 'lab_bites_proba_our.pkl')\n",
    "bites_pct_rf = mfileu.read_file('generated_for_result/bites', 'lab_bites_pct_offline_rf.pkl')\n",
    "bites_pct_our = mfileu.read_file('generated_for_result/bites', 'lab_bites_pct_offline_our.pkl')"
   ]
  },
  {
   "cell_type": "code",
   "execution_count": 35,
   "metadata": {},
   "outputs": [
    {
     "name": "stdout",
     "output_type": "stream",
     "text": [
      "Lab episode count:  32\n"
     ]
    }
   ],
   "source": [
    "annots = mfileu.read_file('data', 'lab_annots_steven_right.pkl')\n",
    "episodes = mfileu.read_file('data', 'lab_episodes_steven_right.pkl')\n",
    "print(\"Lab episode count: \", len(episodes))"
   ]
  },
  {
   "cell_type": "code",
   "execution_count": 36,
   "metadata": {},
   "outputs": [],
   "source": [
    "gt_bite_count_total = 1332\n",
    "def get_bite_count_sess(clusters, cluster_cover):\n",
    "    pos, neg = 0, 0    \n",
    "    for i in range(len(clusters)):\n",
    "        if cluster_cover[i] == 0:\n",
    "            neg += clusters[i, 2]\n",
    "        else:\n",
    "            pos += clusters[i, 2]\n",
    "    \n",
    "    return pos, neg"
   ]
  },
  {
   "cell_type": "code",
   "execution_count": null,
   "metadata": {},
   "outputs": [],
   "source": [
    "def get_results_exclude_subj(bites, percentile, exclude_subj, minDuration=0, minCount=3,  mergeDistance=5*60*16):    \n",
    "    gts, acovs, clcovs = [], [], []\n",
    "    pos_bite_detected, neg_bite_detected = 0, 0\n",
    "    \n",
    "    for subj in range(len(annots)):\n",
    "        if subj == exclude_subj:\n",
    "            continue\n",
    "        \n",
    "        for sess in range(len(annots[subj])):\n",
    "            cond = (episodes[:,0]==subj) & (episodes[:,1]==sess)\n",
    "            a = episodes[cond, 2:]\n",
    "            \n",
    "            b = bites[(subj, sess, percentile)]\n",
    "            \n",
    "            clusters1 = mdu.cluster_bites_by_minute(b)\n",
    "            clusters2 = mdu.filter_clusters(clusters1, minDuration, minCount)            \n",
    "            clusters = mdu.merge_clusters(clusters2, mergeDistance)\n",
    "            #print(len(bites), len(clusters1), len(clusters2), len(clusters))\n",
    "            \n",
    "            gt, ac, clc = resu.get_meal_detection_results_lab(a, clusters=clusters)\n",
    "            assert len(gt) == len(ac)\n",
    "            \n",
    "            ########### Bite Count            \n",
    "            pb, nb = get_bite_count_sess(clusters, clc)            \n",
    "            pos_bite_detected += pb            \n",
    "            neg_bite_detected += nb\n",
    "            \n",
    "            #############\n",
    "                        \n",
    "            gt = mdpu.add_subj_sess_to_array(gt, subj, sess, at_begin=False)\n",
    "            ac = mdpu.add_subj_sess_to_array(ac, subj, sess, at_begin=False)\n",
    "            clc = mdpu.add_subj_sess_to_array(clc, subj, sess, at_begin=False)\n",
    "\n",
    "            gts = gt if len(gts)==0 else np.concatenate((gts, gt))\n",
    "            acovs = ac if len(acovs)==0 else np.concatenate((acovs, ac))\n",
    "            clcovs = clc if len(clcovs)==0 else np.concatenate((clcovs, clc))\n",
    "            \n",
    "            \n",
    "            \n",
    "    res = resu.get_metric_results_lab(gts, acovs, clcovs)\n",
    "    res[\"pos_bite_detected\"] = pos_bite_detected    \n",
    "    res[\"neg_bite_detected\"] = neg_bite_detected\n",
    "    \n",
    "    return res "
   ]
  },
  {
   "cell_type": "code",
   "execution_count": 37,
   "metadata": {},
   "outputs": [],
   "source": [
    "def get_results(bites, percentile, minDuration=0, minCount=3,  mergeDistance=5*60*16):    \n",
    "    gts, acovs, clcovs = [], [], []\n",
    "    pos_bite_detected, neg_bite_detected = 0, 0\n",
    "    \n",
    "    for subj in range(len(annots)):\n",
    "        for sess in range(len(annots[subj])):\n",
    "            cond = (episodes[:,0]==subj) & (episodes[:,1]==sess)\n",
    "            a = episodes[cond, 2:]\n",
    "            \n",
    "            b = bites[(subj, sess, percentile)]\n",
    "            \n",
    "            clusters1 = mdu.cluster_bites_by_minute(b)\n",
    "            clusters2 = mdu.filter_clusters(clusters1, minDuration, minCount)            \n",
    "            clusters = mdu.merge_clusters(clusters2, mergeDistance)\n",
    "            #print(len(bites), len(clusters1), len(clusters2), len(clusters))\n",
    "            \n",
    "            gt, ac, clc = resu.get_meal_detection_results_lab(a, clusters=clusters)\n",
    "            assert len(gt) == len(ac)\n",
    "            \n",
    "            ########### Bite Count            \n",
    "            pb, nb = get_bite_count_sess(clusters, clc)            \n",
    "            pos_bite_detected += pb            \n",
    "            neg_bite_detected += nb\n",
    "            \n",
    "            #############\n",
    "                        \n",
    "            gt = mdpu.add_subj_sess_to_array(gt, subj, sess, at_begin=False)\n",
    "            ac = mdpu.add_subj_sess_to_array(ac, subj, sess, at_begin=False)\n",
    "            clc = mdpu.add_subj_sess_to_array(clc, subj, sess, at_begin=False)\n",
    "\n",
    "            gts = gt if len(gts)==0 else np.concatenate((gts, gt))\n",
    "            acovs = ac if len(acovs)==0 else np.concatenate((acovs, ac))\n",
    "            clcovs = clc if len(clcovs)==0 else np.concatenate((clcovs, clc))\n",
    "            \n",
    "            \n",
    "            \n",
    "    res = resu.get_metric_results_lab(gts, acovs, clcovs)\n",
    "    res[\"pos_bite_detected\"] = pos_bite_detected    \n",
    "    res[\"neg_bite_detected\"] = neg_bite_detected\n",
    "    \n",
    "    return res "
   ]
  },
  {
   "cell_type": "code",
   "execution_count": 38,
   "metadata": {},
   "outputs": [],
   "source": [
    "#######################################################\n",
    "########## Precision,  Recall, F1-Score, Start/End Errors (For percentile)"
   ]
  },
  {
   "cell_type": "code",
   "execution_count": 39,
   "metadata": {},
   "outputs": [],
   "source": [
    "importlib.reload(mdu)\n",
    "res = []\n",
    "for p in range(9900,10000, 2):\n",
    "    percentile = p/100    \n",
    "    r = get_results(bites_pct_our, percentile)\n",
    "    res.append([percentile, r[\"precision\"], r[\"recall\"], r[\"f1\"], r[\"start_error\"], r[\"end_error\"], r[\"pos_bite_detected\"], r[\"neg_bite_detected\"]])\n",
    "    #print(percentile, res[\"precision\"], res[\"recall\"], res[\"f1\"], res[\"start_error\"], res[\"end_error\"], res[\"pos_bite_detected\"], res[\"neg_bite_detected\"])"
   ]
  },
  {
   "cell_type": "code",
   "execution_count": 40,
   "metadata": {
    "scrolled": false
   },
   "outputs": [
    {
     "data": {
      "image/png": "[encoded data removed]",
      "text/plain": [
       "<matplotlib.figure.Figure at 0x232cbcbc898>"
      ]
     },
     "metadata": {},
     "output_type": "display_data"
    }
   ],
   "source": [
    "r = np.array(res)\n",
    "\n",
    "fig = plt.figure(figsize=(8,5))\n",
    "ax = plt.subplot(111)  \n",
    "\n",
    "ax.plot(r[:,0], r[:,1], label='Precision', color='green')\n",
    "ax.plot(r[:,0], r[:,2], label='Recall', color='blue')\n",
    "ax.plot(r[:,0], r[:,3], label='F1-Score', color='black')\n",
    "\n",
    "ax.legend(loc='upper center', bbox_to_anchor=(0.5, 1.15),\n",
    "          ncol=3, fancybox=True, shadow=True, fontsize=14)\n",
    "\n",
    "plt.xlabel(\"Percentile\", fontsize=14)        \n",
    "#plt.ylabel(\"\", fontsize=14)            \n",
    "plt.grid(True)\n",
    "plt.show()  "
   ]
  },
  {
   "cell_type": "code",
   "execution_count": null,
   "metadata": {},
   "outputs": [],
   "source": []
  },
  {
   "cell_type": "code",
   "execution_count": null,
   "metadata": {},
   "outputs": [],
   "source": []
  },
  {
   "cell_type": "code",
   "execution_count": null,
   "metadata": {},
   "outputs": [],
   "source": []
  },
  {
   "cell_type": "code",
   "execution_count": null,
   "metadata": {},
   "outputs": [],
   "source": []
  },
  {
   "cell_type": "code",
   "execution_count": null,
   "metadata": {},
   "outputs": [],
   "source": []
  },
  {
   "cell_type": "code",
   "execution_count": null,
   "metadata": {},
   "outputs": [],
   "source": [
    "#######################################################\n",
    "########## Precision,  Recall, F1-Score, Start/End Errors (For proba)"
   ]
  },
  {
   "cell_type": "code",
   "execution_count": null,
   "metadata": {
    "scrolled": false
   },
   "outputs": [],
   "source": [
    "importlib.reload(mmdu)\n",
    "res_rf = []\n",
    "res_our = []\n",
    "for p in range(10, 95, 5):\n",
    "    proba = p/100\n",
    "    res = get_results(all_bf_proba_rf[proba][\"bite\"][\"list\"])\n",
    "    res_rf.append([proba, res[\"precision\"], res[\"recall\"], res[\"f1\"], res[\"start_error\"], res[\"end_error\"], res[\"pos_bite_detected\"], res[\"neg_bite_detected\"]])\n",
    "    #print(proba, res[\"precision\"], res[\"recall\"], res[\"f1\"], res[\"start_error\"], res[\"end_error\"], res[\"pos_bite_detected\"], res[\"neg_bite_detected\"])\n",
    "    \n",
    "    res = get_results(all_bf_proba_our[proba][\"bite\"][\"list\"])\n",
    "    res_our.append([proba, res[\"precision\"], res[\"recall\"], res[\"f1\"], res[\"start_error\"], res[\"end_error\"], res[\"pos_bite_detected\"], res[\"neg_bite_detected\"]])\n",
    "    #print(proba, res[\"precision\"], res[\"recall\"], res[\"f1\"], res[\"start_error\"], res[\"end_error\"], res[\"pos_bite_detected\"], res[\"neg_bite_detected\"])"
   ]
  },
  {
   "cell_type": "code",
   "execution_count": null,
   "metadata": {},
   "outputs": [],
   "source": [
    "res_rf, res_our = np.array(res_rf), np.array(res_our)\n",
    "\n",
    "fig = plt.figure(figsize=(8,5))\n",
    "ax = plt.subplot(111)  \n",
    "\n",
    "r = res_rf\n",
    "ax.plot(r[:,0], r[:,1], label='Precision (RF)', color='green', linestyle='--')\n",
    "ax.plot(r[:,0], r[:,2], label='Recall (RF)', color='red', linestyle='--')\n",
    "ax.plot(r[:,0], r[:,3], label='F1-Score (RF)', color='black', linestyle='--')\n",
    "\n",
    "r = res_our\n",
    "ax.plot(r[:,0], r[:,1], label='Precision (ConvBLSTM)', color='green')\n",
    "ax.plot(r[:,0], r[:,2], label='Recall (ConvBLSTM)', color='red')\n",
    "ax.plot(r[:,0], r[:,3], label='F1-Score (ConvBLSTM)', color='black')\n",
    "\n",
    "ax.legend(loc='upper center', bbox_to_anchor=(0.5, 1.3),\n",
    "          ncol=2, fancybox=True, shadow=True, fontsize=14)\n",
    "\n",
    "plt.xlabel(\"Probablity Threshold\", fontsize=14)        \n",
    "#plt.ylabel(\"\", fontsize=14)            \n",
    "#plt.legend()\n",
    "plt.grid(True)\n",
    "plt.show()  \n",
    "\n",
    "\n",
    "fig = plt.figure(figsize=(8,5))\n",
    "ax = plt.subplot(111)  \n",
    "\n",
    "r = res_rf\n",
    "ax.plot(r[:,0], 100*r[:,-2]/gt_bite_count_total, label='BCR-TE (RF)', color='green', linestyle='--')\n",
    "ax.plot(r[:,0], 100*r[:,-1]/gt_bite_count_total, label='BCR-FE (RF)', color='red', linestyle='--')\n",
    "#ax.plot(r[:,0], 100*(r[:,-2]+r[:,-1])/gt_bite_count_total, label='BCR (RF)', color='blue', linestyle='--')\n",
    "\n",
    "r = res_our\n",
    "ax.plot(r[:,0], 100*r[:,-2]/gt_bite_count_total, label='BCR-TE (ConvBLSTM)', color='green')\n",
    "ax.plot(r[:,0], 100*r[:,-1]/gt_bite_count_total, label='BCR-FE (ConvBLSTM)', color='red')\n",
    "#ax.plot(r[:,0], 100*(r[:,-2]+r[:,-1])/gt_bite_count_total, label='BCR-T (ConvBLSTM)', color='blue')\n",
    "\n",
    "ax.legend(loc='upper center', bbox_to_anchor=(0.5, 1.3),\n",
    "          ncol=2, fancybox=True, shadow=True, fontsize=14)\n",
    "\n",
    "plt.xlabel(\"Probablity Threshold\", fontsize=14)        \n",
    "plt.ylabel(\"Bite count rate (%)\", fontsize=14)            \n",
    "#plt.legend()\n",
    "plt.grid(True)\n",
    "plt.show()  "
   ]
  },
  {
   "cell_type": "code",
   "execution_count": null,
   "metadata": {},
   "outputs": [],
   "source": [
    "res_rf, res_our = np.array(res_rf), np.array(res_our)\n",
    "\n",
    "fig = plt.figure(figsize=(8,5))\n",
    "ax = plt.subplot(111)  \n",
    "\n",
    "r = res_rf\n",
    "ax.plot(r[:,0], r[:,4]/60, label='Start Error (RF)', color='green', linestyle='--')\n",
    "ax.plot(r[:,0], r[:,5]/60, label='End Error (RF)', color='blue', linestyle='--')\n",
    "\n",
    "\n",
    "r = res_our\n",
    "ax.plot(r[:,0], r[:,4]/60, label='Start Error (ConvBLSTM)', color='green')\n",
    "ax.plot(r[:,0], r[:,5]/60, label='End Error (ConvBLSTM)', color='blue')\n",
    "\n",
    "\n",
    "ax.legend(loc='upper center', bbox_to_anchor=(0.5, 1.2),\n",
    "          ncol=2, fancybox=True, shadow=True, fontsize=14)\n",
    "\n",
    "plt.xlabel(\"Probablity Threshold\", fontsize=14)        \n",
    "plt.ylabel(\"Error (Minute)\", fontsize=14)            \n",
    "#plt.legend()\n",
    "plt.grid(True)\n",
    "plt.show()"
   ]
  },
  {
   "cell_type": "code",
   "execution_count": null,
   "metadata": {},
   "outputs": [],
   "source": []
  },
  {
   "cell_type": "code",
   "execution_count": null,
   "metadata": {},
   "outputs": [],
   "source": [
    "importlib.reload(mmdu)\n",
    "res_rf = []\n",
    "res_our = []\n",
    "for p in range(9800,10000, 2):\n",
    "    percentile = p/100\n",
    "    res = get_results(all_bf_percentile_rf[percentile][\"bite_offline\"][\"list\"])\n",
    "    res_rf.append([percentile, res[\"precision\"], res[\"recall\"], res[\"f1\"], res[\"start_error\"], res[\"end_error\"], res[\"pos_bite_detected\"], res[\"neg_bite_detected\"]])\n",
    "    #print(percentile, res[\"precision\"], res[\"recall\"], res[\"f1\"], res[\"start_error\"], res[\"end_error\"], res[\"pos_bite_detected\"], res[\"neg_bite_detected\"])\n",
    "    \n",
    "    res = get_results(all_bf_percentile_our[percentile][\"bite_offline\"][\"list\"])\n",
    "    res_our.append([percentile, res[\"precision\"], res[\"recall\"], res[\"f1\"], res[\"start_error\"], res[\"end_error\"], res[\"pos_bite_detected\"], res[\"neg_bite_detected\"]])\n",
    "    #print(percentile, res[\"precision\"], res[\"recall\"], res[\"f1\"], res[\"start_error\"], res[\"end_error\"], res[\"pos_bite_detected\"], res[\"neg_bite_detected\"])"
   ]
  },
  {
   "cell_type": "code",
   "execution_count": null,
   "metadata": {},
   "outputs": [],
   "source": [
    "res_rf, res_our = np.array(res_rf), np.array(res_our)\n",
    "\n",
    "fig = plt.figure(figsize=(8,5))\n",
    "ax = plt.subplot(111)  \n",
    "\n",
    "r = res_rf\n",
    "ax.plot(r[:,0], r[:,1], label='Precision (RF)', color='green', linestyle='--')\n",
    "ax.plot(r[:,0], r[:,2], label='Recall (RF)', color='red', linestyle='--')\n",
    "ax.plot(r[:,0], r[:,3], label='F1-Score (RF)', color='black', linestyle='--')\n",
    "\n",
    "r = res_our\n",
    "ax.plot(r[:,0], r[:,1], label='Precision (ConvBLSTM)', color='green')\n",
    "ax.plot(r[:,0], r[:,2], label='Recall (ConvBLSTM)', color='red')\n",
    "ax.plot(r[:,0], r[:,3], label='F1-Score (ConvBLSTM)', color='black')\n",
    "\n",
    "ax.legend(loc='upper center', bbox_to_anchor=(0.5, 1.3),\n",
    "          ncol=2, fancybox=True, shadow=True, fontsize=14)\n",
    "\n",
    "plt.xlabel(\"Percentile\", fontsize=14)        \n",
    "#plt.ylabel(\"\", fontsize=14)            \n",
    "#plt.legend()\n",
    "plt.grid(True)\n",
    "plt.show()  \n",
    "\n",
    "fig = plt.figure(figsize=(8,5))\n",
    "ax = plt.subplot(111)  \n",
    "\n",
    "r = res_rf\n",
    "ax.plot(r[:,0], 100*r[:,-2]/gt_bite_count_total, label='BCR-TE (RF)', color='green', linestyle='--')\n",
    "ax.plot(r[:,0], 100*r[:,-1]/gt_bite_count_total, label='BCR-FE (RF)', color='red', linestyle='--')\n",
    "#ax.plot(r[:,0], 100*(r[:,-2]+r[:,-1])/gt_bite_count_total, label='BCR (RF)', color='blue', linestyle='--')\n",
    "\n",
    "r = res_our\n",
    "ax.plot(r[:,0], 100*r[:,-2]/gt_bite_count_total, label='BCR-TE (ConvBLSTM)', color='green')\n",
    "ax.plot(r[:,0], 100*r[:,-1]/gt_bite_count_total, label='BCR-FE (ConvBLSTM)', color='red')\n",
    "#ax.plot(r[:,0], 100*(r[:,-2]+r[:,-1])/gt_bite_count_total, label='BCR-T (ConvBLSTM)', color='blue')\n",
    "\n",
    "ax.legend(loc='upper center', bbox_to_anchor=(0.5, 1.3),\n",
    "          ncol=2, fancybox=True, shadow=True, fontsize=14)\n",
    "\n",
    "plt.xlabel(\"Percentile\", fontsize=14)        \n",
    "plt.ylabel(\"Bite count rate (%)\", fontsize=14)            \n",
    "#plt.legend()\n",
    "plt.grid(True)\n",
    "plt.show()  "
   ]
  },
  {
   "cell_type": "code",
   "execution_count": null,
   "metadata": {},
   "outputs": [],
   "source": [
    "res_rf, res_our = np.array(res_rf), np.array(res_our)\n",
    "\n",
    "fig = plt.figure(figsize=(8,5))\n",
    "ax = plt.subplot(111)  \n",
    "\n",
    "r = res_rf\n",
    "ax.plot(r[:,0], r[:,4]/60, label='Start Error (RF)', color='green', linestyle='--')\n",
    "ax.plot(r[:,0], r[:,5]/60, label='End Error (RF)', color='blue', linestyle='--')\n",
    "\n",
    "\n",
    "r = res_our\n",
    "ax.plot(r[:,0], r[:,4]/60, label='Start Error (ConvBLSTM)', color='green')\n",
    "ax.plot(r[:,0], r[:,5]/60, label='End Error (ConvBLSTM)', color='blue')\n",
    "\n",
    "\n",
    "ax.legend(loc='upper center', bbox_to_anchor=(0.5, 1.2),\n",
    "          ncol=2, fancybox=True, shadow=True, fontsize=14)\n",
    "\n",
    "plt.xlabel(\"Percentile\", fontsize=14)        \n",
    "plt.ylabel(\"Error (Minute)\", fontsize=14)            \n",
    "#plt.legend()\n",
    "plt.grid(True)\n",
    "plt.show()  "
   ]
  },
  {
   "cell_type": "code",
   "execution_count": null,
   "metadata": {},
   "outputs": [],
   "source": []
  }
 ],
 "metadata": {
  "kernelspec": {
   "display_name": "Python 3",
   "language": "python",
   "name": "python3"
  },
  "language_info": {
   "codemirror_mode": {
    "name": "ipython",
    "version": 3
   },
   "file_extension": ".py",
   "mimetype": "text/x-python",
   "name": "python",
   "nbconvert_exporter": "python",
   "pygments_lexer": "ipython3",
   "version": "3.6.4"
  }
 },
 "nbformat": 4,
 "nbformat_minor": 2
}
