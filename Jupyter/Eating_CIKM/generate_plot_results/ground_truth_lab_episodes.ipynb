{
 "cells": [
  {
   "cell_type": "code",
   "execution_count": 1,
   "metadata": {},
   "outputs": [],
   "source": [
    "import numpy as np\n",
    "import scipy as sp\n",
    "import os \n",
    "import sys\n",
    "import importlib"
   ]
  },
  {
   "cell_type": "code",
   "execution_count": 2,
   "metadata": {},
   "outputs": [],
   "source": [
    "util_path = 'C:/ASM/Dropbox/Developments/Jupyter/Eating/myutils' if 'C:' in os.getcwd() else './myutils'\n",
    "sys.path.append(util_path)\n",
    "import my_file_utils as mfileu\n",
    "import my_data_process_utils as mdpu\n",
    "#importlib.reload(mdu)"
   ]
  },
  {
   "cell_type": "code",
   "execution_count": 3,
   "metadata": {},
   "outputs": [],
   "source": [
    "annots = mfileu.read_file('data', 'lab_annots_steven_right.pkl')"
   ]
  },
  {
   "cell_type": "code",
   "execution_count": 4,
   "metadata": {},
   "outputs": [],
   "source": [
    "import matplotlib.pyplot as plt\n",
    "%matplotlib inline"
   ]
  },
  {
   "cell_type": "code",
   "execution_count": 5,
   "metadata": {},
   "outputs": [],
   "source": [
    "def get_episodes(a):\n",
    "    a = a[a[:, 2]==1, 0]    \n",
    "    clusters = []\n",
    "    si = 0\n",
    "    for i in range(1, len(a)):\n",
    "        if a[i]-a[i-1]>5*16*60:\n",
    "            clusters.append([a[si], a[i-1], i-si])\n",
    "            si = i\n",
    "        \n",
    "    clusters.append([a[si], a[i-1], i-si])\n",
    "    return np.array(clusters).astype(float)"
   ]
  },
  {
   "cell_type": "code",
   "execution_count": 6,
   "metadata": {
    "scrolled": false
   },
   "outputs": [
    {
     "name": "stdout",
     "output_type": "stream",
     "text": [
      "32 2.4615384615384617\n"
     ]
    }
   ],
   "source": [
    "episodes = np.zeros((0, 5))\n",
    "for subj in range(len(annots)):\n",
    "    for sess in range(len(annots[subj])):\n",
    "        a = annots[subj][sess]      \n",
    "        t = a[:,0]/(16*60)\n",
    "        b= a[:,2]\n",
    "        \n",
    "        c = get_episodes(a)\n",
    "        ssc = mdpu.add_subj_sess_to_array(c, subj, sess)\n",
    "        episodes = np.concatenate((episodes, ssc))\n",
    "        c[:,0:2] = c[:,0:2]/16/60\n",
    "        #print(\"Episode count: \", len(c))\n",
    "        #print(c)\n",
    "        \n",
    "        \n",
    "        #fig = plt.figure(figsize=(18,6))\n",
    "        #ax = plt.subplot(111)  \n",
    "\n",
    "        #ax.scatter(t, b, marker='x')\n",
    "        #for i in range(len(c)):            \n",
    "        #    ax.plot([c[i, 0], c[i, 1]] , [1.5, 1.5] , linewidth=5, color='blue')\n",
    "            \n",
    "        \n",
    "        #plt.title(\"Subj, sess: {}, {}  Bite, Sip:{}, {}\".format(subj, sess, np.sum(b==1), np.sum(b==2)), fontsize=16)\n",
    "        #plt.xlabel(\"Time \", fontsize=16)        \n",
    "        #plt.ylabel(\"Rate (%)\", fontsize=16)            \n",
    "        #plt.legend(fontsize=16)\n",
    "        #plt.xlim([0, 400])\n",
    "        #plt.grid(True)\n",
    "        #plt.show()\n",
    "        \n",
    "cond = episodes[:,-1]>=3\n",
    "episodes = episodes[cond, :]\n",
    "mfileu.write_file('data', 'lab_episodes_steven_right.pkl', episodes)\n",
    "#print(episodes)\n",
    "print(len(episodes), len(episodes)/13)\n"
   ]
  },
  {
   "cell_type": "code",
   "execution_count": 8,
   "metadata": {},
   "outputs": [
    {
     "name": "stdout",
     "output_type": "stream",
     "text": [
      "1 99.99305555555556\n",
      "2 99.98611111111111\n",
      "3 99.97916666666666\n",
      "4 99.97222222222221\n",
      "5 99.96527777777777\n",
      "6 99.95833333333334\n",
      "7 99.95138888888889\n",
      "8 99.94444444444444\n",
      "9 99.9375\n",
      "10 99.93055555555556\n",
      "11 99.92361111111111\n",
      "12 99.91666666666667\n",
      "13 99.90972222222221\n",
      "14 99.90277777777777\n",
      "15 99.89583333333333\n",
      "16 99.8888888888889\n",
      "17 99.88194444444444\n",
      "18 99.875\n",
      "19 99.86805555555556\n",
      "20 99.86111111111111\n",
      "21 99.85416666666667\n",
      "22 99.84722222222221\n",
      "23 99.84027777777777\n",
      "24 99.83333333333333\n"
     ]
    }
   ],
   "source": [
    "for bph in range(1, 25):\n",
    "    pct = 1 - 0.5*bph/7200    \n",
    "    print(bph, 100*pct)"
   ]
  },
  {
   "cell_type": "code",
   "execution_count": null,
   "metadata": {},
   "outputs": [],
   "source": []
  }
 ],
 "metadata": {
  "kernelspec": {
   "display_name": "Python 3",
   "language": "python",
   "name": "python3"
  },
  "language_info": {
   "codemirror_mode": {
    "name": "ipython",
    "version": 3
   },
   "file_extension": ".py",
   "mimetype": "text/x-python",
   "name": "python",
   "nbconvert_exporter": "python",
   "pygments_lexer": "ipython3",
   "version": "3.6.4"
  }
 },
 "nbformat": 4,
 "nbformat_minor": 2
}
