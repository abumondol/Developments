{
 "cells": [
  {
   "cell_type": "code",
   "execution_count": 1,
   "metadata": {},
   "outputs": [],
   "source": [
    "import numpy as np\n",
    "import scipy as sp\n",
    "import os \n",
    "import sys\n",
    "import importlib\n",
    "import copy\n",
    "import meal_detection_utils as mdu\n",
    "import result_utils as resu\n",
    "\n",
    "import matplotlib.pyplot as plt\n",
    "%matplotlib inline"
   ]
  },
  {
   "cell_type": "code",
   "execution_count": 2,
   "metadata": {},
   "outputs": [],
   "source": [
    "util_path = 'C:/ASM/Dropbox/Developments/Jupyter/Eating/myutils' if 'C:' in os.getcwd() else './myutils'\n",
    "sys.path.append(util_path)\n",
    "import my_file_utils as mfileu\n",
    "import my_data_process_utils as mdpu"
   ]
  },
  {
   "cell_type": "code",
   "execution_count": 3,
   "metadata": {},
   "outputs": [
    {
     "name": "stdout",
     "output_type": "stream",
     "text": [
      "Lab episode count:  32\n"
     ]
    }
   ],
   "source": [
    "lab_free= 'lab'\n",
    "assert lab_free in ['lab', 'free']\n",
    "\n",
    "if lab_free=='lab':    \n",
    "    episodes = mfileu.read_file('data', 'lab_episodes_steven_right.pkl')\n",
    "    annots = mfileu.read_file('data', 'lab_annots_steven_right.pkl')\n",
    "    print(\"Lab episode count: \", len(episodes))\n",
    "else:    \n",
    "    annots = mfileu.read_file('data', 'free_annots_steven_processed.pkl')\n",
    "    subj_count = len(annots)\n"
   ]
  },
  {
   "cell_type": "code",
   "execution_count": 4,
   "metadata": {},
   "outputs": [],
   "source": [
    "minDuration=0\n",
    "minCount=3\n",
    "mergeDistance=5*60*16"
   ]
  },
  {
   "cell_type": "code",
   "execution_count": 5,
   "metadata": {},
   "outputs": [],
   "source": [
    "def get_results_exclude_subj(bites, percentile_proba, exclude_subj):    \n",
    "    gts, acovs, clcovs = [], [], []\n",
    "    pos_bite_detected, neg_bite_detected = 0, 0\n",
    "    \n",
    "    for subj in range(len(annots)):\n",
    "        if subj == exclude_subj:\n",
    "            continue\n",
    "        \n",
    "        for sess in range(len(annots[subj])):\n",
    "            if lab_free=='lab':\n",
    "                cond = (episodes[:,0]==subj) & (episodes[:,1]==sess)\n",
    "                a = episodes[cond, 2:]\n",
    "            else:\n",
    "                a = annots[subj][sess]\n",
    "            \n",
    "            \n",
    "            b = bites[(subj, sess, percentile_proba)]\n",
    "            \n",
    "            clusters1 = mdu.cluster_bites_by_minute(b)\n",
    "            clusters2 = mdu.filter_clusters(clusters1, minDuration, minCount)            \n",
    "            clusters = mdu.merge_clusters(clusters2, mergeDistance)\n",
    "            #print(len(bites), len(clusters1), len(clusters2), len(clusters))\n",
    "            \n",
    "            gt, ac, clc = resu.get_meal_detection_results_lab(a, clusters=clusters)\n",
    "            assert len(gt) == len(ac)\n",
    "            \n",
    "            ########### Bite Count            \n",
    "            #pb, nb = get_bite_count_sess(clusters, clc)            \n",
    "            #pos_bite_detected += pb            \n",
    "            #neg_bite_detected += nb\n",
    "            \n",
    "            #############\n",
    "                        \n",
    "            gt = mdpu.add_subj_sess_to_array(gt, subj, sess, at_begin=False)\n",
    "            ac = mdpu.add_subj_sess_to_array(ac, subj, sess, at_begin=False)\n",
    "            clc = mdpu.add_subj_sess_to_array(clc, subj, sess, at_begin=False)\n",
    "\n",
    "            gts = gt if len(gts)==0 else np.concatenate((gts, gt))\n",
    "            acovs = ac if len(acovs)==0 else np.concatenate((acovs, ac))\n",
    "            clcovs = clc if len(clcovs)==0 else np.concatenate((clcovs, clc))\n",
    "    \n",
    "    if lab_free:\n",
    "        res = resu.get_metric_results_lab(gts, acovs, clcovs)\n",
    "    else:\n",
    "        res = resu.get_metric_results_free(gts, acovs, clcovs)\n",
    "        \n",
    "    #res[\"pos_bite_detected\"] = pos_bite_detected    \n",
    "    #res[\"neg_bite_detected\"] = neg_bite_detected    \n",
    "    return res "
   ]
  },
  {
   "cell_type": "code",
   "execution_count": 6,
   "metadata": {},
   "outputs": [],
   "source": [
    "def get_subj_p(bites, fixed_p, pct_proba, rf_our):\n",
    "    subj_p =[]\n",
    "    for subj in range(len(annots)):\n",
    "        if fixed_p:\n",
    "            p = 0.5 if pct_proba=='proba' else 99.9\n",
    "            subj_p.append([subj, p, 0])\n",
    "            continue\n",
    "\n",
    "        \n",
    "        ps = range(10, 95, 5) if pct_proba=='proba' else range(9900,10000)\n",
    "        best_f1, best_p = 0, 0\n",
    "        for i in ps:\n",
    "            p = i/100    \n",
    "            r = get_results_exclude_subj(bites, p, exclude_subj = subj)\n",
    "            if r[\"f1\"]>best_f1:\n",
    "                best_f1 = r[\"f1\"]\n",
    "                best_p = p\n",
    "\n",
    "        subj_p.append([subj, best_p, best_f1])\n",
    "\n",
    "    subj_p = np.array(subj_p)\n",
    "    return subj_p"
   ]
  },
  {
   "cell_type": "code",
   "execution_count": 7,
   "metadata": {},
   "outputs": [],
   "source": [
    "def get_result(bites, subj_p):\n",
    "    gts, acovs, clcovs = [], [], []\n",
    "    pos_bite_detected, neg_bite_detected = 0, 0\n",
    "\n",
    "    for subj in range(len(annots)):\n",
    "        for sess in range(len(annots[subj])):\n",
    "            if lab_free=='lab':\n",
    "                cond = (episodes[:,0]==subj) & (episodes[:,1]==sess)\n",
    "                a = episodes[cond, 2:]\n",
    "            else:\n",
    "                a = annots[subj][sess]\n",
    "\n",
    "            p = subj_p[subj, 1]\n",
    "            b = bites[(subj, sess, p)]\n",
    "\n",
    "            clusters1 = mdu.cluster_bites_by_minute(b)\n",
    "            clusters2 = mdu.filter_clusters(clusters1, minDuration, minCount)            \n",
    "            clusters = mdu.merge_clusters(clusters2, mergeDistance)\n",
    "            #print(len(bites), len(clusters1), len(clusters2), len(clusters))\n",
    "\n",
    "            gt, ac, clc = resu.get_meal_detection_results_lab(a, clusters=clusters)\n",
    "            assert len(gt) == len(ac)\n",
    "\n",
    "            ########### Bite Count            \n",
    "            #pb, nb = get_bite_count_sess(clusters, clc)            \n",
    "            #pos_bite_detected += pb            \n",
    "            #neg_bite_detected += nb\n",
    "\n",
    "            #############\n",
    "\n",
    "            gt = mdpu.add_subj_sess_to_array(gt, subj, sess, at_begin=False)\n",
    "            ac = mdpu.add_subj_sess_to_array(ac, subj, sess, at_begin=False)\n",
    "            clc = mdpu.add_subj_sess_to_array(clc, subj, sess, at_begin=False)\n",
    "\n",
    "            gts = gt if len(gts)==0 else np.concatenate((gts, gt))\n",
    "            acovs = ac if len(acovs)==0 else np.concatenate((acovs, ac))\n",
    "            clcovs = clc if len(clcovs)==0 else np.concatenate((clcovs, clc))\n",
    "\n",
    "    if lab_free:\n",
    "        res = resu.get_metric_results_lab(gts, acovs, clcovs)\n",
    "    else:\n",
    "        res = resu.get_metric_results_free(gts, acovs, clcovs)\n",
    "    #res[\"pos_bite_detected\"] = pos_bite_detected    \n",
    "    #res[\"neg_bite_detected\"] = neg_bite_detected\n",
    "    \n",
    "    return res"
   ]
  },
  {
   "cell_type": "code",
   "execution_count": 8,
   "metadata": {},
   "outputs": [
    {
     "name": "stdout",
     "output_type": "stream",
     "text": [
      "pct_offline rf True\n",
      "[[ 0.  99.9  0. ]\n",
      " [ 1.  99.9  0. ]\n",
      " [ 2.  99.9  0. ]\n",
      " [ 3.  99.9  0. ]\n",
      " [ 4.  99.9  0. ]\n",
      " [ 5.  99.9  0. ]\n",
      " [ 6.  99.9  0. ]]\n"
     ]
    },
    {
     "ename": "NameError",
     "evalue": "name 'p' is not defined",
     "output_type": "error",
     "traceback": [
      "\u001b[1;31m---------------------------------------------------------------------------\u001b[0m",
      "\u001b[1;31mNameError\u001b[0m                                 Traceback (most recent call last)",
      "\u001b[1;32m<ipython-input-8-61209dcc5b71>\u001b[0m in \u001b[0;36m<module>\u001b[1;34m()\u001b[0m\n\u001b[0;32m     11\u001b[0m             \u001b[0mres\u001b[0m \u001b[1;33m=\u001b[0m \u001b[0mget_result\u001b[0m\u001b[1;33m(\u001b[0m\u001b[0mbites\u001b[0m\u001b[1;33m,\u001b[0m \u001b[0msubj_p\u001b[0m\u001b[1;33m)\u001b[0m\u001b[1;33m\u001b[0m\u001b[0m\n\u001b[0;32m     12\u001b[0m \u001b[1;33m\u001b[0m\u001b[0m\n\u001b[1;32m---> 13\u001b[1;33m             \u001b[0mres\u001b[0m\u001b[1;33m[\u001b[0m\u001b[0mi\u001b[0m\u001b[1;33m,\u001b[0m \u001b[1;33m:\u001b[0m\u001b[1;33m]\u001b[0m \u001b[1;33m=\u001b[0m \u001b[1;33m[\u001b[0m\u001b[0mp\u001b[0m\u001b[1;33m,\u001b[0m \u001b[0mr\u001b[0m\u001b[1;33m,\u001b[0m \u001b[0mf\u001b[0m\u001b[1;33m]\u001b[0m\u001b[1;33m\u001b[0m\u001b[0m\n\u001b[0m\u001b[0;32m     14\u001b[0m             \u001b[0mi\u001b[0m \u001b[1;33m+=\u001b[0m \u001b[1;36m1\u001b[0m\u001b[1;33m\u001b[0m\u001b[0m\n\u001b[0;32m     15\u001b[0m \u001b[1;33m\u001b[0m\u001b[0m\n",
      "\u001b[1;31mNameError\u001b[0m: name 'p' is not defined"
     ]
    }
   ],
   "source": [
    "res_all={}\n",
    "for pct_proba in [\"pct_offline\", \"proba\"]:\n",
    "    res = np.zeros((4, 3))\n",
    "    i = 0\n",
    "    for rf_our in [\"rf\", \"our\"]:\n",
    "        bites= mfileu.read_file('generated_for_result/bites', '{}_bites_{}_{}.pkl'.format(lab_free, pct_proba, rf_our))\n",
    "        for fixed_p in [True, False]:\n",
    "            print(pct_proba, rf_our, fixed_p)            \n",
    "            subj_p = get_subj_p(bites, fixed_p, pct_proba, rf_our)\n",
    "            print(subj_p)\n",
    "            res = get_result(bites, subj_p)\n",
    "            p, r, f = res[\"percentile\"], res[\"recall\"], res[\"recall\"]\n",
    "            res[i, :] = [p, r, f]\n",
    "            i += 1\n",
    "            \n",
    "    res_all[pct_proba] = res    \n",
    "    print(res)"
   ]
  },
  {
   "cell_type": "code",
   "execution_count": null,
   "metadata": {},
   "outputs": [],
   "source": []
  },
  {
   "cell_type": "code",
   "execution_count": null,
   "metadata": {},
   "outputs": [],
   "source": []
  }
 ],
 "metadata": {
  "kernelspec": {
   "display_name": "Python 3",
   "language": "python",
   "name": "python3"
  },
  "language_info": {
   "codemirror_mode": {
    "name": "ipython",
    "version": 3
   },
   "file_extension": ".py",
   "mimetype": "text/x-python",
   "name": "python",
   "nbconvert_exporter": "python",
   "pygments_lexer": "ipython3",
   "version": "3.6.4"
  }
 },
 "nbformat": 4,
 "nbformat_minor": 2
}
