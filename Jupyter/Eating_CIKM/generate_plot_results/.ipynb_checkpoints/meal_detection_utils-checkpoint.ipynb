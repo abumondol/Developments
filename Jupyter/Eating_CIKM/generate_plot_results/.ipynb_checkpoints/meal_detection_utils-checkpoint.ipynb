{
 "cells": [
  {
   "cell_type": "code",
   "execution_count": 1,
   "metadata": {},
   "outputs": [],
   "source": [
    "import numpy as np"
   ]
  },
  {
   "cell_type": "code",
   "execution_count": 2,
   "metadata": {},
   "outputs": [],
   "source": [
    "def cluster_bites_by_minute(indices, maxDistance=16*60):    \n",
    "    count = len(indices)\n",
    "    if count==0:\n",
    "        return []\n",
    "    if count==1:\n",
    "        return np.array([indices[0], indices[0], 1]).reshape((-1, 3))\n",
    "    \n",
    "    clusters = []\n",
    "    j = 0\n",
    "    for i in range(1, count):\n",
    "        if  indices[i] - indices[i-1]>maxDistance:\n",
    "            si = indices[j]\n",
    "            ei = indices[i-1]            \n",
    "            clusters.append([si, ei, i-j])\n",
    "            j = i\n",
    "    \n",
    "    si = indices[j]\n",
    "    ei = indices[count-1]    \n",
    "    clusters.append([si, ei, count-j])\n",
    "    clusters = np.array(clusters).astype(int)    \n",
    "    return clusters\n"
   ]
  },
  {
   "cell_type": "code",
   "execution_count": 3,
   "metadata": {},
   "outputs": [],
   "source": [
    "def filter_clusters(clusters, minDuration, minCount):\n",
    "    if len(clusters)==0:\n",
    "        return clusters\n",
    "    #print(clusters.shape)\n",
    "    cond1 = (clusters[:,1]-clusters[:, 0])>=minDuration\n",
    "    cond2 = clusters[:,2]>=minCount\n",
    "    return clusters[cond1 & cond2]"
   ]
  },
  {
   "cell_type": "code",
   "execution_count": 4,
   "metadata": {},
   "outputs": [],
   "source": [
    "def merge_clusters(clusters, mergeDistance):\n",
    "    if mergeDistance==0 or len(clusters)<=1:\n",
    "        return clusters\n",
    "    \n",
    "    count = len(clusters)    \n",
    "    \n",
    "    res = []\n",
    "    j = 0\n",
    "    for i in range(1, count):\n",
    "        if  clusters[i, 0] - clusters[i-1, 1]>mergeDistance:\n",
    "            si = clusters[j,0]\n",
    "            ei = clusters[i-1,1]\n",
    "            bite_count = np.sum(clusters[j:i, -1])\n",
    "            res.append([si, ei, bite_count])\n",
    "            j = i\n",
    "    \n",
    "    si = clusters[j,0]\n",
    "    ei = clusters[count-1,1]\n",
    "    bite_count = np.sum(clusters[j:count, -1])\n",
    "    res.append([si, ei, bite_count])\n",
    "    res = np.array(res).astype(int)    \n",
    "    return res"
   ]
  },
  {
   "cell_type": "code",
   "execution_count": null,
   "metadata": {},
   "outputs": [],
   "source": []
  }
 ],
 "metadata": {
  "kernelspec": {
   "display_name": "Python 3",
   "language": "python",
   "name": "python3"
  },
  "language_info": {
   "codemirror_mode": {
    "name": "ipython",
    "version": 3
   },
   "file_extension": ".py",
   "mimetype": "text/x-python",
   "name": "python",
   "nbconvert_exporter": "python",
   "pygments_lexer": "ipython3",
   "version": "3.6.4"
  }
 },
 "nbformat": 4,
 "nbformat_minor": 2
}
