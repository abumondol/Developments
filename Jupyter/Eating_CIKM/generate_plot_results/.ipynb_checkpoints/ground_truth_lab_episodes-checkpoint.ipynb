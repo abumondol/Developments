{
 "cells": [
  {
   "cell_type": "code",
   "execution_count": 1,
   "metadata": {},
   "outputs": [],
   "source": [
    "import numpy as np\n",
    "import scipy as sp\n",
    "import os \n",
    "import sys\n",
    "import importlib"
   ]
  },
  {
   "cell_type": "code",
   "execution_count": 2,
   "metadata": {},
   "outputs": [],
   "source": [
    "util_path = 'C:/ASM/Dropbox/Developments/Jupyter/Eating/myutils' if 'C:' in os.getcwd() else './myutils'\n",
    "sys.path.append(util_path)\n",
    "import my_file_utils as mfileu\n",
    "import my_data_process_utils as mdpu\n",
    "#importlib.reload(mdu)"
   ]
  },
  {
   "cell_type": "code",
   "execution_count": 3,
   "metadata": {},
   "outputs": [],
   "source": [
    "annots = mfileu.read_file('data', 'lab_annots_steven_right.pkl')"
   ]
  },
  {
   "cell_type": "code",
   "execution_count": 4,
   "metadata": {},
   "outputs": [],
   "source": [
    "import matplotlib.pyplot as plt\n",
    "%matplotlib inline"
   ]
  },
  {
   "cell_type": "code",
   "execution_count": 5,
   "metadata": {},
   "outputs": [],
   "source": [
    "def get_episodes(a):\n",
    "    a = a[a[:, 2]==1, 0]    \n",
    "    clusters = []\n",
    "    si = 0\n",
    "    for i in range(1, len(a)):\n",
    "        if a[i]-a[i-1]>5*16*60:\n",
    "            clusters.append([a[si], a[i-1], i-si])\n",
    "            si = i\n",
    "        \n",
    "    clusters.append([a[si], a[i-1], i-si])\n",
    "    return np.array(clusters).astype(float)"
   ]
  },
  {
   "cell_type": "code",
   "execution_count": 6,
   "metadata": {
    "scrolled": false
   },
   "outputs": [
    {
     "name": "stdout",
     "output_type": "stream",
     "text": [
      "32 2.4615384615384617\n"
     ]
    }
   ],
   "source": [
    "episodes = np.zeros((0, 5))\n",
    "for subj in range(len(annots)):\n",
    "    for sess in range(len(annots[subj])):\n",
    "        a = annots[subj][sess]      \n",
    "        t = a[:,0]/(16*60)\n",
    "        b= a[:,2]\n",
    "        \n",
    "        c = get_episodes(a)\n",
    "        ssc = mdpu.add_subj_sess_to_array(c, subj, sess)\n",
    "        episodes = np.concatenate((episodes, ssc))\n",
    "        c[:,0:2] = c[:,0:2]/16/60\n",
    "        #print(\"Episode count: \", len(c))\n",
    "        #print(c)\n",
    "        \n",
    "        \n",
    "        #fig = plt.figure(figsize=(18,6))\n",
    "        #ax = plt.subplot(111)  \n",
    "\n",
    "        #ax.scatter(t, b, marker='x')\n",
    "        #for i in range(len(c)):            \n",
    "        #    ax.plot([c[i, 0], c[i, 1]] , [1.5, 1.5] , linewidth=5, color='blue')\n",
    "            \n",
    "        \n",
    "        #plt.title(\"Subj, sess: {}, {}  Bite, Sip:{}, {}\".format(subj, sess, np.sum(b==1), np.sum(b==2)), fontsize=16)\n",
    "        #plt.xlabel(\"Time \", fontsize=16)        \n",
    "        #plt.ylabel(\"Rate (%)\", fontsize=16)            \n",
    "        #plt.legend(fontsize=16)\n",
    "        #plt.xlim([0, 400])\n",
    "        #plt.grid(True)\n",
    "        #plt.show()\n",
    "        \n",
    "cond = episodes[:,-1]>=3\n",
    "episodes = episodes[cond, :]\n",
    "mfileu.write_file('data', 'lab_episodes_steven_right.pkl', episodes)\n",
    "#print(episodes)\n",
    "print(len(episodes), len(episodes)/13)\n"
   ]
  },
  {
   "cell_type": "code",
   "execution_count": 7,
   "metadata": {},
   "outputs": [
    {
     "ename": "NameError",
     "evalue": "name 'i' is not defined",
     "output_type": "error",
     "traceback": [
      "\u001b[1;31m---------------------------------------------------------------------------\u001b[0m",
      "\u001b[1;31mNameError\u001b[0m                                 Traceback (most recent call last)",
      "\u001b[1;32m<ipython-input-7-ccb169b9e9d1>\u001b[0m in \u001b[0;36m<module>\u001b[1;34m()\u001b[0m\n\u001b[0;32m      1\u001b[0m \u001b[1;32mfor\u001b[0m \u001b[0mbph\u001b[0m \u001b[1;32min\u001b[0m \u001b[0mrange\u001b[0m\u001b[1;33m(\u001b[0m\u001b[1;36m1\u001b[0m\u001b[1;33m,\u001b[0m \u001b[1;36m25\u001b[0m\u001b[1;33m)\u001b[0m\u001b[1;33m:\u001b[0m\u001b[1;33m\u001b[0m\u001b[0m\n\u001b[0;32m      2\u001b[0m     \u001b[0mpct\u001b[0m \u001b[1;33m=\u001b[0m \u001b[1;36m1\u001b[0m \u001b[1;33m-\u001b[0m \u001b[1;36m0.5\u001b[0m\u001b[1;33m*\u001b[0m\u001b[0mbph\u001b[0m\u001b[1;33m/\u001b[0m\u001b[1;36m7200\u001b[0m\u001b[1;33m\u001b[0m\u001b[0m\n\u001b[1;32m----> 3\u001b[1;33m     \u001b[0mprint\u001b[0m\u001b[1;33m(\u001b[0m\u001b[0mi\u001b[0m\u001b[1;33m,\u001b[0m \u001b[1;36m100\u001b[0m\u001b[1;33m*\u001b[0m\u001b[0mpct\u001b[0m\u001b[1;33m)\u001b[0m\u001b[1;33m\u001b[0m\u001b[0m\n\u001b[0m",
      "\u001b[1;31mNameError\u001b[0m: name 'i' is not defined"
     ]
    }
   ],
   "source": [
    "for bph in range(1, 25):\n",
    "    pct = 1 - 0.5*bph/7200    \n",
    "    print(bph, 100*pct)"
   ]
  },
  {
   "cell_type": "code",
   "execution_count": null,
   "metadata": {},
   "outputs": [],
   "source": []
  }
 ],
 "metadata": {
  "kernelspec": {
   "display_name": "Python 3",
   "language": "python",
   "name": "python3"
  },
  "language_info": {
   "codemirror_mode": {
    "name": "ipython",
    "version": 3
   },
   "file_extension": ".py",
   "mimetype": "text/x-python",
   "name": "python",
   "nbconvert_exporter": "python",
   "pygments_lexer": "ipython3",
   "version": "3.6.4"
  }
 },
 "nbformat": 4,
 "nbformat_minor": 2
}
