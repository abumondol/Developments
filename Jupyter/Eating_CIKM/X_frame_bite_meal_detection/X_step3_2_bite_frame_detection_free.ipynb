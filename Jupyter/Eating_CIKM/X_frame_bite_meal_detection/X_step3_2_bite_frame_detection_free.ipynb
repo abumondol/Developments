{
 "cells": [
  {
   "cell_type": "code",
   "execution_count": 30,
   "metadata": {},
   "outputs": [],
   "source": [
    "import numpy as np\n",
    "import scipy as sp\n",
    "import os \n",
    "import sys\n",
    "import importlib\n",
    "import bite_detection_utils as bdu\n",
    "import copy"
   ]
  },
  {
   "cell_type": "code",
   "execution_count": 31,
   "metadata": {},
   "outputs": [],
   "source": [
    "util_path = 'C:/ASM/Dropbox/Developments/Jupyter/Eating/myutils' if 'C:' in os.getcwd() else './myutils'\n",
    "sys.path.append(util_path)\n",
    "import my_file_utils as mfileu\n",
    "#importlib.reload(mdu)"
   ]
  },
  {
   "cell_type": "code",
   "execution_count": 32,
   "metadata": {},
   "outputs": [],
   "source": [
    "annots = mfileu.read_file('data', 'free_annots_steven_processed.pkl')"
   ]
  },
  {
   "cell_type": "code",
   "execution_count": 33,
   "metadata": {},
   "outputs": [],
   "source": [
    "RF_our ='our'\n",
    "all_proba = mfileu.read_file('all_proba2', 'all_proba_bite_free_{}.pkl'.format(RF_our))\n",
    "pct_proba = mfileu.read_file('pct_proba2', 'pct_proba_bite_free_{}.pkl'.format(RF_our))"
   ]
  },
  {
   "cell_type": "code",
   "execution_count": 34,
   "metadata": {},
   "outputs": [],
   "source": [
    "def get_labels_free(indices, a):\n",
    "    if len(indices)==0:\n",
    "        return []\n",
    "    \n",
    "    count = len(indices)    \n",
    "    labels=np.zeros((count, 2))\n",
    "    \n",
    "    isBite = True if indices.shape[1]>1 else False\n",
    "    \n",
    "    acount = len(a)    \n",
    "    for i in range(acount):                 \n",
    "        ix1 = a[i, 0]\n",
    "        ix2 = a[i, 1]\n",
    "        if isBite:\n",
    "            cond = (indices[:,1]>=ix1) & (indices[:,0]<=ix2)\n",
    "        else:\n",
    "            cond = (indices[:, 0]>=ix1) & (indices[:, 0]<=ix2)\n",
    "            \n",
    "        labels[cond, 0] = a[i, 2]\n",
    "    \n",
    "    cond = (labels[:,0]==1) | (labels[:,0]==2)\n",
    "    labels[cond, 1] = 1\n",
    "    \n",
    "    return labels.astype(int)"
   ]
  },
  {
   "cell_type": "code",
   "execution_count": 35,
   "metadata": {},
   "outputs": [],
   "source": [
    "def get_bites_frames(bite_frame, percentile_proba, percentile_proba_val, off_on=None):\n",
    "    assert off_on in [None, \"offline\", \"online\"]\n",
    "    assert bite_frame in [\"bite\", \"frame\"]    \n",
    "    assert percentile_proba in [\"percentile\", \"proba\"]    \n",
    "    \n",
    "    \n",
    "    ba = mfileu.read_file('data', 'free_data_steven_blank_array.pkl')\n",
    "    tp, fp = 0, 0\n",
    "    \n",
    "    for subj in range(len(ba)):\n",
    "        for sess in range(len(ba[subj])):\n",
    "            a = annots[subj][sess]            \n",
    "            ix_proba = all_proba[subj][sess][:, :2]\n",
    "            \n",
    "            if percentile_proba=='percentile':\n",
    "                cond  = (pct_proba[:, 0]==subj) & (pct_proba[:, 1]==sess) & (pct_proba[:, 2]==percentile_proba_val)\n",
    "                assert np.sum(cond)==1                        \n",
    "                proba_th = pct_proba[cond, -2] if off_on==\"offline\" else pct_proba[cond, -1]\n",
    "            else:\n",
    "                proba_th = percentile_proba_val\n",
    "            \n",
    "            if bite_frame==\"bite\":\n",
    "                indices = bdu.detect_bites(ix_proba, proba_th=proba_th, ix_offset=40) \n",
    "                ba[subj][sess] = indices\n",
    "                    \n",
    "            else:\n",
    "                ix = ix_proba[:, 0]+40\n",
    "                proba = ix_proba[:, 1]            \n",
    "                indices = ix[proba>=proba_th].reshape((-1, 1))\n",
    "            \n",
    "                l = get_labels_free(indices, a)            \n",
    "                ba[subj][sess] = np.concatenate((indices, l), axis=1).astype(int)                \n",
    "                \n",
    "                tp_1 = np.sum(l[:,1]==1)\n",
    "                fp_1 = len(l) - tp_1\n",
    "                \n",
    "                tp += tp_1\n",
    "                fp += fp_1           \n",
    "            \n",
    "    \n",
    "    res = {\"list\":ba, \"tp\":tp, \"fp\":fp}\n",
    "    return res"
   ]
  },
  {
   "cell_type": "code",
   "execution_count": 36,
   "metadata": {},
   "outputs": [
    {
     "name": "stdout",
     "output_type": "stream",
     "text": [
      "our 99.0 | our 99.01 | our 99.02 | our 99.03 | our 99.04 | our 99.05 | our 99.06 | our 99.07 | our 99.08 | our 99.09 | our 99.1 | our 99.11 | our 99.12 | our 99.13 | our 99.14 | our 99.15 | our 99.16 | our 99.17 | our 99.18 | our 99.19 | our 99.2 | our 99.21 | our 99.22 | our 99.23 | our 99.24 | our 99.25 | our 99.26 | our 99.27 | our 99.28 | our 99.29 | our 99.3 | our 99.31 | our 99.32 | our 99.33 | our 99.34 | our 99.35 | our 99.36 | our 99.37 | our 99.38 | our 99.39 | our 99.4 | our 99.41 | our 99.42 | our 99.43 | our 99.44 | our 99.45 | our 99.46 | our 99.47 | our 99.48 | our 99.49 | our 99.5 | our 99.51 | our 99.52 | our 99.53 | our 99.54 | our 99.55 | our 99.56 | our 99.57 | our 99.58 | our 99.59 | our 99.6 | our 99.61 | our 99.62 | our 99.63 | our 99.64 | our 99.65 | our 99.66 | our 99.67 | our 99.68 | our 99.69 | our 99.7 | our 99.71 | our 99.72 | our 99.73 | our 99.74 | our 99.75 | our 99.76 | our 99.77 | our 99.78 | our 99.79 | our 99.8 | our 99.81 | our 99.82 | our 99.83 | our 99.84 | our 99.85 | our 99.86 | our 99.87 | our 99.88 | our 99.89 | our 99.9 | our 99.91 | our 99.92 | our 99.93 | our 99.94 | our 99.95 | our 99.96 | our 99.97 | our 99.98 | our 99.99 | "
     ]
    }
   ],
   "source": [
    "res ={}\n",
    "for p in range(9900, 10000):\n",
    "    percentile = p/100    \n",
    "    print(RF_our, percentile, end=\" | \")    \n",
    "    x = {}\n",
    "    x[\"bite_offline\"] = get_bites_frames(\"bite\", \"percentile\", percentile, \"offline\")\n",
    "    x[\"bite_online\"] = get_bites_frames(\"bite\", \"percentile\", percentile, \"online\")\n",
    "    #x[\"frame_offline\"] = get_bites_frames(\"frame\", \"percentile\", percentile, \"offline\")\n",
    "    #x[\"frame_online\"] = get_bites_frames(\"frame\", \"percentile\", percentile, \"online\")    \n",
    "    res[percentile] = x \n",
    "    \n",
    "mfileu.write_file('all_bites_frames', 'all_bites_frames_percentile_{}.pkl'.format(RF_our), res)"
   ]
  },
  {
   "cell_type": "code",
   "execution_count": 37,
   "metadata": {},
   "outputs": [
    {
     "name": "stdout",
     "output_type": "stream",
     "text": [
      "our 0.1\n",
      "our 0.15\n",
      "our 0.2\n",
      "our 0.25\n",
      "our 0.3\n",
      "our 0.35\n",
      "our 0.4\n",
      "our 0.45\n",
      "our 0.5\n",
      "our 0.55\n",
      "our 0.6\n",
      "our 0.65\n",
      "our 0.7\n",
      "our 0.75\n",
      "our 0.8\n",
      "our 0.85\n",
      "our 0.9\n"
     ]
    }
   ],
   "source": [
    "res ={}\n",
    "for p in range(10, 95, 5):\n",
    "    proba = p/100    \n",
    "    print(RF_our, proba)    \n",
    "    x = {}\n",
    "    x[\"bite\"] = get_bites_frames(\"bite\", \"proba\", proba)    \n",
    "    #x[\"frame\"] = get_bites_frames(\"frame\", \"proba\", proba)    \n",
    "    res[proba] = x \n",
    "    \n",
    "mfileu.write_file('all_bites_frames', 'all_bites_frames_proba_{}.pkl'.format(RF_our), res)"
   ]
  },
  {
   "cell_type": "code",
   "execution_count": null,
   "metadata": {},
   "outputs": [],
   "source": []
  }
 ],
 "metadata": {
  "kernelspec": {
   "display_name": "Python 3",
   "language": "python",
   "name": "python3"
  },
  "language_info": {
   "codemirror_mode": {
    "name": "ipython",
    "version": 3
   },
   "file_extension": ".py",
   "mimetype": "text/x-python",
   "name": "python",
   "nbconvert_exporter": "python",
   "pygments_lexer": "ipython3",
   "version": "3.6.4"
  }
 },
 "nbformat": 4,
 "nbformat_minor": 2
}
