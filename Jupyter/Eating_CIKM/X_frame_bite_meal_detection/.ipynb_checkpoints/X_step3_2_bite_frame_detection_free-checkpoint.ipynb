{
 "cells": [
  {
   "cell_type": "code",
   "execution_count": 23,
   "metadata": {},
   "outputs": [],
   "source": [
    "import numpy as np\n",
    "import scipy as sp\n",
    "import os \n",
    "import sys\n",
    "import importlib\n",
    "import bite_detection_utils as bdu\n",
    "import copy"
   ]
  },
  {
   "cell_type": "code",
   "execution_count": 24,
   "metadata": {},
   "outputs": [],
   "source": [
    "util_path = 'C:/ASM/Dropbox/Developments/Jupyter/Eating/myutils' if 'C:' in os.getcwd() else './myutils'\n",
    "sys.path.append(util_path)\n",
    "import my_file_utils as mfileu\n",
    "#importlib.reload(mdu)"
   ]
  },
  {
   "cell_type": "code",
   "execution_count": 25,
   "metadata": {},
   "outputs": [],
   "source": [
    "annots = mfileu.read_file('data', 'free_annots_steven_processed.pkl')"
   ]
  },
  {
   "cell_type": "code",
   "execution_count": 26,
   "metadata": {},
   "outputs": [],
   "source": [
    "RF_our ='our'\n",
    "all_proba = mfileu.read_file('all_proba2', 'all_proba_bite_free_{}.pkl'.format(RF_our))\n",
    "pct_proba = mfileu.read_file('pct_proba2', 'pct_proba_bite_free_{}.pkl'.format(RF_our))"
   ]
  },
  {
   "cell_type": "code",
   "execution_count": 27,
   "metadata": {},
   "outputs": [],
   "source": [
    "def get_labels_free(indices, a):\n",
    "    if len(indices)==0:\n",
    "        return []\n",
    "    \n",
    "    count = len(indices)    \n",
    "    labels=np.zeros((count, 2))\n",
    "    \n",
    "    isBite = True if indices.shape[1]>1 else False\n",
    "    \n",
    "    acount = len(a)    \n",
    "    for i in range(acount):                 \n",
    "        ix1 = a[i, 0]\n",
    "        ix2 = a[i, 1]\n",
    "        if isBite:\n",
    "            cond = (indices[:,1]>=ix1) & (indices[:,0]<=ix2)\n",
    "        else:\n",
    "            cond = (indices[:, 0]>=ix1) & (indices[:, 0]<=ix2)\n",
    "            \n",
    "        labels[cond, 0] = a[i, 2]\n",
    "    \n",
    "    cond = (labels[:,0]==1) | (labels[:,0]==2)\n",
    "    labels[cond, 1] = 1\n",
    "    \n",
    "    return labels.astype(int)"
   ]
  },
  {
   "cell_type": "code",
   "execution_count": 28,
   "metadata": {},
   "outputs": [],
   "source": [
    "def get_bites_frames(bite_frame, percentile_proba, percentile_proba_val, off_on=None):\n",
    "    assert off_on in [None, \"offline\", \"online\"]\n",
    "    assert bite_frame in [\"bite\", \"frame\"]    \n",
    "    assert percentile_proba in [\"percentile\", \"proba\"]    \n",
    "    \n",
    "    \n",
    "    ba = mfileu.read_file('data', 'free_data_steven_blank_array.pkl')\n",
    "    tp, fp = 0, 0\n",
    "    \n",
    "    for subj in range(len(ba)):\n",
    "        for sess in range(len(ba[subj])):\n",
    "            a = annots[subj][sess]            \n",
    "            ix_proba = all_proba[subj][sess][:, :2]\n",
    "            \n",
    "            if percentile_proba=='percentile':\n",
    "                cond  = (pct_proba[:, 0]==subj) & (pct_proba[:, 1]==sess) & (pct_proba[:, 2]==percentile_proba_val)\n",
    "                assert np.sum(cond)==1                        \n",
    "                proba_th = pct_proba[cond, -2] if off_on==\"offline\" else pct_proba[cond, -1]\n",
    "            else:\n",
    "                proba_th = percentile_proba_val\n",
    "            \n",
    "            if bite_frame==\"bite\":\n",
    "                indices = bdu.detect_bites(ix_proba, proba_th=proba_th, ix_offset=40) \n",
    "                ba[subj][sess] = indices\n",
    "                    \n",
    "            else:\n",
    "                ix = ix_proba[:, 0]+40\n",
    "                proba = ix_proba[:, 1]            \n",
    "                indices = ix[proba>=proba_th].reshape((-1, 1))\n",
    "            \n",
    "                l = get_labels_free(indices, a)            \n",
    "                ba[subj][sess] = np.concatenate((indices, l), axis=1).astype(int)                \n",
    "                \n",
    "                tp_1 = np.sum(l[:,1]==1)\n",
    "                fp_1 = len(l) - tp_1\n",
    "                \n",
    "                tp += tp_1\n",
    "                fp += fp_1           \n",
    "            \n",
    "    \n",
    "    res = {\"list\":ba, \"tp\":tp, \"fp\":fp}\n",
    "    return res"
   ]
  },
  {
   "cell_type": "code",
   "execution_count": 29,
   "metadata": {},
   "outputs": [
    {
     "name": "stdout",
     "output_type": "stream",
     "text": [
      "RF 98.0 | RF 98.01 | RF 98.02 | RF 98.03 | RF 98.04 | RF 98.05 | RF 98.06 | RF 98.07 | RF 98.08 | RF 98.09 | RF 98.1 | RF 98.11 | RF 98.12 | RF 98.13 | RF 98.14 | RF 98.15 | RF 98.16 | RF 98.17 | RF 98.18 | RF 98.19 | RF 98.2 | RF 98.21 | RF 98.22 | RF 98.23 | RF 98.24 | RF 98.25 | RF 98.26 | RF 98.27 | RF 98.28 | RF 98.29 | RF 98.3 | RF 98.31 | RF 98.32 | RF 98.33 | RF 98.34 | RF 98.35 | RF 98.36 | RF 98.37 | RF 98.38 | RF 98.39 | RF 98.4 | RF 98.41 | RF 98.42 | RF 98.43 | RF 98.44 | RF 98.45 | RF 98.46 | RF 98.47 | RF 98.48 | RF 98.49 | RF 98.5 | RF 98.51 | RF 98.52 | RF 98.53 | RF 98.54 | RF 98.55 | RF 98.56 | RF 98.57 | RF 98.58 | RF 98.59 | RF 98.6 | RF 98.61 | RF 98.62 | RF 98.63 | RF 98.64 | RF 98.65 | RF 98.66 | RF 98.67 | RF 98.68 | RF 98.69 | RF 98.7 | RF 98.71 | RF 98.72 | RF 98.73 | RF 98.74 | RF 98.75 | RF 98.76 | RF 98.77 | "
     ]
    },
    {
     "ename": "KeyboardInterrupt",
     "evalue": "",
     "output_type": "error",
     "traceback": [
      "\u001b[1;31m---------------------------------------------------------------------------\u001b[0m",
      "\u001b[1;31mKeyboardInterrupt\u001b[0m                         Traceback (most recent call last)",
      "\u001b[1;32m<ipython-input-29-5aa4d6af3f2f>\u001b[0m in \u001b[0;36m<module>\u001b[1;34m()\u001b[0m\n\u001b[0;32m      5\u001b[0m     \u001b[0mx\u001b[0m \u001b[1;33m=\u001b[0m \u001b[1;33m{\u001b[0m\u001b[1;33m}\u001b[0m\u001b[1;33m\u001b[0m\u001b[0m\n\u001b[0;32m      6\u001b[0m     \u001b[0mx\u001b[0m\u001b[1;33m[\u001b[0m\u001b[1;34m\"bite_offline\"\u001b[0m\u001b[1;33m]\u001b[0m \u001b[1;33m=\u001b[0m \u001b[0mget_bites_frames\u001b[0m\u001b[1;33m(\u001b[0m\u001b[1;34m\"bite\"\u001b[0m\u001b[1;33m,\u001b[0m \u001b[1;34m\"percentile\"\u001b[0m\u001b[1;33m,\u001b[0m \u001b[0mpercentile\u001b[0m\u001b[1;33m,\u001b[0m \u001b[1;34m\"offline\"\u001b[0m\u001b[1;33m)\u001b[0m\u001b[1;33m\u001b[0m\u001b[0m\n\u001b[1;32m----> 7\u001b[1;33m     \u001b[0mx\u001b[0m\u001b[1;33m[\u001b[0m\u001b[1;34m\"bite_online\"\u001b[0m\u001b[1;33m]\u001b[0m \u001b[1;33m=\u001b[0m \u001b[0mget_bites_frames\u001b[0m\u001b[1;33m(\u001b[0m\u001b[1;34m\"bite\"\u001b[0m\u001b[1;33m,\u001b[0m \u001b[1;34m\"percentile\"\u001b[0m\u001b[1;33m,\u001b[0m \u001b[0mpercentile\u001b[0m\u001b[1;33m,\u001b[0m \u001b[1;34m\"online\"\u001b[0m\u001b[1;33m)\u001b[0m\u001b[1;33m\u001b[0m\u001b[0m\n\u001b[0m\u001b[0;32m      8\u001b[0m     \u001b[1;31m#x[\"frame_offline\"] = get_bites_frames(\"frame\", \"percentile\", percentile, \"offline\")\u001b[0m\u001b[1;33m\u001b[0m\u001b[1;33m\u001b[0m\u001b[0m\n\u001b[0;32m      9\u001b[0m     \u001b[1;31m#x[\"frame_online\"] = get_bites_frames(\"frame\", \"percentile\", percentile, \"online\")\u001b[0m\u001b[1;33m\u001b[0m\u001b[1;33m\u001b[0m\u001b[0m\n",
      "\u001b[1;32m<ipython-input-28-49eba5690da8>\u001b[0m in \u001b[0;36mget_bites_frames\u001b[1;34m(bite_frame, percentile_proba, percentile_proba_val, off_on)\u001b[0m\n\u001b[0;32m     21\u001b[0m \u001b[1;33m\u001b[0m\u001b[0m\n\u001b[0;32m     22\u001b[0m             \u001b[1;32mif\u001b[0m \u001b[0mbite_frame\u001b[0m\u001b[1;33m==\u001b[0m\u001b[1;34m\"bite\"\u001b[0m\u001b[1;33m:\u001b[0m\u001b[1;33m\u001b[0m\u001b[0m\n\u001b[1;32m---> 23\u001b[1;33m                 \u001b[0mindices\u001b[0m \u001b[1;33m=\u001b[0m \u001b[0mbdu\u001b[0m\u001b[1;33m.\u001b[0m\u001b[0mdetect_bites\u001b[0m\u001b[1;33m(\u001b[0m\u001b[0mix_proba\u001b[0m\u001b[1;33m,\u001b[0m \u001b[0mproba_th\u001b[0m\u001b[1;33m=\u001b[0m\u001b[0mproba_th\u001b[0m\u001b[1;33m,\u001b[0m \u001b[0mix_offset\u001b[0m\u001b[1;33m=\u001b[0m\u001b[1;36m40\u001b[0m\u001b[1;33m)\u001b[0m\u001b[1;33m\u001b[0m\u001b[0m\n\u001b[0m\u001b[0;32m     24\u001b[0m                 \u001b[0mba\u001b[0m\u001b[1;33m[\u001b[0m\u001b[0msubj\u001b[0m\u001b[1;33m]\u001b[0m\u001b[1;33m[\u001b[0m\u001b[0msess\u001b[0m\u001b[1;33m]\u001b[0m \u001b[1;33m=\u001b[0m \u001b[0mindices\u001b[0m\u001b[1;33m\u001b[0m\u001b[0m\n\u001b[0;32m     25\u001b[0m \u001b[1;33m\u001b[0m\u001b[0m\n",
      "\u001b[1;32mC:\\ASM\\Dropbox\\Developments\\Jupyter\\Eating_CIKM\\bite_frame_detection\\bite_detection_utils.py\u001b[0m in \u001b[0;36mdetect_bites\u001b[1;34m(ix_proba, proba_th, ix_offset)\u001b[0m\n\u001b[0;32m     57\u001b[0m     \u001b[0mpeaks\u001b[0m \u001b[1;33m=\u001b[0m \u001b[1;33m[\u001b[0m\u001b[1;33m]\u001b[0m\u001b[1;33m\u001b[0m\u001b[0m\n\u001b[0;32m     58\u001b[0m     \u001b[1;32mfor\u001b[0m \u001b[0mi\u001b[0m \u001b[1;32min\u001b[0m \u001b[0mrange\u001b[0m\u001b[1;33m(\u001b[0m\u001b[1;36m1\u001b[0m\u001b[1;33m,\u001b[0m \u001b[0mcount\u001b[0m\u001b[1;33m-\u001b[0m\u001b[1;36m1\u001b[0m\u001b[1;33m)\u001b[0m\u001b[1;33m:\u001b[0m\u001b[1;33m\u001b[0m\u001b[0m\n\u001b[1;32m---> 59\u001b[1;33m         \u001b[1;32mif\u001b[0m \u001b[0mproba\u001b[0m\u001b[1;33m[\u001b[0m\u001b[0mi\u001b[0m\u001b[1;33m-\u001b[0m\u001b[1;36m1\u001b[0m\u001b[1;33m]\u001b[0m\u001b[1;33m<\u001b[0m\u001b[0mproba\u001b[0m\u001b[1;33m[\u001b[0m\u001b[0mi\u001b[0m\u001b[1;33m]\u001b[0m\u001b[1;33m<=\u001b[0m\u001b[0mproba\u001b[0m\u001b[1;33m[\u001b[0m\u001b[0mi\u001b[0m\u001b[1;33m+\u001b[0m\u001b[1;36m1\u001b[0m\u001b[1;33m]\u001b[0m \u001b[1;32mand\u001b[0m \u001b[0mproba\u001b[0m\u001b[1;33m[\u001b[0m\u001b[0mi\u001b[0m\u001b[1;33m]\u001b[0m\u001b[1;33m>=\u001b[0m\u001b[0mproba_th\u001b[0m\u001b[1;33m:\u001b[0m\u001b[1;33m\u001b[0m\u001b[0m\n\u001b[0m\u001b[0;32m     60\u001b[0m             \u001b[0mpeaks\u001b[0m\u001b[1;33m.\u001b[0m\u001b[0mappend\u001b[0m\u001b[1;33m(\u001b[0m\u001b[0mi\u001b[0m\u001b[1;33m)\u001b[0m\u001b[1;33m\u001b[0m\u001b[0m\n\u001b[0;32m     61\u001b[0m     \u001b[1;31m#print(len(peaks))\u001b[0m\u001b[1;33m\u001b[0m\u001b[1;33m\u001b[0m\u001b[0m\n",
      "\u001b[1;31mKeyboardInterrupt\u001b[0m: "
     ]
    }
   ],
   "source": [
    "res ={}\n",
    "for p in range(9900, 10000):\n",
    "    percentile = p/100    \n",
    "    print(RF_our, percentile, end=\" | \")    \n",
    "    x = {}\n",
    "    x[\"bite_offline\"] = get_bites_frames(\"bite\", \"percentile\", percentile, \"offline\")\n",
    "    x[\"bite_online\"] = get_bites_frames(\"bite\", \"percentile\", percentile, \"online\")\n",
    "    #x[\"frame_offline\"] = get_bites_frames(\"frame\", \"percentile\", percentile, \"offline\")\n",
    "    #x[\"frame_online\"] = get_bites_frames(\"frame\", \"percentile\", percentile, \"online\")    \n",
    "    res[percentile] = x \n",
    "    \n",
    "mfileu.write_file('all_bites_frames', 'all_bites_frames_percentile_{}.pkl'.format(RF_our), res)"
   ]
  },
  {
   "cell_type": "code",
   "execution_count": null,
   "metadata": {},
   "outputs": [],
   "source": [
    "res ={}\n",
    "for p in range(10, 95, 5):\n",
    "    proba = p/100    \n",
    "    print(RF_our, proba)    \n",
    "    x = {}\n",
    "    x[\"bite\"] = get_bites_frames(\"bite\", \"proba\", proba)    \n",
    "    #x[\"frame\"] = get_bites_frames(\"frame\", \"proba\", proba)    \n",
    "    res[proba] = x \n",
    "    \n",
    "mfileu.write_file('all_bites_frames', 'all_bites_frames_proba_{}.pkl'.format(RF_our), res)"
   ]
  },
  {
   "cell_type": "code",
   "execution_count": null,
   "metadata": {},
   "outputs": [],
   "source": []
  }
 ],
 "metadata": {
  "kernelspec": {
   "display_name": "Python 3",
   "language": "python",
   "name": "python3"
  },
  "language_info": {
   "codemirror_mode": {
    "name": "ipython",
    "version": 3
   },
   "file_extension": ".py",
   "mimetype": "text/x-python",
   "name": "python",
   "nbconvert_exporter": "python",
   "pygments_lexer": "ipython3",
   "version": "3.6.4"
  }
 },
 "nbformat": 4,
 "nbformat_minor": 2
}
