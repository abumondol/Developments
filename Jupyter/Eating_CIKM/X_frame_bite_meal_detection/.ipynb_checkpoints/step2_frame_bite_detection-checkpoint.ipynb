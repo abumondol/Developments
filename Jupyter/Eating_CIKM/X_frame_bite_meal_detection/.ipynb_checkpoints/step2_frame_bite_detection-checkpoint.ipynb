{
 "cells": [
  {
   "cell_type": "code",
   "execution_count": 1,
   "metadata": {},
   "outputs": [],
   "source": [
    "import numpy as np\n",
    "import os \n",
    "import sys\n",
    "import importlib\n",
    "import copy"
   ]
  },
  {
   "cell_type": "code",
   "execution_count": 2,
   "metadata": {},
   "outputs": [],
   "source": [
    "util_path = 'C:/ASM/Dropbox/Developments/Jupyter/Eating/myutils' if 'C:' in os.getcwd() else './myutils'\n",
    "sys.path.append(util_path)\n",
    "import my_file_utils as mfileu"
   ]
  },
  {
   "cell_type": "code",
   "execution_count": 13,
   "metadata": {},
   "outputs": [
    {
     "name": "stdout",
     "output_type": "stream",
     "text": [
      "Lab/Free:  lab\n"
     ]
    }
   ],
   "source": [
    "lab_free = 'lab'\n",
    "assert lab_free in ['lab', 'free']\n",
    "print(\"Lab/Free: \", lab_free)\n",
    "\n",
    "all_proba = mfileu.read_file('generated_for_result', 'all_proba_{}.pkl'.format(lab_free))\n",
    "all_pct_proba = mfileu.read_file('generated_for_result', 'all_pct_proba_{}.pkl'.format(lab_free))\n",
    "blank_array = mfileu.read_file('data', '{}_data_steven_blank_array.pkl'.format(lab_free))"
   ]
  },
  {
   "cell_type": "code",
   "execution_count": 5,
   "metadata": {},
   "outputs": [],
   "source": [
    "def detect_bites(ix_proba, proba_th):\n",
    "    min_interval = 1*16\n",
    "    \n",
    "    count = len(ix_proba)\n",
    "    ix = ix_proba[:, 0]\n",
    "    proba = ix_proba[:, 1]    \n",
    "    \n",
    "    peaks = []    \n",
    "    for i in range(1, count-1):\n",
    "        if proba[i-1]<proba[i]<=proba[i+1] and proba[i]>=proba_th:        \n",
    "            peaks.append(i)\n",
    "    #print(len(peaks))\n",
    "    \n",
    "    if len(peaks)==0:\n",
    "        return []\n",
    "    elif len(peaks)==1:\n",
    "        return np.array([ix[peaks[0]]])\n",
    "    \n",
    "    while True:\n",
    "        count = len(peaks)\n",
    "        if count<=1:\n",
    "            break\n",
    "        \n",
    "        bites = []\n",
    "        \n",
    "        if proba[peaks[0]]>proba[peaks[1]] or ix[peaks[1]] - ix[peaks[0]]>=min_interval:\n",
    "            bites.append(peaks[0])            \n",
    "        \n",
    "        for i in range(1, count-1):\n",
    "            cond1 = (proba[peaks[i]]>proba[peaks[i+1]]) and proba[peaks[i]]>proba[peaks[i-1]]\n",
    "            cond2 = (ix[peaks[i+1]] - ix[peaks[i]]>=2*16) and (ix[peaks[i]] - ix[peaks[i-1]]>=min_interval)\n",
    "            if cond1 or cond2:\n",
    "                bites.append(peaks[i])\n",
    "    \n",
    "        if proba[peaks[count-1]]>proba[peaks[count-2]] or ix[peaks[count-1]] - ix[peaks[count-2]]>=min_interval:\n",
    "            bites.append(peaks[count-1])\n",
    "    \n",
    "        if len(bites)==len(peaks):\n",
    "            break\n",
    "            \n",
    "        peaks = bites\n",
    "    \n",
    "    \n",
    "    if len(peaks)==0:\n",
    "        return []\n",
    "    \n",
    "    indices = [ix[i] for i in peaks]\n",
    "    return np.array(indices).astype(int)"
   ]
  },
  {
   "cell_type": "code",
   "execution_count": 14,
   "metadata": {},
   "outputs": [],
   "source": [
    "def get_frames_bites(ix_proba, percentile_proba, percentile_proba_val, pct_proba=None, off_on=None):\n",
    "    assert off_on in [None, \"offline\", \"online\"]      \n",
    "    assert percentile_proba in [\"percentile\", \"proba\"]    \n",
    "    \n",
    "    frames = copy.deepcopy(blank_array)\n",
    "    bites = copy.deepcopy(blank_array)\n",
    "    \n",
    "    for subj in range(len(ba)):\n",
    "        for sess in range(len(ba[subj])):            \n",
    "            ix_p = ix_proba[subj][sess][:, :2]\n",
    "            ix_p[:, 0] = ix_p[:, 0]+40 #add offset\n",
    "            \n",
    "            if percentile_proba=='percentile':                \n",
    "                cond  = (pct_proba[:, 0]==subj) & (pct_proba[:, 1]==sess) & (pct_proba[:, 2]==percentile_proba_val)\n",
    "                assert np.sum(cond)==1                        \n",
    "                proba_th = pct_proba[cond, -2] if off_on==\"offline\" else pct_proba[cond, -1]\n",
    "            else:\n",
    "                proba_th = percentile_proba_val\n",
    "            \n",
    "            print(subj, sess, proba_th)\n",
    "                        \n",
    "            #frames[subj][sess] = ix_p[ix_p[:, 1]>=proba_th, :]            \n",
    "            bites[subj][sess] = detect_bites(ix_p, proba_th=proba_th)                            \n",
    "            \n",
    "    assert len(frames)>=len(bites)        \n",
    "    return frames, bites"
   ]
  },
  {
   "cell_type": "code",
   "execution_count": 15,
   "metadata": {},
   "outputs": [],
   "source": [
    "def get_frames_bites_all(clf):    \n",
    "    \n",
    "    ix_proba = all_proba[clf]\n",
    "    pct_proba = all_pct_proba[clf]\n",
    "    \n",
    "    frames = {\"proba\":{}, \"percentile_offline\":{}, \"percentile_online\":{} }\n",
    "    bites = {\"proba\":{}, \"percentile_offline\":{}, \"percentile_online\":{} }    \n",
    "        \n",
    "    for p in range(10, 95, 5):            \n",
    "        proba = p/100\n",
    "        print(proba, end=\" | \")\n",
    "        #f, b = get_frames_bites(ix_proba, \"proba\", percentile_proba_val=proba, blank_array=ba)             \n",
    "        #frames[\"proba\"][proba] = f   \n",
    "        #bites[\"proba\"][proba] = b\n",
    "\n",
    "    for p in range(9900, 10000, 10):\n",
    "        percentile = p/100                            \n",
    "        print(percentile, end=\" | \")\n",
    "\n",
    "        f, b = get_frames_bites(ix_proba, \"percentile\", percentile_proba_val=percentile, pct_proba=pct_proba, off_on=\"offline\")\n",
    "        frames[\"percentile_offline\"][percentile] = f\n",
    "        bites[\"percentile_offline\"][percentile] = b\n",
    "\n",
    "        if lab_free == 'free':\n",
    "            f, b = get_frames_bites(ix_proba, \"percentile\", percentile_proba_val=percentile, pct_proba=pct_proba, off_on=\"online\")\n",
    "            frames[\"percentile_online\"][percentile] = f\n",
    "            bites[\"percentile_online\"][percentile] = b\n",
    "    \n",
    "    return frames, bites\n",
    "   "
   ]
  },
  {
   "cell_type": "code",
   "execution_count": 16,
   "metadata": {},
   "outputs": [
    {
     "name": "stdout",
     "output_type": "stream",
     "text": [
      "\n",
      "\n",
      "-------------- lab RF --------------\n",
      "0.1 | 0.15 | 0.2 | 0.25 | 0.3 | 0.35 | 0.4 | 0.45 | 0.5 | 0.55 | 0.6 | 0.65 | 0.7 | 0.75 | 0.8 | 0.85 | 0.9 | 99.0 | "
     ]
    },
    {
     "ename": "NameError",
     "evalue": "name 'sub' is not defined",
     "output_type": "error",
     "traceback": [
      "\u001b[1;31m---------------------------------------------------------------------------\u001b[0m",
      "\u001b[1;31mNameError\u001b[0m                                 Traceback (most recent call last)",
      "\u001b[1;32m<ipython-input-16-e1cf2526d39b>\u001b[0m in \u001b[0;36m<module>\u001b[1;34m()\u001b[0m\n\u001b[0;32m      2\u001b[0m \u001b[1;32mfor\u001b[0m \u001b[0mclf\u001b[0m \u001b[1;32min\u001b[0m \u001b[1;33m[\u001b[0m\u001b[1;34m'RF'\u001b[0m\u001b[1;33m,\u001b[0m \u001b[1;34m'our'\u001b[0m\u001b[1;33m]\u001b[0m\u001b[1;33m:\u001b[0m\u001b[1;33m\u001b[0m\u001b[0m\n\u001b[0;32m      3\u001b[0m     \u001b[0mprint\u001b[0m\u001b[1;33m(\u001b[0m\u001b[1;34m\"\\n\\n--------------\"\u001b[0m\u001b[1;33m,\u001b[0m \u001b[0mlab_free\u001b[0m\u001b[1;33m,\u001b[0m \u001b[0mclf\u001b[0m\u001b[1;33m,\u001b[0m \u001b[1;34m\"--------------\"\u001b[0m\u001b[1;33m)\u001b[0m\u001b[1;33m\u001b[0m\u001b[0m\n\u001b[1;32m----> 4\u001b[1;33m     \u001b[0mf\u001b[0m\u001b[1;33m,\u001b[0m \u001b[0mb\u001b[0m \u001b[1;33m=\u001b[0m \u001b[0mget_frames_bites_all\u001b[0m\u001b[1;33m(\u001b[0m\u001b[0mclf\u001b[0m\u001b[1;33m)\u001b[0m\u001b[1;33m\u001b[0m\u001b[0m\n\u001b[0m\u001b[0;32m      5\u001b[0m     \u001b[0mframes\u001b[0m\u001b[1;33m[\u001b[0m\u001b[0mclf\u001b[0m\u001b[1;33m]\u001b[0m \u001b[1;33m=\u001b[0m \u001b[0mf\u001b[0m\u001b[1;33m\u001b[0m\u001b[0m\n\u001b[0;32m      6\u001b[0m     \u001b[0mbites\u001b[0m\u001b[1;33m[\u001b[0m\u001b[0mclf\u001b[0m\u001b[1;33m]\u001b[0m \u001b[1;33m=\u001b[0m \u001b[0mb\u001b[0m\u001b[1;33m\u001b[0m\u001b[0m\n",
      "\u001b[1;32m<ipython-input-15-b6adbd031555>\u001b[0m in \u001b[0;36mget_frames_bites_all\u001b[1;34m(clf)\u001b[0m\n\u001b[0;32m     18\u001b[0m         \u001b[0mprint\u001b[0m\u001b[1;33m(\u001b[0m\u001b[0mpercentile\u001b[0m\u001b[1;33m,\u001b[0m \u001b[0mend\u001b[0m\u001b[1;33m=\u001b[0m\u001b[1;34m\" | \"\u001b[0m\u001b[1;33m)\u001b[0m\u001b[1;33m\u001b[0m\u001b[0m\n\u001b[0;32m     19\u001b[0m \u001b[1;33m\u001b[0m\u001b[0m\n\u001b[1;32m---> 20\u001b[1;33m         \u001b[0mf\u001b[0m\u001b[1;33m,\u001b[0m \u001b[0mb\u001b[0m \u001b[1;33m=\u001b[0m \u001b[0mget_frames_bites\u001b[0m\u001b[1;33m(\u001b[0m\u001b[0mix_proba\u001b[0m\u001b[1;33m,\u001b[0m \u001b[1;34m\"percentile\"\u001b[0m\u001b[1;33m,\u001b[0m \u001b[0mpercentile_proba_val\u001b[0m\u001b[1;33m=\u001b[0m\u001b[0mpercentile\u001b[0m\u001b[1;33m,\u001b[0m \u001b[0mpct_proba\u001b[0m\u001b[1;33m=\u001b[0m\u001b[0mpct_proba\u001b[0m\u001b[1;33m,\u001b[0m \u001b[0moff_on\u001b[0m\u001b[1;33m=\u001b[0m\u001b[1;34m\"offline\"\u001b[0m\u001b[1;33m)\u001b[0m\u001b[1;33m\u001b[0m\u001b[0m\n\u001b[0m\u001b[0;32m     21\u001b[0m         \u001b[0mframes\u001b[0m\u001b[1;33m[\u001b[0m\u001b[1;34m\"percentile_offline\"\u001b[0m\u001b[1;33m]\u001b[0m\u001b[1;33m[\u001b[0m\u001b[0mpercentile\u001b[0m\u001b[1;33m]\u001b[0m \u001b[1;33m=\u001b[0m \u001b[0mf\u001b[0m\u001b[1;33m\u001b[0m\u001b[0m\n\u001b[0;32m     22\u001b[0m         \u001b[0mbites\u001b[0m\u001b[1;33m[\u001b[0m\u001b[1;34m\"percentile_offline\"\u001b[0m\u001b[1;33m]\u001b[0m\u001b[1;33m[\u001b[0m\u001b[0mpercentile\u001b[0m\u001b[1;33m]\u001b[0m \u001b[1;33m=\u001b[0m \u001b[0mb\u001b[0m\u001b[1;33m\u001b[0m\u001b[0m\n",
      "\u001b[1;32m<ipython-input-14-2b696be91bc3>\u001b[0m in \u001b[0;36mget_frames_bites\u001b[1;34m(ix_proba, percentile_proba, percentile_proba_val, pct_proba, off_on)\u001b[0m\n\u001b[0;32m     18\u001b[0m                 \u001b[0mproba_th\u001b[0m \u001b[1;33m=\u001b[0m \u001b[0mpercentile_proba_val\u001b[0m\u001b[1;33m\u001b[0m\u001b[0m\n\u001b[0;32m     19\u001b[0m \u001b[1;33m\u001b[0m\u001b[0m\n\u001b[1;32m---> 20\u001b[1;33m             \u001b[0mprint\u001b[0m\u001b[1;33m(\u001b[0m\u001b[0msub\u001b[0m\u001b[1;33m,\u001b[0m \u001b[0msess\u001b[0m\u001b[1;33m,\u001b[0m \u001b[0mproba_th\u001b[0m\u001b[1;33m)\u001b[0m\u001b[1;33m\u001b[0m\u001b[0m\n\u001b[0m\u001b[0;32m     21\u001b[0m \u001b[1;33m\u001b[0m\u001b[0m\n\u001b[0;32m     22\u001b[0m             \u001b[1;31m#frames[subj][sess] = ix_p[ix_p[:, 1]>=proba_th, :]\u001b[0m\u001b[1;33m\u001b[0m\u001b[1;33m\u001b[0m\u001b[0m\n",
      "\u001b[1;31mNameError\u001b[0m: name 'sub' is not defined"
     ]
    }
   ],
   "source": [
    "frames, bites = {}, {}\n",
    "for clf in ['RF', 'our']:        \n",
    "    print(\"\\n\\n--------------\", lab_free, clf, \"--------------\")\n",
    "    f, b = get_frames_bites_all(clf)\n",
    "    frames[clf] = f\n",
    "    bites[clf] = b\n",
    "            \n",
    "mfileu.write_file('generated_for_result', 'all_frames_{}.pkl'.format(lab_free), frames)\n",
    "mfileu.write_file('generated_for_result', 'all_bites_{}.pkl'.format(lab_free), bites)\n",
    "print(\"Done!!!\")"
   ]
  },
  {
   "cell_type": "code",
   "execution_count": null,
   "metadata": {},
   "outputs": [],
   "source": []
  }
 ],
 "metadata": {
  "kernelspec": {
   "display_name": "Python 3",
   "language": "python",
   "name": "python3"
  },
  "language_info": {
   "codemirror_mode": {
    "name": "ipython",
    "version": 3
   },
   "file_extension": ".py",
   "mimetype": "text/x-python",
   "name": "python",
   "nbconvert_exporter": "python",
   "pygments_lexer": "ipython3",
   "version": "3.6.4"
  }
 },
 "nbformat": 4,
 "nbformat_minor": 2
}
