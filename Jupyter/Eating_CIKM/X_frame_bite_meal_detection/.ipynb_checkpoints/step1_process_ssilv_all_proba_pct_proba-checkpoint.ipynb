{
 "cells": [
  {
   "cell_type": "code",
   "execution_count": 1,
   "metadata": {},
   "outputs": [],
   "source": [
    "import numpy as np\n",
    "import scipy as sp\n",
    "import os \n",
    "import sys\n",
    "import importlib"
   ]
  },
  {
   "cell_type": "code",
   "execution_count": 2,
   "metadata": {},
   "outputs": [],
   "source": [
    "util_path = 'C:/ASM/Dropbox/Developments/Jupyter/Eating/myutils' if 'C:' in os.getcwd() else './myutils'\n",
    "sys.path.append(util_path)\n",
    "import my_file_utils as mfileu\n",
    "#importlib.reload(mdu)"
   ]
  },
  {
   "cell_type": "code",
   "execution_count": 3,
   "metadata": {},
   "outputs": [],
   "source": [
    "def get_percentile_proba_other_sess(all_proba, subj, exclude_sess, percentile):\n",
    "    other_p = []\n",
    "    for sess in range(len(all_proba[subj])):\n",
    "        if sess == exclude_sess:\n",
    "            continue\n",
    "        p = all_proba[subj][sess][:, -1]    \n",
    "        other_p = p if len(other_p)==0 else np.concatenate((other_p, p))\n",
    "            \n",
    "    return np.percentile(other_p, percentile)"
   ]
  },
  {
   "cell_type": "code",
   "execution_count": 4,
   "metadata": {},
   "outputs": [],
   "source": [
    "def get_percentile_proba_all(all_proba, isLab=False):    \n",
    "    pct_proba=[]\n",
    "    for subj in range(len(all_proba)):\n",
    "        for sess in range(len(all_proba[subj])):\n",
    "            for p in range(9800, 10000):                \n",
    "                percentile = p/100\n",
    "                p_off = np.percentile(all_proba[subj][sess][:, -1] , percentile)\n",
    "                p_on = 0 if isLab else get_percentile_proba_other_sess(all_proba, subj=subj, exclude_sess=sess, percentile=percentile)                     \n",
    "                pct_proba.append([subj, sess, percentile, p_off, p_on])                \n",
    "                \n",
    "    return np.array(pct_proba)"
   ]
  },
  {
   "cell_type": "code",
   "execution_count": 6,
   "metadata": {},
   "outputs": [
    {
     "name": "stdout",
     "output_type": "stream",
     "text": [
      "Lab/Free:  lab\n",
      "\n",
      "Processing ssilv: \n",
      "(363907, 5) | (374208, 5) | (345359, 5) | (367163, 5) | (339285, 5) | (351222, 5) | (346496, 5) | (351501, 5) | (346299, 5) | (339873, 5) | (362059, 5) | (341448, 5) | (338529, 5) | \n",
      "\n",
      "Processing all_proba:  RF\n",
      "(363907, 3) , (45489, 2) | (374208, 3) , (46776, 2) | (345359, 3) , (43170, 2) | (367163, 3) , (45896, 2) | (339285, 3) , (42411, 2) | (351222, 3) , (43903, 2) | (346496, 3) , (43312, 2) | (351501, 3) , (43938, 2) | (346299, 3) , (43288, 2) | (339873, 3) , (42485, 2) | (362059, 3) , (45258, 2) | (341448, 3) , (42681, 2) | (338529, 3) , (42317, 2) | \n",
      "\n",
      "Processing pct_proba:  RF\n",
      "\n",
      "\n",
      "Processing all_proba:  our\n",
      "(363907, 3) , (45489, 2) | (374208, 3) , (46776, 2) | (345359, 3) , (43170, 2) | (367163, 3) , (45896, 2) | (339285, 3) , (42411, 2) | (351222, 3) , (43903, 2) | (346496, 3) , (43312, 2) | (351501, 3) , (43938, 2) | (346299, 3) , (43288, 2) | (339873, 3) , (42485, 2) | (362059, 3) , (45258, 2) | (341448, 3) , (42681, 2) | (338529, 3) , (42317, 2) | \n",
      "\n",
      "Processing pct_proba:  our\n",
      "Done\n"
     ]
    }
   ],
   "source": [
    "step_size = 8\n",
    "\n",
    "lab_free = 'lab'\n",
    "assert lab_free in ['lab', 'free']\n",
    "print(\"Lab/Free: \", lab_free)\n",
    "\n",
    "print(\"\\nProcessing ssilv: \")\n",
    "ssilv = mfileu.read_file('ssilv', '{}_ssilv_steven_right.pkl'.format(lab_free))\n",
    "for subj in range(len(ssilv)):\n",
    "    for sess in range(len(ssilv[subj])):\n",
    "        print(ssilv[subj][sess].shape, end=\" | \")\n",
    "        ssilv[subj][sess] = ssilv[subj][sess][::step_size, :]\n",
    "\n",
    "\n",
    "res_ap, res_pct = {}, {}\n",
    "for clf in ['RF', 'our']:         \n",
    "    print(\"\\n\\nProcessing all_proba: \", clf)        \n",
    "    ap = mfileu.read_file('all_proba', 'all_proba_frame_{}_{}.pkl'.format(lab_free, clf))\n",
    "    for subj in range(len(ap)):\n",
    "        for sess in range(len(ap[subj])):\n",
    "            print(ap[subj][sess].shape, end=\" , \")\n",
    "            ap[subj][sess] = ap[subj][sess][::step_size, :2]\n",
    "            print(ap[subj][sess].shape, end=\" | \")\n",
    "    res_ap[clf] = ap        \n",
    "\n",
    "    print(\"\\n\\nProcessing pct_proba: \", clf)                \n",
    "    isLab = True if lab_free=='lab' else False\n",
    "    pct_proba = get_percentile_proba_all(ap, isLab)\n",
    "    res_pct[clf] = pct_proba\n",
    "\n",
    "mfileu.write_file('generated_for_result', 'all_ssilv_{}.pkl'.format(lab_free), ssilv)\n",
    "mfileu.write_file('generated_for_result', 'all_proba_{}.pkl'.format(lab_free), res_ap)\n",
    "mfileu.write_file('generated_for_result', 'all_pct_proba_{}.pkl'.format(lab_free), res_pct)\n",
    "print(\"Done\")"
   ]
  },
  {
   "cell_type": "code",
   "execution_count": null,
   "metadata": {},
   "outputs": [],
   "source": []
  },
  {
   "cell_type": "code",
   "execution_count": null,
   "metadata": {},
   "outputs": [],
   "source": []
  }
 ],
 "metadata": {
  "kernelspec": {
   "display_name": "Python 3",
   "language": "python",
   "name": "python3"
  },
  "language_info": {
   "codemirror_mode": {
    "name": "ipython",
    "version": 3
   },
   "file_extension": ".py",
   "mimetype": "text/x-python",
   "name": "python",
   "nbconvert_exporter": "python",
   "pygments_lexer": "ipython3",
   "version": "3.6.4"
  }
 },
 "nbformat": 4,
 "nbformat_minor": 2
}
