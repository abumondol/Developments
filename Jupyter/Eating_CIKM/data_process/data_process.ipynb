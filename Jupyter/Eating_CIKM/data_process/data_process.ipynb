{
 "cells": [
  {
   "cell_type": "code",
   "execution_count": 1,
   "metadata": {},
   "outputs": [],
   "source": [
    "import numpy as np\n",
    "import os\n",
    "import sys"
   ]
  },
  {
   "cell_type": "code",
   "execution_count": 2,
   "metadata": {},
   "outputs": [],
   "source": [
    "util_path = 'C:/ASM/Dropbox/Developments/Jupyter/Eating/myutils' if 'C:' in os.getcwd() else './myutils'\n",
    "sys.path.append(util_path)\n",
    "import my_file_utils as mfileu\n",
    "import my_steven_lab_utils as mslabu\n",
    "import my_steven_free_utils as msfreeu"
   ]
  },
  {
   "cell_type": "markdown",
   "metadata": {},
   "source": [
    "# Separate Lab data Steven\n",
    "ds = mfileu.read_file('X_data', 'lab_data_steven.pkl')\n",
    "ds, _, _ = mslabu.separate_right_left_annots(ds)\n",
    "\n",
    "mfileu.write_file('data', 'lab_data_steven_right.pkl', ds)"
   ]
  },
  {
   "cell_type": "markdown",
   "metadata": {},
   "source": [
    "# Separate Lab data Steven smoothed\n",
    "ds = mfileu.read_file('X_data', 'lab_data_steven_smoothed.pkl')\n",
    "ds, _, annots = mslabu.separate_right_left_annots(ds)\n",
    "\n",
    "mfileu.write_file('data', 'lab_data_steven_right_smoothed.pkl', ds)"
   ]
  },
  {
   "cell_type": "markdown",
   "metadata": {},
   "source": [
    "# Process Steven Lab Annots for right hand only\n",
    "ds = mfileu.read_file('X_data', 'lab_data_steven.pkl')\n",
    "_, _, annots = mslabu.separate_right_left_annots(ds)\n",
    "\n",
    "for subj in range(len(annots)):\n",
    "    for sess in range(len(annots[subj])):\n",
    "        a = annots[subj][sess]\n",
    "        a = a[a[:, 3]!=2, :] # right hand only\n",
    "        annots[subj][sess] = a\n",
    "\n",
    "mfileu.write_file('data', 'lab_annots_steven_right.pkl', annots)"
   ]
  },
  {
   "cell_type": "markdown",
   "metadata": {},
   "source": [
    "# Sperate UVA lab data  and Annots \n",
    "ds = mfileu.read_file('X_data', 'lab_data_uva.pkl')\n",
    "\n",
    "right, annots = [], []\n",
    "for subj in range(len(ds)):\n",
    "    subj_right, subj_annots = [], []\n",
    "    for sess in range(len(ds[subj])):\n",
    "        subj_right.append(ds[subj][sess]['data_right'])        \n",
    "        subj_annots.append(ds[subj][sess]['annots'])\n",
    "        \n",
    "    right.append(subj_right)    \n",
    "    annots.append(subj_annots)\n",
    "\n",
    "mfileu.write_file('data', 'lab_data_uva_right.pkl', right)\n",
    "mfileu.write_file('data', 'lab_annots_uva_right.pkl', annots)"
   ]
  },
  {
   "cell_type": "markdown",
   "metadata": {},
   "source": [
    "# Sperate UVA lab data Smoothed \n",
    "ds = mfileu.read_file('X_data', 'lab_data_uva_smoothed.pkl')\n",
    "\n",
    "right, annots = [], []\n",
    "for subj in range(len(ds)):\n",
    "    subj_right, subj_annots = [], []\n",
    "    for sess in range(len(ds[subj])):\n",
    "        subj_right.append(ds[subj][sess]['data_right'])        \n",
    "        subj_annots.append(ds[subj][sess]['annots'])\n",
    "        \n",
    "    right.append(subj_right)    \n",
    "    annots.append(subj_annots)\n",
    "\n",
    "mfileu.write_file('data', 'lab_data_uva_right_smoothed.pkl', right)\n"
   ]
  },
  {
   "cell_type": "markdown",
   "metadata": {},
   "source": [
    "# Combine Steven and UVA lab data\n",
    "stev = mfileu.read_file('data', 'lab_data_steven_right.pkl')\n",
    "uva = mfileu.read_file('data', 'lab_data_uva_right.pkl')\n",
    "\n",
    "for subj in range(len(uva)):\n",
    "    stev.append(uva[subj])\n",
    "    \n",
    "for subj in range(len(stev)):    \n",
    "        print(subj, len(stev[subj]))\n",
    "        \n",
    "mfileu.write_file('data', 'lab_data_combo_right.pkl', stev)"
   ]
  },
  {
   "cell_type": "markdown",
   "metadata": {},
   "source": [
    "# Combine Steven and UVA lab data smoothed\n",
    "stev = mfileu.read_file('data', 'lab_data_steven_right_smoothed.pkl')\n",
    "uva = mfileu.read_file('data', 'lab_data_uva_right_smoothed.pkl')\n",
    "\n",
    "for subj in range(len(uva)):\n",
    "    stev.append(uva[subj])\n",
    "    \n",
    "for subj in range(len(stev)):    \n",
    "        print(subj, len(stev[subj]))\n",
    "        \n",
    "mfileu.write_file('data', 'lab_data_combo_right_smoothed.pkl', stev)"
   ]
  },
  {
   "cell_type": "markdown",
   "metadata": {},
   "source": [
    "# Combine Steven and UVA lab Annots\n",
    "stev = mfileu.read_file('data', 'lab_annots_steven_right.pkl')\n",
    "uva = mfileu.read_file('data', 'lab_annots_uva_right.pkl')\n",
    "\n",
    "for subj in range(len(uva)):\n",
    "    stev.append(uva[subj])\n",
    "    \n",
    "for subj in range(len(stev)):    \n",
    "        print(subj, len(stev[subj]))\n",
    "        \n",
    "mfileu.write_file('data', 'lab_annots_combo_right.pkl', stev)"
   ]
  },
  {
   "cell_type": "code",
   "execution_count": 3,
   "metadata": {},
   "outputs": [],
   "source": [
    "# Process Annnots Steven Free, Remove Annots out of data boundary\n",
    "ds = mfileu.read_file('X_data', 'free_data_steven_right.pkl')\n",
    "annots = mfileu.read_file('X_data', 'free_data_steven_annots.pkl')\n",
    "\n",
    "for subj in range(len(ds)):\n",
    "    for sess in range(len(ds[subj])):\n",
    "        a = annots[subj][sess]\n",
    "        dcount = len(ds[subj][sess])\n",
    "        \n",
    "        annots[subj][sess] = msfreeu.process_anntos(dcount, a)\n",
    "        assert annots[subj][sess][-1, 1] <= dcount\n",
    "        \n",
    "mfileu.write_file('data', 'free_annots_steven_processed.pkl', annots)"
   ]
  },
  {
   "cell_type": "code",
   "execution_count": null,
   "metadata": {},
   "outputs": [],
   "source": []
  }
 ],
 "metadata": {
  "kernelspec": {
   "display_name": "Python 3",
   "language": "python",
   "name": "python3"
  },
  "language_info": {
   "codemirror_mode": {
    "name": "ipython",
    "version": 3
   },
   "file_extension": ".py",
   "mimetype": "text/x-python",
   "name": "python",
   "nbconvert_exporter": "python",
   "pygments_lexer": "ipython3",
   "version": "3.6.4"
  }
 },
 "nbformat": 4,
 "nbformat_minor": 2
}
