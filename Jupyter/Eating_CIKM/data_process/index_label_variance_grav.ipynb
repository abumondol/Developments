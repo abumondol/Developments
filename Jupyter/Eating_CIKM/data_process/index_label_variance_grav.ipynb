{
 "cells": [
  {
   "cell_type": "code",
   "execution_count": null,
   "metadata": {},
   "outputs": [],
   "source": [
    "import numpy as np\n",
    "import pickle\n",
    "import os\n",
    "import sys"
   ]
  },
  {
   "cell_type": "code",
   "execution_count": null,
   "metadata": {},
   "outputs": [],
   "source": [
    "util_path = 'C:/ASM/Dropbox/Developments/Jupyter/Eating/myutils' if 'C:' in os.getcwd() else './myutils'\n",
    "sys.path.append(util_path)\n",
    "import my_file_utils as mfileu"
   ]
  },
  {
   "cell_type": "code",
   "execution_count": null,
   "metadata": {},
   "outputs": [],
   "source": [
    "lab_free = 'lab'\n",
    "assert lab_free in ['lab', 'free']\n",
    "\n",
    "if lab_free=='lab':\n",
    "    ds = mfileu.read_file('data', 'lab_data_combo_right.pkl')\n",
    "    ds_smooth = mfileu.read_file('data', 'lab_data_combo_right_smoothed.pkl')\n",
    "    annots = mfileu.read_file('data', 'lab_annots_combo_right.pkl')\n",
    "    ba = mfileu.read_file('data', 'lab_data_combo_blank_array.pkl')\n",
    "else:\n",
    "    ds = mfileu.read_file('data', 'free_data_steven_right.pkl')\n",
    "    ds_smooth = mfileu.read_file('data', 'free_data_steven_right_smoothed.pkl')\n",
    "    annots = mfileu.read_file('data', 'free_annots_steven_processed.pkl')\n",
    "    ba = mfileu.read_file('data', 'free_data_steven_blank_array.pkl')\n",
    "        \n",
    "print(lab_free, \", Subject Count:\", len(ds))"
   ]
  },
  {
   "cell_type": "code",
   "execution_count": null,
   "metadata": {},
   "outputs": [],
   "source": [
    "win_size=5*16\n",
    "step_size=1"
   ]
  },
  {
   "cell_type": "code",
   "execution_count": null,
   "metadata": {},
   "outputs": [],
   "source": [
    "def get_labels_lab_uva(indices, a):    \n",
    "    wcount, acount = len(indices), len(a)  \n",
    "    \n",
    "    si = indices\n",
    "    q1 = si + win_size//4\n",
    "    mi = si + 2*win_size//4    \n",
    "    q3 = si + 3*win_size//4\n",
    "    ei = si + win_size-1\n",
    "    \n",
    "    labels=np.zeros((wcount,))    \n",
    "    for i in range(acount):         \n",
    "        assert a[i,2] >= 1 #There is no zero       \n",
    "        ix = a[i, 0]\n",
    "        label = a[i,2]\n",
    "        \n",
    "        if label==1:\n",
    "            cond = (si<=ix) & (ix<=ei)\n",
    "            labels[cond] = -1\n",
    "        \n",
    "        cond = (q1<=ix) & (ix<=q3)        \n",
    "        labels[cond] = label\n",
    "        \n",
    "    return np.array(labels)"
   ]
  },
  {
   "cell_type": "code",
   "execution_count": null,
   "metadata": {},
   "outputs": [],
   "source": [
    "def get_labels_lab_steven(indices, a):    \n",
    "    wcount, acount = len(indices), len(a)  \n",
    "    \n",
    "    si = indices\n",
    "    q1 = si + win_size//4\n",
    "    mi = si + 2*win_size//4    \n",
    "    q3 = si + 3*win_size//4    \n",
    "    ei = si + win_size-1\n",
    "    \n",
    "    labels=np.zeros((wcount,))    \n",
    "    for i in range(acount):\n",
    "        assert a[i,3]!=2 # Not left hand\n",
    "        assert 1<=a[i, 2]<=2 \n",
    "        \n",
    "        if a[i, 2]==1: #bite\n",
    "            ix = a[i, 0]\n",
    "            cond = (si<=ix) & (ix<=ei)\n",
    "            labels[cond] = -1\n",
    "            cond = (q1<=ix) & (ix<=q3)\n",
    "            labels[cond] = 1\n",
    "            \n",
    "        else:#sip\n",
    "            ix1 = a[i, 0]\n",
    "            ix2 = a[i, 1]\n",
    "            cond = (mi>=ix1) & (mi<=ix2)\n",
    "            labels[cond] = 2\n",
    "        \n",
    "    return np.array(labels)\n"
   ]
  },
  {
   "cell_type": "code",
   "execution_count": null,
   "metadata": {},
   "outputs": [],
   "source": [
    "for subj in range(len(ds)):    \n",
    "    for sess in range(len(ds[subj])):\n",
    "        print(subj, sess)        \n",
    "        d = ds[subj][sess]\n",
    "        dsm = ds_smooth[subj][sess]\n",
    "        a = annots[subj][sess]        \n",
    "        print(\"Bite, Sip count: \", np.sum(a[:,2]==1), np.sum(a[:,2]==2))\n",
    "                \n",
    "        count = (len(d)-win_size)//step_size + 1\n",
    "        ssilvg = np.zeros((count, 6))\n",
    "        ssilvg[:, 0] = subj\n",
    "        ssilvg[:, 1] = sess\n",
    "        \n",
    "        for i in range(count):\n",
    "            si = i*step_size                \n",
    "            ssilvg[i, 2] = si        \n",
    "            ssilvg[i, 4] = np.sum(np.var(d[si:si+win_size, 1:4], axis=0))\n",
    "            ssilvg[i, 5] = dsm[si+(win_size//2), 1]\n",
    "            \n",
    "        if lab_free=='lab':\n",
    "            if subj<=6:\n",
    "                ssilvg[:, 3] = get_labels_lab_steven(ssilvg[:, 2], a)\n",
    "            else:\n",
    "                ssilvg[:, 3] = get_labels_lab_uva(ssilvg[:, 2], a)            \n",
    "        \n",
    "        ba[subj][sess] = ssilvg\n",
    "        print(\"Shape, Count X, neg, sip, drink\", ssilvg.shape, np.sum(ssilvg[:,3]==-1), np.sum(ssilvg[:,3]==0), np.sum(ssilvg[:,3]==1), np.sum(ssilvg[:,3]==2))"
   ]
  },
  {
   "cell_type": "code",
   "execution_count": null,
   "metadata": {},
   "outputs": [],
   "source": [
    "if lab_free=='lab':\n",
    "    mfileu.write_file('ssilvg/ssilvg_all_samples', 'lab_ssilvg_combo_right.pkl', ba)\n",
    "    mfileu.write_file('ssilvg/ssilvg_all_samples', 'lab_ssilvg_steven_right.pkl', ba[:7])\n",
    "    mfileu.write_file('ssilvg/ssilvg_all_samples', 'lab_ssilvg_uva_right.pkl', ba[7:])    \n",
    "else:\n",
    "    mfileu.write_file('ssilvg/ssilvg_all_samples', 'free_ssilvg_steven_right.pkl', ba)"
   ]
  },
  {
   "cell_type": "code",
   "execution_count": null,
   "metadata": {},
   "outputs": [],
   "source": []
  }
 ],
 "metadata": {
  "kernelspec": {
   "display_name": "Python 3",
   "language": "python",
   "name": "python3"
  },
  "language_info": {
   "codemirror_mode": {
    "name": "ipython",
    "version": 3
   },
   "file_extension": ".py",
   "mimetype": "text/x-python",
   "name": "python",
   "nbconvert_exporter": "python",
   "pygments_lexer": "ipython3",
   "version": "3.6.4"
  }
 },
 "nbformat": 4,
 "nbformat_minor": 2
}
