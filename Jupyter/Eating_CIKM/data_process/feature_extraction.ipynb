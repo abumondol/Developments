{
 "cells": [
  {
   "cell_type": "code",
   "execution_count": 1,
   "metadata": {
    "scrolled": true
   },
   "outputs": [],
   "source": [
    "import numpy as np\n",
    "from scipy import signal\n",
    "import pickle\n",
    "import os\n",
    "import sys"
   ]
  },
  {
   "cell_type": "code",
   "execution_count": 2,
   "metadata": {},
   "outputs": [],
   "source": [
    "util_path = 'C:/ASM/Dropbox/Developments/Jupyter/Eating/myutils' if 'C:' in os.getcwd() else './myutils'\n",
    "sys.path.append(util_path)\n",
    "import my_file_utils as mfileu"
   ]
  },
  {
   "cell_type": "code",
   "execution_count": null,
   "metadata": {
    "scrolled": true
   },
   "outputs": [],
   "source": [
    "def mean_magnitude(d):\n",
    "    d = np.sqrt(np.sum(d*d, axis=1))\n",
    "    return np.mean(d)\n",
    "\n",
    "def butter_highpass(cutoff, fs, order=5):\n",
    "    nyq = 0.5 * fs\n",
    "    normal_cutoff = cutoff / nyq\n",
    "    b, a = signal.butter(order, normal_cutoff, btype='high', analog=False)\n",
    "    return b, a\n",
    "\n",
    "def butter_highpass_filter(data, cutoff, fs, order=5):\n",
    "    b, a = butter_highpass(cutoff, fs, order=order)\n",
    "    y = signal.filtfilt(b, a, data)\n",
    "    return y\n",
    "\n",
    "def zero_cross(d):\n",
    "    x = (d[:-1]*d[1:]<0)\n",
    "    zcr = np.sum(x)\n",
    "    x = np.argwhere(x==True)\n",
    "    #print(x.reshape((1,-1)))\n",
    "    std = np.std(x[1:]-x[:-1])    \n",
    "    return zcr, std    "
   ]
  },
  {
   "cell_type": "code",
   "execution_count": null,
   "metadata": {
    "scrolled": true
   },
   "outputs": [],
   "source": [
    "def get_features_one_window(d):\n",
    "    t, accel, gyro = d[:, 0], d[:, 1:4], d[:, 4:7]\n",
    "    \n",
    "    accel_mean = np.mean(accel, axis=0)\n",
    "    gyro_mean = np.mean(gyro, axis=0)\n",
    "    gyro_mean_mag = mean_magnitude(gyro)\n",
    "    accel_dv_mean_mag = mean_magnitude(accel[1:, :]-accel[:-1, :])\n",
    "    \n",
    "    accel_cov = np.cov(accel, rowvar=False)\n",
    "    #accel_cov = np.corrcoef(accel, rowvar=False)\n",
    "    accel_cov = np.array([accel_cov[0,1], accel_cov[0,2], accel_cov[1,2]])\n",
    "    \n",
    "    hamming_window = signal.hamming(len(accel))    \n",
    "    poly_x = np.polyfit(t-t[0], accel[:, 0], deg=4, w=hamming_window)\n",
    "    poly_y = np.polyfit(t-t[0], accel[:, 1], deg=4, w=hamming_window)\n",
    "    poly_z = np.polyfit(t-t[0], accel[:, 2], deg=4, w=hamming_window)\n",
    "    \n",
    "    high_x = butter_highpass_filter(accel[:, 0], cutoff = 4, fs=16)\n",
    "    high_y = butter_highpass_filter(accel[:, 1], cutoff = 4, fs=16)\n",
    "    high_z = butter_highpass_filter(accel[:, 2], cutoff = 4, fs=16)\n",
    "    \n",
    "    accel_zcr_x, accel_zcr_std_x = zero_cross(high_x)\n",
    "    accel_zcr_y, accel_zcr_std_y = zero_cross(high_y)\n",
    "    accel_zcr_z, accel_zcr_std_z = zero_cross(high_z)\n",
    "    \n",
    "    res = np.zeros((1, 32))\n",
    "    res[0, 0:3] = accel_mean\n",
    "    res[0, 3:6] = gyro_mean\n",
    "    res[0, 6] = gyro_mean_mag\n",
    "    res[0, 7] = accel_dv_mean_mag\n",
    "    res[0, 8:11] = accel_cov\n",
    "    res[0, 11:16] = poly_x\n",
    "    res[0, 16:21] = poly_y\n",
    "    res[0, 21:26] = poly_z\n",
    "    res[0, 26] = accel_zcr_x\n",
    "    res[0, 27] = accel_zcr_y\n",
    "    res[0, 28] = accel_zcr_z\n",
    "    res[0, 29] = accel_zcr_std_x\n",
    "    res[0, 30] = accel_zcr_std_y\n",
    "    res[0, 31] = accel_zcr_std_z\n",
    "    \n",
    "    return res"
   ]
  },
  {
   "cell_type": "code",
   "execution_count": null,
   "metadata": {
    "scrolled": true
   },
   "outputs": [],
   "source": [
    "def get_features_one_session(data, window_size=5*16, step_size=1):\n",
    "    count = (len(data)-window_size)//step_size + 1\n",
    "    res = np.zeros((count, 33))\n",
    "    \n",
    "    print(\"Data sahpe: \", data.shape, \"Feature shape: \", res.shape)\n",
    "    for i in range(count):\n",
    "        si = i*step_size        \n",
    "        d = data[si:si+window_size, :]\n",
    "        res[i, 0] = si\n",
    "        res[i, 1:] = get_features_one_window(d)\n",
    "        if i%10000==0:\n",
    "            print(i)\n",
    "    \n",
    "    return res"
   ]
  },
  {
   "cell_type": "code",
   "execution_count": null,
   "metadata": {
    "scrolled": true
   },
   "outputs": [],
   "source": [
    "def get_features_all(ds):\n",
    "    features = []    \n",
    "    for subj in range(len(ds)):\n",
    "        fsubj =[]\n",
    "        for sess in range(len(ds[subj])):\n",
    "            print(\"\\nExtracing features... Subj, sess: \", subj, sess)\n",
    "            d = ds[subj][sess]\n",
    "            f = get_features_one_session(d)\n",
    "            print(\"Feature shape: \", f.shape)\n",
    "            fsubj.append(f)\n",
    "            \n",
    "        features.append(fsubj)\n",
    "        \n",
    "    return features"
   ]
  },
  {
   "cell_type": "code",
   "execution_count": null,
   "metadata": {},
   "outputs": [],
   "source": [
    "def get_features(ds, subj_start, subj_end, lab_free):        \n",
    "    for subj in range(subj_start, subj_end+1):        \n",
    "        for sess in range(len(ds[subj])):\n",
    "            print(\"\\nExtracing features... Subj, sess: \", subj, sess)\n",
    "            d = ds[subj][sess]\n",
    "            f = get_features_one_session(d)            \n",
    "            print(\"Feature shape: \", f.shape)\n",
    "            mfileu.write_file('features/'+lab_free, lab_free+'_features_'+str(subj)+'_'+str(sess)+'.pkl', f)"
   ]
  },
  {
   "cell_type": "code",
   "execution_count": null,
   "metadata": {
    "scrolled": true
   },
   "outputs": [],
   "source": [
    "lab_free, subj_start, subj_end = sys.argv[1], int(sys.argv[2]), int(sys.argv[3])\n",
    "print(\"Lab/free, start subj index, end subj index: \", lab_free, subj_start, subj_end)\n",
    "assert lab_free in ['lab', 'free']\n",
    "\n",
    "if lab_free=='lab':\n",
    "    ds = mfileu.read_file('data', 'lab_data_combo_right.pkl')    \n",
    "else:\n",
    "    ds = mfileu.read_file('data', 'free_data_steven_right.pkl')\n",
    "\n",
    "assert 0 <= subj_start <= subj_end < len(ds)\n",
    "get_features(ds, subj_start, subj_end, lab_free)"
   ]
  },
  {
   "cell_type": "raw",
   "metadata": {},
   "source": []
  }
 ],
 "metadata": {
  "kernelspec": {
   "display_name": "Python 3",
   "language": "python",
   "name": "python3"
  },
  "language_info": {
   "codemirror_mode": {
    "name": "ipython",
    "version": 3
   },
   "file_extension": ".py",
   "mimetype": "text/x-python",
   "name": "python",
   "nbconvert_exporter": "python",
   "pygments_lexer": "ipython3",
   "version": "3.6.4"
  }
 },
 "nbformat": 4,
 "nbformat_minor": 2
}
