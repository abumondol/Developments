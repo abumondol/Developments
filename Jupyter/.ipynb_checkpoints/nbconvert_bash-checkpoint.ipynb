{
 "cells": [
  {
   "cell_type": "code",
   "execution_count": 6,
   "metadata": {},
   "outputs": [
    {
     "name": "stdout",
     "output_type": "stream",
     "text": [
      "Microsoft Windows [Version 10.0.16299.309]\r\n",
      "(c) 2017 Microsoft Corporation. All rights reserved.\r\n",
      "\r\n",
      "C:\\ASM\\Dropbox\\Developments\\Jupyter\\Eating_New\\bite_detection>jupyter nbconvert --to script bite_detection_utils.ipynb\n",
      "\r\n",
      "C:\\ASM\\Dropbox\\Developments\\Jupyter\\Eating_New\\bite_detection>jupyter nbconvert --to script bite_classification_train.ipynb\n",
      "\r\n",
      "C:\\ASM\\Dropbox\\Developments\\Jupyter\\Eating_New\\bite_detection>jupyter nbconvert --to script my_tensorflow_utils.ipynb\n",
      "\r\n",
      "C:\\ASM\\Dropbox\\Developments\\Jupyter\\Eating_New\\bite_detection>"
     ]
    },
    {
     "name": "stderr",
     "output_type": "stream",
     "text": [
      "[NbConvertApp] Converting notebook bite_detection_utils.ipynb to script\r\n",
      "[NbConvertApp] Writing 7530 bytes to bite_detection_utils.py\r\n",
      "[NbConvertApp] Converting notebook bite_classification_train.ipynb to script\r\n",
      "[NbConvertApp] Writing 9541 bytes to bite_classification_train.py\r\n",
      "[NbConvertApp] Converting notebook my_tensorflow_utils.ipynb to script\r\n",
      "[NbConvertApp] Writing 1474 bytes to my_tensorflow_utils.py\r\n"
     ]
    }
   ],
   "source": [
    "%%cmd\n",
    "#jupyter nbconvert --to script bite_detection_utils.ipynb\n",
    "jupyter nbconvert --to script bite_classification_train.ipynb\n",
    "#jupyter nbconvert --to script my_tensorflow_utils.ipynb"
   ]
  },
  {
   "cell_type": "code",
   "execution_count": null,
   "metadata": {},
   "outputs": [],
   "source": []
  },
  {
   "cell_type": "code",
   "execution_count": null,
   "metadata": {},
   "outputs": [],
   "source": []
  },
  {
   "cell_type": "code",
   "execution_count": null,
   "metadata": {},
   "outputs": [],
   "source": []
  },
  {
   "cell_type": "code",
   "execution_count": null,
   "metadata": {},
   "outputs": [],
   "source": []
  },
  {
   "cell_type": "code",
   "execution_count": 1,
   "metadata": {},
   "outputs": [
    {
     "name": "stderr",
     "output_type": "stream",
     "text": [
      "c:\\asm\\continuum\\anaconda3\\lib\\site-packages\\h5py\\__init__.py:36: FutureWarning: Conversion of the second argument of issubdtype from `float` to `np.floating` is deprecated. In future, it will be treated as `np.float64 == np.dtype(float).type`.\n",
      "  from ._conv import register_converters as _register_converters\n"
     ]
    },
    {
     "name": "stdout",
     "output_type": "stream",
     "text": [
      "WARNING:tensorflow:From c:\\asm\\continuum\\anaconda3\\lib\\site-packages\\tensorflow\\python\\util\\tf_should_use.py:118: initialize_all_variables (from tensorflow.python.ops.variables) is deprecated and will be removed after 2017-03-02.\n",
      "Instructions for updating:\n",
      "Use `tf.global_variables_initializer` instead.\n",
      "[3 5 7]\n"
     ]
    }
   ],
   "source": [
    "import tensorflow as tf\n",
    "import numpy as np\n",
    "ph = tf.placeholder(shape=[None,3], dtype=tf.int32)\n",
    "#x = tf.slice(ph, [0, 1], [3, 1])\n",
    "x = ph[:, 2]\n",
    "input_ = np.array([[1,2,3], [3,4,5], [5,6,7]])\n",
    "\n",
    "with tf.Session() as sess:\n",
    "    sess.run(tf.initialize_all_variables())\n",
    "    print (sess.run(x, feed_dict={ph: input_}))"
   ]
  },
  {
   "cell_type": "code",
   "execution_count": null,
   "metadata": {},
   "outputs": [],
   "source": []
  }
 ],
 "metadata": {
  "kernelspec": {
   "display_name": "Python 3",
   "language": "python",
   "name": "python3"
  },
  "language_info": {
   "codemirror_mode": {
    "name": "ipython",
    "version": 3
   },
   "file_extension": ".py",
   "mimetype": "text/x-python",
   "name": "python",
   "nbconvert_exporter": "python",
   "pygments_lexer": "ipython3",
   "version": "3.6.4"
  }
 },
 "nbformat": 4,
 "nbformat_minor": 2
}
