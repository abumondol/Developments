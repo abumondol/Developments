{
 "cells": [
  {
   "cell_type": "code",
   "execution_count": 1,
   "metadata": {},
   "outputs": [
    {
     "name": "stderr",
     "output_type": "stream",
     "text": [
      "c:\\asm\\continuum\\anaconda3\\lib\\site-packages\\h5py\\__init__.py:36: FutureWarning: Conversion of the second argument of issubdtype from `float` to `np.floating` is deprecated. In future, it will be treated as `np.float64 == np.dtype(float).type`.\n",
      "  from ._conv import register_converters as _register_converters\n"
     ]
    }
   ],
   "source": [
    "import numpy as np\n",
    "import tensorflow as tf"
   ]
  },
  {
   "cell_type": "code",
   "execution_count": 2,
   "metadata": {},
   "outputs": [],
   "source": [
    "def fc_layer(x, size_out, activation=None, name=\"FC_Layer\" ):\n",
    "    dims = x.get_shape().as_list()\n",
    "    size_in = dims[-1]\n",
    "    with tf.name_scope(name):\n",
    "        W = tf.Variable(tf.truncated_normal([size_in, size_out], stddev=0.1), name=\"W\")\n",
    "        b = tf.Variable(tf.constant(0.0, shape=[size_out]), name=\"b\")\n",
    "        output = tf.matmul(x, W) + b\n",
    "        \n",
    "        assert activation in [None, \"relu\", \"tanh\", \"sigmoid\"]            \n",
    "        \n",
    "        if activation==\"relu\":\n",
    "            print(\"Relu activation\")\n",
    "            output = tf.nn.relu(output)\n",
    "        elif activation==\"tanh\":\n",
    "            print(\"Tanh activation\")\n",
    "            output = tf.nn.tanh(output)\n",
    "        elif activation==\"sigmoid\":\n",
    "            print(\"Sigmoid activation\")\n",
    "            output = tf.nn.sigmoid(output)        \n",
    "            \n",
    "        tf.summary.histogram('weights', W)\n",
    "        tf.summary.histogram('biases', b)\n",
    "        tf.summary.histogram('outputs', output)\n",
    "        return output\n",
    "    "
   ]
  },
  {
   "cell_type": "code",
   "execution_count": null,
   "metadata": {},
   "outputs": [],
   "source": [
    "'''\n",
    "fc_1 = fc_layer(combo_flattened, combo_shape[-1], 256, name='FC_1', relu=True)\n",
    "fcdrop_1 = tf.nn.dropout(fc_1, keep_prob, name='fcdrop_1')    \n",
    "fc_2 = fc_layer(fcdrop_1, 256, 128, name='FC_2', relu=True)\n",
    "fcdrop_2 = tf.nn.dropout(fc_2, keep_prob, name='fcdrop_2') \n",
    "#fc_3 = fc_layer(fcdrop_2, 512, 512, name='FC_3', relu=True)\n",
    "#fcdrop_3 = tf.nn.dropout(fc_3, keep_prob, name='fcdrop_3') \n",
    "logits = fc_layer(fcdrop_2, 128, y_shape[-1], name='FC_Final')\n",
    "'''"
   ]
  }
 ],
 "metadata": {
  "kernelspec": {
   "display_name": "Python 3",
   "language": "python",
   "name": "python3"
  },
  "language_info": {
   "codemirror_mode": {
    "name": "ipython",
    "version": 3
   },
   "file_extension": ".py",
   "mimetype": "text/x-python",
   "name": "python",
   "nbconvert_exporter": "python",
   "pygments_lexer": "ipython3",
   "version": "3.6.4"
  }
 },
 "nbformat": 4,
 "nbformat_minor": 2
}
