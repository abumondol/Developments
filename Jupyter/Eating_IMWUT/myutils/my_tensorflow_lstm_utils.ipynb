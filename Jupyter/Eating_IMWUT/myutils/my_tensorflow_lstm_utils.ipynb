{
 "cells": [
  {
   "cell_type": "code",
   "execution_count": 1,
   "metadata": {},
   "outputs": [
    {
     "name": "stderr",
     "output_type": "stream",
     "text": [
      "c:\\asm\\continuum\\anaconda3\\lib\\site-packages\\h5py\\__init__.py:36: FutureWarning: Conversion of the second argument of issubdtype from `float` to `np.floating` is deprecated. In future, it will be treated as `np.float64 == np.dtype(float).type`.\n",
      "  from ._conv import register_converters as _register_converters\n"
     ]
    }
   ],
   "source": [
    "import numpy as np\n",
    "import tensorflow as tf"
   ]
  },
  {
   "cell_type": "code",
   "execution_count": 2,
   "metadata": {},
   "outputs": [],
   "source": [
    "def multi_layer_biLSTM(x, batch_size, n_hidden, n_layer):\n",
    "    output = x\n",
    "    for i in range(n_layer):\n",
    "        cell_fw = tf.nn.rnn_cell.LSTMCell(n_hidden, state_is_tuple=True)\n",
    "        cell_bw = tf.nn.rnn_cell.LSTMCell(n_hidden, state_is_tuple=True)\n",
    "\n",
    "        initial_state_fw = cell_fw.zero_state(batch_size, tf.float32)\n",
    "        initial_state_bw = cell_bw.zero_state(batch_size, tf.float32)\n",
    "\n",
    "        (output_fw, output_bw), (last_state_fw, last_state_bw) = tf.nn.bidirectional_dynamic_rnn(cell_fw, cell_bw, output,\n",
    "                                                                                 initial_state_fw=initial_state_fw,\n",
    "                                                                                 initial_state_bw=initial_state_bw,\n",
    "                                                                                 scope='BLSTM_layer_'+str(i),\n",
    "                                                                                 dtype=tf.float32)\n",
    "\n",
    "\n",
    "        output = tf.concat([output_fw, output_bw], axis=2)\n",
    "    \n",
    "    return output_fw, output_bw"
   ]
  },
  {
   "cell_type": "code",
   "execution_count": 3,
   "metadata": {},
   "outputs": [],
   "source": [
    "def multi_layer_LSTM(x, batch_size, n_hidden, n_layer, name_scope):    \n",
    "    output = x\n",
    "    for i in range(n_layer):\n",
    "        cell_fw = tf.nn.rnn_cell.LSTMCell(n_hidden, state_is_tuple=True)        \n",
    "        initial_state = cell_fw.zero_state(batch_size, tf.float32)\n",
    "\n",
    "\n",
    "        output, last_state = tf.nn.dynamic_rnn(cell_fw, output,\n",
    "                                               initial_state=initial_state,                                               \n",
    "                                               scope=name_scope+'_LSTM_layer_'+str(i),\n",
    "                                               dtype=tf.float32)\n",
    "    \n",
    "    return output"
   ]
  },
  {
   "cell_type": "code",
   "execution_count": null,
   "metadata": {},
   "outputs": [],
   "source": []
  }
 ],
 "metadata": {
  "kernelspec": {
   "display_name": "Python 3",
   "language": "python",
   "name": "python3"
  },
  "language_info": {
   "codemirror_mode": {
    "name": "ipython",
    "version": 3
   },
   "file_extension": ".py",
   "mimetype": "text/x-python",
   "name": "python",
   "nbconvert_exporter": "python",
   "pygments_lexer": "ipython3",
   "version": "3.6.4"
  }
 },
 "nbformat": 4,
 "nbformat_minor": 2
}
