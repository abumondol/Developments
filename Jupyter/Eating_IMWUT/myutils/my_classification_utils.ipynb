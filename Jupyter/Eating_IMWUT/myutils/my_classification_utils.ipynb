{
 "cells": [
  {
   "cell_type": "code",
   "execution_count": 1,
   "metadata": {},
   "outputs": [],
   "source": [
    "import numpy as np"
   ]
  },
  {
   "cell_type": "code",
   "execution_count": 1,
   "metadata": {},
   "outputs": [],
   "source": [
    "def get_one_hot(labels, num_classes):\n",
    "    count = len(labels)\n",
    "    res = np.zeros((count, num_classes), dtype=int)\n",
    "    res[np.arange(count), labels] = 1\n",
    "    return res"
   ]
  },
  {
   "cell_type": "code",
   "execution_count": 2,
   "metadata": {},
   "outputs": [],
   "source": [
    "def adjust_for_batch_size(train_x, train_y, batch_size):\n",
    "    train_count = len(train_x)    \n",
    "    last_batch_size = train_count%batch_size\n",
    "    if last_batch_size >0:\n",
    "        last_batch_gap = batch_size - last_batch_size        \n",
    "        train_x = np.concatenate((train_x, train_x[0:last_batch_gap]), axis=0)\n",
    "        train_y = np.concatenate((train_y, train_y[0:last_batch_gap]), axis=0)\n",
    "        \n",
    "    train_count = len(train_x)    \n",
    "    assert train_count%batch_size == 0\n",
    "    return train_x, train_y"
   ]
  },
  {
   "cell_type": "code",
   "execution_count": 3,
   "metadata": {},
   "outputs": [],
   "source": [
    "def get_scores_1d(pred, gt):\n",
    "    p = np.zeros(pred.shape, dtype=np.int32)\n",
    "    p[pred>=0.5]=1\n",
    "    gt[gt>1]=1\n",
    "    \n",
    "    tn = np.sum((p==0) & (gt==0))\n",
    "    tp = np.sum((p==1) & (gt==1))\n",
    "    fn = np.sum((p==0) & (gt==1))\n",
    "    fp = np.sum((p==1) & (gt==0))\n",
    "    \n",
    "    acc = (tp+tn)/(tp+tn+fp+fn)\n",
    "    pr = tp/(tp+fp)\n",
    "    rc = tp/(tp+fn)\n",
    "    f1 = 2*pr*rc/(pr+rc)\n",
    "    \n",
    "    \n",
    "    return tn, tp, fn, fp, acc, pr, rc, f1"
   ]
  },
  {
   "cell_type": "code",
   "execution_count": null,
   "metadata": {},
   "outputs": [],
   "source": [
    "def pr_rc_f1(tp, fp, fn):\n",
    "    pr = tp/(tp+fp) if tp+fp>0 else 0\n",
    "    rc = tp/(tp+fn) if tp+fn>0 else 0\n",
    "    f1 = 2*pr*rc/(pr+rc) if pr+rc>0 else 0\n",
    "    \n",
    "    return pr, rc, f1"
   ]
  }
 ],
 "metadata": {
  "kernelspec": {
   "display_name": "Python 3",
   "language": "python",
   "name": "python3"
  },
  "language_info": {
   "codemirror_mode": {
    "name": "ipython",
    "version": 3
   },
   "file_extension": ".py",
   "mimetype": "text/x-python",
   "name": "python",
   "nbconvert_exporter": "python",
   "pygments_lexer": "ipython3",
   "version": "3.6.4"
  }
 },
 "nbformat": 4,
 "nbformat_minor": 2
}
