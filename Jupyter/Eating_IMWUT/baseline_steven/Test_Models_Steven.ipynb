{
 "cells": [
  {
   "cell_type": "code",
   "execution_count": 3,
   "metadata": {},
   "outputs": [],
   "source": [
    "import numpy as np\n",
    "import scipy as sp\n",
    "import os \n",
    "import sys\n",
    "import importlib\n",
    "from sklearn.ensemble import RandomForestClassifier"
   ]
  },
  {
   "cell_type": "code",
   "execution_count": 2,
   "metadata": {},
   "outputs": [],
   "source": [
    "util_path = 'C:/ASM/Dropbox/Developments/Jupyter/Eating/myutils' if 'C:' in os.getcwd() else './myutils'\n",
    "sys.path.append(util_path)\n",
    "import my_file_utils as mfileu\n",
    "import my_steven_free_utils as msfreeu\n",
    "import my_classification_utils as mcu\n",
    "#importlib.reload(mdu)"
   ]
  },
  {
   "cell_type": "code",
   "execution_count": null,
   "metadata": {},
   "outputs": [],
   "source": [
    "features_lab = mfileu.read_file('features', 'lab_features_steven_right.pkl')\n",
    "features_free = mfileu.read_file('features', 'free_features_steven_right.pkl')"
   ]
  },
  {
   "cell_type": "code",
   "execution_count": null,
   "metadata": {},
   "outputs": [],
   "source": [
    "for subj in range(len(features_free)):\n",
    "    for sess in range(len(features_free[subj])):\n",
    "        print(\"\\nTesting free subject, sess: \", subj, sess)\n",
    "        \n",
    "        if subj<5:\n",
    "            clf = mfileu.read_file('baseline_models_bite_steven', 'lab_'+str(subj+2)+'.pkl')\n",
    "        else:\n",
    "            clf = mfileu.read_file('baseline_models_bite_steven', 'lab_100.pkl')            \n",
    "        \n",
    "        proba = clf.predict_proba(features_free[subj][sess][:, 1:])\n",
    "        proba = np.array(proba)\n",
    "        res = features_free[subj][sess][:, 0].reshape((-1, 1))\n",
    "        res = np.concatenate((res, proba), axis=1)        \n",
    "        mfileu.write_file('baseline_proba_bite_steven', 'bite_free_'+str(subj)+'_'+str(sess)+'.pkl', res)\n",
    "        \n",
    "        \n",
    "        clf = mfileu.read_file('baseline_models_free_window_steven', 'free_'+str(subj)+'_'+str(sess)+'.pkl')        \n",
    "        proba = clf.predict_proba(features_free[subj][sess][:, 1:])\n",
    "        proba = np.array(proba)\n",
    "        res = features_free[subj][sess][:, 0].reshape((-1, 1))\n",
    "        res = np.concatenate((res, proba), axis=1)        \n",
    "        mfileu.write_file('baseline_test_proba_free_window_steven', 'window_free_'+str(subj)+'_'+str(sess)+'.pkl', res)"
   ]
  },
  {
   "cell_type": "markdown",
   "metadata": {},
   "source": [
    "for subj in range(len(features_free)):\n",
    "    for sess in range(len(features_free[subj])):\n",
    "        print(\"\\nTesting free subject, sess: \", subj, sess)\n",
    "                \n",
    "        clf = mfileu.read_file('baseline_models', 'free_'+str(subj)+'_'+str(sess)+'.pkl')        \n",
    "        proba = clf.predict_proba(features_free[subj][sess][:, 1:])\n",
    "        proba = np.array(proba)\n",
    "        res = features_free[subj][sess][:, 0].reshape((-1, 1))\n",
    "        res = np.concatenate((res, proba), axis=1)        \n",
    "        mfileu.write_file('baseline_test_results', 'meal_free_personal_'+str(subj)+'_'+str(sess)+'.pkl', res)"
   ]
  },
  {
   "cell_type": "markdown",
   "metadata": {},
   "source": [
    "##################### General models for Lab data ##########################\n",
    "for subj in range(len(features_lab)):\n",
    "    for sess in range(len(features_lab[subj])):\n",
    "        print(\"\\nTesting lab subject, sess: \", subj, sess)\n",
    "        clf = mfileu.read_file('baseline_models', 'lab_'+str(subj)+'.pkl')\n",
    "        proba = clf.predict_proba(features_lab[subj][sess][:, 1:])\n",
    "        proba = np.array(proba)\n",
    "        #print(proba[:2, 5, :2])\n",
    "        res = features_lab[subj][sess][:, 0].reshape((-1, 1))        \n",
    "        print(res.shape, proba.shape, clf.classes_)\n",
    "        res = np.concatenate((res, proba), axis=1)        \n",
    "        mfileu.write_file('baseline_test_results', 'bite_lab_'+str(subj)+'_'+str(sess)+'.pkl', res)\n",
    "        \n",
    "        if subj>=2:\n",
    "            clf = mfileu.read_file('baseline_models', 'free_'+str(subj-2)+'.pkl')\n",
    "        else:\n",
    "            clf = mfileu.read_file('baseline_models', 'free_100.pkl')\n",
    "            \n",
    "        proba = clf.predict_proba(features_lab[subj][sess][:, 1:])\n",
    "        proba = np.array(proba)\n",
    "        res = features_lab[subj][sess][:, 0].reshape((-1, 1))\n",
    "        res = np.concatenate((res, proba), axis=1)\n",
    "        mfileu.write_file('baseline_test_results', 'meal_lab_'+str(subj)+'_'+str(sess)+'.pkl', res)\n",
    "        "
   ]
  }
 ],
 "metadata": {
  "kernelspec": {
   "display_name": "Python 3",
   "language": "python",
   "name": "python3"
  },
  "language_info": {
   "codemirror_mode": {
    "name": "ipython",
    "version": 3
   },
   "file_extension": ".py",
   "mimetype": "text/x-python",
   "name": "python",
   "nbconvert_exporter": "python",
   "pygments_lexer": "ipython3",
   "version": "3.6.4"
  }
 },
 "nbformat": 4,
 "nbformat_minor": 2
}
