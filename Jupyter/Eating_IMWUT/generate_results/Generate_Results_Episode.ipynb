{
 "cells": [
  {
   "cell_type": "code",
   "execution_count": null,
   "metadata": {},
   "outputs": [],
   "source": [
    "import numpy as np\n",
    "import scipy as sp\n",
    "import os \n",
    "import sys\n",
    "import importlib\n",
    "import generate_result_utils as gresu"
   ]
  },
  {
   "cell_type": "code",
   "execution_count": null,
   "metadata": {},
   "outputs": [],
   "source": [
    "util_path = 'C:/ASM/Dropbox/Developments/Jupyter/Eating/myutils' if 'C:' in os.getcwd() else './myutils'\n",
    "sys.path.append(util_path)\n",
    "import my_file_utils as mfileu\n",
    "import my_cluster_utils as mclusteru\n",
    "import my_meal_detection_utils as mmdu\n",
    "import my_data_process_utils as mdpu\n",
    "import my_steven_free_utils as msfreeu\n",
    "importlib.reload(mclusteru)"
   ]
  },
  {
   "cell_type": "code",
   "execution_count": null,
   "metadata": {},
   "outputs": [],
   "source": [
    "annots = mfileu.read_file('data', 'free_data_steven_annots.pkl')\n",
    "ds = mfileu.read_file('data', 'free_data_steven_right.pkl')"
   ]
  },
  {
   "cell_type": "code",
   "execution_count": null,
   "metadata": {},
   "outputs": [],
   "source": [
    "all_bites_our = mfileu.read_file('final_results', 'all_bites_our.pkl')\n",
    "all_bites_steven = mfileu.read_file('final_results', 'all_bites_steven.pkl')"
   ]
  },
  {
   "cell_type": "code",
   "execution_count": null,
   "metadata": {},
   "outputs": [],
   "source": [
    "def find_meals(clusters, minDuration):\n",
    "    if minDuration<=0 or len(clusters)==0:\n",
    "        return clusters\n",
    "    \n",
    "    cond = ((clusters[:,1]-clusters[:, 0])>=minDuration)\n",
    "    return clusters[cond]    "
   ]
  },
  {
   "cell_type": "code",
   "execution_count": null,
   "metadata": {},
   "outputs": [],
   "source": [
    "def get_results(percentile_bites, minDuration=0,  mergeDistance=0, off_on=\"offline\"):    \n",
    "    gts, acovs, clcovs = [], [], []    \n",
    "    for subj in range(len(annots)):\n",
    "        for sess in range(len(annots[subj])):\n",
    "            a = annots[subj][sess]        \n",
    "            a = msfreeu.process_anntos(len(ds[subj][sess]), a)\n",
    "            \n",
    "            bites = percentile_bites[(subj, sess)][off_on]\n",
    "            clusters = mclusteru.cluster_bites_by_minute(bites)\n",
    "            clusters = find_meals(clusters, minDuration)\n",
    "            if mergeDistance>0:\n",
    "                clusters = mclusteru.merge_clusters(meals, mergeDistance)\n",
    "            \n",
    "            gt, ac, clc = mmdu.get_meal_detection_results(a, clusters=clusters)\n",
    "            assert len(gt) == len(ac)\n",
    "            \n",
    "            gt = mdpu.add_subj_sess_to_array(gt, subj, sess, at_begin=False)\n",
    "            ac = mdpu.add_subj_sess_to_array(ac, subj, sess, at_begin=False)\n",
    "            clc = mdpu.add_subj_sess_to_array(clc, subj, sess, at_begin=False)\n",
    "\n",
    "            gts = gt if len(gts)==0 else np.concatenate((gts, gt))\n",
    "            acovs = ac if len(acovs)==0 else np.concatenate((acovs, ac))\n",
    "            clcovs = clc if len(clcovs)==0 else np.concatenate((clcovs, clc))\n",
    "            \n",
    "    res = mmdu.get_metric_results(gts, acovs, clcovs)\n",
    "    return res"
   ]
  },
  {
   "cell_type": "code",
   "execution_count": null,
   "metadata": {},
   "outputs": [],
   "source": [
    "off_on = \"offline\"\n",
    "percentile = 99.85    \n",
    "print(percentile)\n",
    "res = get_results(all_bites_steven[percentile], off_on=off_on)\n",
    "for key, val in res.items():\n",
    "    print(key, \" : \", val)\n",
    "\n",
    "print()\n",
    "res = get_results(all_bites_our[percentile], off_on=off_on)\n",
    "for key, val in res.items():\n",
    "    print(key, \" : \", val)"
   ]
  },
  {
   "cell_type": "code",
   "execution_count": null,
   "metadata": {},
   "outputs": [],
   "source": [
    "import matplotlib.pyplot as plt\n",
    "%matplotlib inline\n",
    "\n",
    "def plot_result(metric, ylabel):\n",
    "    fig = plt.figure(figsize=(10,5))\n",
    "    ax = plt.subplot(111)  \n",
    "    \n",
    "    percentile = 99.9    \n",
    "    minDurations = list(range(0, 300, 10))  \n",
    "    \n",
    "    r = np.zeros((len(minDurations), 5))\n",
    "    for i in range(len(minDurations)):\n",
    "        ro1 = get_results(all_bites_our[percentile], minDuration=minDurations[i], off_on=\"offline\")\n",
    "        ro2 = get_results(all_bites_our[percentile], minDuration=minDurations[i], off_on=\"online\")\n",
    "        rs1 = get_results(all_bites_steven[percentile], minDuration=minDurations[i], off_on=\"offline\")\n",
    "        rs2 = get_results(all_bites_steven[percentile], minDuration=minDurations[i], off_on=\"online\")\n",
    "        \n",
    "        r[i, 0] = minDurations[i]\n",
    "        r[i, 1] = ro1[metric]\n",
    "        r[i, 2] = ro2[metric]\n",
    "        r[i, 3] = rs1[metric]\n",
    "        r[i, 4] = rs2[metric]\n",
    "        \n",
    "\n",
    "    ax.plot(r[:,0], r[:, 1], label='Our (Offline)', color='red')\n",
    "    ax.plot(r[:,0], r[:, 2], label='Our (Online)', color='blue')\n",
    "    ax.plot(r[:,0], r[:, 3], label='Steven (Offline)', color='red', linestyle='--')\n",
    "    ax.plot(r[:,0], r[:, 4], label='Steven (Online)', color='blue', linestyle='--')\n",
    "\n",
    "    \n",
    "    plt.title(metric, fontsize=20)\n",
    "    plt.xlabel(\"Min Meal Duration\", fontsize=16)        \n",
    "    plt.ylabel(ylabel, fontsize=16)            \n",
    "    plt.legend()\n",
    "    plt.grid(True)\n",
    "    plt.show()       \n",
    "        "
   ]
  },
  {
   "cell_type": "code",
   "execution_count": null,
   "metadata": {
    "scrolled": false
   },
   "outputs": [],
   "source": [
    "metrics = ['recall_meal', 'recall_snack', 'recall', 'precision', 'f1', \n",
    "           'start_error', 'start_error_meal', 'start_error_snack', \n",
    "           'end_error', 'end_error_meal', 'end_error_snack',\n",
    "           'fragment_error', 'fragment_error_meal', 'fragment_error_snack']\n",
    "\n",
    "for m in metrics:    \n",
    "    plot_result(m, \" \")"
   ]
  },
  {
   "cell_type": "code",
   "execution_count": null,
   "metadata": {},
   "outputs": [],
   "source": []
  },
  {
   "cell_type": "code",
   "execution_count": null,
   "metadata": {},
   "outputs": [],
   "source": []
  }
 ],
 "metadata": {
  "kernelspec": {
   "display_name": "Python 3",
   "language": "python",
   "name": "python3"
  },
  "language_info": {
   "codemirror_mode": {
    "name": "ipython",
    "version": 3
   },
   "file_extension": ".py",
   "mimetype": "text/x-python",
   "name": "python",
   "nbconvert_exporter": "python",
   "pygments_lexer": "ipython3",
   "version": "3.6.4"
  }
 },
 "nbformat": 4,
 "nbformat_minor": 2
}
