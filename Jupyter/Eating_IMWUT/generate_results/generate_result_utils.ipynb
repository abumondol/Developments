{
 "cells": [
  {
   "cell_type": "code",
   "execution_count": 3,
   "metadata": {},
   "outputs": [],
   "source": [
    "import numpy as np\n",
    "import os\n",
    "import sys"
   ]
  },
  {
   "cell_type": "code",
   "execution_count": 4,
   "metadata": {},
   "outputs": [],
   "source": [
    "util_path = 'C:/ASM/Dropbox/Developments/Jupyter/Eating/myutils' if 'C:' in os.getcwd() else './myutils'\n",
    "sys.path.append(util_path)\n",
    "import my_file_utils as mfileu\n",
    "import my_steven_free_utils as msfreeu\n",
    "import my_cluster_utils as mclusteru\n",
    "#importlib.reload(mdu)"
   ]
  },
  {
   "cell_type": "code",
   "execution_count": null,
   "metadata": {},
   "outputs": [],
   "source": [
    "def get_all_proba(annots, folder_path, file_prefix, sess_avail=True):\n",
    "    all_proba = []\n",
    "    for subj in range(len(annots)):\n",
    "        subj_proba = []    \n",
    "        for sess in range(len(annots[subj])):\n",
    "            file_path = file_prefix+'_'+str(subj)            \n",
    "            if sess_avail:\n",
    "                file_path += '_' + str(sess)                \n",
    "            file_path += '.pkl'            \n",
    "            \n",
    "            r = mfileu.read_file(folder_path, file_path)\n",
    "            subj_proba.append(r)        \n",
    "\n",
    "        all_proba.append(subj_proba)    \n",
    "        \n",
    "    return all_proba"
   ]
  },
  {
   "cell_type": "code",
   "execution_count": 5,
   "metadata": {},
   "outputs": [],
   "source": [
    "def detect_gestures(proba, indices, proba_th):\n",
    "    count = len(proba)    \n",
    "    #print(\"Count total, Threshold, count greater proba_th: \", count, proba_th, np.sum(proba>proba_th))    \n",
    "    \n",
    "    res =[]\n",
    "    inside = False\n",
    "    for i in range(count):\n",
    "        if proba[i]>=proba_th and inside==False:\n",
    "            inside = True\n",
    "            si = indices[i]\n",
    "        elif proba[i]<proba_th/2 and inside==True:            \n",
    "            res.append([si, indices[i-1]])\n",
    "            inside = False\n",
    "        \n",
    "    res = np.array(res).astype(int)\n",
    "    return res"
   ]
  },
  {
   "cell_type": "code",
   "execution_count": 6,
   "metadata": {},
   "outputs": [],
   "source": [
    "def detect_gestures_fixed_th(proba, indices, proba_th):\n",
    "    count = len(proba)    \n",
    "    #print(\"Count total, Threshold, count greater proba_th: \", count, proba_th, np.sum(proba>proba_th))    \n",
    "    \n",
    "    res =[]\n",
    "    inside = False\n",
    "    for i in range(count):\n",
    "        if proba[i]>=proba_th and inside==False:\n",
    "            inside = True\n",
    "            si = i\n",
    "        elif proba[i]<proba_th and inside==True:            \n",
    "            #max_proba = np.amax(proba[si:i])            \n",
    "            res.append([indices[si], indices[i-1]])\n",
    "            inside = False\n",
    "        \n",
    "    res = np.array(res)\n",
    "    #res = res[res[:, -1]>=proba_th, :2]    \n",
    "    return res.astype(int)"
   ]
  },
  {
   "cell_type": "code",
   "execution_count": 7,
   "metadata": {},
   "outputs": [],
   "source": [
    "def get_percentile_proba_for_sess(all_proba, fs, subj, sess, percentile):\n",
    "    p = all_proba[subj][sess][:, -1]    \n",
    "    extra_count  = len(fs[subj][sess]) - len(p)\n",
    "    \n",
    "    if extra_count>0:\n",
    "        e = np.zeros((extra_count, ))\n",
    "        p = np.concatenate((p, e))\n",
    "    \n",
    "    assert len(fs[subj][sess]) == len(p)    \n",
    "    return np.percentile(p, percentile)\n",
    "    "
   ]
  },
  {
   "cell_type": "code",
   "execution_count": 1,
   "metadata": {},
   "outputs": [],
   "source": [
    "def get_percentile_proba_other_sess(all_proba, fs, subj, exclude_sess, percentile):\n",
    "    other_p = []\n",
    "    for sess in range(len(all_proba[subj])):\n",
    "        if sess == exclude_sess:\n",
    "            continue\n",
    "        p = all_proba[subj][sess][:, -1]    \n",
    "        extra_count  = len(fs[subj][sess]) - len(p)\n",
    "    \n",
    "        if extra_count>0:\n",
    "            e = np.zeros((extra_count, ))\n",
    "            p = np.concatenate((p, e))\n",
    "    \n",
    "        assert len(fs[subj][sess]) == len(p)    \n",
    "        \n",
    "        other_p = p if len(other_p)==0 else np.concatenate((other_p, p))\n",
    "            \n",
    "    return np.percentile(other_p, percentile)"
   ]
  },
  {
   "cell_type": "code",
   "execution_count": 2,
   "metadata": {},
   "outputs": [],
   "source": [
    "def get_percentile_proba_all(all_proba, fs):\n",
    "    pct_proba=[]\n",
    "    for subj in range(len(all_proba)):\n",
    "        for sess in range(len(all_proba[subj])):\n",
    "            for percentile in range(9970, 10000):                \n",
    "                p1 = get_percentile_proba_for_sess(all_proba, fs, subj=subj, sess=sess, percentile=percentile/100)\n",
    "                p2 = get_percentile_proba_other_sess(all_proba, fs, subj=subj, exclude_sess=sess, percentile=percentile/100)                \n",
    "                pct_proba.append([subj, sess, percentile/100, p1, p2])\n",
    "                \n",
    "    return np.array(pct_proba)"
   ]
  },
  {
   "cell_type": "code",
   "execution_count": 8,
   "metadata": {},
   "outputs": [],
   "source": [
    "def plot_result(annots, clusters, bite_indices=[], meal_indices=[], title=\"\"):\n",
    "    import matplotlib.pyplot as plt\n",
    "    %matplotlib inline\n",
    "    \n",
    "    idf = 16*60*60\n",
    "    fig = plt.figure(figsize=(20,5))\n",
    "    ax = plt.subplot(111)     \n",
    "    \n",
    "    if len(bite_indices)>0:\n",
    "        ax.scatter(bite_indices[:,0]/idf, np.zeros((len(bite_indices)),)+3, marker='x', s=10, color='blue')                \n",
    "        \n",
    "    if len(meal_indices)>0:\n",
    "        ax.scatter(meal_indices[:,0]/idf, np.zeros((len(meal_indices)),)+3, marker='x', s=10, color='green')                \n",
    "    \n",
    "    clrs = ['', 'blue', 'green', 'red', 'black']    \n",
    "    for i in range(len(annots)):\n",
    "        si = annots[i, 0]/idf\n",
    "        ei = annots[i, 1]/idf\n",
    "        mt = annots[i, 2]            \n",
    "        ax.plot([si, ei], [1, 1], color=clrs[mt], linewidth=5)\n",
    "\n",
    "    for i in range(len(clusters)):\n",
    "        si = clusters[i, 0]/idf\n",
    "        ei = clusters[i, 1]/idf            \n",
    "        ax.plot([si, ei], [2, 2], color='black', linewidth=5)\n",
    "\n",
    "    plt.title(title, fontsize=20)\n",
    "    plt.xlabel('Time (Hour)', fontsize=20)        \n",
    "    plt.ylim([0, 4])\n",
    "    plt.grid(True)\n",
    "    plt.show()"
   ]
  },
  {
   "cell_type": "code",
   "execution_count": null,
   "metadata": {},
   "outputs": [],
   "source": []
  }
 ],
 "metadata": {
  "kernelspec": {
   "display_name": "Python 3",
   "language": "python",
   "name": "python3"
  },
  "language_info": {
   "codemirror_mode": {
    "name": "ipython",
    "version": 3
   },
   "file_extension": ".py",
   "mimetype": "text/x-python",
   "name": "python",
   "nbconvert_exporter": "python",
   "pygments_lexer": "ipython3",
   "version": "3.6.4"
  }
 },
 "nbformat": 4,
 "nbformat_minor": 2
}
