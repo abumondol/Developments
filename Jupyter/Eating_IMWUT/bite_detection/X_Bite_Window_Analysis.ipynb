{
 "cells": [
  {
   "cell_type": "code",
   "execution_count": 1,
   "metadata": {},
   "outputs": [],
   "source": [
    "import numpy as np\n",
    "import pickle\n",
    "import os\n",
    "import sys\n",
    "import importlib"
   ]
  },
  {
   "cell_type": "code",
   "execution_count": 2,
   "metadata": {},
   "outputs": [
    {
     "data": {
      "text/plain": [
       "<module 'Bite_Utils' from 'C:\\\\ASM\\\\Dropbox\\\\Developments\\\\Jupyter\\\\Eating\\\\bite_detection\\\\Bite_Utils.py'>"
      ]
     },
     "execution_count": 2,
     "metadata": {},
     "output_type": "execute_result"
    }
   ],
   "source": [
    "util_path = 'C:/ASM/Dropbox/Developments/Jupyter/Eating/myutils' if 'C:' in os.getcwd() else './myutils'\n",
    "sys.path.append(util_path)\n",
    "import my_file_utils as mfileu\n",
    "import Bite_Utils as biteu\n",
    "import my_feature_utils as mfeatu\n",
    "import my_steven_lab_utils as mslabu\n",
    "import my_steven_free_utils as msfreeu\n",
    "importlib.reload(biteu)"
   ]
  },
  {
   "cell_type": "code",
   "execution_count": 3,
   "metadata": {},
   "outputs": [],
   "source": [
    "hand = 'right'\n",
    "win_size = 3*16\n",
    "varth, xth = 0.5, -0.3\n",
    "min_bite_interval, min_stay, boundary_offset = 2*16, 8, 5*16\n",
    "label_max_distance, label_buffer_distance = 2*16, 4*16"
   ]
  },
  {
   "cell_type": "code",
   "execution_count": 4,
   "metadata": {},
   "outputs": [
    {
     "name": "stdout",
     "output_type": "stream",
     "text": [
      "Subject 0, Sess 1 annots adjusted\n",
      "Subject 5, Sess 1 annots adjusted\n"
     ]
    }
   ],
   "source": [
    "dsa = mfileu.read_file('data', 'lab_data_steven.pkl')\n",
    "ds_right, ds_left, annots = mslabu.separate_right_left_annots(dsa)\n",
    "annots = mslabu.adjust_annots_all(annots)"
   ]
  },
  {
   "cell_type": "code",
   "execution_count": 5,
   "metadata": {},
   "outputs": [],
   "source": [
    "ds = ds_right  if hand=='right' else ds_left    \n",
    "annots = mslabu.filter_annots_all(annots, hand=hand)"
   ]
  },
  {
   "cell_type": "code",
   "execution_count": 6,
   "metadata": {},
   "outputs": [
    {
     "name": "stdout",
     "output_type": "stream",
     "text": [
      "Generating window indices...\n",
      "\n",
      "Subject, Session:  0 0\n",
      "Annot counts total, bite, drink, bite_ambigious, drink_ambigous: 140, 97, 43, 0, 0\n",
      "Annot covered total, bite, drink, bite_ambigious, drink_ambigous: 132, 93, 39, 0, 0\n",
      "Mps counts total, x, neg, bite, drink, bite_ambigious, drink_ambigous: 2071, 87, 1840, 93, 51, 0, 0\n",
      "\n",
      "Subject, Session:  0 1\n",
      "Annot counts total, bite, drink, bite_ambigious, drink_ambigous: 380, 320, 60, 0, 4\n",
      "Annot covered total, bite, drink, bite_ambigious, drink_ambigous: 367, 311, 56, 0, 4\n",
      "Mps counts total, x, neg, bite, drink, bite_ambigious, drink_ambigous: 2496, 167, 1947, 317, 65, 0, 4\n",
      "\n",
      "Subject, Session:  1 0\n",
      "Annot counts total, bite, drink, bite_ambigious, drink_ambigous: 42, 32, 10, 0, 0\n",
      "Annot covered total, bite, drink, bite_ambigious, drink_ambigous: 35, 25, 10, 0, 0\n",
      "Mps counts total, x, neg, bite, drink, bite_ambigious, drink_ambigous: 2930, 24, 2865, 25, 16, 0, 0\n",
      "\n",
      "Subject, Session:  2 0\n",
      "Annot counts total, bite, drink, bite_ambigious, drink_ambigous: 143, 132, 11, 0, 0\n",
      "Annot covered total, bite, drink, bite_ambigious, drink_ambigous: 120, 109, 11, 0, 0\n",
      "Mps counts total, x, neg, bite, drink, bite_ambigious, drink_ambigous: 1485, 46, 1313, 109, 17, 0, 0\n",
      "\n",
      "Subject, Session:  2 1\n",
      "Annot counts total, bite, drink, bite_ambigious, drink_ambigous: 42, 33, 9, 0, 0\n",
      "Annot covered total, bite, drink, bite_ambigious, drink_ambigous: 42, 33, 9, 0, 0\n",
      "Mps counts total, x, neg, bite, drink, bite_ambigious, drink_ambigous: 2227, 21, 2162, 31, 13, 0, 0\n",
      "\n",
      "Subject, Session:  3 0\n",
      "Annot counts total, bite, drink, bite_ambigious, drink_ambigous: 108, 106, 2, 3, 0\n",
      "Annot covered total, bite, drink, bite_ambigious, drink_ambigous: 100, 98, 2, 3, 0\n",
      "Mps counts total, x, neg, bite, drink, bite_ambigious, drink_ambigous: 1105, 19, 985, 99, 2, 3, 0\n",
      "\n",
      "Subject, Session:  3 1\n",
      "Annot counts total, bite, drink, bite_ambigious, drink_ambigous: 113, 94, 19, 15, 7\n",
      "Annot covered total, bite, drink, bite_ambigious, drink_ambigous: 105, 89, 16, 14, 4\n",
      "Mps counts total, x, neg, bite, drink, bite_ambigious, drink_ambigous: 710, 47, 554, 89, 20, 14, 6\n",
      "\n",
      "Subject, Session:  4 0\n",
      "Annot counts total, bite, drink, bite_ambigious, drink_ambigous: 188, 162, 26, 0, 0\n",
      "Annot covered total, bite, drink, bite_ambigious, drink_ambigous: 187, 161, 26, 0, 0\n",
      "Mps counts total, x, neg, bite, drink, bite_ambigious, drink_ambigous: 1164, 68, 902, 162, 32, 0, 0\n",
      "\n",
      "Subject, Session:  4 1\n",
      "Annot counts total, bite, drink, bite_ambigious, drink_ambigous: 90, 60, 30, 0, 18\n",
      "Annot covered total, bite, drink, bite_ambigious, drink_ambigous: 84, 58, 26, 0, 14\n",
      "Mps counts total, x, neg, bite, drink, bite_ambigious, drink_ambigous: 580, 49, 437, 60, 34, 0, 18\n",
      "\n",
      "Subject, Session:  5 0\n",
      "Annot counts total, bite, drink, bite_ambigious, drink_ambigous: 114, 99, 15, 0, 1\n",
      "Annot covered total, bite, drink, bite_ambigious, drink_ambigous: 110, 95, 15, 0, 1\n",
      "Mps counts total, x, neg, bite, drink, bite_ambigious, drink_ambigous: 525, 29, 381, 96, 19, 0, 1\n",
      "\n",
      "Subject, Session:  5 1\n",
      "Annot counts total, bite, drink, bite_ambigious, drink_ambigous: 100, 84, 16, 0, 0\n",
      "Annot covered total, bite, drink, bite_ambigious, drink_ambigous: 98, 82, 16, 0, 0\n",
      "Mps counts total, x, neg, bite, drink, bite_ambigious, drink_ambigous: 610, 34, 473, 82, 21, 0, 0\n",
      "\n",
      "Subject, Session:  6 0\n",
      "Annot counts total, bite, drink, bite_ambigious, drink_ambigous: 34, 34, 0, 0, 0\n",
      "Annot covered total, bite, drink, bite_ambigious, drink_ambigous: 33, 33, 0, 0, 0\n",
      "Mps counts total, x, neg, bite, drink, bite_ambigious, drink_ambigous: 3167, 19, 3115, 33, 0, 0, 0\n",
      "\n",
      "Subject, Session:  6 1\n",
      "Annot counts total, bite, drink, bite_ambigious, drink_ambigous: 84, 79, 5, 0, 0\n",
      "Annot covered total, bite, drink, bite_ambigious, drink_ambigous: 78, 73, 5, 0, 0\n",
      "Mps counts total, x, neg, bite, drink, bite_ambigious, drink_ambigous: 2732, 23, 2629, 74, 6, 0, 0\n",
      "Annot counts total, bite, drink, bite_ambigious, drink_ambigous: 1578, 1332, 246, 18, 30\n",
      "Annot covered total, bite, drink, bite_ambigious, drink_ambigous: 1491, 1260, 231, 17, 23\n",
      "Mps counts total, x, neg, bite, drink, bite_ambigious, drink_ambigous: 21802, 633, 19603, 1270, 296, 17, 29\n"
     ]
    }
   ],
   "source": [
    "mps, acs = biteu.get_min_points_all(ds, annots, \n",
    "                                    xth = xth, \n",
    "                                    min_bite_interval=min_bite_interval,\n",
    "                                    min_stay = min_stay,\n",
    "                                    boundary_offset = boundary_offset,\n",
    "                                    label_max_distance=label_max_distance,\n",
    "                                    label_buffer_distance = label_buffer_distance,\n",
    "                                    block_print = False)\n",
    "biteu.print_label_summary(mps, acs)"
   ]
  },
  {
   "cell_type": "code",
   "execution_count": 7,
   "metadata": {},
   "outputs": [],
   "source": [
    "#windows = mwgenu.get_window_data(ds, ixf, win_size=win_size)\n",
    "#print(windows.shape)"
   ]
  },
  {
   "cell_type": "code",
   "execution_count": 8,
   "metadata": {},
   "outputs": [],
   "source": [
    "ix = mps[:, :3]\n",
    "ix[:, 2] = ix[:, 2]-40\n",
    "v = mfeatu.get_variance_accel(ds, ix, win_size=5*16)"
   ]
  },
  {
   "cell_type": "code",
   "execution_count": 12,
   "metadata": {},
   "outputs": [
    {
     "name": "stdout",
     "output_type": "stream",
     "text": [
      "(21802, 5) (21802,) (21802,) 12078\n",
      "Annot counts total, bite, drink, bite_ambigious, drink_ambigous: 1578, 1332, 246, 18, 30\n",
      "Annot covered total, bite, drink, bite_ambigious, drink_ambigous: 1491, 1260, 231, 17, 23\n",
      "Mps counts total, x, neg, bite, drink, bite_ambigious, drink_ambigous: 12078, 564, 9992, 1250, 272, 14, 16\n"
     ]
    }
   ],
   "source": [
    "cond = (v>=0.5)\n",
    "print(mps.shape, v.shape, cond.shape, np.sum(cond))\n",
    "mps2 = mps[cond, :]\n",
    "biteu.print_label_summary(mps2, acs)"
   ]
  },
  {
   "cell_type": "code",
   "execution_count": 14,
   "metadata": {},
   "outputs": [
    {
     "ename": "AssertionError",
     "evalue": "",
     "output_type": "error",
     "traceback": [
      "\u001b[1;31m---------------------------------------------------------------------------\u001b[0m",
      "\u001b[1;31mAssertionError\u001b[0m                            Traceback (most recent call last)",
      "\u001b[1;32m<ipython-input-14-05f1cd6241e7>\u001b[0m in \u001b[0;36m<module>\u001b[1;34m()\u001b[0m\n\u001b[0;32m      1\u001b[0m \u001b[0ma\u001b[0m \u001b[1;33m=\u001b[0m \u001b[1;36m5\u001b[0m\u001b[1;33m\u001b[0m\u001b[0m\n\u001b[1;32m----> 2\u001b[1;33m \u001b[1;32massert\u001b[0m \u001b[0ma\u001b[0m\u001b[1;33m==\u001b[0m\u001b[1;32mTrue\u001b[0m\u001b[1;33m\u001b[0m\u001b[0m\n\u001b[0m",
      "\u001b[1;31mAssertionError\u001b[0m: "
     ]
    }
   ],
   "source": [
    "a = 5\n",
    "assert a==True"
   ]
  },
  {
   "cell_type": "code",
   "execution_count": null,
   "metadata": {},
   "outputs": [],
   "source": []
  }
 ],
 "metadata": {
  "kernelspec": {
   "display_name": "Python 3",
   "language": "python",
   "name": "python3"
  },
  "language_info": {
   "codemirror_mode": {
    "name": "ipython",
    "version": 3
   },
   "file_extension": ".py",
   "mimetype": "text/x-python",
   "name": "python",
   "nbconvert_exporter": "python",
   "pygments_lexer": "ipython3",
   "version": "3.6.4"
  }
 },
 "nbformat": 4,
 "nbformat_minor": 2
}
