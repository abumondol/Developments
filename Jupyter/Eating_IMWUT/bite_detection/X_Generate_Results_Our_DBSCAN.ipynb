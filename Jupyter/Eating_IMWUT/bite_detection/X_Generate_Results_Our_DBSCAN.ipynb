{
 "cells": [
  {
   "cell_type": "code",
   "execution_count": 2,
   "metadata": {},
   "outputs": [],
   "source": [
    "import numpy as np\n",
    "import scipy as sp\n",
    "import os \n",
    "import sys\n",
    "import importlib"
   ]
  },
  {
   "cell_type": "code",
   "execution_count": 3,
   "metadata": {},
   "outputs": [],
   "source": [
    "util_path = 'C:/ASM/Dropbox/Developments/Jupyter/Eating/myutils' if 'C:' in os.getcwd() else './myutils'\n",
    "sys.path.append(util_path)\n",
    "import my_file_utils as mfileu\n",
    "import my_steven_free_utils as msfreeu\n",
    "import my_data_process_utils as mdpu\n",
    "import my_meal_detection_utils as mmdu\n",
    "#importlib.reload(mdu)"
   ]
  },
  {
   "cell_type": "code",
   "execution_count": 4,
   "metadata": {},
   "outputs": [],
   "source": [
    "annots = mfileu.read_file('data', 'free_data_steven_annots.pkl')\n",
    "#lab_data = mfileu.read_file('data', 'lab_data_steven.pkl')\n",
    "free_data = mfileu.read_file('data', 'free_data_steven_right.pkl')"
   ]
  },
  {
   "cell_type": "code",
   "execution_count": 5,
   "metadata": {},
   "outputs": [],
   "source": [
    "all_proba_bite = []\n",
    "for subj in range(len(annots)):\n",
    "    subj_proba_bite = []    \n",
    "    for sess in range(len(annots[subj])):\n",
    "        r = mfileu.read_file('our_test_proba', 'bite_free_'+str(subj)+'_'+str(sess)+\".pkl\")\n",
    "        subj_proba_bite.append(r)        \n",
    "        \n",
    "    all_proba_bite.append(subj_proba_bite)\n",
    "    "
   ]
  },
  {
   "cell_type": "code",
   "execution_count": 6,
   "metadata": {},
   "outputs": [],
   "source": [
    "def find_events(proba, indices, proba_th=0.5):\n",
    "    count = len(proba)\n",
    "    \n",
    "    res =[]\n",
    "    inside = False\n",
    "    for i in range(count):\n",
    "        if proba[i]>=proba_th and inside==False:\n",
    "            inside = True\n",
    "            si = i\n",
    "        elif proba[i]<proba_th and inside==True:                        \n",
    "            res.append([indices[si], indices[i-1], np.amax(proba[si:i])])\n",
    "            inside = False\n",
    "        \n",
    "    res = np.array(res)\n",
    "    return res"
   ]
  },
  {
   "cell_type": "code",
   "execution_count": 27,
   "metadata": {},
   "outputs": [],
   "source": [
    "def cluster_bites(bites, minPts, eps):    \n",
    "    core_pt = (bites[:, -1]>=0.9)\n",
    "    \n",
    "    sindices = bites[:,0].astype(int)\n",
    "    eindices = bites[:,1].astype(int)\n",
    "    \n",
    "    clusters = []    \n",
    "    si, last_cpi  = -1, -1\n",
    "    for i in range(0, len(bites)):        \n",
    "        if last_cpi < 0:            \n",
    "            if core_pt[i]:\n",
    "                last_cpi = i\n",
    "                si = i                \n",
    "                while si>=0 and sindices[i] - eindices[si]<=eps:\n",
    "                    si -= 1\n",
    "            continue            \n",
    "            \n",
    "        if sindices[i] - eindices[last_cpi] > eps:\n",
    "            if si>=0 and ( (not core_pt[i]) or (sindices[i] - eindices[i-1] > eps) ):\n",
    "                clusters.append([si, i-1])                \n",
    "                si = -1\n",
    "                \n",
    "            \n",
    "            if core_pt[i] and si<0:                \n",
    "                si = i\n",
    "                while si>=0 and sindices[i] - eindices[si]<=eps:\n",
    "                    si -= 1\n",
    "        \n",
    "        if core_pt[i]:\n",
    "            last_cpi = i    \n",
    "    \n",
    "    if si>=0:\n",
    "        clusters.append([si, len(bites)-1])                \n",
    "    \n",
    "    clusters = np.array(clusters).astype(int)    \n",
    "    res = np.zeros((len(clusters), 4)).astype(int)    \n",
    "    for i in range(clusters.shape[0]):        \n",
    "        res[i, 0] = bites[clusters[i, 0], 0]\n",
    "        res[i, 1] = bites[clusters[i, 1], 1]\n",
    "        res[i, 2] = clusters[i, 1] - clusters[i, 0]+1\n",
    "        res[i, 3] = np.sum(core_pt[clusters[i, 0]:clusters[i, 1]+1])\n",
    "        assert res[i, 3]>=1\n",
    "    \n",
    "    res = res[res[:, -1]>=minPts, :2]\n",
    "    return res"
   ]
  },
  {
   "cell_type": "code",
   "execution_count": 28,
   "metadata": {},
   "outputs": [],
   "source": [
    "import matplotlib.pyplot as plt\n",
    "%matplotlib inline\n",
    "\n",
    "def get_result(subj, sess, minPts, eps, plot=False):\n",
    "    results = []\n",
    "    \n",
    "    #print(\"Subj, sess: \", subj, sess)\n",
    "\n",
    "    a = annots[subj][sess]        \n",
    "    a = msfreeu.process_anntos(len(free_data[subj][sess]), a)\n",
    "    \n",
    "    proba = all_proba_bite[subj][sess]\n",
    "    indices = proba[:, 0] + 40\n",
    "    proba = proba[:, -1]\n",
    "    #print(proba.shape, np.sum(proba))\n",
    "    bite_indices = find_events(proba, indices)\n",
    "    \n",
    "    clusters = cluster_bites(bite_indices, minPts=minPts, eps = eps)    \n",
    "    result = mmdu.get_meal_detection_results(a, clusters=clusters)\n",
    "    \n",
    "    ###############################################\n",
    "\n",
    "    if not plot:\n",
    "        return result\n",
    "\n",
    "    idf = 16*60*60\n",
    "    fig = plt.figure(figsize=(20,8))\n",
    "    ax = plt.subplot(111)        \n",
    "    ax.scatter(bite_indices[:,0]/idf, np.zeros((len(bite_indices)),)+1, marker='x', s=10, color='blue')                \n",
    "    \n",
    "    clrs = ['', 'blue', 'green', 'red', 'black']\n",
    "    for i in range(len(a)):\n",
    "        si = a[i, 0]/idf\n",
    "        ei = a[i, 1]/idf\n",
    "        mt = a[i, 2]            \n",
    "        ax.plot([si, ei], [0.5, 0.5], color=clrs[mt], linewidth=5)\n",
    "\n",
    "    for i in range(len(clusters)):\n",
    "        si = clusters[i, 0]/idf\n",
    "        ei = clusters[i, 1]/idf            \n",
    "        ax.plot([si, ei], [0.75, 0.75], color='black', linewidth=5)\n",
    "\n",
    "    plt.title(str(subj)+\", \"+str(sess))\n",
    "    plt.xlabel('Time (Hour)', fontsize=20)        \n",
    "    plt.ylim([0, 2])\n",
    "    plt.grid(True)\n",
    "    plt.show()        \n",
    "\n",
    "    return result"
   ]
  },
  {
   "cell_type": "code",
   "execution_count": 29,
   "metadata": {},
   "outputs": [],
   "source": [
    "def get_metric_results(minPts, eps):\n",
    "    gts, acovs, clcovs = [], [], []\n",
    "    for subj in range(len(annots)):\n",
    "        for sess in range(len(annots[subj])):\n",
    "            \n",
    "            gt, ac, clc = get_result(subj, sess, minPts=minPts, eps=eps, plot=False)\n",
    "            assert len(gt) == len(ac)\n",
    "\n",
    "            gt = mdpu.add_subj_sess_to_array(gt, subj, sess, at_begin=False)\n",
    "            ac = mdpu.add_subj_sess_to_array(ac, subj, sess, at_begin=False)\n",
    "            clc = mdpu.add_subj_sess_to_array(clc, subj, sess, at_begin=False)\n",
    "\n",
    "            gts = gt if len(gts)==0 else np.concatenate((gts, gt))\n",
    "            acovs = ac if len(acovs)==0 else np.concatenate((acovs, ac))\n",
    "            clcovs = clc if len(clcovs)==0 else np.concatenate((clcovs, clc))\n",
    "            \n",
    "    res = mmdu.get_metric_results(gts, acovs, clcovs)\n",
    "    return res"
   ]
  },
  {
   "cell_type": "code",
   "execution_count": 30,
   "metadata": {},
   "outputs": [
    {
     "name": "stdout",
     "output_type": "stream",
     "text": [
      "total  :  82\n",
      "total_meal  :  49\n",
      "total_snack  :  33\n",
      "tp  :  61\n",
      "tp_meal  :  42\n",
      "tp_snack  :  19\n",
      "recall  :  0.7439024390243902\n",
      "recall_meal  :  0.8571428571428571\n",
      "recall_snack  :  0.5757575757575758\n",
      "fp  :  99\n",
      "precision  :  0.38125\n",
      "f1  :  0.5041322314049587\n",
      "start_error  :  1053.1791158536585\n",
      "start_error_meal  :  1258.704081632653\n",
      "start_error_snack  :  748.0056818181819\n",
      "end_error  :  602.2446646341464\n",
      "end_error_meal  :  519.5803571428571\n",
      "end_error_snack  :  724.9886363636364\n"
     ]
    }
   ],
   "source": [
    "res = get_metric_results(minPts=3, eps=16*60*3)\n",
    "for key, val in res.items():\n",
    "    print(key, \" : \", val)"
   ]
  },
  {
   "cell_type": "code",
   "execution_count": 1,
   "metadata": {},
   "outputs": [
    {
     "ename": "IndentationError",
     "evalue": "expected an indented block (<ipython-input-1-305b011de8ec>, line 3)",
     "output_type": "error",
     "traceback": [
      "\u001b[1;36m  File \u001b[1;32m\"<ipython-input-1-305b011de8ec>\"\u001b[1;36m, line \u001b[1;32m3\u001b[0m\n\u001b[1;33m    print(\"\\nProba th:\", proba_th)\u001b[0m\n\u001b[1;37m        ^\u001b[0m\n\u001b[1;31mIndentationError\u001b[0m\u001b[1;31m:\u001b[0m expected an indented block\n"
     ]
    }
   ],
   "source": [
    "for minPts in range(1, 5):\n",
    "    for eps in range(10, 301, 10):    \n",
    "        res = get_metric_results(minPts=minPts, eps=eps)\n",
    "        \n",
    "mfileu.write_file('final_results', 'ours.pkl', res)"
   ]
  },
  {
   "cell_type": "code",
   "execution_count": null,
   "metadata": {},
   "outputs": [],
   "source": []
  }
 ],
 "metadata": {
  "kernelspec": {
   "display_name": "Python 3",
   "language": "python",
   "name": "python3"
  },
  "language_info": {
   "codemirror_mode": {
    "name": "ipython",
    "version": 3
   },
   "file_extension": ".py",
   "mimetype": "text/x-python",
   "name": "python",
   "nbconvert_exporter": "python",
   "pygments_lexer": "ipython3",
   "version": "3.6.4"
  }
 },
 "nbformat": 4,
 "nbformat_minor": 2
}
