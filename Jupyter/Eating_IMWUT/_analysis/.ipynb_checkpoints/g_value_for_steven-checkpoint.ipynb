{
 "cells": [
  {
   "cell_type": "code",
   "execution_count": 20,
   "metadata": {},
   "outputs": [],
   "source": [
    "import numpy as np\n",
    "import pickle\n",
    "import os\n",
    "import sys"
   ]
  },
  {
   "cell_type": "code",
   "execution_count": 21,
   "metadata": {},
   "outputs": [],
   "source": [
    "util_path = 'C:/ASM/Dropbox/Developments/Jupyter/Eating/myutils' if 'C:' in os.getcwd() else './myutils'\n",
    "sys.path.append(util_path)\n",
    "import my_file_utils as mfu\n",
    "import my_data_process_utils as mdpu\n"
   ]
  },
  {
   "cell_type": "code",
   "execution_count": 40,
   "metadata": {},
   "outputs": [],
   "source": [
    "def find_min_variance(d, window_size):\n",
    "    #print(d.shape)\n",
    "    d = mdpu.smooth_data(d, 0.9)\n",
    "    min_var = np.inf\n",
    "    g = 0\n",
    "    for i in range(0, len(d)-window_size, window_size//2):\n",
    "        w = d[i:i+window_size, :]\n",
    "        v = np.sum(np.var(w, axis=0))\n",
    "        if v<min_var:\n",
    "            min_var = v\n",
    "            g = np.mean(np.sqrt(np.sum(w*w, axis=1)))\n",
    "            #print('{}, {:.2f}, {:.2f}'.format(i, v, g), end=\"; \")\n",
    "            \n",
    "        #if i%1000==0:\n",
    "        #    print(i, end=\": \")\n",
    "            \n",
    "    return min_var, g"
   ]
  },
  {
   "cell_type": "code",
   "execution_count": 41,
   "metadata": {},
   "outputs": [
    {
     "name": "stdout",
     "output_type": "stream",
     "text": [
      "0 0  :  9.838264151727568 9.86275689595637\n",
      "0 1  :  9.849605766532312 9.866227309645643\n",
      "1 0  :  9.864738546051154 9.85568096586017\n",
      "2 0  :  9.860013405533998 9.855312072148767\n",
      "2 1  :  9.845226543250963 9.855865201017727\n",
      "3 0  :  9.869388737576621 9.815637337317545\n",
      "3 1  :  9.823828553501848 9.831230467235097\n",
      "4 0  :  9.831139996445813 9.843605055417402\n",
      "4 1  :  9.857773361666359 9.817542858897076\n",
      "5 0  :  9.831557393532211 9.81645240720647\n",
      "5 1  :  9.785215567643919 9.834755916385097\n",
      "6 0  :  9.81062946058363 9.805291887626895\n",
      "6 1  :  9.158141508090331 9.796553315718699\n"
     ]
    }
   ],
   "source": [
    "#read_data_steven_lab\n",
    "\n",
    "path = 'C:/ASM/PublicData/eating_steventech/lab'\n",
    "sampling_rate = 16 #Hz\n",
    "data = []\n",
    "\n",
    "all_gs = []\n",
    "for subj in range(7):    \n",
    "    for sess in range(2):\n",
    "        if subj==1 and sess==1:\n",
    "            continue\n",
    "        \n",
    "        #print(\"====== Right Hand =====\")\n",
    "        filepath = path + \"/0\" + str(subj) + \"/000\" + str(sess) + \"/watch_right_000\" + str(sess) + \".csv\"\n",
    "        d = np.genfromtxt(filepath, delimiter=',')\n",
    "        rmv, rg = find_min_variance(d[:, 1:4], 15)\n",
    "        \n",
    "        \n",
    "            \n",
    "        #print(\"====== Left Hand =====\")\n",
    "        filepath = path + \"/0\" + str(subj) + \"/000\" + str(sess) + \"/watch_left_000\" + str(sess) + \".csv\"\n",
    "        d = np.genfromtxt(filepath, delimiter=',')\n",
    "        lmv, lg = find_min_variance(d[:, 1:4], 15)\n",
    "        \n",
    "        print(subj, sess, \" : \", rg, lg,\" : \", rmv, lmv)        \n",
    "        all_gs.append(rg)\n",
    "        all_gs.append(lg)"
   ]
  },
  {
   "cell_type": "code",
   "execution_count": null,
   "metadata": {},
   "outputs": [],
   "source": []
  },
  {
   "cell_type": "code",
   "execution_count": null,
   "metadata": {},
   "outputs": [],
   "source": []
  }
 ],
 "metadata": {
  "kernelspec": {
   "display_name": "Python 3",
   "language": "python",
   "name": "python3"
  },
  "language_info": {
   "codemirror_mode": {
    "name": "ipython",
    "version": 3
   },
   "file_extension": ".py",
   "mimetype": "text/x-python",
   "name": "python",
   "nbconvert_exporter": "python",
   "pygments_lexer": "ipython3",
   "version": "3.6.4"
  }
 },
 "nbformat": 4,
 "nbformat_minor": 2
}
