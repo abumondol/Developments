{
 "cells": [
  {
   "cell_type": "code",
   "execution_count": 2,
   "metadata": {},
   "outputs": [
    {
     "name": "stderr",
     "output_type": "stream",
     "text": [
      "c:\\asm\\continuum\\anaconda3\\lib\\site-packages\\h5py\\__init__.py:36: FutureWarning: Conversion of the second argument of issubdtype from `float` to `np.floating` is deprecated. In future, it will be treated as `np.float64 == np.dtype(float).type`.\n",
      "  from ._conv import register_converters as _register_converters\n"
     ]
    },
    {
     "name": "stdout",
     "output_type": "stream",
     "text": [
      "WARNING:tensorflow:From c:\\asm\\continuum\\anaconda3\\lib\\site-packages\\tensorflow\\contrib\\learn\\python\\learn\\datasets\\base.py:198: retry (from tensorflow.contrib.learn.python.learn.datasets.base) is deprecated and will be removed in a future version.\n",
      "Instructions for updating:\n",
      "Use the retry module or similar alternatives.\n"
     ]
    }
   ],
   "source": [
    "import tensorflow as tf\n",
    "from tensorflow.contrib import rnn\n",
    "from tensorflow.examples.tutorials.mnist import input_data"
   ]
  },
  {
   "cell_type": "code",
   "execution_count": 3,
   "metadata": {},
   "outputs": [
    {
     "name": "stdout",
     "output_type": "stream",
     "text": [
      "WARNING:tensorflow:From <ipython-input-3-d8372a003fe3>:1: read_data_sets (from tensorflow.contrib.learn.python.learn.datasets.mnist) is deprecated and will be removed in a future version.\n",
      "Instructions for updating:\n",
      "Please use alternatives such as official/mnist/dataset.py from tensorflow/models.\n",
      "WARNING:tensorflow:From c:\\asm\\continuum\\anaconda3\\lib\\site-packages\\tensorflow\\contrib\\learn\\python\\learn\\datasets\\mnist.py:260: maybe_download (from tensorflow.contrib.learn.python.learn.datasets.base) is deprecated and will be removed in a future version.\n",
      "Instructions for updating:\n",
      "Please write your own downloading logic.\n",
      "WARNING:tensorflow:From c:\\asm\\continuum\\anaconda3\\lib\\site-packages\\tensorflow\\contrib\\learn\\python\\learn\\datasets\\mnist.py:262: extract_images (from tensorflow.contrib.learn.python.learn.datasets.mnist) is deprecated and will be removed in a future version.\n",
      "Instructions for updating:\n",
      "Please use tf.data to implement this functionality.\n",
      "Extracting /tmp/data/train-images-idx3-ubyte.gz\n",
      "WARNING:tensorflow:From c:\\asm\\continuum\\anaconda3\\lib\\site-packages\\tensorflow\\contrib\\learn\\python\\learn\\datasets\\mnist.py:267: extract_labels (from tensorflow.contrib.learn.python.learn.datasets.mnist) is deprecated and will be removed in a future version.\n",
      "Instructions for updating:\n",
      "Please use tf.data to implement this functionality.\n",
      "Extracting /tmp/data/train-labels-idx1-ubyte.gz\n",
      "WARNING:tensorflow:From c:\\asm\\continuum\\anaconda3\\lib\\site-packages\\tensorflow\\contrib\\learn\\python\\learn\\datasets\\mnist.py:110: dense_to_one_hot (from tensorflow.contrib.learn.python.learn.datasets.mnist) is deprecated and will be removed in a future version.\n",
      "Instructions for updating:\n",
      "Please use tf.one_hot on tensors.\n",
      "Extracting /tmp/data/t10k-images-idx3-ubyte.gz\n",
      "Extracting /tmp/data/t10k-labels-idx1-ubyte.gz\n",
      "WARNING:tensorflow:From c:\\asm\\continuum\\anaconda3\\lib\\site-packages\\tensorflow\\contrib\\learn\\python\\learn\\datasets\\mnist.py:290: DataSet.__init__ (from tensorflow.contrib.learn.python.learn.datasets.mnist) is deprecated and will be removed in a future version.\n",
      "Instructions for updating:\n",
      "Please use alternatives such as official/mnist/dataset.py from tensorflow/models.\n"
     ]
    }
   ],
   "source": [
    "mnist =  input_data.read_data_sets(\"/tmp/data/\", one_hot=True)"
   ]
  },
  {
   "cell_type": "code",
   "execution_count": 4,
   "metadata": {},
   "outputs": [],
   "source": [
    "learning_rate = 0.001\n",
    "training_steps = 10000\n",
    "batch_size = 128\n",
    "display_step = 200"
   ]
  },
  {
   "cell_type": "code",
   "execution_count": 5,
   "metadata": {},
   "outputs": [],
   "source": [
    "num_input = 28\n",
    "timesteps = 28\n",
    "num_hidden = 128\n",
    "num_classes = 10\n",
    "\n",
    "X = tf.placeholder(tf.float32, [None, timesteps, num_input])\n",
    "Y = tf.placeholder(tf.float32, [None, num_classes])"
   ]
  },
  {
   "cell_type": "code",
   "execution_count": 6,
   "metadata": {},
   "outputs": [],
   "source": [
    "weights ={\n",
    "    'out':tf.Variable(tf.random_normal([num_hidden, num_classes]))\n",
    "}\n",
    "\n",
    "biases = {\n",
    "    'out':tf.Variable(tf.random_normal([num_classes]))\n",
    "}"
   ]
  },
  {
   "cell_type": "code",
   "execution_count": 7,
   "metadata": {},
   "outputs": [],
   "source": [
    "def RNN(x, weights, biases):\n",
    "    x = tf.unstack(x, axis=1)\n",
    "    lstm_cell = rnn.BasicLSTMCell(num_hidden, forget_bias=1.0)\n",
    "    \n",
    "    outputs, states = rnn.static_rnn(lstm_cell, x, dtype=tf.float32)\n",
    "    \n",
    "    return tf.matmul(outputs[-1], weights['out']) +biases['out']"
   ]
  },
  {
   "cell_type": "code",
   "execution_count": 8,
   "metadata": {},
   "outputs": [
    {
     "name": "stdout",
     "output_type": "stream",
     "text": [
      "WARNING:tensorflow:From <ipython-input-8-056ebfe5450b>:4: softmax_cross_entropy_with_logits (from tensorflow.python.ops.nn_ops) is deprecated and will be removed in a future version.\n",
      "Instructions for updating:\n",
      "\n",
      "Future major versions of TensorFlow will allow gradients to flow\n",
      "into the labels input on backprop by default.\n",
      "\n",
      "See tf.nn.softmax_cross_entropy_with_logits_v2.\n",
      "\n"
     ]
    }
   ],
   "source": [
    "logits = RNN(X, weights, biases)\n",
    "prediction = tf.nn.softmax(logits)\n",
    "\n",
    "loss_op = tf.reduce_mean(tf.nn.softmax_cross_entropy_with_logits(logits=logits, labels=Y))\n",
    "train_op = tf.train.AdamOptimizer(learning_rate).minimize(loss_op)\n",
    "\n",
    "correct_pred = tf.equal(tf.argmax(prediction, 1), tf.argmax(Y, 1))\n",
    "accuracy = tf.reduce_mean(tf.cast(correct_pred, tf.float32))"
   ]
  },
  {
   "cell_type": "code",
   "execution_count": 9,
   "metadata": {},
   "outputs": [
    {
     "name": "stdout",
     "output_type": "stream",
     "text": [
      "Step, Minibatch loss, accuracy: 0, 2.416642665863037, 0.09375\n",
      "Step, Minibatch loss, accuracy: 200, 0.26644864678382874, 0.9296875\n",
      "Step, Minibatch loss, accuracy: 400, 0.19935303926467896, 0.953125\n",
      "Step, Minibatch loss, accuracy: 600, 0.1240614652633667, 0.953125\n",
      "Step, Minibatch loss, accuracy: 800, 0.05916508287191391, 0.9765625\n",
      "Step, Minibatch loss, accuracy: 1000, 0.13432404398918152, 0.953125\n",
      "Step, Minibatch loss, accuracy: 1200, 0.09173615276813507, 0.9609375\n",
      "Step, Minibatch loss, accuracy: 1400, 0.045294247567653656, 0.984375\n",
      "Step, Minibatch loss, accuracy: 1600, 0.025582415983080864, 0.9921875\n",
      "Step, Minibatch loss, accuracy: 1800, 0.050292838364839554, 0.9765625\n",
      "Step, Minibatch loss, accuracy: 2000, 0.052292101085186005, 0.9765625\n",
      "Step, Minibatch loss, accuracy: 2200, 0.07776615768671036, 0.96875\n",
      "Step, Minibatch loss, accuracy: 2400, 0.03767552599310875, 0.984375\n",
      "Step, Minibatch loss, accuracy: 2600, 0.00667452160269022, 1.0\n",
      "Step, Minibatch loss, accuracy: 2800, 0.01953369937837124, 1.0\n",
      "Step, Minibatch loss, accuracy: 3000, 0.01147371158003807, 1.0\n",
      "Step, Minibatch loss, accuracy: 3200, 0.05326433852314949, 0.984375\n",
      "Step, Minibatch loss, accuracy: 3400, 0.055644553154706955, 0.9921875\n",
      "Step, Minibatch loss, accuracy: 3600, 0.016636230051517487, 1.0\n",
      "Step, Minibatch loss, accuracy: 3800, 0.018176179379224777, 0.9921875\n",
      "Step, Minibatch loss, accuracy: 4000, 0.040667448192834854, 0.984375\n",
      "Step, Minibatch loss, accuracy: 4200, 0.009586501866579056, 1.0\n",
      "Step, Minibatch loss, accuracy: 4400, 0.0053369998931884766, 1.0\n",
      "Step, Minibatch loss, accuracy: 4600, 0.022618437185883522, 0.984375\n",
      "Step, Minibatch loss, accuracy: 4800, 0.0037489738315343857, 1.0\n",
      "Step, Minibatch loss, accuracy: 5000, 0.02731281705200672, 0.984375\n",
      "Step, Minibatch loss, accuracy: 5200, 0.027209436520934105, 0.9921875\n",
      "Step, Minibatch loss, accuracy: 5400, 0.01717122457921505, 0.9921875\n",
      "Step, Minibatch loss, accuracy: 5600, 0.006990885827690363, 1.0\n",
      "Step, Minibatch loss, accuracy: 5800, 0.02277074195444584, 0.9921875\n",
      "Step, Minibatch loss, accuracy: 6000, 0.06502684205770493, 0.9921875\n",
      "Step, Minibatch loss, accuracy: 6200, 0.011163387447595596, 0.9921875\n",
      "Step, Minibatch loss, accuracy: 6400, 0.008405635133385658, 0.9921875\n",
      "Step, Minibatch loss, accuracy: 6600, 0.008593913167715073, 1.0\n",
      "Step, Minibatch loss, accuracy: 6800, 0.0029572006314992905, 1.0\n",
      "Step, Minibatch loss, accuracy: 7000, 0.0016187926521524787, 1.0\n",
      "Step, Minibatch loss, accuracy: 7200, 0.003009130246937275, 1.0\n",
      "Step, Minibatch loss, accuracy: 7400, 0.0016497708857059479, 1.0\n",
      "Step, Minibatch loss, accuracy: 7600, 0.004555069841444492, 1.0\n",
      "Step, Minibatch loss, accuracy: 7800, 0.0195901021361351, 0.984375\n",
      "Step, Minibatch loss, accuracy: 8000, 0.006136798765510321, 1.0\n",
      "Step, Minibatch loss, accuracy: 8200, 0.0014605054166167974, 1.0\n",
      "Step, Minibatch loss, accuracy: 8400, 0.006052123382687569, 1.0\n",
      "Step, Minibatch loss, accuracy: 8600, 0.0031599050853401423, 1.0\n",
      "Step, Minibatch loss, accuracy: 8800, 0.00014478430966846645, 1.0\n",
      "Step, Minibatch loss, accuracy: 9000, 0.0035851977299898863, 1.0\n",
      "Step, Minibatch loss, accuracy: 9200, 0.0015297259669750929, 1.0\n",
      "Step, Minibatch loss, accuracy: 9400, 0.006521360017359257, 1.0\n",
      "Step, Minibatch loss, accuracy: 9600, 0.0021796326618641615, 1.0\n",
      "Step, Minibatch loss, accuracy: 9800, 0.0049230605363845825, 1.0\n",
      "Optimization finished\n",
      "Test loss, accuracy: 9999, 0.0651470199227333, 0.9833984375\n"
     ]
    },
    {
     "data": {
      "text/plain": [
       "<bound method BaseSession.close of <tensorflow.python.client.session.Session object at 0x000001C199272D68>>"
      ]
     },
     "execution_count": 9,
     "metadata": {},
     "output_type": "execute_result"
    }
   ],
   "source": [
    "sess = tf.Session()\n",
    "sess.run(tf.global_variables_initializer())\n",
    "\n",
    "for step in range(training_steps):\n",
    "    batch_x, batch_y = mnist.train.next_batch(batch_size)\n",
    "    batch_x = batch_x.reshape((batch_size, timesteps, num_input))\n",
    "    sess.run(train_op, feed_dict={X:batch_x, Y:batch_y})\n",
    "    if step%display_step ==0:\n",
    "        loss, acc = sess.run([loss_op, accuracy], feed_dict={X:batch_x, Y:batch_y})\n",
    "        print(\"Step, Minibatch loss, accuracy: {}, {}, {}\".format(step, loss, acc))\n",
    "        \n",
    "print(\"Optimization finished\")\n",
    "test_len = 1024\n",
    "test_x = mnist.test.images[:test_len].reshape((-1, timesteps, num_input))\n",
    "test_y = mnist.test.labels[:test_len]\n",
    "loss, acc = sess.run([loss_op, accuracy], feed_dict={X:test_x, Y:test_y})\n",
    "print(\"Test loss, accuracy: {}, {}, {}\".format(step, loss, acc))\n",
    "sess.close()"
   ]
  },
  {
   "cell_type": "code",
   "execution_count": 10,
   "metadata": {},
   "outputs": [],
   "source": [
    "sess.close()"
   ]
  },
  {
   "cell_type": "code",
   "execution_count": null,
   "metadata": {},
   "outputs": [],
   "source": []
  }
 ],
 "metadata": {
  "kernelspec": {
   "display_name": "Python 3",
   "language": "python",
   "name": "python3"
  },
  "language_info": {
   "codemirror_mode": {
    "name": "ipython",
    "version": 3
   },
   "file_extension": ".py",
   "mimetype": "text/x-python",
   "name": "python",
   "nbconvert_exporter": "python",
   "pygments_lexer": "ipython3",
   "version": "3.6.4"
  }
 },
 "nbformat": 4,
 "nbformat_minor": 2
}
