{
 "cells": [
  {
   "cell_type": "code",
   "execution_count": 8,
   "metadata": {},
   "outputs": [],
   "source": [
    "import numpy as np\n",
    "import pickle\n",
    "import sys\n",
    "import os\n",
    "import importlib"
   ]
  },
  {
   "cell_type": "code",
   "execution_count": 20,
   "metadata": {},
   "outputs": [
    {
     "data": {
      "text/plain": [
       "<module 'my_segmentation_utils' from 'C:/ASM/Dropbox/Developments/Jupyter/Eating/myutils\\\\my_segmentation_utils.py'>"
      ]
     },
     "execution_count": 20,
     "metadata": {},
     "output_type": "execute_result"
    }
   ],
   "source": [
    "util_path = 'C:/ASM/Dropbox/Developments/Jupyter/Eating/myutils' if 'C:' in os.getcwd() else './myutils'\n",
    "sys.path.append(util_path)\n",
    "import my_file_utils as mfileu\n",
    "import my_segmentation_utils as msegu\n",
    "import my_steven_lab_utils as mslabu\n",
    "importlib.reload(msegu)"
   ]
  },
  {
   "cell_type": "code",
   "execution_count": 21,
   "metadata": {},
   "outputs": [],
   "source": [
    "ds = mfileu.read_file('data', 'lab_data_steven.pkl')"
   ]
  },
  {
   "cell_type": "code",
   "execution_count": 30,
   "metadata": {},
   "outputs": [
    {
     "name": "stdout",
     "output_type": "stream",
     "text": [
      "0 0 : 2066 140\n",
      "0 1 : 2352 376\n",
      "1 0 : 2580 42\n",
      "2 0 : 1298 143\n",
      "2 1 : 1685 42\n",
      "3 0 : 1094 105\n",
      "3 1 : 713 91\n",
      "4 0 : 881 188\n",
      "4 1 : 401 71\n",
      "5 0 : 503 113\n",
      "5 1 : 592 100\n",
      "6 0 : 2977 34\n",
      "6 1 : 2337 84\n"
     ]
    }
   ],
   "source": [
    "for subj in range(7):\n",
    "    for sess in range(len(ds[subj])):\n",
    "        data = ds[subj][sess][\"data_right\"]\n",
    "        annots = ds[subj][sess][\"annots\"]\n",
    "        annots = mslabu.filter_annots(annots, 'all', 'right', filter_ambigous=True)\n",
    "        \n",
    "        mps = msegu.find_min_points_by_xth(data[:, -3], xth=-0.4, min_bite_interval=2*16, filter_by_neighbor=True)\n",
    "        segs = \n",
    "        print(subj, sess, \":\", len(mps), len(annots))\n",
    "        \n",
    "        "
   ]
  },
  {
   "cell_type": "code",
   "execution_count": null,
   "metadata": {},
   "outputs": [],
   "source": []
  }
 ],
 "metadata": {
  "kernelspec": {
   "display_name": "Python 3",
   "language": "python",
   "name": "python3"
  },
  "language_info": {
   "codemirror_mode": {
    "name": "ipython",
    "version": 3
   },
   "file_extension": ".py",
   "mimetype": "text/x-python",
   "name": "python",
   "nbconvert_exporter": "python",
   "pygments_lexer": "ipython3",
   "version": "3.6.4"
  }
 },
 "nbformat": 4,
 "nbformat_minor": 2
}
