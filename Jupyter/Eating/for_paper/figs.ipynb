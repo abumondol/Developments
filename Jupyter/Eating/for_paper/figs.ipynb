{
 "cells": [
  {
   "cell_type": "code",
   "execution_count": 1,
   "metadata": {
    "collapsed": true
   },
   "outputs": [],
   "source": [
    "import numpy as np\n",
    "import pickle\n",
    "import matplotlib.pyplot as plt"
   ]
  },
  {
   "cell_type": "code",
   "execution_count": 2,
   "metadata": {
    "collapsed": true
   },
   "outputs": [],
   "source": [
    "%matplotlib inline\n",
    "\n",
    "with open('E:/DevData/eating/data_smooth/uva_lab_data_800.pkl', 'rb') as file:\n",
    "    uva_lab = pickle.load(file)\n",
    "\n",
    "with open('E:/DevData/eating/data_smooth/uva_free_data_800.pkl', 'rb') as file:\n",
    "    uva_free = pickle.load(file)\n",
    "\n",
    "with open('E:/DevData/eating/data_smooth/steven_lab_data_800.pkl', 'rb') as file:\n",
    "    steven_lab = pickle.load(file)\n",
    "\n",
    "with open('E:/DevData/eating/data_smooth/steven_free_data_800.pkl', 'rb') as file:\n",
    "    steven_free = pickle.load(file)\n"
   ]
  },
  {
   "cell_type": "code",
   "execution_count": 19,
   "metadata": {
    "collapsed": false
   },
   "outputs": [
    {
     "name": "stdout",
     "output_type": "stream",
     "text": [
      "(367241, 4)\n",
      "(500, 4)\n"
     ]
    }
   ],
   "source": [
    "d = steven_lab[2][0][0]\n",
    "a = steven_lab[2][0][1]\n",
    "print(d.shape)\n",
    "d = d[10200:10700, :]\n",
    "d[:, 0] = d[:, 0] - d[0, 0]\n",
    "print(d.shape)\n",
    "\n",
    "fig = plt.figure(figsize=(12,10))\n",
    "subplot = fig.add_subplot(111)        \n",
    "subplot.plot(d[:, 0], d[:, 1], label='X1')\n",
    "subplot.plot(d[:, 0], d[:, 2], label='Y1')\n",
    "subplot.plot(d[:, 0], d[:, 3], label='Z1')\n",
    "\n"
   ]
  },
  {
   "cell_type": "code",
   "execution_count": null,
   "metadata": {
    "collapsed": true
   },
   "outputs": [],
   "source": [
    "d = d"
   ]
  }
 ],
 "metadata": {
  "anaconda-cloud": {},
  "kernelspec": {
   "display_name": "Python [default]",
   "language": "python",
   "name": "python3"
  },
  "language_info": {
   "codemirror_mode": {
    "name": "ipython",
    "version": 3
   },
   "file_extension": ".py",
   "mimetype": "text/x-python",
   "name": "python",
   "nbconvert_exporter": "python",
   "pygments_lexer": "ipython3",
   "version": "3.5.2"
  }
 },
 "nbformat": 4,
 "nbformat_minor": 2
}
