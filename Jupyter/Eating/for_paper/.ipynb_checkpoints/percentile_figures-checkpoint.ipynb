{
 "cells": [
  {
   "cell_type": "code",
   "execution_count": 1,
   "metadata": {},
   "outputs": [],
   "source": [
    "import numpy as np\n",
    "import pickle\n",
    "import os\n",
    "import sys\n",
    "\n",
    "import matplotlib.pyplot as plt\n",
    "%matplotlib inline"
   ]
  },
  {
   "cell_type": "code",
   "execution_count": 11,
   "metadata": {},
   "outputs": [],
   "source": []
  },
  {
   "cell_type": "code",
   "execution_count": 12,
   "metadata": {},
   "outputs": [],
   "source": []
  },
  {
   "cell_type": "code",
   "execution_count": 24,
   "metadata": {
    "scrolled": false
   },
   "outputs": [
    {
     "data": {
      "image/png": "[encoded data removed]",
      "text/plain": [
       "<matplotlib.figure.Figure at 0x17c439a85f8>"
      ]
     },
     "metadata": {},
     "output_type": "display_data"
    }
   ],
   "source": [
    "fig = plt.figure(figsize=(12,6))\n",
    "ax = plt.subplot(111)          \n",
    "\n",
    "plt.plot([0,1.0], [1, 1], color='blue', linewidth=2)\n",
    "\n",
    "for i in range(0,11):\n",
    "    plt.plot([i/10,i/10], [0, 10], color='black', alpha=0.2, linewidth=1)\n",
    "\n",
    "posy = np.array([0, 0, 0])\n",
    "negy = np.array([0, 0, 0, 0, 0, 0, 0])\n",
    "\n",
    "pos = np.array([0.7, 0.8, 0.95])\n",
    "neg = np.array([0.0, 0.05, 0.07, 0.1, 0.12, 0.15, 0.37])\n",
    "\n",
    "\n",
    "plt.scatter(pos, posy+1, marker='o', color='green')\n",
    "plt.scatter(neg, negy+1, marker='x', color='red')\n",
    "    \n",
    "ax.set_yticklabels( () )\n",
    "plt.ylim([0, 10])\n",
    "plt.show()\n"
   ]
  },
  {
   "cell_type": "code",
   "execution_count": null,
   "metadata": {},
   "outputs": [],
   "source": []
  }
 ],
 "metadata": {
  "kernelspec": {
   "display_name": "Python 3",
   "language": "python",
   "name": "python3"
  },
  "language_info": {
   "codemirror_mode": {
    "name": "ipython",
    "version": 3
   },
   "file_extension": ".py",
   "mimetype": "text/x-python",
   "name": "python",
   "nbconvert_exporter": "python",
   "pygments_lexer": "ipython3",
   "version": "3.6.4"
  }
 },
 "nbformat": 4,
 "nbformat_minor": 2
}
