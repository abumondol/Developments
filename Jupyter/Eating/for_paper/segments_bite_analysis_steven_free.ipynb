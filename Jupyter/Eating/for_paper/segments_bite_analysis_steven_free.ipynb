{
 "cells": [
  {
   "cell_type": "code",
   "execution_count": 18,
   "metadata": {
    "collapsed": true
   },
   "outputs": [],
   "source": [
    "import numpy as np\n",
    "import pickle \n",
    "import matplotlib.pyplot as plt\n",
    "import data_manager as dm\n",
    "import sys\n",
    "%matplotlib inline"
   ]
  },
  {
   "cell_type": "code",
   "execution_count": 40,
   "metadata": {
    "collapsed": true
   },
   "outputs": [],
   "source": [
    "with open('C:\\\\ASM\\\\DevData\\\\eating\\\\meal_detection\\\\data\\\\steven_free_data.pkl', 'rb') as file:\n",
    "    data = pickle.load(file)"
   ]
  },
  {
   "cell_type": "code",
   "execution_count": 53,
   "metadata": {
    "collapsed": true
   },
   "outputs": [],
   "source": [
    "def analyze_result_individual_sess(annots, mps, res):    \n",
    "    if len(mps) != len(res):\n",
    "        print(\"Lengths of mps and res are not same\")\n",
    "        sys.exit(0)\n",
    "    \n",
    "    mp_count_in_episode    = len(res[res[:, 0]==1, :])\n",
    "    mp_count_out_episode    = len(res[res[:, 0]==0, :])\n",
    "    bite_count_in_episode  = len(res[(res[:, 0]==1) & (res[:, 1]==1), :])\n",
    "    bite_count_out_episode = len(res[(res[:, 0]==0) & (res[:, 1]==1), :])\n",
    "    \n",
    "    return [mp_count_in_episode, mp_count_out_episode, bite_count_in_episode, bite_count_out_episode]\n",
    "    "
   ]
  },
  {
   "cell_type": "code",
   "execution_count": 58,
   "metadata": {
    "collapsed": false
   },
   "outputs": [],
   "source": [
    "def analyze_result_all_subjects(win_size, xth, data, mps_all, res_all):\n",
    "    subject_count = len(data)\n",
    "    \n",
    "    output = np.empty((0, 8))\n",
    "    for subject in range(subject_count):\n",
    "        for sess in range(len(res_all[subject][\"free\"])):\n",
    "            annots = data[subject][sess][1]\n",
    "            res = res_all[subject][\"free\"][sess]\n",
    "            mps = mps_all[3][subject][sess]\n",
    "            \n",
    "            r = [win_size, xth, subject, sess]\n",
    "            rs = analyze_result_individual_sess(annots, mps, res)            \n",
    "            r.extend(rs)\n",
    "            r = np.array(r).reshape((1, len(r)))\n",
    "            output = np.concatenate((output, r))\n",
    "            \n",
    "    return output"
   ]
  },
  {
   "cell_type": "code",
   "execution_count": 152,
   "metadata": {
    "collapsed": false
   },
   "outputs": [
    {
     "name": "stdout",
     "output_type": "stream",
     "text": [
      "875\n"
     ]
    }
   ],
   "source": [
    "res = np.empty((0, 8))\n",
    "\n",
    "for win_size in range(32, 65, 8):\n",
    "    for xth in range(10, 41, 5):\n",
    "        folder = 'len_{}_{}_xth_{}_smooth_800'.format(win_size, win_size, xth)        \n",
    "        path = 'C:\\\\ASM\\\\DevData\\\\eating\\\\meal_detection\\\\results\\\\' + folder +\"\\\\\"\n",
    "        with open(path+\"mps.pkl\", \"rb\") as file:\n",
    "            mps_all = pickle.load(file)\n",
    "        with open(path+\"results\\\\res_all.pkl\", \"rb\") as file:\n",
    "            res_all = pickle.load(file)           \n",
    "        \n",
    "        #print(folder)\n",
    "        r = analyze_result_all_subjects(win_size, xth, data, mps_all, res_all)        \n",
    "        res = np.concatenate((res, r))\n",
    "        \n",
    "print(len(res))"
   ]
  },
  {
   "cell_type": "code",
   "execution_count": 146,
   "metadata": {
    "collapsed": false
   },
   "outputs": [
    {
     "name": "stdout",
     "output_type": "stream",
     "text": [
      "875\n"
     ]
    }
   ],
   "source": [
    "print(len(res))\n",
    "#print(res)\n",
    "#np.savetxt('res.csv', res, delimiter=',')"
   ]
  },
  {
   "cell_type": "code",
   "execution_count": 147,
   "metadata": {
    "collapsed": false
   },
   "outputs": [],
   "source": [
    "rs = np.empty((0, 6))\n",
    "for win_size in range(32, 65, 8):        \n",
    "    for xth in range(10, 41, 5):\n",
    "        r = res[(res[:,0]==win_size) & (res[:,1]==xth), 4:]                \n",
    "        r = np.sum(r, axis=0)                \n",
    "        r = [win_size, xth, r[0], r[1], r[2], r[3]]\n",
    "        r = np.array(r).reshape((1, len(r)))        \n",
    "        rs = np.concatenate((rs, r))\n",
    "#print(rs)"
   ]
  },
  {
   "cell_type": "code",
   "execution_count": null,
   "metadata": {
    "collapsed": true
   },
   "outputs": [],
   "source": [
    "fig, ax = plt.subplots()\n",
    "mp_stat = []\n",
    "for xth in range(10, 41, 5):\n",
    "    r = rs[rs[:,1]==xth, 2:4]\n",
    "    r = np.mean(r, axis=0)\n",
    "    r.astype(int)    \n",
    "    s = np.sum(r)\n",
    "    mp_stat.append([-1*xth/10, r[0], r[1], s])\n",
    "\n",
    "\n",
    "r = mp_stat\n",
    "r =np.array(r)\n",
    "#r.astype(int)\n",
    "#print(r)\n",
    "plt.plot(r[:, 0], r[:, 1]/1000, label=\"Inside\")\n",
    "plt.plot(r[:, 0], r[:, 2]/1000, label=\"Outside\")\n",
    "plt.plot(r[:, 0], r[:, 3]/1000, label=\"Total\")\n",
    "\n",
    "plt.scatter(r[:, 0], r[:, 1]/1000, color = 'blue')\n",
    "plt.scatter(r[:, 0], r[:, 2]/1000, color = 'green')\n",
    "plt.scatter(r[:, 0], r[:, 3]/1000, color = 'red')\n",
    "\n",
    "plt.xlabel('Accelerometer threshold for X axis')\n",
    "plt.ylim([0, 45])\n",
    "plt.xlim([-4, -1])\n",
    "plt.ylabel('Segment Count (thousands)')\n",
    "plt.legend(loc=2)"
   ]
  },
  {
   "cell_type": "code",
   "execution_count": null,
   "metadata": {
    "collapsed": true
   },
   "outputs": [],
   "source": [
    "fig, ax = plt.subplots()\n",
    "\n",
    "for win_size in range(32, 65, 8):\n",
    "    mp_stat = []\n",
    "    for xth in range(10, 41, 5):\n",
    "        r = rs[(rs[:,0]==win_size) & (rs[:,1]==xth), 4:]                        \n",
    "        r = np.sum(r, axis=0)\n",
    "        mp_stat.append([-1*xth/10, r])\n",
    "\n",
    "\n",
    "    r = mp_stat\n",
    "    r =np.array(r)   \n",
    "    plt.plot(r[:, 0], r[:, 1], label=\"{} s\".format(int(win_size/8)))\n",
    "    plt.plot(r[:, 0], r[:, 1], label=\"{} s\".format(int(win_size/8)))    \n",
    "\n",
    "    #plt.scatter(r[:, 0], r[:, 1]/1000, color = 'blue')\n",
    "    #plt.scatter(r[:, 0], r[:, 2]/1000, color = 'green')\n",
    "    #plt.scatter(r[:, 0], r[:, 3]/1000, color = 'red')\n",
    "\n",
    "    plt.xlabel('Accelerometer threshold for X axis')\n",
    "    #plt.ylim([0, 2000])\n",
    "    #plt.xlim([-4, -1])\n",
    "    plt.ylabel('Detected Bite Count (thousands)')\n",
    "    #plt.legend(loc=2)\n",
    "    \n",
    "plt.legend(loc='upper center', bbox_to_anchor=(0.5, 1.25),\n",
    "          ncol=3, fancybox=True, shadow=True)\n",
    "plt.show()"
   ]
  },
  {
   "cell_type": "code",
   "execution_count": null,
   "metadata": {
    "collapsed": true
   },
   "outputs": [],
   "source": [
    "for win_size in range(40, 57, 8):\n",
    "    fig, ax = plt.subplots()\n",
    "    \n",
    "    mp_stat = []\n",
    "    for xth in range(10, 41, 5):\n",
    "        r = rs[(rs[:,0]==win_size) & (rs[:,1]==xth), 4:]                        \n",
    "        r = np.sum(r, axis=0)\n",
    "        mp_stat.append([-1*xth/10, r[0], r[1]])\n",
    "\n",
    "\n",
    "    r = mp_stat\n",
    "    r =np.array(r)   \n",
    "    plt.plot(r[:, 0], r[:, 1], color = 'green', label=\"Inside\")\n",
    "    plt.plot(r[:, 0], r[:, 2], color = 'red', label=\"Outside\")\n",
    "\n",
    "    #plt.scatter(r[:, 0], r[:, 1]/1000, color = 'blue')\n",
    "    #plt.scatter(r[:, 0], r[:, 2]/1000, color = 'green')\n",
    "    #plt.scatter(r[:, 0], r[:, 3]/1000, color = 'red')\n",
    "\n",
    "    plt.xlabel('Accelerometer threshold for X axis')\n",
    "    plt.ylim([500, 1100])\n",
    "    #plt.xlim([-4, -1])\n",
    "    plt.ylabel('Detected Bite Count ')\n",
    "    plt.legend(loc=3)\n",
    "    plt.title('Window size: {} s'.format(int(win_size/8)))\n",
    "    plt.grid(True)\n",
    "    \n",
    "    plt.show()"
   ]
  },
  {
   "cell_type": "code",
   "execution_count": null,
   "metadata": {
    "collapsed": true
   },
   "outputs": [],
   "source": []
  }
 ],
 "metadata": {
  "anaconda-cloud": {},
  "kernelspec": {
   "display_name": "Python [conda root]",
   "language": "python",
   "name": "conda-root-py"
  },
  "language_info": {
   "codemirror_mode": {
    "name": "ipython",
    "version": 3
   },
   "file_extension": ".py",
   "mimetype": "text/x-python",
   "name": "python",
   "nbconvert_exporter": "python",
   "pygments_lexer": "ipython3",
   "version": "3.5.2"
  }
 },
 "nbformat": 4,
 "nbformat_minor": 1
}
