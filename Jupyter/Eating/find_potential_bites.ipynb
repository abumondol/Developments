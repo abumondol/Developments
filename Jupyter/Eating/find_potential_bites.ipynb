{
 "cells": [
  {
   "cell_type": "code",
   "execution_count": null,
   "metadata": {
    "collapsed": false
   },
   "outputs": [],
   "source": [
    "import numpy as np\n",
    "import pickle\n",
    "import sys\n",
    "import myparams\n",
    "import myutils\n",
    "import data_manager as dm"
   ]
  },
  {
   "cell_type": "code",
   "execution_count": null,
   "metadata": {
    "collapsed": false
   },
   "outputs": [],
   "source": [
    "def find_min_points_by_xth(accel, params):\n",
    "    x_th_max = params[\"x_th_max\"]\n",
    "    min_bite_interval = params[\"min_bite_interval\"]\n",
    "    window_len_left = params[\"window_len_left\"]\n",
    "    window_len_right = params[\"window_len_right\"]\n",
    "    window_len = window_len_left + window_len_right    \n",
    "    step_length = min_bite_interval//2\n",
    "    \n",
    "    x = accel[:, 1]\n",
    "    count = len(x)\n",
    "    \n",
    "    mp = []\n",
    "    for i in range(0, count-step_length, step_length):\n",
    "        min_index = i\n",
    "        for j in range(i, i+step_length):\n",
    "            if x[j] < x[min_index]:\n",
    "                min_index = j\n",
    "                \n",
    "        if x[min_index] <= x_th_max and min_index > window_len and min_index < count-window_len:\n",
    "            mp.append(min_index)\n",
    "    \n",
    "    return mp"
   ]
  },
  {
   "cell_type": "code",
   "execution_count": null,
   "metadata": {
    "collapsed": true
   },
   "outputs": [],
   "source": [
    "def filter_min_points_by_neighbor(mp, accel, params):\n",
    "    if len(mp)<=1:\n",
    "        return mp\n",
    "    \n",
    "    min_bite_interval = params[\"min_bite_interval\"]\n",
    "    window_len_left = params[\"window_len_left\"]\n",
    "    window_len_right = params[\"window_len_right\"]\n",
    "    window_len = window_len_left + window_len_right    \n",
    "    step_length = min_bite_interval//2\n",
    "    \n",
    "    x = accel[:, 1]\n",
    "    while True:\n",
    "        res = []\n",
    "        count = len(mp)\n",
    "        ix = mp[0]\n",
    "        ixRight = mp[1]\n",
    "        if ixRight - ix > min_bite_interval or x[ix] < x[ixRight]:\n",
    "            res.append(ix)\n",
    "        \n",
    "        for i in range(1, count - 1):\n",
    "            ix = mp[i]\n",
    "            ixLeft = mp[i - 1]\n",
    "            ixRight = mp[i + 1]\n",
    "\n",
    "            cond_left = ix - ixLeft > min_bite_interval or x[ix] <= x[ixLeft]\n",
    "            cond_right = ixRight - ix > min_bite_interval or x[ix] < x[ixRight]        \n",
    "\n",
    "            if cond_left and cond_right:\n",
    "                res.append(ix)\n",
    "        \n",
    "        ix = mp[count - 1]\n",
    "        ixLeft = mp[count - 2]\n",
    "        if ix - ixLeft > min_bite_interval or x[ix] <= x[ixLeft]:\n",
    "            res.append(ix)            \n",
    "        \n",
    "        if len(mp) == len(res):\n",
    "            break        \n",
    "        mp = res\n",
    "        #print(\"     mp count: \", len(mp))\n",
    "    \n",
    "    return res"
   ]
  },
  {
   "cell_type": "code",
   "execution_count": 4,
   "metadata": {
    "collapsed": true
   },
   "outputs": [],
   "source": [
    "def filter_min_points_by_feature(mp, accel, params):\n",
    "    var_th = params[\"var_th\"]\n",
    "    window_len_left = params[\"window_len_left\"]\n",
    "    window_len_right = params[\"window_len_right\"]\n",
    "    window_len = window_len_left + window_len_right\n",
    "    \n",
    "    res = [];\n",
    "    count = len(mp)\n",
    "    for i in range(count):\n",
    "        ix = mp[i]\n",
    "        v = np.sum(np.var(accel[ix-window_len_left:ix+window_len_right+1, 1:], axis = 0))\n",
    "        if v >= var_th:\n",
    "            res.append(ix)\n",
    "    return res    "
   ]
  },
  {
   "cell_type": "code",
   "execution_count": null,
   "metadata": {
    "collapsed": false
   },
   "outputs": [],
   "source": [
    "def label_min_points_lab(mp, annots, no_filter, params):\n",
    "    window_len_left = params[\"window_len_left\"]\n",
    "    window_len_right = params[\"window_len_right\"]\n",
    "    window_len = window_len_left + window_len_right\n",
    "    max_annot_distance = params[\"max_annot_distance\"]\n",
    "    exclude_annot_distance = params[\"exclude_annot_distance\"]\n",
    "    \n",
    "    mp_count = len(mp)\n",
    "    if mp_count == 0:\n",
    "        return mp\n",
    "    \n",
    "    res = np.zeros((mp_count, 3))      \n",
    "    annot_count = len(annots)\n",
    "    \n",
    "    for i in range(mp_count):\n",
    "        res[i, 0] = mp[i]\n",
    "        j = np.argmin( np.abs(annots[:, 0] - mp[i]) )\n",
    "        if np.abs(annots[j, 0] - mp[i]) <= max_annot_distance:\n",
    "            res[i, 1] = annots[j, 1]\n",
    "            res[i, 2] = 1\n",
    "        elif np.abs(annots[j, 0] - mp[i]) <= exclude_annot_distance:\n",
    "             res[i, 1] = -1\n",
    "    \n",
    "    if no_filter:\n",
    "        res = res.astype(int)\n",
    "        return res\n",
    "    \n",
    "    res = res[res[:, 1]>=0, :]\n",
    "    while True:\n",
    "        flag = True\n",
    "        mp_count = len(res)        \n",
    "        for i in range(1, mp_count-1):\n",
    "                if res[i, 1] == 0 and ((res[i-1, 1]>0 and res[i, 0] - res[i-1, 0]<=window_len) or (res[i+1, 1]>0 and res[i+1, 0] - res[i, 0]<=window_len)):\n",
    "                    res[i, 1] = -1\n",
    "                    flag = False\n",
    "        \n",
    "        res = res[res[:, 1]>=0, :]        \n",
    "        if flag:\n",
    "            if res[0, 1] == 0 and res[1, 1]>0 and res[1, 0] - res[0, 0]<=window_len:\n",
    "                res[0, 1] = -1\n",
    "                \n",
    "            mp_count = len(res)\n",
    "            if res[mp_count-1, 1] == 0 and res[mp_count-2, 1]>0 and res[mp_count-1, 0] - res[mp_count-2, 0]<=window_len:\n",
    "                res[mp_count-1, 1] = -1\n",
    "                \n",
    "            res = res[res[:, 1]>=0, :]            \n",
    "            break    \n",
    "    res = res.astype(int)\n",
    "    return res\n",
    "    "
   ]
  },
  {
   "cell_type": "code",
   "execution_count": null,
   "metadata": {
    "collapsed": true
   },
   "outputs": [],
   "source": [
    "def label_min_points_free(mp, annots):\n",
    "    mp_count = len(mp)\n",
    "    if mp_count == 0:\n",
    "        return mp\n",
    "    \n",
    "    res = np.zeros((mp_count, 3))    \n",
    "    annot_count = len(annots)    \n",
    "    \n",
    "    for i in range(mp_count):\n",
    "        res[i, 0] = mp[i]            \n",
    "        if  annot_count > 0:\n",
    "            for j in range(annot_count):\n",
    "                if annots[j, 0] <= mp[i] <= annots[j, 1]:\n",
    "                    res[i, 1] = annots[j, 2]\n",
    "                    res[i, 2] = 1\n",
    "                    break\n",
    "\n",
    "    res = res.astype(int)\n",
    "    return res\n"
   ]
  },
  {
   "cell_type": "code",
   "execution_count": null,
   "metadata": {
    "collapsed": false
   },
   "outputs": [],
   "source": [
    "def get_summary_lab(mp, annots, print_flag = False):\n",
    "    res = np.zeros((2, 5))\n",
    "    res[0, 0] = sum(mp[:, 1]==0)\n",
    "    res[0, 1] = sum(mp[:, 1]==1)\n",
    "    res[0, 2] = sum(mp[:, 1]==2)\n",
    "    res[0, 3] = res[0, 1] + res[0, 2]\n",
    "    res[0, 4] = len(mp)\n",
    "    \n",
    "    res[1, 1] = sum(annots[:, 1]==1)\n",
    "    res[1, 2] = sum(annots[:, 1]==2)\n",
    "    res[1, 3] = len(annots)\n",
    "            \n",
    "    if print_flag:\n",
    "        print_summary_lab(res)\n",
    "    return res\n",
    "\n",
    "def print_summary_lab(res):\n",
    "    print(\"Neg MP count: \", res[0, 0])\n",
    "    print(\"Bite MP count (detected/gt): \", res[0, 1], \"/\", res[1, 1] )\n",
    "    print(\"Drink MP count (detected/gt): \", res[0, 2], \"/\", res[1, 2] )\n",
    "    print(\"Pos MP count (detected/gt): \", res[0, 3], \"/\", res[1, 3]  )        \n",
    "    print(\"Total MP count: \", res[0, 4])\n",
    "    print(\"\")\n",
    "    "
   ]
  },
  {
   "cell_type": "code",
   "execution_count": null,
   "metadata": {
    "collapsed": true
   },
   "outputs": [],
   "source": [
    "def get_summary_free(mp, print_flag = False):\n",
    "    res = np.zeros((1, 5))\n",
    "    res[0, 0] = sum(mp[:, 1]==0)\n",
    "    res[0, 1] = sum(mp[:, 1]==1)\n",
    "    res[0, 2] = sum(mp[:, 1]==2)\n",
    "    res[0, 3] = sum(mp[:, 1]==3)\n",
    "    res[0, 4] = len(mp)\n",
    "    \n",
    "    if print_flag:\n",
    "        print_summary_free(res)\n",
    "    return res\n",
    "\n",
    "def print_summary_free(res):\n",
    "    print(\"Neg MP count: \", res[0, 0])\n",
    "    print(\"Meal MP count: \", res[0, 1])\n",
    "    print(\"Snack MP count: \", res[0, 2])                \n",
    "    print(\"Drink MP count: \", res[0, 3])\n",
    "    print(\"Total MP count: \", res[0, 4])        \n",
    "    print(\"\")"
   ]
  },
  {
   "cell_type": "code",
   "execution_count": null,
   "metadata": {
    "collapsed": false
   },
   "outputs": [],
   "source": [
    "def find_min_points_for_dataset(ds, no_filter_lab, params, print_summary=False):\n",
    "    subject_count = len(ds)\n",
    "    ds_mp = []\n",
    "    res = []\n",
    "    for subject in range(subject_count):\n",
    "        subject_data = ds[subject]\n",
    "        sess_count = len(subject_data)\n",
    "        subject_mp =[]\n",
    "        for sess in range(sess_count):\n",
    "            if print_summary:\n",
    "                print(\"\\nSubject: {}, Sess: {}\".format(subject, sess))\n",
    "            sess_data = subject_data[sess]\n",
    "            accel = sess_data[0]\n",
    "            annots = sess_data[1]\n",
    "            sess_mp = find_min_points_by_xth(accel, params)\n",
    "            sess_mp = filter_min_points_by_neighbor(sess_mp, accel, params)\n",
    "            sess_mp = filter_min_points_by_feature(sess_mp, accel, params)\n",
    "            if len(annots)==0 or annots.shape[1] == 3:\n",
    "                sess_mp = label_min_points_free(sess_mp, annots)\n",
    "                if len(res)==0:\n",
    "                    res = get_summary_free(sess_mp, print_summary)\n",
    "                else:\n",
    "                    res = res + get_summary_free(sess_mp, print_summary)\n",
    "            else:                \n",
    "                sess_mp = label_min_points_lab(sess_mp, annots, no_filter_lab, params)                \n",
    "                if len(res)==0:\n",
    "                    res = get_summary_lab(sess_mp, annots, print_summary)\n",
    "                else:\n",
    "                    res = res + get_summary_lab(sess_mp, annots, print_summary)\n",
    "                    \n",
    "            subject_mp.append(sess_mp)\n",
    "        ds_mp.append(subject_mp)\n",
    "        \n",
    "    return ds_mp, res    "
   ]
  },
  {
   "cell_type": "code",
   "execution_count": null,
   "metadata": {
    "collapsed": false
   },
   "outputs": [],
   "source": [
    "def find_min_points_segments_all(params, print_summary = False):    \n",
    "    mps = [0, 0, 0, 0, 0, 0]\n",
    "    segs = [0, 0, 0, 0, 0, 0]\n",
    "    ds_names = [\"uva_lab\", \"steven_lab\", \"uva_free\", \"steven_free\"]\n",
    "    \n",
    "    for i in range(4):\n",
    "        ds = dm.get_data(ds_names[i]+\"_data_\"+params[\"smooth_factor\"], subdir = \"data\")        \n",
    "        \n",
    "        print(\"*********\", ds_names[i], \" Summary **********\")        \n",
    "        mps[i], res = find_min_points_for_dataset(ds, False, params, print_summary)\n",
    "        segs[i] = myutils.get_segments_dataset(ds, mps[i], params[\"window_len_left\"], params[\"window_len_right\"])\n",
    "        segs[i] = myutils.normalize_dataset(segs[i])\n",
    "        if i<=1:\n",
    "            mps[i+4], res2 = find_min_points_for_dataset(ds, True, params, print_summary)            \n",
    "            segs[i+4] = myutils.get_segments_dataset(ds, mps[i+4], params[\"window_len_left\"], params[\"window_len_right\"])\n",
    "            segs[i+4] = myutils.normalize_dataset(segs[i+4])\n",
    "            print_summary_lab(res)\n",
    "            #print_summary_lab(res2)\n",
    "        else:            \n",
    "            print_summary_free(res)        \n",
    "        \n",
    "    return mps, segs"
   ]
  },
  {
   "cell_type": "code",
   "execution_count": null,
   "metadata": {
    "collapsed": false
   },
   "outputs": [],
   "source": [
    "#params = myparams.get_params()\n",
    "#myparams.print_params(params)\n",
    "#mps = find_min_points_all(params)\n",
    "#params[\"x_th_max\"] = -3\n",
    "#mps = find_min_points_all(params)"
   ]
  },
  {
   "cell_type": "code",
   "execution_count": null,
   "metadata": {
    "collapsed": true
   },
   "outputs": [],
   "source": []
  }
 ],
 "metadata": {
  "anaconda-cloud": {},
  "kernelspec": {
   "display_name": "Python [conda root]",
   "language": "python",
   "name": "conda-root-py"
  },
  "language_info": {
   "codemirror_mode": {
    "name": "ipython",
    "version": 3
   },
   "file_extension": ".py",
   "mimetype": "text/x-python",
   "name": "python",
   "nbconvert_exporter": "python",
   "pygments_lexer": "ipython3",
   "version": "3.5.2"
  }
 },
 "nbformat": 4,
 "nbformat_minor": 1
}
