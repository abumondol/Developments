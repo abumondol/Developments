{
 "cells": [
  {
   "cell_type": "code",
   "execution_count": null,
   "metadata": {
    "collapsed": true
   },
   "outputs": [],
   "source": [
    "import numpy as np\n",
    "import pickle"
   ]
  },
  {
   "cell_type": "code",
   "execution_count": null,
   "metadata": {
    "collapsed": true
   },
   "outputs": [],
   "source": [
    "x_th = -2.5\n",
    "var_th = 1\n",
    "min_bite_interval = 40\n",
    "left_length = 48\n",
    "right_length = 48"
   ]
  },
  {
   "cell_type": "code",
   "execution_count": null,
   "metadata": {
    "collapsed": true
   },
   "outputs": [],
   "source": [
    "def get_data(type):\n",
    "    path = \"C:\\\\ASM\\\\DevData\\\\eating\\\\python\\\\\"+type+\"_data.pkl\"\n",
    "    with open(path, \"rb\") as file:\n",
    "        data = pickle.load(file)        \n",
    "    return data    "
   ]
  },
  {
   "cell_type": "code",
   "execution_count": null,
   "metadata": {
    "collapsed": true
   },
   "outputs": [],
   "source": [
    "def find_min_points(x):\n",
    "    step_length = min_bite_interval/2\n",
    "    count = len(x)\n",
    "    \n",
    "    mp = []\n",
    "    for i in range(0, count-step_length, step_length):\n",
    "        min_index = i\n",
    "        for j in range(i, i+step_length):\n",
    "            if x[j] < x[min_index]:\n",
    "                min_index = j\n",
    "                \n",
    "        if x[min_index] <= x_th and min_index>=80 and min_index<=count-80:\n",
    "            mp.append(min_index)\n",
    "            \n",
    "    retrun mp"
   ]
  },
  {
   "cell_type": "code",
   "execution_count": null,
   "metadata": {
    "collapsed": true
   },
   "outputs": [],
   "source": [
    "def filter_min_points(mp, d):\n",
    "    res = [];\n",
    "    count = length(mp)\n",
    "    for i in range(count):\n",
    "        ix = mp[i]\n",
    "        v = np.sum(np.var(d[ix-left_length:ix+right_length+1, 1:], axis = 0))\n",
    "        if v>=var_th:\n",
    "            res.append(ix)\n",
    "            \n",
    "    return res\n",
    "    "
   ]
  },
  {
   "cell_type": "code",
   "execution_count": null,
   "metadata": {
    "collapsed": true
   },
   "outputs": [],
   "source": [
    "def label_min_points_by_bite(mp, annots):\n",
    "    \n",
    "    "
   ]
  },
  {
   "cell_type": "code",
   "execution_count": null,
   "metadata": {
    "collapsed": true
   },
   "outputs": [],
   "source": [
    "def label_min_points_by_meal(mp, annots):\n",
    "    labels = zeros((len(mp), 1))\n",
    "    if len(annots) > 0:\n",
    "        \n",
    "        \n",
    "    mp = np.array(mp).T\n",
    "    mp = mp.hstack(labels)\n",
    "    return mp\n"
   ]
  },
  {
   "cell_type": "code",
   "execution_count": null,
   "metadata": {
    "collapsed": true
   },
   "outputs": [],
   "source": [
    "def find_min_points_for_dataset(ds):\n",
    "    subject_count = len(d)\n",
    "    ds_mp = []\n",
    "    for subject in range(subject_count):\n",
    "        subject_data = ds[subject]\n",
    "        sess_count = len(subject_data)\n",
    "        subject_mp =[]\n",
    "        for sess in range(sess_count):\n",
    "            sess_data = subject_data[sess]\n",
    "            accel = sess_data[0]\n",
    "            annots = sess_data[1]\n",
    "            sess_mp = find_min_points(accel[:, 1])\n",
    "            sess_mp = filter_min_points(sess_mp, accel)\n",
    "            if(annots.shape[1] == 2)\n",
    "                sess_mp = label_min_points_by_bite(sess_mp, annots)\n",
    "            else:\n",
    "                sess_mp = label_min_points_by_meal(sess_mp, annots)\n",
    "                \n",
    "            subject_mp.append(sess_mp)\n",
    "        ds_mp.append(subject_mp)        \n",
    "    return ds_mp    "
   ]
  },
  {
   "cell_type": "code",
   "execution_count": null,
   "metadata": {
    "collapsed": true
   },
   "outputs": [],
   "source": [
    "mps = [];\n",
    "ds_names = [\"uva_lab\", \"steven_lab\", \"uva_free\", \"steven_free\"]\n",
    "\n",
    "for i in range(4):\n",
    "    ds = get_data(ds_names[i])\n",
    "    mp = find_min_points_for_dataset(ds)\n",
    "    mps.append(mp)\n",
    "\n",
    "with open(\"C:\\\\ASM\\\\DevData\\\\eating\\\\python\\\\potential_min_points.pkl\", \"wb\") as file:\n",
    "    pickle.dump(mps, file)\n",
    "\n"
   ]
  }
 ],
 "metadata": {
  "kernelspec": {
   "display_name": "Python [conda root]",
   "language": "python",
   "name": "conda-root-py"
  },
  "language_info": {
   "codemirror_mode": {
    "name": "ipython",
    "version": 3
   },
   "file_extension": ".py",
   "mimetype": "text/x-python",
   "name": "python",
   "nbconvert_exporter": "python",
   "pygments_lexer": "ipython3",
   "version": "3.5.2"
  }
 },
 "nbformat": 4,
 "nbformat_minor": 1
}
