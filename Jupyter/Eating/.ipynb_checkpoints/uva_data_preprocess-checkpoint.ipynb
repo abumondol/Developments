{
 "cells": [
  {
   "cell_type": "code",
   "execution_count": 1,
   "metadata": {
    "collapsed": true
   },
   "outputs": [],
   "source": [
    "import numpy as np\n",
    "import pickle\n",
    "import os\n",
    "import data_manager as dm\n",
    "import myutils"
   ]
  },
  {
   "cell_type": "code",
   "execution_count": 2,
   "metadata": {},
   "outputs": [],
   "source": [
    "def process_data(lines, offset, annots):   \n",
    "    \n",
    "    #print(annots)\n",
    "    \n",
    "    tokens = lines[0].split(\",\")\n",
    "    if len(tokens)==1:\n",
    "        lines = lines[1:]\n",
    "    \n",
    "    accel = []\n",
    "    for line in lines:\n",
    "        tokens = line.split(\",\")\n",
    "        if int(tokens[1])==1:\n",
    "            t = int(tokens[0])\n",
    "            x = float(tokens[3])\n",
    "            y = float(tokens[4])\n",
    "            z = float(tokens[5])\n",
    "            accel.append([t, x, y, z])\n",
    "        \n",
    "    accel = np.array(accel)  \n",
    "    accel[:, 0] = accel[:, 0] - accel[0, 0]\n",
    "    accel[:, 0] = accel[:, 0]/1e9\n",
    "        \n",
    "    if len(annots)==0:                               \n",
    "        res_annots = np.array([])        \n",
    "    else:\n",
    "        annots.sort(axis=0)\n",
    "        annots = annots[annots[:, 1]<1000, :]\n",
    "        annots[:, 0] = annots[:, 0] - offset\n",
    "                \n",
    "    return accel, annots"
   ]
  },
  {
   "cell_type": "code",
   "execution_count": 3,
   "metadata": {
    "collapsed": true
   },
   "outputs": [],
   "source": [
    "file_serial = 0\n",
    "dest_file_path = 'E:/DevData/eating/raw_data/our_data/lab_data/'"
   ]
  },
  {
   "cell_type": "code",
   "execution_count": 4,
   "metadata": {},
   "outputs": [
    {
     "name": "stdout",
     "output_type": "stream",
     "text": [
      "0102\n",
      "0103\n",
      "0301\n",
      "0601\n",
      "0602\n",
      "0603\n",
      "0801\n",
      "0803\n",
      "0901\n",
      "0902\n",
      "1001\n",
      "1303\n",
      "1304\n",
      "1305\n"
     ]
    }
   ],
   "source": [
    "#read data usc\n",
    "srcFolder = 'G:/Box Sync/MyData/Eating m2fed/usc_meals';\n",
    "subjects = [\n",
    "    ['0102', 94.6],\n",
    "    ['0103',67.5],\n",
    "    ['0301', 59.8],\n",
    "    ['0601', 26.1],\n",
    "    ['0602', 16.0],\n",
    "    ['0603', 17.1],\n",
    "    ['0801', 82.0],\n",
    "    ['0803', 67.9],\n",
    "    ['0901', 63.9],\n",
    "    ['0902', 123.2],\n",
    "    ['1001', 89.5],    \n",
    "    ['1303', 123.8],\n",
    "    ['1304', 107.1],\n",
    "    ['1305', 135.5]]\n",
    "\n",
    "\n",
    "for subj in range(len(subjects)):\n",
    "    subject_id = subjects[subj][0]\n",
    "    print(subject_id)\n",
    "    file_path = srcFolder+'/sensor_data/'+subject_id+'_right.wada'\n",
    "    with open(file_path) as file:\n",
    "        raw_data = file.readlines()\n",
    "\n",
    "    file_path = srcFolder+'/annotations/processed/'+ subject_id+ '_annotations_right.csv'\n",
    "    annots = np.genfromtxt(file_path, delimiter=\",\")\n",
    "    \n",
    "    offset = subjects[subj][1]\n",
    "\n",
    "    accel, annots = process_data(raw_data, offset, annots)\n",
    "    if subj ==0:             \n",
    "        accel = accel[accel[:,0]<42*60, :]        \n",
    "        \n",
    "    np.savetxt(dest_file_path+'accel_'+str(file_serial), accel)\n",
    "    np.savetxt(dest_file_path+'annots_'+str(file_serial), annots)\n",
    "    file_serial += 1\n",
    "   "
   ]
  },
  {
   "cell_type": "code",
   "execution_count": 5,
   "metadata": {},
   "outputs": [
    {
     "name": "stdout",
     "output_type": "stream",
     "text": [
      "[[16.2, 7.8], [10.5, 18.3, 8.3, 23.3, 149.5], [9.5, 21.1], [7.9, 16.0], [8.0, 5.6, 4.6, 8.5], [8.1, 30.3, 3.4, 15.6, 5.5], [7.4]]\n",
      "Processing  1 1\n",
      "Processing  1 2\n",
      "Processing  2 1\n",
      "Processing  2 2\n",
      "Processing  2 3\n",
      "Processing  2 4\n",
      "Processing  2 5\n",
      "Processing  3 1\n",
      "Processing  3 2\n",
      "Processing  4 1\n",
      "Processing  4 2\n",
      "Processing  5 1\n",
      "Processing  5 2\n",
      "Processing  5 3\n",
      "Processing  5 4\n",
      "Processing  6 1\n",
      "Processing  6 2\n",
      "Processing  6 3\n",
      "Processing  6 4\n",
      "Processing  6 5\n",
      "Processing  7 1\n"
     ]
    }
   ],
   "source": [
    "#read data uva\n",
    "session_counts = [2, 5, 2, 2, 4, 5, 1]\n",
    "srcFolder = 'G:/Box Sync/MyData/Eating m2fed/uva_meals'\n",
    "\n",
    "file_path = srcFolder +'/offsets.csv'\n",
    "all_offsets = []\n",
    "with open(file_path) as file:\n",
    "    lines = file.readlines()\n",
    "    for line in lines:       \n",
    "        tokens = line.split(\",\")\n",
    "        ofs = []\n",
    "        for t in tokens:\n",
    "            t = t.rstrip()            \n",
    "            if len(t)>0:\n",
    "                t= float(t)\n",
    "                ofs.append(t)\n",
    "        all_offsets.append(ofs)\n",
    "        \n",
    "print(all_offsets)\n",
    "\n",
    "for subj in range(7):\n",
    "    sess_count = session_counts[subj]    \n",
    "    for sess in range(sess_count):\n",
    "        print('Processing ', (subj+1), (sess+1))\n",
    "        file_path = srcFolder+'/subject_'+ str(subj+1)+ '/subject'+ str(subj+1)+ '_right_session'+ str(sess+1)+'.wada'\n",
    "        with open(file_path) as file:\n",
    "            raw_data = file.readlines()\n",
    "        \n",
    "        file_path = srcFolder + '/annotations/processed/subject'+ str(subj+1)+ '_annotations_right_session'+ str(sess+1) + '.csv'\n",
    "        annots = np.genfromtxt(file_path, delimiter=\",\")\n",
    "        \n",
    "        offset = all_offsets[subj][sess]\n",
    "        \n",
    "        accel, annots = process_data(raw_data, offset, annots)\n",
    "        np.savetxt(dest_file_path+'accel_'+str(file_serial), accel)\n",
    "        np.savetxt(dest_file_path+'annots_'+str(file_serial), annots)\n",
    "        file_serial += 1"
   ]
  },
  {
   "cell_type": "code",
   "execution_count": 6,
   "metadata": {},
   "outputs": [
    {
     "name": "stdout",
     "output_type": "stream",
     "text": [
      "G:/Box Sync/MyData/Eating m2fed/uva_noneat_home/abu_home_noneat/14402D24F306CE8-m2fed-04-01-Right-2017-03-08-22-39-00.wada\n"
     ]
    },
    {
     "ename": "TypeError",
     "evalue": "'axis' is an invalid keyword argument for this function",
     "output_type": "error",
     "traceback": [
      "\u001b[1;31m---------------------------------------------------------------------------\u001b[0m",
      "\u001b[1;31mTypeError\u001b[0m                                 Traceback (most recent call last)",
      "\u001b[1;32m<ipython-input-6-f986745b7794>\u001b[0m in \u001b[0;36m<module>\u001b[1;34m()\u001b[0m\n\u001b[0;32m     14\u001b[0m         \u001b[0moffset\u001b[0m \u001b[1;33m=\u001b[0m \u001b[1;36m0\u001b[0m\u001b[1;33m;\u001b[0m\u001b[1;33m\u001b[0m\u001b[0m\n\u001b[0;32m     15\u001b[0m \u001b[1;33m\u001b[0m\u001b[0m\n\u001b[1;32m---> 16\u001b[1;33m         \u001b[0maccel\u001b[0m\u001b[1;33m,\u001b[0m \u001b[0mannots\u001b[0m \u001b[1;33m=\u001b[0m \u001b[0mprocess_data\u001b[0m\u001b[1;33m(\u001b[0m\u001b[0mraw_data\u001b[0m\u001b[1;33m,\u001b[0m \u001b[0moffset\u001b[0m\u001b[1;33m,\u001b[0m \u001b[0mannots\u001b[0m\u001b[1;33m)\u001b[0m\u001b[1;33m\u001b[0m\u001b[0m\n\u001b[0m\u001b[0;32m     17\u001b[0m         \u001b[0mnp\u001b[0m\u001b[1;33m.\u001b[0m\u001b[0msavetxt\u001b[0m\u001b[1;33m(\u001b[0m\u001b[0mdest_file_path\u001b[0m\u001b[1;33m+\u001b[0m\u001b[1;34m'accel_'\u001b[0m\u001b[1;33m+\u001b[0m\u001b[0mstr\u001b[0m\u001b[1;33m(\u001b[0m\u001b[0mfile_serial\u001b[0m\u001b[1;33m)\u001b[0m\u001b[1;33m,\u001b[0m \u001b[0maccel\u001b[0m\u001b[1;33m)\u001b[0m\u001b[1;33m\u001b[0m\u001b[0m\n\u001b[0;32m     18\u001b[0m         \u001b[1;31m#np.savetxt(dest_file_path+'annots_'+file_serial, annots)\u001b[0m\u001b[1;33m\u001b[0m\u001b[1;33m\u001b[0m\u001b[0m\n",
      "\u001b[1;32m<ipython-input-2-624da87cc814>\u001b[0m in \u001b[0;36mprocess_data\u001b[1;34m(lines, offset, annots)\u001b[0m\n\u001b[0;32m      1\u001b[0m \u001b[1;32mdef\u001b[0m \u001b[0mprocess_data\u001b[0m\u001b[1;33m(\u001b[0m\u001b[0mlines\u001b[0m\u001b[1;33m,\u001b[0m \u001b[0moffset\u001b[0m\u001b[1;33m,\u001b[0m \u001b[0mannots\u001b[0m\u001b[1;33m)\u001b[0m\u001b[1;33m:\u001b[0m\u001b[1;33m\u001b[0m\u001b[0m\n\u001b[1;32m----> 2\u001b[1;33m     \u001b[0mannots\u001b[0m\u001b[1;33m.\u001b[0m\u001b[0msort\u001b[0m\u001b[1;33m(\u001b[0m\u001b[0maxis\u001b[0m\u001b[1;33m=\u001b[0m\u001b[1;36m0\u001b[0m\u001b[1;33m)\u001b[0m\u001b[1;33m\u001b[0m\u001b[0m\n\u001b[0m\u001b[0;32m      3\u001b[0m     \u001b[1;31m#print(annots)\u001b[0m\u001b[1;33m\u001b[0m\u001b[1;33m\u001b[0m\u001b[0m\n\u001b[0;32m      4\u001b[0m \u001b[1;33m\u001b[0m\u001b[0m\n\u001b[0;32m      5\u001b[0m     \u001b[0mtokens\u001b[0m \u001b[1;33m=\u001b[0m \u001b[0mlines\u001b[0m\u001b[1;33m[\u001b[0m\u001b[1;36m0\u001b[0m\u001b[1;33m]\u001b[0m\u001b[1;33m.\u001b[0m\u001b[0msplit\u001b[0m\u001b[1;33m(\u001b[0m\u001b[1;34m\",\"\u001b[0m\u001b[1;33m)\u001b[0m\u001b[1;33m\u001b[0m\u001b[0m\n",
      "\u001b[1;31mTypeError\u001b[0m: 'axis' is an invalid keyword argument for this function"
     ]
    }
   ],
   "source": [
    "srcFolder = 'G:/Box Sync/MyData/Eating m2fed/uva_noneat_home/';\n",
    "subjects = ['abu','emi','sarah','meiyi']\n",
    "\n",
    "for subj in subjects:    \n",
    "    folder_path = srcFolder + subj + '_home_noneat'\n",
    "    files = os.listdir(folder_path);\n",
    "    for f in files:\n",
    "        file_path = folder_path+ '/' + f\n",
    "        print(file_path)\n",
    "        with open(file_path) as file:\n",
    "            raw_data = file.readlines()\n",
    "        \n",
    "        annots = [];        \n",
    "        offset = 0;        \n",
    "       \n",
    "        accel, annots = process_data(raw_data, offset, annots)\n",
    "        np.savetxt(dest_file_path+'accel_'+str(file_serial), accel)\n",
    "        #np.savetxt(dest_file_path+'annots_'+file_serial, annots)\n",
    "        file_serial += 1"
   ]
  },
  {
   "cell_type": "code",
   "execution_count": null,
   "metadata": {
    "collapsed": true
   },
   "outputs": [],
   "source": []
  }
 ],
 "metadata": {
  "kernelspec": {
   "display_name": "Python 3",
   "language": "python",
   "name": "python3"
  },
  "language_info": {
   "codemirror_mode": {
    "name": "ipython",
    "version": 3
   },
   "file_extension": ".py",
   "mimetype": "text/x-python",
   "name": "python",
   "nbconvert_exporter": "python",
   "pygments_lexer": "ipython3",
   "version": "3.6.3"
  }
 },
 "nbformat": 4,
 "nbformat_minor": 2
}
