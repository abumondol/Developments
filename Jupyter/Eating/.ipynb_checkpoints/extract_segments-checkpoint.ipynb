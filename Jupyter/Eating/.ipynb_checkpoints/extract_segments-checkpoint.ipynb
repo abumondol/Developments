{
 "cells": [
  {
   "cell_type": "code",
   "execution_count": 7,
   "metadata": {
    "collapsed": true
   },
   "outputs": [],
   "source": [
    "import numpy as np\n",
    "import pickle\n",
    "import matplotlib.pyplot as plt\n",
    "%matplotlib inline"
   ]
  },
  {
   "cell_type": "code",
   "execution_count": 8,
   "metadata": {
    "collapsed": true
   },
   "outputs": [],
   "source": [
    "left = 5*16\n",
    "right = 5*16"
   ]
  },
  {
   "cell_type": "code",
   "execution_count": 9,
   "metadata": {
    "collapsed": true
   },
   "outputs": [],
   "source": [
    "def get_data(name):\n",
    "    path = \"C:\\\\ASM\\\\DevData\\\\eating\\\\python\\\\\"+name+\".pkl\"\n",
    "    with open(path, \"rb\") as file:\n",
    "        data = pickle.load(file)        \n",
    "    return data    "
   ]
  },
  {
   "cell_type": "code",
   "execution_count": 35,
   "metadata": {
    "collapsed": true
   },
   "outputs": [],
   "source": [
    "def get_segments_session(d, mp):\n",
    "    mp_count = len(mp)\n",
    "    #print(mp_count, \", \", len(d))\n",
    "    #print(mp[mp[:, -1]==1, :])\n",
    "    y = mp[:, -1]\n",
    "    x = np.zeros((mp_count, left+right, 3))\n",
    "    \n",
    "    for i in range(mp_count):\n",
    "        ix = mp[i, 0]\n",
    "        x[i, :, :] = d[ix-left:ix+right, 1:]        \n",
    "    \n",
    "    res = {\"x\":x, \"y\":y}\n",
    "    return res        \n",
    "\n",
    "def get_segments(data, mp):\n",
    "    subject_count = len(data)\n",
    "    segments = []\n",
    "    for subject in range(subject_count):\n",
    "        subject_data = data[subject]\n",
    "        subject_mp = mp[subject]\n",
    "        \n",
    "        subject_segs = []\n",
    "        sess_count = len(subject_data)        \n",
    "        for sess in range(sess_count):\n",
    "            print(\"Subject \", subject, \", Session \", sess)\n",
    "            sess_data = subject_data[sess]        \n",
    "            sess_mp = subject_mp[sess]\n",
    "            accel = sess_data[0]\n",
    "            segs = get_segments_session(accel, sess_mp)\n",
    "            subject_segs.append(segs)\n",
    "            \n",
    "        segments.append(subject_segs)\n",
    "        \n",
    "    return segments\n",
    "    "
   ]
  },
  {
   "cell_type": "code",
   "execution_count": 37,
   "metadata": {
    "collapsed": false
   },
   "outputs": [
    {
     "name": "stdout",
     "output_type": "stream",
     "text": [
      "Data set:  uva_lab_data\n",
      "Subject  0 , Session  0\n",
      "Subject  1 , Session  0\n",
      "Subject  2 , Session  0\n",
      "Subject  3 , Session  0\n",
      "Subject  4 , Session  0\n",
      "Subject  5 , Session  0\n",
      "Subject  6 , Session  0\n",
      "Subject  7 , Session  0\n",
      "Subject  8 , Session  0\n",
      "Subject  9 , Session  0\n",
      "Subject  10 , Session  0\n",
      "Subject  11 , Session  0\n",
      "Subject  12 , Session  0\n",
      "Subject  13 , Session  0\n",
      "Subject  14 , Session  0\n",
      "Subject  15 , Session  0\n",
      "Subject  16 , Session  0\n",
      "Subject  17 , Session  0\n",
      "Subject  18 , Session  0\n",
      "Subject  19 , Session  0\n",
      "Subject  20 , Session  0\n",
      "Subject  21 , Session  0\n",
      "Subject  22 , Session  0\n",
      "Subject  23 , Session  0\n",
      "Subject  24 , Session  0\n",
      "Subject  25 , Session  0\n",
      "Subject  26 , Session  0\n",
      "Subject  27 , Session  0\n",
      "Subject  28 , Session  0\n",
      "Subject  29 , Session  0\n",
      "Subject  30 , Session  0\n",
      "Subject  31 , Session  0\n",
      "Subject  32 , Session  0\n",
      "Subject  33 , Session  0\n",
      "Subject  34 , Session  0\n",
      "Data set:  steven_lab_data\n",
      "Subject  0 , Session  0\n",
      "Subject  1 , Session  0\n",
      "Subject  2 , Session  0\n",
      "Subject  2 , Session  1\n",
      "Subject  3 , Session  0\n",
      "Subject  3 , Session  1\n",
      "Subject  4 , Session  0\n",
      "Subject  4 , Session  1\n",
      "Subject  5 , Session  0\n",
      "Subject  5 , Session  1\n",
      "Subject  6 , Session  0\n",
      "Subject  6 , Session  1\n",
      "Data set:  uva_free_data\n",
      "Subject  0 , Session  0\n",
      "Subject  1 , Session  0\n",
      "Subject  2 , Session  0\n",
      "Subject  3 , Session  0\n",
      "Subject  4 , Session  0\n",
      "Subject  5 , Session  0\n",
      "Subject  6 , Session  0\n",
      "Subject  7 , Session  0\n",
      "Subject  8 , Session  0\n",
      "Subject  9 , Session  0\n",
      "Subject  10 , Session  0\n",
      "Subject  11 , Session  0\n",
      "Subject  12 , Session  0\n",
      "Subject  13 , Session  0\n",
      "Subject  14 , Session  0\n",
      "Subject  15 , Session  0\n",
      "Data set:  steven_free_data\n",
      "Subject  0 , Session  0\n",
      "Subject  0 , Session  1\n",
      "Subject  1 , Session  0\n",
      "Subject  1 , Session  1\n",
      "Subject  2 , Session  0\n",
      "Subject  2 , Session  1\n",
      "Subject  3 , Session  0\n",
      "Subject  3 , Session  1\n",
      "Subject  4 , Session  0\n",
      "Subject  4 , Session  1\n",
      "Subject  5 , Session  0\n",
      "Subject  5 , Session  1\n",
      "Subject  6 , Session  0\n",
      "Subject  6 , Session  1\n",
      "Subject  7 , Session  0\n",
      "Subject  7 , Session  1\n",
      "Subject  8 , Session  0\n",
      "Subject  8 , Session  1\n",
      "Subject  9 , Session  0\n",
      "Subject  9 , Session  1\n",
      "Subject  9 , Session  2\n",
      "Subject  9 , Session  3\n",
      "Subject  9 , Session  4\n",
      "Subject  10 , Session  0\n",
      "Subject  10 , Session  1\n"
     ]
    }
   ],
   "source": [
    "mps = get_data(\"selected_min_points\")\n",
    "ds_names = [\"uva_lab_data\", \"steven_lab_data\", \"uva_free_data\", \"steven_free_data\"]\n",
    "\n",
    "segments = []\n",
    "for i in range(4):\n",
    "    print(\"Data set: \", ds_names[i])\n",
    "    ds = get_data(ds_names[i])    \n",
    "    mp = mps[i]\n",
    "    segs = get_segments(ds, mp)\n",
    "    segments.append(segs)\n",
    "\n",
    "with open(\"C:\\\\ASM\\\\DevData\\\\eating\\\\python\\\\segments.pkl\", \"wb\") as file:\n",
    "    pickle.dump(segments, file)\n"
   ]
  },
  {
   "cell_type": "code",
   "execution_count": 44,
   "metadata": {
    "collapsed": false
   },
   "outputs": [
    {
     "name": "stdout",
     "output_type": "stream",
     "text": [
      "2\n"
     ]
    }
   ],
   "source": [
    "print(len(segments[3]))\n"
   ]
  }
 ],
 "metadata": {
  "kernelspec": {
   "display_name": "Python [conda root]",
   "language": "python",
   "name": "conda-root-py"
  },
  "language_info": {
   "codemirror_mode": {
    "name": "ipython",
    "version": 3
   },
   "file_extension": ".py",
   "mimetype": "text/x-python",
   "name": "python",
   "nbconvert_exporter": "python",
   "pygments_lexer": "ipython3",
   "version": "3.5.2"
  }
 },
 "nbformat": 4,
 "nbformat_minor": 1
}
