{
 "cells": [
  {
   "cell_type": "code",
   "execution_count": 1,
   "metadata": {},
   "outputs": [],
   "source": [
    "import numpy as np\n",
    "import os \n",
    "import sys\n",
    "import importlib\n",
    "import copy"
   ]
  },
  {
   "cell_type": "code",
   "execution_count": 2,
   "metadata": {},
   "outputs": [],
   "source": [
    "util_path = 'C:/ASM/Dropbox/Developments/Jupyter/Eating/myutils' if 'C:' in os.getcwd() else './myutils'\n",
    "sys.path.append(util_path)\n",
    "import my_file_utils as mfileu"
   ]
  },
  {
   "cell_type": "code",
   "execution_count": 3,
   "metadata": {},
   "outputs": [],
   "source": [
    "ssilp = mfileu.read_file('classification_results', 'free_ssilp_baseline.pkl')\n",
    "ba = mfileu.read_file('data', 'free_data_steven_blank_array.pkl')"
   ]
  },
  {
   "cell_type": "code",
   "execution_count": 4,
   "metadata": {},
   "outputs": [],
   "source": [
    "def detect_bites_steven(ix, proba, proba_th):    \n",
    "    count = len(ix)\n",
    "    res = []\n",
    "    inside = False\n",
    "    for i in range(count):\n",
    "        if proba[i] >= proba_th and inside==False:\n",
    "            inside = True\n",
    "            si = i\n",
    "        elif proba[i]<proba_th/2 and inside==True:            \n",
    "            ei = i-1\n",
    "            bix = (ix[si]+ix[ei])//2\n",
    "            res.append(bix)\n",
    "            inside = False\n",
    "        \n",
    "    res = np.array(res).astype(int)    \n",
    "    return res    "
   ]
  },
  {
   "cell_type": "code",
   "execution_count": 5,
   "metadata": {},
   "outputs": [
    {
     "name": "stdout",
     "output_type": "stream",
     "text": [
      "0 0  :  (323357, 5) 0.35 (76,)\n",
      "0 1  :  (305446, 5) 0.4 (66,)\n",
      "1 0  :  (292815, 5) 0.46 (52,)\n",
      "1 1  :  (296347, 5) 0.33 (100,)\n",
      "2 0  :  (345962, 5) 0.33 (121,)\n",
      "2 1  :  (337089, 5) 0.32 (68,)\n",
      "3 0  :  (201532, 5) 0.33 (48,)\n",
      "3 1  :  (229727, 5) 0.28274000000033994 (51,)\n",
      "4 0  :  (245493, 5) 0.4 (47,)\n",
      "4 1  :  (314284, 5) 0.44 (102,)\n",
      "5 0  :  (124485, 5) 0.38 (45,)\n",
      "5 1  :  (252959, 5) 0.47 (80,)\n",
      "6 0  :  (296049, 5) 0.42952000000048424 (86,)\n",
      "6 1  :  (217632, 5) 0.47 (41,)\n",
      "7 0  :  (164423, 5) 0.3 (53,)\n",
      "7 1  :  (399426, 5) 0.32 (81,)\n",
      "8 0  :  (306980, 5) 0.28 (88,)\n",
      "8 1  :  (320811, 5) 0.3 (57,)\n",
      "9 0  :  (265977, 5) 0.41 (64,)\n",
      "9 1  :  (273531, 5) 0.43 (71,)\n",
      "9 2  :  (273914, 5) 0.35 (63,)\n",
      "9 3  :  (287336, 5) 0.44000000000000006 (59,)\n",
      "9 4  :  (202983, 5) 0.41 (69,)\n",
      "10 0  :  (277725, 5) 0.2527600000001257 (45,)\n",
      "10 1  :  (334510, 5) 0.23 (71,)\n"
     ]
    }
   ],
   "source": [
    "for subj in range(len(ba)):\n",
    "    for sess in range(len(ba[subj])):        \n",
    "        ix = ssilp[subj][sess][:, 2]+40\n",
    "        proba = ssilp[subj][sess][:, -1]\n",
    "        proba_th = np.percentile(proba, 99.9)\n",
    "        \n",
    "        bites = detect_bites_steven(ix, proba, proba_th)\n",
    "        print(subj, sess, \" : \", ssilp[subj][sess].shape, proba_th, bites.shape)\n",
    "        \n",
    "        ba[subj][sess] = bites       \n",
    "        "
   ]
  },
  {
   "cell_type": "code",
   "execution_count": 6,
   "metadata": {},
   "outputs": [],
   "source": [
    "mfileu.write_file('bites', 'bites_baseline.pkl', ba)"
   ]
  },
  {
   "cell_type": "code",
   "execution_count": null,
   "metadata": {},
   "outputs": [],
   "source": []
  }
 ],
 "metadata": {
  "kernelspec": {
   "display_name": "Python 3",
   "language": "python",
   "name": "python3"
  },
  "language_info": {
   "codemirror_mode": {
    "name": "ipython",
    "version": 3
   },
   "file_extension": ".py",
   "mimetype": "text/x-python",
   "name": "python",
   "nbconvert_exporter": "python",
   "pygments_lexer": "ipython3",
   "version": "3.6.4"
  }
 },
 "nbformat": 4,
 "nbformat_minor": 2
}
