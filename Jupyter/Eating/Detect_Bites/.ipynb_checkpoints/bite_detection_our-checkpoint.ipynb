{
 "cells": [
  {
   "cell_type": "code",
   "execution_count": 32,
   "metadata": {},
   "outputs": [],
   "source": [
    "import numpy as np\n",
    "import os \n",
    "import sys\n",
    "import importlib\n",
    "import copy"
   ]
  },
  {
   "cell_type": "code",
   "execution_count": 33,
   "metadata": {},
   "outputs": [],
   "source": [
    "util_path = 'C:/ASM/Dropbox/Developments/Jupyter/Eating/myutils' if 'C:' in os.getcwd() else './myutils'\n",
    "sys.path.append(util_path)\n",
    "import my_file_utils as mfileu"
   ]
  },
  {
   "cell_type": "code",
   "execution_count": 34,
   "metadata": {},
   "outputs": [],
   "source": [
    "ssilp = mfileu.read_file('classification_results', 'free_ssilp_rf_g2.pkl')\n",
    "ba = mfileu.read_file('data', 'free_data_steven_blank_array.pkl')"
   ]
  },
  {
   "cell_type": "code",
   "execution_count": 35,
   "metadata": {},
   "outputs": [],
   "source": [
    "def detect_bites_our(ix, proba, proba_th):\n",
    "    if np.sum(proba>=proba_th)==0:\n",
    "        return []\n",
    "    \n",
    "    min_distance = 2*16\n",
    "    count = len(ix)\n",
    "    res = []\n",
    "    inside = False\n",
    "    for i in range(count):\n",
    "        if proba[i] >= proba_th and inside==False:\n",
    "            inside = True\n",
    "            si = i\n",
    "        elif proba[i]<proba_th and inside==True:            \n",
    "            ei = i-1            \n",
    "            mxi = si + np.argmax(proba[si:ei+1])\n",
    "            res.append([ix[mxi], proba[mxi]])\n",
    "            inside = False\n",
    "    \n",
    "    res = np.array(res).reshape((-1, 2))\n",
    "    count = res.shape[0]\n",
    "    flags = np.ones((count, ))\n",
    "    \n",
    "    for i in range(count):\n",
    "        j = i-1\n",
    "        while j>=0 and res[i, 0]-res[j,0]<min_distance:\n",
    "            if res[i, 1]<=res[j, 1]:\n",
    "                flags[i] = 0\n",
    "                break\n",
    "            j-=1\n",
    "                \n",
    "        if flags[i]==0:\n",
    "            continue\n",
    "            \n",
    "        j = i+1\n",
    "        while j<count and res[j, 0]-res[i,0]<min_distance:\n",
    "            if res[i, 1]<res[j, 1]:\n",
    "                flags[i] = 0\n",
    "                break\n",
    "            j+=1\n",
    "\n",
    "    res = res[flags==1, 0].astype(int)\n",
    "    return res"
   ]
  },
  {
   "cell_type": "code",
   "execution_count": 36,
   "metadata": {},
   "outputs": [
    {
     "name": "stdout",
     "output_type": "stream",
     "text": [
      "0.05 | 0.1 | 0.15 | 0.2 | 0.25 | 0.3 | 0.35 | 0.4 | 0.45 | 0.5 | 0.55 | 0.6 | 0.65 | 0.7 | 0.75 | 0.8 | 0.85 | 0.9 | 0.95 | "
     ]
    }
   ],
   "source": [
    "res = {}\n",
    "for p in range(5, 100, 5):\n",
    "    proba_th = p/100\n",
    "    print(proba_th, end=\" | \")\n",
    "    \n",
    "    ba2 = copy.deepcopy(ba)\n",
    "    for subj in range(len(ba)):\n",
    "        for sess in range(len(ba[subj])):                    \n",
    "            ix = ssilp[subj][sess][:, 2]+40\n",
    "            proba = ssilp[subj][sess][:, -1]            \n",
    "            ba2[subj][sess] = detect_bites_our(ix, proba, proba_th)\n",
    "            \n",
    "    res[proba_th] = ba2"
   ]
  },
  {
   "cell_type": "code",
   "execution_count": 37,
   "metadata": {},
   "outputs": [],
   "source": [
    "mfileu.write_file('bites', 'bites_rf_g2.pkl', res)"
   ]
  },
  {
   "cell_type": "code",
   "execution_count": 38,
   "metadata": {},
   "outputs": [
    {
     "name": "stdout",
     "output_type": "stream",
     "text": [
      "0.05 17014\n",
      "0.1 7846\n",
      "0.15 4036\n",
      "0.2 2172\n",
      "0.25 1170\n",
      "0.3 618\n",
      "0.35 323\n",
      "0.4 191\n",
      "0.45 118\n",
      "0.5 71\n",
      "0.55 51\n",
      "0.6 30\n",
      "0.65 16\n",
      "0.7 8\n",
      "0.75 6\n",
      "0.8 2\n",
      "0.85 0\n",
      "0.9 0\n",
      "0.95 0\n"
     ]
    }
   ],
   "source": [
    "for p in range(5, 100, 5):\n",
    "    proba_th = p/100\n",
    "    total = 0\n",
    "    for subj in range(len(ba)):\n",
    "        for sess in range(len(ba[subj])):                                \n",
    "            total += len(res[proba_th][subj][sess])\n",
    "            #print(res[proba_th][subj][sess])\n",
    "            \n",
    "    print(proba_th, total)"
   ]
  },
  {
   "cell_type": "code",
   "execution_count": null,
   "metadata": {},
   "outputs": [],
   "source": []
  }
 ],
 "metadata": {
  "kernelspec": {
   "display_name": "Python 3",
   "language": "python",
   "name": "python3"
  },
  "language_info": {
   "codemirror_mode": {
    "name": "ipython",
    "version": 3
   },
   "file_extension": ".py",
   "mimetype": "text/x-python",
   "name": "python",
   "nbconvert_exporter": "python",
   "pygments_lexer": "ipython3",
   "version": "3.6.4"
  }
 },
 "nbformat": 4,
 "nbformat_minor": 2
}
