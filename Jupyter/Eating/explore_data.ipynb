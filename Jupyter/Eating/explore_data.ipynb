{
 "cells": [
  {
   "cell_type": "code",
   "execution_count": null,
   "metadata": {
    "collapsed": true
   },
   "outputs": [],
   "source": [
    "import numpy as np\n",
    "import pickle\n",
    "import matplotlib.pyplot as plt\n",
    "%matplotlib inline"
   ]
  },
  {
   "cell_type": "code",
   "execution_count": null,
   "metadata": {
    "collapsed": true
   },
   "outputs": [],
   "source": [
    "def get_data(type):\n",
    "    path = \"C:\\\\ASM\\\\DevData\\\\eating\\\\python\\\\\"+type+\"_data.pkl\"\n",
    "    with open(path, \"rb\") as file:\n",
    "        data = pickle.load(file)        \n",
    "    return data    "
   ]
  },
  {
   "cell_type": "code",
   "execution_count": null,
   "metadata": {
    "collapsed": false
   },
   "outputs": [],
   "source": [
    "data = get_data(\"steven_lab\")"
   ]
  },
  {
   "cell_type": "code",
   "execution_count": null,
   "metadata": {
    "collapsed": false
   },
   "outputs": [],
   "source": [
    "total_bite = 0\n",
    "total_drink = 0\n",
    "total = 0\n",
    "\n",
    "subject_count = len(data)\n",
    "for subject in range(subject_count):\n",
    "    subject_data = data[subject]\n",
    "    sess_count = len(subject_data)\n",
    "    for sess in range(sess_count):        \n",
    "        sess_data = subject_data[sess]        \n",
    "        a = sess_data[1]\n",
    "        \n",
    "        bite = sum(a[:,1]==1)\n",
    "        drink = sum(a[:,1]==2)\n",
    "        print(\"Subject {}, Session {}: Bite {}, Drink {}, Total {}\".format(subject, sess, bite, drink, len(a)))\n",
    "        \n",
    "        total_bite+=bite\n",
    "        total_drink+= drink\n",
    "        total+=len(a)\n",
    "print(\"Total Bite {}, Drink {}, Total {}\".format(total_bite, total_drink, total))\n"
   ]
  },
  {
   "cell_type": "code",
   "execution_count": null,
   "metadata": {
    "collapsed": true
   },
   "outputs": [],
   "source": [
    "data = get_data(\"steven_free\")"
   ]
  },
  {
   "cell_type": "code",
   "execution_count": null,
   "metadata": {
    "collapsed": false
   },
   "outputs": [],
   "source": [
    "total = np.array([0, 0, 0, 0, 0])\n",
    "\n",
    "subject_count = len(data)\n",
    "for subject in range(subject_count):\n",
    "    subject_data = data[subject]\n",
    "    sess_count = len(subject_data)\n",
    "    for sess in range(sess_count):        \n",
    "        sess_data = subject_data[sess]\n",
    "        d = sess_data[0]\n",
    "        annot = sess_data[1]        \n",
    "        \n",
    "        counts = np.array([0, 0, 0, 0, 0])\n",
    "        for i in range(5):\n",
    "            counts[i] = sum(annot[:, 2]==(i+1))\n",
    "        \n",
    "        total = total + counts            \n",
    "        print(\"Subject {}, Session {}: \".format(subject, sess), counts)\n",
    "        print(annot)\n",
    "        \n",
    "        fig = plt.figure(figsize=(12,10))\n",
    "        subplot = fig.add_subplot(111)        \n",
    "        subplot.plot(d[:, 1], label='X')\n",
    "        #subplot.plot(d[:, 2], label='Y')\n",
    "        #subplot.plot(d[:, 3], label='Z')\n",
    "        subplot.legend()\n",
    "        \n",
    "        \n",
    "        \n",
    "        r = len(annot)                    \n",
    "        for i in range(r):            \n",
    "            ix1 = annot[i, 0]\n",
    "            ix2 = annot[i, 1]\n",
    "            meal_type = annot[i, 2]\n",
    "            \n",
    "            subplot.plot([ix1, ix1], [-20, 20], c = 'b')\n",
    "            subplot.plot([ix2, ix2], [-20, 20], c = 'g')\n",
    "        \n",
    "        #plt.show()\n",
    "        plt.savefig(\"C:\\\\ASM\\\\DevData\\\\eating\\\\python\\\\figs\\\\\"+str(subject)+\"_\"+str(sess)+\".png\")\n",
    "        \n",
    "print(\"Total: \", total)\n",
    "\n",
    "\n"
   ]
  },
  {
   "cell_type": "code",
   "execution_count": null,
   "metadata": {
    "collapsed": true
   },
   "outputs": [],
   "source": []
  }
 ],
 "metadata": {
  "anaconda-cloud": {},
  "kernelspec": {
   "display_name": "Python [conda root]",
   "language": "python",
   "name": "conda-root-py"
  },
  "language_info": {
   "codemirror_mode": {
    "name": "ipython",
    "version": 3
   },
   "file_extension": ".py",
   "mimetype": "text/x-python",
   "name": "python",
   "nbconvert_exporter": "python",
   "pygments_lexer": "ipython3",
   "version": "3.5.2"
  }
 },
 "nbformat": 4,
 "nbformat_minor": 1
}
