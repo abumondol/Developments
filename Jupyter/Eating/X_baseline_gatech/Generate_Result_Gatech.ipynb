{
 "cells": [
  {
   "cell_type": "code",
   "execution_count": 1,
   "metadata": {},
   "outputs": [],
   "source": [
    "import numpy as np\n",
    "import scipy as sp\n",
    "import os \n",
    "import sys\n",
    "import importlib"
   ]
  },
  {
   "cell_type": "code",
   "execution_count": 2,
   "metadata": {},
   "outputs": [],
   "source": [
    "util_path = 'C:/ASM/Dropbox/Developments/Jupyter/Eating/myutils' if 'C:' in os.getcwd() else './myutils'\n",
    "sys.path.append(util_path)\n",
    "import my_file_utils as mfileu\n",
    "import my_steven_free_utils as msfreeu\n",
    "import my_classification_utils as mcu\n",
    "import my_meal_detection_utils as mmdu\n",
    "import my_data_process_utils as mdpu\n",
    "#implortlib.reload(mmdu)"
   ]
  },
  {
   "cell_type": "code",
   "execution_count": 3,
   "metadata": {},
   "outputs": [],
   "source": [
    "annots = mfileu.read_file('data', 'free_data_steven_annots.pkl')\n",
    "#lab_data = mfileu.read_file('data', 'lab_data_steven.pkl')\n",
    "free_data = mfileu.read_file('data', 'free_data_steven_right.pkl')"
   ]
  },
  {
   "cell_type": "code",
   "execution_count": 4,
   "metadata": {},
   "outputs": [],
   "source": [
    "all_proba_bite = []\n",
    "for subj in range(len(annots)):\n",
    "    subj_proba_bite = []\n",
    "    for sess in range(len(annots[subj])):\n",
    "        r1 = mfileu.read_file('baseline_test_proba_gatech', 'bite_free_'+str(subj)+'_'+str(sess)+\".pkl\")\n",
    "        subj_proba_bite.append(r1)\n",
    "        \n",
    "    all_proba_bite.append(subj_proba_bite)        "
   ]
  },
  {
   "cell_type": "code",
   "execution_count": 6,
   "metadata": {},
   "outputs": [],
   "source": [
    "import matplotlib.pyplot as plt\n",
    "%matplotlib inline\n",
    "\n",
    "def get_result(subj, sess, minPts, eps, plot=False):\n",
    "    result = []\n",
    "    \n",
    "    #print(\"Subj, sess: \", subj, sess)\n",
    "\n",
    "    a = annots[subj][sess]        \n",
    "    a = msfreeu.process_anntos(len(free_data[subj][sess]), a)\n",
    "    #print(\"Meal, snack count:\", np.sum(a[:,2]==1), np.sum(a[:,2]==2))\n",
    "    \n",
    "    proba = all_proba_bite[subj][sess]\n",
    "    indices = proba[:, 0]+48\n",
    "    proba = proba[:, -1]    \n",
    "    bite_indices = indices[proba>=0.5]\n",
    "    \n",
    "    clusters = cluster_dbscan(bite_indices, minPts=minPts, eps=eps)    \n",
    "    result = mmdu.get_meal_detection_results(a, clusters=clusters)\n",
    "    \n",
    "    ###############################################\n",
    "    if not plot:\n",
    "        return result\n",
    "\n",
    "    idf = 16*60*60\n",
    "    fig = plt.figure(figsize=(20,8))\n",
    "    ax = plt.subplot(111)        \n",
    "    ax.scatter(bite_indices/idf, np.zeros((len(bite_indices)),)+1, marker='x', s=10, color='blue')                \n",
    "    \n",
    "    clrs = ['', 'blue', 'green', 'red', 'black']\n",
    "    for i in range(len(a)):\n",
    "        si = a[i, 0]/idf\n",
    "        ei = a[i, 1]/idf\n",
    "        mt = a[i, 2]            \n",
    "        ax.plot([si, ei], [0.5, 0.5], color=clrs[mt], linewidth=5)\n",
    "\n",
    "    for i in range(len(clusters)):\n",
    "        si = clusters[i, 0]/idf\n",
    "        ei = clusters[i, 1]/idf            \n",
    "        ax.plot([si, ei], [0.75, 0.75], color='black', linewidth=5)\n",
    "    \n",
    "\n",
    "    plt.title(\"Subj, sess:{}, {}\".format(subj, sess))\n",
    "    plt.xlabel('Time (Hour)', fontsize=20)        \n",
    "    plt.ylim([0, 2])\n",
    "    plt.grid(True)\n",
    "    plt.show()        \n",
    "\n",
    "    return result"
   ]
  },
  {
   "cell_type": "code",
   "execution_count": 7,
   "metadata": {
    "scrolled": false
   },
   "outputs": [],
   "source": [
    "def get_metric_results(minPts, eps):\n",
    "    gts, acovs, clcovs = [], [], []\n",
    "    for subj in range(len(annots)):\n",
    "        for sess in range(len(annots[subj])):\n",
    "                              \n",
    "            gt, ac, clc = get_result(subj, sess, minPts=minPts, eps=eps, plot=False)\n",
    "            assert len(gt) == len(ac)\n",
    "\n",
    "            gt = mdpu.add_subj_sess_to_array(gt, subj, sess, at_begin=False)\n",
    "            ac = mdpu.add_subj_sess_to_array(ac, subj, sess, at_begin=False)\n",
    "            clc = mdpu.add_subj_sess_to_array(clc, subj, sess, at_begin=False)\n",
    "\n",
    "            gts = gt if len(gts)==0 else np.concatenate((gts, gt))\n",
    "            acovs = ac if len(acovs)==0 else np.concatenate((acovs, ac))\n",
    "            clcovs = clc if len(clcovs)==0 else np.concatenate((clcovs, clc))\n",
    "            \n",
    "    res = mmdu.get_metric_results(gts, acovs, clcovs)\n",
    "    return res"
   ]
  },
  {
   "cell_type": "code",
   "execution_count": 11,
   "metadata": {},
   "outputs": [
    {
     "name": "stdout",
     "output_type": "stream",
     "text": [
      "1 10 | 1 20 | 1 30 | 1 40 | 1 50 | 1 60 | 1 70 | 1 80 | 1 90 | 1 100 | 1 110 | 1 120 | 1 130 | 1 140 | 1 150 | 1 160 | 1 170 | 1 180 | 1 190 | 1 200 | 1 210 | 1 220 | 1 230 | 1 240 | 1 250 | 1 260 | 1 270 | 1 280 | 1 290 | 1 300 | 1 310 | 1 320 | 1 330 | 1 340 | 1 350 | 1 360 | 1 370 | 1 380 | 1 390 | 1 400 | 1 410 | 1 420 | 1 430 | 1 440 | 1 450 | 1 460 | 1 470 | 1 480 | 1 490 | 1 500 | 1 510 | 1 520 | 1 530 | 1 540 | 1 550 | 1 560 | 1 570 | 1 580 | 1 590 | 1 600 | 2 10 | 2 20 | 2 30 | 2 40 | 2 50 | 2 60 | 2 70 | 2 80 | 2 90 | 2 100 | 2 110 | 2 120 | 2 130 | 2 140 | 2 150 | 2 160 | 2 170 | 2 180 | 2 190 | 2 200 | 2 210 | 2 220 | 2 230 | 2 240 | 2 250 | 2 260 | 2 270 | 2 280 | 2 290 | 2 300 | 2 310 | 2 320 | 2 330 | 2 340 | 2 350 | 2 360 | 2 370 | 2 380 | 2 390 | 2 400 | 2 410 | 2 420 | 2 430 | 2 440 | 2 450 | 2 460 | 2 470 | 2 480 | 2 490 | 2 500 | 2 510 | 2 520 | 2 530 | 2 540 | 2 550 | 2 560 | 2 570 | 2 580 | 2 590 | 2 600 | 3 10 | 3 20 | 3 30 | 3 40 | 3 50 | 3 60 | 3 70 | 3 80 | 3 90 | 3 100 | 3 110 | 3 120 | 3 130 | 3 140 | 3 150 | 3 160 | 3 170 | 3 180 | 3 190 | 3 200 | 3 210 | 3 220 | 3 230 | 3 240 | 3 250 | 3 260 | 3 270 | 3 280 | 3 290 | 3 300 | 3 310 | 3 320 | 3 330 | 3 340 | 3 350 | 3 360 | 3 370 | 3 380 | 3 390 | 3 400 | 3 410 | 3 420 | 3 430 | 3 440 | 3 450 | 3 460 | 3 470 | 3 480 | 3 490 | 3 500 | 3 510 | 3 520 | 3 530 | 3 540 | 3 550 | 3 560 | 3 570 | 3 580 | 3 590 | 3 600 | 4 10 | 4 20 | 4 30 | 4 40 | 4 50 | 4 60 | 4 70 | 4 80 | 4 90 | 4 100 | 4 110 | 4 120 | 4 130 | 4 140 | 4 150 | 4 160 | 4 170 | 4 180 | 4 190 | 4 200 | 4 210 | 4 220 | 4 230 | 4 240 | 4 250 | 4 260 | 4 270 | 4 280 | 4 290 | 4 300 | 4 310 | 4 320 | 4 330 | 4 340 | 4 350 | 4 360 | 4 370 | 4 380 | 4 390 | 4 400 | 4 410 | 4 420 | 4 430 | 4 440 | 4 450 | 4 460 | 4 470 | 4 480 | 4 490 | 4 500 | 4 510 | 4 520 | 4 530 | 4 540 | 4 550 | 4 560 | 4 570 | 4 580 | 4 590 | 4 600 | 5 10 | 5 20 | 5 30 | 5 40 | 5 50 | 5 60 | 5 70 | 5 80 | 5 90 | 5 100 | 5 110 | 5 120 | 5 130 | 5 140 | 5 150 | 5 160 | 5 170 | 5 180 | 5 190 | 5 200 | 5 210 | 5 220 | 5 230 | 5 240 | 5 250 | 5 260 | 5 270 | 5 280 | 5 290 | 5 300 | 5 310 | 5 320 | 5 330 | 5 340 | 5 350 | 5 360 | 5 370 | 5 380 | 5 390 | 5 400 | 5 410 | 5 420 | 5 430 | 5 440 | 5 450 | 5 460 | 5 470 | 5 480 | 5 490 | 5 500 | 5 510 | 5 520 | 5 530 | 5 540 | 5 550 | 5 560 | 5 570 | 5 580 | 5 590 | 5 600 | 6 10 | 6 20 | 6 30 | 6 40 | 6 50 | 6 60 | 6 70 | 6 80 | 6 90 | 6 100 | 6 110 | 6 120 | 6 130 | 6 140 | 6 150 | 6 160 | 6 170 | 6 180 | 6 190 | 6 200 | 6 210 | 6 220 | 6 230 | 6 240 | 6 250 | 6 260 | 6 270 | 6 280 | 6 290 | "
     ]
    },
    {
     "name": "stderr",
     "output_type": "stream",
     "text": [
      "C:/ASM/Dropbox/Developments/Jupyter/Eating/myutils\\my_meal_detection_utils.py:225: RuntimeWarning: invalid value encountered in long_scalars\n",
      "  res['precision'] = res['tp']/(res['tp'] + res['fp'])\n"
     ]
    },
    {
     "name": "stdout",
     "output_type": "stream",
     "text": [
      "6 300 | 6 310 | 6 320 | 6 330 | 6 340 | 6 350 | 6 360 | 6 370 | 6 380 | 6 390 | 6 400 | 6 410 | 6 420 | 6 430 | 6 440 | 6 450 | 6 460 | 6 470 | 6 480 | 6 490 | 6 500 | 6 510 | 6 520 | 6 530 | 6 540 | 6 550 | 6 560 | 6 570 | 6 580 | 6 590 | 6 600 | 7 10 | 7 20 | 7 30 | 7 40 | 7 50 | 7 60 | 7 70 | 7 80 | 7 90 | 7 100 | 7 110 | 7 120 | 7 130 | 7 140 | 7 150 | 7 160 | 7 170 | 7 180 | 7 190 | 7 200 | 7 210 | 7 220 | 7 230 | 7 240 | 7 250 | 7 260 | 7 270 | 7 280 | 7 290 | 7 300 | 7 310 | 7 320 | 7 330 | 7 340 | 7 350 | 7 360 | 7 370 | 7 380 | 7 390 | 7 400 | 7 410 | 7 420 | 7 430 | 7 440 | 7 450 | 7 460 | 7 470 | 7 480 | 7 490 | 7 500 | 7 510 | 7 520 | 7 530 | 7 540 | 7 550 | 7 560 | 7 570 | 7 580 | 7 590 | 7 600 | 8 10 | 8 20 | 8 30 | 8 40 | 8 50 | 8 60 | 8 70 | 8 80 | 8 90 | 8 100 | 8 110 | 8 120 | 8 130 | 8 140 | 8 150 | 8 160 | 8 170 | 8 180 | 8 190 | 8 200 | 8 210 | 8 220 | 8 230 | 8 240 | 8 250 | 8 260 | 8 270 | 8 280 | 8 290 | 8 300 | 8 310 | 8 320 | 8 330 | 8 340 | 8 350 | 8 360 | 8 370 | 8 380 | 8 390 | 8 400 | 8 410 | 8 420 | 8 430 | 8 440 | 8 450 | 8 460 | 8 470 | 8 480 | 8 490 | 8 500 | 8 510 | 8 520 | 8 530 | 8 540 | 8 550 | 8 560 | 8 570 | 8 580 | 8 590 | 8 600 | 9 10 | 9 20 | 9 30 | 9 40 | 9 50 | 9 60 | 9 70 | 9 80 | 9 90 | 9 100 | 9 110 | 9 120 | 9 130 | 9 140 | 9 150 | 9 160 | 9 170 | 9 180 | 9 190 | 9 200 | 9 210 | 9 220 | 9 230 | 9 240 | 9 250 | 9 260 | 9 270 | 9 280 | 9 290 | 9 300 | 9 310 | 9 320 | 9 330 | 9 340 | 9 350 | 9 360 | 9 370 | 9 380 | 9 390 | 9 400 | 9 410 | 9 420 | 9 430 | 9 440 | 9 450 | 9 460 | 9 470 | 9 480 | 9 490 | 9 500 | 9 510 | 9 520 | 9 530 | 9 540 | 9 550 | 9 560 | 9 570 | 9 580 | 9 590 | 9 600 | 10 10 | 10 20 | 10 30 | 10 40 | 10 50 | 10 60 | 10 70 | 10 80 | 10 90 | 10 100 | 10 110 | 10 120 | 10 130 | 10 140 | 10 150 | 10 160 | 10 170 | 10 180 | 10 190 | 10 200 | 10 210 | 10 220 | 10 230 | 10 240 | 10 250 | 10 260 | 10 270 | 10 280 | 10 290 | 10 300 | 10 310 | 10 320 | 10 330 | 10 340 | 10 350 | 10 360 | 10 370 | 10 380 | 10 390 | 10 400 | 10 410 | 10 420 | 10 430 | 10 440 | 10 450 | 10 460 | 10 470 | 10 480 | 10 490 | 10 500 | 10 510 | 10 520 | 10 530 | 10 540 | 10 550 | 10 560 | 10 570 | 10 580 | 10 590 | 10 600 | "
     ]
    }
   ],
   "source": [
    "res ={}\n",
    "for minPts in range(1, 11):\n",
    "    for eps in range(10, 601, 10):\n",
    "        print(minPts, eps, end=' | ')\n",
    "        res[(minPts, eps)] = get_metric_results(minPts, eps*16)\n",
    "\n",
    "mfileu.write_file('final_results', 'gatech.pkl', res)"
   ]
  },
  {
   "cell_type": "code",
   "execution_count": 12,
   "metadata": {},
   "outputs": [],
   "source": []
  }
 ],
 "metadata": {
  "kernelspec": {
   "display_name": "Python 3",
   "language": "python",
   "name": "python3"
  },
  "language_info": {
   "codemirror_mode": {
    "name": "ipython",
    "version": 3
   },
   "file_extension": ".py",
   "mimetype": "text/x-python",
   "name": "python",
   "nbconvert_exporter": "python",
   "pygments_lexer": "ipython3",
   "version": "3.6.4"
  }
 },
 "nbformat": 4,
 "nbformat_minor": 2
}
