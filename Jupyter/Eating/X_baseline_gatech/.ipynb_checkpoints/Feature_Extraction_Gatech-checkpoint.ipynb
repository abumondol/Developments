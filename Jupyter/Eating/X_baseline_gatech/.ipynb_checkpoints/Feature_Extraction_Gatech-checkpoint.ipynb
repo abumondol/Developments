{
 "cells": [
  {
   "cell_type": "code",
   "execution_count": 1,
   "metadata": {
    "scrolled": true
   },
   "outputs": [],
   "source": [
    "import numpy as np\n",
    "import scipy.stats as stats\n",
    "import pickle\n",
    "import os\n",
    "import sys"
   ]
  },
  {
   "cell_type": "code",
   "execution_count": 2,
   "metadata": {
    "scrolled": true
   },
   "outputs": [],
   "source": [
    "def get_features_one_window(d):\n",
    "    t, accel, gyro = d[:, 0], d[:, 1:4], d[:, 4:7]\n",
    "    \n",
    "    accel_mean = np.mean(accel, axis=0)\n",
    "    accel_var = np.var(accel, axis=0)\n",
    "    accel_skew = stats.skew(accel, axis=0)\n",
    "    accel_kurt = stats.kurtosis(accel, axis=0)\n",
    "    accel_rms = np.mean(accel*accel, axis=0)\n",
    "    \n",
    "    gyro_mean = np.mean(gyro, axis=0)\n",
    "    gyro_var = np.var(gyro, axis=0)\n",
    "    gyro_skew = stats.skew(gyro, axis=0)\n",
    "    gyro_kurt = stats.kurtosis(gyro, axis=0)\n",
    "    gyro_rms = np.mean(gyro*gyro, axis=0)\n",
    "        \n",
    "    res = np.zeros((1, 30))\n",
    "    res[0, 0:3] = accel_mean\n",
    "    res[0, 3:6] = accel_var\n",
    "    res[0, 6:9] = accel_skew\n",
    "    res[0, 9:12] = accel_kurt\n",
    "    res[0, 12:15] = accel_rms\n",
    "    \n",
    "    res[0, 15:18] = gyro_mean\n",
    "    res[0, 18:21] = gyro_var\n",
    "    res[0, 21:24] = gyro_skew\n",
    "    res[0, 24:27] = gyro_kurt\n",
    "    res[0, 27:30] = gyro_rms\n",
    "    \n",
    "    return res"
   ]
  },
  {
   "cell_type": "code",
   "execution_count": 3,
   "metadata": {
    "scrolled": true
   },
   "outputs": [],
   "source": [
    "def get_features_one_session(data, window_size=6*16, step_size=3*16):\n",
    "    count = (len(data)-window_size)//step_size + 1\n",
    "    res = np.zeros((count, 31))\n",
    "    \n",
    "    print(\"Data sahpe: \", data.shape, \"Feature shape: \", res.shape)\n",
    "    for i in range(count):\n",
    "        si = i*step_size        \n",
    "        d = data[si:si+window_size, :]\n",
    "        res[i, 0] = si\n",
    "        res[i, 1:] = get_features_one_window(d)\n",
    "    return res"
   ]
  },
  {
   "cell_type": "code",
   "execution_count": 4,
   "metadata": {
    "scrolled": true
   },
   "outputs": [],
   "source": [
    "def get_features_steven_lab():\n",
    "    path = 'C:/ASM/DevData/eating_steven' if \"C:\" in os.getcwd() else '.'        \n",
    "        \n",
    "    with open(path+'/data/lab_data_steven_smoothed.pkl', 'rb') as file:\n",
    "        data = pickle.load(file)\n",
    "    \n",
    "    features = []    \n",
    "    for subj in range(len(data)):\n",
    "        fsubj =[]\n",
    "        for sess in range(len(data[subj])):\n",
    "            print(\"Extracing features... Subj, sess: \", subj, sess)\n",
    "            d = data[subj][sess][\"data_right\"]\n",
    "            f = get_features_one_session(d)\n",
    "            print(\"Feature shape: \", f.shape)\n",
    "            fsubj.append(f)\n",
    "            \n",
    "        features.append(fsubj)\n",
    "        \n",
    "    with open(path+'/features/lab_features_steven_right_gatech.pkl', 'wb') as file:\n",
    "        pickle.dump(features, file)\n",
    "        \n",
    "    return features"
   ]
  },
  {
   "cell_type": "code",
   "execution_count": 5,
   "metadata": {
    "scrolled": true
   },
   "outputs": [],
   "source": [
    "def get_features_steven_free():\n",
    "    path = 'C:/ASM/DevData/eating_steven' if \"C:\" in os.getcwd() else '.'    \n",
    "    \n",
    "    with open(path + '/data/free_data_steven_right_smoothed.pkl', 'rb') as file:\n",
    "        data = pickle.load(file)\n",
    "    \n",
    "    features = []    \n",
    "    for subj in range(len(data)):\n",
    "        fsubj =[]\n",
    "        for sess in range(len(data[subj])):\n",
    "            print(\"Extracing features... Subj, sess: \", subj, sess)\n",
    "            d = data[subj][sess]\n",
    "            f = get_features_one_session(d)\n",
    "            print(\"Feature shape: \", f.shape)\n",
    "            fsubj.append(f)\n",
    "            \n",
    "        features.append(fsubj)\n",
    "    \n",
    "    with open(path+'/features/free_features_steven_right_gatech.pkl', 'wb') as file:\n",
    "        pickle.dump(features, file)    \n",
    "        \n",
    "    return features"
   ]
  },
  {
   "cell_type": "code",
   "execution_count": 6,
   "metadata": {
    "scrolled": true
   },
   "outputs": [
    {
     "name": "stdout",
     "output_type": "stream",
     "text": [
      "Data type:  -f\n"
     ]
    },
    {
     "ename": "FileNotFoundError",
     "evalue": "[Errno 2] No such file or directory: 'C:/ASM/DevData/eating_steven/data/free_data_steven_right.pkl'",
     "output_type": "error",
     "traceback": [
      "\u001b[1;31m---------------------------------------------------------------------------\u001b[0m",
      "\u001b[1;31mFileNotFoundError\u001b[0m                         Traceback (most recent call last)",
      "\u001b[1;32m<ipython-input-6-c59bae2514d7>\u001b[0m in \u001b[0;36m<module>\u001b[1;34m()\u001b[0m\n\u001b[0;32m      5\u001b[0m     \u001b[0mget_features_steven_lab\u001b[0m\u001b[1;33m(\u001b[0m\u001b[1;33m)\u001b[0m\u001b[1;33m\u001b[0m\u001b[0m\n\u001b[0;32m      6\u001b[0m \u001b[1;32melse\u001b[0m\u001b[1;33m:\u001b[0m\u001b[1;33m\u001b[0m\u001b[0m\n\u001b[1;32m----> 7\u001b[1;33m     \u001b[0mget_features_steven_free\u001b[0m\u001b[1;33m(\u001b[0m\u001b[1;33m)\u001b[0m\u001b[1;33m\u001b[0m\u001b[0m\n\u001b[0m",
      "\u001b[1;32m<ipython-input-5-fb7d4beab910>\u001b[0m in \u001b[0;36mget_features_steven_free\u001b[1;34m()\u001b[0m\n\u001b[0;32m      2\u001b[0m     \u001b[0mpath\u001b[0m \u001b[1;33m=\u001b[0m \u001b[1;34m'C:/ASM/DevData/eating_steven'\u001b[0m \u001b[1;32mif\u001b[0m \u001b[1;34m\"C:\"\u001b[0m \u001b[1;32min\u001b[0m \u001b[0mos\u001b[0m\u001b[1;33m.\u001b[0m\u001b[0mgetcwd\u001b[0m\u001b[1;33m(\u001b[0m\u001b[1;33m)\u001b[0m \u001b[1;32melse\u001b[0m \u001b[1;34m'.'\u001b[0m\u001b[1;33m\u001b[0m\u001b[0m\n\u001b[0;32m      3\u001b[0m \u001b[1;33m\u001b[0m\u001b[0m\n\u001b[1;32m----> 4\u001b[1;33m     \u001b[1;32mwith\u001b[0m \u001b[0mopen\u001b[0m\u001b[1;33m(\u001b[0m\u001b[0mpath\u001b[0m \u001b[1;33m+\u001b[0m \u001b[1;34m'/data/free_data_steven_right.pkl'\u001b[0m\u001b[1;33m,\u001b[0m \u001b[1;34m'rb'\u001b[0m\u001b[1;33m)\u001b[0m \u001b[1;32mas\u001b[0m \u001b[0mfile\u001b[0m\u001b[1;33m:\u001b[0m\u001b[1;33m\u001b[0m\u001b[0m\n\u001b[0m\u001b[0;32m      5\u001b[0m         \u001b[0mdata\u001b[0m \u001b[1;33m=\u001b[0m \u001b[0mpickle\u001b[0m\u001b[1;33m.\u001b[0m\u001b[0mload\u001b[0m\u001b[1;33m(\u001b[0m\u001b[0mfile\u001b[0m\u001b[1;33m)\u001b[0m\u001b[1;33m\u001b[0m\u001b[0m\n\u001b[0;32m      6\u001b[0m \u001b[1;33m\u001b[0m\u001b[0m\n",
      "\u001b[1;31mFileNotFoundError\u001b[0m: [Errno 2] No such file or directory: 'C:/ASM/DevData/eating_steven/data/free_data_steven_right.pkl'"
     ]
    }
   ],
   "source": [
    "lab_free = sys.argv[1]\n",
    "print(\"Data type: \", lab_free)\n",
    "\n",
    "if lab_free=='lab':\n",
    "    get_features_steven_lab() \n",
    "else:\n",
    "    get_features_steven_free() "
   ]
  },
  {
   "cell_type": "code",
   "execution_count": null,
   "metadata": {
    "scrolled": true
   },
   "outputs": [],
   "source": []
  }
 ],
 "metadata": {
  "kernelspec": {
   "display_name": "Python 3",
   "language": "python",
   "name": "python3"
  },
  "language_info": {
   "codemirror_mode": {
    "name": "ipython",
    "version": 3
   },
   "file_extension": ".py",
   "mimetype": "text/x-python",
   "name": "python",
   "nbconvert_exporter": "python",
   "pygments_lexer": "ipython3",
   "version": "3.6.4"
  }
 },
 "nbformat": 4,
 "nbformat_minor": 2
}
