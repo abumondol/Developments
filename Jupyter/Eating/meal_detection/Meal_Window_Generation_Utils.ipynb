{
 "cells": [
  {
   "cell_type": "code",
   "execution_count": 6,
   "metadata": {},
   "outputs": [],
   "source": [
    "import numpy as np\n",
    "import os\n",
    "import sys"
   ]
  },
  {
   "cell_type": "code",
   "execution_count": 7,
   "metadata": {},
   "outputs": [],
   "source": [
    "util_path = 'C:/ASM/Dropbox/Developments/Jupyter/Eating/myutils' if 'C:' in os.getcwd() else './myutils'\n",
    "sys.path.append(util_path)\n",
    "import my_file_utils as mfileu\n",
    "import my_steven_free_utils as msfreeu\n",
    "import my_feature_utils as mfeatu\n",
    "import my_data_process_utils as mdpu"
   ]
  },
  {
   "cell_type": "code",
   "execution_count": 30,
   "metadata": {},
   "outputs": [],
   "source": [
    "def get_window_indices(dcount, a, win_size, step_size):    \n",
    "    six = np.array(list(range(0, dcount-win_size, step_size))).astype(int)\n",
    "    assert six[-1]+win_size<=dcount\n",
    "    cix = six + win_size//2 \n",
    "    eix = six + win_size-1\n",
    "    \n",
    "    count = len(six)\n",
    "    labels = np.zeros((count, ))\n",
    "    episode_duration = np.zeros((count, ))\n",
    "    onborder = np.zeros((count, ))\n",
    "    \n",
    "    if len(a)>0:        \n",
    "        a = msfreeu.process_anntos(dcount, a)\n",
    "        acount = len(a)\n",
    "        print(\"Meal count: {}, Times data, last meal end: {}, {}\".format(acount, dcount//16, a[-1,1]//16))    \n",
    "        assert a[-1, 1]<=dcount-1        \n",
    "        print(a)\n",
    "\n",
    "        for i in range(acount):\n",
    "            si, ei, mt = a[i, 0], a[i, 1], a[i, 2]        \n",
    "            print('  Meal {}: {} - {}, {}'.format(i+1, si//16, ei//16, mt))\n",
    "\n",
    "            cond = (cix>=si) & (cix<=ei)\n",
    "            labels[cond] = mt\n",
    "\n",
    "            cond1 =  ( (six<si) | (eix>ei) )\n",
    "            onborder[cond & cond1] = -1\n",
    "\n",
    "            cond1 = (cix<si) | (cix>ei)\n",
    "            cond2 = (six>=si) & (six<=ei)\n",
    "            cond3 = (eix>=si) & (eix<=ei)\n",
    "            onborder[cond1 & (cond2 | cond3)] = -2\n",
    "            \n",
    "            episode_duration[:] = ei-si+1\n",
    "        \n",
    "    \n",
    "    res = np.zeros((count, 6))\n",
    "    res[:, 0] = six\n",
    "    res[:, 1] = eix\n",
    "    res[:, 2] = cix    \n",
    "    res[:, 3] = episode_duration\n",
    "    res[:, 4] = onborder\n",
    "    res[:, 5] = labels\n",
    "    \n",
    "    print(\"total, onborders:\", count, np.sum(onborder>=0))\n",
    "    \n",
    "    return res.astype(int)    "
   ]
  },
  {
   "cell_type": "code",
   "execution_count": 31,
   "metadata": {},
   "outputs": [],
   "source": [
    "#This function generates window indices for positive and negative segments separately\n",
    "def get_window_indices_neg_pos(dcount, a, neg_step, pos_step):    \n",
    "    a = msfreeu.process_anntos(dcount, a)            \n",
    "    acount = len(a)\n",
    "    print(\"Meal count: {}, Times data, last meal end: {}, {}\".format(acount, dcount//16, a[-1,1]//16))    \n",
    "    assert a[-1, 1]<=dcount-1        \n",
    "    print(a)\n",
    "    \n",
    "    si, ei = 0, a[0,0]    \n",
    "    indices = get_indices(si, ei, neg_step)\n",
    "    windows = np.zeros((indices.shape[0], 3), dtype=np.int32)\n",
    "    windows[:, 0] = indices        \n",
    "    \n",
    "    for i in range(acount):\n",
    "        si, ei, mt = a[i, 0], a[i, 1], a[i, 2]        \n",
    "        print('  Meal {}: {} - {}, {}'.format(i+1, si//16, ei//16, mt))\n",
    "        \n",
    "        print(\"    Positives: \")        \n",
    "        indices = get_indices(si, ei, pos_step)\n",
    "        w = np.zeros((indices.shape[0], 3), dtype=np.int32)\n",
    "        w[:, 0] = indices\n",
    "        w[:, 1] = (ei-si)//16        \n",
    "        w[:, 2] = mt        \n",
    "        windows = np.concatenate((windows, w), axis=0)            \n",
    "        print(\"\\tShapes windows: \", w.shape)\n",
    "\n",
    "        # Negative windows\n",
    "        if ei == dcount-1:\n",
    "            break\n",
    "            \n",
    "        print(\"    Negatives: \")\n",
    "        si = ei+1\n",
    "        ei = dcount-1 if i==acount-1 else a[i+1, 0]-1\n",
    "        \n",
    "        print(\"\\tTimes: \", si//16, \" - \" ,ei//16)\n",
    "        \n",
    "        indices = get_indices(si, ei, neg_step)\n",
    "        w = np.zeros((indices.shape[0], 3), dtype=np.int32)\n",
    "        w[:, 0] = indices    \n",
    "        windows = np.concatenate((windows, w), axis=0)        \n",
    "        print(\"\\tShapes window: \", w.shape)        \n",
    "    \n",
    "    return windows\n",
    "   "
   ]
  },
  {
   "cell_type": "code",
   "execution_count": 32,
   "metadata": {},
   "outputs": [],
   "source": [
    "def get_window_indices_all(ds, annots, win_size, step_size, subject=-1, exclude=True, blockPrint=True):    \n",
    "    if blockPrint:\n",
    "        old_stdout = sys.stdout\n",
    "        sys.stdout = open(os.devnull, 'w')\n",
    "    \n",
    "    print(\"Generating window indices...\")\n",
    "    indices = []\n",
    "    for subj in range(len(ds)):\n",
    "        if (exclude and subj==subject) or ((not exclude) and subj != subject):\n",
    "            continue\n",
    "            \n",
    "        for sess in range(len(ds[subj])):\n",
    "            print(\"\\nSubject, Session: \", subj, sess)\n",
    "            dcount = len(ds[subj][sess]) \n",
    "            a = annots[subj][sess]\n",
    "            \n",
    "            ix = get_window_indices(dcount, a, win_size=win_size, step_size=step_size)            \n",
    "            ix = mdpu.add_subj_sess_to_array(ix, subj, sess, at_begin=True, to_int=True)\n",
    "            \n",
    "            indices = ix if len(indices) == 0 else np.concatenate((indices, ix), axis=0)\n",
    "            print(\"Session Shapes window, labels: \", ix.shape, np.sum(ix[:,-1]==0), np.sum(ix[:,-1]==1), np.sum(ix[:,-1]==2), np.sum(ix[:,-1]==3))\n",
    "            print(\"---------------------------------------------\")\n",
    "        \n",
    "    if blockPrint:\n",
    "        sys.stdout.close()\n",
    "        #sys.stdout = sys.__stdout__\n",
    "        sys.stdout = old_stdout\n",
    "        \n",
    "    return indices.astype(int)"
   ]
  },
  {
   "cell_type": "code",
   "execution_count": 33,
   "metadata": {},
   "outputs": [],
   "source": [
    "def get_window_data(ds, indices, win_size):   \n",
    "    count = len(indices)    \n",
    "    w = np.zeros((count, win_size, 9))\n",
    "    for i in range(count):\n",
    "        subj, sess, si = indices[i, 0], indices[i, 1], indices[i, 2]        \n",
    "        w[i, :, :] = ds[subj][sess][si:si+win_size, 4:]        \n",
    "    return w"
   ]
  },
  {
   "cell_type": "code",
   "execution_count": 34,
   "metadata": {},
   "outputs": [],
   "source": [
    "def get_window_data_accel(ds, indices, win_size):   \n",
    "    count = len(indices)    \n",
    "    w = np.zeros((count, win_size, 3))\n",
    "    for i in range(count):\n",
    "        subj, sess, si = indices[i, 0], indices[i, 1], indices[i, 2]\n",
    "        w[i, :, :] = ds[subj][sess][si:si+win_size, 1:4]        \n",
    "    return w"
   ]
  },
  {
   "cell_type": "markdown",
   "metadata": {},
   "source": [
    "hand = 'right'\n",
    "ds = mfileu.read_file('data', 'free_data_steven_'+hand+'.pkl')\n",
    "annots = mfileu.read_file('data', 'free_data_steven_annots.pkl')"
   ]
  },
  {
   "cell_type": "markdown",
   "metadata": {},
   "source": [
    "w = get_window_indices_all(ds, annots, win_size=10*16, step_size=8, blockPrint=False)\n",
    "print(\"All Shapes window, labels: \", w.shape, np.sum(w[:,-1]==0), np.sum(w[:,-1]==1), np.sum(w[:,-1]==2), np.sum(w[:,-1]==3))"
   ]
  },
  {
   "cell_type": "code",
   "execution_count": null,
   "metadata": {},
   "outputs": [],
   "source": []
  }
 ],
 "metadata": {
  "kernelspec": {
   "display_name": "Python 3",
   "language": "python",
   "name": "python3"
  },
  "language_info": {
   "codemirror_mode": {
    "name": "ipython",
    "version": 3
   },
   "file_extension": ".py",
   "mimetype": "text/x-python",
   "name": "python",
   "nbconvert_exporter": "python",
   "pygments_lexer": "ipython3",
   "version": "3.6.4"
  }
 },
 "nbformat": 4,
 "nbformat_minor": 2
}
