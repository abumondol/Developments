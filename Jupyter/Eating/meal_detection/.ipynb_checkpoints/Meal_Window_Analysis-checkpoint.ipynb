{
 "cells": [
  {
   "cell_type": "code",
   "execution_count": 1,
   "metadata": {},
   "outputs": [],
   "source": [
    "import numpy as np\n",
    "import pickle\n",
    "import os\n",
    "import sys\n",
    "import importlib"
   ]
  },
  {
   "cell_type": "code",
   "execution_count": 2,
   "metadata": {},
   "outputs": [
    {
     "data": {
      "text/plain": [
       "<module 'my_feature_utils' from 'C:/ASM/Dropbox/Developments/Jupyter/Eating/myutils\\\\my_feature_utils.py'>"
      ]
     },
     "execution_count": 2,
     "metadata": {},
     "output_type": "execute_result"
    }
   ],
   "source": [
    "util_path = 'C:/ASM/Dropbox/Developments/Jupyter/Eating/myutils' if 'C:' in os.getcwd() else './myutils'\n",
    "sys.path.append(util_path)\n",
    "import my_file_utils as mfileu\n",
    "import Meal_Window_Generation_Utils as mwgenu\n",
    "import my_data_process_utils as mdpu\n",
    "import my_feature_utils as mfeatu\n",
    "importlib.reload(mwgenu)\n",
    "importlib.reload(mfeatu)"
   ]
  },
  {
   "cell_type": "code",
   "execution_count": 3,
   "metadata": {},
   "outputs": [],
   "source": [
    "hand = 'right'\n",
    "ds = mfileu.read_file('data', 'free_data_steven_'+hand+'.pkl')\n",
    "annots = mfileu.read_file('data', 'free_data_steven_annots.pkl')"
   ]
  },
  {
   "cell_type": "code",
   "execution_count": 5,
   "metadata": {},
   "outputs": [
    {
     "name": "stdout",
     "output_type": "stream",
     "text": [
      "All Shapes window, labels:  (1722773, 5) 1571373 98796 28731 23873\n"
     ]
    }
   ],
   "source": [
    "win_size, neg_step, pos_step = 5*16, 8, 8\n",
    "ixs = mwgenu.get_train_window_indices_all(ds, annots, win_size=win_size, neg_step=neg_step, pos_step=pos_step, blockPrint=True)\n",
    "print(\"All Shapes window, labels: \", ixs.shape, np.sum(ixs[:,4]==0), np.sum(ixs[:,4]==1), np.sum(ixs[:,4]==2), np.sum(ixs[:,4]==3))"
   ]
  },
  {
   "cell_type": "code",
   "execution_count": 6,
   "metadata": {},
   "outputs": [
    {
     "name": "stdout",
     "output_type": "stream",
     "text": [
      "All Shapes window, labels:  (1698900, 5) 1571373 98796 28731 0\n"
     ]
    }
   ],
   "source": [
    "ixf = ixs[(ixs[:, -1]<=1), :]\n",
    "print(\"All Shapes window, labels: \", ixf.shape, np.sum(ixf[:,4]==0), np.sum(ixf[:,4]==1), np.sum(ixf[:,4]==2), np.sum(ixf[:,4]==3))"
   ]
  },
  {
   "cell_type": "code",
   "execution_count": null,
   "metadata": {},
   "outputs": [],
   "source": [
    "#windows = mwgenu.get_window_data(ds, ixf, win_size=win_size)\n",
    "#print(windows.shape)"
   ]
  },
  {
   "cell_type": "code",
   "execution_count": 7,
   "metadata": {},
   "outputs": [],
   "source": [
    "v = mfeatu.get_variance_accel(ds, ixf, win_size=win_size)\n",
    "gx = mfeatu.get_grav_x(ds, ixf, index_offset=win_size//2)"
   ]
  },
  {
   "cell_type": "code",
   "execution_count": 12,
   "metadata": {},
   "outputs": [
    {
     "name": "stdout",
     "output_type": "stream",
     "text": [
      "(1571373,) (127527,)\n",
      "(899791,) (95726,)\n",
      "(344298,) (65014,)\n"
     ]
    },
    {
     "data": {
      "image/png": "[encoded data removed]",
      "text/plain": [
       "<matplotlib.figure.Figure at 0x23210438550>"
      ]
     },
     "metadata": {},
     "output_type": "display_data"
    },
    {
     "data": {
      "image/png": "[encoded data removed]",
      "text/plain": [
       "<matplotlib.figure.Figure at 0x232104d5940>"
      ]
     },
     "metadata": {},
     "output_type": "display_data"
    }
   ],
   "source": [
    "import matplotlib.pyplot as plt\n",
    "%matplotlib inline\n",
    "\n",
    "vn = v[ixf[:, -1]==0]\n",
    "vp = v[ixf[:, -1]>0]\n",
    "print(vn.shape, vp.shape)\n",
    "\n",
    "gxn =gx[ixf[:, -1]==0] \n",
    "gxp = gx[ixf[:, -1]>0]\n",
    "vn = vn[(gxn<=-0)]\n",
    "vp = vp[(gxp<=-0)]\n",
    "print(vn.shape, vp.shape)\n",
    "\n",
    "vn = vn[(vn>=1) & (vn<=50)]\n",
    "vp = vp[(vp>=1) & (vp<=50)]\n",
    "print(vn.shape, vp.shape)\n",
    "\n",
    "plt.hist(vn, bins=50)\n",
    "plt.xlim([0, 50])\n",
    "plt.show()\n",
    "plt.hist(vp, bins=50)\n",
    "plt.xlim([0, 50])\n",
    "plt.show()"
   ]
  },
  {
   "cell_type": "code",
   "execution_count": null,
   "metadata": {},
   "outputs": [],
   "source": []
  }
 ],
 "metadata": {
  "kernelspec": {
   "display_name": "Python 3",
   "language": "python",
   "name": "python3"
  },
  "language_info": {
   "codemirror_mode": {
    "name": "ipython",
    "version": 3
   },
   "file_extension": ".py",
   "mimetype": "text/x-python",
   "name": "python",
   "nbconvert_exporter": "python",
   "pygments_lexer": "ipython3",
   "version": "3.6.4"
  }
 },
 "nbformat": 4,
 "nbformat_minor": 2
}
