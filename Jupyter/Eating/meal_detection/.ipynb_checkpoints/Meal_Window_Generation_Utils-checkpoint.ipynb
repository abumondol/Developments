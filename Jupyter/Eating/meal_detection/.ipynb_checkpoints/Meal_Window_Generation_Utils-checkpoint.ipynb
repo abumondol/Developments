{
 "cells": [
  {
   "cell_type": "code",
   "execution_count": 1,
   "metadata": {},
   "outputs": [],
   "source": [
    "import numpy as np\n",
    "import os\n",
    "import sys"
   ]
  },
  {
   "cell_type": "code",
   "execution_count": 2,
   "metadata": {},
   "outputs": [],
   "source": [
    "util_path = 'C:/ASM/Dropbox/Developments/Jupyter/Eating/myutils' if 'C:' in os.getcwd() else './myutils'\n",
    "sys.path.append(util_path)\n",
    "import my_file_utils as mfileu\n",
    "import my_steven_free_utils as msfreeu\n",
    "import my_feature_utils as mfeatu"
   ]
  },
  {
   "cell_type": "code",
   "execution_count": 2,
   "metadata": {},
   "outputs": [],
   "source": [
    "def get_indices(si, ei, step_size):    \n",
    "    return np.array(list(range(si, ei, step_size))).astype(int)   "
   ]
  },
  {
   "cell_type": "code",
   "execution_count": 3,
   "metadata": {},
   "outputs": [],
   "source": [
    "def get_window_indices(dcount, a, neg_step, pos_step):    \n",
    "    a = msfreeu.process_anntos(dcount, a)            \n",
    "    acount = len(a)\n",
    "    print(\"Meal count: {}, Times data, last meal end: {}, {}\".format(acount, dcount//16, a[-1,1]//16))    \n",
    "    assert a[-1, 1]<=dcount-1        \n",
    "    print(a)\n",
    "    \n",
    "    si, ei = 0, a[0,0]    \n",
    "    indices = get_indices(si, ei, neg_step)\n",
    "    windows = np.zeros((indices.shape[0], 3), dtype=np.int32)\n",
    "    windows[:, 0] = indices        \n",
    "    \n",
    "    for i in range(acount):\n",
    "        si, ei, mt = a[i, 0], a[i, 1], a[i, 2]        \n",
    "        print('  Meal {}: {} - {}, {}'.format(i+1, si//16, ei//16, mt))\n",
    "        \n",
    "        print(\"    Positives: \")        \n",
    "        indices = get_indices(si, ei, pos_step)\n",
    "        w = np.zeros((indices.shape[0], 3), dtype=np.int32)\n",
    "        w[:, 0] = indices\n",
    "        w[:, 1] = (ei-si)//16        \n",
    "        w[:, 2] = mt        \n",
    "        windows = np.concatenate((windows, w), axis=0)            \n",
    "        print(\"\\tShapes windows: \", w.shape)\n",
    "\n",
    "        # Negative windows\n",
    "        if ei == dcount-1:\n",
    "            break\n",
    "            \n",
    "        print(\"    Negatives: \")\n",
    "        si = ei+1\n",
    "        ei = dcount-1 if i==acount-1 else a[i+1, 0]-1\n",
    "        \n",
    "        print(\"\\tTimes: \", si//16, \" - \" ,ei//16)\n",
    "        \n",
    "        indices = get_indices(si, ei, neg_step)\n",
    "        w = np.zeros((indices.shape[0], 3), dtype=np.int32)\n",
    "        w[:, 0] = indices    \n",
    "        windows = np.concatenate((windows, w), axis=0)        \n",
    "        print(\"\\tShapes window: \", w.shape)        \n",
    "    \n",
    "    return windows\n",
    "   "
   ]
  },
  {
   "cell_type": "code",
   "execution_count": 8,
   "metadata": {},
   "outputs": [],
   "source": [
    "def get_train_window_indices_all(ds, annots, win_size, neg_step, pos_step, exclude_subject=-1, blockPrint=True):    \n",
    "    if blockPrint:\n",
    "        old_stdout = sys.stdout\n",
    "        sys.stdout = open(os.devnull, 'w')\n",
    "    \n",
    "    print(\"Generating train window indices...\")\n",
    "    windows = np.empty((0, 5))\n",
    "    for subj in range(len(ds)):\n",
    "        if subj==exclude_subject:\n",
    "            continue\n",
    "            \n",
    "        for sess in range(len(ds[subj])):\n",
    "            print(\"\\nSubject, Session: \", subj, sess)\n",
    "            dcount = len(ds[subj][sess]) \n",
    "            a = annots[subj][sess]\n",
    "            \n",
    "            indices = get_window_indices(dcount-win_size, a, neg_step=neg_step, pos_step=pos_step)            \n",
    "            w = np.zeros((len(indices), 5), dtype=np.int32)\n",
    "            w[:, 0] = subj\n",
    "            w[:, 1] = sess\n",
    "            w[:, 2:] = indices\n",
    "            windows = np.concatenate((windows, w), axis=0)                    \n",
    "            print(\"Session Shapes window, labels: \", w.shape, np.sum(w[:,4]==0), np.sum(w[:,4]==1), np.sum(w[:,4]==2), np.sum(w[:,4]==3))\n",
    "            print(\"---------------------------------------------\")\n",
    "        \n",
    "    if blockPrint:\n",
    "        sys.stdout.close()\n",
    "        #sys.stdout = sys.__stdout__\n",
    "        sys.stdout = old_stdout\n",
    "        \n",
    "    return windows.astype(int)"
   ]
  },
  {
   "cell_type": "code",
   "execution_count": 10,
   "metadata": {},
   "outputs": [],
   "source": [
    "def get_test_window_indices(ds, annots, win_size, step_size, subj, sess, blockPrint=True):    \n",
    "    if blockPrint:\n",
    "        old_stdout = sys.stdout\n",
    "        sys.stdout = open(os.devnull, 'w')\n",
    "    \n",
    "    print(\"Generating test window indices... subj, sess: \", subj, sess)    \n",
    "    \n",
    "    \n",
    "    dcount = len(ds[subj][sess])    \n",
    "    a = annots[subj][sess] if len(annots)>0 else []\n",
    "        \n",
    "    \n",
    "    indices = get_indices(0, dcount-win_size, step_size)    \n",
    "    w = np.zeros((len(indices), 5), dtype=np.int32)    \n",
    "    w[:, 0] = subj\n",
    "    w[:, 1] = sess\n",
    "    w[:, 2] = indices\n",
    "    \n",
    "    ix = indices + win_size//2\n",
    "    for i in range(len(a)):\n",
    "        cond = (ix>=a[i,0]) & (ix<=a[i,1])\n",
    "        w[cond, -1] = a[i,2]        \n",
    "        \n",
    "    if blockPrint:\n",
    "        sys.stdout.close()        \n",
    "        sys.stdout = old_stdout\n",
    "        \n",
    "    return w.astype(int)"
   ]
  },
  {
   "cell_type": "markdown",
   "metadata": {},
   "source": [
    "hand = 'right'\n",
    "ds = mfileu.read_file('data', 'free_data_steven_'+hand+'.pkl')\n",
    "annots = mfileu.read_file('data', 'free_data_steven_annots.pkl')"
   ]
  },
  {
   "cell_type": "markdown",
   "metadata": {},
   "source": [
    "win_size, neg_step, pos_step = 5*16, 16, 8\n",
    "w = get_train_window_indices(ds, annots, win_size=win_size, neg_step=neg_step, pos_step=pos_step, blockPrint=True)\n",
    "print(\"All Shapes window, labels: \", w.shape, np.sum(w[:,4]==0), np.sum(w[:,4]==1), np.sum(w[:,4]==2), np.sum(w[:,4]==3))"
   ]
  },
  {
   "cell_type": "code",
   "execution_count": 5,
   "metadata": {},
   "outputs": [],
   "source": [
    "def get_window_data(ds, indices, win_size):   \n",
    "    count = len(indices)\n",
    "    w = np.zeros((count, win_size, 9))\n",
    "    for i in range(count):\n",
    "        subj, sess, ix = indices[i, 0], indices[i, 1], indices[i, 2]\n",
    "        w[i, :, :] = ds[subj][sess][ix:ix+win_size, 4:]        \n",
    "    return w"
   ]
  }
 ],
 "metadata": {
  "kernelspec": {
   "display_name": "Python 3",
   "language": "python",
   "name": "python3"
  },
  "language_info": {
   "codemirror_mode": {
    "name": "ipython",
    "version": 3
   },
   "file_extension": ".py",
   "mimetype": "text/x-python",
   "name": "python",
   "nbconvert_exporter": "python",
   "pygments_lexer": "ipython3",
   "version": "3.6.4"
  }
 },
 "nbformat": 4,
 "nbformat_minor": 2
}
