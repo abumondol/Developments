{
 "cells": [
  {
   "cell_type": "code",
   "execution_count": 89,
   "metadata": {},
   "outputs": [],
   "source": [
    "import numpy as np\n",
    "import pickle\n",
    "import os\n",
    "import sys\n",
    "import importlib"
   ]
  },
  {
   "cell_type": "code",
   "execution_count": 90,
   "metadata": {},
   "outputs": [],
   "source": [
    "util_path = 'C:/ASM/Dropbox/Developments/Jupyter/Eating/myutils' if 'C:' in os.getcwd() else './myutils'\n",
    "sys.path.append(util_path)\n",
    "import my_file_utils as mfileu\n",
    "import my_steven_free_utils as msfreeu\n",
    "import meal_detection_utils as mdu\n",
    "#importlib.reload(mdu)"
   ]
  },
  {
   "cell_type": "code",
   "execution_count": 91,
   "metadata": {},
   "outputs": [],
   "source": [
    "hand='right'\n",
    "\n",
    "if hand == 'right':\n",
    "    ds = mfileu.read_file('data', 'free_data_steven_right_smoothed.pkl')\n",
    "else:\n",
    "    ds = mfileu.read_file('data', 'free_data_steven_left_smoothed.pkl')\n",
    "    \n",
    "annots = mfileu.read_file('data', 'free_data_steven_annots.pkl')"
   ]
  },
  {
   "cell_type": "code",
   "execution_count": 93,
   "metadata": {
    "scrolled": false
   },
   "outputs": [
    {
     "ename": "KeyError",
     "evalue": "'indices'",
     "output_type": "error",
     "traceback": [
      "\u001b[1;31m---------------------------------------------------------------------------\u001b[0m",
      "\u001b[1;31mKeyError\u001b[0m                                  Traceback (most recent call last)",
      "\u001b[1;32m<ipython-input-93-a64576056582>\u001b[0m in \u001b[0;36m<module>\u001b[1;34m()\u001b[0m\n\u001b[0;32m     18\u001b[0m \u001b[1;33m\u001b[0m\u001b[0m\n\u001b[0;32m     19\u001b[0m         \u001b[0mpred\u001b[0m \u001b[1;33m=\u001b[0m \u001b[0mres\u001b[0m\u001b[1;33m[\u001b[0m\u001b[0msess\u001b[0m\u001b[1;33m]\u001b[0m\u001b[1;33m[\u001b[0m\u001b[1;34m\"pred\"\u001b[0m\u001b[1;33m]\u001b[0m\u001b[1;33m\u001b[0m\u001b[0m\n\u001b[1;32m---> 20\u001b[1;33m         \u001b[0mindices\u001b[0m \u001b[1;33m=\u001b[0m \u001b[0mres\u001b[0m\u001b[1;33m[\u001b[0m\u001b[0msess\u001b[0m\u001b[1;33m]\u001b[0m\u001b[1;33m[\u001b[0m\u001b[1;34m\"indices\"\u001b[0m\u001b[1;33m]\u001b[0m\u001b[1;33m\u001b[0m\u001b[0m\n\u001b[0m\u001b[0;32m     21\u001b[0m         \u001b[0mv\u001b[0m \u001b[1;33m=\u001b[0m \u001b[0mres\u001b[0m\u001b[1;33m[\u001b[0m\u001b[0msess\u001b[0m\u001b[1;33m]\u001b[0m\u001b[1;33m[\u001b[0m\u001b[1;34m\"var\"\u001b[0m\u001b[1;33m]\u001b[0m\u001b[1;33m\u001b[0m\u001b[0m\n\u001b[0;32m     22\u001b[0m         \u001b[0mgx\u001b[0m\u001b[1;33m=\u001b[0m \u001b[0mres\u001b[0m\u001b[1;33m[\u001b[0m\u001b[0msess\u001b[0m\u001b[1;33m]\u001b[0m\u001b[1;33m[\u001b[0m\u001b[1;34m\"gx\"\u001b[0m\u001b[1;33m]\u001b[0m\u001b[1;33m\u001b[0m\u001b[0m\n",
      "\u001b[1;31mKeyError\u001b[0m: 'indices'"
     ]
    }
   ],
   "source": [
    "importlib.reload(mdu)\n",
    "idf = 16\n",
    "win_size = 10*16\n",
    "\n",
    "acovs, clcovs = np.zeros((0, 8)), np.zeros((0, 5))\n",
    "for subj in range(11):\n",
    "    res = mfileu.read_file('results_meal_winsize_160_vth_1_50_xth_0_free','subj_'+str(subj)+\"_\"+hand+\".pkl\")    \n",
    "    #res = mfileu.read_file('results_free','subj_'+str(subj)+\"_\"+hand+\".pkl\")    \n",
    "    \n",
    "    #res_bite = mfileu.read_file('results_bite_detection_free','subj_'+str(subj)+\"_\"+hand+\".pkl\")\n",
    "    #assert len(res_meal)==len(res_bite)    \n",
    "    \n",
    "    for sess in range(len(res)):                \n",
    "        #print('Subj, sess: ', subj, sess)\n",
    "        a = np.copy(annots[subj][sess])\n",
    "        dcount = len(ds[subj][sess])\n",
    "        a = msfreeu.process_anntos(dcount, a)\n",
    "        \n",
    "        pred = res[sess][\"pred\"]\n",
    "        indices = res[sess][\"indices\"]\n",
    "        v = res[sess][\"var\"]\n",
    "        gx= res[sess][\"gx\"]\n",
    "        \n",
    "        \n",
    "        pred = mdu.filter_by_var_gx(pred, var=v, gx=gx, hand=hand)        \n",
    "        indices = indices[:, 2] + win_size//2\n",
    "        \n",
    "        c = mdu.find_clusters_free(indices, pred)\n",
    "        acov, clcov = mdu.find_meal_result(gt=a, clusters=c, min_count = 3)\n",
    "        #print(acov)\n",
    "        #print(clcov)\n",
    "                \n",
    "        ssa = np.zeros((len(acov), 8))\n",
    "        ssa[:, :6] = acov\n",
    "        ssa[:, 6] = subj\n",
    "        ssa[:, 7] = sess\n",
    "        \n",
    "        \n",
    "        sscl = np.zeros((len(clcov), 5))        \n",
    "        sscl[:, :3] = clcov\n",
    "        sscl[:, 3] = subj\n",
    "        sscl[:, 4] = sess\n",
    "        \n",
    "        acovs = np.concatenate((acovs, ssa), axis=0)\n",
    "        clcovs = np.concatenate((clcovs, sscl), axis=0)\n",
    "        \n",
    "        a[:, :2] = a[:, :2]/idf        \n",
    "        #print(\"GT\")\n",
    "        #print(a)\n",
    "        \n",
    "        c[:, :2] = c[:, :2]/idf\n",
    "        #print(\"Detected\")\n",
    "        #print(c)\n",
    "        "
   ]
  },
  {
   "cell_type": "code",
   "execution_count": null,
   "metadata": {},
   "outputs": [],
   "source": [
    "#print(acovs)\n",
    "#print(clcovs)"
   ]
  },
  {
   "cell_type": "code",
   "execution_count": 51,
   "metadata": {},
   "outputs": [
    {
     "name": "stdout",
     "output_type": "stream",
     "text": [
      "fns, fnd:  4 0\n"
     ]
    }
   ],
   "source": [
    "fns = np.sum(clcovs[:, 1]>0)\n",
    "fnd = np.sum(clcovs[:, 2]>0)\n",
    "print(\"fns, fnd: \", fns, fnd)"
   ]
  },
  {
   "cell_type": "code",
   "execution_count": 52,
   "metadata": {},
   "outputs": [
    {
     "name": "stdout",
     "output_type": "stream",
     "text": [
      "Total, tp, fn, fp:  49 38 11 6\n",
      "pr, rc, f1:  0.8636363636363636 0.7755102040816326 0.8172043010752688\n"
     ]
    }
   ],
   "source": [
    "total = acovs.shape[0]\n",
    "tp = np.sum(acovs[:, 0]>=1)\n",
    "fn = total - tp   #- fns -fnd\n",
    "fp = np.sum(clcovs[:, 0]==0)\n",
    "\n",
    "pr = tp/(tp+fp)\n",
    "rc = tp/(tp+fn)\n",
    "f1 = 2*pr*rc/(pr+rc)\n",
    "\n",
    "print(\"Total, tp, fn, fp: \", total, tp, fn, fp)\n",
    "print(\"pr, rc, f1: \", pr, rc, f1)"
   ]
  },
  {
   "cell_type": "code",
   "execution_count": 62,
   "metadata": {},
   "outputs": [
    {
     "name": "stdout",
     "output_type": "stream",
     "text": [
      "Fraction count:  4 4 [8.  7.  6.5 6. ] [35.13541667 23.84166667 39.79583333 54.65      ]\n"
     ]
    }
   ],
   "source": [
    "fraction_count = np.sum(acovs[:, 0]>1)\n",
    "fraction_count2 = np.sum(acovs[:, 3]>0)\n",
    "gaps_cond = acovs[:, 3]>0\n",
    "gaps = acovs[gaps_cond, 3]/(16*60)\n",
    "gap_meal_durations = acovs[gaps_cond, 5]/(16*60)\n",
    "print(\"Fraction count: \", fraction_count, fraction_count2, gaps, gap_meal_durations)"
   ]
  },
  {
   "cell_type": "code",
   "execution_count": 73,
   "metadata": {},
   "outputs": [
    {
     "name": "stdout",
     "output_type": "stream",
     "text": [
      "Durations detected, gt, error, rate: 438.04375 684.9260416666667 246.88229166666673 36.04510219321126\n",
      "Durations error per meal: 9.226343201754386\n"
     ]
    }
   ],
   "source": [
    "cld = np.sum(acovs[:, 4])/(16*60)\n",
    "gtd = np.sum(acovs[:, 5])/(16*60)\n",
    "errd = 100*(gtd-cld)/gtd\n",
    "print(\"Durations detected, gt, error, rate:\", cld, gtd, gtd-cld, errd)\n",
    "\n",
    "errd = np.sum(np.abs(acovs[:, 5] - acovs[:, 4]))/(16*60)/tp\n",
    "print(\"Durations error per meal:\", errd)"
   ]
  },
  {
   "cell_type": "code",
   "execution_count": 86,
   "metadata": {},
   "outputs": [
    {
     "name": "stdout",
     "output_type": "stream",
     "text": [
      "27\n",
      "18\n"
     ]
    },
    {
     "data": {
      "image/png": "[encoded data removed]",
      "text/plain": [
       "<matplotlib.figure.Figure at 0x1d900e77400>"
      ]
     },
     "metadata": {},
     "output_type": "display_data"
    },
    {
     "data": {
      "image/png": "[encoded data removed]",
      "text/plain": [
       "<matplotlib.figure.Figure at 0x1d901401da0>"
      ]
     },
     "metadata": {},
     "output_type": "display_data"
    }
   ],
   "source": [
    "se = acovs[:, 1]/(16*60)\n",
    "ee = acovs[:, 2]/(16*60)\n",
    "\n",
    "sea = np.abs(se)\n",
    "eea = np.abs(ee)\n",
    "\n",
    "print(np.sum((sea>0) & (sea<3)))\n",
    "print(np.sum((eea>0) & (eea<3)))\n",
    "\n",
    "import matplotlib.pyplot as plt\n",
    "%matplotlib inline\n",
    "\n",
    "plt.hist(se, bins=100)\n",
    "plt.show()\n",
    "\n",
    "plt.hist(ee, bins=100)\n",
    "plt.show()\n"
   ]
  },
  {
   "cell_type": "code",
   "execution_count": null,
   "metadata": {},
   "outputs": [],
   "source": []
  }
 ],
 "metadata": {
  "kernelspec": {
   "display_name": "Python 3",
   "language": "python",
   "name": "python3"
  },
  "language_info": {
   "codemirror_mode": {
    "name": "ipython",
    "version": 3
   },
   "file_extension": ".py",
   "mimetype": "text/x-python",
   "name": "python",
   "nbconvert_exporter": "python",
   "pygments_lexer": "ipython3",
   "version": "3.6.4"
  }
 },
 "nbformat": 4,
 "nbformat_minor": 2
}
