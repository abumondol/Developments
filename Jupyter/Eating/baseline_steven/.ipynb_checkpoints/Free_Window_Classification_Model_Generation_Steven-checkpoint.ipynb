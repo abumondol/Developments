{
 "cells": [
  {
   "cell_type": "code",
   "execution_count": null,
   "metadata": {},
   "outputs": [],
   "source": [
    "import numpy as np\n",
    "import scipy as sp\n",
    "import os \n",
    "import sys\n",
    "from sklearn.ensemble import RandomForestClassifier\n",
    "from sklearn import metrics\n",
    "import importlib"
   ]
  },
  {
   "cell_type": "code",
   "execution_count": null,
   "metadata": {},
   "outputs": [],
   "source": [
    "util_path = 'C:/ASM/Dropbox/Developments/Jupyter/Eating/myutils' if 'C:' in os.getcwd() else './myutils'\n",
    "sys.path.append(util_path)\n",
    "import my_file_utils as mfileu\n",
    "import my_steven_free_utils as msfreeu\n",
    "import my_classification_utils as mcu\n",
    "#importlib.reload(mdu)"
   ]
  },
  {
   "cell_type": "code",
   "execution_count": null,
   "metadata": {},
   "outputs": [],
   "source": [
    "annots = mfileu.read_file('data', 'free_data_steven_annots.pkl')\n",
    "features = mfileu.read_file('features', 'free_features_steven_right.pkl')"
   ]
  },
  {
   "cell_type": "code",
   "execution_count": null,
   "metadata": {},
   "outputs": [],
   "source": [
    "def get_labels(indices, a, win_size):    \n",
    "    wcount, acount = len(indices), len(a)      \n",
    "    mi = indices + win_size//2    \n",
    "    \n",
    "    labels=np.zeros((wcount,))    \n",
    "    for i in range(acount):                 \n",
    "        ix1 = a[i, 0]\n",
    "        ix2 = a[i, 1]\n",
    "        cond = (mi>=ix1) & (mi<=ix2)\n",
    "        labels[cond] = a[i, 2]\n",
    "        \n",
    "    return labels.astype(int)\n",
    "    "
   ]
  },
  {
   "cell_type": "code",
   "execution_count": null,
   "metadata": {},
   "outputs": [],
   "source": [
    "def get_personal_train_features_labels(annots, features, subj, exclude_sess):\n",
    "    \n",
    "    x, y = [], []    \n",
    "    for s in range(len(features[subj])):\n",
    "        if s==sess:\n",
    "            continue\n",
    "        \n",
    "        f = features[subj][sess][:, 1:]\n",
    "        a = annots[subj][sess]\n",
    "        l = get_labels(features[subj][sess][:, 0], a, 5*16)            \n",
    "\n",
    "        if len(x)==0:\n",
    "            x, y = f, l            \n",
    "        else:                \n",
    "            x, y = np.concatenate((x, f)), np.concatenate((y, l))            \n",
    "\n",
    "    return x, y\n",
    "    "
   ]
  },
  {
   "cell_type": "code",
   "execution_count": null,
   "metadata": {},
   "outputs": [],
   "source": [
    "for subj in range(len(features)):    \n",
    "    for sess in range(len(features[subj])):\n",
    "        print(\"Train for Subject, sess: \", subj, sess)\n",
    "        train_x, train_y = get_personal_train_features_labels(annots=annots, features=features, subj = subj, exclude_sess=sess)\n",
    "        print(\"Original shapes: \", train_x.shape, train_y.shape, \"Neg, Meal, snack, drink:\", np.sum(train_y==0), np.sum(train_y==1), np.sum(train_y==2), np.sum(train_y==3))\n",
    "\n",
    "        train_y[train_y==2] = 1\n",
    "        train_y[train_y==3] = 0\n",
    "        assert np.sum(train_y>1) == 0        \n",
    "        print(\"After label filtering:\", train_x.shape, train_y.shape, \"Neg, Meal, snack, drink:\", np.sum(train_y==0), np.sum(train_y==1), np.sum(train_y==2), np.sum(train_y==3))\n",
    "\n",
    "        clf = RandomForestClassifier(n_estimators =100, random_state=0, n_jobs=-1, verbose=1)\n",
    "        clf.fit(train_x, train_y)    \n",
    "        print(\"Training done!\")\n",
    "\n",
    "        mfileu.write_file('baseline_models_free_window_steven', 'free_'+str(subj)+'_'+str(sess)+'.pkl', clf)\n",
    "        print(\"Model saved\")        \n"
   ]
  },
  {
   "cell_type": "markdown",
   "metadata": {},
   "source": [
    "def get_lopo_train_features_labels(annots, features, exclude_subj):    \n",
    "    train_x, train_y = [], []\n",
    "    for subj in range(len(features)):        \n",
    "        if subj==exclude_subj:\n",
    "            continue\n",
    "        for sess in range(len(features[subj])):             \n",
    "            f = features[subj][sess][:, 1:]\n",
    "            a = annots[subj][sess]\n",
    "            l = get_labels(features[subj][sess][:, 0], a, 5*16)            \n",
    "                        \n",
    "            if len(train_x)==0:\n",
    "                train_x = f\n",
    "                train_y = l\n",
    "            else:                \n",
    "                train_x = np.concatenate((train_x, f))\n",
    "                train_y = np.concatenate((train_y, l))\n",
    "            \n",
    "    return train_x, train_y\n",
    "    "
   ]
  },
  {
   "cell_type": "markdown",
   "metadata": {},
   "source": [
    "subjects = sys.argv[1].split(\",\")\n",
    "subjects = [int(i) for i in subjects]\n",
    "print(\"===================== Subjects: \", subjects)\n",
    "\n",
    "for subj in subjects:\n",
    "    print(\"Train for Subject: \", subj)\n",
    "    train_x, train_y = get_lopo_train_features_labels(annots=annots, features=features, exclude_subj = subj)\n",
    "    print(\"Original shapes: \", train_x.shape, train_y.shape, \"Neg, Meal, snack, drink:\", np.sum(train_y==0), np.sum(train_y==1), np.sum(train_y==2), np.sum(train_y==3))\n",
    "\n",
    "    train_y[train_y==2] = 1\n",
    "    train_y[train_y==3] = 0\n",
    "    #cond = (train_y<=1)\n",
    "    #train_x, train_y = train_x[cond], train_y[cond]\n",
    "    print(\" After label filtering:\", train_x.shape, train_y.shape, \"Neg, Meal, snack, drink:\", np.sum(train_y==0), np.sum(train_y==1), np.sum(train_y==2), np.sum(train_y==3))\n",
    "\n",
    "    clf = RandomForestClassifier(n_estimators =100, random_state=0, n_jobs=-1, verbose=1)\n",
    "\n",
    "    #train_y = mcu.get_one_hot(train_y.astype(int), 2)\n",
    "    clf.fit(train_x, train_y)    \n",
    "    print(\"Training done!\")\n",
    "\n",
    "    mfileu.write_file('baseline_models', 'free_'+str(subj)+'.pkl', clf)\n",
    "    print(\"Model saved\")        \n"
   ]
  }
 ],
 "metadata": {
  "kernelspec": {
   "display_name": "Python 3",
   "language": "python",
   "name": "python3"
  },
  "language_info": {
   "codemirror_mode": {
    "name": "ipython",
    "version": 3
   },
   "file_extension": ".py",
   "mimetype": "text/x-python",
   "name": "python",
   "nbconvert_exporter": "python",
   "pygments_lexer": "ipython3",
   "version": "3.6.4"
  }
 },
 "nbformat": 4,
 "nbformat_minor": 2
}
