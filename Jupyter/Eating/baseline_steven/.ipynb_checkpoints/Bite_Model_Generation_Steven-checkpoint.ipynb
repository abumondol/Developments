{
 "cells": [
  {
   "cell_type": "code",
   "execution_count": null,
   "metadata": {},
   "outputs": [],
   "source": [
    "import numpy as np\n",
    "import scipy as sp\n",
    "import os \n",
    "import sys\n",
    "from sklearn.ensemble import RandomForestClassifier\n",
    "from sklearn import metrics\n",
    "import importlib"
   ]
  },
  {
   "cell_type": "code",
   "execution_count": null,
   "metadata": {},
   "outputs": [],
   "source": [
    "util_path = 'C:/ASM/Dropbox/Developments/Jupyter/Eating/myutils' if 'C:' in os.getcwd() else './myutils'\n",
    "sys.path.append(util_path)\n",
    "import my_file_utils as mfileu\n",
    "import my_steven_lab_utils as mslabu\n",
    "import my_classification_utils as mcu\n",
    "#importlib.reload(mdu)"
   ]
  },
  {
   "cell_type": "code",
   "execution_count": null,
   "metadata": {},
   "outputs": [],
   "source": [
    "data = mfileu.read_file('data', 'lab_data_steven.pkl')\n",
    "features = mfileu.read_file('features', 'lab_features_steven_right.pkl')"
   ]
  },
  {
   "cell_type": "code",
   "execution_count": null,
   "metadata": {},
   "outputs": [],
   "source": [
    "def get_labels(indices, a, win_size):\n",
    "    a = a[a[:, 3]!=2, :] # right hand only    \n",
    "    wcount, acount = len(indices), len(a)  \n",
    "    \n",
    "    si = indices\n",
    "    q1 = si + win_size//4\n",
    "    mi = si + 2*win_size//4    \n",
    "    q3 = si + 3*win_size//4    \n",
    "    \n",
    "    labels=np.zeros((wcount,))    \n",
    "    for i in range(acount):         \n",
    "        if a[i, 2]==1: #bite\n",
    "            ix = a[i, 0]\n",
    "            cond = (q1<=ix) & (ix<=q3)\n",
    "            label = 1\n",
    "        else:#sip\n",
    "            ix1 = a[i, 0]\n",
    "            ix2 = a[i, 1]\n",
    "            cond = (mi>=ix1) & (mi<=ix2)\n",
    "            label = 2\n",
    "        \n",
    "        labels[cond] = label\n",
    "    return np.array(labels)"
   ]
  },
  {
   "cell_type": "code",
   "execution_count": null,
   "metadata": {},
   "outputs": [],
   "source": [
    "def get_lopo_train_features_labels(data, features, exclude_subj):    \n",
    "    train_x, train_y = [], []\n",
    "    for subj in range(len(features)):        \n",
    "        if subj==exclude_subj:\n",
    "            continue\n",
    "        for sess in range(len(features[subj])):             \n",
    "            f = features[subj][sess][:, 1:]\n",
    "            a = data[subj][sess][\"annots\"]            \n",
    "            l = get_labels(features[subj][sess][:, 0], a, 5*16)            \n",
    "            \n",
    "            if len(train_x)==0:\n",
    "                train_x = f\n",
    "                train_y = l\n",
    "            else:                \n",
    "                train_x = np.concatenate((train_x, f))\n",
    "                train_y = np.concatenate((train_y, l))\n",
    "            \n",
    "    return train_x, train_y\n",
    "    "
   ]
  },
  {
   "cell_type": "code",
   "execution_count": null,
   "metadata": {},
   "outputs": [],
   "source": [
    "for subj in [0, 1, 2, 3, 4, 5, 6, 100]:    \n",
    "    train_x, train_y = get_lopo_train_features_labels(data=data, features=features, exclude_subj=subj)\n",
    "    print(\"Subj:\", subj, \", shapes:\", train_x.shape, train_y.shape, \"Neg, Bite, sip, other:\", np.sum(train_y==0), np.sum(train_y==1), np.sum(train_y==2), np.sum(train_y==3))\n",
    "    train_y[train_y==2] = 0\n",
    "    print(\"Subj:\", subj, \", shapes:\", train_x.shape, train_y.shape, \"Neg, Bite, sip, other:\", np.sum(train_y==0), np.sum(train_y==1), np.sum(train_y==2), np.sum(train_y==3))\n",
    "    \n",
    "    clf = RandomForestClassifier(n_estimators =100, random_state=0, n_jobs=-1, verbose=1)\n",
    "    #train_y = mcu.get_one_hot(train_y.astype(int), 3)\n",
    "    clf.fit(train_x, train_y)    \n",
    "    print(\"Training done!\")\n",
    "\n",
    "    mfileu.write_file('baseline_models', 'lab_'+str(subj)+'.pkl', clf)\n",
    "    print(\"Model saved\")\n"
   ]
  }
 ],
 "metadata": {
  "kernelspec": {
   "display_name": "Python 3",
   "language": "python",
   "name": "python3"
  },
  "language_info": {
   "codemirror_mode": {
    "name": "ipython",
    "version": 3
   },
   "file_extension": ".py",
   "mimetype": "text/x-python",
   "name": "python",
   "nbconvert_exporter": "python",
   "pygments_lexer": "ipython3",
   "version": "3.6.4"
  }
 },
 "nbformat": 4,
 "nbformat_minor": 2
}
