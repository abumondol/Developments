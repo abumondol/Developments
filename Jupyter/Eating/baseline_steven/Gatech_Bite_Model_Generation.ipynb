{
 "cells": [
  {
   "cell_type": "code",
   "execution_count": 1,
   "metadata": {},
   "outputs": [],
   "source": [
    "import numpy as np\n",
    "import scipy as sp\n",
    "import os \n",
    "import sys\n",
    "from sklearn.ensemble import RandomForestClassifier\n",
    "from sklearn import metrics\n",
    "import importlib"
   ]
  },
  {
   "cell_type": "code",
   "execution_count": 2,
   "metadata": {},
   "outputs": [],
   "source": [
    "util_path = 'C:/ASM/Dropbox/Developments/Jupyter/Eating/myutils' if 'C:' in os.getcwd() else './myutils'\n",
    "sys.path.append(util_path)\n",
    "import my_file_utils as mfileu\n",
    "import my_steven_lab_utils as mslabu\n",
    "import my_classification_utils as mcu\n",
    "#importlib.reload(mdu)"
   ]
  },
  {
   "cell_type": "code",
   "execution_count": 3,
   "metadata": {},
   "outputs": [],
   "source": [
    "data = mfileu.read_file('data', 'lab_data_steven.pkl')\n",
    "features = mfileu.read_file('features', 'lab_features_steven_right_gatech.pkl')"
   ]
  },
  {
   "cell_type": "code",
   "execution_count": 4,
   "metadata": {},
   "outputs": [],
   "source": [
    "def get_labels(indices, a):\n",
    "    a = a[a[:, 3]!=2, :] # right hand only    \n",
    "    wcount, acount = len(indices), len(a)  \n",
    "    \n",
    "    mi = indices + 48\n",
    "    labels=np.zeros((wcount,))    \n",
    "    for i in range(acount):         \n",
    "        ix = a[i, 0]\n",
    "        cond = (ix-48<mi) & (mi<=ix+48)\n",
    "        labels[cond] = a[i, 2]        \n",
    "        \n",
    "    return np.array(labels)"
   ]
  },
  {
   "cell_type": "code",
   "execution_count": 5,
   "metadata": {},
   "outputs": [],
   "source": [
    "def get_lopo_train_features_labels(data, features, exclude_subj):    \n",
    "    train_x, train_y = [], []\n",
    "    for subj in range(len(features)):        \n",
    "        if subj==exclude_subj:\n",
    "            continue\n",
    "        for sess in range(len(features[subj])):             \n",
    "            f = features[subj][sess][:, 1:]\n",
    "            a = data[subj][sess][\"annots\"]            \n",
    "            l = get_labels(features[subj][sess][:, 0], a)            \n",
    "            \n",
    "            if len(train_x)==0:\n",
    "                train_x = f\n",
    "                train_y = l\n",
    "            else:                \n",
    "                train_x = np.concatenate((train_x, f))\n",
    "                train_y = np.concatenate((train_y, l))\n",
    "            \n",
    "    return train_x, train_y\n",
    "    "
   ]
  },
  {
   "cell_type": "code",
   "execution_count": 6,
   "metadata": {},
   "outputs": [
    {
     "name": "stdout",
     "output_type": "stream",
     "text": [
      "Subj: 0 , shapes: (79778, 30) (79778,) Neg, Bite, sip, other: 77831 1664 283 0\n",
      "Subj: 0 , shapes: (79778, 30) (79778,) Neg, Bite, sip, other: 78114 1664 0 0\n"
     ]
    },
    {
     "name": "stderr",
     "output_type": "stream",
     "text": [
      "[Parallel(n_jobs=-1)]: Done  34 tasks      | elapsed:    1.3s\n",
      "[Parallel(n_jobs=-1)]: Done 185 out of 185 | elapsed:    7.4s finished\n"
     ]
    },
    {
     "name": "stdout",
     "output_type": "stream",
     "text": [
      "Training done!\n",
      "Model saved\n",
      "Subj: 1 , shapes: (87961, 30) (87961,) Neg, Bite, sip, other: 85109 2387 465 0\n",
      "Subj: 1 , shapes: (87961, 30) (87961,) Neg, Bite, sip, other: 85574 2387 0 0\n"
     ]
    },
    {
     "name": "stderr",
     "output_type": "stream",
     "text": [
      "[Parallel(n_jobs=-1)]: Done  34 tasks      | elapsed:    2.2s\n",
      "[Parallel(n_jobs=-1)]: Done 185 out of 185 | elapsed:    8.3s finished\n"
     ]
    },
    {
     "name": "stdout",
     "output_type": "stream",
     "text": [
      "Training done!\n",
      "Model saved\n",
      "Subj: 2 , shapes: (80438, 30) (80438,) Neg, Bite, sip, other: 77836 2157 445 0\n",
      "Subj: 2 , shapes: (80438, 30) (80438,) Neg, Bite, sip, other: 78281 2157 0 0\n"
     ]
    },
    {
     "name": "stderr",
     "output_type": "stream",
     "text": [
      "[Parallel(n_jobs=-1)]: Done  34 tasks      | elapsed:    1.4s\n",
      "[Parallel(n_jobs=-1)]: Done 185 out of 185 | elapsed:    7.2s finished\n"
     ]
    },
    {
     "name": "stdout",
     "output_type": "stream",
     "text": [
      "Training done!\n",
      "Model saved\n",
      "Subj: 3 , shapes: (80620, 30) (80620,) Neg, Bite, sip, other: 78078 2098 444 0\n",
      "Subj: 3 , shapes: (80620, 30) (80620,) Neg, Bite, sip, other: 78522 2098 0 0\n"
     ]
    },
    {
     "name": "stderr",
     "output_type": "stream",
     "text": [
      "[Parallel(n_jobs=-1)]: Done  34 tasks      | elapsed:    1.7s\n",
      "[Parallel(n_jobs=-1)]: Done 185 out of 185 | elapsed:    6.6s finished\n"
     ]
    },
    {
     "name": "stdout",
     "output_type": "stream",
     "text": [
      "Training done!\n",
      "Model saved\n",
      "Subj: 4 , shapes: (80618, 30) (80618,) Neg, Bite, sip, other: 78195 2049 374 0\n",
      "Subj: 4 , shapes: (80618, 30) (80618,) Neg, Bite, sip, other: 78569 2049 0 0\n"
     ]
    },
    {
     "name": "stderr",
     "output_type": "stream",
     "text": [
      "[Parallel(n_jobs=-1)]: Done  34 tasks      | elapsed:    1.2s\n",
      "[Parallel(n_jobs=-1)]: Done 185 out of 185 | elapsed:    6.7s finished\n"
     ]
    },
    {
     "name": "stdout",
     "output_type": "stream",
     "text": [
      "Training done!\n",
      "Model saved\n",
      "Subj: 5 , shapes: (80532, 30) (80532,) Neg, Bite, sip, other: 78015 2093 424 0\n",
      "Subj: 5 , shapes: (80532, 30) (80532,) Neg, Bite, sip, other: 78439 2093 0 0\n"
     ]
    },
    {
     "name": "stderr",
     "output_type": "stream",
     "text": [
      "[Parallel(n_jobs=-1)]: Done  34 tasks      | elapsed:    1.7s\n",
      "[Parallel(n_jobs=-1)]: Done 185 out of 185 | elapsed:    6.6s finished\n"
     ]
    },
    {
     "name": "stdout",
     "output_type": "stream",
     "text": [
      "Training done!\n",
      "Model saved\n",
      "Subj: 6 , shapes: (80989, 30) (80989,) Neg, Bite, sip, other: 78292 2222 475 0\n",
      "Subj: 6 , shapes: (80989, 30) (80989,) Neg, Bite, sip, other: 78767 2222 0 0\n"
     ]
    },
    {
     "name": "stderr",
     "output_type": "stream",
     "text": [
      "[Parallel(n_jobs=-1)]: Done  34 tasks      | elapsed:    1.9s\n",
      "[Parallel(n_jobs=-1)]: Done 185 out of 185 | elapsed:    7.6s finished\n"
     ]
    },
    {
     "name": "stdout",
     "output_type": "stream",
     "text": [
      "Training done!\n",
      "Model saved\n",
      "Subj: 100 , shapes: (95156, 30) (95156,) Neg, Bite, sip, other: 92226 2445 485 0\n",
      "Subj: 100 , shapes: (95156, 30) (95156,) Neg, Bite, sip, other: 92711 2445 0 0\n"
     ]
    },
    {
     "name": "stderr",
     "output_type": "stream",
     "text": [
      "[Parallel(n_jobs=-1)]: Done  34 tasks      | elapsed:    1.5s\n",
      "[Parallel(n_jobs=-1)]: Done 185 out of 185 | elapsed:    7.9s finished\n"
     ]
    },
    {
     "name": "stdout",
     "output_type": "stream",
     "text": [
      "Training done!\n",
      "Model saved\n"
     ]
    }
   ],
   "source": [
    "for subj in [0, 1, 2, 3, 4, 5, 6, 100]:    \n",
    "    train_x, train_y = get_lopo_train_features_labels(data=data, features=features, exclude_subj=subj)\n",
    "    print(\"Subj:\", subj, \", shapes:\", train_x.shape, train_y.shape, \"Neg, Bite, sip, other:\", np.sum(train_y==0), np.sum(train_y==1), np.sum(train_y==2), np.sum(train_y==3))\n",
    "    train_y[train_y==2] = 0\n",
    "    print(\"Subj:\", subj, \", shapes:\", train_x.shape, train_y.shape, \"Neg, Bite, sip, other:\", np.sum(train_y==0), np.sum(train_y==1), np.sum(train_y==2), np.sum(train_y==3))\n",
    "    \n",
    "    clf = RandomForestClassifier(n_estimators =185, random_state=0, n_jobs=-1, verbose=1)\n",
    "    #train_y = mcu.get_one_hot(train_y.astype(int), 3)\n",
    "    #clf.fit(train_x, train_y)    \n",
    "    clf.fit(train_x[:, :15], train_y)    \n",
    "    print(\"Training done!\")\n",
    "\n",
    "    mfileu.write_file('baseline_models_gatech', 'lab_'+str(subj)+'_accel.pkl', clf)\n",
    "    print(\"Model saved\")\n"
   ]
  },
  {
   "cell_type": "code",
   "execution_count": null,
   "metadata": {},
   "outputs": [],
   "source": []
  },
  {
   "cell_type": "code",
   "execution_count": null,
   "metadata": {},
   "outputs": [],
   "source": []
  }
 ],
 "metadata": {
  "kernelspec": {
   "display_name": "Python 3",
   "language": "python",
   "name": "python3"
  },
  "language_info": {
   "codemirror_mode": {
    "name": "ipython",
    "version": 3
   },
   "file_extension": ".py",
   "mimetype": "text/x-python",
   "name": "python",
   "nbconvert_exporter": "python",
   "pygments_lexer": "ipython3",
   "version": "3.6.4"
  }
 },
 "nbformat": 4,
 "nbformat_minor": 2
}
