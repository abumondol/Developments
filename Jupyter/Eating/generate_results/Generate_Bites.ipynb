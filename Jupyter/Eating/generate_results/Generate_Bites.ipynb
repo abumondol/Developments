{
 "cells": [
  {
   "cell_type": "code",
   "execution_count": 1,
   "metadata": {},
   "outputs": [],
   "source": [
    "import numpy as np\n",
    "import scipy as sp\n",
    "import os \n",
    "import sys\n",
    "import importlib\n",
    "import generate_result_utils as gresu"
   ]
  },
  {
   "cell_type": "code",
   "execution_count": 2,
   "metadata": {},
   "outputs": [],
   "source": [
    "util_path = 'C:/ASM/Dropbox/Developments/Jupyter/Eating/myutils' if 'C:' in os.getcwd() else './myutils'\n",
    "sys.path.append(util_path)\n",
    "import my_file_utils as mfileu\n",
    "import my_steven_free_utils as msfreeu\n",
    "import my_cluster_utils as mclusteru\n",
    "#importlib.reload(mdu)"
   ]
  },
  {
   "cell_type": "code",
   "execution_count": 3,
   "metadata": {},
   "outputs": [],
   "source": [
    "annots = mfileu.read_file('data', 'free_data_steven_annots.pkl')\n",
    "ds = mfileu.read_file('data', 'free_data_steven_right.pkl')\n",
    "fs = mfileu.read_file('features', 'free_features_steven_right.pkl')"
   ]
  },
  {
   "cell_type": "code",
   "execution_count": 4,
   "metadata": {},
   "outputs": [],
   "source": [
    "all_proba_steven = gresu.get_all_proba(annots, 'baseline_test_proba_bite_steven', 'bite_free', sess_avail=True)\n",
    "pct_proba_steven = gresu.get_percentile_proba_all(all_proba_steven, fs)"
   ]
  },
  {
   "cell_type": "code",
   "execution_count": 5,
   "metadata": {},
   "outputs": [],
   "source": [
    "all_proba_our = gresu.get_all_proba(annots, 'our_test_proba_bite', 'bite_free', sess_avail=True)\n",
    "pct_proba_our = gresu.get_percentile_proba_all(all_proba_our, fs)"
   ]
  },
  {
   "cell_type": "code",
   "execution_count": 6,
   "metadata": {},
   "outputs": [],
   "source": [
    "def get_bites(subj, sess, percentile, isSteven):\n",
    "    if isSteven:\n",
    "        proba = all_proba_steven[subj][sess]\n",
    "        indices = proba[:, 0] + 40        \n",
    "        pct_proba = pct_proba_steven\n",
    "    else:\n",
    "        proba = all_proba_our[subj][sess]\n",
    "        indices = proba[:, -2] + 48\n",
    "        pct_proba = pct_proba_our\n",
    "        \n",
    "    proba = proba[:, -1]\n",
    "    \n",
    "    cond  = (pct_proba[:, 0]==subj) & (pct_proba[:, 1]==sess) & (pct_proba[:, 2]==percentile)\n",
    "    assert np.sum(cond)==1    \n",
    "    proba_th_offline, proba_th_online = pct_proba[cond, -2], pct_proba[cond, -1]    \n",
    "    \n",
    "    if isSteven:\n",
    "        bites_offline = gresu.detect_gestures(proba, indices=indices, proba_th=proba_th_offline)\n",
    "        bites_online = gresu.detect_gestures(proba, indices=indices, proba_th=proba_th_online)\n",
    "    else:\n",
    "        bites_offline = gresu.detect_gestures_fixed_th(proba, indices=indices, proba_th=proba_th_offline)\n",
    "        bites_online = gresu.detect_gestures_fixed_th(proba, indices=indices, proba_th=proba_th_online)\n",
    "    \n",
    "    return bites_offline, bites_online"
   ]
  },
  {
   "cell_type": "code",
   "execution_count": 7,
   "metadata": {},
   "outputs": [],
   "source": [
    "def get_bites_for_percentile(percentile, isSteven):    \n",
    "    res ={}    \n",
    "    for subj in range(len(annots)):\n",
    "        for sess in range(len(annots[subj])):            \n",
    "            bites_offline, bites_online = get_bites(subj, sess, percentile, isSteven)\n",
    "            res[(subj, sess)] = {\"offline\":bites_offline, \"online\":bites_online}            \n",
    "    return res"
   ]
  },
  {
   "cell_type": "code",
   "execution_count": 8,
   "metadata": {},
   "outputs": [
    {
     "name": "stdout",
     "output_type": "stream",
     "text": [
      "99.8 False\n",
      "99.81 False\n",
      "99.82 False\n",
      "99.83 False\n",
      "99.84 False\n",
      "99.85 False\n",
      "99.86 False\n",
      "99.87 False\n",
      "99.88 False\n",
      "99.89 False\n",
      "99.9 False\n",
      "99.91 False\n",
      "99.92 False\n",
      "99.93 False\n",
      "99.94 False\n",
      "99.95 False\n",
      "99.96 False\n",
      "99.97 False\n",
      "99.98 False\n",
      "99.99 False\n"
     ]
    }
   ],
   "source": [
    "res ={}\n",
    "isSteven = False\n",
    "for p in range(9980, 10000):\n",
    "    percentile = p/100    \n",
    "    print(percentile, isSteven)\n",
    "    res[percentile] = get_bites_for_percentile(percentile, isSteven)\n",
    "    \n",
    "mfileu.write_file('final_results', 'all_bites_our.pkl', res)"
   ]
  },
  {
   "cell_type": "code",
   "execution_count": null,
   "metadata": {},
   "outputs": [],
   "source": []
  }
 ],
 "metadata": {
  "kernelspec": {
   "display_name": "Python 3",
   "language": "python",
   "name": "python3"
  },
  "language_info": {
   "codemirror_mode": {
    "name": "ipython",
    "version": 3
   },
   "file_extension": ".py",
   "mimetype": "text/x-python",
   "name": "python",
   "nbconvert_exporter": "python",
   "pygments_lexer": "ipython3",
   "version": "3.6.4"
  }
 },
 "nbformat": 4,
 "nbformat_minor": 2
}
