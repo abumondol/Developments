{
 "cells": [
  {
   "cell_type": "code",
   "execution_count": 1,
   "metadata": {},
   "outputs": [],
   "source": [
    "import numpy as np\n",
    "import scipy as sp\n",
    "import os \n",
    "import sys\n",
    "import importlib\n",
    "import generate_result_utils as gresu\n",
    "\n",
    "import matplotlib.pyplot as plt\n",
    "%matplotlib inline"
   ]
  },
  {
   "cell_type": "code",
   "execution_count": 2,
   "metadata": {},
   "outputs": [
    {
     "data": {
      "text/plain": [
       "<module 'generate_result_utils' from 'C:\\\\ASM\\\\Dropbox\\\\Developments\\\\Jupyter\\\\Eating\\\\generate_results\\\\generate_result_utils.py'>"
      ]
     },
     "execution_count": 2,
     "metadata": {},
     "output_type": "execute_result"
    }
   ],
   "source": [
    "util_path = 'C:/ASM/Dropbox/Developments/Jupyter/Eating/myutils' if 'C:' in os.getcwd() else './myutils'\n",
    "sys.path.append(util_path)\n",
    "import my_file_utils as mfileu\n",
    "import my_steven_free_utils as msfreeu\n",
    "importlib.reload(gresu)"
   ]
  },
  {
   "cell_type": "code",
   "execution_count": 3,
   "metadata": {},
   "outputs": [],
   "source": [
    "annots = mfileu.read_file('data', 'free_data_steven_annots.pkl')\n",
    "ds = mfileu.read_file('data', 'free_data_steven_right.pkl')\n",
    "fs = mfileu.read_file('features', 'free_features_steven_right.pkl')"
   ]
  },
  {
   "cell_type": "code",
   "execution_count": 4,
   "metadata": {},
   "outputs": [],
   "source": [
    "all_proba_steven = gresu.get_all_proba(annots, 'baseline_test_proba_bite_steven', 'bite_free', sess_avail=True)\n",
    "pct_proba_steven = gresu.get_percentile_proba_all(all_proba_steven, fs)"
   ]
  },
  {
   "cell_type": "code",
   "execution_count": 5,
   "metadata": {},
   "outputs": [],
   "source": [
    "all_proba_our = gresu.get_all_proba(annots, 'our_test_proba_bite', 'bite_free', sess_avail=True)\n",
    "pct_proba_our = gresu.get_percentile_proba_all(all_proba_our, fs)"
   ]
  },
  {
   "cell_type": "markdown",
   "metadata": {},
   "source": [
    "s=0\n",
    "mf = 100000\n",
    "for p in pct_proba_our:\n",
    "    if p[0]!=s:\n",
    "        print()\n",
    "        s = p[0]\n",
    "    if p[2]!=99.9:\n",
    "        continue\n",
    "    \n",
    "    print(int(p[0]), int(p[1]), int(p[2]*100)/100, int(p[3]*mf)/mf, int(p[4]*mf)/mf)"
   ]
  },
  {
   "cell_type": "markdown",
   "metadata": {},
   "source": [
    "pos, tot = 0, 0\n",
    "for subj in range(len(fs)):\n",
    "    for sess in range(len(fs[subj])):\n",
    "        pos +=all_proba_our[subj][sess].shape[0]\n",
    "        tot += fs[subj][sess].shape[0]\n",
    "        print(all_proba_our[subj][sess].shape, fs[subj][sess].shape)\n",
    "print(pos, tot, pos/tot)\n"
   ]
  },
  {
   "cell_type": "code",
   "execution_count": 6,
   "metadata": {},
   "outputs": [],
   "source": [
    "def get_tpfp(a, indices):\n",
    "    if len(indices)==0:\n",
    "        return 0, 0\n",
    "    \n",
    "    a = a[a[:, 2]<=2] #discard meals\n",
    "    assert len(a)>=1\n",
    "    \n",
    "    tps = np.zeros((len(indices), ))    \n",
    "    for i in range(len(a)):\n",
    "        si, ei = a[i, 0], a[i, 1]\n",
    "        cond = (indices[:, 0]>=si) & (indices[:, 1]<=ei)\n",
    "        tps[cond] = 1\n",
    "        \n",
    "    tp = np.sum(tps)\n",
    "    fp = len(indices) - tp\n",
    "    return tp, fp    "
   ]
  },
  {
   "cell_type": "code",
   "execution_count": 9,
   "metadata": {},
   "outputs": [],
   "source": [
    "#for percentile proba th\n",
    "def get_tpfp_all_percentile(all_proba, percentile, offline=True, steven=False):\n",
    "    #print(\"Percentile: \", percentile)\n",
    "    tp_count, fp_count = 0, 0\n",
    "    for subj in range(len(annots)):\n",
    "        for sess in range(len(annots[subj])):\n",
    "            a = annots[subj][sess]        \n",
    "            a = msfreeu.process_anntos(len(ds[subj][sess]), a)\n",
    "            \n",
    "            proba = all_proba[subj][sess]            \n",
    "            if steven:            \n",
    "                indices = proba[:, 0] + 40\n",
    "                pct_proba = pct_proba_steven\n",
    "            else:\n",
    "                indices = proba[:, -2] + 48                \n",
    "                pct_proba = pct_proba_our\n",
    "                \n",
    "                \n",
    "            cond = (pct_proba[:, 0]==subj) & (pct_proba[:, 1]==sess) & (pct_proba[:, 2]==percentile)                \n",
    "            assert np.sum(cond) == 1\n",
    "            proba_th = pct_proba[cond, -2] if offline else pct_proba[cond, -1]\n",
    "            \n",
    "            proba = proba[:, -1]\n",
    "            gesture_indices = gresu.detect_gestures(proba, indices, proba_th = proba_th)\n",
    "                        \n",
    "            tp, fp = get_tpfp(a, gesture_indices)            \n",
    "            #print(subj, sess, \" : \", len(gesture_indices), tp, fp)\n",
    "            \n",
    "            tp_count += tp\n",
    "            fp_count += fp\n",
    "\n",
    "    return tp_count, fp_count"
   ]
  },
  {
   "cell_type": "code",
   "execution_count": 10,
   "metadata": {},
   "outputs": [],
   "source": [
    "#for fixed proba th\n",
    "def get_tpfp_all_fixed(all_proba, proba_th, steven=False):\n",
    "    tp_count, fp_count = 0, 0\n",
    "    for subj in range(len(annots)):\n",
    "        for sess in range(len(annots[subj])):\n",
    "            a = annots[subj][sess]        \n",
    "            a = msfreeu.process_anntos(len(ds[subj][sess]), a)\n",
    "                        \n",
    "            proba = all_proba[subj][sess]\n",
    "            \n",
    "            if steven:            \n",
    "                indices = proba[:, 0] + 40\n",
    "            else:\n",
    "                indices = proba[:, -2] + 48\n",
    "                \n",
    "            proba = proba[:, -1]                        \n",
    "            gesture_indices = gresu.detect_gestures_fixed_th(proba, indices, proba_th = proba_th)\n",
    "                        \n",
    "            tp, fp = get_tpfp(a, gesture_indices)            \n",
    "            #print(subj, sess, \" : \", len(gesture_indices), tp, fp)\n",
    "            \n",
    "            tp_count += tp\n",
    "            fp_count += fp\n",
    "\n",
    "    return tp_count, fp_count\n"
   ]
  },
  {
   "cell_type": "code",
   "execution_count": null,
   "metadata": {},
   "outputs": [],
   "source": [
    "N=100\n",
    "F=6\n",
    "H=12\n",
    "res = N*F/(2*H*3600-2*F)\n",
    "print(res)"
   ]
  },
  {
   "cell_type": "code",
   "execution_count": null,
   "metadata": {},
   "outputs": [],
   "source": [
    "res = []\n",
    "for proba_th in range(1, 100):    \n",
    "    tp1, fp1 = get_tpfp_all_fixed(all_proba_our, proba_th/100)\n",
    "    tp2, fp2 = get_tpfp_all_fixed(all_proba_steven, proba_th/100, steven=True)\n",
    "    print(proba_th, \"TP, FP Our: {}, {},  Steven: {}, {}\".format(tp1, fp1, tp2, fp2))"
   ]
  },
  {
   "cell_type": "code",
   "execution_count": 11,
   "metadata": {},
   "outputs": [
    {
     "name": "stdout",
     "output_type": "stream",
     "text": [
      "99.8\n",
      "99.8 TP, FP Our: 1050.0, 732.0,  Steven: 1359.0, 1514.0\n",
      "0.6971428571428572 1.1140544518027962 0.3742290998301566\n",
      "99.82\n",
      "99.82 TP, FP Our: 980.0, 645.0,  Steven: 1278.0, 1357.0\n",
      "0.6581632653061225 1.0618153364632237 0.38015279803889124\n",
      "99.84\n",
      "99.84 TP, FP Our: 908.0, 565.0,  Steven: 1166.0, 1158.0\n",
      "0.6222466960352423 0.9931389365351629 0.37345453577107723\n",
      "99.86\n",
      "99.86 TP, FP Our: 838.0, 496.0,  Steven: 1088.0, 989.0\n",
      "0.5918854415274463 0.9090073529411765 0.3488661674602007\n",
      "99.88\n",
      "99.88 TP, FP Our: 764.0, 406.0,  Steven: 982.0, 862.0\n",
      "0.5314136125654451 0.8778004073319755 0.39460769426999176\n",
      "99.9\n",
      "99.9 TP, FP Our: 688.0, 330.0,  Steven: 876.0, 729.0\n",
      "0.4796511627906977 0.8321917808219178 0.42362905541200113\n",
      "99.92\n",
      "99.92 TP, FP Our: 591.0, 252.0,  Steven: 753.0, 580.0\n",
      "0.4263959390862944 0.7702523240371846 0.44642044460003494\n",
      "99.94\n",
      "99.94 TP, FP Our: 487.0, 183.0,  Steven: 622.0, 445.0\n",
      "0.3757700205338809 0.7154340836012861 0.47476639826500233\n",
      "99.96\n",
      "99.96 TP, FP Our: 384.0, 121.0,  Steven: 481.0, 311.0\n",
      "0.3151041666666667 0.6465696465696466 0.5126523981779206\n",
      "99.98\n",
      "99.98 TP, FP Our: 259.0, 63.0,  Steven: 273.0, 168.0\n",
      "0.24324324324324326 0.6153846153846154 0.6047297297297297\n"
     ]
    }
   ],
   "source": [
    "res = []\n",
    "for p in range(9980, 10000, 2):\n",
    "    percentile = p/100\n",
    "    print(percentile)\n",
    "    tp1, fp1 = get_tpfp_all_percentile(all_proba_our, percentile, offline=True)\n",
    "    tp2, fp2 = get_tpfp_all_percentile(all_proba_steven, percentile, steven=True, offline=True)\n",
    "    print(percentile, \"TP, FP Our: {}, {},  Steven: {}, {}\".format(tp1, fp1, tp2, fp2))\n",
    "\n",
    "    ftr1 = fp1/tp1\n",
    "    ftr2 = fp2/tp2\n",
    "    print(ftr1, ftr2, 1-ftr1/ftr2)    \n",
    "    res.append([percentile, tp1, fp1, tp2, fp2])    \n",
    "    "
   ]
  },
  {
   "cell_type": "code",
   "execution_count": null,
   "metadata": {},
   "outputs": [],
   "source": [
    "res = np.array(res)\n",
    "fig = plt.figure(figsize=(10,6))\n",
    "ax = plt.subplot(111)  \n",
    "\n",
    "ax.plot(res[:,0], res[:, 1], label= 'TP (Our)', color='green')\n",
    "ax.plot(res[:,0], res[:, 2], label= 'FP (Our)', color='red')\n",
    "ax.plot(res[:,0], res[:, 3], label= 'TP (Baseline)', linestyle='--', color='green')\n",
    "ax.plot(res[:,0], res[:, 4], label= 'FP (Baseline)', linestyle='--', color='red')\n",
    "\n",
    "#plt.title(\" \", fontsize=20)\n",
    "plt.xlabel(\"Percentile\", fontsize=20)        \n",
    "plt.ylabel(\"Count\", fontsize=20)            \n",
    "plt.legend(fontsize=16)\n",
    "plt.grid(True)\n",
    "plt.show()       \n",
    "\n",
    "ftr1 = res[:, 2]/res[:,1]\n",
    "ftr2 = res[:, 4]/res[:,3]\n",
    "\n",
    "fig = plt.figure(figsize=(10,6))\n",
    "ax = plt.subplot(111)  \n",
    "\n",
    "ax.plot(res[:,0], ftr1, label= 'FTR (Our)', color='blue')\n",
    "ax.plot(res[:,0], ftr2, label= 'FTR (Baseline)', linestyle='--', color='blue')\n",
    "\n",
    "\n",
    "#plt.title(\" \", fontsize=20)\n",
    "plt.xlabel(\"Percentile\", fontsize=20)        \n",
    "plt.ylabel(\"FTR\", fontsize=20)            \n",
    "plt.legend(fontsize=16)\n",
    "plt.grid(True)\n",
    "plt.show()"
   ]
  },
  {
   "cell_type": "code",
   "execution_count": null,
   "metadata": {},
   "outputs": [],
   "source": [
    "p = pct_proba_our\n",
    "p = p[p[:, 2]==99.9, :]\n",
    "plt.hist(p[:, -2], bins=10, edgecolor='black', hatch='/', label='Our', color='green', alpha=0.5,)\n",
    "\n",
    "p = pct_proba_steven\n",
    "p = p[p[:, 2]==99.9, :]\n",
    "plt.hist(p[:, -2], bins=10, edgecolor='black', hatch='+', label='Baseline', color='blue', alpha=0.5,)\n",
    "\n",
    "plt.title(\"Histogram (99.9 percentile probability)\", fontsize=14)\n",
    "plt.xlabel('Probabllity', fontsize=14)\n",
    "plt.ylabel('Count', fontsize=14)\n",
    "plt.grid()\n",
    "plt.legend(fontsize=14)\n",
    "plt.xlim([0, 1])\n",
    "plt.show()\n"
   ]
  },
  {
   "cell_type": "code",
   "execution_count": null,
   "metadata": {},
   "outputs": [],
   "source": []
  }
 ],
 "metadata": {
  "kernelspec": {
   "display_name": "Python 3",
   "language": "python",
   "name": "python3"
  },
  "language_info": {
   "codemirror_mode": {
    "name": "ipython",
    "version": 3
   },
   "file_extension": ".py",
   "mimetype": "text/x-python",
   "name": "python",
   "nbconvert_exporter": "python",
   "pygments_lexer": "ipython3",
   "version": "3.6.4"
  }
 },
 "nbformat": 4,
 "nbformat_minor": 2
}
