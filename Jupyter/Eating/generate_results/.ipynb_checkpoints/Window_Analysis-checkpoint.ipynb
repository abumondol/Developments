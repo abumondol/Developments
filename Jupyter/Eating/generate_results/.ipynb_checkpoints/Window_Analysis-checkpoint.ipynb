{
 "cells": [
  {
   "cell_type": "code",
   "execution_count": 1,
   "metadata": {},
   "outputs": [
    {
     "name": "stderr",
     "output_type": "stream",
     "text": [
      "c:\\asm\\continuum\\anaconda3\\lib\\site-packages\\h5py\\__init__.py:36: FutureWarning: Conversion of the second argument of issubdtype from `float` to `np.floating` is deprecated. In future, it will be treated as `np.float64 == np.dtype(float).type`.\n",
      "  from ._conv import register_converters as _register_converters\n"
     ]
    }
   ],
   "source": [
    "import numpy as np\n",
    "import pickle\n",
    "import os\n",
    "import sys\n",
    "import importlib\n",
    "from sklearn.utils import shuffle\n",
    "from sklearn.model_selection import train_test_split\n",
    "import tensorflow as tf"
   ]
  },
  {
   "cell_type": "code",
   "execution_count": 23,
   "metadata": {},
   "outputs": [],
   "source": [
    "util_path = 'C:/ASM/Dropbox/Developments/Jupyter/Eating/myutils' if 'C:' in os.getcwd() else './myutils'\n",
    "sys.path.append(util_path)\n",
    "import my_file_utils as mfileu\n",
    "import my_classification_utils as mclfu\n",
    "import my_steven_lab_utils as mslabu\n",
    "import my_tensorflow_cnn_utils as mcnnu\n",
    "import my_tensorflow_lstm_utils as mlstmu\n",
    "import my_tensorflow_dense_utils as mdenseu\n",
    "import generate_result_utils as gresu\n",
    "#importlib.reload(biteu)"
   ]
  },
  {
   "cell_type": "code",
   "execution_count": 3,
   "metadata": {},
   "outputs": [
    {
     "name": "stdout",
     "output_type": "stream",
     "text": [
      "Win size: 96 , Step size: 2 , var min: 1 , var max: 25 , gx_th: -0.25\n"
     ]
    }
   ],
   "source": [
    "axis_count, label_shape_1 = 9, 1 \n",
    "win_size, step_size, feature_count = 6*16, 2, 32\n",
    "var_min, var_max, gx_th = 1, 25, -0.25\n",
    "print(\"Win size:\", win_size, \", Step size:\", step_size, \", var min:\", var_min, \", var max:\", var_max, ', gx_th:', gx_th)"
   ]
  },
  {
   "cell_type": "code",
   "execution_count": 5,
   "metadata": {},
   "outputs": [],
   "source": [
    "dlab = mfileu.read_file('data', 'lab_data_steven_smoothed.pkl')\n",
    "dlab, _, dlab_annots = mslabu.separate_right_left_annots(dlab)\n",
    "dfree = mfileu.read_file('data', 'free_data_steven_right_smoothed.pkl')\n",
    "annots = mfileu.read_file('data', 'free_data_steven_annots.pkl')\n",
    "fs = mfileu.read_file('features', 'free_features_steven_right.pkl')"
   ]
  },
  {
   "cell_type": "code",
   "execution_count": 25,
   "metadata": {},
   "outputs": [],
   "source": [
    "all_proba_steven = gresu.get_all_proba(annots, 'baseline_test_proba_bite_steven', 'bite_free', sess_avail=True)\n",
    "all_proba_our = gresu.get_all_proba(annots, 'our_test_proba_bite_6s', 'bite_free', sess_avail=True)"
   ]
  },
  {
   "cell_type": "code",
   "execution_count": 7,
   "metadata": {},
   "outputs": [],
   "source": [
    "def get_mid_gx(ds, indices, win_size):\n",
    "    count = len(indices)\n",
    "    x = np.zeros((count, ))    \n",
    "    for i in range(count):\n",
    "        subj, sess, ix = indices[i, 0], indices[i, 1], indices[i, 2]+win_size//2\n",
    "        x[i] = ds[subj][sess][ix, -3]                \n",
    "    return x    "
   ]
  },
  {
   "cell_type": "code",
   "execution_count": 8,
   "metadata": {},
   "outputs": [],
   "source": [
    "def get_variance_accel(ds, indices, win_size):   \n",
    "    count = len(indices)\n",
    "    v = np.zeros((count, ))    \n",
    "    for i in range(count):\n",
    "        subj, sess, ix = indices[i, 0], indices[i, 1], indices[i, 2]\n",
    "        v[i] = np.sum(np.var(ds[subj][sess][ix:ix+win_size, 1:4], axis=0))                \n",
    "    return v"
   ]
  },
  {
   "cell_type": "code",
   "execution_count": 9,
   "metadata": {},
   "outputs": [],
   "source": [
    "def get_labels_lab(indices, a, win_size):\n",
    "    a = a[a[:, 3]!=2, :] # right hand only    \n",
    "    wcount, acount = len(indices), len(a)  \n",
    "    \n",
    "    si = indices\n",
    "    q1 = si + win_size//4\n",
    "    mi = si + 2*win_size//4    \n",
    "    q3 = si + 3*win_size//4    \n",
    "    \n",
    "    labels=np.zeros((wcount,))    \n",
    "    for i in range(acount):         \n",
    "        if a[i, 2]==1: #bite\n",
    "            ix = a[i, 0]\n",
    "            cond = (q1<=ix) & (ix<=q3)\n",
    "            label = 1\n",
    "        else:#sip\n",
    "            ix1 = a[i, 0]\n",
    "            ix2 = a[i, 1]\n",
    "            cond = (mi>=ix1) & (mi<=ix2)\n",
    "            label = 2\n",
    "        \n",
    "        labels[cond] = label\n",
    "    return np.array(labels)"
   ]
  },
  {
   "cell_type": "code",
   "execution_count": 10,
   "metadata": {},
   "outputs": [],
   "source": [
    "def get_labels_free(indices, a, win_size):    \n",
    "    wcount, acount = len(indices), len(a)      \n",
    "    mi = indices + win_size//2    \n",
    "    \n",
    "    labels=np.zeros((wcount,))    \n",
    "    for i in range(acount):                 \n",
    "        ix1 = a[i, 0]\n",
    "        ix2 = a[i, 1]\n",
    "        cond = (mi>=ix1) & (mi<=ix2)\n",
    "        labels[cond] = a[i, 2]\n",
    "        \n",
    "    return labels.astype(int)\n",
    "    "
   ]
  },
  {
   "cell_type": "code",
   "execution_count": 17,
   "metadata": {},
   "outputs": [],
   "source": [
    "def get_all_indices_lab(exclude_subj=-1):\n",
    "    all_indices = np.zeros((0, 4))\n",
    "    for subj in range(len(dlab)):\n",
    "        if subj==exclude_subj:\n",
    "            continue\n",
    "        for sess in range(len(dlab[subj])):\n",
    "            d = dlab[subj][sess]\n",
    "            a = dlab_annots[subj][sess]\n",
    "\n",
    "            count = (len(d)-win_size)//step_size + 1\n",
    "            indices = np.array(list(range(count)))*2\n",
    "            labels = get_labels_lab(indices, a, win_size)\n",
    "            labels[labels==2] = 0\n",
    "\n",
    "            ix = np.zeros((count, 4))\n",
    "            ix[:, 0] = subj\n",
    "            ix[:, 1] = sess\n",
    "            ix[:, 2] = indices\n",
    "            ix[:, 3] = labels\n",
    "            all_indices = np.concatenate((all_indices, ix))\n",
    "\n",
    "    all_indices = all_indices.astype(int)\n",
    "    assert np.sum(all_indices[:, -1]>1) == 0\n",
    "    assert np.sum(all_indices[:, -1]<0) == 0\n",
    "    #print(\"All indices shape, neg, bite:\", len(all_indices), np.sum(all_indices[:, -1]==0), np.sum(all_indices[:, -1]==1))\n",
    "    return all_indices"
   ]
  },
  {
   "cell_type": "code",
   "execution_count": 18,
   "metadata": {},
   "outputs": [],
   "source": [
    "def get_subject_indices_free(subj):\n",
    "    all_indices = np.zeros((0, 4))    \n",
    "    for sess in range(len(dfree[subj])):\n",
    "        d = dfree[subj][sess]\n",
    "        a = annots[subj][sess]\n",
    "        \n",
    "        count = (len(d)-win_size)//step_size + 1\n",
    "        indices = np.array(list(range(count)))*2\n",
    "        labels = get_labels_free(indices, a, win_size)\n",
    "        labels[labels==2] = 1\n",
    "        labels[labels==3] = 0\n",
    "        \n",
    "        ix = np.zeros((count, 4))\n",
    "        ix[:, 0] = subj\n",
    "        ix[:, 1] = sess\n",
    "        ix[:, 2] = indices\n",
    "        ix[:, 3] = labels\n",
    "        all_indices = np.concatenate((all_indices, ix))\n",
    "        \n",
    "    \n",
    "    all_indices = all_indices.astype(int)\n",
    "    assert np.sum(all_indices[:, -1]>1) == 0\n",
    "    assert np.sum(all_indices[:, -1]<0) == 0\n",
    "    #print(\"All indices shape, neg, pos:\", len(all_indices), np.sum(all_indices[:, -1]==0), np.sum(all_indices[:, -1]==1))\n",
    "    return all_indices"
   ]
  },
  {
   "cell_type": "code",
   "execution_count": 19,
   "metadata": {},
   "outputs": [],
   "source": [
    "def get_all_indices_free(exclude_subj=-1):\n",
    "    all_indices = np.zeros((0, 4))\n",
    "    \n",
    "    for subj in range(len(dfree)):\n",
    "        if subj == exclude_subj:\n",
    "            continue\n",
    "        for sess in range(len(dfree[subj])):\n",
    "            d = dfree[subj][sess]\n",
    "            a = annots[subj][sess]\n",
    "\n",
    "            count = (len(d)-win_size)//step_size + 1\n",
    "            indices = np.array(list(range(count)))*2\n",
    "            labels = get_labels_free(indices, a, win_size)\n",
    "            labels[labels==2] = 1\n",
    "            labels[labels==3] = 0\n",
    "\n",
    "            ix = np.zeros((count, 4))\n",
    "            ix[:, 0] = subj\n",
    "            ix[:, 1] = sess\n",
    "            ix[:, 2] = indices\n",
    "            ix[:, 3] = labels\n",
    "            all_indices = np.concatenate((all_indices, ix))\n",
    "            \n",
    "    all_indices = all_indices.astype(int)\n",
    "    assert np.sum(all_indices[:, -1]>1) == 0\n",
    "    assert np.sum(all_indices[:, -1]<0) == 0\n",
    "    #print(\"All indices shape, neg, bite:\", len(all_indices), np.sum(all_indices[:, -1]==0), np.sum(all_indices[:, -1]==1))\n",
    "    return all_indices"
   ]
  },
  {
   "cell_type": "code",
   "execution_count": 27,
   "metadata": {},
   "outputs": [
    {
     "name": "stdout",
     "output_type": "stream",
     "text": [
      "0 0  :  (323349, 4) (323357, 3) (33591, 2)\n",
      "Shapes indices, feature_count:  (323349, 4) (323357, 33)\n",
      "Shapes proba steven, our:  (323357, 3) (33591, 2)\n",
      "Indices summary after gx filter total, neg, pos: 137368 132172 5196\n"
     ]
    },
    {
     "name": "stderr",
     "output_type": "stream",
     "text": [
      "c:\\asm\\continuum\\anaconda3\\lib\\site-packages\\numpy\\core\\fromnumeric.py:3194: RuntimeWarning: Degrees of freedom <= 0 for slice\n",
      "  **kwargs)\n",
      "c:\\asm\\continuum\\anaconda3\\lib\\site-packages\\numpy\\core\\_methods.py:105: RuntimeWarning: invalid value encountered in true_divide\n",
      "  arrmean, rcount, out=arrmean, casting='unsafe', subok=False)\n",
      "c:\\asm\\continuum\\anaconda3\\lib\\site-packages\\numpy\\core\\_methods.py:125: RuntimeWarning: invalid value encountered in true_divide\n",
      "  ret, rcount, out=ret, casting='unsafe', subok=False)\n",
      "c:\\asm\\continuum\\anaconda3\\lib\\site-packages\\ipykernel_launcher.py:14: RuntimeWarning: invalid value encountered in greater_equal\n",
      "  \n",
      "c:\\asm\\continuum\\anaconda3\\lib\\site-packages\\ipykernel_launcher.py:14: RuntimeWarning: invalid value encountered in less_equal\n",
      "  \n"
     ]
    },
    {
     "name": "stdout",
     "output_type": "stream",
     "text": [
      "Indices summary after variance filter total, neg, pos: 24687 21799 2888\n",
      "0 1  :  (305438, 4) (305446, 3) (36244, 2)\n",
      "Shapes indices, feature_count:  (305438, 4) (305446, 33)\n",
      "Shapes proba steven, our:  (305446, 3) (36244, 2)\n",
      "Indices summary after gx filter total, neg, pos: 106170 100333 5837\n",
      "Indices summary after variance filter total, neg, pos: 27854 25944 1910\n",
      "1 0  :  (292807, 4) (292815, 3) (42823, 2)\n",
      "Shapes indices, feature_count:  (292807, 4) (292815, 33)\n",
      "Shapes proba steven, our:  (292815, 3) (42823, 2)\n",
      "Indices summary after gx filter total, neg, pos: 76441 57129 19312\n",
      "Indices summary after variance filter total, neg, pos: 9257 5717 3540\n",
      "1 1  :  (296339, 4) (296347, 3) (33511, 2)\n",
      "Shapes indices, feature_count:  (296339, 4) (296347, 33)\n",
      "Shapes proba steven, our:  (296347, 3) (33511, 2)\n",
      "Indices summary after gx filter total, neg, pos: 77310 61106 16204\n"
     ]
    },
    {
     "ename": "IndexError",
     "evalue": "list index out of range",
     "output_type": "error",
     "traceback": [
      "\u001b[1;31m---------------------------------------------------------------------------\u001b[0m",
      "\u001b[1;31mIndexError\u001b[0m                                Traceback (most recent call last)",
      "\u001b[1;32m<ipython-input-27-7f7e2966a400>\u001b[0m in \u001b[0;36m<module>\u001b[1;34m()\u001b[0m\n\u001b[0;32m     11\u001b[0m         \u001b[0mprint\u001b[0m\u001b[1;33m(\u001b[0m\u001b[1;34m\"Indices summary after gx filter total, neg, pos:\"\u001b[0m\u001b[1;33m,\u001b[0m \u001b[0mlen\u001b[0m\u001b[1;33m(\u001b[0m\u001b[0mindices\u001b[0m\u001b[1;33m)\u001b[0m\u001b[1;33m,\u001b[0m \u001b[0mnp\u001b[0m\u001b[1;33m.\u001b[0m\u001b[0msum\u001b[0m\u001b[1;33m(\u001b[0m\u001b[0mindices\u001b[0m\u001b[1;33m[\u001b[0m\u001b[1;33m:\u001b[0m\u001b[1;33m,\u001b[0m \u001b[1;33m-\u001b[0m\u001b[1;36m1\u001b[0m\u001b[1;33m]\u001b[0m\u001b[1;33m==\u001b[0m\u001b[1;36m0\u001b[0m\u001b[1;33m)\u001b[0m\u001b[1;33m,\u001b[0m \u001b[0mnp\u001b[0m\u001b[1;33m.\u001b[0m\u001b[0msum\u001b[0m\u001b[1;33m(\u001b[0m\u001b[0mindices\u001b[0m\u001b[1;33m[\u001b[0m\u001b[1;33m:\u001b[0m\u001b[1;33m,\u001b[0m \u001b[1;33m-\u001b[0m\u001b[1;36m1\u001b[0m\u001b[1;33m]\u001b[0m\u001b[1;33m==\u001b[0m\u001b[1;36m1\u001b[0m\u001b[1;33m)\u001b[0m\u001b[1;33m)\u001b[0m\u001b[1;33m\u001b[0m\u001b[0m\n\u001b[0;32m     12\u001b[0m \u001b[1;33m\u001b[0m\u001b[0m\n\u001b[1;32m---> 13\u001b[1;33m         \u001b[0mv\u001b[0m \u001b[1;33m=\u001b[0m \u001b[0mget_variance_accel\u001b[0m\u001b[1;33m(\u001b[0m\u001b[0mdlab\u001b[0m\u001b[1;33m,\u001b[0m \u001b[0mindices\u001b[0m\u001b[1;33m,\u001b[0m \u001b[0mwin_size\u001b[0m\u001b[1;33m=\u001b[0m\u001b[0mwin_size\u001b[0m\u001b[1;33m)\u001b[0m\u001b[1;33m\u001b[0m\u001b[0m\n\u001b[0m\u001b[0;32m     14\u001b[0m         \u001b[0mindices\u001b[0m \u001b[1;33m=\u001b[0m \u001b[0mindices\u001b[0m\u001b[1;33m[\u001b[0m\u001b[1;33m(\u001b[0m\u001b[0mv\u001b[0m\u001b[1;33m>=\u001b[0m\u001b[0mvar_min\u001b[0m\u001b[1;33m)\u001b[0m \u001b[1;33m&\u001b[0m \u001b[1;33m(\u001b[0m\u001b[0mv\u001b[0m\u001b[1;33m<=\u001b[0m\u001b[0mvar_max\u001b[0m\u001b[1;33m)\u001b[0m\u001b[1;33m]\u001b[0m\u001b[1;33m\u001b[0m\u001b[0m\n\u001b[0;32m     15\u001b[0m         \u001b[0mprint\u001b[0m\u001b[1;33m(\u001b[0m\u001b[1;34m\"Indices summary after variance filter total, neg, pos:\"\u001b[0m\u001b[1;33m,\u001b[0m \u001b[0mlen\u001b[0m\u001b[1;33m(\u001b[0m\u001b[0mindices\u001b[0m\u001b[1;33m)\u001b[0m\u001b[1;33m,\u001b[0m \u001b[0mnp\u001b[0m\u001b[1;33m.\u001b[0m\u001b[0msum\u001b[0m\u001b[1;33m(\u001b[0m\u001b[0mindices\u001b[0m\u001b[1;33m[\u001b[0m\u001b[1;33m:\u001b[0m\u001b[1;33m,\u001b[0m \u001b[1;33m-\u001b[0m\u001b[1;36m1\u001b[0m\u001b[1;33m]\u001b[0m\u001b[1;33m==\u001b[0m\u001b[1;36m0\u001b[0m\u001b[1;33m)\u001b[0m\u001b[1;33m,\u001b[0m \u001b[0mnp\u001b[0m\u001b[1;33m.\u001b[0m\u001b[0msum\u001b[0m\u001b[1;33m(\u001b[0m\u001b[0mindices\u001b[0m\u001b[1;33m[\u001b[0m\u001b[1;33m:\u001b[0m\u001b[1;33m,\u001b[0m \u001b[1;33m-\u001b[0m\u001b[1;36m1\u001b[0m\u001b[1;33m]\u001b[0m\u001b[1;33m==\u001b[0m\u001b[1;36m1\u001b[0m\u001b[1;33m)\u001b[0m\u001b[1;33m)\u001b[0m\u001b[1;33m\u001b[0m\u001b[0m\n",
      "\u001b[1;32m<ipython-input-8-65058d95614e>\u001b[0m in \u001b[0;36mget_variance_accel\u001b[1;34m(ds, indices, win_size)\u001b[0m\n\u001b[0;32m      4\u001b[0m     \u001b[1;32mfor\u001b[0m \u001b[0mi\u001b[0m \u001b[1;32min\u001b[0m \u001b[0mrange\u001b[0m\u001b[1;33m(\u001b[0m\u001b[0mcount\u001b[0m\u001b[1;33m)\u001b[0m\u001b[1;33m:\u001b[0m\u001b[1;33m\u001b[0m\u001b[0m\n\u001b[0;32m      5\u001b[0m         \u001b[0msubj\u001b[0m\u001b[1;33m,\u001b[0m \u001b[0msess\u001b[0m\u001b[1;33m,\u001b[0m \u001b[0mix\u001b[0m \u001b[1;33m=\u001b[0m \u001b[0mindices\u001b[0m\u001b[1;33m[\u001b[0m\u001b[0mi\u001b[0m\u001b[1;33m,\u001b[0m \u001b[1;36m0\u001b[0m\u001b[1;33m]\u001b[0m\u001b[1;33m,\u001b[0m \u001b[0mindices\u001b[0m\u001b[1;33m[\u001b[0m\u001b[0mi\u001b[0m\u001b[1;33m,\u001b[0m \u001b[1;36m1\u001b[0m\u001b[1;33m]\u001b[0m\u001b[1;33m,\u001b[0m \u001b[0mindices\u001b[0m\u001b[1;33m[\u001b[0m\u001b[0mi\u001b[0m\u001b[1;33m,\u001b[0m \u001b[1;36m2\u001b[0m\u001b[1;33m]\u001b[0m\u001b[1;33m\u001b[0m\u001b[0m\n\u001b[1;32m----> 6\u001b[1;33m         \u001b[0mv\u001b[0m\u001b[1;33m[\u001b[0m\u001b[0mi\u001b[0m\u001b[1;33m]\u001b[0m \u001b[1;33m=\u001b[0m \u001b[0mnp\u001b[0m\u001b[1;33m.\u001b[0m\u001b[0msum\u001b[0m\u001b[1;33m(\u001b[0m\u001b[0mnp\u001b[0m\u001b[1;33m.\u001b[0m\u001b[0mvar\u001b[0m\u001b[1;33m(\u001b[0m\u001b[0mds\u001b[0m\u001b[1;33m[\u001b[0m\u001b[0msubj\u001b[0m\u001b[1;33m]\u001b[0m\u001b[1;33m[\u001b[0m\u001b[0msess\u001b[0m\u001b[1;33m]\u001b[0m\u001b[1;33m[\u001b[0m\u001b[0mix\u001b[0m\u001b[1;33m:\u001b[0m\u001b[0mix\u001b[0m\u001b[1;33m+\u001b[0m\u001b[0mwin_size\u001b[0m\u001b[1;33m,\u001b[0m \u001b[1;36m1\u001b[0m\u001b[1;33m:\u001b[0m\u001b[1;36m4\u001b[0m\u001b[1;33m]\u001b[0m\u001b[1;33m,\u001b[0m \u001b[0maxis\u001b[0m\u001b[1;33m=\u001b[0m\u001b[1;36m0\u001b[0m\u001b[1;33m)\u001b[0m\u001b[1;33m)\u001b[0m\u001b[1;33m\u001b[0m\u001b[0m\n\u001b[0m\u001b[0;32m      7\u001b[0m     \u001b[1;32mreturn\u001b[0m \u001b[0mv\u001b[0m\u001b[1;33m\u001b[0m\u001b[0m\n",
      "\u001b[1;31mIndexError\u001b[0m: list index out of range"
     ]
    }
   ],
   "source": [
    "for subj in range(len(fs)):\n",
    "    subj_indices = get_subject_indices_free(subj)\n",
    "    for sess in range(len(fs[subj])):        \n",
    "        indices = subj_indices[subj_indices[:,1]==sess, :]\n",
    "        print(subj, sess, \" : \", indices.shape, all_proba_steven[subj][sess].shape, all_proba_our[subj][sess].shape)        \n",
    "        print(\"Shapes indices, feature_count: \",indices.shape, fs[subj][sess].shape)        \n",
    "        print(\"Shapes proba steven, our: \",all_proba_steven[subj][sess].shape, all_proba_our[subj][sess].shape)        \n",
    "        \n",
    "        gx = get_mid_gx(dfree, indices, win_size=win_size)\n",
    "        indices = indices[gx<=gx_th]    \n",
    "        print(\"Indices summary after gx filter total, neg, pos:\", len(indices), np.sum(indices[:, -1]==0), np.sum(indices[:, -1]==1))\n",
    "\n",
    "        v = get_variance_accel(dfree, indices, win_size=win_size)            \n",
    "        indices = indices[(v>=var_min) & (v<=var_max)]   \n",
    "        print(\"Indices summary after variance filter total, neg, pos:\", len(indices), np.sum(indices[:, -1]==0), np.sum(indices[:, -1]==1))"
   ]
  },
  {
   "cell_type": "code",
   "execution_count": null,
   "metadata": {},
   "outputs": [],
   "source": []
  }
 ],
 "metadata": {
  "kernelspec": {
   "display_name": "Python 3",
   "language": "python",
   "name": "python3"
  },
  "language_info": {
   "codemirror_mode": {
    "name": "ipython",
    "version": 3
   },
   "file_extension": ".py",
   "mimetype": "text/x-python",
   "name": "python",
   "nbconvert_exporter": "python",
   "pygments_lexer": "ipython3",
   "version": "3.6.4"
  }
 },
 "nbformat": 4,
 "nbformat_minor": 2
}
