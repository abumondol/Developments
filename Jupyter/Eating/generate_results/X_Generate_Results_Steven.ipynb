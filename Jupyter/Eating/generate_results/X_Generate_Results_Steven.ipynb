{
 "cells": [
  {
   "cell_type": "code",
   "execution_count": 1,
   "metadata": {},
   "outputs": [],
   "source": [
    "import numpy as np\n",
    "import scipy as sp\n",
    "import os \n",
    "import sys\n",
    "import importlib"
   ]
  },
  {
   "cell_type": "code",
   "execution_count": 2,
   "metadata": {},
   "outputs": [],
   "source": [
    "util_path = 'C:/ASM/Dropbox/Developments/Jupyter/Eating/myutils' if 'C:' in os.getcwd() else './myutils'\n",
    "sys.path.append(util_path)\n",
    "import my_file_utils as mfileu\n",
    "import my_steven_free_utils as msfreeu\n",
    "import my_data_process_utils as mdpu\n",
    "import my_meal_detection_utils as mmdu\n",
    "import my_cluster_utils as mclusteru\n",
    "#importlib.reload(mdu)"
   ]
  },
  {
   "cell_type": "code",
   "execution_count": 3,
   "metadata": {},
   "outputs": [],
   "source": [
    "annots = mfileu.read_file('data', 'free_data_steven_annots.pkl')\n",
    "free_data = mfileu.read_file('data', 'free_data_steven_right.pkl')"
   ]
  },
  {
   "cell_type": "code",
   "execution_count": 7,
   "metadata": {},
   "outputs": [],
   "source": [
    "def get_result(subj, sess, minMealDistance, minMealDuration, plot=False):\n",
    "    results = []\n",
    "    \n",
    "    a = annots[subj][sess]        \n",
    "    a = msfreeu.process_anntos(len(free_data[subj][sess]), a)\n",
    "    \n",
    "    proba = all_proba_bite[subj][sess]\n",
    "    indices = proba[:, 0] + 40\n",
    "    proba = proba[:, -1]\n",
    "    proba_th = np.percentile(proba, 99.9)\n",
    "    bite_indices = find_events(proba, indices, proba_th=proba_th)        \n",
    "\n",
    "    proba = all_proba_free_window[subj][sess]\n",
    "    indices = proba[:, 0] + 40\n",
    "    proba = proba[:, -1]\n",
    "    proba_th = np.percentile(proba, 99.9)\n",
    "    meal_indices = find_events(proba, indices, proba_th=proba_th)        \n",
    "\n",
    "    \n",
    "    clusters = mclusteru.cluster_events_by_minute_steven(bite_indices, meal_indices)\n",
    "    clusters = mclusteru.process_clusters(clusters, minMealDistance=minMealDistance, minMealDuration=minMealDuration)\n",
    "    cond = (clusters[:, 2]>=1 ) | ((clusters[:, 1] - clusters[:,0])>=5*16*60)\n",
    "    clusters = clusters[cond]    \n",
    "    \n",
    "    result = mmdu.get_meal_detection_results(a, clusters=clusters)\n",
    "    if plot:\n",
    "        plot_result(a, clusters, bite_indices=bite_indices, meal_indices=[], title=\"Subj, Sess: \"+str(subj)+\", \"+str(sess))\n",
    "    \n",
    "    return result"
   ]
  },
  {
   "cell_type": "code",
   "execution_count": 8,
   "metadata": {},
   "outputs": [],
   "source": [
    "def get_metric_results(minMealDistance, minMealDuration, plotFlag=False):\n",
    "    gts, acovs, clcovs = [], [], []\n",
    "    for subj in range(len(annots)):\n",
    "        for sess in range(len(annots[subj])):\n",
    "            \n",
    "            gt, ac, clc = get_result(subj, sess, minMealDistance=minMealDistance, minMealDuration=minMealDuration, plot=plotFlag)\n",
    "            assert len(gt) == len(ac)\n",
    "\n",
    "            gt = mdpu.add_subj_sess_to_array(gt, subj, sess, at_begin=False)\n",
    "            ac = mdpu.add_subj_sess_to_array(ac, subj, sess, at_begin=False)\n",
    "            clc = mdpu.add_subj_sess_to_array(clc, subj, sess, at_begin=False)\n",
    "\n",
    "            gts = gt if len(gts)==0 else np.concatenate((gts, gt))\n",
    "            acovs = ac if len(acovs)==0 else np.concatenate((acovs, ac))\n",
    "            clcovs = clc if len(clcovs)==0 else np.concatenate((clcovs, clc))\n",
    "            \n",
    "    res = mmdu.get_metric_results(gts, acovs, clcovs)\n",
    "    return res"
   ]
  },
  {
   "cell_type": "code",
   "execution_count": 9,
   "metadata": {
    "scrolled": false
   },
   "outputs": [
    {
     "name": "stdout",
     "output_type": "stream",
     "text": [
      "total  :  82\n",
      "total_meal  :  49\n",
      "total_snack  :  33\n",
      "tp  :  69\n",
      "tp_meal  :  45\n",
      "tp_snack  :  24\n",
      "recall  :  0.8414634146341463\n",
      "recall_meal  :  0.9183673469387755\n",
      "recall_snack  :  0.7272727272727273\n",
      "fp  :  73\n",
      "precision  :  0.4859154929577465\n",
      "f1  :  0.6160714285714286\n",
      "start_error  :  102.08003048780488\n",
      "start_error_meal  :  103.59693877551021\n",
      "start_error_snack  :  99.82765151515152\n",
      "end_error  :  266.1234756097561\n",
      "end_error_meal  :  340.5459183673469\n",
      "end_error_snack  :  155.61742424242425\n",
      "fragment_error  :  0.08536585365853659\n",
      "fragment_error_meal  :  0.14285714285714285\n",
      "fragment_error_snack  :  0.0\n"
     ]
    }
   ],
   "source": [
    "res = get_metric_results(minMealDistance=5*60*16, minMealDuration=60*16)\n",
    "for key, val in res.items():\n",
    "    print(key, \" : \", val)"
   ]
  },
  {
   "cell_type": "code",
   "execution_count": 10,
   "metadata": {},
   "outputs": [
    {
     "name": "stdout",
     "output_type": "stream",
     "text": [
      "0 0 | 0 5 | 0 10 | 0 15 | 0 20 | 0 25 | 0 30 | 0 35 | 0 40 | 0 45 | 0 50 | 0 55 | 0 60 | 0 65 | 0 70 | 0 75 | 0 80 | 0 85 | 0 90 | 0 95 | 0 100 | 0 105 | 0 110 | 0 115 | 0 120 | 0 125 | 0 130 | 0 135 | 0 140 | 0 145 | 0 150 | 0 155 | 0 160 | 0 165 | 0 170 | 0 175 | 0 180 | 0 185 | 0 190 | 0 195 | 0 200 | 0 205 | 0 210 | 0 215 | 0 220 | 0 225 | 0 230 | 0 235 | 0 240 | 0 245 | 0 250 | 0 255 | 0 260 | 0 265 | 0 270 | 0 275 | 0 280 | 0 285 | 0 290 | 0 295 | 0 300 | 5 0 | 5 5 | 5 10 | 5 15 | 5 20 | 5 25 | 5 30 | 5 35 | 5 40 | 5 45 | 5 50 | 5 55 | 5 60 | 5 65 | 5 70 | 5 75 | 5 80 | 5 85 | 5 90 | 5 95 | 5 100 | 5 105 | 5 110 | 5 115 | 5 120 | 5 125 | 5 130 | 5 135 | 5 140 | 5 145 | 5 150 | 5 155 | 5 160 | 5 165 | 5 170 | 5 175 | 5 180 | 5 185 | 5 190 | 5 195 | 5 200 | 5 205 | 5 210 | 5 215 | 5 220 | 5 225 | 5 230 | 5 235 | 5 240 | 5 245 | 5 250 | 5 255 | 5 260 | 5 265 | 5 270 | 5 275 | 5 280 | 5 285 | 5 290 | 5 295 | 5 300 | 10 0 | 10 5 | 10 10 | 10 15 | 10 20 | 10 25 | 10 30 | 10 35 | 10 40 | 10 45 | 10 50 | 10 55 | 10 60 | 10 65 | 10 70 | 10 75 | 10 80 | 10 85 | 10 90 | 10 95 | 10 100 | 10 105 | 10 110 | 10 115 | 10 120 | 10 125 | 10 130 | 10 135 | 10 140 | 10 145 | 10 150 | 10 155 | 10 160 | 10 165 | 10 170 | 10 175 | 10 180 | 10 185 | 10 190 | 10 195 | 10 200 | 10 205 | 10 210 | 10 215 | 10 220 | 10 225 | 10 230 | 10 235 | 10 240 | 10 245 | 10 250 | 10 255 | 10 260 | 10 265 | 10 270 | 10 275 | 10 280 | 10 285 | 10 290 | 10 295 | 10 300 | 15 0 | 15 5 | 15 10 | 15 15 | 15 20 | 15 25 | 15 30 | 15 35 | 15 40 | 15 45 | 15 50 | 15 55 | 15 60 | 15 65 | 15 70 | 15 75 | 15 80 | 15 85 | 15 90 | 15 95 | 15 100 | 15 105 | 15 110 | 15 115 | 15 120 | 15 125 | 15 130 | 15 135 | 15 140 | 15 145 | 15 150 | 15 155 | 15 160 | 15 165 | 15 170 | 15 175 | 15 180 | 15 185 | 15 190 | 15 195 | 15 200 | 15 205 | 15 210 | 15 215 | 15 220 | 15 225 | 15 230 | 15 235 | 15 240 | "
     ]
    },
    {
     "ename": "KeyboardInterrupt",
     "evalue": "",
     "output_type": "error",
     "traceback": [
      "\u001b[1;31m---------------------------------------------------------------------------\u001b[0m",
      "\u001b[1;31mKeyboardInterrupt\u001b[0m                         Traceback (most recent call last)",
      "\u001b[1;32m<ipython-input-10-2a5dae195967>\u001b[0m in \u001b[0;36m<module>\u001b[1;34m()\u001b[0m\n\u001b[0;32m      3\u001b[0m     \u001b[1;32mfor\u001b[0m \u001b[0mminMealDuration\u001b[0m \u001b[1;32min\u001b[0m \u001b[0mrange\u001b[0m\u001b[1;33m(\u001b[0m\u001b[1;36m0\u001b[0m\u001b[1;33m,\u001b[0m \u001b[1;36m301\u001b[0m\u001b[1;33m,\u001b[0m \u001b[1;36m5\u001b[0m\u001b[1;33m)\u001b[0m\u001b[1;33m:\u001b[0m \u001b[1;31m#in second\u001b[0m\u001b[1;33m\u001b[0m\u001b[0m\n\u001b[0;32m      4\u001b[0m         \u001b[0mprint\u001b[0m\u001b[1;33m(\u001b[0m\u001b[0mminMealDistance\u001b[0m\u001b[1;33m,\u001b[0m \u001b[0mminMealDuration\u001b[0m\u001b[1;33m,\u001b[0m \u001b[0mend\u001b[0m\u001b[1;33m=\u001b[0m\u001b[1;34m' | '\u001b[0m\u001b[1;33m)\u001b[0m\u001b[1;33m\u001b[0m\u001b[0m\n\u001b[1;32m----> 5\u001b[1;33m         \u001b[0mres\u001b[0m\u001b[1;33m[\u001b[0m\u001b[1;33m(\u001b[0m\u001b[0mminMealDistance\u001b[0m\u001b[1;33m,\u001b[0m \u001b[0mminMealDuration\u001b[0m\u001b[1;33m)\u001b[0m\u001b[1;33m]\u001b[0m \u001b[1;33m=\u001b[0m \u001b[0mget_metric_results\u001b[0m\u001b[1;33m(\u001b[0m\u001b[0mminMealDistance\u001b[0m \u001b[1;33m=\u001b[0m \u001b[0mminMealDistance\u001b[0m\u001b[1;33m*\u001b[0m\u001b[1;36m60\u001b[0m\u001b[1;33m*\u001b[0m\u001b[1;36m16\u001b[0m\u001b[1;33m,\u001b[0m \u001b[0mminMealDuration\u001b[0m\u001b[1;33m=\u001b[0m\u001b[0mminMealDuration\u001b[0m\u001b[1;33m*\u001b[0m\u001b[1;36m16\u001b[0m\u001b[1;33m)\u001b[0m\u001b[1;33m\u001b[0m\u001b[0m\n\u001b[0m\u001b[0;32m      6\u001b[0m \u001b[1;33m\u001b[0m\u001b[0m\n\u001b[0;32m      7\u001b[0m \u001b[0mmfileu\u001b[0m\u001b[1;33m.\u001b[0m\u001b[0mwrite_file\u001b[0m\u001b[1;33m(\u001b[0m\u001b[1;34m'final_results'\u001b[0m\u001b[1;33m,\u001b[0m \u001b[1;34m'steven.pkl'\u001b[0m\u001b[1;33m,\u001b[0m \u001b[0mres\u001b[0m\u001b[1;33m)\u001b[0m\u001b[1;33m\u001b[0m\u001b[0m\n",
      "\u001b[1;32m<ipython-input-8-267ac70aa698>\u001b[0m in \u001b[0;36mget_metric_results\u001b[1;34m(minMealDistance, minMealDuration, plotFlag)\u001b[0m\n\u001b[0;32m      4\u001b[0m         \u001b[1;32mfor\u001b[0m \u001b[0msess\u001b[0m \u001b[1;32min\u001b[0m \u001b[0mrange\u001b[0m\u001b[1;33m(\u001b[0m\u001b[0mlen\u001b[0m\u001b[1;33m(\u001b[0m\u001b[0mannots\u001b[0m\u001b[1;33m[\u001b[0m\u001b[0msubj\u001b[0m\u001b[1;33m]\u001b[0m\u001b[1;33m)\u001b[0m\u001b[1;33m)\u001b[0m\u001b[1;33m:\u001b[0m\u001b[1;33m\u001b[0m\u001b[0m\n\u001b[0;32m      5\u001b[0m \u001b[1;33m\u001b[0m\u001b[0m\n\u001b[1;32m----> 6\u001b[1;33m             \u001b[0mgt\u001b[0m\u001b[1;33m,\u001b[0m \u001b[0mac\u001b[0m\u001b[1;33m,\u001b[0m \u001b[0mclc\u001b[0m \u001b[1;33m=\u001b[0m \u001b[0mget_result\u001b[0m\u001b[1;33m(\u001b[0m\u001b[0msubj\u001b[0m\u001b[1;33m,\u001b[0m \u001b[0msess\u001b[0m\u001b[1;33m,\u001b[0m \u001b[0mminMealDistance\u001b[0m\u001b[1;33m=\u001b[0m\u001b[0mminMealDistance\u001b[0m\u001b[1;33m,\u001b[0m \u001b[0mminMealDuration\u001b[0m\u001b[1;33m=\u001b[0m\u001b[0mminMealDuration\u001b[0m\u001b[1;33m,\u001b[0m \u001b[0mplot\u001b[0m\u001b[1;33m=\u001b[0m\u001b[0mplotFlag\u001b[0m\u001b[1;33m)\u001b[0m\u001b[1;33m\u001b[0m\u001b[0m\n\u001b[0m\u001b[0;32m      7\u001b[0m             \u001b[1;32massert\u001b[0m \u001b[0mlen\u001b[0m\u001b[1;33m(\u001b[0m\u001b[0mgt\u001b[0m\u001b[1;33m)\u001b[0m \u001b[1;33m==\u001b[0m \u001b[0mlen\u001b[0m\u001b[1;33m(\u001b[0m\u001b[0mac\u001b[0m\u001b[1;33m)\u001b[0m\u001b[1;33m\u001b[0m\u001b[0m\n\u001b[0;32m      8\u001b[0m \u001b[1;33m\u001b[0m\u001b[0m\n",
      "\u001b[1;32m<ipython-input-7-6d72a9ff6710>\u001b[0m in \u001b[0;36mget_result\u001b[1;34m(subj, sess, minMealDistance, minMealDuration, plot)\u001b[0m\n\u001b[0;32m     12\u001b[0m     \u001b[0mproba\u001b[0m \u001b[1;33m=\u001b[0m \u001b[0mproba\u001b[0m\u001b[1;33m[\u001b[0m\u001b[1;33m:\u001b[0m\u001b[1;33m,\u001b[0m \u001b[1;33m-\u001b[0m\u001b[1;36m1\u001b[0m\u001b[1;33m]\u001b[0m\u001b[1;33m\u001b[0m\u001b[0m\n\u001b[0;32m     13\u001b[0m     \u001b[0mproba_th\u001b[0m \u001b[1;33m=\u001b[0m \u001b[0mnp\u001b[0m\u001b[1;33m.\u001b[0m\u001b[0mpercentile\u001b[0m\u001b[1;33m(\u001b[0m\u001b[0mproba\u001b[0m\u001b[1;33m,\u001b[0m \u001b[1;36m99.9\u001b[0m\u001b[1;33m)\u001b[0m\u001b[1;33m\u001b[0m\u001b[0m\n\u001b[1;32m---> 14\u001b[1;33m     \u001b[0mbite_indices\u001b[0m \u001b[1;33m=\u001b[0m \u001b[0mfind_events\u001b[0m\u001b[1;33m(\u001b[0m\u001b[0mproba\u001b[0m\u001b[1;33m,\u001b[0m \u001b[0mindices\u001b[0m\u001b[1;33m,\u001b[0m \u001b[0mproba_th\u001b[0m\u001b[1;33m=\u001b[0m\u001b[0mproba_th\u001b[0m\u001b[1;33m)\u001b[0m\u001b[1;33m\u001b[0m\u001b[0m\n\u001b[0m\u001b[0;32m     15\u001b[0m \u001b[1;33m\u001b[0m\u001b[0m\n\u001b[0;32m     16\u001b[0m     \u001b[0mproba\u001b[0m \u001b[1;33m=\u001b[0m \u001b[0mall_proba_free_window\u001b[0m\u001b[1;33m[\u001b[0m\u001b[0msubj\u001b[0m\u001b[1;33m]\u001b[0m\u001b[1;33m[\u001b[0m\u001b[0msess\u001b[0m\u001b[1;33m]\u001b[0m\u001b[1;33m\u001b[0m\u001b[0m\n",
      "\u001b[1;32m<ipython-input-6-9ea9cc5b2d13>\u001b[0m in \u001b[0;36mfind_events\u001b[1;34m(proba, indices, proba_th)\u001b[0m\n\u001b[0;32m      9\u001b[0m             \u001b[0minside\u001b[0m \u001b[1;33m=\u001b[0m \u001b[1;32mTrue\u001b[0m\u001b[1;33m\u001b[0m\u001b[0m\n\u001b[0;32m     10\u001b[0m             \u001b[0msi\u001b[0m \u001b[1;33m=\u001b[0m \u001b[0mindices\u001b[0m\u001b[1;33m[\u001b[0m\u001b[0mi\u001b[0m\u001b[1;33m]\u001b[0m\u001b[1;33m\u001b[0m\u001b[0m\n\u001b[1;32m---> 11\u001b[1;33m         \u001b[1;32melif\u001b[0m \u001b[0mproba\u001b[0m\u001b[1;33m[\u001b[0m\u001b[0mi\u001b[0m\u001b[1;33m]\u001b[0m\u001b[1;33m<\u001b[0m\u001b[0mproba_th\u001b[0m\u001b[1;33m/\u001b[0m\u001b[1;36m2\u001b[0m \u001b[1;32mand\u001b[0m \u001b[0minside\u001b[0m\u001b[1;33m==\u001b[0m\u001b[1;32mTrue\u001b[0m\u001b[1;33m:\u001b[0m\u001b[1;33m\u001b[0m\u001b[0m\n\u001b[0m\u001b[0;32m     12\u001b[0m             \u001b[0mres\u001b[0m\u001b[1;33m.\u001b[0m\u001b[0mappend\u001b[0m\u001b[1;33m(\u001b[0m\u001b[1;33m[\u001b[0m\u001b[0msi\u001b[0m\u001b[1;33m,\u001b[0m \u001b[0mindices\u001b[0m\u001b[1;33m[\u001b[0m\u001b[0mi\u001b[0m\u001b[1;33m-\u001b[0m\u001b[1;36m1\u001b[0m\u001b[1;33m]\u001b[0m\u001b[1;33m]\u001b[0m\u001b[1;33m)\u001b[0m\u001b[1;33m\u001b[0m\u001b[0m\n\u001b[0;32m     13\u001b[0m             \u001b[0minside\u001b[0m \u001b[1;33m=\u001b[0m \u001b[1;32mFalse\u001b[0m\u001b[1;33m\u001b[0m\u001b[0m\n",
      "\u001b[1;31mKeyboardInterrupt\u001b[0m: "
     ]
    }
   ],
   "source": [
    "res ={}\n",
    "for minMealDistance in range(0, 31, 5): #in minute\n",
    "    for minMealDuration in range(0, 301, 5): #in second\n",
    "        print(minMealDistance, minMealDuration, end=' | ')\n",
    "        res[(minMealDistance, minMealDuration)] = get_metric_results(minMealDistance = minMealDistance*60*16, minMealDuration=minMealDuration*16)\n",
    "\n",
    "mfileu.write_file('final_results', 'steven.pkl', res)"
   ]
  },
  {
   "cell_type": "code",
   "execution_count": null,
   "metadata": {},
   "outputs": [],
   "source": [
    "#for key, val in res[(60, 300)].items():\n",
    "#    print(key, \" : \", val)"
   ]
  },
  {
   "cell_type": "code",
   "execution_count": null,
   "metadata": {},
   "outputs": [],
   "source": []
  }
 ],
 "metadata": {
  "kernelspec": {
   "display_name": "Python 3",
   "language": "python",
   "name": "python3"
  },
  "language_info": {
   "codemirror_mode": {
    "name": "ipython",
    "version": 3
   },
   "file_extension": ".py",
   "mimetype": "text/x-python",
   "name": "python",
   "nbconvert_exporter": "python",
   "pygments_lexer": "ipython3",
   "version": "3.6.4"
  }
 },
 "nbformat": 4,
 "nbformat_minor": 2
}
