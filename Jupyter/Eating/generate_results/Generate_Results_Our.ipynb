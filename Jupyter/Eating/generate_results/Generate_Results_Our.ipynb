{
 "cells": [
  {
   "cell_type": "code",
   "execution_count": 1,
   "metadata": {},
   "outputs": [],
   "source": [
    "import numpy as np\n",
    "import scipy as sp\n",
    "import os \n",
    "import sys\n",
    "import importlib"
   ]
  },
  {
   "cell_type": "code",
   "execution_count": 2,
   "metadata": {},
   "outputs": [],
   "source": [
    "util_path = 'C:/ASM/Dropbox/Developments/Jupyter/Eating/myutils' if 'C:' in os.getcwd() else './myutils'\n",
    "sys.path.append(util_path)\n",
    "import my_file_utils as mfileu\n",
    "import my_steven_free_utils as msfreeu\n",
    "import my_data_process_utils as mdpu\n",
    "import my_meal_detection_utils as mmdu\n",
    "import my_cluster_utils as mclusteru\n",
    "#importlib.reload(mdu)"
   ]
  },
  {
   "cell_type": "code",
   "execution_count": 3,
   "metadata": {},
   "outputs": [],
   "source": [
    "annots = mfileu.read_file('data', 'free_data_steven_annots.pkl')\n",
    "free_data = mfileu.read_file('data', 'free_data_steven_right.pkl')"
   ]
  },
  {
   "cell_type": "code",
   "execution_count": 4,
   "metadata": {},
   "outputs": [],
   "source": [
    "all_proba_bite = []\n",
    "for subj in range(len(annots)):\n",
    "    subj_proba = []    \n",
    "    for sess in range(len(annots[subj])):\n",
    "        r = mfileu.read_file('our_test_proba_retrain_personal', 'bite_free_'+str(subj)+'_'+str(sess)+\".pkl\")\n",
    "        subj_proba.append(r)        \n",
    "        \n",
    "    all_proba_bite.append(subj_proba)    "
   ]
  },
  {
   "cell_type": "code",
   "execution_count": 5,
   "metadata": {},
   "outputs": [],
   "source": [
    "def find_events(proba, indices, proba_th):\n",
    "    count = len(proba)    \n",
    "    #print(\"Count total, Threshold, count greater proba_th: \", count, proba_th, np.sum(proba>proba_th))    \n",
    "    \n",
    "    res =[]\n",
    "    inside = False\n",
    "    for i in range(count):\n",
    "        if proba[i]>=0.5 and inside==False:\n",
    "            inside = True\n",
    "            si = i\n",
    "        elif proba[i]<0.5 and inside==True:            \n",
    "            max_proba = np.amax(proba[si:i])            \n",
    "            res.append([indices[si], indices[i-1], max_proba])\n",
    "            inside = False\n",
    "        \n",
    "    res = np.array(res)\n",
    "    res = res[res[:, -1]>=proba_th, :2]    \n",
    "    return res.astype(int)"
   ]
  },
  {
   "cell_type": "code",
   "execution_count": 23,
   "metadata": {},
   "outputs": [],
   "source": [
    "if 'C:' in os.getcwd():\n",
    "    import matplotlib.pyplot as plt\n",
    "    %matplotlib inline\n",
    "\n",
    "def get_result(subj, sess, minCount, mergeDistance, plot=False):\n",
    "    print_out, sys.stdout = sys.stdout, open(os.devnull, 'w')\n",
    "    print(\"Subj, Sess:\", subj, sess)\n",
    "    \n",
    "    results = []\n",
    "    \n",
    "    a = annots[subj][sess]        \n",
    "    a = msfreeu.process_anntos(len(free_data[subj][sess]), a)\n",
    "    \n",
    "    proba = all_proba_bite[subj][sess]\n",
    "    proba = proba[proba[:, 1]==sess, 2:]\n",
    "    \n",
    "    indices = proba[:, 0] + 48\n",
    "    proba = proba[:, -1]\n",
    "    proba_th = 0.75 #np.percentile(proba, 99.9)\n",
    "    bite_indices = find_events(proba, indices, proba_th=proba_th)\n",
    "    print(bite_indices)\n",
    "    \n",
    "    clusters = mclusteru.cluster_bites_by_minute(bite_indices)\n",
    "    print(clusters)\n",
    "    clusters = mclusteru.find_meals(clusters, minCount=minCount, mergeDistance=mergeDistance)\n",
    "    print(clusters)\n",
    "    \n",
    "    cond = (clusters[:,1]-clusters[:, 0])>=1*16*60\n",
    "    clusters = clusters[cond]\n",
    "    result = mmdu.get_meal_detection_results(a, clusters=clusters)\n",
    "    \n",
    "    sys.stdout = print_out\n",
    "    ###############################################\n",
    "    if not plot:\n",
    "        return result\n",
    "\n",
    "    idf = 16*60*60\n",
    "    fig = plt.figure(figsize=(20,5))\n",
    "    ax = plt.subplot(111)        \n",
    "    ax.scatter(bite_indices[:,0]/idf, np.zeros((len(bite_indices)),)+3, marker='x', s=10, color='blue')                \n",
    "    \n",
    "    clrs = ['', 'blue', 'green', 'red', 'black']\n",
    "    for i in range(len(a)):\n",
    "        si = a[i, 0]/idf\n",
    "        ei = a[i, 1]/idf\n",
    "        mt = a[i, 2]            \n",
    "        ax.plot([si, ei], [1, 1], color=clrs[mt], linewidth=5)\n",
    "\n",
    "    for i in range(len(clusters)):\n",
    "        si = clusters[i, 0]/idf\n",
    "        ei = clusters[i, 1]/idf            \n",
    "        ax.plot([si, ei], [2, 2], color='black', linewidth=5)\n",
    "\n",
    "    plt.title(\"Subj, Sess: \"+str(subj)+\", \"+str(sess), fontsize=20)\n",
    "    plt.xlabel('Time (Hour)', fontsize=20)        \n",
    "    plt.ylim([0, 4])\n",
    "    plt.grid(True)\n",
    "    plt.show()        \n",
    "\n",
    "    return result"
   ]
  },
  {
   "cell_type": "code",
   "execution_count": 24,
   "metadata": {},
   "outputs": [],
   "source": [
    "def get_metric_results(minCount, mergeDistance, plotFlag=False):\n",
    "    gts, acovs, clcovs = [], [], []\n",
    "    for subj in range(len(annots)):\n",
    "        for sess in range(len(annots[subj])):\n",
    "            \n",
    "            gt, ac, clc = get_result(subj, sess, minCount=minCount, mergeDistance=mergeDistance, plot=plotFlag)\n",
    "            assert len(gt) == len(ac)\n",
    "\n",
    "            gt = mdpu.add_subj_sess_to_array(gt, subj, sess, at_begin=False)\n",
    "            ac = mdpu.add_subj_sess_to_array(ac, subj, sess, at_begin=False)\n",
    "            clc = mdpu.add_subj_sess_to_array(clc, subj, sess, at_begin=False)\n",
    "\n",
    "            gts = gt if len(gts)==0 else np.concatenate((gts, gt))\n",
    "            acovs = ac if len(acovs)==0 else np.concatenate((acovs, ac))\n",
    "            clcovs = clc if len(clcovs)==0 else np.concatenate((clcovs, clc))\n",
    "            \n",
    "    res = mmdu.get_metric_results(gts, acovs, clcovs)\n",
    "    return res"
   ]
  },
  {
   "cell_type": "code",
   "execution_count": 25,
   "metadata": {
    "scrolled": false
   },
   "outputs": [
    {
     "name": "stdout",
     "output_type": "stream",
     "text": [
      "total  :  82\n",
      "total_meal  :  49\n",
      "total_snack  :  33\n",
      "tp  :  74\n",
      "tp_meal  :  48\n",
      "tp_snack  :  26\n",
      "recall  :  0.9024390243902439\n",
      "recall_meal  :  0.9795918367346939\n",
      "recall_snack  :  0.7878787878787878\n",
      "fp  :  202\n",
      "precision  :  0.26811594202898553\n",
      "f1  :  0.41340782122905034\n",
      "start_error  :  366.7614329268293\n",
      "start_error_meal  :  375.515306122449\n",
      "start_error_snack  :  353.76325757575756\n",
      "end_error  :  433.84375\n",
      "end_error_meal  :  474.23852040816325\n",
      "end_error_snack  :  373.8636363636364\n",
      "fragment_error  :  0.06097560975609756\n",
      "fragment_error_meal  :  0.061224489795918366\n",
      "fragment_error_snack  :  0.06060606060606061\n"
     ]
    }
   ],
   "source": [
    "res = get_metric_results(minCount=3, mergeDistance=5*60*16)\n",
    "for key, val in res.items():\n",
    "    print(key, \" : \", val)"
   ]
  },
  {
   "cell_type": "code",
   "execution_count": null,
   "metadata": {},
   "outputs": [],
   "source": [
    "res ={}\n",
    "for minMealDistance in range(0, 16, 5): #in minute\n",
    "    for minMealDuration in range(0, 301, 30): #in second        \n",
    "        res[(minMealDistance, minMealDuration)] = get_metric_results(minMealDistance = minMealDistance*60*16, minMealDuration=minMealDuration*16)\n",
    "        print(minMealDistance, minMealDuration, res[(minMealDistance, minMealDuration)][\"f1\"], end=' | ')\n",
    "        \n",
    "mfileu.write_file('final_results', 'our_only_lab.pkl', res)"
   ]
  },
  {
   "cell_type": "code",
   "execution_count": null,
   "metadata": {},
   "outputs": [],
   "source": [
    "#for key, val in res[(60, 300)].items():\n",
    "#    print(key, \" : \", val)"
   ]
  },
  {
   "cell_type": "code",
   "execution_count": null,
   "metadata": {},
   "outputs": [],
   "source": []
  }
 ],
 "metadata": {
  "kernelspec": {
   "display_name": "Python 3",
   "language": "python",
   "name": "python3"
  },
  "language_info": {
   "codemirror_mode": {
    "name": "ipython",
    "version": 3
   },
   "file_extension": ".py",
   "mimetype": "text/x-python",
   "name": "python",
   "nbconvert_exporter": "python",
   "pygments_lexer": "ipython3",
   "version": "3.6.4"
  }
 },
 "nbformat": 4,
 "nbformat_minor": 2
}
