{
 "cells": [
  {
   "cell_type": "code",
   "execution_count": null,
   "metadata": {},
   "outputs": [],
   "source": [
    "import numpy as np\n",
    "import scipy as sp\n",
    "import os \n",
    "import sys\n",
    "import importlib\n",
    "from sklearn.ensemble import RandomForestClassifier"
   ]
  },
  {
   "cell_type": "code",
   "execution_count": null,
   "metadata": {},
   "outputs": [],
   "source": [
    "util_path = 'C:/ASM/Dropbox/Developments/Jupyter/Eating/myutils' if 'C:' in os.getcwd() else './myutils'\n",
    "sys.path.append(util_path)\n",
    "import my_file_utils as mfileu\n",
    "import my_classification_utils as mcu\n",
    "#importlib.reload(mdu)"
   ]
  },
  {
   "cell_type": "code",
   "execution_count": null,
   "metadata": {},
   "outputs": [],
   "source": [
    "step = 2\n",
    "lab_free = sys.argv[1]\n",
    "print(\" lab_free: \", lab_free)\n",
    "assert lab_free in ['lab', 'free']"
   ]
  },
  {
   "cell_type": "code",
   "execution_count": null,
   "metadata": {},
   "outputs": [],
   "source": [
    "fs = mfileu.read_file('features/features_step'+str(step), '{}_features_steven_right.pkl'.format(lab_free))\n",
    "ssilvg = mfileu.read_file('ssilvg/ssilvg_step'+str(step), '{}_ssilvg_steven_right.pkl'.format(lab_free))\n",
    "ba = mfileu.read_file('data', '{}_data_steven_blank_array.pkl'.format(lab_free))"
   ]
  },
  {
   "cell_type": "code",
   "execution_count": null,
   "metadata": {},
   "outputs": [],
   "source": [
    "for subj in range(len(ssilvg)):\n",
    "    for sess in range(len(ssilvg[subj])):\n",
    "        print(\"\\nTesting {} subject, sess: {}, {}\".format(lab_free, subj, sess))\n",
    "\n",
    "        if lab_free == 'lab':\n",
    "            clf = mfileu.read_file('bite_models_baseline', 'lab_'+str(subj)+'.pkl')\n",
    "        else:            \n",
    "            if subj<5:\n",
    "                clf = mfileu.read_file('bite_models_baseline', 'lab_'+str(subj+2)+'.pkl')\n",
    "            else:\n",
    "                clf = mfileu.read_file('bite_models_baseline', 'lab_100.pkl')            \n",
    "\n",
    "        proba = clf.predict_proba(fs[subj][sess][:, 1:])\n",
    "        proba = np.array(proba)\n",
    "        proba = proba[:, 1]\n",
    "\n",
    "        ssilvg[subj][sess][:, 4] = proba #ssilpg                   \n",
    "        ba[subj][sess] = ssilvg[subj][sess][:, :5] #ssilp           \n",
    "        \n",
    "\n",
    "mfileu.write_file('classification_results', '{}_ssilp_baseline.pkl'.format(lab_free), ba)"
   ]
  }
 ],
 "metadata": {
  "kernelspec": {
   "display_name": "Python 3",
   "language": "python",
   "name": "python3"
  },
  "language_info": {
   "codemirror_mode": {
    "name": "ipython",
    "version": 3
   },
   "file_extension": ".py",
   "mimetype": "text/x-python",
   "name": "python",
   "nbconvert_exporter": "python",
   "pygments_lexer": "ipython3",
   "version": "3.6.4"
  }
 },
 "nbformat": 4,
 "nbformat_minor": 2
}
