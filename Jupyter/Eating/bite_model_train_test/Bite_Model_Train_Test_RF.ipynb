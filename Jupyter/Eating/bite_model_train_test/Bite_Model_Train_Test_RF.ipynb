{
 "cells": [
  {
   "cell_type": "code",
   "execution_count": null,
   "metadata": {},
   "outputs": [],
   "source": [
    "import numpy as np\n",
    "import os \n",
    "import sys\n",
    "from sklearn.ensemble import RandomForestClassifier\n",
    "from sklearn import metrics\n",
    "import importlib"
   ]
  },
  {
   "cell_type": "code",
   "execution_count": null,
   "metadata": {},
   "outputs": [],
   "source": [
    "util_path = 'C:/ASM/Dropbox/Developments/Jupyter/Eating/myutils' if 'C:' in os.getcwd() else './myutils'\n",
    "sys.path.append(util_path)\n",
    "import my_file_utils as mfileu\n",
    "import my_classification_utils as mcu\n",
    "#importlib.reload(mdu)"
   ]
  },
  {
   "cell_type": "code",
   "execution_count": null,
   "metadata": {},
   "outputs": [],
   "source": [
    "train_test = 'train'\n",
    "if 'C:' not in mfileu.get_path():    \n",
    "    train_test = sys.argv[1]\n",
    "    \n",
    "assert train_test in ['train', 'test_free', 'test_lab']"
   ]
  },
  {
   "cell_type": "code",
   "execution_count": null,
   "metadata": {},
   "outputs": [],
   "source": [
    "#process lab_features\n",
    "fs_lab = mfileu.read_file('features/features_step2', 'lab_features_steven_right.pkl')\n",
    "fs_free = mfileu.read_file('features/features_step2', 'free_features_steven_right.pkl')\n",
    "ssilvg_lab = mfileu.read_file('ssilvg/ssilvg_step2', 'lab_ssilvg_steven_right.pkl')\n",
    "ssilvg_free = mfileu.read_file('ssilvg/ssilvg_step2', 'free_ssilvg_steven_right.pkl')"
   ]
  },
  {
   "cell_type": "code",
   "execution_count": null,
   "metadata": {},
   "outputs": [],
   "source": [
    "features_lab_selected, ssil_lab_selected= np.empty((0, 32)), np.empty((0, 4))\n",
    "for subj in range(len(ssilvg_lab)):\n",
    "    for sess in range(len(ssilvg_lab[subj])):\n",
    "        ix = ssilvg_lab[subj][sess]\n",
    "        l = ix[:, 3]\n",
    "        v = ix[:, 4]\n",
    "        g = ix[:, 5]\n",
    "        cond = (l>=0) & (v>=1) & (g<=-2) & (g>=-10)\n",
    "        \n",
    "        ix = ix[cond, :4]\n",
    "        f = fs_lab[subj][sess][cond, 1:]\n",
    "        ssil_lab_selected =  np.concatenate((ssil_lab_selected, ix))\n",
    "        features_lab_selected = np.concatenate((features_lab_selected, f))\n",
    "\n",
    "cond = (ssil_lab_selected[:, -1]>=2)\n",
    "ssil_lab_selected[cond, -1] = 0\n",
    "assert len(features_lab_selected) == len(ssil_lab_selected)\n",
    "\n",
    "print(\"Lab selected fetures, ssil shape:\", features_lab_selected.shape, ssil_lab_selected.shape)\n",
    "\n",
    "l = ssil_lab_selected[:, -1]\n",
    "print(\"Lab gt Neg, Bite, sip:\", np.sum(l==0), np.sum(l==1), np.sum(l==2\n",
    "                                                                  ))"
   ]
  },
  {
   "cell_type": "code",
   "execution_count": null,
   "metadata": {},
   "outputs": [],
   "source": [
    "features_free_selected, ssil_free_selected= np.empty((0, 32)), np.empty((0, 4))\n",
    "for subj in range(len(ssilvg_free)):\n",
    "    for sess in range(len(ssilvg_free[subj])):\n",
    "        ix = ssilvg_free[subj][sess]\n",
    "        l = ix[:, 3]\n",
    "        v = ix[:, 4]\n",
    "        g = ix[:, 5]\n",
    "        cond = ((l==0) | (l==3)) & (v>=1) & (g<=-2) & (g>=-10)\n",
    "        \n",
    "        ix = ix[cond, :4]\n",
    "        f = fs_free[subj][sess][cond, 1:]\n",
    "        ssil_free_selected =  np.concatenate((ssil_free_selected, ix))\n",
    "        features_free_selected = np.concatenate((features_free_selected, f))\n",
    "\n",
    "cond = (ssil_free_selected[:, -1]==3)\n",
    "ssil_free_selected[cond, -1] = 0\n",
    "\n",
    "assert len(features_free_selected) == len(ssil_free_selected)        \n",
    "assert np.sum(ssil_free_selected[:, -1]) == 0\n",
    "\n",
    "print(\"Free selected fetures, ssil shape:\", features_free_selected.shape, ssil_free_selected.shape)"
   ]
  },
  {
   "cell_type": "code",
   "execution_count": null,
   "metadata": {},
   "outputs": [],
   "source": [
    "total = 0\n",
    "for subj in range(len(ssilvg_free)):\n",
    "    for sess in range(len(ssilvg_free[subj])):\n",
    "        total += len(ssilvg_free[subj][sess])\n",
    "print(\"Total original free: \", total)"
   ]
  },
  {
   "cell_type": "code",
   "execution_count": null,
   "metadata": {},
   "outputs": [],
   "source": [
    "def get_train_xy(subj):\n",
    "    \n",
    "    exclude_subj = -1 if subj>=5 else subj+2\n",
    "    cond = (ssil_lab_selected[:, 0]!=exclude_subj)    \n",
    "    xlab = features_lab_selected[cond, :]\n",
    "    ylab = ssil_lab_selected[cond, -1]\n",
    "    \n",
    "    cond = (ssil_free_selected[:, 0]!=subj)    \n",
    "    xfree = features_free_selected[cond, :]\n",
    "    yfree = ssil_free_selected[cond, -1]\n",
    "    \n",
    "    train_x = np.concatenate((xlab, xfree))\n",
    "    train_y = np.concatenate((ylab, yfree))\n",
    "    \n",
    "    assert len(train_x) == len(train_y)    \n",
    "    return train_x, train_y"
   ]
  },
  {
   "cell_type": "code",
   "execution_count": null,
   "metadata": {},
   "outputs": [],
   "source": [
    "if train_test=='train':\n",
    "    for subj in range(11):    \n",
    "        print(\"Train Subject: \", subj)\n",
    "        \n",
    "        train_x, train_y = get_train_xy(subj)                \n",
    "        print(\"Subj:\", subj, \", shapes:\", train_x.shape, train_y.shape, \"Neg, Bite, sip:\", np.sum(train_y==0), np.sum(train_y==1))\n",
    "\n",
    "        clf = RandomForestClassifier(n_estimators =100, random_state=0, n_jobs=-1, verbose=1)    \n",
    "        clf.fit(train_x, train_y)    \n",
    "        print(\"Training done!\")\n",
    "\n",
    "        mfileu.write_file('bite_models_rf/g2', 'subj_'+str(subj)+'.pkl', clf)\n",
    "        print(\"Model saved\")\n"
   ]
  },
  {
   "cell_type": "code",
   "execution_count": null,
   "metadata": {},
   "outputs": [],
   "source": [
    "if train_test=='test_free':       \n",
    "    print(\"Testing Free ..... \")    \n",
    "    ba = mfileu.read_file('data', 'free_data_steven_blank_array.pkl')\n",
    "    \n",
    "    for subj in range(11):        \n",
    "        clf = mfileu.read_file('bite_models_rf/g2', 'subj_'+str(subj)+'.pkl') \n",
    "        for sess in range(len(ssilvg_free[subj])):            \n",
    "            print(subj, sess)\n",
    "            test_x = fs_free[subj][sess][:, 1:]\n",
    "            proba = clf.predict_proba(test_x)\n",
    "            proba = np.array(proba)\n",
    "            proba = proba[:, 1].reshape((-1, 1))\n",
    "            \n",
    "            ix = ssilvg_free[subj][sess]\n",
    "            l = ix[:, 3]\n",
    "            v = ix[:, 4]\n",
    "            g = ix[:, 5]\n",
    "     \n",
    "            cond = (v>=1) & (g<=-3) & (g>=-10)\n",
    "            cond = np.logical_not(cond)\n",
    "            proba[cond, :] = 0\n",
    "            ssilp = np.concatenate((ix[:, :4], proba), axis=1)\n",
    "            ba[subj][sess] = ssilp\n",
    "        \n",
    "    mfileu.write_file('classification_results', 'free_ssilp_rf_g2.pkl', ba)\n",
    "    \n",
    "    "
   ]
  },
  {
   "cell_type": "code",
   "execution_count": null,
   "metadata": {},
   "outputs": [],
   "source": []
  }
 ],
 "metadata": {
  "kernelspec": {
   "display_name": "Python 3",
   "language": "python",
   "name": "python3"
  },
  "language_info": {
   "codemirror_mode": {
    "name": "ipython",
    "version": 3
   },
   "file_extension": ".py",
   "mimetype": "text/x-python",
   "name": "python",
   "nbconvert_exporter": "python",
   "pygments_lexer": "ipython3",
   "version": "3.6.4"
  }
 },
 "nbformat": 4,
 "nbformat_minor": 2
}
