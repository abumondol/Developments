{
 "cells": [
  {
   "cell_type": "code",
   "execution_count": null,
   "metadata": {},
   "outputs": [],
   "source": [
    "import numpy as np\n",
    "import scipy as sp\n",
    "import os \n",
    "import sys\n",
    "import importlib\n",
    "from sklearn.ensemble import RandomForestClassifier"
   ]
  },
  {
   "cell_type": "code",
   "execution_count": null,
   "metadata": {},
   "outputs": [],
   "source": [
    "util_path = 'C:/ASM/Dropbox/Developments/Jupyter/Eating/myutils' if 'C:' in os.getcwd() else './myutils'\n",
    "sys.path.append(util_path)\n",
    "import my_file_utils as mfileu\n",
    "import my_steven_free_utils as msfreeu\n",
    "import my_classification_utils as mcu\n",
    "#importlib.reload(mdu)"
   ]
  },
  {
   "cell_type": "code",
   "execution_count": null,
   "metadata": {},
   "outputs": [],
   "source": [
    "features_lab = mfileu.read_file('features', 'lab_features_steven_right.pkl')\n",
    "features_free = mfileu.read_file('features', 'free_features_steven_right.pkl')"
   ]
  },
  {
   "cell_type": "code",
   "execution_count": null,
   "metadata": {},
   "outputs": [],
   "source": [
    "########## Test Free Data for bite\n",
    "all_proba = {}\n",
    "for subj in range(len(features_free)):\n",
    "    for sess in range(len(features_free[subj])):\n",
    "        print(\"\\nTesting free subject, sess: \", subj, sess)\n",
    "        \n",
    "        if subj<5:\n",
    "            clf = mfileu.read_file('bite_models_RF', 'lab_'+str(subj+2)+'.pkl')\n",
    "        else:\n",
    "            clf = mfileu.read_file('bite_models_RF', 'lab_100.pkl')            \n",
    "        \n",
    "        proba = clf.predict_proba(features_free[subj][sess][:, 1:])\n",
    "        proba = np.array(proba)\n",
    "        ix = features_free[subj][sess][:, 0].reshape((-1, 1))\n",
    "        res = np.concatenate((ix, proba), axis=1)\n",
    "        all_proba[(subj, sess)] = res\n",
    "        \n",
    "mfileu.write_file('all_proba', 'all_proba_bite_free_RF.pkl', all_proba)"
   ]
  },
  {
   "cell_type": "code",
   "execution_count": null,
   "metadata": {},
   "outputs": [],
   "source": [
    "########Test Lab data for bite##########################\n",
    "all_proba = {}\n",
    "for subj in range(len(features_lab)):    \n",
    "    for sess in range(len(features_lab[subj])):\n",
    "        print(\"\\nTesting lab subject, sess: \", subj, sess)\n",
    "        \n",
    "        clf = mfileu.read_file('bite_models_RF', 'lab_'+str(subj)+'.pkl')\n",
    "        proba = clf.predict_proba(features_lab[subj][sess][:, 1:])\n",
    "        proba = np.array(proba)        \n",
    "        ix = features_lab[subj][sess][:, 0].reshape((-1, 1))        \n",
    "        res = np.concatenate((ix, proba), axis=1)\n",
    "        all_proba[(subj, sess)] = res\n",
    "            \n",
    "mfileu.write_file('all_proba', 'all_proba_bite_lab_RF.pkl', all_proba)        "
   ]
  }
 ],
 "metadata": {
  "kernelspec": {
   "display_name": "Python 3",
   "language": "python",
   "name": "python3"
  },
  "language_info": {
   "codemirror_mode": {
    "name": "ipython",
    "version": 3
   },
   "file_extension": ".py",
   "mimetype": "text/x-python",
   "name": "python",
   "nbconvert_exporter": "python",
   "pygments_lexer": "ipython3",
   "version": "3.6.4"
  }
 },
 "nbformat": 4,
 "nbformat_minor": 2
}
