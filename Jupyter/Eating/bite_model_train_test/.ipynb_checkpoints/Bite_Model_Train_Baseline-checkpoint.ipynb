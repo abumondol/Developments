{
 "cells": [
  {
   "cell_type": "code",
   "execution_count": null,
   "metadata": {},
   "outputs": [],
   "source": [
    "import numpy as np\n",
    "import os \n",
    "import sys\n",
    "from sklearn.ensemble import RandomForestClassifier\n",
    "from sklearn import metrics\n",
    "import importlib"
   ]
  },
  {
   "cell_type": "code",
   "execution_count": null,
   "metadata": {},
   "outputs": [],
   "source": [
    "util_path = 'C:/ASM/Dropbox/Developments/Jupyter/Eating/myutils' if 'C:' in os.getcwd() else './myutils'\n",
    "sys.path.append(util_path)\n",
    "import my_file_utils as mfileu\n",
    "import my_classification_utils as mcu\n",
    "#importlib.reload(mdu)"
   ]
  },
  {
   "cell_type": "code",
   "execution_count": null,
   "metadata": {},
   "outputs": [],
   "source": [
    "step = 2\n",
    "source = 'steven'\n",
    "assert source in ['steven', 'combo']\n",
    "fs = mfileu.read_file('features/features_step'+str(step), 'lab_features_{}_right.pkl'.format(source))\n",
    "ssilvg = mfileu.read_file('ssilvg/ssilvg_step'+str(step), 'lab_ssilvg_{}_right.pkl'.format(source))\n",
    "print(\" =================== Data source: \", source, \", step: \", step, \", Len:\", len(fs), len(ssilvg))"
   ]
  },
  {
   "cell_type": "code",
   "execution_count": null,
   "metadata": {},
   "outputs": [],
   "source": [
    "def get_lopo_train_features_labels(exclude_subj):    \n",
    "    train_x, train_y, var_gx = [], [], []\n",
    "    subj_count = len(fs)\n",
    "    \n",
    "    for subj in range(subj_count):        \n",
    "        if subj==exclude_subj:\n",
    "            continue\n",
    "        for sess in range(len(fs[subj])):             \n",
    "            f = fs[subj][sess][:, 1:]            \n",
    "            l = ssilvg[subj][sess][:, 3]\n",
    "            v_gx = ssilvg[subj][sess][:, 4:5]            \n",
    "            assert len(f)==len(l)\n",
    "            \n",
    "            if len(train_x)==0:\n",
    "                train_x, train_y, var_gx = f, l, v_gx\n",
    "            else:\n",
    "                train_x, train_y, var_gx =  np.concatenate((train_x, f)), np.concatenate((train_y, l)),  np.concatenate((var_gx, v_gx)) \n",
    "    \n",
    "    assert len(train_x) == len(train_y) == len(var_gx)\n",
    "    train_y = train_y.astype(int)\n",
    "    return train_x, train_y, var_gx\n",
    "    "
   ]
  },
  {
   "cell_type": "code",
   "execution_count": null,
   "metadata": {},
   "outputs": [],
   "source": [
    "\n",
    "for subj in [0, 1, 2, 3, 4, 5, 6, 100]:\n",
    "    #subj = int(sys.argv[1])\n",
    "    print(\"Train Subject: \", subj)\n",
    "        \n",
    "    train_x, train_y, var_gx = get_lopo_train_features_labels(exclude_subj=subj)\n",
    "    print(\"Subj:\", subj, \", shapes:\", train_x.shape, train_y.shape, \"X, Neg, Bite, sip:\",  np.sum(train_y==-1), np.sum(train_y==0), np.sum(train_y==1), np.sum(train_y==2))\n",
    "\n",
    "    #v, gx = var_gx[:, 0], var_gx[:, 1]\n",
    "    #cond = (v>=1) & (v<=25) & (gx<0)\n",
    "    #train_x, train_y = train_x[cond], train_y[cond]\n",
    "    #print(\"Subj:\", subj, \", shapes:\", train_x.shape, train_y.shape, \"X, Neg, Bite, sip:\", np.sum(train_y==-1), np.sum(train_y==0), np.sum(train_y==1), np.sum(train_y==2))\n",
    "        \n",
    "    train_y[train_y>=2] = 0\n",
    "    train_y[train_y<0] = 0\n",
    "    print(\"Subj:\", subj, \", shapes:\", train_x.shape, train_y.shape, \"X, Neg, Bite, sip:\", np.sum(train_y==-1), np.sum(train_y==0), np.sum(train_y==1), np.sum(train_y==2))\n",
    "\n",
    "    clf = RandomForestClassifier(n_estimators =100, random_state=0, n_jobs=-1, verbose=1)    \n",
    "    clf.fit(train_x, train_y)    \n",
    "    print(\"Training done!\")\n",
    "\n",
    "    mfileu.write_file('bite_models_rf/step'+str(step), 'lab_'+str(subj)+'.pkl', clf)\n",
    "    print(\"Model saved\")\n"
   ]
  },
  {
   "cell_type": "code",
   "execution_count": null,
   "metadata": {},
   "outputs": [],
   "source": []
  },
  {
   "cell_type": "code",
   "execution_count": null,
   "metadata": {},
   "outputs": [],
   "source": []
  }
 ],
 "metadata": {
  "kernelspec": {
   "display_name": "Python 3",
   "language": "python",
   "name": "python3"
  },
  "language_info": {
   "codemirror_mode": {
    "name": "ipython",
    "version": 3
   },
   "file_extension": ".py",
   "mimetype": "text/x-python",
   "name": "python",
   "nbconvert_exporter": "python",
   "pygments_lexer": "ipython3",
   "version": "3.6.4"
  }
 },
 "nbformat": 4,
 "nbformat_minor": 2
}
