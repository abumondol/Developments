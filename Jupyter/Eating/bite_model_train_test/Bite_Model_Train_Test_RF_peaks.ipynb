{
 "cells": [
  {
   "cell_type": "code",
   "execution_count": null,
   "metadata": {},
   "outputs": [],
   "source": [
    "import numpy as np\n",
    "import os \n",
    "import sys\n",
    "from sklearn.ensemble import RandomForestClassifier\n",
    "from sklearn import metrics\n",
    "import importlib"
   ]
  },
  {
   "cell_type": "code",
   "execution_count": null,
   "metadata": {},
   "outputs": [],
   "source": [
    "util_path = 'C:/ASM/Dropbox/Developments/Jupyter/Eating/myutils' if 'C:' in os.getcwd() else './myutils'\n",
    "sys.path.append(util_path)\n",
    "import my_file_utils as mfileu\n",
    "import my_classification_utils as mcu\n",
    "#importlib.reload(mdu)"
   ]
  },
  {
   "cell_type": "code",
   "execution_count": null,
   "metadata": {},
   "outputs": [],
   "source": [
    "train_test = 'train'\n",
    "if 'C:' not in mfileu.get_path():    \n",
    "    train_test = sys.argv[1]\n",
    "    \n",
    "assert train_test in ['train', 'test_free', 'test_lab']"
   ]
  },
  {
   "cell_type": "code",
   "execution_count": null,
   "metadata": {},
   "outputs": [],
   "source": [
    "#process lab_features\n",
    "fs_lab = mfileu.read_file('features/features_all_samples', 'lab_features_steven_right.pkl')\n",
    "ssil_lab = mfileu.read_file('peak_ssil', 'lab_peak_ssil_steven_right.pkl')\n",
    "ssil_count = len(ssil_lab)\n",
    "features_lab = np.zeros((ssil_count, 32))\n",
    "for i in range(ssil_count):\n",
    "    subj, sess, ix = ssil_lab[i, 0], ssil_lab[i, 1], ssil_lab[i, 2]-40\n",
    "    features_lab[i, :] = fs_lab[subj][sess][ix, 1:]    "
   ]
  },
  {
   "cell_type": "code",
   "execution_count": null,
   "metadata": {},
   "outputs": [],
   "source": [
    "#process lab_features\n",
    "fs_free = mfileu.read_file('features/features_all_samples', 'free_features_steven_right.pkl')\n",
    "ssil_free = mfileu.read_file('peak_ssil', 'free_peak_ssil_steven_right.pkl')\n",
    "ssil_count = len(ssil_free)\n",
    "features_free = np.zeros((ssil_count, 32))\n",
    "for i in range(ssil_count):\n",
    "    subj, sess, ix = ssil_free[i, 0], ssil_free[i, 1], ssil_free[i, 2]-40\n",
    "    features_free[i, :] = fs_free[subj][sess][ix, 1:]    "
   ]
  },
  {
   "cell_type": "code",
   "execution_count": null,
   "metadata": {},
   "outputs": [],
   "source": [
    "if train_test=='train':\n",
    "    for subj in range(11):    \n",
    "        print(\"Train Subject: \", subj)\n",
    "\n",
    "        ### lab\n",
    "        exclude_subj = -1\n",
    "        if subj<5:\n",
    "            exclude_subj = subj+2        \n",
    "        elif subj>=200:\n",
    "            exclude_subj = subj-200        \n",
    "\n",
    "        cond = (ssil_lab[:, 0]!=exclude_subj) & (ssil_lab[:, -1]==1)\n",
    "        train_x_lab = features_lab[cond, :]\n",
    "        train_y_lab = ssil_lab[cond, -1]\n",
    "        print(\"lab data size: \", ssil_lab.shape, train_x_lab.shape, train_y_lab.shape)\n",
    "\n",
    "        ### Free\n",
    "        cond = (ssil_free[:, 0]!=subj) & (ssil_free[:, -1]==0)\n",
    "        train_x_free = features_free[cond, :]\n",
    "        train_y_free = ssil_free[cond, -1]\n",
    "        print(\"Free data size: \", ssil_free.shape, train_x_free.shape, train_y_free.shape)\n",
    "\n",
    "\n",
    "        train_x, train_y = np.concatenate((train_x_lab, train_x_free)), np.concatenate((train_y_lab, train_y_free))\n",
    "        print(\"Subj:\", subj, \", shapes:\", train_x.shape, train_y.shape, \"Neg, Bite, sip:\", np.sum(train_y==0), np.sum(train_y==1))\n",
    "\n",
    "        clf = RandomForestClassifier(n_estimators =100, random_state=0, n_jobs=-1, verbose=1)    \n",
    "        clf.fit(train_x, train_y)    \n",
    "        print(\"Training done!\")\n",
    "\n",
    "        mfileu.write_file('bite_models_rf', 'subj_'+str(subj)+'.pkl', clf)\n",
    "        print(\"Model saved\")\n"
   ]
  },
  {
   "cell_type": "code",
   "execution_count": null,
   "metadata": {},
   "outputs": [],
   "source": [
    "if train_test=='test_free':       \n",
    "    print(\"Testing Free ....., all ssil shape: \", ssil_free.shape)    \n",
    "    ba = mfileu.read_file('data', 'free_data_steven_blank_array.pkl')\n",
    "    \n",
    "    for subj in range(11):\n",
    "        cond = (ssil_free[:, 0]==subj)\n",
    "        ssil = ssil_free[cond, :]\n",
    "        test_x_free = features_free[cond, :]        \n",
    "        assert np.sum(ssil[:, 0]!=subj) == 0\n",
    "\n",
    "        l = ssil[:, -1]\n",
    "        print(\"\\n\\nSubj, Label summary:\", subj, ssil.shape, np.sum(l==0), np.sum(l==1), np.sum(l==2), np.sum(l==3))\n",
    "\n",
    "        clf = mfileu.read_file('bite_models_rf', 'subj_'+str(subj)+'.pkl')        \n",
    "        proba = clf.predict_proba(test_x_free)\n",
    "        proba = np.array(proba)\n",
    "        proba = proba[:, 1].reshape((-1, 1))\n",
    "        ssilp = np.concatenate((ssil, proba), axis=1)\n",
    "        \n",
    "        for sess in range(len(fs_free[subj])):\n",
    "            cond = (ssilp[:, 1]==sess)\n",
    "            ba[subj][sess] = ssilp[cond, :]\n",
    "            assert np.sum(ba[subj][sess][:, 0]!=subj) == 0\n",
    "            assert np.sum(ba[subj][sess][:, 1]!=sess) == 0\n",
    "            \n",
    "            ix = ssilp[cond, 2]\n",
    "            assert np.sum((ix[1:]-ix[:-1])<=0)==0\n",
    "            \n",
    "            print(\"Subj, sess, ssilp shape: \", subj, sess, ba[subj][sess].shape)            \n",
    "\n",
    "    mfileu.write_file('classification_results', 'free_ssilp_rf.pkl', ba)\n",
    "    \n",
    "    "
   ]
  },
  {
   "cell_type": "code",
   "execution_count": null,
   "metadata": {},
   "outputs": [],
   "source": []
  }
 ],
 "metadata": {
  "kernelspec": {
   "display_name": "Python 3",
   "language": "python",
   "name": "python3"
  },
  "language_info": {
   "codemirror_mode": {
    "name": "ipython",
    "version": 3
   },
   "file_extension": ".py",
   "mimetype": "text/x-python",
   "name": "python",
   "nbconvert_exporter": "python",
   "pygments_lexer": "ipython3",
   "version": "3.6.4"
  }
 },
 "nbformat": 4,
 "nbformat_minor": 2
}
