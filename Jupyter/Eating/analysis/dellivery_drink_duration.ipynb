{
 "cells": [
  {
   "cell_type": "code",
   "execution_count": 1,
   "metadata": {},
   "outputs": [],
   "source": [
    "import numpy as np\n",
    "import pickle\n",
    "import os\n",
    "import sys"
   ]
  },
  {
   "cell_type": "code",
   "execution_count": 2,
   "metadata": {},
   "outputs": [],
   "source": [
    "util_path = 'C:/ASM/Dropbox/Developments/Jupyter/Eating/myutils' if 'C:' in os.getcwd() else './myutils'\n",
    "sys.path.append(util_path)\n",
    "import my_file_utils as mfu\n",
    "import my_data_process_utils as mdpu"
   ]
  },
  {
   "cell_type": "code",
   "execution_count": 3,
   "metadata": {},
   "outputs": [],
   "source": [
    "def process_annot_line(line):\n",
    "    line = line.replace(\"DR\",\"11\").replace(\"DL\",\"12\")\n",
    "    line = line.replace(\"PR\",\"21\").replace(\"PL\",\"22\")    \n",
    "    line = line.replace(\"NR\",\"31\").replace(\"NL\",\"32\")\n",
    "    line = line.replace(\"I\",\"1\").replace(\"Q\",\"2\")\n",
    "    line = line.replace(\"C\",\"-1\").replace(\"S\",\"-2\").replace(\"M\",\"-3\").replace('X', '-100')    \n",
    "    \n",
    "    v = line.rstrip().split(',')    \n",
    "    v = [float(x) for x in v]\n",
    "    return v"
   ]
  },
  {
   "cell_type": "code",
   "execution_count": 4,
   "metadata": {},
   "outputs": [],
   "source": [
    "def process_bite_annots(filepath):\n",
    "    a = open(filepath).readlines()\n",
    "    a = [process_annot_line(line) for line in a]\n",
    "    a = np.array(a)\n",
    "    drink_duration = a[a[:, 2]==2, 1]\n",
    "    delivery_duration = a[(a[:, 2]==11)|(a[:, 2]==12), 1]\n",
    "    \n",
    "    return drink_duration, delivery_duration\n",
    "    "
   ]
  },
  {
   "cell_type": "code",
   "execution_count": 7,
   "metadata": {},
   "outputs": [
    {
     "name": "stdout",
     "output_type": "stream",
     "text": [
      "Subject, Sess  0 0 ; 1.1814636224023694 2.635 ; 0.8926622757054755 3.13464506173\n",
      "Subject, Sess  0 1 ; 1.3173107259625847 3.0995 ; 1.2941414382160625 4.8\n",
      "Subject, Sess  1 0 ; 1.6682000000000001 2.35 ; 0.8677961743367619 2.53627021212\n",
      "Subject, Sess  2 0 ; 1.8193749999999997 3.235 ; 0.9531606236663387 1.9495\n",
      "Subject, Sess  2 1 ; 1.4793055555555554 3.3655 ; 1.0807532335336667 2.93050725106\n",
      "Subject, Sess  3 0 ; 1.875933776073793 2.967 ; 0.7541742229256891 2.016\n",
      "Subject, Sess  3 1 ; 3.2079253156800007 6.101 ; 1.0006821288866867 2.534\n",
      "Subject, Sess  4 0 ; 2.5326694893589616 13.25 ; 1.1287513125812807 3.733\n",
      "Subject, Sess  4 1 ; 2.383918306637906 8.1465 ; 1.0645529302599122 5.465\n",
      "Subject, Sess  5 0 ; 2.812791386986111 7.7495 ; 0.8166085864301817 3.73910997253\n",
      "Subject, Sess  5 1 ; 3.2861403508768423 7.01666666667 ; 0.9528747830690532 2.8\n",
      "Subject, Sess  6 0 ; 3.1954905587308335 5.983 ; 1.370461888613869 4.40461329523\n",
      "Subject, Sess  6 1 ; 2.7824 3.7 ; 1.3811776945507754 3.065\n"
     ]
    }
   ],
   "source": [
    "#read_data_steven_lab\n",
    "\n",
    "path = 'C:/ASM/PublicData/eating_steventech/lab'\n",
    "sampling_rate = 16 #Hz\n",
    "data = []\n",
    "\n",
    "drink, delivery = np.empty((0, )), np.empty((0, ))\n",
    "for subj in range(7):\n",
    "    dsubject=[]\n",
    "    for sess in range(2):\n",
    "        if subj==1 and sess==1:\n",
    "            continue\n",
    "\n",
    "                \n",
    "        filepath= path + \"/0\" + str(subj) + \"/000\" + str(sess) + \"/annot_events.csv\";\n",
    "        drk, deliv = process_bite_annots(filepath)\n",
    "        drink = np.concatenate((drink, drk))\n",
    "        delivery= np.concatenate((delivery, deliv))\n",
    "        print(\"Subject, Sess \", subj, sess, \";\", np.mean(drk), np.max(drk), \";\", np.mean(deliv), np.max(deliv),)\n",
    "        "
   ]
  },
  {
   "cell_type": "code",
   "execution_count": 11,
   "metadata": {},
   "outputs": [
    {
     "data": {
      "image/png": "[encoded data removed]",
      "text/plain": [
       "<matplotlib.figure.Figure at 0x2839f7f45c0>"
      ]
     },
     "metadata": {},
     "output_type": "display_data"
    },
    {
     "data": {
      "image/png": "[encoded data removed]",
      "text/plain": [
       "<matplotlib.figure.Figure at 0x2839f4c29e8>"
      ]
     },
     "metadata": {},
     "output_type": "display_data"
    }
   ],
   "source": [
    "import matplotlib.pyplot as plt\n",
    "%matplotlib inline\n",
    "plt.hist(drink, bins=50)\n",
    "plt.show()\n",
    "plt.hist(delivery, bins=50)\n",
    "plt.show()"
   ]
  },
  {
   "cell_type": "code",
   "execution_count": null,
   "metadata": {},
   "outputs": [],
   "source": []
  }
 ],
 "metadata": {
  "kernelspec": {
   "display_name": "Python 3",
   "language": "python",
   "name": "python3"
  },
  "language_info": {
   "codemirror_mode": {
    "name": "ipython",
    "version": 3
   },
   "file_extension": ".py",
   "mimetype": "text/x-python",
   "name": "python",
   "nbconvert_exporter": "python",
   "pygments_lexer": "ipython3",
   "version": "3.6.4"
  }
 },
 "nbformat": 4,
 "nbformat_minor": 2
}
