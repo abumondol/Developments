{
 "cells": [
  {
   "cell_type": "code",
   "execution_count": 5,
   "metadata": {},
   "outputs": [],
   "source": [
    "import numpy as np\n",
    "import os\n",
    "import sys"
   ]
  },
  {
   "cell_type": "code",
   "execution_count": 7,
   "metadata": {},
   "outputs": [],
   "source": [
    "util_path = 'C:/ASM/Dropbox/Developments/Jupyter/Eating/myutils' if 'C:' in os.getcwd() else './myutils'\n",
    "sys.path.append(util_path)\n",
    "import my_file_utils as mfileu\n",
    "import my_steven_lab_utils as mslabu\n",
    "#importlib.reload(mdu)"
   ]
  },
  {
   "cell_type": "code",
   "execution_count": 8,
   "metadata": {},
   "outputs": [],
   "source": [
    "a = mfileu.read_file('data', 'free_data_steven_annots.pkl')"
   ]
  },
  {
   "cell_type": "code",
   "execution_count": 9,
   "metadata": {},
   "outputs": [],
   "source": [
    "meals = np.zeros((0, 3))\n",
    "for subj in range(len(a)):\n",
    "    for sess in range(len(a[subj])):\n",
    "        meals = np.concatenate((meals, a[subj][sess]))"
   ]
  },
  {
   "cell_type": "code",
   "execution_count": 14,
   "metadata": {},
   "outputs": [
    {
     "name": "stdout",
     "output_type": "stream",
     "text": [
      "(110, 3)\n",
      "[2.396875   2.6        2.62291667 3.66041667 4.315625   5.06041667\n",
      " 5.471875   6.19166667 6.66354167 8.54375   ]\n"
     ]
    }
   ],
   "source": [
    "print(meals.shape)\n",
    "\n",
    "m = meals[meals[:, 2]==1, :]\n",
    "d = (m[:, 1] - m[:, 0]+1)/(16*60)\n",
    "d = np.sort(d)\n",
    "print(d[:10])"
   ]
  },
  {
   "cell_type": "code",
   "execution_count": null,
   "metadata": {},
   "outputs": [],
   "source": [
    "print(meals.shape)\n",
    "m = meals[meals[:, 2]==2, :]\n",
    "d = (m[:, 1] - m[:, 0]+1)/(16*60)\n",
    "d = np.sort(d)\n",
    "print(d[:10])"
   ]
  }
 ],
 "metadata": {
  "kernelspec": {
   "display_name": "Python 3",
   "language": "python",
   "name": "python3"
  },
  "language_info": {
   "codemirror_mode": {
    "name": "ipython",
    "version": 3
   },
   "file_extension": ".py",
   "mimetype": "text/x-python",
   "name": "python",
   "nbconvert_exporter": "python",
   "pygments_lexer": "ipython3",
   "version": "3.6.4"
  }
 },
 "nbformat": 4,
 "nbformat_minor": 2
}
