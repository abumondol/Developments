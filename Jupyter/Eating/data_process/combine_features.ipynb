{
 "cells": [
  {
   "cell_type": "code",
   "execution_count": 2,
   "metadata": {},
   "outputs": [],
   "source": [
    "import numpy as np\n",
    "import os \n",
    "import sys"
   ]
  },
  {
   "cell_type": "code",
   "execution_count": 3,
   "metadata": {},
   "outputs": [],
   "source": [
    "util_path = 'C:/ASM/Dropbox/Developments/Jupyter/Eating/myutils' if 'C:' in os.getcwd() else './myutils'\n",
    "sys.path.append(util_path)\n",
    "import my_file_utils as mfileu"
   ]
  },
  {
   "cell_type": "markdown",
   "metadata": {},
   "source": [
    "dct = mfileu.read_file('ssilv', 'lab_ssilv_dict_uva_right.pkl')\n",
    "ba = mfileu.read_file('data', 'lab_data_uva_blank_array.pkl')\n",
    "\n",
    "for subj in range(len(ba)):    \n",
    "    for sess in range(len(ba[subj])):        \n",
    "        ba[subj][sess] = dct[(subj,)]\n",
    "\n",
    "mfileu.write_file('ssilv', 'lab_ssilv_uva_right.pkl', res)        "
   ]
  },
  {
   "cell_type": "code",
   "execution_count": null,
   "metadata": {},
   "outputs": [],
   "source": [
    "ba = mfileu.read_file('data', 'free_data_steven_blank_array.pkl')\n",
    "for subj in range(len(ba)):\n",
    "    for sess in range(len(ba[subj])):\n",
    "        print(subj, sess)\n",
    "        ba[subj][sess] = mfileu.read_file('features/free', 'free_features_'+str(subj)+'_'+str(sess)+'.pkl')\n",
    "    \n",
    "mfileu.write_file('features', 'free_features_steven_right.pkl', ba)\n"
   ]
  },
  {
   "cell_type": "code",
   "execution_count": 6,
   "metadata": {},
   "outputs": [
    {
     "name": "stdout",
     "output_type": "stream",
     "text": [
      "320\n",
      "3876\n"
     ]
    }
   ],
   "source": [
    "ssilv = mfileu.read_file('ssilv', 'lab_ssilv_steven_right.pkl')\n",
    "a = mfileu.read_file('data', 'lab_annots_steven_right.pkl')\n",
    "a =a[0][1]\n",
    "print(np.sum(a[:, 2]==1))\n",
    "\n",
    "gt = ssilv[0][0][:, 3]\n",
    "print(np.sum(gt==1))"
   ]
  },
  {
   "cell_type": "code",
   "execution_count": null,
   "metadata": {},
   "outputs": [],
   "source": []
  }
 ],
 "metadata": {
  "kernelspec": {
   "display_name": "Python 3",
   "language": "python",
   "name": "python3"
  },
  "language_info": {
   "codemirror_mode": {
    "name": "ipython",
    "version": 3
   },
   "file_extension": ".py",
   "mimetype": "text/x-python",
   "name": "python",
   "nbconvert_exporter": "python",
   "pygments_lexer": "ipython3",
   "version": "3.6.4"
  }
 },
 "nbformat": 4,
 "nbformat_minor": 2
}
