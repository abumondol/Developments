{
 "cells": [
  {
   "cell_type": "code",
   "execution_count": 1,
   "metadata": {},
   "outputs": [],
   "source": [
    "import numpy as np\n",
    "import pickle\n",
    "import os\n",
    "import sys"
   ]
  },
  {
   "cell_type": "code",
   "execution_count": 2,
   "metadata": {},
   "outputs": [],
   "source": [
    "util_path = 'C:/ASM/Dropbox/Developments/Jupyter/Eating/myutils' if 'C:' in os.getcwd() else './myutils'\n",
    "sys.path.append(util_path)\n",
    "import my_file_utils as mfileu"
   ]
  },
  {
   "cell_type": "code",
   "execution_count": 3,
   "metadata": {},
   "outputs": [],
   "source": [
    "v_min, v_max = 1, 25\n",
    "g_min, g_max = -10, -3\n",
    "min_distance = 2*16\n",
    "win_size = 10*16\n",
    "half_win_size = win_size//2"
   ]
  },
  {
   "cell_type": "code",
   "execution_count": 4,
   "metadata": {},
   "outputs": [],
   "source": [
    "lab_free = 'lab'\n",
    "ds = mfileu.read_file('data', '{}_data_steven_right_smoothed.pkl'.format(lab_free))\n",
    "if lab_free=='lab':\n",
    "    annots = mfileu.read_file('data', '{}_annots_steven_right.pkl'.format(lab_free))\n",
    "else:\n",
    "    annots = mfileu.read_file('data', '{}_annots_steven_processed.pkl'.format(lab_free))"
   ]
  },
  {
   "cell_type": "code",
   "execution_count": 5,
   "metadata": {},
   "outputs": [],
   "source": [
    "def find_labels_lab(gt, ix):\n",
    "    cond = (gt[:, 2]==1) #bites\n",
    "    bites = gt[cond, 0] #bite indices\n",
    "    cond = (gt[:, 2]==2) #sips only\n",
    "    sips = gt[cond, 0:2] #sip indices\n",
    "    \n",
    "    bite_count, sip_count, ix_count = len(bites), len(sips), len(ix)\n",
    "    \n",
    "    labels = np.zeros((ix_count, ))\n",
    "    for i in range(bite_count):\n",
    "        ix_left, ix_right = bites[i]-32, bites[i]+32\n",
    "        cond = (ix>=ix_left) & (ix<=ix_right)\n",
    "        labels[cond] = 1\n",
    "        \n",
    "    for i in range(sip_count):\n",
    "        ix_left, ix_right = sips[i, 0], sips[i, 1]\n",
    "        cond = (ix>=ix_left) & (ix<=ix_right)\n",
    "        labels[cond] = 2\n",
    "    \n",
    "    return labels"
   ]
  },
  {
   "cell_type": "code",
   "execution_count": 6,
   "metadata": {},
   "outputs": [],
   "source": [
    "def find_labels_free(gt, ix):       \n",
    "    gt_count, ix_count = len(gt), len(ix)\n",
    "    \n",
    "    labels=np.zeros((ix_count,))    \n",
    "    for i in range(gt_count):                            \n",
    "        ix1 = a[i, 0]\n",
    "        ix2 = a[i, 1]\n",
    "        cond = (ix>=ix1) & (ix<=ix2)\n",
    "        labels[cond] = a[i, 2]\n",
    "    \n",
    "    return labels.astype(int)"
   ]
  },
  {
   "cell_type": "code",
   "execution_count": 7,
   "metadata": {},
   "outputs": [],
   "source": [
    "def find_peaks(g):        \n",
    "    gl, gm, gr = g[:-2], g[1:-1],  g[2:]    \n",
    "    cond1 = (gm<gl) & (gm<gr) \n",
    "    cond2 = (gm>=g_min) & (gm<=g_max)\n",
    "    cond = cond1 & cond2\n",
    "    ix = (np.array(np.nonzero(cond)) + 1).reshape((-1, ))        \n",
    "    count = len(ix)\n",
    "    \n",
    "    ############ Select witn min g within 2 second\n",
    "    flags = np.ones((count, ))\n",
    "    for i in range(count):\n",
    "        j = i+1\n",
    "        while j<count and ix[j]-ix[i]<=min_distance:\n",
    "            if g[ix[j]] < g[ix[i]]:\n",
    "                flags[i] = 0\n",
    "                break\n",
    "            j+=1\n",
    "    \n",
    "        if flags[i]==1:\n",
    "            j = i-1\n",
    "            while j>=0 and ix[i]-ix[j]<=min_distance:\n",
    "                if g[ix[j]] < g[ix[i]]:\n",
    "                    flags[i] = 0\n",
    "                    break\n",
    "                j-=1\n",
    "            \n",
    "\n",
    "    ix = ix[flags==1]    \n",
    "    \n",
    "    ##### REMOVE NEAR bOUNDARY #########\n",
    "    count = len(ix)\n",
    "    i = 0\n",
    "    while i<count and ix[i]<win_size//2:\n",
    "        i+=1\n",
    "        \n",
    "    j = count-1\n",
    "    boundary = len(g) -1 - win_size//2\n",
    "    while j>=0 and ix[j]>boundary:\n",
    "        j-=1\n",
    "    \n",
    "    #print(i,j, ix[i], ix[j])\n",
    "    ix = ix[i:j+1]\n",
    "    \n",
    "    \n",
    "    return ix"
   ]
  },
  {
   "cell_type": "code",
   "execution_count": 8,
   "metadata": {},
   "outputs": [
    {
     "name": "stdout",
     "output_type": "stream",
     "text": [
      "\n",
      " 0 0 363986 1716 1137\n"
     ]
    },
    {
     "ename": "NameError",
     "evalue": "name 'biye_count' is not defined",
     "output_type": "error",
     "traceback": [
      "\u001b[1;31m---------------------------------------------------------------------------\u001b[0m",
      "\u001b[1;31mNameError\u001b[0m                                 Traceback (most recent call last)",
      "\u001b[1;32m<ipython-input-8-681b60f8888e>\u001b[0m in \u001b[0;36m<module>\u001b[1;34m()\u001b[0m\n\u001b[0;32m     18\u001b[0m \u001b[1;33m\u001b[0m\u001b[0m\n\u001b[0;32m     19\u001b[0m         \u001b[1;32mif\u001b[0m \u001b[0mlab_free\u001b[0m\u001b[1;33m==\u001b[0m\u001b[1;34m'lab'\u001b[0m\u001b[1;33m:\u001b[0m\u001b[1;33m\u001b[0m\u001b[0m\n\u001b[1;32m---> 20\u001b[1;33m             \u001b[0mlabels\u001b[0m \u001b[1;33m=\u001b[0m \u001b[0mfind_labels_lab\u001b[0m\u001b[1;33m(\u001b[0m\u001b[0ma\u001b[0m\u001b[1;33m,\u001b[0m \u001b[0mix\u001b[0m\u001b[1;33m)\u001b[0m\u001b[1;33m\u001b[0m\u001b[0m\n\u001b[0m\u001b[0;32m     21\u001b[0m             \u001b[0mprint\u001b[0m\u001b[1;33m(\u001b[0m\u001b[1;34m\"Lab labels: \"\u001b[0m\u001b[1;33m,\u001b[0m \u001b[0mlen\u001b[0m\u001b[1;33m(\u001b[0m\u001b[0mlabels\u001b[0m\u001b[1;33m)\u001b[0m\u001b[1;33m,\u001b[0m \u001b[0mnp\u001b[0m\u001b[1;33m.\u001b[0m\u001b[0msum\u001b[0m\u001b[1;33m(\u001b[0m\u001b[0mlabels\u001b[0m\u001b[1;33m==\u001b[0m\u001b[1;36m0\u001b[0m\u001b[1;33m)\u001b[0m\u001b[1;33m,\u001b[0m \u001b[0mnp\u001b[0m\u001b[1;33m.\u001b[0m\u001b[0msum\u001b[0m\u001b[1;33m(\u001b[0m\u001b[0mlabels\u001b[0m\u001b[1;33m==\u001b[0m\u001b[1;36m1\u001b[0m\u001b[1;33m)\u001b[0m\u001b[1;33m)\u001b[0m\u001b[1;33m\u001b[0m\u001b[0m\n\u001b[0;32m     22\u001b[0m         \u001b[1;32melse\u001b[0m\u001b[1;33m:\u001b[0m\u001b[1;33m\u001b[0m\u001b[0m\n",
      "\u001b[1;32m<ipython-input-5-b7e01b5306c8>\u001b[0m in \u001b[0;36mfind_labels_lab\u001b[1;34m(gt, ix)\u001b[0m\n\u001b[0;32m      8\u001b[0m \u001b[1;33m\u001b[0m\u001b[0m\n\u001b[0;32m      9\u001b[0m     \u001b[0mlabels\u001b[0m \u001b[1;33m=\u001b[0m \u001b[0mnp\u001b[0m\u001b[1;33m.\u001b[0m\u001b[0mzeros\u001b[0m\u001b[1;33m(\u001b[0m\u001b[1;33m(\u001b[0m\u001b[0mix_count\u001b[0m\u001b[1;33m,\u001b[0m \u001b[1;33m)\u001b[0m\u001b[1;33m)\u001b[0m\u001b[1;33m\u001b[0m\u001b[0m\n\u001b[1;32m---> 10\u001b[1;33m     \u001b[1;32mfor\u001b[0m \u001b[0mi\u001b[0m \u001b[1;32min\u001b[0m \u001b[0mrange\u001b[0m\u001b[1;33m(\u001b[0m\u001b[0mbiye_count\u001b[0m\u001b[1;33m)\u001b[0m\u001b[1;33m:\u001b[0m\u001b[1;33m\u001b[0m\u001b[0m\n\u001b[0m\u001b[0;32m     11\u001b[0m         \u001b[0mix_left\u001b[0m\u001b[1;33m,\u001b[0m \u001b[0mix_right\u001b[0m \u001b[1;33m=\u001b[0m \u001b[0mbites\u001b[0m\u001b[1;33m[\u001b[0m\u001b[0mi\u001b[0m\u001b[1;33m]\u001b[0m\u001b[1;33m-\u001b[0m\u001b[1;36m32\u001b[0m\u001b[1;33m,\u001b[0m \u001b[0mbites\u001b[0m\u001b[1;33m[\u001b[0m\u001b[0mi\u001b[0m\u001b[1;33m]\u001b[0m\u001b[1;33m+\u001b[0m\u001b[1;36m32\u001b[0m\u001b[1;33m\u001b[0m\u001b[0m\n\u001b[0;32m     12\u001b[0m         \u001b[0mcond\u001b[0m \u001b[1;33m=\u001b[0m \u001b[1;33m(\u001b[0m\u001b[0mix\u001b[0m\u001b[1;33m>=\u001b[0m\u001b[0mix_left\u001b[0m\u001b[1;33m)\u001b[0m \u001b[1;33m&\u001b[0m \u001b[1;33m(\u001b[0m\u001b[0mix\u001b[0m\u001b[1;33m<=\u001b[0m\u001b[0mix_right\u001b[0m\u001b[1;33m)\u001b[0m\u001b[1;33m\u001b[0m\u001b[0m\n",
      "\u001b[1;31mNameError\u001b[0m: name 'biye_count' is not defined"
     ]
    }
   ],
   "source": [
    "res = []\n",
    "for subj in range(len(ds)):\n",
    "    for sess in range(len(ds[subj])):\n",
    "        d = ds[subj][sess]\n",
    "        a = annots[subj][sess]\n",
    "        #print(a)\n",
    "        \n",
    "        ix = find_peaks(d[:, 1])\n",
    "        count = len(ix)\n",
    "        v = np.zeros((count, ))        \n",
    "        for i in range(count):\n",
    "            index = ix[i]\n",
    "            v[i] = np.sum(np.var(d[index-40:index+40, 1:4], axis=0))\n",
    "            \n",
    "        cond = (v>=v_min) & (v<=v_max)\n",
    "        ix = ix[cond]        \n",
    "        print(\"\\n\", subj, sess, d.shape[0], count, len(ix))\n",
    "        \n",
    "        if lab_free=='lab':\n",
    "            labels = find_labels_lab(a, ix)            \n",
    "            print(\"Lab labels: \", len(labels), np.sum(labels==0), np.sum(labels==1))\n",
    "        else:\n",
    "            labels = find_labels_free(a, ix)\n",
    "            print(\"Free labels:\", len(labels), np.sum(labels==0), np.sum(labels==1), np.sum(labels==2), np.sum(labels==3))\n",
    "        \n",
    "        count = len(ix)\n",
    "        r = np.zeros((count, 4))\n",
    "        r[:, 0] = subj\n",
    "        r[:, 1] = sess\n",
    "        r[:, 2] = ix\n",
    "        r[:, 3] = labels\n",
    "        \n",
    "        res = r if len(res)==0 else np.concatenate((res, r))\n",
    "        print(r.shape, res.shape)\n",
    "\n",
    "res = res.astype(int)"
   ]
  },
  {
   "cell_type": "code",
   "execution_count": null,
   "metadata": {},
   "outputs": [],
   "source": [
    "mfileu.write_file('peaks', '{}_ssil_steven_right.pkl'.format(lab_free), res)"
   ]
  },
  {
   "cell_type": "code",
   "execution_count": null,
   "metadata": {},
   "outputs": [],
   "source": [
    "print(res.shape, np.sum(res[:,-1]==0), np.sum(res[:,-1]==1), np.sum(res[:,-1]==2), np.sum(res[:,-1]==3))"
   ]
  },
  {
   "cell_type": "code",
   "execution_count": null,
   "metadata": {},
   "outputs": [],
   "source": []
  }
 ],
 "metadata": {
  "kernelspec": {
   "display_name": "Python 3",
   "language": "python",
   "name": "python3"
  },
  "language_info": {
   "codemirror_mode": {
    "name": "ipython",
    "version": 3
   },
   "file_extension": ".py",
   "mimetype": "text/x-python",
   "name": "python",
   "nbconvert_exporter": "python",
   "pygments_lexer": "ipython3",
   "version": "3.6.4"
  }
 },
 "nbformat": 4,
 "nbformat_minor": 2
}
