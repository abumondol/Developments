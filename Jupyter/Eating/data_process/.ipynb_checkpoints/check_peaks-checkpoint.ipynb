{
 "cells": [
  {
   "cell_type": "code",
   "execution_count": 1,
   "metadata": {},
   "outputs": [],
   "source": [
    "import numpy as np\n",
    "import scipy as sp\n",
    "import os \n",
    "import sys\n",
    "import matplotlib.pyplot as plt\n",
    "%matplotlib inline"
   ]
  },
  {
   "cell_type": "code",
   "execution_count": 2,
   "metadata": {},
   "outputs": [],
   "source": [
    "util_path = 'C:/ASM/Dropbox/Developments/Jupyter/Eating/myutils' if 'C:' in os.getcwd() else './myutils'\n",
    "sys.path.append(util_path)\n",
    "import my_file_utils as mfileu"
   ]
  },
  {
   "cell_type": "code",
   "execution_count": 3,
   "metadata": {},
   "outputs": [],
   "source": [
    "lab_free= 'lab'\n",
    "assert lab_free in ['lab', 'free']\n",
    "ds = mfileu.read_file('data', '{}_data_steven_right_smoothed.pkl'.format(lab_free))\n",
    "ssil = mfileu.read_file('peaks', '{}_ssil_steven_right.pkl'.format(lab_free))\n",
    "\n",
    "if lab_free=='lab':\n",
    "    annots = mfileu.read_file('data', '{}_annots_steven_right.pkl'.format(lab_free))\n",
    "else:\n",
    "    annots = mfileu.read_file('data', '{}_annots_steven_processed.pkl'.format(lab_free))"
   ]
  },
  {
   "cell_type": "code",
   "execution_count": 35,
   "metadata": {
    "scrolled": false
   },
   "outputs": [
    {
     "name": "stdout",
     "output_type": "stream",
     "text": [
      "[[832.          -5.98923   ]\n",
      " [832.0625      -5.99695406]\n",
      " [832.125       -6.02060625]\n",
      " [832.1875      -6.0614742 ]\n",
      " [832.25        -6.10208651]\n",
      " [832.3125      -6.11078736]\n",
      " [832.375       -6.0926524 ]\n",
      " [832.4375      -6.13455252]\n",
      " [832.5         -6.20799605]\n",
      " [832.5625      -6.21327463]\n",
      " [832.625       -6.20093226]\n",
      " [832.6875      -6.22561127]\n",
      " [832.75        -6.25082773]\n",
      " [832.8125      -6.24888544]\n",
      " [832.875       -6.26074628]\n",
      " [832.9375      -6.3087552 ]\n",
      " [833.          -6.31612747]\n",
      " [833.0625      -6.31976689]\n",
      " [833.125       -6.33396399]\n",
      " [833.1875      -6.34055335]\n",
      " [833.25        -6.33993041]\n",
      " [833.3125      -6.3775218 ]\n",
      " [833.375       -6.45683583]\n",
      " [833.4375      -6.55606908]\n",
      " [833.5         -6.65896336]\n",
      " [833.5625      -6.68578222]\n",
      " [833.625       -6.62253368]\n",
      " [833.6875      -6.50312405]\n",
      " [833.75        -6.36542556]\n",
      " [833.8125      -6.24743122]\n",
      " [833.875       -6.20616307]\n",
      " [833.9375      -6.219311  ]\n",
      " [834.          -6.20724928]\n",
      " [834.0625      -6.15527651]\n",
      " [834.125       -6.18129861]\n",
      " [834.1875      -6.37853742]\n",
      " [834.25        -6.38100601]\n",
      " [834.3125      -6.41891627]\n",
      " [834.375       -6.43525209]\n",
      " [834.4375      -6.44823748]\n",
      " [834.5         -6.46425158]\n",
      " [834.5625      -6.48676582]\n",
      " [834.625       -6.52066351]\n",
      " [834.6875      -6.55151318]\n",
      " [834.75        -6.57063052]\n",
      " [834.8125      -6.60046195]\n",
      " [834.875       -6.62242975]\n",
      " [834.9375      -6.64114576]]\n",
      "[[ 8966  8966     1     1     0]\n",
      " [11482 11482     1     1     0]\n",
      " [11965 11965     1     1     0]\n",
      " [12539 12581     2     1     0]\n",
      " [13051 13051     1     1     0]\n",
      " [13076 13076     1     1     0]\n",
      " [13096 13096     1     1     0]\n",
      " [13140 13140     1     3     0]\n",
      " [13229 13229     1     1     0]\n",
      " [13535 13535     1     3     0]\n",
      " [13625 13625     1     1     0]\n",
      " [13862 13862     1     3     0]\n",
      " [13912 13912     1     1     0]\n",
      " [14347 14375     2     1     0]\n",
      " [15227 15227     1     1     0]\n",
      " [15324 15324     1     1     0]\n",
      " [15500 15500     1     1     0]\n",
      " [15778 15778     1     1     0]\n",
      " [16066 16066     1     1     0]\n",
      " [16269 16269     1     3     0]]\n",
      "[]\n",
      "[]\n",
      "(7180, 2)\n"
     ]
    },
    {
     "data": {
      "image/png": "[encoded data removed]",
      "text/plain": [
       "<matplotlib.figure.Figure at 0x1c54475aac8>"
      ]
     },
     "metadata": {},
     "output_type": "display_data"
    }
   ],
   "source": [
    "subj, sess = 0, 0\n",
    "a = annots[subj][sess]\n",
    "\n",
    "si, ei = 13000, 14000\n",
    "#si, ei = 832*16, 835*16\n",
    "d = ds[subj][sess][si:ei, :2]\n",
    "print(d)\n",
    "\n",
    "\n",
    "if lab_free=='lab':\n",
    "    print(a[:20, :])\n",
    "    cond = (a[:, 2]==1) & (a[:,0]>=si) & (a[:,0]<=ei)\n",
    "    a = a[cond, 0]\n",
    "    print(a)\n",
    "    print(a/16)\n",
    "else:\n",
    "    print(a)\n",
    "\n",
    "cond = (ssil[:,0]==subj) & (ssil[:,1]==sess)\n",
    "il = ssil[cond, 2:]\n",
    "print(il.shape)\n",
    "cond = (il[:,0]>=si) & (il[:,0]<=ei)\n",
    "il = il[cond, :]\n",
    "\n",
    "\n",
    "\n",
    "fig = plt.figure(figsize=(16, 10))\n",
    "ax = plt.subplot(111)  \n",
    "\n",
    "ax.plot(d[:,0], d[:,1])\n",
    "for i in range(len(il)):\n",
    "    c = ['r', 'b', 'g', 'k']\n",
    "    c = c[il[i,1]]\n",
    "    plt.axvline(x=il[i, 0]/16, color=c, linestyle='-')\n",
    "    \n",
    "if lab_free=='lab':\n",
    "    ax.scatter(a/16, np.zeros((len(a), )), marker='x')\n",
    "else:\n",
    "    for i in range(len(a)):\n",
    "        ax.plot([a[i,0], a[i,1]], [0, 0], linewidth=5)\n",
    "\n",
    "\n",
    "plt.xlim([si/16, ei/16])\n",
    "plt.ylim([-15, 15])\n",
    "plt.grid(True)\n",
    "plt.show()  \n"
   ]
  },
  {
   "cell_type": "code",
   "execution_count": null,
   "metadata": {},
   "outputs": [],
   "source": []
  }
 ],
 "metadata": {
  "kernelspec": {
   "display_name": "Python 3",
   "language": "python",
   "name": "python3"
  },
  "language_info": {
   "codemirror_mode": {
    "name": "ipython",
    "version": 3
   },
   "file_extension": ".py",
   "mimetype": "text/x-python",
   "name": "python",
   "nbconvert_exporter": "python",
   "pygments_lexer": "ipython3",
   "version": "3.6.4"
  }
 },
 "nbformat": 4,
 "nbformat_minor": 2
}
