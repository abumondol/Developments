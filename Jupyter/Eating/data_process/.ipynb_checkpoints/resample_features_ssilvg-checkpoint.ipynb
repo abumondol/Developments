{
 "cells": [
  {
   "cell_type": "code",
   "execution_count": 1,
   "metadata": {},
   "outputs": [],
   "source": [
    "import numpy as np\n",
    "import pickle\n",
    "import os\n",
    "import sys"
   ]
  },
  {
   "cell_type": "code",
   "execution_count": 2,
   "metadata": {},
   "outputs": [],
   "source": [
    "util_path = 'C:/ASM/Dropbox/Developments/Jupyter/Eating/myutils' if 'C:' in os.getcwd() else './myutils'\n",
    "sys.path.append(util_path)\n",
    "import my_file_utils as mfileu"
   ]
  },
  {
   "cell_type": "code",
   "execution_count": null,
   "metadata": {},
   "outputs": [],
   "source": [
    "lab_free = 'lab'\n",
    "assert lab_free in ['lab', 'free']\n",
    "  \n",
    "features = mfileu.read_file('features/features_all_samples', '{}_features_steven_right.pkl'.format(lab_free))   \n",
    "ssilvg = mfileu.read_file('ssilvg/ssilvg_all_samples', '{}_ssilvg_steven_right.pkl'.format(lab_free))   "
   ]
  },
  {
   "cell_type": "code",
   "execution_count": null,
   "metadata": {},
   "outputs": [],
   "source": [
    "step = 2\n",
    "for subj in range(len(ssilvg)):\n",
    "    for sess in range(len(ssilvg[subj])):\n",
    "        print(subj, sess)\n",
    "        features[subj][sess] = features[subj][sess][::step, :]\n",
    "        ssilvg[subj][sess] = ssilvg[subj][sess][::step, :]\n",
    "        assert len(features[subj][sess]) == len(ssilvg[subj][sess])\n",
    "        assert np.sum(features[subj][sess][:,0] - ssilvg[subj][sess][:,2]) == 0"
   ]
  },
  {
   "cell_type": "code",
   "execution_count": null,
   "metadata": {},
   "outputs": [],
   "source": [
    "mfileu.write_file('features/features_step'+str(step), '{}_features_steven_right.pkl'.format(lab_free), features)   \n",
    "mfileu.write_file('ssilvg/ssilvg_step'+str(step), '{}_ssilvg_steven_right.pkl'.format(lab_free), ssilvg)    "
   ]
  }
 ],
 "metadata": {
  "kernelspec": {
   "display_name": "Python 3",
   "language": "python",
   "name": "python3"
  },
  "language_info": {
   "codemirror_mode": {
    "name": "ipython",
    "version": 3
   },
   "file_extension": ".py",
   "mimetype": "text/x-python",
   "name": "python",
   "nbconvert_exporter": "python",
   "pygments_lexer": "ipython3",
   "version": "3.6.4"
  }
 },
 "nbformat": 4,
 "nbformat_minor": 2
}
