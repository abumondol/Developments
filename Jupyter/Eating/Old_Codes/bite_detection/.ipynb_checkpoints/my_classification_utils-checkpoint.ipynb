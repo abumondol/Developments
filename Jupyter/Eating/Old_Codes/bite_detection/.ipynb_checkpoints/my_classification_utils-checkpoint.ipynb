{
 "cells": [
  {
   "cell_type": "code",
   "execution_count": 1,
   "metadata": {},
   "outputs": [],
   "source": [
    "import numpy as np"
   ]
  },
  {
   "cell_type": "code",
   "execution_count": 2,
   "metadata": {},
   "outputs": [],
   "source": [
    "def get_metrics_(pred, gt):\n",
    "    ypr = (pred[:,0]<0.5).astype(int)\n",
    "    ygt = (gt[:, 0]==0).astype(int)\n",
    "    tn = np.sum((ypr==0) &(ygt==0))\n",
    "    tp = np.sum((ypr==1) &(ygt==1))\n",
    "    fn = np.sum((ypr==0) &(ygt==1))\n",
    "    fp = np.sum((ypr==1) &(ygt==0))\n",
    "    pr = tp/(tp+fp)\n",
    "    rc = tp/(tp+fn)\n",
    "    sp = tn/(tn+fp)\n",
    "    f1 = 2*pr*rc/(pr+rc)\n",
    "    \n",
    "    return tn, tp, fn, fp, pr, rc, sp, f1\n",
    "\n",
    "def get_metrics(pred, gt):\n",
    "    ypr = (pred>0.5).astype(int)\n",
    "    ygt = gt\n",
    "    tn = np.sum((ypr==0) &(ygt==0))\n",
    "    tp = np.sum((ypr==1) &(ygt==1))\n",
    "    fn = np.sum((ypr==0) &(ygt==1))\n",
    "    fp = np.sum((ypr==1) &(ygt==0))\n",
    "    pr = tp/(tp+fp)\n",
    "    rc = tp/(tp+fn)\n",
    "    sp = tn/(tn+fp)\n",
    "    f1 = 2*pr*rc/(pr+rc)\n",
    "    \n",
    "    return tn, tp, fn, fp, pr, rc, sp, f1"
   ]
  },
  {
   "cell_type": "code",
   "execution_count": null,
   "metadata": {},
   "outputs": [],
   "source": [
    "def smooth(data, factor):\n",
    "    count = len(data)\n",
    "    res = np.copy(data)\n",
    "    for i in range(1, count):\n",
    "        res[i, :] = factor*data[i-1, :] + (1-factor)*data[i, :]\n",
    "    return res"
   ]
  }
 ],
 "metadata": {
  "kernelspec": {
   "display_name": "Python 3",
   "language": "python",
   "name": "python3"
  },
  "language_info": {
   "codemirror_mode": {
    "name": "ipython",
    "version": 3
   },
   "file_extension": ".py",
   "mimetype": "text/x-python",
   "name": "python",
   "nbconvert_exporter": "python",
   "pygments_lexer": "ipython3",
   "version": "3.6.4"
  }
 },
 "nbformat": 4,
 "nbformat_minor": 2
}
