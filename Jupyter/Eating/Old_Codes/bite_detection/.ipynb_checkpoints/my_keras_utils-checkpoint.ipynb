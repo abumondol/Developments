{
 "cells": [
  {
   "cell_type": "code",
   "execution_count": 1,
   "metadata": {},
   "outputs": [
    {
     "name": "stderr",
     "output_type": "stream",
     "text": [
      "c:\\asm\\continuum\\anaconda3\\lib\\site-packages\\h5py\\__init__.py:36: FutureWarning: Conversion of the second argument of issubdtype from `float` to `np.floating` is deprecated. In future, it will be treated as `np.float64 == np.dtype(float).type`.\n",
      "  from ._conv import register_converters as _register_converters\n",
      "Using TensorFlow backend.\n"
     ]
    }
   ],
   "source": [
    "import numpy as np\n",
    "\n",
    "from keras.layers import Conv2D, MaxPooling2D, Dense, Flatten\n",
    "from keras.models import Sequential, model_from_json\n",
    "from keras.optimizers import Adam\n",
    "from keras.losses import binary_crossentropy"
   ]
  },
  {
   "cell_type": "code",
   "execution_count": 3,
   "metadata": {},
   "outputs": [],
   "source": [
    "def train_model(X_train, Y_train, X_test, Y_test, batch_size, epochs):\n",
    "    s = X_train.shape\n",
    "    X_train = X_train.reshape((s[0], s[1], s[2], 1))\n",
    "    s = X_test.shape\n",
    "    X_test = X_test.reshape((s[0], s[1], s[2], 1))\n",
    "    \n",
    "    input_shape = (X_train.shape[1], X_train.shape[2], 1)\n",
    "\n",
    "    model = Sequential()\n",
    "    model.add(Conv2D(32, kernel_size=(2, 2), padding ='valid', strides=(1, 1),\n",
    "                     activation='relu',\n",
    "                     input_shape=input_shape ))\n",
    "    model.add(MaxPooling2D(pool_size=(4, 1), strides=(4, 1)))\n",
    "\n",
    "    model.add(Conv2D(64, kernel_size=(2, 2), padding ='valid', strides=(1, 1), activation='relu'))\n",
    "    model.add(MaxPooling2D(pool_size=(4, 1), strides=(4, 1)))\n",
    "\n",
    "\n",
    "    model.add(Flatten())\n",
    "    model.add(Dense(100, activation='relu'))\n",
    "    model.add(Dense(100, activation='relu'))\n",
    "    model.add(Dense(1, activation='sigmoid'))\n",
    "\n",
    "    model.compile(loss=binary_crossentropy,\n",
    "                  optimizer= Adam(),\n",
    "                  metrics=['accuracy'])\n",
    "\n",
    "    model.fit(X_train, Y_train,\n",
    "              validation_data = (X_test, Y_test),\n",
    "              batch_size=batch_size,\n",
    "              epochs=epochs)\n",
    "    \n",
    "    ypr = model.predict(X_test, verbose=0)\n",
    "\n",
    "    return ypr"
   ]
  },
  {
   "cell_type": "code",
   "execution_count": null,
   "metadata": {},
   "outputs": [],
   "source": [
    "def test_model(model, X_test, Y_test):\n",
    "    Ypr = model.predict(X_test, verbose=0)\n",
    "    Yprb = Ypr[:, 0]>0.5\n",
    "    Yprb = Yprb.reshape((len(Y_test), 1))\n",
    "    Y = np.concatenate((Y_test, Yprb, Ypr), axis=1)\n",
    "    return Y"
   ]
  }
 ],
 "metadata": {
  "kernelspec": {
   "display_name": "Python 3",
   "language": "python",
   "name": "python3"
  },
  "language_info": {
   "codemirror_mode": {
    "name": "ipython",
    "version": 3
   },
   "file_extension": ".py",
   "mimetype": "text/x-python",
   "name": "python",
   "nbconvert_exporter": "python",
   "pygments_lexer": "ipython3",
   "version": "3.6.4"
  }
 },
 "nbformat": 4,
 "nbformat_minor": 2
}
