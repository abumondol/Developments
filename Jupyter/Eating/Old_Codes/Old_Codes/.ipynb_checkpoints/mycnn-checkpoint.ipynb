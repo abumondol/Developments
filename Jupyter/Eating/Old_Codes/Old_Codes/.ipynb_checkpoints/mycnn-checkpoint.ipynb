{
 "cells": [
  {
   "cell_type": "code",
   "execution_count": null,
   "metadata": {
    "collapsed": true
   },
   "outputs": [],
   "source": [
    "import numpy as np\n",
    "\n",
    "from keras.layers import Conv2D, MaxPooling2D, Dense, Flatten\n",
    "from keras.models import Sequential, model_from_json\n",
    "from keras.optimizers import Adam\n",
    "from keras.losses import binary_crossentropy"
   ]
  },
  {
   "cell_type": "code",
   "execution_count": null,
   "metadata": {
    "collapsed": true
   },
   "outputs": [],
   "source": [
    "def train_model(X_train, Y_train, batch_size, epochs):\n",
    "    input_shape = (X_train.shape[1], X_train.shape[2], 1)\n",
    "\n",
    "    model = Sequential()\n",
    "    model.add(Conv2D(32, kernel_size=(2, 2), padding ='valid', strides=(1, 1),\n",
    "                     activation='relu',\n",
    "                     input_shape=input_shape ))\n",
    "    model.add(MaxPooling2D(pool_size=(4, 1), strides=(4, 1)))\n",
    "\n",
    "    model.add(Conv2D(64, kernel_size=(2, 2), padding ='valid', strides=(1, 1), activation='relu'))\n",
    "    model.add(MaxPooling2D(pool_size=(4, 1), strides=(4, 1)))\n",
    "\n",
    "\n",
    "    model.add(Flatten())\n",
    "    model.add(Dense(100, activation='relu'))\n",
    "    model.add(Dense(100, activation='relu'))\n",
    "    model.add(Dense(1, activation='sigmoid'))\n",
    "\n",
    "    model.compile(loss=binary_crossentropy,\n",
    "                  optimizer= Adam(),\n",
    "                  metrics=['accuracy'])\n",
    "\n",
    "    model.fit(X_train, Y_train,\n",
    "              batch_size=batch_size,\n",
    "              epochs=epochs)\n",
    "\n",
    "    return model"
   ]
  },
  {
   "cell_type": "code",
   "execution_count": null,
   "metadata": {
    "collapsed": true
   },
   "outputs": [],
   "source": [
    "def test_model(model, X_test, Y_test):\n",
    "    Ypr = model.predict(X_test, verbose=0)\n",
    "    Yprb = Ypr[:, 0]>0.5\n",
    "    Yprb = Yprb.reshape((len(Y_test), 1))\n",
    "    Y = np.concatenate((Y_test, Yprb, Ypr), axis=1)\n",
    "    return Y"
   ]
  }
 ],
 "metadata": {
  "anaconda-cloud": {},
  "kernelspec": {
   "display_name": "Python 3",
   "language": "python",
   "name": "python3"
  },
  "language_info": {
   "codemirror_mode": {
    "name": "ipython",
    "version": 3
   },
   "file_extension": ".py",
   "mimetype": "text/x-python",
   "name": "python",
   "nbconvert_exporter": "python",
   "pygments_lexer": "ipython3",
   "version": "3.6.4"
  }
 },
 "nbformat": 4,
 "nbformat_minor": 1
}
