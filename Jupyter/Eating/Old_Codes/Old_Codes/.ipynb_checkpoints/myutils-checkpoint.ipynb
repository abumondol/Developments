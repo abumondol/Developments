{
 "cells": [
  {
   "cell_type": "code",
   "execution_count": null,
   "metadata": {
    "collapsed": false
   },
   "outputs": [],
   "source": [
    "import numpy as np\n",
    "import data_manager as dm\n",
    "import myparams"
   ]
  },
  {
   "cell_type": "code",
   "execution_count": null,
   "metadata": {
    "collapsed": true
   },
   "outputs": [],
   "source": [
    "def smooth_data(data, factor):\n",
    "    count = len(data)\n",
    "    for i in range(1, count):\n",
    "        data[i, 1:] = factor*data[i-1, 1:] + (1-factor)*data[i, 1:]    \n",
    "    return data"
   ]
  },
  {
   "cell_type": "code",
   "execution_count": null,
   "metadata": {
    "collapsed": true
   },
   "outputs": [],
   "source": [
    "def smooth_dataset(data, factor):\n",
    "    print(\"Smothing data with factor \", factor, \" ...\")\n",
    "    subject_count = len(data)\n",
    "    res = []\n",
    "    for subject in range(subject_count):        \n",
    "        sess_count = len(data[subject])        \n",
    "        for sess in range(sess_count):\n",
    "            print(\"Subject \", subject, \", Session \", sess)\n",
    "            data[subject][sess][0] = smooth_data(data[subject][sess][0], factor)\n",
    "            \n",
    "    return data"
   ]
  },
  {
   "cell_type": "code",
   "execution_count": null,
   "metadata": {
    "collapsed": true
   },
   "outputs": [],
   "source": [
    "def normalize_data(x):    \n",
    "    sq = np.multiply(x, x)\n",
    "    mag = np.sqrt(np.sum(sq, axis = 2, keepdims=True))\n",
    "    #print(mag.shape)    \n",
    "    #mag = np.concatenate((mag, mag, mag), axis = 2)\n",
    "    #print(mag.shape)\n",
    "    x = np.divide(x, mag)\n",
    "    return x\n",
    "\n",
    "def normalize_dataset(data):\n",
    "    #data = copy.deepcopy(data)\n",
    "    for subject in range(len(data)):\n",
    "        for sess in range(len(data[subject])):\n",
    "            x = data[subject][sess][\"x\"]\n",
    "            data[subject][sess][\"x\"] = normalize_data(x)\n",
    "    return data"
   ]
  },
  {
   "cell_type": "code",
   "execution_count": null,
   "metadata": {
    "collapsed": true
   },
   "outputs": [],
   "source": [
    "def get_segments_session(d, mp, left_len, right_len):\n",
    "    mp_count = len(mp)    \n",
    "    y = mp[:, -1]\n",
    "    x = np.zeros((mp_count, left_len+right_len, 3))\n",
    "    \n",
    "    for i in range(mp_count):\n",
    "        ix = mp[i, 0]\n",
    "        x[i, :, :] = d[ix-left_len:ix+right_len, 1:]        \n",
    "    \n",
    "    res = {\"x\":x, \"y\":y}\n",
    "    return res        \n",
    "\n",
    "def get_segments_dataset(data, mp, left_len, right_len):    \n",
    "    segments = []\n",
    "    for subject in range(len(data)):        \n",
    "        subject_segs = []                 \n",
    "        for sess in range(len(data[subject])):\n",
    "            print(\"Subject \", subject, \", Session \", sess)\n",
    "            segs = get_segments_session(data[subject][sess][0], mp[subject][sess], left_len, right_len)\n",
    "            subject_segs.append(segs)\n",
    "            \n",
    "        segments.append(subject_segs)\n",
    "        \n",
    "    return segments"
   ]
  },
  {
   "cell_type": "code",
   "execution_count": null,
   "metadata": {
    "collapsed": false
   },
   "outputs": [],
   "source": [
    "def get_file_name_from_params(params):\n",
    "    s = \"len_\"+ str(params[\"window_len_left\"]) + \"_\" +str(params[\"window_len_left\"])\n",
    "    s = s + \"_xth_\"+str(int(-10*params[\"x_th_max\"]))\n",
    "    s = s + \"_smooth_\"+params[\"smooth_factor\"]\n",
    "    return s"
   ]
  },
  {
   "cell_type": "code",
   "execution_count": null,
   "metadata": {
    "collapsed": false
   },
   "outputs": [],
   "source": [
    "#params = myparams.get_params()\n",
    "#s = get_file_name_from_params(params)\n",
    "#print(s)\n",
    "#ds = dm.get_data(\"uva_lab_data\", \"data\")\n",
    "#ds= smooth_dataset(ds, params[\"smooth_factor\"])"
   ]
  },
  {
   "cell_type": "code",
   "execution_count": null,
   "metadata": {
    "collapsed": true
   },
   "outputs": [],
   "source": []
  }
 ],
 "metadata": {
  "anaconda-cloud": {},
  "kernelspec": {
   "display_name": "Python [conda root]",
   "language": "python",
   "name": "conda-root-py"
  },
  "language_info": {
   "codemirror_mode": {
    "name": "ipython",
    "version": 3
   },
   "file_extension": ".py",
   "mimetype": "text/x-python",
   "name": "python",
   "nbconvert_exporter": "python",
   "pygments_lexer": "ipython3",
   "version": "3.5.2"
  }
 },
 "nbformat": 4,
 "nbformat_minor": 1
}
