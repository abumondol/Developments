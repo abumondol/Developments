{
 "cells": [
  {
   "cell_type": "code",
   "execution_count": null,
   "metadata": {
    "collapsed": true
   },
   "outputs": [],
   "source": [
    "############# Results in pickle from csv files ###################\n",
    "path = \"C:\\\\ASM\\\\DevData\\\\eating\\\\python\\\\results\\\\\"\n",
    "res = []\n",
    "for subject in range(11):\n",
    "    res_lab = [];\n",
    "    if subject<=4:\n",
    "        sess_count = 2\n",
    "        if subject<=1:\n",
    "            sess_count = 1\n",
    "        for sess in range(sess_count):\n",
    "            res_sess = np.genfromtxt(path+\"lab_\"+str(subject)+\"_\"+str(sess)+\".csv\", delimiter=\",\")\n",
    "            print(res_sess.shape)\n",
    "            res_lab.append(res_sess)\n",
    "    \n",
    "    res_free = []\n",
    "    sess_count = 2\n",
    "    if subject==9:\n",
    "        sess_count = 5\n",
    "    for sess in range(sess_count):\n",
    "        res_sess = np.genfromtxt(path+\"free_\"+str(subject)+\"_\"+str(sess)+\".csv\", delimiter=\",\")\n",
    "        res_free.append(res_sess)\n",
    "        \n",
    "    res_subject = {\"lab\":res_lab, \"free\":res_free}    \n",
    "    res.append(res_subject)\n",
    "    \n",
    "path = \"C:\\\\ASM\\\\DevData\\\\eating\\\\python\\\\results\\\\res.pkl\"\n",
    "with open(path, \"wb\") as file:\n",
    "    pickle.dump(res, file)"
   ]
  },
  {
   "cell_type": "code",
   "execution_count": null,
   "metadata": {
    "collapsed": true
   },
   "outputs": [],
   "source": [
    "#x = X_train[5, :, :]\n",
    "#x = np.sqrt(np.sum(np.multiply(x, x), axis = 1))\n",
    "#print(x)\n",
    "\n",
    "m = mps[0][0][0]\n",
    "s = segs[0][0][0][\"x\"]\n",
    "\n",
    "print(len(m), \",\", np.shape(s))\n",
    "x = s[0, :10, :]\n",
    "print(x)\n",
    "x = np.sqrt(np.sum(np.multiply(x, x), axis = 1))\n",
    "print(x)"
   ]
  },
  {
   "cell_type": "code",
   "execution_count": null,
   "metadata": {
    "collapsed": true
   },
   "outputs": [],
   "source": [
    "def find_clusters_dbscan(bites, eps, minPts):    \n",
    "    count = len(bites)\n",
    "    print(\"Detected bite count: \", count)\n",
    "    if count == 0:\n",
    "        return []\n",
    "    \n",
    "    pt = np.zeros((count, 2))\n",
    "    \n",
    "    for i in range(count):\n",
    "        ct = 0\n",
    "        j = i-1\n",
    "        while j>=0 and bites[i] - bites[j]<=eps:\n",
    "            ct+=1\n",
    "            j-=1\n",
    "            \n",
    "        j = i+1\n",
    "        while j<count and bites[j] - bites[i]<=eps:\n",
    "            ct+=1\n",
    "            j+=1\n",
    "        \n",
    "        pt[i, 1] = ct\n",
    "        if ct >= minPts:\n",
    "            pt[i, 0] = 1\n",
    "    \n",
    "    clusters = []\n",
    "    six = -1\n",
    "    eix = -1\n",
    "    for i in range(count):        \n",
    "        if pt[i, 0] == 1 and six < 0:            \n",
    "            j = i-1\n",
    "            while j>=0 and bites[i] - bites[j]<=eps:                \n",
    "                j-=1\n",
    "            six = j+1\n",
    "            \n",
    "        elif pt[i, 0] != 1 and six >= 0:                        \n",
    "            j = i+1\n",
    "            while j<count and bites[j] - bites[i]<=eps:                \n",
    "                j+=1\n",
    "            eix = j-1\n",
    "            clusters.append([six, eix])\n",
    "            six = -1\n",
    "            eix = -1\n",
    "            \n",
    "    return clusters"
   ]
  },
  {
   "cell_type": "code",
   "execution_count": null,
   "metadata": {
    "collapsed": true
   },
   "outputs": [],
   "source": [
    "def find_meals_dbscan(mp, res):\n",
    "    eps = 1*60*16 # 1 minutes\n",
    "    minPts = 3\n",
    "    bites = mp[res[:, 1]==1, 0]\n",
    "    #print(bites*0.0625)\n",
    "    \n",
    "    clusters = find_clusters_dbscan(bites, eps, minPts)\n",
    "    if len(clusters) ==0:\n",
    "        return []\n",
    "    \n",
    "    clusters = np.array(clusters)\n",
    "    meals = np.zeros((len(clusters), 3))\n",
    "    for i in range(len(clusters)):\n",
    "        six = clusters[i, 0]\n",
    "        eix = clusters[i, 1]\n",
    "        meals[i, 0] = bites[six]\n",
    "        meals[i, 1] = bites[eix]\n",
    "        meals[i, 2] = eix-six+1\n",
    "    return meals"
   ]
  }
 ],
 "metadata": {
  "anaconda-cloud": {},
  "kernelspec": {
   "display_name": "Python [conda root]",
   "language": "python",
   "name": "conda-root-py"
  },
  "language_info": {
   "codemirror_mode": {
    "name": "ipython",
    "version": 3
   },
   "file_extension": ".py",
   "mimetype": "text/x-python",
   "name": "python",
   "nbconvert_exporter": "python",
   "pygments_lexer": "ipython3",
   "version": "3.5.2"
  }
 },
 "nbformat": 4,
 "nbformat_minor": 1
}
