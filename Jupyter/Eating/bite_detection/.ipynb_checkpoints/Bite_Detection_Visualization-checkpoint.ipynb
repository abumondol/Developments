{
 "cells": [
  {
   "cell_type": "code",
   "execution_count": 18,
   "metadata": {},
   "outputs": [],
   "source": [
    "import numpy as np\n",
    "import pickle\n",
    "import os\n",
    "import sys\n",
    "import importlib"
   ]
  },
  {
   "cell_type": "code",
   "execution_count": 19,
   "metadata": {},
   "outputs": [
    {
     "data": {
      "text/plain": [
       "<module 'my_data_process_utils' from 'C:/ASM/Dropbox/Developments/Jupyter/Eating/myutils\\\\my_data_process_utils.py'>"
      ]
     },
     "execution_count": 19,
     "metadata": {},
     "output_type": "execute_result"
    }
   ],
   "source": [
    "util_path = 'C:/ASM/Dropbox/Developments/Jupyter/Eating/myutils' if 'C:' in os.getcwd() else './myutils'\n",
    "sys.path.append(util_path)\n",
    "import my_file_utils as mfileu\n",
    "import my_classification_utils as mclfu\n",
    "import my_data_process_utils as mdpu\n",
    "import my_feature_utils as mfeatu\n",
    "importlib.reload(mfileu)\n",
    "importlib.reload(mclfu)\n",
    "importlib.reload(mdpu)"
   ]
  },
  {
   "cell_type": "code",
   "execution_count": 23,
   "metadata": {},
   "outputs": [],
   "source": [
    "hand='left'\n",
    "if hand == 'right':\n",
    "    ds = mfileu.read_file('data', 'free_data_steven_right_smoothed.pkl')\n",
    "else:\n",
    "    ds = mfileu.read_file('data', 'free_data_steven_left_smoothed.pkl')\n",
    "    \n",
    "annots = mfileu.read_file('data', 'free_data_steven_annots.pkl')"
   ]
  },
  {
   "cell_type": "code",
   "execution_count": null,
   "metadata": {},
   "outputs": [
    {
     "name": "stdout",
     "output_type": "stream",
     "text": [
      "0 0 | 0 1 | 1 0 | 1 1 | 2 0 | 2 1 | 3 0 | 3 1 | 4 0 | 4 1 | 5 0 | 5 1 | 6 0 | 6 1 | 7 0 | 7 1 | "
     ]
    }
   ],
   "source": [
    "vth_min, vth_max, xth = 1, 50, 0\n",
    "win_size = 5*16\n",
    "\n",
    "vs, gxs = [], []\n",
    "for subj in range(len(ds)):\n",
    "    vsubj, gxsubj = [], []\n",
    "    res = mfileu.read_file('results_meal_free__winsize_160_vth_1_50_xth_0','subj_'+str(subj)+\"_\"+hand+\".pkl\") \n",
    "    for sess in range(len(ds[subj])):\n",
    "        print(subj, sess, end=\" | \")\n",
    "        indices = res[sess][\"indices\"]\n",
    "        v = mfeatu.get_variance_accel(ds, indices, win_size=win_size)\n",
    "        gx = mfeatu.get_grav_x(ds, indices, index_offset=win_size//2)\n",
    "        vsubj.append(v)\n",
    "        gxsubj.append(gx)\n",
    "    \n",
    "    vs.append(vsubj)\n",
    "    gxs.append(gxsubj)\n",
    "        "
   ]
  },
  {
   "cell_type": "code",
   "execution_count": null,
   "metadata": {
    "scrolled": false
   },
   "outputs": [],
   "source": [
    "import matplotlib.pyplot as plt\n",
    "%matplotlib inline\n",
    "for subj in range(11):\n",
    "    res = mfileu.read_file('results_meal_free__winsize_160_vth_1_50_xth_0','subj_'+str(subj)+\"_\"+hand+\".pkl\")    \n",
    "    for sess in range(len(res)):\n",
    "        pred = res[sess][\"pred\"]\n",
    "        indices = res[sess][\"indices\"]\n",
    "        a = annots[subj][sess]\n",
    "        \n",
    "        v = vs[subj][sess]\n",
    "        gx = gxs[subj][sess]\n",
    "        \n",
    "        if hand=='right':\n",
    "            cond = (v>=vth_min)&(v<=vth_max)&(gx<=xth)\n",
    "        else:\n",
    "            cond = (v>=vth_min)&(v<=vth_max)&(gx>=xth)\n",
    "        \n",
    "        print(cond.shape, np.sum(cond))\n",
    "        cond = np.logical_not(cond)\n",
    "        \n",
    "        pred[cond] = 0\n",
    "        \n",
    "        indices = indices[:, 2] + win_size//2\n",
    "        \n",
    "        #print(pred.shape)\n",
    "        #pred = mdpu.simple_moving_average(pred, 30).reshape((-1, 1))\n",
    "        #print(pred.shape)\n",
    "        \n",
    "        \n",
    "        print(a)\n",
    "        fig = plt.figure(figsize=(20,5))\n",
    "        ax = plt.subplot(111)\n",
    "        ax.scatter(indices/16, pred[:, 0], marker='.', s=1, color='blue')        \n",
    "        #ax.scatter(indices/16, cond+1.25, marker='.', s=1, color='red')\n",
    "\n",
    "        clrs = ['', 'blue', 'green', 'red', 'black']\n",
    "        for i in range(len(a)):\n",
    "            si = a[i, 0]/16\n",
    "            ei = a[i, 1]/16\n",
    "            mt = a[i, 2]    \n",
    "            ax.plot([si, ei], [1.5, 1.5], color=clrs[mt], linewidth=5)\n",
    "        plt.axhline(y=2.7)    \n",
    "        plt.axhline(y=6.3)    \n",
    "        \n",
    "        plt.title(str(subj)+\",\"+str(sess))\n",
    "        plt.ylim([0.8, 2])\n",
    "        plt.grid(True)\n",
    "        plt.show()"
   ]
  },
  {
   "cell_type": "code",
   "execution_count": null,
   "metadata": {},
   "outputs": [],
   "source": []
  },
  {
   "cell_type": "code",
   "execution_count": null,
   "metadata": {},
   "outputs": [],
   "source": []
  }
 ],
 "metadata": {
  "kernelspec": {
   "display_name": "Python 3",
   "language": "python",
   "name": "python3"
  },
  "language_info": {
   "codemirror_mode": {
    "name": "ipython",
    "version": 3
   },
   "file_extension": ".py",
   "mimetype": "text/x-python",
   "name": "python",
   "nbconvert_exporter": "python",
   "pygments_lexer": "ipython3",
   "version": "3.6.4"
  }
 },
 "nbformat": 4,
 "nbformat_minor": 2
}
