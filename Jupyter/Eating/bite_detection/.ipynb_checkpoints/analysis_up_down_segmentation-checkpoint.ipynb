{
 "cells": [
  {
   "cell_type": "code",
   "execution_count": 51,
   "metadata": {},
   "outputs": [],
   "source": [
    "import numpy as np\n",
    "import pickle\n",
    "import sys\n",
    "import pandas as pd\n",
    "import importlib\n",
    "import my_bite_detection_utils as bdu\n",
    "import matplotlib.pyplot as plt\n",
    "%matplotlib inline"
   ]
  },
  {
   "cell_type": "code",
   "execution_count": 49,
   "metadata": {},
   "outputs": [],
   "source": [
    "with open('C:/ASM/DevData/eating/data/steven_uva_lab_data_combined.pkl', 'rb') as file:\n",
    "    data = pickle.load(file)"
   ]
  },
  {
   "cell_type": "code",
   "execution_count": 52,
   "metadata": {},
   "outputs": [
    {
     "data": {
      "text/plain": [
       "<module 'my_bite_detection_utils' from 'C:\\\\ASM\\\\Dropbox\\\\Developments\\\\Jupyter\\\\Eating\\\\bite_detection\\\\my_bite_detection_utils.py'>"
      ]
     },
     "execution_count": 52,
     "metadata": {},
     "output_type": "execute_result"
    }
   ],
   "source": [
    "#importlib.reload(mtu)\n",
    "importlib.reload(bdu)\n",
    "#importlib.reload(mcu)\n",
    "#importlib.reload(mku)"
   ]
  },
  {
   "cell_type": "code",
   "execution_count": 53,
   "metadata": {
    "scrolled": false
   },
   "outputs": [
    {
     "name": "stdout",
     "output_type": "stream",
     "text": [
      "0 0 :: 1 0 :: 2 0 :: 2 1 :: 3 0 :: 3 1 :: 4 0 :: 4 1 :: 5 0 :: 5 1 :: 6 0 :: 6 1 :: 7 0 :: 8 0 :: 9 0 :: 10 0 :: 11 0 :: 12 0 :: 13 0 :: 14 0 :: 15 0 :: 16 0 :: 17 0 :: 18 0 :: 19 0 :: 20 0 :: 21 0 :: 21 1 :: 22 0 :: 22 1 :: 22 2 :: 22 3 :: 23 0 :: 23 1 :: 24 0 :: 24 1 :: 25 0 :: 25 1 :: 25 2 :: 25 3 :: 26 0 :: 26 1 :: 26 2 :: 26 3 :: 26 4 :: 27 0 :: [0. 1. 2. 3. 4.]\n"
     ]
    }
   ],
   "source": [
    "res = []\n",
    "sub_sess_annots = np.empty((0, 4))\n",
    "sub_sess_segs = np.empty((0, 11))\n",
    "for subj in range(28):\n",
    "    for sess in range(len(data[subj])):\n",
    "        print(subj, sess, end=\" :: \")\n",
    "        d = data[subj][sess][\"data\"]\n",
    "        a = data[subj][sess][\"annots\"]        \n",
    "        segs = bdu.get_segments(d[:, 1], -0.4, -0.4)\n",
    "        \n",
    "        a_count = len(a)\n",
    "        seg_count = len(segs)\n",
    "        \n",
    "        ssa = bdu.get_sub_sess(subj, sess, a_count, 4, dtype =np.int32)        \n",
    "        ssa[:, 2:] = a\n",
    "        sub_sess_annots = np.concatenate((sub_sess_annots, ssa))\n",
    "        \n",
    "        sss = bdu.get_sub_sess(subj, sess, seg_count, 11, dtype=np.int32)        \n",
    "        sss[:, 2:4] = segs\n",
    "        sss[1:, 4] = segs[1:, 0] -segs[:-1, 1] \n",
    "        sss[:, 5:7] = bdu.get_covers(segs, a, 0)\n",
    "        sss[:, 7:9] = bdu.get_covers(segs, a, 16)\n",
    "        sss[:, 9:11] = bdu.get_covers(segs, a, 32)\n",
    "        sub_sess_segs = np.concatenate((sub_sess_segs, sss))                                        \n",
    "        \n",
    "        seg_duration = np.sum(segs[:, 1]-segs[:,0])/16\n",
    "        duration = d[-1, 0]\n",
    "        \n",
    "        b_count = np.sum(a[:,1]==1)\n",
    "        s_count = np.sum(a[:,1]==2)\n",
    "        \n",
    "        covers = sss[:, 5:]\n",
    "        cover_count2 = list(np.sum(covers, axis=0))\n",
    "        blank_count0 = np.sum((covers[:, 0]==0) & (covers[:, 1]==0))\n",
    "        blank_count1 = np.sum((covers[:, 2]==0) & (covers[:, 3]==0))\n",
    "        blank_count2 = np.sum((covers[:, 4]==0) & (covers[:, 5]==0))\n",
    "        multi_count0 = np.sum((covers[:, 0]+covers[:,1])>1)\n",
    "        multi_count1 = np.sum((covers[:, 2]+covers[:,3])>1)\n",
    "        multi_count2 = np.sum((covers[:, 4]+covers[:,5])>1)\n",
    "        dupli_count0 = np.sum((covers[:, 0]>0) & (covers[:, 1]>0))\n",
    "        dupli_count1 = np.sum((covers[:, 2]>0) & (covers[:, 3]>0))\n",
    "        dupli_count2 = np.sum((covers[:, 4]>0) & (covers[:, 5]>0))\n",
    "        \n",
    "        \n",
    "        r = [subj, sess, duration, a_count, b_count, s_count, seg_count, seg_duration]\n",
    "        r.extend(cover_count2)\n",
    "        r.extend([blank_count0, blank_count1, blank_count2, multi_count0, multi_count1, multi_count2, dupli_count0, dupli_count1, dupli_count2])\n",
    "            \n",
    "        #print(r)\n",
    "        res.append(r)\n",
    "res = np.array(res)\n",
    "print(np.unique(sub_sess_segs[:,1]))"
   ]
  },
  {
   "cell_type": "code",
   "execution_count": 54,
   "metadata": {},
   "outputs": [
    {
     "ename": "PermissionError",
     "evalue": "[Errno 13] Permission denied: 'res.csv'",
     "output_type": "error",
     "traceback": [
      "\u001b[1;31m---------------------------------------------------------------------------\u001b[0m",
      "\u001b[1;31mPermissionError\u001b[0m                           Traceback (most recent call last)",
      "\u001b[1;32m<ipython-input-54-948ef6c57b45>\u001b[0m in \u001b[0;36m<module>\u001b[1;34m()\u001b[0m\n\u001b[0;32m      6\u001b[0m \u001b[0mdf\u001b[0m \u001b[1;33m=\u001b[0m \u001b[0mpd\u001b[0m\u001b[1;33m.\u001b[0m\u001b[0mDataFrame\u001b[0m\u001b[1;33m(\u001b[0m\u001b[0mres\u001b[0m\u001b[1;33m,\u001b[0m \u001b[0mcolumns\u001b[0m\u001b[1;33m=\u001b[0m\u001b[0mcols\u001b[0m\u001b[1;33m)\u001b[0m\u001b[1;33m\u001b[0m\u001b[0m\n\u001b[0;32m      7\u001b[0m \u001b[0mdf\u001b[0m\u001b[1;33m.\u001b[0m\u001b[0mappend\u001b[0m\u001b[1;33m(\u001b[0m\u001b[0mdf\u001b[0m\u001b[1;33m.\u001b[0m\u001b[0msum\u001b[0m\u001b[1;33m(\u001b[0m\u001b[0mnumeric_only\u001b[0m\u001b[1;33m=\u001b[0m\u001b[1;32mTrue\u001b[0m\u001b[1;33m)\u001b[0m\u001b[1;33m,\u001b[0m \u001b[0mignore_index\u001b[0m\u001b[1;33m=\u001b[0m\u001b[1;32mTrue\u001b[0m\u001b[1;33m)\u001b[0m\u001b[1;33m\u001b[0m\u001b[0m\n\u001b[1;32m----> 8\u001b[1;33m \u001b[0mdf\u001b[0m\u001b[1;33m.\u001b[0m\u001b[0mto_csv\u001b[0m\u001b[1;33m(\u001b[0m\u001b[1;34m'res.csv'\u001b[0m\u001b[1;33m,\u001b[0m \u001b[0msep\u001b[0m\u001b[1;33m=\u001b[0m\u001b[1;34m','\u001b[0m\u001b[1;33m)\u001b[0m\u001b[1;33m\u001b[0m\u001b[0m\n\u001b[0m\u001b[0;32m      9\u001b[0m \u001b[0mdisplay\u001b[0m\u001b[1;33m(\u001b[0m\u001b[0mdf\u001b[0m\u001b[1;33m)\u001b[0m\u001b[1;33m\u001b[0m\u001b[0m\n\u001b[0;32m     10\u001b[0m \u001b[1;33m\u001b[0m\u001b[0m\n",
      "\u001b[1;32mc:\\asm\\continuum\\anaconda3\\lib\\site-packages\\pandas\\core\\frame.py\u001b[0m in \u001b[0;36mto_csv\u001b[1;34m(self, path_or_buf, sep, na_rep, float_format, columns, header, index, index_label, mode, encoding, compression, quoting, quotechar, line_terminator, chunksize, tupleize_cols, date_format, doublequote, escapechar, decimal)\u001b[0m\n\u001b[0;32m   1522\u001b[0m                                      \u001b[0mdoublequote\u001b[0m\u001b[1;33m=\u001b[0m\u001b[0mdoublequote\u001b[0m\u001b[1;33m,\u001b[0m\u001b[1;33m\u001b[0m\u001b[0m\n\u001b[0;32m   1523\u001b[0m                                      escapechar=escapechar, decimal=decimal)\n\u001b[1;32m-> 1524\u001b[1;33m         \u001b[0mformatter\u001b[0m\u001b[1;33m.\u001b[0m\u001b[0msave\u001b[0m\u001b[1;33m(\u001b[0m\u001b[1;33m)\u001b[0m\u001b[1;33m\u001b[0m\u001b[0m\n\u001b[0m\u001b[0;32m   1525\u001b[0m \u001b[1;33m\u001b[0m\u001b[0m\n\u001b[0;32m   1526\u001b[0m         \u001b[1;32mif\u001b[0m \u001b[0mpath_or_buf\u001b[0m \u001b[1;32mis\u001b[0m \u001b[1;32mNone\u001b[0m\u001b[1;33m:\u001b[0m\u001b[1;33m\u001b[0m\u001b[0m\n",
      "\u001b[1;32mc:\\asm\\continuum\\anaconda3\\lib\\site-packages\\pandas\\io\\formats\\format.py\u001b[0m in \u001b[0;36msave\u001b[1;34m(self)\u001b[0m\n\u001b[0;32m   1635\u001b[0m             f, handles = _get_handle(self.path_or_buf, self.mode,\n\u001b[0;32m   1636\u001b[0m                                      \u001b[0mencoding\u001b[0m\u001b[1;33m=\u001b[0m\u001b[0mencoding\u001b[0m\u001b[1;33m,\u001b[0m\u001b[1;33m\u001b[0m\u001b[0m\n\u001b[1;32m-> 1637\u001b[1;33m                                      compression=self.compression)\n\u001b[0m\u001b[0;32m   1638\u001b[0m             \u001b[0mclose\u001b[0m \u001b[1;33m=\u001b[0m \u001b[1;32mTrue\u001b[0m\u001b[1;33m\u001b[0m\u001b[0m\n\u001b[0;32m   1639\u001b[0m \u001b[1;33m\u001b[0m\u001b[0m\n",
      "\u001b[1;32mc:\\asm\\continuum\\anaconda3\\lib\\site-packages\\pandas\\io\\common.py\u001b[0m in \u001b[0;36m_get_handle\u001b[1;34m(path_or_buf, mode, encoding, compression, memory_map, is_text)\u001b[0m\n\u001b[0;32m    388\u001b[0m         \u001b[1;32melif\u001b[0m \u001b[0mencoding\u001b[0m\u001b[1;33m:\u001b[0m\u001b[1;33m\u001b[0m\u001b[0m\n\u001b[0;32m    389\u001b[0m             \u001b[1;31m# Python 3 and encoding\u001b[0m\u001b[1;33m\u001b[0m\u001b[1;33m\u001b[0m\u001b[0m\n\u001b[1;32m--> 390\u001b[1;33m             \u001b[0mf\u001b[0m \u001b[1;33m=\u001b[0m \u001b[0mopen\u001b[0m\u001b[1;33m(\u001b[0m\u001b[0mpath_or_buf\u001b[0m\u001b[1;33m,\u001b[0m \u001b[0mmode\u001b[0m\u001b[1;33m,\u001b[0m \u001b[0mencoding\u001b[0m\u001b[1;33m=\u001b[0m\u001b[0mencoding\u001b[0m\u001b[1;33m)\u001b[0m\u001b[1;33m\u001b[0m\u001b[0m\n\u001b[0m\u001b[0;32m    391\u001b[0m         \u001b[1;32melif\u001b[0m \u001b[0mis_text\u001b[0m\u001b[1;33m:\u001b[0m\u001b[1;33m\u001b[0m\u001b[0m\n\u001b[0;32m    392\u001b[0m             \u001b[1;31m# Python 3 and no explicit encoding\u001b[0m\u001b[1;33m\u001b[0m\u001b[1;33m\u001b[0m\u001b[0m\n",
      "\u001b[1;31mPermissionError\u001b[0m: [Errno 13] Permission denied: 'res.csv'"
     ]
    }
   ],
   "source": [
    "from IPython.display import display, HTML\n",
    "res = np.array(res)\n",
    "cols = ['subj', 'sess', 'data duration', 'annot_count', 'bite_count', 'sip_count','seg_count', 'seg_duration']\n",
    "cols.extend(['bcov0', 'scov0', 'bcov1', 'scov1', 'bcov2', 'scov2'])\n",
    "cols.extend(['blank0', 'blank1', 'blank2', 'multi0', 'multi1', 'multi2', 'dupli0', 'dupli1', 'dupli3'])\n",
    "df = pd.DataFrame(res, columns=cols)\n",
    "df.append(df.sum(numeric_only=True), ignore_index=True)\n",
    "df.to_csv('res.csv', sep=',')\n",
    "display(df)\n",
    "\n",
    "print(np.sum(res, axis=0).astype(int))"
   ]
  },
  {
   "cell_type": "code",
   "execution_count": null,
   "metadata": {},
   "outputs": [],
   "source": [
    "ssa = sub_sess_annots\n",
    "sss = sub_sess_segs\n",
    "\n",
    "a = sss[:, 4]/16\n",
    "a = a[a<=10]\n",
    "plt.hist(a, bins=50)\n",
    "#plt.xlim([0, 5])\n",
    "plt.show()\n",
    "\n",
    "a = (sss[:, 3]-sss[:, 2])/16\n",
    "b = sss[a>60, 0:4]\n",
    "print(len(b))\n",
    "print(b)\n",
    "\n",
    "print(np.sum(a<=1))\n",
    "a = a[a<=10]\n",
    "plt.hist(a, bins=50)\n",
    "#plt.xlim([0, 5])\n",
    "plt.show()"
   ]
  },
  {
   "cell_type": "code",
   "execution_count": null,
   "metadata": {},
   "outputs": [],
   "source": [
    "sss = sub_sess_segs\n",
    "dur = (sss[:, 3]-sss[:, 2])/16\n",
    "print(len(dur))\n",
    "b = sss[dur>60, 0:4]\n",
    "print(len(b))\n",
    "\n",
    "for i in range(10):\n",
    "    subj, sess = int(b[i, 0]), int(b[i, 1])\n",
    "    d = data[subj][sess][\"data\"]\n",
    "    a = data[subj][sess][\"annots\"]\n",
    "\n",
    "    si, ei = int(b[i,2]), int(b[i,3])\n",
    "    print(si, ei)\n",
    "    \n",
    "    plt.plot(d[si:ei, 0], d[si:ei, 1:4])\n",
    "    plt.grid(True)\n",
    "    plt.show()"
   ]
  },
  {
   "cell_type": "code",
   "execution_count": 46,
   "metadata": {},
   "outputs": [
    {
     "name": "stdout",
     "output_type": "stream",
     "text": [
      "(3614, 11)\n",
      "3087\n"
     ]
    },
    {
     "data": {
      "image/png": "[encoded data removed]",
      "text/plain": [
       "<matplotlib.figure.Figure at 0x17bd6eae9b0>"
      ]
     },
     "metadata": {},
     "output_type": "display_data"
    }
   ],
   "source": [
    "sss = sub_sess_segs\n",
    "c = sss[:, 9]+sss[:, 10]\n",
    "s = sss[c>0]\n",
    "#print(np.sum(c>0))\n",
    "print(s.shape)\n",
    "\n",
    "dur = (s[:, 3]-s[:, 2])/16\n",
    "print(np.sum(dur<7))\n",
    "plt.hist(dur, bins=100)\n",
    "plt.show()\n"
   ]
  },
  {
   "cell_type": "code",
   "execution_count": null,
   "metadata": {},
   "outputs": [],
   "source": [
    "\n",
    "\n",
    "\n",
    "\n",
    "\n",
    "\n",
    "\n",
    "\n",
    "\n",
    "\n",
    "\n",
    "\n",
    "\n",
    "\n",
    "\n",
    "\n",
    "\n"
   ]
  }
 ],
 "metadata": {
  "kernelspec": {
   "display_name": "Python 3",
   "language": "python",
   "name": "python3"
  },
  "language_info": {
   "codemirror_mode": {
    "name": "ipython",
    "version": 3
   },
   "file_extension": ".py",
   "mimetype": "text/x-python",
   "name": "python",
   "nbconvert_exporter": "python",
   "pygments_lexer": "ipython3",
   "version": "3.6.4"
  }
 },
 "nbformat": 4,
 "nbformat_minor": 2
}
