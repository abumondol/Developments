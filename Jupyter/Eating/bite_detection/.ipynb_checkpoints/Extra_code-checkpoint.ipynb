{
 "cells": [
  {
   "cell_type": "code",
   "execution_count": null,
   "metadata": {},
   "outputs": [],
   "source": [
    "y_pred = tf.cast(tf.greater_equal(prediction[:,0], 0.5), tf.int32) \n",
    "y_gt = tf.cast(y[:, 0], tf.int32)\n",
    "#print(y_pred.dtype, y_gt.dtype)\n",
    "#correct = tf.equal(y_pred, y_gt)\n",
    "#wrong = tf.not_equal(y_pred, y_gt)\n",
    "y_pred_neg = tf.cast(tf.equal(y_pred, 1), tf.int32)\n",
    "y_pred_pos = tf.cast(tf.equal(y_pred, 0), tf.int32)\n",
    "y_gt_neg = tf.cast(tf.equal(y_gt, 1), tf.int32)\n",
    "y_gt_pos = tf.cast(tf.equal(y_gt, 0), tf.int32)\n",
    "\n",
    "\n",
    "tn = tf.reduce_sum(tf.multiply(y_pred_neg, y_gt_neg), name=\"TN\")\n",
    "tp = tf.reduce_sum(tf.multiply(y_pred_pos, y_gt_pos), name=\"TP\")\n",
    "fn = tf.reduce_sum(tf.multiply(y_pred_neg, y_gt_pos), name=\"TP\")\n",
    "fp = tf.reduce_sum(tf.multiply(y_pred_pos, y_gt_neg), name=\"TP\")\n",
    "\n",
    "#precision = tp/(tp+fp)\n",
    "#recall = tp/(tp+fn)\n",
    "#f1_score = 2*precision*recall/(precision+recall)"
   ]
  }
 ],
 "metadata": {
  "kernelspec": {
   "display_name": "Python 3",
   "language": "python",
   "name": "python3"
  },
  "language_info": {
   "codemirror_mode": {
    "name": "ipython",
    "version": 3
   },
   "file_extension": ".py",
   "mimetype": "text/x-python",
   "name": "python",
   "nbconvert_exporter": "python",
   "pygments_lexer": "ipython3",
   "version": "3.6.4"
  }
 },
 "nbformat": 4,
 "nbformat_minor": 2
}
