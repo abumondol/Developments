{
 "cells": [
  {
   "cell_type": "code",
   "execution_count": 1,
   "metadata": {},
   "outputs": [],
   "source": [
    "import numpy as np\n",
    "import os\n",
    "import matplotlib.pyplot as plt\n",
    "%matplotlib inline"
   ]
  },
  {
   "cell_type": "code",
   "execution_count": null,
   "metadata": {},
   "outputs": [],
   "source": [
    "path ='C:/ASM/DevData/eating/eating_detection/outputs/bite_detection/mid/minbiteinterval_32_varth_025_windowsize_96_xth_-03/subject_-1/results'\n",
    "\n",
    "train_result = np.genfromtxt(path+'/train_result.csv', delimiter=',')\n",
    "test_result = np.genfromtxt(path+'/test_result.csv', delimiter=',')\n",
    "test_pred = np.genfromtxt(path+'/test_prediction.csv', delimiter=',')"
   ]
  }
 ],
 "metadata": {
  "kernelspec": {
   "display_name": "Python 3",
   "language": "python",
   "name": "python3"
  },
  "language_info": {
   "codemirror_mode": {
    "name": "ipython",
    "version": 3
   },
   "file_extension": ".py",
   "mimetype": "text/x-python",
   "name": "python",
   "nbconvert_exporter": "python",
   "pygments_lexer": "ipython3",
   "version": "3.6.4"
  }
 },
 "nbformat": 4,
 "nbformat_minor": 2
}
