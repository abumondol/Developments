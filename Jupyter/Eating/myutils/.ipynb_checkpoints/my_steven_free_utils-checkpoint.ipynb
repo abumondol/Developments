{
 "cells": [
  {
   "cell_type": "code",
   "execution_count": 1,
   "metadata": {},
   "outputs": [],
   "source": [
    "import numpy as np"
   ]
  },
  {
   "cell_type": "code",
   "execution_count": 2,
   "metadata": {},
   "outputs": [],
   "source": [
    "def process_anntos(dcount, a):\n",
    "    acount = len(a)\n",
    "    for i in range(acount):\n",
    "        if a[i, 0]>=dcount:\n",
    "            print(\"Annots cut at meal: {}/{}, Times data, start: {}, {}\".format(i+1, acount, dcount//16, a[i,0]//16))\n",
    "            a = a[:i, :]            \n",
    "            break\n",
    "            \n",
    "        if a[i, 1]>=dcount:\n",
    "            print(\"Annots end adjusted at meal: {}/{}, Times data, end: {}, {}\".format(i+1, acount, dcount//16, a[i,0]//16))\n",
    "            a[i, 1]=dcount-1\n",
    "            a = a[:i+1, :]            \n",
    "            break\n",
    "    return a"
   ]
  },
  {
   "cell_type": "code",
   "execution_count": null,
   "metadata": {},
   "outputs": [],
   "source": []
  }
 ],
 "metadata": {
  "kernelspec": {
   "display_name": "Python 3",
   "language": "python",
   "name": "python3"
  },
  "language_info": {
   "codemirror_mode": {
    "name": "ipython",
    "version": 3
   },
   "file_extension": ".py",
   "mimetype": "text/x-python",
   "name": "python",
   "nbconvert_exporter": "python",
   "pygments_lexer": "ipython3",
   "version": "3.6.4"
  }
 },
 "nbformat": 4,
 "nbformat_minor": 2
}
