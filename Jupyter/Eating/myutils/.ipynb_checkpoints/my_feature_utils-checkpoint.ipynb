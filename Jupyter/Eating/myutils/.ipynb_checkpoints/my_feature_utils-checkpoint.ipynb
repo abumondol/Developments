{
 "cells": [
  {
   "cell_type": "code",
   "execution_count": 1,
   "metadata": {},
   "outputs": [],
   "source": [
    "import numpy as np\n",
    "import scipy as sp"
   ]
  },
  {
   "cell_type": "code",
   "execution_count": 2,
   "metadata": {},
   "outputs": [],
   "source": [
    "def get_variance_accel(ds, indices, win_size):   \n",
    "    count = len(indices)\n",
    "    v = np.zeros((count, ))    \n",
    "    for i in range(count):\n",
    "        subj, sess, ix = indices[i, 0], indices[i, 1], indices[i, 2]\n",
    "        v[i] = np.sum(np.var(ds[subj][sess][ix:ix+win_size, 1:4], axis=0))                \n",
    "    return v\n",
    "    "
   ]
  },
  {
   "cell_type": "code",
   "execution_count": 3,
   "metadata": {},
   "outputs": [],
   "source": [
    "def get_grav_x(ds, indices, index_offset=0):   \n",
    "    count = len(indices)\n",
    "    x = np.zeros((count, ))    \n",
    "    for i in range(count):\n",
    "        subj, sess, ix = indices[i, 0], indices[i, 1], indices[i, 2]+index_offset\n",
    "        x[i] = ds[subj][sess][ix, -3]                \n",
    "    return x"
   ]
  },
  {
   "cell_type": "code",
   "execution_count": 11,
   "metadata": {},
   "outputs": [],
   "source": [
    "def get_covariance_multi_sensor(w):\n",
    "    covs = np.zeros((w.shape[1], ))\n",
    "    for i in range(0, w.shape[1], 3):\n",
    "        d = w[:, i:i+3]\n",
    "        covs[i:i+3] = np.cov(d, rowvar=False).diagonal()\n",
    "    return covs"
   ]
  },
  {
   "cell_type": "code",
   "execution_count": 12,
   "metadata": {},
   "outputs": [],
   "source": [
    "def get_features(w):\n",
    "    mean = np.mean(w, axis=0)\n",
    "    std = np.std(w, axis=0)\n",
    "    cov = get_covariance_multi_sensor(w)\n",
    "    skewness = sp.stats.skew(w, axis=0)\n",
    "    kurtosis = sp.stats.kurtosis(w, axis=0)\n",
    "    f = np.concatenate((mean, std, cov, skewness, kurtosis))\n",
    "    return f"
   ]
  },
  {
   "cell_type": "code",
   "execution_count": 2,
   "metadata": {},
   "outputs": [],
   "source": [
    "def get_energy(d, step_size):\n",
    "    dcount = len(d)\n",
    "    indices = list(range(0, dcount-step_size, step_size))\n",
    "    res = np.zeros((len(indices), 3))    \n",
    "    for i in range(len(indices)):\n",
    "        ix = indices[i]        \n",
    "        res[i, 0] = ix\n",
    "        \n",
    "        seg = d[ix:ix+step_size, 4:7]        \n",
    "        res[i, 1] = np.sum(seg*seg)\n",
    "        \n",
    "        seg = d[ix:ix+step_size, 7:10]        \n",
    "        res[i, 2] = np.sum(seg*seg)\n",
    "    \n",
    "    return res\n",
    "                \n",
    "\n",
    "        \n",
    "        "
   ]
  },
  {
   "cell_type": "code",
   "execution_count": null,
   "metadata": {},
   "outputs": [],
   "source": []
  }
 ],
 "metadata": {
  "kernelspec": {
   "display_name": "Python 3",
   "language": "python",
   "name": "python3"
  },
  "language_info": {
   "codemirror_mode": {
    "name": "ipython",
    "version": 3
   },
   "file_extension": ".py",
   "mimetype": "text/x-python",
   "name": "python",
   "nbconvert_exporter": "python",
   "pygments_lexer": "ipython3",
   "version": "3.6.4"
  }
 },
 "nbformat": 4,
 "nbformat_minor": 2
}
