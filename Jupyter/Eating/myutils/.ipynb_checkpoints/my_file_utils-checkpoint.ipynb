{
 "cells": [
  {
   "cell_type": "code",
   "execution_count": 1,
   "metadata": {},
   "outputs": [],
   "source": [
    "import numpy as np\n",
    "import pickle\n",
    "import os"
   ]
  },
  {
   "cell_type": "code",
   "execution_count": 2,
   "metadata": {},
   "outputs": [],
   "source": [
    "def get_path():\n",
    "    path = 'C:/ASM/DevData/eating' if 'C:' in os.getcwd() else '.'\n",
    "    return path"
   ]
  },
  {
   "cell_type": "code",
   "execution_count": 3,
   "metadata": {},
   "outputs": [],
   "source": [
    "def create_directory(path):\n",
    "    if not os.path.exists(path):        \n",
    "        os.makedirs(path)"
   ]
  },
  {
   "cell_type": "code",
   "execution_count": 4,
   "metadata": {},
   "outputs": [],
   "source": [
    "def read_file(folder_name, file_name):\n",
    "    new_path = get_path()+'/'+folder_name\n",
    "    with open(new_path+'/'+file_name, 'rb') as file:\n",
    "        data = pickle.load(file)\n",
    "    return data"
   ]
  },
  {
   "cell_type": "code",
   "execution_count": 5,
   "metadata": {},
   "outputs": [],
   "source": [
    "def write_file(folder_name, file_name, data):\n",
    "    new_path = get_path()+'/'+folder_name\n",
    "    create_directory(new_path)\n",
    "    \n",
    "    with open(new_path+'/'+file_name, 'wb') as file:\n",
    "        pickle.dump(data, file)    "
   ]
  },
  {
   "cell_type": "code",
   "execution_count": 6,
   "metadata": {},
   "outputs": [],
   "source": [
    "def param_string(params):\n",
    "    keys = sorted(params.keys())\n",
    "    s =\"\"\n",
    "    for key in keys:\n",
    "        s += key.replace(\"_\", \"\") + \"_\" + str(params[key]).replace(\".\",\"\") + \"_\"\n",
    "    \n",
    "    s = s[:-1]\n",
    "    return s"
   ]
  },
  {
   "cell_type": "code",
   "execution_count": null,
   "metadata": {},
   "outputs": [],
   "source": []
  }
 ],
 "metadata": {
  "kernelspec": {
   "display_name": "Python 3",
   "language": "python",
   "name": "python3"
  },
  "language_info": {
   "codemirror_mode": {
    "name": "ipython",
    "version": 3
   },
   "file_extension": ".py",
   "mimetype": "text/x-python",
   "name": "python",
   "nbconvert_exporter": "python",
   "pygments_lexer": "ipython3",
   "version": "3.6.4"
  }
 },
 "nbformat": 4,
 "nbformat_minor": 2
}
