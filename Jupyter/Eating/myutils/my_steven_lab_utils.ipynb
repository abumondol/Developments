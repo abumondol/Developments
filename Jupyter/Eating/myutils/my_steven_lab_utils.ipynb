{
 "cells": [
  {
   "cell_type": "code",
   "execution_count": 1,
   "metadata": {},
   "outputs": [],
   "source": [
    "import numpy as np"
   ]
  },
  {
   "cell_type": "code",
   "execution_count": 2,
   "metadata": {},
   "outputs": [],
   "source": [
    "def adjust_annots(annots, subj, sess):\n",
    "    a = np.copy(annots)\n",
    "    if subj==0 and sess==1:\n",
    "        print('Subject {}, Sess {} annots adjusted'.format(0, 1))\n",
    "        cond = a[:,0]>=9508*16\n",
    "        a[cond, 0] = a[cond, 0] + int(1.6*16) #add offset\n",
    "        a[cond, 1] = a[cond, 1] + int(1.6*16) #add offset\n",
    "\n",
    "    if subj==2 and sess==0:\n",
    "        cond = a[:,0]>=9215*16\n",
    "        #a = a[cond, :] \n",
    "\n",
    "    if subj==5 and sess==1:\n",
    "        print('Subject {}, Sess {} annots adjusted'.format(5, 1))\n",
    "        cond = a[:,0]>=11717*16\n",
    "        a[cond, 0] = a[cond, 0] + int(1.3*16) #add offset\n",
    "        a[cond, 1] = a[cond, 1] + int(1.3*16) #add offset        \n",
    "        \n",
    "    return a"
   ]
  },
  {
   "cell_type": "code",
   "execution_count": 4,
   "metadata": {},
   "outputs": [],
   "source": [
    "def adjust_annots_all(annots):\n",
    "    import copy\n",
    "    annots = copy.copy(annots)\n",
    "    subj, sess = 0, 1\n",
    "    annots[subj][sess] = adjust_annots(annots[subj][sess], subj, sess)\n",
    "    \n",
    "    subj, sess = 5, 1\n",
    "    annots[subj][sess] = adjust_annots(annots[subj][sess], subj, sess)    \n",
    "        \n",
    "    return annots"
   ]
  },
  {
   "cell_type": "code",
   "execution_count": 3,
   "metadata": {},
   "outputs": [],
   "source": [
    "def filter_annots(annots, bite_sip=None, hand=None, filter_ambigous=False):    \n",
    "    cond1 = np.full((annots.shape[0], ), True)\n",
    "    cond2 = np.copy(cond1)\n",
    "    cond3 = np.copy(cond1)\n",
    "    \n",
    "    if bite_sip=='bite':\n",
    "        cond1 = annots[:, 2]==1\n",
    "    elif bite_sip=='sip':\n",
    "        cond1 = annots[:, 2]==2\n",
    "\n",
    "    assert bite_sip in ['bite', 'sip', None]\n",
    "    \n",
    "    if hand=='right':\n",
    "        cond2 = annots[:, 3]!=2\n",
    "    elif hand=='left':\n",
    "        cond2 = annots[:, 3]>=2\n",
    "    elif hand=='both_only':\n",
    "        cond2 = annots[:, 3]==3\n",
    "        \n",
    "    assert hand in ['right', 'left', 'both_only', None]\n",
    "    \n",
    "    if filter_ambigous:\n",
    "        cond3 = annots[:, 4]==0\n",
    "        \n",
    "    annots = annots[cond1&cond2&cond3, :]\n",
    "    return annots\n",
    "\n",
    "def filter_annots_all(annots, bite_sip=None, hand=None, filter_ambigous=False):\n",
    "    import copy\n",
    "    a = copy.copy(annots) #we do not need deep copy\n",
    "    for subj in range(len(a)):\n",
    "        for sess in range(len(a[subj])):            \n",
    "            a[subj][sess] = filter_annots(annots[subj][sess], bite_sip=bite_sip, hand=hand, filter_ambigous=filter_ambigous)\n",
    "            \n",
    "    return a"
   ]
  },
  {
   "cell_type": "code",
   "execution_count": 2,
   "metadata": {},
   "outputs": [],
   "source": [
    "def separate_right_left_annots(dsa):\n",
    "    right, left, annots = [], [], []    \n",
    "    for subj in range(len(dsa)):\n",
    "        subj_right, subj_left, subj_annots = [], [], []        \n",
    "        for sess in range(len(dsa[subj])):\n",
    "            subj_right.append(dsa[subj][sess]['data_right'])\n",
    "            subj_left.append(dsa[subj][sess]['data_left'])\n",
    "            subj_annots.append(dsa[subj][sess]['annots'])\n",
    "            \n",
    "        right.append(subj_right)\n",
    "        left.append(subj_left)\n",
    "        annots.append(subj_annots)\n",
    "        \n",
    "    return right, left, annots"
   ]
  },
  {
   "cell_type": "code",
   "execution_count": null,
   "metadata": {},
   "outputs": [],
   "source": []
  }
 ],
 "metadata": {
  "kernelspec": {
   "display_name": "Python 3",
   "language": "python",
   "name": "python3"
  },
  "language_info": {
   "codemirror_mode": {
    "name": "ipython",
    "version": 3
   },
   "file_extension": ".py",
   "mimetype": "text/x-python",
   "name": "python",
   "nbconvert_exporter": "python",
   "pygments_lexer": "ipython3",
   "version": "3.6.4"
  }
 },
 "nbformat": 4,
 "nbformat_minor": 2
}
