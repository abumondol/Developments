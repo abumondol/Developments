{
 "cells": [
  {
   "cell_type": "code",
   "execution_count": 1,
   "metadata": {},
   "outputs": [],
   "source": [
    "import numpy as np\n",
    "import pickle\n",
    "import matplotlib.pyplot as plt\n",
    "%matplotlib inline"
   ]
  },
  {
   "cell_type": "code",
   "execution_count": 2,
   "metadata": {},
   "outputs": [],
   "source": [
    "with open('C:/ASM/DevData/eating/data/steven_uva_lab_data_combined_normalized.pkl', 'rb') as file:\n",
    "        data = pickle.load(file)"
   ]
  },
  {
   "cell_type": "code",
   "execution_count": 18,
   "metadata": {},
   "outputs": [
    {
     "name": "stdout",
     "output_type": "stream",
     "text": [
      "Subject count:  28\n",
      "3842 2955 887\n",
      "111.1271286231884\n"
     ]
    }
   ],
   "source": [
    "subject_count =len(data)\n",
    "print(\"Subject count: \", subject_count)\n",
    "\n",
    "total_sess = 0\n",
    "duration = 0\n",
    "total_annots, total_bites, total_sips = 0, 0 , 0\n",
    "diffs = np.empty((0,))\n",
    "for subject in range(subject_count):\n",
    "    sess_count = len(data[subject])\n",
    "    total_sess+=sess_count\n",
    "    for sess in range(sess_count):\n",
    "        duration += data[subject][sess][\"data\"][-1,0]\n",
    "        a = data[subject][sess][\"annots\"]\n",
    "        b = np.sum(a[:, 1]==1)\n",
    "        s = np.sum(a[:, 1]==2)\n",
    "        \n",
    "        total_annots += len(a)\n",
    "        total_bites += b\n",
    "        total_sips += s\n",
    "        \n",
    "        df = a[1:, 0] - a[:-1, 0]\n",
    "        diffs = np.concatenate((diffs, df))\n",
    "\n",
    "diffs = diffs/16\n",
    "d = duration/total_sess/60\n",
    "\n",
    "print(total_annots, total_bites, total_sips)\n",
    "print(d)\n",
    "    \n",
    "    "
   ]
  },
  {
   "cell_type": "code",
   "execution_count": 23,
   "metadata": {},
   "outputs": [
    {
     "name": "stdout",
     "output_type": "stream",
     "text": [
      "3796 3593 39\n"
     ]
    },
    {
     "data": {
      "text/plain": [
       "1.0273972602739727"
      ]
     },
     "execution_count": 23,
     "metadata": {},
     "output_type": "execute_result"
    }
   ],
   "source": [
    "a = diffs[diffs<60]\n",
    "b = diffs[diffs<2]\n",
    "print(len(diffs), len(a), len(b))\n",
    "100*39/3796"
   ]
  },
  {
   "cell_type": "code",
   "execution_count": 27,
   "metadata": {},
   "outputs": [
    {
     "name": "stdout",
     "output_type": "stream",
     "text": [
      "1.1327713382507905\n"
     ]
    },
    {
     "data": {
      "image/png": "[encoded data removed]",
      "text/plain": [
       "<matplotlib.figure.Figure at 0x2aa85c26c88>"
      ]
     },
     "metadata": {},
     "output_type": "display_data"
    },
    {
     "data": {
      "image/png": "[encoded data removed]",
      "text/plain": [
       "<matplotlib.figure.Figure at 0x2aa840f9f60>"
      ]
     },
     "metadata": {},
     "output_type": "display_data"
    }
   ],
   "source": [
    "fig, ax = plt.subplots()\n",
    "plt.hist(a, bins=50)\n",
    "plt.xlim([0, 60])\n",
    "plt.xlabel('Interval between consecutive bites/sips (Seconds)')\n",
    "plt.ylabel('Count')\n",
    "\n",
    "res = []\n",
    "total = len(diffs)\n",
    "for i in np.arange(0, 60.1, 0.1):\n",
    "    c = diffs[diffs<=i]\n",
    "    c = len(c)/total*100 \n",
    "    #print(i, c)\n",
    "    res.append([i, c])\n",
    "    if i==2:\n",
    "        print(c)\n",
    "\n",
    "res = np.asarray(res)\n",
    "fig, ax = plt.subplots()\n",
    "plt.plot(res[:, 0], res[:, 1])\n",
    "plt.xlim([0, 60])\n",
    "plt.xlabel('Cumulative Interval (Second)')\n",
    "plt.ylabel('Percentage(%)')\n",
    "plt.grid(True)"
   ]
  },
  {
   "cell_type": "code",
   "execution_count": 10,
   "metadata": {},
   "outputs": [
    {
     "name": "stdout",
     "output_type": "stream",
     "text": [
      "0 0  :: 1 0  :: 2 0  :: 2 1  :: 3 0  :: 3 1  :: 4 0  :: 4 1  :: 5 0  :: 5 1  :: 6 0  :: 6 1  :: 7 0  :: 8 0  :: 9 0  :: 10 0  :: 11 0  :: 12 0  :: 13 0  :: 14 0  :: 15 0  :: 16 0  :: 17 0  :: 18 0  :: 19 0  :: 20 0  :: 21 0  :: 21 1  :: 22 0  :: 22 1  :: 22 2  :: 22 3  :: 23 0  :: 23 1  :: 24 0  :: 24 1  :: 25 0  :: 25 1  :: 25 2  :: 25 3  :: 26 0  :: 26 1  :: 26 2  :: 26 3  :: 26 4  :: 27 0  :: (4907420, 6)\n"
     ]
    },
    {
     "data": {
      "text/plain": [
       "(array([-4.45089863e-15,  4.84898739e-14,  8.74472154e-14, -2.81580182e-16,\n",
       "         2.71981932e-15, -2.22915632e-16]), array([1., 1., 1., 1., 1., 1.]))"
      ]
     },
     "execution_count": 10,
     "metadata": {},
     "output_type": "execute_result"
    }
   ],
   "source": [
    "combo = data\n",
    "ds = np.empty((0, 6))\n",
    "for subject in range(len(combo)):\n",
    "    for sess in range(len(combo[subject])):\n",
    "        print(subject, sess, \" :: \", end=\"\")\n",
    "        d = combo[subject][sess][\"data\"][:, 4:]\n",
    "        ds = np.concatenate((ds,d), axis=0)\n",
    "        \n",
    "print(ds.shape)\n",
    "\n",
    "mu = np.mean(ds, axis=0)\n",
    "sigma = np.std(ds, axis=0)\n",
    "mu, sigma"
   ]
  }
 ],
 "metadata": {
  "kernelspec": {
   "display_name": "Python 3",
   "language": "python",
   "name": "python3"
  },
  "language_info": {
   "codemirror_mode": {
    "name": "ipython",
    "version": 3
   },
   "file_extension": ".py",
   "mimetype": "text/x-python",
   "name": "python",
   "nbconvert_exporter": "python",
   "pygments_lexer": "ipython3",
   "version": "3.6.4"
  }
 },
 "nbformat": 4,
 "nbformat_minor": 2
}
