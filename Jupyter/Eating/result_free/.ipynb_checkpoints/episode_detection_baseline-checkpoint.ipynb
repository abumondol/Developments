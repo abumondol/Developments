{
 "cells": [
  {
   "cell_type": "code",
   "execution_count": 7,
   "metadata": {},
   "outputs": [],
   "source": [
    "import numpy as np\n",
    "import scipy as sp\n",
    "import os \n",
    "import sys\n",
    "import importlib\n",
    "import copy\n",
    "import meal_detection_utils as mdu\n",
    "import result_utils as resu\n"
   ]
  },
  {
   "cell_type": "code",
   "execution_count": 8,
   "metadata": {},
   "outputs": [],
   "source": [
    "util_path = 'C:/ASM/Dropbox/Developments/Jupyter/Eating/myutils' if 'C:' in os.getcwd() else './myutils'\n",
    "sys.path.append(util_path)\n",
    "import my_file_utils as mfileu\n",
    "import my_data_process_utils as mdpu"
   ]
  },
  {
   "cell_type": "code",
   "execution_count": 9,
   "metadata": {},
   "outputs": [],
   "source": [
    "annots = mfileu.read_file('data', 'free_annots_steven_processed.pkl')\n",
    "bites_baseline = mfileu.read_file('bites', 'bites_baseline.pkl')\n",
    "subj_count = len(annots)"
   ]
  },
  {
   "cell_type": "code",
   "execution_count": 10,
   "metadata": {},
   "outputs": [],
   "source": [
    "def get_results(bites, exclude_subj, max_bite_distance, min_bite_count):\n",
    "    gts, acovs, clcovs = [], [], []\n",
    "    \n",
    "    for subj in range(len(bites)):\n",
    "        if subj==exclude_subj:\n",
    "            continue\n",
    "            \n",
    "        for sess in range(len(bites[subj])):            \n",
    "            a = annots[subj][sess]                        \n",
    "            b = bites[subj][sess]\n",
    "\n",
    "            episodes = mdu.cluster_bites_by_max_distance(b, max_bite_distance, min_bite_count)\n",
    "            \n",
    "            gt, ac, clc = resu.get_meal_detection_results_free(a, clusters=episodes)            \n",
    "            \n",
    "            gts = gt if len(gts)==0 else np.concatenate((gts, gt))\n",
    "            acovs = ac if len(acovs)==0 else np.concatenate((acovs, ac))\n",
    "            clcovs = clc if len(clcovs)==0 else np.concatenate((clcovs, clc))\n",
    "            \n",
    "    res = resu.get_metric_results_free(gts, acovs, clcovs)    \n",
    "    return res"
   ]
  },
  {
   "cell_type": "code",
   "execution_count": 11,
   "metadata": {},
   "outputs": [],
   "source": [
    "max_res = []\n",
    "for min_bite_count in range(2, 10):\n",
    "    for max_bite_distance  in range(15, 100, 15):\n",
    "        \n",
    "        res = get_results(bites_baseline, exclude_subj=-1, max_bite_distance=max_bite_distance*16, min_bite_count=min_bite_count)\n",
    "        \n",
    "        if len(max_res)== 0 or res[\"f1\"]>max_res[\"f1\"]:\n",
    "            max_res = res\n",
    "            max_res['mbp']=min_bite_count\n",
    "            max_res['mbd']=max_bite_distance\n",
    "        \n",
    "        #print(min_bite_count, max_bite_distance , res[\"precision\"], res[\"recall\"], res[\"f1\"])\n",
    "    "
   ]
  },
  {
   "cell_type": "code",
   "execution_count": 12,
   "metadata": {},
   "outputs": [
    {
     "name": "stdout",
     "output_type": "stream",
     "text": [
      "total : 82\n",
      "total_meal : 49\n",
      "total_snack : 33\n",
      "tp : 44\n",
      "tp_meal : 37\n",
      "tp_snack : 7\n",
      "recall : 0.5365853658536586\n",
      "recall_meal : 0.7551020408163265\n",
      "recall_snack : 0.21212121212121213\n",
      "fp : 23\n",
      "precision : 0.6567164179104478\n",
      "f1 : 0.5906040268456376\n",
      "start_error : 94.5640243902439\n",
      "start_error_meal : 136.15433673469389\n",
      "start_error_snack : 32.808712121212125\n",
      "end_error : 240.3079268292683\n",
      "end_error_meal : 373.875\n",
      "end_error_snack : 41.98106060606061\n",
      "fragment_error : 0.2682926829268293\n",
      "fragment_error_meal : 0.42857142857142855\n",
      "fragment_error_snack : 0.030303030303030304\n",
      "mbp : 4\n",
      "mbd : 60\n"
     ]
    }
   ],
   "source": [
    "for key, val in max_res.items():\n",
    "    print(\"{} : {}\".format(key, val))"
   ]
  },
  {
   "cell_type": "code",
   "execution_count": null,
   "metadata": {},
   "outputs": [],
   "source": []
  },
  {
   "cell_type": "code",
   "execution_count": null,
   "metadata": {},
   "outputs": [],
   "source": []
  }
 ],
 "metadata": {
  "kernelspec": {
   "display_name": "Python 3",
   "language": "python",
   "name": "python3"
  },
  "language_info": {
   "codemirror_mode": {
    "name": "ipython",
    "version": 3
   },
   "file_extension": ".py",
   "mimetype": "text/x-python",
   "name": "python",
   "nbconvert_exporter": "python",
   "pygments_lexer": "ipython3",
   "version": "3.6.4"
  }
 },
 "nbformat": 4,
 "nbformat_minor": 2
}
