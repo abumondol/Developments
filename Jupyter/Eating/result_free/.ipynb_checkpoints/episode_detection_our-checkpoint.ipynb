{
 "cells": [
  {
   "cell_type": "code",
   "execution_count": 38,
   "metadata": {},
   "outputs": [],
   "source": [
    "import numpy as np\n",
    "import scipy as sp\n",
    "import os \n",
    "import sys\n",
    "import importlib\n",
    "import copy\n",
    "import meal_detection_utils as mdu\n",
    "import result_utils as resu\n"
   ]
  },
  {
   "cell_type": "code",
   "execution_count": 39,
   "metadata": {},
   "outputs": [],
   "source": [
    "util_path = 'C:/ASM/Dropbox/Developments/Jupyter/Eating/myutils' if 'C:' in os.getcwd() else './myutils'\n",
    "sys.path.append(util_path)\n",
    "import my_file_utils as mfileu\n",
    "import my_data_process_utils as mdpu"
   ]
  },
  {
   "cell_type": "code",
   "execution_count": 40,
   "metadata": {},
   "outputs": [],
   "source": [
    "annots = mfileu.read_file('data', 'free_annots_steven_processed.pkl')\n",
    "bites_baseline_our = mfileu.read_file('bites', 'bites_rf_g3.pkl')\n",
    "subj_count = len(annots)"
   ]
  },
  {
   "cell_type": "code",
   "execution_count": 41,
   "metadata": {},
   "outputs": [],
   "source": [
    "def get_results(bites, exclude_subj, max_bite_distance, min_bite_count):\n",
    "    gts, acovs, clcovs = [], [], []\n",
    "    \n",
    "    for subj in range(len(bites)):\n",
    "        if subj==exclude_subj:\n",
    "            continue\n",
    "            \n",
    "        for sess in range(len(bites[subj])):            \n",
    "            a = annots[subj][sess]                        \n",
    "            b = bites[subj][sess]\n",
    "\n",
    "            episodes = mdu.cluster_bites_by_max_distance(b, max_bite_distance, min_bite_count)\n",
    "            \n",
    "            gt, ac, clc = resu.get_meal_detection_results_free(a, clusters=episodes)            \n",
    "            \n",
    "            gts = gt if len(gts)==0 else np.concatenate((gts, gt))\n",
    "            acovs = ac if len(acovs)==0 else np.concatenate((acovs, ac))\n",
    "            clcovs = clc if len(clcovs)==0 else np.concatenate((clcovs, clc))\n",
    "            \n",
    "    res = resu.get_metric_results_free(gts, acovs, clcovs)    \n",
    "    return res"
   ]
  },
  {
   "cell_type": "code",
   "execution_count": 42,
   "metadata": {},
   "outputs": [],
   "source": [
    "def get_bites_best_proba(max_bite_distance, min_bite_count):\n",
    "    best_bites = copy.deepcopy(annots)\n",
    "    \n",
    "    for subj in range(subj_count):\n",
    "        best_proba_th = -1\n",
    "        best_f1 = -1\n",
    "    \n",
    "        for p in range(5, 100, 5):\n",
    "            proba_th = p/100\n",
    "            bites = bites_baseline_our[proba_th]\n",
    "            res = get_results(bites, subj, max_bite_distance, min_bite_count)\n",
    "            \n",
    "            if best_proba_th<0 or best_f1<res[\"f1\"]:\n",
    "                best_proba_th = proba_th\n",
    "                best_f1 = res[\"f1\"]\n",
    "        \n",
    "        #print(subj, best_proba_th, best_f1)\n",
    "        best_bites[subj] = bites_baseline_our[best_proba_th][subj]\n",
    "        \n",
    "    return best_bites\n"
   ]
  },
  {
   "cell_type": "code",
   "execution_count": 43,
   "metadata": {},
   "outputs": [
    {
     "name": "stdout",
     "output_type": "stream",
     "text": [
      "15 2\n",
      "15 3\n",
      "15 4\n",
      "15 5\n",
      "15 6\n",
      "15 7\n",
      "30 2\n",
      "30 3\n",
      "30 4\n",
      "30 5\n",
      "30 6\n",
      "30 7\n",
      "45 2\n",
      "45 3\n",
      "45 4\n",
      "45 5\n",
      "45 6\n",
      "45 7\n",
      "60 2\n",
      "60 3\n",
      "60 4\n",
      "60 5\n",
      "60 6\n",
      "60 7\n",
      "75 2\n",
      "75 3\n",
      "75 4\n",
      "75 5\n",
      "75 6\n",
      "75 7\n",
      "90 2\n",
      "90 3\n",
      "90 4\n",
      "90 5\n",
      "90 6\n",
      "90 7\n",
      "105 2\n",
      "105 3\n",
      "105 4\n",
      "105 5\n",
      "105 6\n",
      "105 7\n",
      "120 2\n",
      "120 3\n",
      "120 4\n",
      "120 5\n",
      "120 6\n",
      "120 7\n",
      "135 2\n",
      "135 3\n",
      "135 4\n",
      "135 5\n",
      "135 6\n",
      "135 7\n"
     ]
    }
   ],
   "source": [
    "max_res = []\n",
    "for max_bite_distance  in range(15, 150, 15):\n",
    "    for min_bite_count in range(2, 8):\n",
    "            print(max_bite_distance, min_bite_count, end=\" | \")\n",
    "            #for p in range(5, 100, 5):\n",
    "            #proba_th = p/100\n",
    "            #bites = bites_baseline_our[proba_th]\n",
    "            bites = get_bites_best_proba(max_bite_distance=max_bite_distance*16, min_bite_count=min_bite_count)\n",
    "            res = get_results(bites, exclude_subj=-1, max_bite_distance=max_bite_distance*16, min_bite_count=min_bite_count)\n",
    "\n",
    "            if len(max_res)== 0 or res[\"f1\"]>max_res[\"f1\"]:\n",
    "                max_res = res\n",
    "                max_res['mbp']=min_bite_count\n",
    "                max_res['mbd']=max_bite_distance\n",
    "\n",
    "        #print(min_bite_count, max_bite_distance , res[\"precision\"], res[\"recall\"], res[\"f1\"])\n",
    "    "
   ]
  },
  {
   "cell_type": "code",
   "execution_count": 44,
   "metadata": {},
   "outputs": [
    {
     "name": "stdout",
     "output_type": "stream",
     "text": [
      "total : 82\n",
      "total_meal : 49\n",
      "total_snack : 33\n",
      "tp : 41\n",
      "tp_meal : 33\n",
      "tp_snack : 8\n",
      "recall : 0.5\n",
      "recall_meal : 0.673469387755102\n",
      "recall_snack : 0.24242424242424243\n",
      "fp : 27\n",
      "precision : 0.6029411764705882\n",
      "f1 : 0.5466666666666666\n",
      "start_error : 83.4123475609756\n",
      "start_error_meal : 119.77933673469387\n",
      "start_error_snack : 29.41287878787879\n",
      "end_error : 176.3986280487805\n",
      "end_error_meal : 269.7640306122449\n",
      "end_error_snack : 37.765151515151516\n",
      "fragment_error : 0.23170731707317074\n",
      "fragment_error_meal : 0.3469387755102041\n",
      "fragment_error_snack : 0.06060606060606061\n",
      "mbp : 5\n",
      "mbd : 60\n"
     ]
    }
   ],
   "source": [
    "for key, val in max_res.items():\n",
    "    print(\"{} : {}\".format(key, val))"
   ]
  },
  {
   "cell_type": "code",
   "execution_count": null,
   "metadata": {},
   "outputs": [],
   "source": []
  },
  {
   "cell_type": "code",
   "execution_count": null,
   "metadata": {},
   "outputs": [],
   "source": []
  }
 ],
 "metadata": {
  "kernelspec": {
   "display_name": "Python 3",
   "language": "python",
   "name": "python3"
  },
  "language_info": {
   "codemirror_mode": {
    "name": "ipython",
    "version": 3
   },
   "file_extension": ".py",
   "mimetype": "text/x-python",
   "name": "python",
   "nbconvert_exporter": "python",
   "pygments_lexer": "ipython3",
   "version": "3.6.4"
  }
 },
 "nbformat": 4,
 "nbformat_minor": 2
}
