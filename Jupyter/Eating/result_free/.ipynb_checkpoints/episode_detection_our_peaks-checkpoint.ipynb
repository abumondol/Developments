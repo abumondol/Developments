{
 "cells": [
  {
   "cell_type": "code",
   "execution_count": 24,
   "metadata": {},
   "outputs": [],
   "source": [
    "import numpy as np\n",
    "import scipy as sp\n",
    "import os \n",
    "import sys\n",
    "import importlib\n",
    "import copy\n",
    "import meal_detection_utils as mdu\n",
    "import result_utils as resu\n"
   ]
  },
  {
   "cell_type": "code",
   "execution_count": 25,
   "metadata": {},
   "outputs": [],
   "source": [
    "util_path = 'C:/ASM/Dropbox/Developments/Jupyter/Eating/myutils' if 'C:' in os.getcwd() else './myutils'\n",
    "sys.path.append(util_path)\n",
    "import my_file_utils as mfileu\n",
    "import my_data_process_utils as mdpu"
   ]
  },
  {
   "cell_type": "code",
   "execution_count": 26,
   "metadata": {},
   "outputs": [],
   "source": [
    "annots = mfileu.read_file('data', 'free_annots_steven_processed.pkl')\n",
    "peak_ssilp = mfileu.read_file('classification_results', 'free_ssilp_cnn_peaks.pkl')\n",
    "subj_count = len(annots)"
   ]
  },
  {
   "cell_type": "code",
   "execution_count": 27,
   "metadata": {},
   "outputs": [],
   "source": [
    "def get_subject_result(ssilp, subj, proba, max_bite_distance, min_bite_count):\n",
    "    gts, acovs, clcovs = [], [], []\n",
    "    \n",
    "    for sess in range(len(annots[subj])):            \n",
    "        a = annots[subj][sess]            \n",
    "        ix = ssilp[subj][sess][:, 2]\n",
    "        p = ssilp[subj][sess][:, -1]            \n",
    "        bites = ix[p>=proba]\n",
    "\n",
    "        episodes = mdu.cluster_bites_by_max_distance(bites, max_bite_distance, min_bite_count)\n",
    "\n",
    "        gt, ac, clc = resu.get_meal_detection_results_free(a, clusters=episodes)            \n",
    "\n",
    "        #gt = mdpu.add_subj_sess_to_array(gt, subj, sess, at_begin=False)\n",
    "        #ac = mdpu.add_subj_sess_to_array(ac, subj, sess, at_begin=False)\n",
    "        #clc = mdpu.add_subj_sess_to_array(clc, subj, sess, at_begin=False)\n",
    "\n",
    "        gts = gt if len(gts)==0 else np.concatenate((gts, gt))\n",
    "        acovs = ac if len(acovs)==0 else np.concatenate((acovs, ac))\n",
    "        clcovs = clc if len(clcovs)==0 else np.concatenate((clcovs, clc))\n",
    "    \n",
    "    return gts, acovs, clcovs"
   ]
  },
  {
   "cell_type": "code",
   "execution_count": 28,
   "metadata": {},
   "outputs": [],
   "source": [
    "def get_results_exclude_subj(ssilp, exclude_subj, proba, max_bite_distance, min_bite_count):    \n",
    "    gts, acovs, clcovs = [], [], []\n",
    "    \n",
    "    for subj in range(len(annots)):\n",
    "        if subj == exclude_subj:\n",
    "            continue\n",
    "            \n",
    "        gt, ac, clc = get_subject_result(ssilp, subj, proba, max_bite_distance, min_bite_count)\n",
    "        \n",
    "        gts = gt if len(gts)==0 else np.concatenate((gts, gt))\n",
    "        acovs = ac if len(acovs)==0 else np.concatenate((acovs, ac))\n",
    "        clcovs = clc if len(clcovs)==0 else np.concatenate((clcovs, clc))    \n",
    "\n",
    "    res = resu.get_metric_results_free(gts, acovs, clcovs)\n",
    "    return res "
   ]
  },
  {
   "cell_type": "code",
   "execution_count": 29,
   "metadata": {},
   "outputs": [],
   "source": [
    "def get_results_all_subj(ssilp, params):    \n",
    "    gts, acovs, clcovs = [], [], []\n",
    "    \n",
    "    for subj in range(len(annots)):\n",
    "        proba, max_bite_distance, min_bite_count = params[subj, 0], params[subj, 1], params[subj, 2]\n",
    "        \n",
    "        gt, ac, clc = get_subject_result(ssilp, subj, proba, max_bite_distance, min_bite_count)\n",
    "        \n",
    "        gts = gt if len(gts)==0 else np.concatenate((gts, gt))\n",
    "        acovs = ac if len(acovs)==0 else np.concatenate((acovs, ac))\n",
    "        clcovs = clc if len(clcovs)==0 else np.concatenate((clcovs, clc))  \n",
    "    \n",
    "    print(clcovs.shape)\n",
    "    res = resu.get_metric_results_free(gts, acovs, clcovs)\n",
    "    return res "
   ]
  },
  {
   "cell_type": "code",
   "execution_count": 35,
   "metadata": {},
   "outputs": [
    {
     "name": "stdout",
     "output_type": "stream",
     "text": [
      "0 | 1 | 2 | 3 | 4 | 5 | 6 | 7 | 8 | 9 | 10 | "
     ]
    }
   ],
   "source": [
    "res_all = []\n",
    "for subj in range(subj_count):\n",
    "    print(subj, end=\" | \")\n",
    "    for proba in np.arange(0.1, 0.9, 0.1):\n",
    "        for max_bite_distance in range(30, 200, 10):\n",
    "            for min_bite_count in range(2, 7):                \n",
    "                res  = get_results_exclude_subj(peak_ssilp, exclude_subj=subj, proba=proba, max_bite_distance=16*max_bite_distance, min_bite_count=min_bite_count)\n",
    "                res_all.append([subj, proba, max_bite_distance, min_bite_count, res[\"f1\"]])\n",
    "                "
   ]
  },
  {
   "cell_type": "code",
   "execution_count": 36,
   "metadata": {
    "scrolled": false
   },
   "outputs": [
    {
     "name": "stdout",
     "output_type": "stream",
     "text": [
      " 0 :: 0.30, 60, 3, 0.45122\n",
      "\n",
      " 1 :: 0.30, 60, 3, 0.42857\n",
      "\n",
      " 2 :: 0.70, 60, 3, 0.44037\n",
      "\n",
      " 3 :: 0.30, 60, 3, 0.44304\n",
      "\n",
      " 4 :: 0.30, 60, 3, 0.47205\n",
      "\n",
      " 5 :: 0.30, 60, 3, 0.44872\n",
      "\n",
      " 6 :: 0.30, 60, 3, 0.43750\n",
      "\n",
      " 7 :: 0.30, 60, 3, 0.46707\n",
      "\n",
      " 8 :: 0.30, 60, 3, 0.47205\n",
      "\n",
      " 9 :: 0.30, 60, 3, 0.51376\n",
      "\n",
      "10 :: 0.30, 60, 3, 0.45963\n",
      "\n"
     ]
    }
   ],
   "source": [
    "res = np.array(res_all)\n",
    "params = np.zeros((subj_count, 3))\n",
    "\n",
    "for subj in range(subj_count):\n",
    "    x = res[res[:, 0]==subj, :]\n",
    "    f1 = x[:, -1]\n",
    "    max_f1 = np.amax(f1)    \n",
    "    \n",
    "    x = x[x[:, -1]==max_f1, :]    \n",
    "    for i in range(len(x)):\n",
    "        print(\"{:2d} :: {:.2f}, {:.0f}, {:.0f}, {:.5f}\".format(subj, x[i, 1], x[i, 2], x[i, 3], x[i, 4]))\n",
    "    \n",
    "    print()\n",
    "    \n",
    "    proba, max_bite_distance, min_bite_count = x[0, 1], x[0, 2]*16, x[0, 3]\n",
    "    params[subj, :] = [proba, max_bite_distance, min_bite_count]"
   ]
  },
  {
   "cell_type": "code",
   "execution_count": 37,
   "metadata": {},
   "outputs": [
    {
     "data": {
      "text/plain": [
       "array([[3.0e-01, 9.6e+02, 3.0e+00],\n",
       "       [3.0e-01, 9.6e+02, 3.0e+00],\n",
       "       [7.0e-01, 9.6e+02, 3.0e+00],\n",
       "       [3.0e-01, 9.6e+02, 3.0e+00],\n",
       "       [3.0e-01, 9.6e+02, 3.0e+00],\n",
       "       [3.0e-01, 9.6e+02, 3.0e+00],\n",
       "       [3.0e-01, 9.6e+02, 3.0e+00],\n",
       "       [3.0e-01, 9.6e+02, 3.0e+00],\n",
       "       [3.0e-01, 9.6e+02, 3.0e+00],\n",
       "       [3.0e-01, 9.6e+02, 3.0e+00],\n",
       "       [3.0e-01, 9.6e+02, 3.0e+00]])"
      ]
     },
     "execution_count": 37,
     "metadata": {},
     "output_type": "execute_result"
    }
   ],
   "source": [
    "params"
   ]
  },
  {
   "cell_type": "code",
   "execution_count": 38,
   "metadata": {},
   "outputs": [
    {
     "name": "stdout",
     "output_type": "stream",
     "text": [
      "(127, 3)\n"
     ]
    }
   ],
   "source": [
    "#res = get_results_exclude_subj(peak_ssilp, -1, proba=0.02, max_bite_distance=16*100, min_bite_count=4)\n",
    "res = get_results_all_subj(peak_ssilp, params)"
   ]
  },
  {
   "cell_type": "code",
   "execution_count": 39,
   "metadata": {},
   "outputs": [
    {
     "name": "stdout",
     "output_type": "stream",
     "text": [
      "total : 82\n",
      "total_meal : 49\n",
      "total_snack : 33\n",
      "tp : 36\n",
      "tp_meal : 28\n",
      "tp_snack : 8\n",
      "recall : 0.43902439024390244\n",
      "recall_meal : 0.5714285714285714\n",
      "recall_snack : 0.24242424242424243\n",
      "fp : 49\n",
      "precision : 0.4235294117647059\n",
      "f1 : 0.4311377245508982\n",
      "start_error : 83.3140243902439\n",
      "start_error_meal : 123.28698979591837\n",
      "start_error_snack : 23.960227272727273\n",
      "end_error : 122.43216463414635\n",
      "end_error_meal : 187.28061224489795\n",
      "end_error_snack : 26.142045454545453\n",
      "fragment_error : 0.25609756097560976\n",
      "fragment_error_meal : 0.3673469387755102\n",
      "fragment_error_snack : 0.09090909090909091\n"
     ]
    }
   ],
   "source": [
    "for key, val in res.items():\n",
    "    print(\"{} : {}\".format(key, val))"
   ]
  },
  {
   "cell_type": "code",
   "execution_count": null,
   "metadata": {},
   "outputs": [],
   "source": []
  },
  {
   "cell_type": "code",
   "execution_count": null,
   "metadata": {},
   "outputs": [],
   "source": []
  }
 ],
 "metadata": {
  "kernelspec": {
   "display_name": "Python 3",
   "language": "python",
   "name": "python3"
  },
  "language_info": {
   "codemirror_mode": {
    "name": "ipython",
    "version": 3
   },
   "file_extension": ".py",
   "mimetype": "text/x-python",
   "name": "python",
   "nbconvert_exporter": "python",
   "pygments_lexer": "ipython3",
   "version": "3.6.4"
  }
 },
 "nbformat": 4,
 "nbformat_minor": 2
}
