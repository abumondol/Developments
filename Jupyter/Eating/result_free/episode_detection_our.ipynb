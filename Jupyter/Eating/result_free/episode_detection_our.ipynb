{
 "cells": [
  {
   "cell_type": "code",
   "execution_count": 45,
   "metadata": {},
   "outputs": [],
   "source": [
    "import numpy as np\n",
    "import scipy as sp\n",
    "import os \n",
    "import sys\n",
    "import importlib\n",
    "import copy\n",
    "import meal_detection_utils as mdu\n",
    "import result_utils as resu\n"
   ]
  },
  {
   "cell_type": "code",
   "execution_count": 46,
   "metadata": {},
   "outputs": [],
   "source": [
    "util_path = 'C:/ASM/Dropbox/Developments/Jupyter/Eating/myutils' if 'C:' in os.getcwd() else './myutils'\n",
    "sys.path.append(util_path)\n",
    "import my_file_utils as mfileu\n",
    "import my_data_process_utils as mdpu"
   ]
  },
  {
   "cell_type": "code",
   "execution_count": 47,
   "metadata": {},
   "outputs": [],
   "source": [
    "annots = mfileu.read_file('data', 'free_annots_steven_processed.pkl')\n",
    "bites_baseline_our = mfileu.read_file('bites', 'bites_rf_g3.pkl')\n",
    "subj_count = len(annots)"
   ]
  },
  {
   "cell_type": "code",
   "execution_count": 48,
   "metadata": {},
   "outputs": [],
   "source": [
    "def get_results(bites, exclude_subj, max_bite_distance, min_bite_count):\n",
    "    gts, acovs, clcovs = [], [], []\n",
    "    \n",
    "    for subj in range(len(bites)):\n",
    "        if subj==exclude_subj:\n",
    "            continue\n",
    "            \n",
    "        for sess in range(len(bites[subj])):            \n",
    "            a = annots[subj][sess]                        \n",
    "            b = bites[subj][sess]\n",
    "\n",
    "            episodes = mdu.cluster_bites_by_max_distance(b, max_bite_distance, min_bite_count)\n",
    "            \n",
    "            gt, ac, clc = resu.get_meal_detection_results_free(a, clusters=episodes)            \n",
    "            \n",
    "            gts = gt if len(gts)==0 else np.concatenate((gts, gt))\n",
    "            acovs = ac if len(acovs)==0 else np.concatenate((acovs, ac))\n",
    "            clcovs = clc if len(clcovs)==0 else np.concatenate((clcovs, clc))\n",
    "            \n",
    "    res = resu.get_metric_results_free(gts, acovs, clcovs)    \n",
    "    return res"
   ]
  },
  {
   "cell_type": "code",
   "execution_count": 49,
   "metadata": {},
   "outputs": [],
   "source": [
    "def get_bites_best_proba(max_bite_distance, min_bite_count):\n",
    "    best_bites = copy.deepcopy(annots)\n",
    "    \n",
    "    for subj in range(subj_count):\n",
    "        best_proba_th = -1\n",
    "        best_f1 = -1\n",
    "    \n",
    "        for p in range(5, 100, 5):\n",
    "            proba_th = p/100\n",
    "            bites = bites_baseline_our[proba_th]\n",
    "            res = get_results(bites, subj, max_bite_distance, min_bite_count)\n",
    "            \n",
    "            if best_proba_th<0 or best_f1<res[\"f1\"]:\n",
    "                best_proba_th = proba_th\n",
    "                best_f1 = res[\"f1\"]\n",
    "        \n",
    "        #print(subj, best_proba_th, best_f1)\n",
    "        best_bites[subj] = bites_baseline_our[best_proba_th][subj]\n",
    "        \n",
    "    return best_bites\n"
   ]
  },
  {
   "cell_type": "code",
   "execution_count": 50,
   "metadata": {},
   "outputs": [
    {
     "name": "stdout",
     "output_type": "stream",
     "text": [
      "15 2 | 15 3 | 15 4 | 15 5 | 15 6 | 15 7 | 30 2 | 30 3 | 30 4 | 30 5 | 30 6 | 30 7 | 45 2 | 45 3 | 45 4 | 45 5 | 45 6 | 45 7 | 60 2 | 60 3 | 60 4 | 60 5 | 60 6 | 60 7 | 75 2 | 75 3 | 75 4 | 75 5 | 75 6 | 75 7 | 90 2 | 90 3 | 90 4 | 90 5 | 90 6 | 90 7 | 105 2 | 105 3 | 105 4 | 105 5 | 105 6 | 105 7 | 120 2 | 120 3 | 120 4 | 120 5 | 120 6 | 120 7 | 135 2 | 135 3 | 135 4 | 135 5 | 135 6 | 135 7 | "
     ]
    }
   ],
   "source": [
    "max_res = []\n",
    "for max_bite_distance  in range(15, 150, 15):\n",
    "    for min_bite_count in range(2, 8):\n",
    "            print(max_bite_distance, min_bite_count, end=\" | \")\n",
    "            #for p in range(5, 100, 5):\n",
    "            #proba_th = p/100\n",
    "            #bites = bites_baseline_our[proba_th]\n",
    "            bites = get_bites_best_proba(max_bite_distance=max_bite_distance*16, min_bite_count=min_bite_count)\n",
    "            res = get_results(bites, exclude_subj=-1, max_bite_distance=max_bite_distance*16, min_bite_count=min_bite_count)\n",
    "\n",
    "            if len(max_res)== 0 or res[\"f1\"]>max_res[\"f1\"]:\n",
    "                max_res = res\n",
    "                max_res['mbp']=min_bite_count\n",
    "                max_res['mbd']=max_bite_distance\n",
    "\n",
    "        #print(min_bite_count, max_bite_distance , res[\"precision\"], res[\"recall\"], res[\"f1\"])\n",
    "    "
   ]
  },
  {
   "cell_type": "code",
   "execution_count": 52,
   "metadata": {},
   "outputs": [
    {
     "name": "stdout",
     "output_type": "stream",
     "text": [
      "total : 82\n",
      "total_meal : 49\n",
      "total_snack : 33\n",
      "tp : 38\n",
      "tp_meal : 30\n",
      "tp_snack : 8\n",
      "recall : 0.4634146341463415\n",
      "recall_meal : 0.6122448979591837\n",
      "recall_snack : 0.24242424242424243\n",
      "fp : 13\n",
      "precision : 0.7450980392156863\n",
      "f1 : 0.5714285714285715\n",
      "start_error : 108.98094512195122\n",
      "start_error_meal : 155.9859693877551\n",
      "start_error_snack : 39.18560606060606\n",
      "end_error : 143.3559451219512\n",
      "end_error_meal : 215.03826530612244\n",
      "end_error_snack : 36.91856060606061\n",
      "fragment_error : 0.12195121951219512\n",
      "fragment_error_meal : 0.16326530612244897\n",
      "fragment_error_snack : 0.06060606060606061\n",
      "mbp : 4\n",
      "mbd : 135\n"
     ]
    }
   ],
   "source": [
    "for key, val in max_res.items():\n",
    "    print(\"{} : {}\".format(key, val))"
   ]
  },
  {
   "cell_type": "code",
   "execution_count": null,
   "metadata": {},
   "outputs": [],
   "source": []
  },
  {
   "cell_type": "code",
   "execution_count": null,
   "metadata": {},
   "outputs": [],
   "source": []
  }
 ],
 "metadata": {
  "kernelspec": {
   "display_name": "Python 3",
   "language": "python",
   "name": "python3"
  },
  "language_info": {
   "codemirror_mode": {
    "name": "ipython",
    "version": 3
   },
   "file_extension": ".py",
   "mimetype": "text/x-python",
   "name": "python",
   "nbconvert_exporter": "python",
   "pygments_lexer": "ipython3",
   "version": "3.6.4"
  }
 },
 "nbformat": 4,
 "nbformat_minor": 2
}
