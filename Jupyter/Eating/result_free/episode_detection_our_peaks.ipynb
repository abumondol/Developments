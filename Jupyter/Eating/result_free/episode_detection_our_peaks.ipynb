{
 "cells": [
  {
   "cell_type": "code",
   "execution_count": 24,
   "metadata": {},
   "outputs": [],
   "source": [
    "import numpy as np\n",
    "import scipy as sp\n",
    "import os \n",
    "import sys\n",
    "import importlib\n",
    "import copy\n",
    "import meal_detection_utils as mdu\n",
    "import result_utils as resu\n"
   ]
  },
  {
   "cell_type": "code",
   "execution_count": 25,
   "metadata": {},
   "outputs": [],
   "source": [
    "util_path = 'C:/ASM/Dropbox/Developments/Jupyter/Eating/myutils' if 'C:' in os.getcwd() else './myutils'\n",
    "sys.path.append(util_path)\n",
    "import my_file_utils as mfileu\n",
    "import my_data_process_utils as mdpu"
   ]
  },
  {
   "cell_type": "code",
   "execution_count": 26,
   "metadata": {},
   "outputs": [],
   "source": [
    "annots = mfileu.read_file('data', 'free_annots_steven_processed.pkl')\n",
    "peak_ssilp = mfileu.read_file('classification_results', 'free_ssilp_cnn_peaks.pkl')\n",
    "subj_count = len(annots)"
   ]
  },
  {
   "cell_type": "code",
   "execution_count": 27,
   "metadata": {},
   "outputs": [],
   "source": [
    "def get_subject_result(ssilp, subj, proba, max_bite_distance, min_bite_count):\n",
    "    gts, acovs, clcovs = [], [], []\n",
    "    \n",
    "    for sess in range(len(annots[subj])):            \n",
    "        a = annots[subj][sess]            \n",
    "        ix = ssilp[subj][sess][:, 2]\n",
    "        p = ssilp[subj][sess][:, -1]            \n",
    "        bites = ix[p>=proba]\n",
    "\n",
    "        episodes = mdu.cluster_bites_by_max_distance(bites, max_bite_distance, min_bite_count)\n",
    "\n",
    "        gt, ac, clc = resu.get_meal_detection_results_free(a, clusters=episodes)            \n",
    "\n",
    "        #gt = mdpu.add_subj_sess_to_array(gt, subj, sess, at_begin=False)\n",
    "        #ac = mdpu.add_subj_sess_to_array(ac, subj, sess, at_begin=False)\n",
    "        #clc = mdpu.add_subj_sess_to_array(clc, subj, sess, at_begin=False)\n",
    "\n",
    "        gts = gt if len(gts)==0 else np.concatenate((gts, gt))\n",
    "        acovs = ac if len(acovs)==0 else np.concatenate((acovs, ac))\n",
    "        clcovs = clc if len(clcovs)==0 else np.concatenate((clcovs, clc))\n",
    "    \n",
    "    return gts, acovs, clcovs"
   ]
  },
  {
   "cell_type": "code",
   "execution_count": 28,
   "metadata": {},
   "outputs": [],
   "source": [
    "def get_results_exclude_subj(ssilp, exclude_subj, proba, max_bite_distance, min_bite_count):    \n",
    "    gts, acovs, clcovs = [], [], []\n",
    "    \n",
    "    for subj in range(len(annots)):\n",
    "        if subj == exclude_subj:\n",
    "            continue\n",
    "            \n",
    "        gt, ac, clc = get_subject_result(ssilp, subj, proba, max_bite_distance, min_bite_count)\n",
    "        \n",
    "        gts = gt if len(gts)==0 else np.concatenate((gts, gt))\n",
    "        acovs = ac if len(acovs)==0 else np.concatenate((acovs, ac))\n",
    "        clcovs = clc if len(clcovs)==0 else np.concatenate((clcovs, clc))    \n",
    "\n",
    "    res = resu.get_metric_results_free(gts, acovs, clcovs)\n",
    "    return res "
   ]
  },
  {
   "cell_type": "code",
   "execution_count": 29,
   "metadata": {},
   "outputs": [],
   "source": [
    "def get_results_all_subj(ssilp, params):    \n",
    "    gts, acovs, clcovs = [], [], []\n",
    "    \n",
    "    for subj in range(len(annots)):\n",
    "        proba, max_bite_distance, min_bite_count = params[subj, 0], params[subj, 1], params[subj, 2]\n",
    "        \n",
    "        gt, ac, clc = get_subject_result(ssilp, subj, proba, max_bite_distance, min_bite_count)\n",
    "        \n",
    "        gts = gt if len(gts)==0 else np.concatenate((gts, gt))\n",
    "        acovs = ac if len(acovs)==0 else np.concatenate((acovs, ac))\n",
    "        clcovs = clc if len(clcovs)==0 else np.concatenate((clcovs, clc))  \n",
    "    \n",
    "    print(clcovs.shape)\n",
    "    res = resu.get_metric_results_free(gts, acovs, clcovs)\n",
    "    return res "
   ]
  },
  {
   "cell_type": "code",
   "execution_count": 40,
   "metadata": {},
   "outputs": [
    {
     "name": "stdout",
     "output_type": "stream",
     "text": [
      "0 | 1 | 2 | 3 | 4 | 5 | 6 | 7 | 8 | 9 | 10 | "
     ]
    }
   ],
   "source": [
    "res_all = []\n",
    "for subj in range(subj_count):\n",
    "    print(subj, end=\" | \")\n",
    "    for proba in np.arange(0.1, 0.9, 0.1):\n",
    "        for max_bite_distance in range(30, 200, 10):\n",
    "            for min_bite_count in range(2, 7):                \n",
    "                res  = get_results_exclude_subj(peak_ssilp, exclude_subj=subj, proba=proba, max_bite_distance=16*max_bite_distance, min_bite_count=min_bite_count)\n",
    "                res_all.append([subj, proba, max_bite_distance, min_bite_count, res[\"f1\"]])\n",
    "                "
   ]
  },
  {
   "cell_type": "code",
   "execution_count": 41,
   "metadata": {
    "scrolled": false
   },
   "outputs": [
    {
     "name": "stdout",
     "output_type": "stream",
     "text": [
      " 0 :: 0.10, 170, 6, 0.53476\n",
      "\n",
      " 1 :: 0.20, 160, 5, 0.52632\n",
      " 1 :: 0.20, 170, 5, 0.52632\n",
      "\n",
      " 2 :: 0.10, 170, 6, 0.52809\n",
      "\n",
      " 3 :: 0.20, 190, 6, 0.54795\n",
      "\n",
      " 4 :: 0.20, 170, 5, 0.55696\n",
      "\n",
      " 5 :: 0.10, 170, 6, 0.53409\n",
      "\n",
      " 6 :: 0.10, 170, 6, 0.55056\n",
      "\n",
      " 7 :: 0.20, 180, 6, 0.54902\n",
      " 7 :: 0.20, 190, 6, 0.54902\n",
      "\n",
      " 8 :: 0.20, 190, 6, 0.56757\n",
      "\n",
      " 9 :: 0.10, 110, 5, 0.63636\n",
      "\n",
      "10 :: 0.10, 170, 6, 0.56044\n",
      "\n"
     ]
    }
   ],
   "source": [
    "res = np.array(res_all)\n",
    "params = np.zeros((subj_count, 3))\n",
    "\n",
    "for subj in range(subj_count):\n",
    "    x = res[res[:, 0]==subj, :]\n",
    "    f1 = x[:, -1]\n",
    "    max_f1 = np.amax(f1)    \n",
    "    \n",
    "    x = x[x[:, -1]==max_f1, :]    \n",
    "    for i in range(len(x)):\n",
    "        print(\"{:2d} :: {:.2f}, {:.0f}, {:.0f}, {:.5f}\".format(subj, x[i, 1], x[i, 2], x[i, 3], x[i, 4]))\n",
    "    \n",
    "    print()\n",
    "    \n",
    "    proba, max_bite_distance, min_bite_count = x[0, 1], x[0, 2]*16, x[0, 3]\n",
    "    params[subj, :] = [proba, max_bite_distance, min_bite_count]"
   ]
  },
  {
   "cell_type": "code",
   "execution_count": 42,
   "metadata": {},
   "outputs": [
    {
     "data": {
      "text/plain": [
       "array([[1.00e-01, 2.72e+03, 6.00e+00],\n",
       "       [2.00e-01, 2.56e+03, 5.00e+00],\n",
       "       [1.00e-01, 2.72e+03, 6.00e+00],\n",
       "       [2.00e-01, 3.04e+03, 6.00e+00],\n",
       "       [2.00e-01, 2.72e+03, 5.00e+00],\n",
       "       [1.00e-01, 2.72e+03, 6.00e+00],\n",
       "       [1.00e-01, 2.72e+03, 6.00e+00],\n",
       "       [2.00e-01, 2.88e+03, 6.00e+00],\n",
       "       [2.00e-01, 3.04e+03, 6.00e+00],\n",
       "       [1.00e-01, 1.76e+03, 5.00e+00],\n",
       "       [1.00e-01, 2.72e+03, 6.00e+00]])"
      ]
     },
     "execution_count": 42,
     "metadata": {},
     "output_type": "execute_result"
    }
   ],
   "source": [
    "params"
   ]
  },
  {
   "cell_type": "code",
   "execution_count": 43,
   "metadata": {},
   "outputs": [
    {
     "name": "stdout",
     "output_type": "stream",
     "text": [
      "(126, 3)\n"
     ]
    }
   ],
   "source": [
    "#res = get_results_exclude_subj(peak_ssilp, -1, proba=0.02, max_bite_distance=16*100, min_bite_count=4)\n",
    "res = get_results_all_subj(peak_ssilp, params)"
   ]
  },
  {
   "cell_type": "code",
   "execution_count": 44,
   "metadata": {},
   "outputs": [
    {
     "name": "stdout",
     "output_type": "stream",
     "text": [
      "total : 82\n",
      "total_meal : 49\n",
      "total_snack : 33\n",
      "tp : 43\n",
      "tp_meal : 35\n",
      "tp_snack : 8\n",
      "recall : 0.524390243902439\n",
      "recall_meal : 0.7142857142857143\n",
      "recall_snack : 0.24242424242424243\n",
      "fp : 73\n",
      "precision : 0.3706896551724138\n",
      "f1 : 0.43434343434343436\n",
      "start_error : 80.50685975609755\n",
      "start_error_meal : 124.3609693877551\n",
      "start_error_snack : 15.390151515151516\n",
      "end_error : 148.44893292682926\n",
      "end_error_meal : 225.7079081632653\n",
      "end_error_snack : 33.73106060606061\n",
      "fragment_error : 0.08536585365853659\n",
      "fragment_error_meal : 0.14285714285714285\n",
      "fragment_error_snack : 0.0\n"
     ]
    }
   ],
   "source": [
    "for key, val in res.items():\n",
    "    print(\"{} : {}\".format(key, val))"
   ]
  },
  {
   "cell_type": "code",
   "execution_count": null,
   "metadata": {},
   "outputs": [],
   "source": []
  },
  {
   "cell_type": "code",
   "execution_count": null,
   "metadata": {},
   "outputs": [],
   "source": []
  }
 ],
 "metadata": {
  "kernelspec": {
   "display_name": "Python 3",
   "language": "python",
   "name": "python3"
  },
  "language_info": {
   "codemirror_mode": {
    "name": "ipython",
    "version": 3
   },
   "file_extension": ".py",
   "mimetype": "text/x-python",
   "name": "python",
   "nbconvert_exporter": "python",
   "pygments_lexer": "ipython3",
   "version": "3.6.4"
  }
 },
 "nbformat": 4,
 "nbformat_minor": 2
}
