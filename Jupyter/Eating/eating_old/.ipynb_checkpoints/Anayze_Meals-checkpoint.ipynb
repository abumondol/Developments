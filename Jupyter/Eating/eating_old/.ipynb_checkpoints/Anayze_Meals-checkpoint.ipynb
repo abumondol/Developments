{
 "cells": [
  {
   "cell_type": "code",
   "execution_count": 14,
   "metadata": {
    "collapsed": false
   },
   "outputs": [],
   "source": [
    "import numpy as np\n",
    "import pickle\n",
    "import matplotlib.pyplot as plt"
   ]
  },
  {
   "cell_type": "code",
   "execution_count": 49,
   "metadata": {
    "collapsed": false
   },
   "outputs": [],
   "source": [
    "folder = \"C:\\\\ASM\\\\DevData\\\\eating\\\\python\\\\\";\n",
    "\n",
    "with open(folder+\"steven_free_results0.pkl\", \"rb\") as handle:\n",
    "    res0 = pickle.load(handle)\n",
    "\n",
    "with open(folder+\"steven_free_results1.pkl\", \"rb\") as handle:\n",
    "    res1 = pickle.load(handle)\n",
    "\n",
    "with open(folder+\"steven_free_results2.pkl\", \"rb\") as handle:\n",
    "    res2 = pickle.load(handle)\n",
    "\n",
    "with open(folder+\"steven_free_results_left.pkl\", \"rb\") as handle:\n",
    "    res_left = pickle.load(handle)\n",
    "    \n",
    "with open(folder+\"steven_free_meals.pkl\", \"rb\") as handle:\n",
    "    meals = pickle.load(handle)\n"
   ]
  },
  {
   "cell_type": "code",
   "execution_count": 29,
   "metadata": {
    "collapsed": true
   },
   "outputs": [],
   "source": [
    "with open(folder+\"steven_free_data.pkl\", \"rb\") as handle:\n",
    "    data = pickle.load(handle)"
   ]
  },
  {
   "cell_type": "code",
   "execution_count": 16,
   "metadata": {
    "collapsed": false
   },
   "outputs": [],
   "source": [
    "%matplotlib inline"
   ]
  },
  {
   "cell_type": "code",
   "execution_count": null,
   "metadata": {
    "collapsed": false,
    "scrolled": false
   },
   "outputs": [],
   "source": [
    "res = res2;\n",
    "subject_count = len(res)\n",
    "\n",
    "for subject in range(subject_count):\n",
    "    sess_count = len(res[subject])\n",
    "    for sess in range(sess_count):\n",
    "        d = res[subject][sess]        \n",
    "        dl = res_left[subject][sess]    \n",
    "        m = meals[subject][sess]\n",
    "        \n",
    "        fig = plt.figure(figsize=(12,10))\n",
    "        subplot = fig.add_subplot(111)        \n",
    "        subplot.scatter(d[:, 1]/60, d[:, -1], marker='.', c = 'b')\n",
    "        subplot.scatter(d[:, 1]/60, d[:, -2], marker='x', c = 'r')\n",
    "        subplot.scatter(d[:, 1]/60, d[:, -3], marker='+', c = 'g')\n",
    "        subplot.scatter(dl[:, 1]/60, dl[:, -3], marker='.', c = 'k')\n",
    "        \n",
    "        \n",
    "        r = len(m)        \n",
    "        if m.ndim ==1:\n",
    "            r = 1;\n",
    "            \n",
    "        for i in range(r):\n",
    "            if(m.ndim>1):\n",
    "                ix1 = m[i, 0]\n",
    "                ix2 = m[i, 1]\n",
    "                meal_type = m[i, 2]\n",
    "            else:\n",
    "                ix1 = m[0]\n",
    "                ix2 = m[1]\n",
    "                meal_type = m[2]\n",
    "                \n",
    "            t1 = data[subject][sess][ix1, 0]/60\n",
    "            t2 = data[subject][sess][ix2, 0]/60\n",
    "            print(\"Meal \", (i+1), \": \", meal_type, \", \", t1,\"-\",t2, \"> \", (t2-t1))\n",
    "            \n",
    "            subplot.plot([t1, t1], [-10, 10], c = 'b')\n",
    "            subplot.plot([t2, t2], [-10, 10], c = 'g')\n",
    "            \n",
    "        \n",
    "        \n",
    "        plt.title(\"Subject:\"+str(subject)+\", Session: \"+str(sess)+\", Meal Count: \"+str(r))\n",
    "        plt.show()\n",
    "        \n",
    "        "
   ]
  },
  {
   "cell_type": "code",
   "execution_count": 53,
   "metadata": {
    "collapsed": false
   },
   "outputs": [],
   "source": [
    "res = res2;\n",
    "subject_count = len(res)\n",
    "\n",
    "for subject in range(subject_count):\n",
    "    sess_count = len(res[subject])\n",
    "    for sess in range(sess_count):\n",
    "        plt.title(\"Subject:\"+str(subject)+\", Session: \"+str(sess))\n",
    "        b = res[subject][sess]        \n",
    "        bl = res_left[subject][sess]    \n",
    "        m = meals[subject][sess]\n",
    "        d = data[subject][sess];\n",
    "        \n",
    "        if m.ndim>1:\n",
    "            m = m[m[:, -1]<=2, :]\n",
    "        else:\n",
    "            m = m.reshape((1,-1))\n",
    "            \n",
    "        print(\"Meal \", (i+1), \": \", m[i, -1])\n",
    "        \n",
    "        \n",
    "        "
   ]
  }
 ],
 "metadata": {
  "anaconda-cloud": {},
  "kernelspec": {
   "display_name": "Python [conda root]",
   "language": "python",
   "name": "conda-root-py"
  },
  "language_info": {
   "codemirror_mode": {
    "name": "ipython",
    "version": 3
   },
   "file_extension": ".py",
   "mimetype": "text/x-python",
   "name": "python",
   "nbconvert_exporter": "python",
   "pygments_lexer": "ipython3",
   "version": "3.5.2"
  }
 },
 "nbformat": 4,
 "nbformat_minor": 1
}
