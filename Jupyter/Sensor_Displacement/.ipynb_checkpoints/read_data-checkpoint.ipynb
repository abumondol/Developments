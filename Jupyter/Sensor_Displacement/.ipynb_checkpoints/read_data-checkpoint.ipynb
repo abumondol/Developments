{
 "cells": [
  {
   "cell_type": "code",
   "execution_count": null,
   "metadata": {
    "collapsed": true
   },
   "outputs": [],
   "source": [
    "import numpy as np\n",
    "import pickle "
   ]
  },
  {
   "cell_type": "code",
   "execution_count": null,
   "metadata": {
    "collapsed": true
   },
   "outputs": [],
   "source": [
    "def get_relevant_data(d)    \n",
    "    res = [];\n",
    "    res.t = d(:,1) + d(:,2)/1e6; % first column in second, second column in microsecond\n",
    "    res.activity = d(:, 120);\n",
    "    \n",
    "    for i = 1:9 % total 9 positions\n",
    "        s = 3 + (i-1)*13; \n",
    "        res.pos(i).accel = d(:, s:s+2);\n",
    "        %res.pos(i).gyro = d(:, s+3:s+5);\n",
    "    end\n",
    "    \n",
    "end"
   ]
  },
  {
   "cell_type": "code",
   "execution_count": null,
   "metadata": {
    "collapsed": true
   },
   "outputs": [],
   "source": [
    "src = 'C:\\Users\\mm5gg\\Box Sync\\PublicData\\realDisp\\realistic_sensor_displacement\\';\n",
    "data = [];\n",
    "columns = [];\n",
    "\n",
    "file_name = strcat(src,'self_displacement_positions.csv')    \n",
    "sdp = csvread(file_name);\n",
    "file_name = strcat(src,'mutual_displacement_positions.csv')    \n",
    "mdp = csvread(file_name);\n",
    "\n",
    "for subject = 1:17    \n",
    "    fprintf('Realdisp processing subject %d\\n', subject);    \n",
    "    file_name = strcat(src,'subject',num2str(subject),'_ideal.log')\n",
    "    d = dlmread(file_name);    \n",
    "    data(subject).ideal = get_relevant_data(d);\n",
    "    \n",
    "    file_name = strcat(src,'subject',num2str(subject),'_self.log')\n",
    "    d = dlmread(file_name);\n",
    "    data(subject).self = get_relevant_data(d);\n",
    "    data(subject).self.dpos = sdp(subject, :);\n",
    "    \n",
    "    if subject == 2 || subject == 5 || subject == 15\n",
    "        for j=4:7\n",
    "            file_name = strcat(src,'subject',num2str(subject),'_mutual',num2str(j) ,'.log')\n",
    "            d = dlmread(file_name);\n",
    "            res = get_relevant_data(d);\n",
    "            data(subject).mutual(j).t =  res.t;\n",
    "            data(subject).mutual(j).activity =  res.activity;\n",
    "            data(subject).mutual(j).pos =  res.pos;\n",
    "            \n",
    "            dpos = mdp(mdp(:,1)==subject & mdp(:,2)==j, 3:end);\n",
    "            data(subject).mutual(j).dpos = dpos(dpos>0);\n",
    "        end\n",
    "    end\n",
    "    \n",
    "end\n",
    "\n",
    "save('C:\\ASM\\DevData\\realdisp\\matlab\\realdisp_data', 'data');"
   ]
  }
 ],
 "metadata": {
  "anaconda-cloud": {},
  "kernelspec": {
   "display_name": "Python [conda root]",
   "language": "python",
   "name": "conda-root-py"
  },
  "language_info": {
   "codemirror_mode": {
    "name": "ipython",
    "version": 3
   },
   "file_extension": ".py",
   "mimetype": "text/x-python",
   "name": "python",
   "nbconvert_exporter": "python",
   "pygments_lexer": "ipython3",
   "version": "3.5.2"
  }
 },
 "nbformat": 4,
 "nbformat_minor": 1
}
