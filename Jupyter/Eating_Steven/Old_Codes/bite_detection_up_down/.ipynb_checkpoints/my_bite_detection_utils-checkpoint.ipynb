{
 "cells": [
  {
   "cell_type": "code",
   "execution_count": 1,
   "metadata": {},
   "outputs": [],
   "source": [
    "import numpy as np"
   ]
  },
  {
   "cell_type": "code",
   "execution_count": 2,
   "metadata": {},
   "outputs": [],
   "source": [
    "def get_segments(x, th_up, th_down):    \n",
    "    count = len(x)    \n",
    "    segs = []    \n",
    "    s = 1\n",
    "    while s<count and x[s]<=th_down:\n",
    "        s+=1\n",
    "        \n",
    "    inside = False    \n",
    "    for i in range(s,count):\n",
    "        if x[i-1]>th_up>=x[i] and inside == False:\n",
    "            s, inside =i, True            \n",
    "        elif x[i-1]<=th_down<x[i] and inside == True:\n",
    "            e, inside = i-1, False\n",
    "            segs.append([s, e])\n",
    "        i+=1\n",
    "            \n",
    "    segs = np.array(segs)\n",
    "    return segs\n",
    "\n",
    "def get_covers(segs, annots, offset):\n",
    "    seg_count = len(segs)\n",
    "    covers = np.zeros((seg_count, 2))\n",
    "    for i in range(seg_count):\n",
    "        s, e = segs[i, 0], segs[i, 1]\n",
    "        cond = (annots[:, 0]>=s-offset) & (annots[:, 0]<=e+offset) \n",
    "        condb = (annots[:, 1]==1)\n",
    "        conds = (annots[:, 1]==2)\n",
    "        covers[i, 0] = np.sum(cond & condb)\n",
    "        covers[i, 1] = np.sum(cond & conds)        \n",
    "    return covers\n",
    "\n",
    "def get_sub_sess(subj, sess, rows, cols, dtype=np.float32):\n",
    "    sub_sess = np.zeros((rows, cols), dtype=dtype)\n",
    "    sub_sess[:, 0] = subj\n",
    "    sub_sess[:, 1] = sess\n",
    "    return sub_sess"
   ]
  },
  {
   "cell_type": "code",
   "execution_count": null,
   "metadata": {},
   "outputs": [],
   "source": []
  }
 ],
 "metadata": {
  "kernelspec": {
   "display_name": "Python 3",
   "language": "python",
   "name": "python3"
  },
  "language_info": {
   "codemirror_mode": {
    "name": "ipython",
    "version": 3
   },
   "file_extension": ".py",
   "mimetype": "text/x-python",
   "name": "python",
   "nbconvert_exporter": "python",
   "pygments_lexer": "ipython3",
   "version": "3.6.4"
  }
 },
 "nbformat": 4,
 "nbformat_minor": 2
}
