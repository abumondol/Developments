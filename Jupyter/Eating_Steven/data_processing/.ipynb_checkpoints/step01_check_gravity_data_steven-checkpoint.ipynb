{
 "cells": [
  {
   "cell_type": "code",
   "execution_count": 2,
   "metadata": {},
   "outputs": [],
   "source": [
    "import numpy as np\n",
    "import pickle\n",
    "import os\n",
    "import matplotlib.pyplot as plt\n",
    "import data_process_utils as dpu\n",
    "%matplotlib inline"
   ]
  },
  {
   "cell_type": "code",
   "execution_count": 3,
   "metadata": {},
   "outputs": [],
   "source": [
    "def process_bite_label_steven(label):\n",
    "    label = label.replace(\"P\",\"1\").replace(\"D\",\"2\").replace(\"I\",\"3\").replace(\"Q\",\"4\")\n",
    "    label = label.replace(\"N\",\"5\").replace(\"C\",\"6\").replace(\"S\",\"7\").replace(\"M\",\"8\")\n",
    "    label = label.replace(\"R\",\"1\").replace(\"L\",\"2\").replace(\"X\",\"-1\")\n",
    "    return int(label)\n",
    "\n",
    "def process_bite_annots_steven(annots):    \n",
    "    a = np.zeros((len(annots), 2))\n",
    "    for i in range(len(annots)):\n",
    "        s = annots[i].split(\",\")\n",
    "        t1 = float(s[0].rstrip())\n",
    "        t2 = float(s[1].rstrip())\n",
    "        label = process_bite_label_steven(s[2].rstrip())\n",
    "        a[i, 0] = t1+t2/2\n",
    "        a[i, 1] = label\n",
    "    \n",
    "    res = []\n",
    "    hand = 0    \n",
    "    last_was_bite = False\n",
    "    for i in range(len(a)):\n",
    "        #print(a[i, 0], \", \", a[i, 1])\n",
    "        if a[i, 1]==21 or a[i,1] ==22:            \n",
    "            if last_was_bite:    \n",
    "                if a[i, 1]==21:\n",
    "                    hand = 1\n",
    "                else:\n",
    "                    hand = 2\n",
    "            else:\n",
    "                if hand ==1 and a[i, 1]==21 or hand ==2 and a[i, 1]==22:\n",
    "                    print( \"************************ Similar hand found twice ****************\")\n",
    "                \n",
    "                hand = 3\n",
    "            \n",
    "            last_was_bite = False\n",
    "            \n",
    "        elif a[i, 1]==3 or a[i, 1]==4:\n",
    "            if hand==0:\n",
    "                print(\"********** Hand is not found : \" , annots[i] , \", line no: \", (i + 1))                \n",
    "                continue\n",
    "            \n",
    "            r = [0, 0]\n",
    "            r[0] = a[i, 0]\n",
    "            if a[i, 1]==3:    #bite\n",
    "                r[1] = 1\n",
    "            else:            #drink\n",
    "                r[1] = 2\n",
    "            \n",
    "            if hand ==1 or hand ==3: #add right hand data only\n",
    "                res.append(r)\n",
    "            \n",
    "            if last_was_bite:\n",
    "                print(\"************************ Bite repeated **************** \", i)\n",
    "            last_was_bite = True\n",
    "        \n",
    "    \n",
    "    res = np.array(res)\n",
    "    res = res.astype(int)\n",
    "    return res"
   ]
  },
  {
   "cell_type": "code",
   "execution_count": 4,
   "metadata": {},
   "outputs": [
    {
     "name": "stdout",
     "output_type": "stream",
     "text": [
      "************************ Bite repeated ****************  2733\n",
      "************************ Bite repeated ****************  2774\n",
      "************************ Bite repeated ****************  2777\n",
      "************************ Bite repeated ****************  2789\n",
      "23392.876031962 23158 380\n"
     ]
    }
   ],
   "source": [
    "subject, sess = 0, 1\n",
    "path = 'C:/ASM/PublicData/eating_steventech/lab'\n",
    "filePathAccel = path + \"/0\" + str(subject) + \"/000\" + str(sess) + \"/watch_right_000\" + str(sess) + \".csv\";\n",
    "filePathAnnots = path + \"/0\" + str(subject) + \"/000\" + str(sess) + \"/annot_events.csv\";\n",
    "\n",
    "data = np.genfromtxt(filePathAccel, delimiter=',')\n",
    "data[:, 0] = data[:, 0]/1e9\n",
    "\n",
    "with open(filePathAnnots) as file:\n",
    "    annots = file.readlines()\n",
    "\n",
    "annots = process_bite_annots_steven(annots)\n",
    "print(data[-1, 0], annots[-1, 0], len(annots))"
   ]
  },
  {
   "cell_type": "code",
   "execution_count": 6,
   "metadata": {
    "scrolled": false
   },
   "outputs": [],
   "source": [
    "_, _, Rz = dpu.quat2mat(data[:, -3:])\n"
   ]
  },
  {
   "cell_type": "code",
   "execution_count": null,
   "metadata": {
    "scrolled": false
   },
   "outputs": [],
   "source": [
    "offset = 60\n",
    "a = dpu.time_to_index(data, annots[:,0])\n",
    "\n",
    "for i in range(20):\n",
    "    ix = a[i]    \n",
    "    d = data[ix-60:ix+60, :]\n",
    "\n",
    "    fig = plt.figure(figsize=(14, 7))\n",
    "    subplot = fig.add_subplot(111)        \n",
    "\n",
    "    subplot.plot(d[:, 0], d[:, 1], label='AccelX', linestyle='-', color='red')\n",
    "    subplot.plot(d[:, 0], d[:, 2], label='AccelY', linestyle='-', color='green')\n",
    "    subplot.plot(d[:, 0], d[:, 3], label='AccelZ', linestyle='-', color='blue')\n",
    "\n",
    "    #_, _, Rz = dpu.quat2mat(d[:, -3:])\n",
    "    Rz = Rz*9.8\n",
    "    subplot.plot(d[:, 0], Rz[:, 0], label='QuatX', linestyle=':', color='red')\n",
    "    subplot.plot(d[:, 0], Rz[:, 1], label='QuatY', linestyle=':', color='green')\n",
    "    subplot.plot(d[:, 0], Rz[:, 2], label='QuatZ', linestyle=':', color='blue')\n",
    "\n",
    "    subplot.legend()            \n",
    "    plt.title('Subject {}, Sess {}, Annot Index {}'.format(subject, sess, i))            \n",
    "    plt.show()                        \n"
   ]
  },
  {
   "cell_type": "code",
   "execution_count": null,
   "metadata": {},
   "outputs": [],
   "source": []
  }
 ],
 "metadata": {
  "kernelspec": {
   "display_name": "Python 3",
   "language": "python",
   "name": "python3"
  },
  "language_info": {
   "codemirror_mode": {
    "name": "ipython",
    "version": 3
   },
   "file_extension": ".py",
   "mimetype": "text/x-python",
   "name": "python",
   "nbconvert_exporter": "python",
   "pygments_lexer": "ipython3",
   "version": "3.6.4"
  }
 },
 "nbformat": 4,
 "nbformat_minor": 2
}
