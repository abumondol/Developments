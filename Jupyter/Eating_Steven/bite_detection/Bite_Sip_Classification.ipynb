{
 "cells": [
  {
   "cell_type": "code",
   "execution_count": 1,
   "metadata": {},
   "outputs": [],
   "source": [
    "import numpy as np\n",
    "import pickle\n",
    "import os\n",
    "import matplotlib.pyplot as plt"
   ]
  },
  {
   "cell_type": "code",
   "execution_count": 3,
   "metadata": {},
   "outputs": [],
   "source": [
    "with open('C:/ASM/DevData/eating_steven/data/lab_data_steven.pkl', 'rb') as file:\n",
    "    data = pickle.load(file)\n",
    "    \n",
    "with open('C:/ASM/DevData/eating_steven/data/lab_windows_steven.pkl', 'rb') as file:\n",
    "    windows = pickle.load(file)    "
   ]
  },
  {
   "cell_type": "code",
   "execution_count": 27,
   "metadata": {},
   "outputs": [],
   "source": [
    "def get_train_windows_labels(data, windows, exclude_subj, vth, neg_step):\n",
    "    win_size=80    \n",
    "    axis_count =9\n",
    "    half_win_size = win_size//2\n",
    "    \n",
    "    train_x = np.zeros((0, win_size, axis_count))\n",
    "    train_y = np.zeros((0))\n",
    "    \n",
    "    print(\"Generating Train data ...\")\n",
    "    for subj in range(7):\n",
    "        if subj==exclude_subj: continue            \n",
    "        for sess in range(len(data[subj])):            \n",
    "            print(subj, sess, end=\" | \")\n",
    "            \n",
    "            d = data[subj][sess][\"data_right\"]\n",
    "            mn, mx = -2*9.8, 2*9.8\n",
    "            d[:, 1:4] = (np.clip(d[:, 1:4], mn, mx)-mn)/(mx-mn)\n",
    "\n",
    "            mn, mx = -15, 15\n",
    "            d[:, 4:7] = (np.clip(d[:, 4:7], mn, mx)-mn)/(mx-mn)\n",
    "\n",
    "\n",
    "            indices = windows[subj][sess][\"w_indices\"]\n",
    "            labels = windows[subj][sess][\"labels\"]\n",
    "\n",
    "            v = indices[:, -1]\n",
    "            l = labels[:, 0]        \n",
    "            cond = (v>=vth) & (l>=0)\n",
    "\n",
    "            indices = indices[cond, :]\n",
    "            labels = labels[cond, :]\n",
    "            l = labels[:, 0]                    \n",
    "            cond_pos = (l>0)\n",
    "            cond_neg = (l==0)\n",
    "\n",
    "            indices_pos = indices[cond_pos, :]\n",
    "            labels_pos = labels[cond_pos, :]\n",
    "            \n",
    "            indices_neg = indices[cond_neg, :]\n",
    "            labels_neg = labels[cond_neg, :]\n",
    "            wcount = len(indices_neg)        \n",
    "            selected = np.arange(0, wcount, neg_step).astype(int)            \n",
    "            assert len(selected) == (wcount-1)//neg_step+1\n",
    "            \n",
    "            indices_neg = indices_neg[selected, :]\n",
    "            labels_neg = labels_neg[selected, :]      \n",
    "            \n",
    "            assert np.sum(labels_neg[:,0]) == 0\n",
    "            assert np.sum(labels_pos[:,0]==0) == 0\n",
    "\n",
    "            indices= indices_pos\n",
    "            wcount = len(indices)        \n",
    "            tx_pos = np.zeros((wcount, win_size, axis_count))        \n",
    "            for i in range(wcount):\n",
    "                j = int(indices[i, 0])\n",
    "                tx_pos[i, :, :] = d[j-half_win_size:j+half_win_size, 1:]\n",
    "\n",
    "            indices= indices_neg\n",
    "            wcount = len(indices)        \n",
    "            tx_neg = np.zeros((wcount, win_size, axis_count))        \n",
    "            for i in range(wcount):\n",
    "                j = int(indices[i, 0])\n",
    "                tx_neg[i, :, :] = d[j-half_win_size:j+half_win_size, 1:]\n",
    "                \n",
    "            train_x = np.concatenate((train_x, tx_pos, tx_neg), axis=0)\n",
    "            train_y = np.concatenate((train_y, labels_pos[:, 0], labels_neg[:, 0]))\n",
    "            \n",
    "            assert len(train_x) ==len(train_y)\n",
    "    \n",
    "    print(\"\")        \n",
    "    train_y = train_y.reshape((-1, 1))    \n",
    "    return train_x, train_y\n",
    "\n"
   ]
  },
  {
   "cell_type": "code",
   "execution_count": 28,
   "metadata": {},
   "outputs": [
    {
     "name": "stdout",
     "output_type": "stream",
     "text": [
      "Generating Train data ...\n",
      "1 0 | 2 0 | 2 1 | 3 0 | 3 1 | 4 0 | 4 1 | 5 0 | 5 1 | 6 0 | 6 1 | \n",
      "(127558, 80, 9) (127558, 1) 91791 35767 27923 7844\n",
      "Generating Train data ...\n",
      "0 0 | 0 1 | 2 0 | 2 1 | 3 0 | 3 1 | 4 0 | 4 1 | 5 0 | 5 1 | 6 0 | 6 1 | \n",
      "(172154, 80, 9) (172154, 1) 118554 53600 41352 12248\n",
      "Generating Train data ...\n",
      "0 0 | 0 1 | 1 0 | 3 0 | 3 1 | 4 0 | 4 1 | 5 0 | 5 1 | 6 0 | 6 1 | \n",
      "(153337, 80, 9) (153337, 1) 103757 49580 37890 11690\n",
      "Generating Train data ...\n",
      "0 0 | 0 1 | 1 0 | 2 0 | 2 1 | 4 0 | 4 1 | 5 0 | 5 1 | 6 0 | 6 1 | \n",
      "(163323, 80, 9) (163323, 1) 115964 47359 35497 11862\n",
      "Generating Train data ...\n",
      "0 0 | 0 1 | 1 0 | 2 0 | 2 1 | 3 0 | 3 1 | 5 0 | 5 1 | 6 0 | 6 1 | \n",
      "(165733, 80, 9) (165733, 1) 120997 44736 34468 10268\n",
      "Generating Train data ...\n",
      "0 0 | 0 1 | 1 0 | 2 0 | 2 1 | 3 0 | 3 1 | 4 0 | 4 1 | 6 0 | 6 1 | \n",
      "(168932, 80, 9) (168932, 1) 120385 48547 37842 10705\n",
      "Generating Train data ...\n",
      "0 0 | 0 1 | 1 0 | 2 0 | 2 1 | 3 0 | 3 1 | 4 0 | 4 1 | 5 0 | 5 1 | \n",
      "(152483, 80, 9) (152483, 1) 102420 50063 37634 12429\n"
     ]
    }
   ],
   "source": [
    "for subj in range(7):\n",
    "    train_x, train_y = get_train_windows_labels(data, windows, exclude_subj=subj, vth=0.5, neg_step = 4)\n",
    "    print(train_x.shape, train_y.shape, np.sum(train_y==0), np.sum(train_y>0), np.sum(train_y==1), np.sum(train_y==2))\n",
    "    "
   ]
  },
  {
   "cell_type": "code",
   "execution_count": null,
   "metadata": {},
   "outputs": [],
   "source": []
  },
  {
   "cell_type": "code",
   "execution_count": null,
   "metadata": {},
   "outputs": [],
   "source": []
  }
 ],
 "metadata": {
  "kernelspec": {
   "display_name": "Python 3",
   "language": "python",
   "name": "python3"
  },
  "language_info": {
   "codemirror_mode": {
    "name": "ipython",
    "version": 3
   },
   "file_extension": ".py",
   "mimetype": "text/x-python",
   "name": "python",
   "nbconvert_exporter": "python",
   "pygments_lexer": "ipython3",
   "version": "3.6.4"
  }
 },
 "nbformat": 4,
 "nbformat_minor": 2
}
