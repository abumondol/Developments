{
 "cells": [
  {
   "cell_type": "code",
   "execution_count": 58,
   "metadata": {},
   "outputs": [],
   "source": [
    "import numpy as np\n",
    "import scipy as sp\n",
    "import os \n",
    "import pickle\n",
    "import sys\n",
    "import feature_extraction as fex\n",
    "from sklearn.ensemble import RandomForestClassifier\n",
    "from sklearn import metrics"
   ]
  },
  {
   "cell_type": "code",
   "execution_count": 59,
   "metadata": {},
   "outputs": [],
   "source": [
    "def create_directory(path):\n",
    "    if not os.path.exists(path):\n",
    "        os.makedirs(path)\n",
    "        print(\"Path created: \", path)"
   ]
  },
  {
   "cell_type": "code",
   "execution_count": 60,
   "metadata": {},
   "outputs": [
    {
     "name": "stdout",
     "output_type": "stream",
     "text": [
      "Features file exists. Reading from file...\n"
     ]
    }
   ],
   "source": [
    "path = 'C:/ASM/DevData/eating_steven/data' if \"C:\" in os.getcwd() else 'data'    \n",
    "with open(path+'/data_steven_lab.pkl', 'rb') as file:\n",
    "    data = pickle.load(file)\n",
    "    \n",
    "features = fex.get_features_steven_lab()    "
   ]
  },
  {
   "cell_type": "code",
   "execution_count": 61,
   "metadata": {},
   "outputs": [],
   "source": [
    "def get_annots(t, a, window_len):      \n",
    "    #print(a.shape)\n",
    "    a = a[a[:, 3]!=2, :] # right hand only\n",
    "    #print(a.shape, np.sum(a[:, -1]==0), np.sum((a[:, 2]==1) & (a[:, -1]>0)), np.sum((a[:, 2]==2) & (a[:, -1]>0)) )\n",
    "    #print(np.sum(a[:, 2]==1), np.sum(a[:, 2]==2))\n",
    "    tcount, acount = len(t), len(a)  \n",
    "    \n",
    "    siw = (t*16).astype(int)\n",
    "    b1w = siw + window_len//4\n",
    "    miw = siw + 2*window_len//4    \n",
    "    b2w = siw + 3*window_len//4    \n",
    "    \n",
    "    labels=np.zeros((tcount,))    \n",
    "    for i in range(acount):         \n",
    "        if a[i, 2]==1: #bite\n",
    "            si = int(a[i, 0]*16)\n",
    "            cond = (b1w<=si) & (si<=b2w)\n",
    "            label = 1\n",
    "        else:#sip\n",
    "            si = int(a[i, 0]*16)\n",
    "            ei = int( (a[i, 0]+a[i, 1])*16)\n",
    "            cond = (miw>=si) & (miw<=ei)\n",
    "            label = 2\n",
    "            \n",
    "        if a[i, -1]==0:\n",
    "            labels[cond] = label\n",
    "        else:\n",
    "            labels[cond] = -label\n",
    "    \n",
    "    #for i in range(-2, 3):\n",
    "    #    print(i, \":\", np.sum(labels==i))\n",
    "        \n",
    "    return np.array(labels)\n",
    "    "
   ]
  },
  {
   "cell_type": "code",
   "execution_count": 62,
   "metadata": {},
   "outputs": [],
   "source": [
    "def get_annots_lab():\n",
    "    labels = []\n",
    "    all_labels = np.empty((0,))\n",
    "    for subj in range(len(features)):\n",
    "        subj_labels= []\n",
    "        for sess in range(len(features[subj])):            \n",
    "            print(subj, sess, end=\" | \")\n",
    "            fex = features[subj][sess]\n",
    "            annots = data[subj][sess][\"annots\"]\n",
    "            l = get_annots(fex[:, 0], annots, 5*16)\n",
    "            #print(\"Labels shape:\", l.shape)\n",
    "            subj_labels.append(l)            \n",
    "            all_labels = np.concatenate((all_labels, l))\n",
    "            \n",
    "        labels.append(subj_labels)\n",
    "        \n",
    "    return labels, all_labels"
   ]
  },
  {
   "cell_type": "code",
   "execution_count": 63,
   "metadata": {},
   "outputs": [
    {
     "name": "stdout",
     "output_type": "stream",
     "text": [
      "0 0 | 0 1 | 1 0 | 2 0 | 2 1 | 3 0 | 3 1 | 4 0 | 4 1 | 5 0 | 5 1 | 6 0 | 6 1 | 7\n"
     ]
    }
   ],
   "source": [
    "labels, all_labels = get_annots_lab()\n",
    "print(len(labels))"
   ]
  },
  {
   "cell_type": "code",
   "execution_count": 64,
   "metadata": {},
   "outputs": [
    {
     "name": "stdout",
     "output_type": "stream",
     "text": [
      "(2283679,)\n",
      "-2 : 611\n",
      "-1 : 370\n",
      "0 : 2252500\n",
      "1 : 26796\n",
      "2 : 3402\n"
     ]
    }
   ],
   "source": [
    "print(all_labels.shape)\n",
    "for i in range(-2, 3):\n",
    "    print(i, \":\", np.sum(all_labels==i))"
   ]
  },
  {
   "cell_type": "code",
   "execution_count": 65,
   "metadata": {},
   "outputs": [],
   "source": [
    "def get_lopo_train_features_lables(exclude_subj, features, labels, convert_label=[], exclude_ambigious=True):    \n",
    "    train_x, train_y = [], []\n",
    "    for subj in range(len(features)):        \n",
    "        if subj==exclude_subj:\n",
    "            continue\n",
    "        for sess in range(len(features[subj])):             \n",
    "            f = features[subj][sess][:, 1:]\n",
    "            l = np.copy(labels[subj][sess])            \n",
    "            \n",
    "            if exclude_ambigious:                \n",
    "                cond = (l>=0)\n",
    "                f = f[cond]\n",
    "                l = l[cond]                \n",
    "            else:\n",
    "                cond = (l<0)\n",
    "                l[cond] = -1*l[cond]            \n",
    "            \n",
    "            if len(convert_label)>0:                \n",
    "                l[l==convert_label[0]] = convert_label[1]\n",
    "            \n",
    "            if len(train_x)==0:\n",
    "                train_x = f\n",
    "                train_y = l\n",
    "            else:                \n",
    "                train_x = np.concatenate((train_x, f))\n",
    "                train_y = np.concatenate((train_y, l))\n",
    "            \n",
    "    return train_x, train_y\n",
    "    "
   ]
  },
  {
   "cell_type": "code",
   "execution_count": null,
   "metadata": {},
   "outputs": [],
   "source": [
    "res_path = path + \"/rf_results_lopo_binary\"\n",
    "create_directory(res_path)\n",
    "convert_label=[2, 1]\n",
    "exclude_ambigious=True\n",
    "\n",
    "for subj in range(len(features)):    \n",
    "    train_x, train_y = get_lopo_train_features_lables(subj, features, labels, convert_label=convert_label, exclude_ambigious=exclude_ambigious)\n",
    "    print(\"Subj:\", subj, \", \", \"shapes:\", train_x.shape, train_y.shape, \"Bite, sip:\", np.sum(train_y==1), np.sum(train_y==2))\n",
    "    clf = RandomForestClassifier(n_estimators =100, random_state=0, n_jobs=-1)    \n",
    "    clf.fit(train_x, train_y)    \n",
    "    print(\"Training done!\")\n",
    "    \n",
    "    for sess in range(len(features[subj])):\n",
    "        plabel = clf.predict(features[subj][sess][:, 1:])\n",
    "        proba =  clf.predict_proba(features[subj][sess][:, 1:])\n",
    "        gtlabel = labels[subj][sess]        \n",
    "        res = {\"plabel\":plabel, \"proba\":proba, \"gtlabel\":gtlabel}\n",
    "        \n",
    "        with open(res_path+'/result_'+str(subj)+'-'+str(sess)+'.pkl', 'wb') as file:\n",
    "            pickle.dump(res, file)\n",
    "        \n",
    "        print(\"Results  saved for session \", sess)\n",
    "\n",
    "    with open(res_path+'/model_'+str(subj)+'.pkl', 'wb') as file:\n",
    "        pickle.dump(clf, file)\n",
    "    \n",
    "    print(\"Model saved\")"
   ]
  },
  {
   "cell_type": "code",
   "execution_count": null,
   "metadata": {},
   "outputs": [],
   "source": []
  },
  {
   "cell_type": "code",
   "execution_count": null,
   "metadata": {},
   "outputs": [],
   "source": []
  }
 ],
 "metadata": {
  "kernelspec": {
   "display_name": "Python 3",
   "language": "python",
   "name": "python3"
  },
  "language_info": {
   "codemirror_mode": {
    "name": "ipython",
    "version": 3
   },
   "file_extension": ".py",
   "mimetype": "text/x-python",
   "name": "python",
   "nbconvert_exporter": "python",
   "pygments_lexer": "ipython3",
   "version": "3.6.4"
  }
 },
 "nbformat": 4,
 "nbformat_minor": 2
}
