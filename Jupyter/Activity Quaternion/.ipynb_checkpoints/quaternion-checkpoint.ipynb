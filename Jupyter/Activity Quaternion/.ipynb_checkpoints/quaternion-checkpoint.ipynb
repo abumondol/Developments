{
 "cells": [
  {
   "cell_type": "code",
   "execution_count": 1,
   "metadata": {
    "collapsed": true
   },
   "outputs": [],
   "source": [
    "import numpy as np"
   ]
  },
  {
   "cell_type": "code",
   "execution_count": 18,
   "metadata": {
    "collapsed": true
   },
   "outputs": [],
   "source": [
    "def quat2mat(q):\n",
    "    nrows, ncols = q.shape\n",
    "    if ncols == 4:\n",
    "        q0 = q[:, 0]\n",
    "        q1 = q[:, 1]\n",
    "        q2 = q[:, 2]\n",
    "        q3 = q[:, 3]\n",
    "    else:\n",
    "        q1 = q[:, 0]\n",
    "        q2 = q[:, 1]\n",
    "        q3 = q[:, 2]        \n",
    "        q0 = np.sqrt(1-q1*q1 - q2*q2 - q3*q3)\n",
    "    \n",
    "    q0 = q0.reshape((nrows, 1))\n",
    "    q1 = q1.reshape((nrows, 1))\n",
    "    q2 = q2.reshape((nrows, 1))\n",
    "    q3 = q3.reshape((nrows, 1))\n",
    "        \n",
    "    Rx = np.concatenate( ( q0*q0+q1*q1-q2*q2-q3*q3, 2*(q1*q2-q0*q3), 2*(q1*q3+q0*q2) ), axis=1)\n",
    "    Ry = np.concatenate( ( 2*(q0*q3+q1*q2),  q0*q0-q1*q1+q2*q2-q3*q3, 2*(q2*q3 - q0*q1) ), axis=1)\n",
    "    Rz = np.concatenate( ( 2*(q1*q3 - q0*q2), 2*(q2*q3+q0*q1), q0*q0-q1*q1-q2*q2+q3*q3 ), axis=1)\n",
    "    \n",
    "    return Rx, Ry, Rz"
   ]
  },
  {
   "cell_type": "markdown",
   "metadata": {
    "collapsed": true
   },
   "source": [
    "g = np.array([-0.16589468717575073,-1.7540171146392822,9.647087097167969])\n",
    "q = np.array([[-0.04325199872255325,-0.0791499987244606,0.9150339961051941], [-0.043783001601696014,-0.07859399914741516,0.9145169854164124]])\n",
    "print(q.shape)\n",
    "Rx, Ry, Rz = quat2mat(q)\n",
    "print(Rz)\n",
    "mg = np.sqrt(np.sum(g*g))\n",
    "g1 = g/mg\n",
    "print(g1)\n",
    "print(np.sum(g1*g1))"
   ]
  }
 ],
 "metadata": {
  "anaconda-cloud": {},
  "kernelspec": {
   "display_name": "Python [conda root]",
   "language": "python",
   "name": "conda-root-py"
  },
  "language_info": {
   "codemirror_mode": {
    "name": "ipython",
    "version": 3
   },
   "file_extension": ".py",
   "mimetype": "text/x-python",
   "name": "python",
   "nbconvert_exporter": "python",
   "pygments_lexer": "ipython3",
   "version": "3.5.2"
  }
 },
 "nbformat": 4,
 "nbformat_minor": 1
}
