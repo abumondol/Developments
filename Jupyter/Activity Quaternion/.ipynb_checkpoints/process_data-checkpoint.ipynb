{
 "cells": [
  {
   "cell_type": "code",
   "execution_count": 1,
   "metadata": {
    "collapsed": true
   },
   "outputs": [],
   "source": [
    "import numpy as np\n",
    "import pickle\n",
    "import quaternion as quat"
   ]
  },
  {
   "cell_type": "code",
   "execution_count": 9,
   "metadata": {
    "collapsed": true
   },
   "outputs": [],
   "source": [
    "with open('C:/ASM/DevData/activity_quaternion/data/raw.pkl', 'rb') as file:\n",
    "    data = pickle.load(file)"
   ]
  },
  {
   "cell_type": "code",
   "execution_count": 11,
   "metadata": {
    "collapsed": false
   },
   "outputs": [
    {
     "name": "stdout",
     "output_type": "stream",
     "text": [
      "Subject  0 Session  0  duration  1.832148 :  1.832148 1.828448 1.828448\n",
      " >> Subject  0 Session  0  duration  54966 :  (54854,) (54854, 18) (54854, 18) (54854, 7)\n",
      "Subject  0 Session  1  duration  1.703816 :  1.703816 1.69005 1.69005\n",
      " >> Subject  0 Session  1  duration  51116 :  (50702,) (50702, 18) (50702, 18) (50702, 7)\n",
      "Subject  0 Session  2  duration  1.074089 :  1.074089 1.063056 1.063056\n",
      " >> Subject  0 Session  2  duration  32224 :  (31892,) (31892, 18) (31892, 18) (31892, 7)\n",
      "Subject  0 Session  3  duration  1.109056 :  1.109056 1.083323 1.083323\n",
      " >> Subject  0 Session  3  duration  33273 :  (32500,) (32500, 18) (32500, 18) (32500, 7)\n",
      "Subject  0 Session  4  duration  1.098456 :  1.098456 1.089956 1.089956\n",
      " >> Subject  0 Session  4  duration  32955 :  (32699,) (32699, 18) (32699, 18) (32699, 7)\n",
      "Subject  0 Session  5  duration  1.00419 :  1.00419 1.00159 1.00159\n",
      " >> Subject  0 Session  5  duration  30127 :  (30048,) (30048, 18) (30048, 18) (30048, 7)\n",
      "Subject  1 Session  0  duration  1.779882 :  1.779882 1.768449 1.768449\n",
      " >> Subject  1 Session  0  duration  53398 :  (53054,) (53054, 18) (53054, 18) (53054, 7)\n",
      "Subject  1 Session  1  duration  1.426519 :  1.426519 1.205655 1.205655\n",
      " >> Subject  1 Session  1  duration  42797 :  (36170,) (36170, 18) (36170, 18) (36170, 7)\n",
      "Subject  1 Session  2  duration  1.006023 :  1.006023 1.000323 1.000323\n",
      " >> Subject  1 Session  2  duration  30182 :  (30010,) (30010, 18) (30010, 18) (30010, 7)\n",
      "Subject  1 Session  3  duration  1.141022 :  1.141022 1.132789 1.132789\n",
      " >> Subject  1 Session  3  duration  34232 :  (33984,) (33984, 18) (33984, 18) (33984, 7)\n",
      "Subject  1 Session  4  duration  1.091556 :  1.091556 1.084756 1.084756\n",
      " >> Subject  1 Session  4  duration  32748 :  (32543,) (32543, 18) (32543, 18) (32543, 7)\n",
      "Subject  1 Session  5  duration  1.060823 :  1.060823 1.043756 1.043756\n",
      " >> Subject  1 Session  5  duration  31826 :  (31313,) (31313, 18) (31313, 18) (31313, 7)\n",
      "Subject  2 Session  0  duration  2.36421 :  2.36421 2.346677 2.346677\n",
      " >> Subject  2 Session  0  duration  70928 :  (70401,) (70401, 18) (70401, 18) (70401, 7)\n",
      "Subject  2 Session  1  duration  1.240721 :  1.240721 1.210055 1.210055\n",
      " >> Subject  2 Session  1  duration  37223 :  (36302,) (36302, 18) (36302, 18) (36302, 7)\n",
      "Subject  2 Session  2  duration  0.927457 :  0.927457 0.915224 0.915224\n",
      " >> Subject  2 Session  2  duration  27825 :  (27457,) (27457, 18) (27457, 18) (27457, 7)\n",
      "Subject  2 Session  3  duration  0.890524 :  0.890524 0.881591 0.881591\n",
      " >> Subject  2 Session  3  duration  26717 :  (26448,) (26448, 18) (26448, 18) (26448, 7)\n",
      "Subject  2 Session  4  duration  0.922657 :  0.922657 0.918024 0.918024\n",
      " >> Subject  2 Session  4  duration  27681 :  (27541,) (27541, 18) (27541, 18) (27541, 7)\n",
      "Subject  2 Session  5  duration  0.883125 :  0.883125 0.873458 0.873458\n",
      " >> Subject  2 Session  5  duration  26495 :  (26204,) (26204, 18) (26204, 18) (26204, 7)\n",
      "Subject  3 Session  0  duration  1.515285 :  1.515285 1.511285 1.511285\n",
      " >> Subject  3 Session  0  duration  45460 :  (45339,) (45339, 18) (45339, 18) (45339, 7)\n",
      "Subject  3 Session  1  duration  1.386219 :  1.386219 1.37532 1.37532\n",
      " >> Subject  3 Session  1  duration  41588 :  (41260,) (41260, 18) (41260, 18) (41260, 7)\n",
      "Subject  3 Session  2  duration  0.924524 :  0.924524 0.919591 0.919591\n",
      " >> Subject  3 Session  2  duration  27737 :  (27588,) (27588, 18) (27588, 18) (27588, 7)\n",
      "Subject  3 Session  3  duration  0.837692 :  0.837692 0.818325 0.818325\n",
      " >> Subject  3 Session  3  duration  25132 :  (24550,) (24550, 18) (24550, 18) (24550, 7)\n",
      "Subject  3 Session  4  duration  0.740959 :  0.740959 0.707193 0.707193\n",
      " >> Subject  3 Session  4  duration  22230 :  (21216,) (21216, 18) (21216, 18) (21216, 7)\n",
      "Subject  3 Session  5  duration  1.017523 :  1.017523 1.00829 1.00829\n",
      " >> Subject  3 Session  5  duration  30527 :  (30249,) (30249, 18) (30249, 18) (30249, 7)\n"
     ]
    }
   ],
   "source": [
    "def check_data(d):\n",
    "    count = len(d)\n",
    "    for i in range(count):\n",
    "        if np.isnan(d[i, :]).any():\n",
    "            return i\n",
    "    return count-1\n",
    "            \n",
    "\n",
    "for s in range(4):\n",
    "    for sess in range(6):\n",
    "        d = data[s][sess]        \n",
    "        t = d[:, 0]/1000        \n",
    "        right = d[:, 63:76]/1000\n",
    "        left = d[:, 89:102]/1000\n",
    "        labels = d[:, 243:]        \n",
    "                \n",
    "        a = check_data(labels)\n",
    "        b = check_data(right)\n",
    "        c = check_data(left)\n",
    "        print('Subject ',s, 'Session ', sess, ' duration ', t[-1], ': ', t[a], t[b], t[c])\n",
    "        \n",
    "        if b!=c:\n",
    "            print('left right is not of same length')\n",
    "            \n",
    "        t = t[:b]\n",
    "        right = right[:b, :]\n",
    "        left = left[:b, :]\n",
    "        labels = labels[:b, :]\n",
    "        labels = labels.astype(int)\n",
    "        \n",
    "        Rx, Ry, Rz = quat.quat2mat(right[:, 9:])\n",
    "        right = np.concatenate((right[:, :9], Rx, Ry, Rz), axis=1)\n",
    "        \n",
    "        Rx, Ry, Rz = quat.quat2mat(left[:, 9:])\n",
    "        left = np.concatenate((left[:, :9], Rx, Ry, Rz), axis=1)\n",
    "        \n",
    "        res={}\n",
    "        res['t'] = t\n",
    "        res['right'] = right\n",
    "        res['left'] = left\n",
    "        res['labels']=labels\n",
    "        res['original_sample_count'] = len(d)\n",
    "        res['original_duration'] = d[-1,0]\n",
    "        data[s][sess] = res      \n",
    "        \n",
    "        print(' >> Subject ',s, 'Session ', sess, ' duration ', len(d), ': ', t.shape, right.shape, left.shape, labels.shape)"
   ]
  },
  {
   "cell_type": "code",
   "execution_count": 12,
   "metadata": {
    "collapsed": true
   },
   "outputs": [],
   "source": [
    "with open('C:/ASM/DevData/activity_quaternion/data/processed.pkl', 'wb') as file:\n",
    "    pickle.dump(data, file)"
   ]
  },
  {
   "cell_type": "code",
   "execution_count": null,
   "metadata": {
    "collapsed": true
   },
   "outputs": [],
   "source": []
  }
 ],
 "metadata": {
  "anaconda-cloud": {},
  "kernelspec": {
   "display_name": "Python [conda root]",
   "language": "python",
   "name": "conda-root-py"
  },
  "language_info": {
   "codemirror_mode": {
    "name": "ipython",
    "version": 3
   },
   "file_extension": ".py",
   "mimetype": "text/x-python",
   "name": "python",
   "nbconvert_exporter": "python",
   "pygments_lexer": "ipython3",
   "version": "3.5.2"
  }
 },
 "nbformat": 4,
 "nbformat_minor": 1
}
