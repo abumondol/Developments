{
 "cells": [
  {
   "cell_type": "code",
   "execution_count": 1,
   "metadata": {
    "collapsed": false
   },
   "outputs": [
    {
     "name": "stderr",
     "output_type": "stream",
     "text": [
      "Using TensorFlow backend.\n"
     ]
    }
   ],
   "source": [
    "import numpy as np\n",
    "import pickle\n",
    "import sklearn.metrics as metrics\n",
    "import argparse\n",
    "import myutils\n",
    "\n",
    "from keras.layers import Conv2D, MaxPooling2D, LSTM, Dense, Flatten, Permute, Reshape\n",
    "from keras.models import Sequential, model_from_json\n",
    "from keras.optimizers import Adam\n",
    "from keras.losses import binary_crossentropy, categorical_crossentropy"
   ]
  },
  {
   "cell_type": "code",
   "execution_count": 2,
   "metadata": {
    "collapsed": false
   },
   "outputs": [
    {
     "name": "stdout",
     "output_type": "stream",
     "text": [
      "Method: 0, Direction: 0, Augment: 0\n"
     ]
    }
   ],
   "source": [
    "method = 0\n",
    "direction = 0\n",
    "augment = 0\n",
    "print('Method: {}, Direction: {}, Augment: {}'.format(method, direction, augment))"
   ]
  },
  {
   "cell_type": "code",
   "execution_count": 3,
   "metadata": {
    "collapsed": false
   },
   "outputs": [],
   "source": [
    "#path = 'C:/ASM/DevData/activity_quaternion/'\n",
    "path=''   \n",
    "with open(path+'data/processed.pkl', 'rb') as file:\n",
    "    data = pickle.load(file)"
   ]
  },
  {
   "cell_type": "code",
   "execution_count": 4,
   "metadata": {
    "collapsed": true
   },
   "outputs": [],
   "source": [
    "def get_train_test_data(data):\n",
    "    xtrain, ytrain = np.empty((0, 18)), np.empty((0,), dtype=int)\n",
    "    xtest, ytest = np.empty((0, 18)), np.empty((0,), dtype=int)\n",
    "    for s in range(4):\n",
    "        for sess in range(6):\n",
    "            if s>0 and sess>=4:\n",
    "                xtest = np.concatenate((xtest, data[s][sess]['right']))\n",
    "                ytest = np.concatenate((ytest, data[s][sess]['labels'][:, -1]))\n",
    "            else:\n",
    "                xtrain = np.concatenate((xtrain, data[s][sess]['right']))\n",
    "                ytrain = np.concatenate((ytrain, data[s][sess]['labels'][:, -1]))\n",
    "\n",
    "                \n",
    "    ytrain = myutils.change_labels(ytrain)\n",
    "    ytest = myutils.change_labels(ytest)\n",
    "    \n",
    "    res ={'xtrain':xtrain, 'xtest':xtest, 'ytrain':ytrain, 'ytest':ytest}    \n",
    "    return res"
   ]
  },
  {
   "cell_type": "code",
   "execution_count": 5,
   "metadata": {
    "collapsed": true
   },
   "outputs": [],
   "source": [
    "def get_windows(x, y, win_len, step_size, augment_vals=[]):    \n",
    "    num_classes=18\n",
    "    r, c = x.shape\n",
    "    ix = np.arange(0, r-win_len, step_size)\n",
    "    count = len(ix)\n",
    "    resX, resY = np.zeros((count, win_len, c)), np.zeros((count, num_classes), dtype=int)\n",
    "        \n",
    "    for i in range(count):\n",
    "        s = ix[i]        \n",
    "        resX[i, :, :] = x[s:s+win_len, :]\n",
    "        label = y[s+win_len-1]\n",
    "        resY[i, label] = 1\n",
    "    \n",
    "    resX = resX.reshape((count, win_len, c, 1))\n",
    "    return resX, resY    "
   ]
  },
  {
   "cell_type": "code",
   "execution_count": 6,
   "metadata": {
    "collapsed": false
   },
   "outputs": [],
   "source": [
    "def get_train_test_windows(data, win_len, step_size, augment_vals=[]):\n",
    "    \n",
    "    xtrain, xtest, ytrain, ytest = data['xtrain'], data['xtest'], data['ytrain'], data['ytest']    \n",
    "    xtrain_norm, xtest_norm = myutils.znorm(xtrain[:, :9], xtest[:, :9]) \n",
    "    \n",
    "    if method == 0 and direction == 0:\n",
    "        xtrain = np.concatenate((xtrain_norm[:, :6], xtrain[:, -3:]), axis = 1)\n",
    "        xtest = np.concatenate((xtest_norm[:, :6], xtest[:, -3:]), axis = 1)\n",
    "    elif method ==0 and direction==1:\n",
    "        xtrain = np.concatenate((xtrain_norm[:, :6], xtrain[:, -9:]), axis = 1)\n",
    "        xtest = np.concatenate((xtest_norm[:, :6], xtest[:, -9:]), axis = 1)\n",
    "    elif method==1 and direction==0:\n",
    "        xtrain, xtest = xtrain_norm[:, :6], xtest_norm[:, :6]\n",
    "    \n",
    "    print('label max: ', np.max(ytrain), np.max(ytest))    \n",
    "    xtrain, ytrain = get_windows(xtrain, ytrain, win_len, step_size, augment_vals)\n",
    "    xtest, ytest = get_windows(xtest, ytest, win_len, step_size, augment_vals)\n",
    "    print('label max: ', np.max(ytrain), np.max(ytest))    \n",
    "    \n",
    "    res ={'xtrain':xtrain, 'xtest':xtest, 'ytrain':ytrain, 'ytest':ytest}    \n",
    "    return res"
   ]
  },
  {
   "cell_type": "code",
   "execution_count": 7,
   "metadata": {
    "collapsed": true
   },
   "outputs": [],
   "source": [
    "def train_model(X_train, Y_train, batch_size, epochs):    \n",
    "    NUM_FILTERS = 64    \n",
    "    FILTER_SHAPE = (5, 1)\n",
    "    NUM_UNITS_LSTM = 128\n",
    "    NUM_CLASSES = Y_train.shape[1]\n",
    "    \n",
    "    input_shape = (X_train.shape[1], X_train.shape[2], X_train.shape[3])\n",
    "    print(input_shape)\n",
    "    \n",
    "\n",
    "    model = Sequential()\n",
    "    model.add(Conv2D(NUM_FILTERS, kernel_size=FILTER_SHAPE, padding ='valid', strides=(1, 1), activation='relu',\n",
    "                     input_shape=input_shape))\n",
    "    #model.add(MaxPooling2D(pool_size=(4, 1), strides=(4, 1)))\n",
    "    model.add(Conv2D(NUM_FILTERS, kernel_size=FILTER_SHAPE, padding ='valid', strides=(1, 1), activation='relu'))\n",
    "    model.add(Conv2D(NUM_FILTERS, kernel_size=FILTER_SHAPE, padding ='valid', strides=(1, 1), activation='relu'))\n",
    "    model.add(Conv2D(NUM_FILTERS, kernel_size=FILTER_SHAPE, padding ='valid', strides=(1, 1), activation='relu'))\n",
    "        \n",
    "    #model.add(Permute((2, 1, 3)))    \n",
    "    \n",
    "    model.add(Flatten())    \n",
    "    model.add(Dense(100, activation='relu'))\n",
    "    model.add(Dense(100, activation='relu'))    \n",
    "    \n",
    "    #model.add(Reshape((-1, NUM_FILTERS*input_shape[1])))\n",
    "    #model.add(LSTM(NUM_UNITS_LSTM, return_sequences=True))\n",
    "    #model.add(LSTM(NUM_UNITS_LSTM))\n",
    "    \n",
    "    model.add(Dense(NUM_CLASSES, activation='softmax'))\n",
    "\n",
    "    print(model.summary())\n",
    "    model.compile(loss = 'categorical_crossentropy',\n",
    "                  optimizer= 'rmsprop',\n",
    "                  metrics=['accuracy'])\n",
    "\n",
    "    model.fit(X_train, Y_train,\n",
    "              batch_size=batch_size,            \n",
    "              epochs=epochs, verbose=1)\n",
    "\n",
    "    return model\n",
    "    "
   ]
  },
  {
   "cell_type": "code",
   "execution_count": 8,
   "metadata": {
    "collapsed": true
   },
   "outputs": [],
   "source": [
    "def test_model(model, X_test, Y_test):\n",
    "    count = Y_test.shape[0]\n",
    "    \n",
    "    Y_test = np.argmax(Y_test, axis=1).reshape((count,1))    \n",
    "    Y_prob = model.predict(X_test, verbose=0)\n",
    "    Y_pred = np.argmax(Y_prob, axis=1).reshape((count,1))    \n",
    "    Y = np.concatenate((Y_test, Y_pred, Y_prob), axis=1)\n",
    "\n",
    "    return Y"
   ]
  },
  {
   "cell_type": "code",
   "execution_count": null,
   "metadata": {
    "collapsed": false
   },
   "outputs": [],
   "source": [
    "win_len = 30\n",
    "step_size = 15\n",
    "batch_size = 64\n",
    "epochs = 100\n",
    "model_str=str(method)+str(direction)+str(augment)\n",
    "\n",
    "augment_vals = []\n",
    "if augment==1:    \n",
    "    augment_vals = [.8, .9, 1.1, 1.2]\n",
    "\n",
    "print('\\n##################################################')\n",
    "print('Window len: {}, Method: {}, Direction: {}, Augment: {}, Augment_Vals:{}'.format(win_len, method, direction, augment, augment_vals))\n",
    "print('##################################################\\n')\n",
    "\n",
    "d = get_train_test_data(data)\n",
    "xtrain, xtest, ytrain, ytest = d['xtrain'], d['xtest'], d['ytrain'], d['ytest']\n",
    "print('label max: ', np.max(ytrain), np.max(ytest))    \n",
    "#print(np.unique(ytrain), np.unique(ytest))\n",
    "print('data shapes: ', xtrain.shape, ytrain.shape, xtest.shape, ytest.shape)\n",
    "print('')\n",
    "\n",
    "w = get_train_test_windows(d, win_len, step_size, augment_vals)\n",
    "xtrain, xtest, ytrain, ytest = w['xtrain'], w['xtest'], w['ytrain'], w['ytest']\n",
    "print('\\nlabel max: ', np.max(ytrain), np.max(ytest))    \n",
    "print('window data shapes: ', xtrain.shape, ytrain.shape, xtest.shape, ytest.shape)\n",
    "print('label sums: ', np.sum(ytrain), np.sum(ytest))\n",
    "\n",
    "model = train_model(xtrain, ytrain, batch_size, epochs)\n",
    "model.save(path + \"models/model_{}_{}.h5\".format(model_str, win_len))\n",
    "\n",
    "Y = test_model(model, xtest, ytest)\n",
    "model.save(path + \"results/result_{}_{}.csv\".format(model_str, win_len))\n",
    "\n",
    "test_true = Y[:, 0]\n",
    "test_pred = Y[:, 1]\n",
    "print(\"\\tTest fscore(weighted):\\t{} \".format(metrics.f1_score(test_true, test_pred, average='weighted')))\n",
    "print(\"\\tTest fscore:\\t{} \".format(metrics.f1_score(test_true, test_pred, average=None)))\n"
   ]
  },
  {
   "cell_type": "code",
   "execution_count": null,
   "metadata": {
    "collapsed": true
   },
   "outputs": [],
   "source": []
  },
  {
   "cell_type": "code",
   "execution_count": null,
   "metadata": {
    "collapsed": true
   },
   "outputs": [],
   "source": []
  }
 ],
 "metadata": {
  "anaconda-cloud": {},
  "kernelspec": {
   "display_name": "Python [conda root]",
   "language": "python",
   "name": "conda-root-py"
  },
  "language_info": {
   "codemirror_mode": {
    "name": "ipython",
    "version": 3
   },
   "file_extension": ".py",
   "mimetype": "text/x-python",
   "name": "python",
   "nbconvert_exporter": "python",
   "pygments_lexer": "ipython3",
   "version": "3.5.2"
  }
 },
 "nbformat": 4,
 "nbformat_minor": 1
}
