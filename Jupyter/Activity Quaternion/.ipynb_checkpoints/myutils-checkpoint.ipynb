{
 "cells": [
  {
   "cell_type": "code",
   "execution_count": 1,
   "metadata": {
    "collapsed": true
   },
   "outputs": [],
   "source": [
    "import numpy as np"
   ]
  },
  {
   "cell_type": "code",
   "execution_count": 2,
   "metadata": {
    "collapsed": true
   },
   "outputs": [],
   "source": [
    "def change_labels(data_y):\n",
    "    data_y[data_y == 406516] = 1\n",
    "    data_y[data_y == 406517] = 2\n",
    "    data_y[data_y == 404516] = 3\n",
    "    data_y[data_y == 404517] = 4\n",
    "    data_y[data_y == 406520] = 5\n",
    "    data_y[data_y == 404520] = 6\n",
    "    data_y[data_y == 406505] = 7\n",
    "    data_y[data_y == 404505] = 8\n",
    "    data_y[data_y == 406519] = 9\n",
    "    data_y[data_y == 404519] = 10\n",
    "    data_y[data_y == 406511] = 11\n",
    "    data_y[data_y == 404511] = 12\n",
    "    data_y[data_y == 406508] = 13\n",
    "    data_y[data_y == 404508] = 14\n",
    "    data_y[data_y == 408512] = 15\n",
    "    data_y[data_y == 407521] = 16\n",
    "    data_y[data_y == 405506] = 17\n",
    "    return data_y\n",
    "\n",
    "def get_train_test_data(data):\n",
    "    train_data, train_label = np.empty((0, 18)), []\n",
    "    test_data, test_label = np.empty((0, 18)), []\n",
    "    for s in range(4):\n",
    "        for sess in range(6):\n",
    "            if s>0 and sess>=4:\n",
    "                test_data = np.concatenate((test_data, data[s][sess]['right']))\n",
    "                test_label = np.concatenate((test_label, data[s][sess]['labels'][:, -1]))\n",
    "            else:\n",
    "                train_data = np.concatenate((train_data, data[s][sess]['right']))\n",
    "                train_label = np.concatenate((train_label, data[s][sess]['labels'][:, -1]))\n",
    "\n",
    "    train_label = change_labels(train_label)\n",
    "    test_label = change_labels(test_label)\n",
    "\n",
    "    train_label = train_label.astype(int)\n",
    "    test_label = test_label.astype(int)\n",
    "    \n",
    "    return train_data, train_label, test_data, test_label"
   ]
  },
  {
   "cell_type": "code",
   "execution_count": null,
   "metadata": {
    "collapsed": true
   },
   "outputs": [],
   "source": [
    "def znorm(train, test):\n",
    "    m = np.mean(train, axis=0)\n",
    "    s = np.std(train, axis=0)\n",
    "    print('Means: ', m)\n",
    "    print('Mtds: ', s)\n",
    "    train = (train-m)/s\n",
    "    test = (test-m)/s\n",
    "    return train, test\n",
    "\n",
    "def minmax_norm(train, test):\n",
    "    mn = np.amin(train, axis=0)\n",
    "    mx = np.amax(train, axis=0)\n",
    "    print('Mins: ', mn)\n",
    "    print('Maxs: ', mx)\n",
    "    train = (train-mn)/(mx-mn)\n",
    "    test = (test-mn)/(mx-mn)\n",
    "    return train, test\n",
    "\n",
    "def magnorm(d):\n",
    "    mag = np.sqrt(np.sum(d*d, axis=1))\n",
    "    mag = mag.reshape((-1, 1))\n",
    "    mag = np.concatenate((mag, mag, mag), axis=1)\n",
    "    d = d/mag\n",
    "    return d"
   ]
  },
  {
   "cell_type": "code",
   "execution_count": null,
   "metadata": {
    "collapsed": true
   },
   "outputs": [],
   "source": [
    "def get_windows(x, y, win_len, step_size, augment_vals=[]):    \n",
    "    num_classes=18\n",
    "    r, c = x.shape\n",
    "    ix = np.arange(0, r-win_len, step_size)\n",
    "    count = len(ix)\n",
    "    resX, resY = np.empty((count, win_len, c)), np.empty((count, num_classes), dtype=int)\n",
    "        \n",
    "    for i in range(count):\n",
    "        s = ix[i]        \n",
    "        resX[i, :, :] = x[s:s+win_len, :]\n",
    "        label = y[s+win_len-1]\n",
    "        resY[i, label] = 1\n",
    "    \n",
    "    resX = resX.reshape((count, win_len, c, 1))\n",
    "    return resX, resY    "
   ]
  }
 ],
 "metadata": {
  "anaconda-cloud": {},
  "kernelspec": {
   "display_name": "Python [conda root]",
   "language": "python",
   "name": "conda-root-py"
  },
  "language_info": {
   "codemirror_mode": {
    "name": "ipython",
    "version": 3
   },
   "file_extension": ".py",
   "mimetype": "text/x-python",
   "name": "python",
   "nbconvert_exporter": "python",
   "pygments_lexer": "ipython3",
   "version": "3.5.2"
  }
 },
 "nbformat": 4,
 "nbformat_minor": 1
}
