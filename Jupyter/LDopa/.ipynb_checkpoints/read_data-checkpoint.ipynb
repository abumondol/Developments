{
 "cells": [
  {
   "cell_type": "code",
   "execution_count": 107,
   "metadata": {
    "collapsed": false
   },
   "outputs": [],
   "source": [
    "import numpy as np\n",
    "import pickle\n",
    "import sys\n"
   ]
  },
  {
   "cell_type": "code",
   "execution_count": 108,
   "metadata": {
    "collapsed": true
   },
   "outputs": [],
   "source": [
    "def printList2D(list2D):\n",
    "    for list1D in list2D:\n",
    "        print(x for x in list1D)"
   ]
  },
  {
   "cell_type": "code",
   "execution_count": 128,
   "metadata": {
    "collapsed": true
   },
   "outputs": [],
   "source": [
    "meta_dict ={\n",
    "    \"GENEActiv\": 1,\n",
    "    \"Pebble\": 2,    \n",
    "    \"Boston\":1,\n",
    "    \"NYC\":2,\n",
    "    \"drnkg\":1,\n",
    "    \"fldng\":2,    \n",
    "    \"ntblt\":3,\n",
    "    \"orgpa\":4,\n",
    "    \"ftnr1\":51,\n",
    "    \"ftnr2\":52,\n",
    "    \"ftnl1\":61,\n",
    "    \"ftnl2\":62,\n",
    "    \"ramr1\":71,\n",
    "    \"ramr2\":72,\n",
    "    \"raml1\":81,\n",
    "    \"raml2\":82,\n",
    "    \"Right\":1,\n",
    "    \"Left\":2,\n",
    "    \"Score\":-1,\n",
    "    \"NotApplicable\":-2    \n",
    "}"
   ]
  },
  {
   "cell_type": "code",
   "execution_count": 129,
   "metadata": {
    "collapsed": true
   },
   "outputs": [],
   "source": [
    "def replaceByNum(data):\n",
    "    res = [];\n",
    "    for s in data:\n",
    "        s = s.strip()\n",
    "        if s.endswith(\",\"):\n",
    "            s = s + \"-2\"\n",
    "        s = s.replace(\"\\\"\", \"\").replace(\"_BOS\",\"\").replace(\"_NYC\", \"\").replace(\",,\",\",-2,\")\n",
    "        for key, value in meta_dict.items():\n",
    "            s = s.replace(key, str(value))\n",
    "        #print(s)\n",
    "        s = s.split(\",\")\n",
    "        #print(s)\n",
    "        numList = [int(x.strip()) for x in s]\n",
    "        print(numList)\n",
    "        if len(numList) != 13:\n",
    "            print(\"------- Column Count Error------------\")\n",
    "            sys.exit(0)\n",
    "        \n",
    "        res.append(numList)\n",
    "    return res\n",
    "    "
   ]
  },
  {
   "cell_type": "code",
   "execution_count": 130,
   "metadata": {
    "collapsed": false
   },
   "outputs": [],
   "source": [
    "def get_meta_data():\n",
    "    with open(\"C:\\\\ASM\\\\Learning\\\\LDopa\\\\ldopa_meta_data_train.csv\", \"r\") as handle:\n",
    "        meta_train = handle.readlines()\n",
    "        header = meta_train[0]\n",
    "        header = header.strip().replace(\"\\\"\", \"\").split(\",\")\n",
    "        meta_train = meta_train[1:]\n",
    "        meta_train = replaceByNum(meta_train)\n",
    "\n",
    "\n",
    "    with open(\"C:\\\\ASM\\\\Learning\\\\LDopa\\\\ldopa_meta_data_test.csv\", \"r\") as handle:\n",
    "        meta_test = handle.readlines()\n",
    "        meta_test = meta_test[1:]\n",
    "        meta_test = replaceByNum(meta_test)\n",
    "        \n",
    "    return header, metaTrain, metaTest\n",
    "\n",
    "    "
   ]
  },
  {
   "cell_type": "code",
   "execution_count": null,
   "metadata": {
    "collapsed": false
   },
   "outputs": [],
   "source": [
    "header, meta_train, meta_test = get_meta_data()\n",
    "print(\"Train Count: \", len(meta_train))\n",
    "print(\"Test Count:\", len(meta_test))\n",
    "print(\"Field Count:\", len(header))\n",
    "\n",
    "meta_data ={\n",
    "    \"header\":header,\n",
    "    \"train\":meta_train,\n",
    "    \"test\":meta_test\n",
    "}\n",
    "\n",
    "with open(\"C:\\\\ASM\\\\Learning\\\\LDopa\\\\dev_data\\\\meta_data.pkl\", \"wb\") as handle:\n",
    "    pickle.dump(meta_data, handle)"
   ]
  },
  {
   "cell_type": "code",
   "execution_count": 118,
   "metadata": {
    "collapsed": false
   },
   "outputs": [
    {
     "name": "stdout",
     "output_type": "stream",
     "text": [
      "5168\n",
      "2160\n"
     ]
    }
   ],
   "source": [
    "data_train = {}\n",
    "\n",
    "for x in meta_train:\n",
    "    file_id = x[2]\n",
    "    file_name = \"C:\\\\ASM\\\\Learning\\\\LDopa\\\\ldopa_train_data\\\\\"+str(file_id)\n",
    "    data = np.genfromtxt(file_name, delimiter=\"\\t\", skip_header=1)\n",
    "    #print(data.shape)\n",
    "    data_train[file_id] = data\n",
    "\n",
    "print(len(data_train))\n",
    "with open(\"C:\\\\ASM\\\\Learning\\\\LDopa\\\\dev_data\\\\data_train.pkl\", \"wb\") as handle:\n",
    "    pickle.dump(data_train, handle)\n",
    "    \n",
    "data_test = {}\n",
    "for x in meta_test:\n",
    "    file_id = x[2]\n",
    "    file_name = \"C:\\\\ASM\\\\Learning\\\\LDopa\\\\ldopa_test_data\\\\\"+str(file_id)\n",
    "    data = np.genfromtxt(file_name, delimiter=\"\\t\", skip_header=1)\n",
    "    #print(data.shape)\n",
    "    data_test[file_id] = data\n",
    "\n",
    "print(len(data_test))\n",
    "with open(\"C:\\\\ASM\\\\Learning\\\\LDopa\\\\dev_data\\\\data_test.pkl\", \"wb\") as handle:\n",
    "    pickle.dump(data_test, handle)\n",
    "\n",
    "    \n"
   ]
  },
  {
   "cell_type": "code",
   "execution_count": 119,
   "metadata": {
    "collapsed": true
   },
   "outputs": [],
   "source": [
    "\n"
   ]
  }
 ],
 "metadata": {
  "anaconda-cloud": {},
  "kernelspec": {
   "display_name": "Python [conda root]",
   "language": "python",
   "name": "conda-root-py"
  },
  "language_info": {
   "codemirror_mode": {
    "name": "ipython",
    "version": 3
   },
   "file_extension": ".py",
   "mimetype": "text/x-python",
   "name": "python",
   "nbconvert_exporter": "python",
   "pygments_lexer": "ipython3",
   "version": "3.5.2"
  }
 },
 "nbformat": 4,
 "nbformat_minor": 1
}
