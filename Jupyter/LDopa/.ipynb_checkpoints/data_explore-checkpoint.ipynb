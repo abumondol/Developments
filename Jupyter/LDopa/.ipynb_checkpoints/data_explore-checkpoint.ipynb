{
 "cells": [
  {
   "cell_type": "code",
   "execution_count": 1,
   "metadata": {
    "collapsed": true
   },
   "outputs": [],
   "source": [
    "import numpy as np\n",
    "import pickle\n",
    "import sys\n"
   ]
  },
  {
   "cell_type": "code",
   "execution_count": 2,
   "metadata": {
    "collapsed": false
   },
   "outputs": [],
   "source": [
    "with open(\"C:\\\\ASM\\\\DevData\\\\LDopa\\\\meta_data.pkl\", \"rb\") as handle:\n",
    "    meta_data = pickle.load(handle)    "
   ]
  },
  {
   "cell_type": "code",
   "execution_count": 3,
   "metadata": {
    "collapsed": true
   },
   "outputs": [],
   "source": [
    "with open(\"C:\\\\ASM\\\\DevData\\\\LDopa\\\\data_train.pkl\", \"rb\") as handle:\n",
    "    data_train = pickle.load(handle)"
   ]
  },
  {
   "cell_type": "code",
   "execution_count": 4,
   "metadata": {
    "collapsed": true
   },
   "outputs": [],
   "source": [
    "with open(\"C:\\\\ASM\\\\DevData\\\\LDopa\\\\data_test.pkl\", \"rb\") as handle:\n",
    "    data_test = pickle.load(handle)\n",
    "    "
   ]
  },
  {
   "cell_type": "code",
   "execution_count": 38,
   "metadata": {
    "collapsed": true
   },
   "outputs": [],
   "source": [
    "header = meta_data[\"header\"]\n",
    "mtr = meta_data[\"train\"]\n",
    "mts = meta_data[\"test\"]\n",
    "mtr = np.array(mtr)\n",
    "mts = np.array(mts)\n",
    "\n",
    "for i in range(len(mtr)):\n",
    "    if mtr[i, 7] >50:\n",
    "        mtr[i, 7] = mtr[i, 7]//10        \n",
    "        \n",
    "for i in range(len(mts)):\n",
    "    if mts[i, 7] >50:\n",
    "        mts[i, 7] = mts[i, 7]//10        \n",
    "        "
   ]
  },
  {
   "cell_type": "code",
   "execution_count": 26,
   "metadata": {
    "collapsed": false
   },
   "outputs": [
    {
     "name": "stdout",
     "output_type": "stream",
     "text": [
      "19 : [1003 1006 1008 1009 1012 1013 1015 1016 1017 1018 1019 2002 2003 2004 2005\n",
      " 2006 2007 2008 2012]\n",
      "8 : [1005 1007 1010 1011 1014 2009 2010 2011]\n"
     ]
    }
   ],
   "source": [
    "sid = np.unique(mtr[:, 6]*1000+ mtr[:, 4])\n",
    "print(len(sid), \":\", sid)\n",
    "\n",
    "sid = np.unique(mts[:, 6]*1000 + mts[:, 4])\n",
    "print(len(sid), \":\", sid)"
   ]
  },
  {
   "cell_type": "code",
   "execution_count": 61,
   "metadata": {
    "collapsed": false
   },
   "outputs": [
    {
     "name": "stdout",
     "output_type": "stream",
     "text": [
      "132\n"
     ]
    }
   ],
   "source": [
    "#a = mtr[(mtr[:, 7]==5) & (mtr[:, 9]==2) & (mtr[:, 10]>=0), 2: ]\n",
    "for i in range(10):\n",
    "    a = mtr[(mtr[:, 7]==i) & (mtr[:, 11]>=0), 2: ]\n",
    "    print(len(a))\n",
    "    if i == 100:\n",
    "        print(a)"
   ]
  }
 ],
 "metadata": {
  "anaconda-cloud": {},
  "kernelspec": {
   "display_name": "Python [conda root]",
   "language": "python",
   "name": "conda-root-py"
  },
  "language_info": {
   "codemirror_mode": {
    "name": "ipython",
    "version": 3
   },
   "file_extension": ".py",
   "mimetype": "text/x-python",
   "name": "python",
   "nbconvert_exporter": "python",
   "pygments_lexer": "ipython3",
   "version": "3.5.2"
  }
 },
 "nbformat": 4,
 "nbformat_minor": 1
}
