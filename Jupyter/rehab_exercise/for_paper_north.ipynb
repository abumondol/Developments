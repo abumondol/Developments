{
 "cells": [
  {
   "cell_type": "code",
   "execution_count": 1,
   "metadata": {
    "collapsed": true
   },
   "outputs": [],
   "source": [
    "import numpy as np\n",
    "import pickle\n",
    "import os\n",
    "\n",
    "import sys\n",
    "import matplotlib.pyplot as plt\n",
    "from matplotlib.ticker import MaxNLocator\n",
    "from collections import namedtuple\n",
    "\n",
    "%matplotlib inline"
   ]
  },
  {
   "cell_type": "code",
   "execution_count": 2,
   "metadata": {
    "collapsed": true
   },
   "outputs": [],
   "source": [
    "src_folder = \"E:/DevData/rehab_exercise/shoulder_surgery/data/\"\n",
    "with open(src_folder+'processed.pkl', \"rb\") as file:\n",
    "    data = pickle.load(file)"
   ]
  },
  {
   "cell_type": "code",
   "execution_count": 18,
   "metadata": {
    "collapsed": true
   },
   "outputs": [],
   "source": [
    "def get_theta2(thetas):\n",
    "    avg = np.mean(thetas)    \n",
    "    ix = thetas>avg\n",
    "    count = len(thetas)\n",
    "    \n",
    "    total = 0\n",
    "    segs = 0\n",
    "    \n",
    "    \n",
    "    above = 1000\n",
    "    below = 1000\n",
    "    s = 0\n",
    "    for i in range(1, count):\n",
    "        if thetas[i]>avg and thetas[i-1]<=avg:\n",
    "            below = np.amax(thetas[s:i])            \n",
    "            s = i\n",
    "            if above<1000:\n",
    "                total+= above-below\n",
    "                segs+=1            \n",
    "        \n",
    "        if thetas[i]<=avg and thetas[i-1]>avg:\n",
    "            above = np.amax(thetas[s:i])                        \n",
    "            s = i\n",
    "    \n",
    "    return total/segs"
   ]
  },
  {
   "cell_type": "markdown",
   "metadata": {
    "scrolled": false
   },
   "source": [
    "#Generate Figure for separation line\n",
    "ex_no = 3\n",
    "hand = 0 #0:right hand, 1 left hand\n",
    "\n",
    "for i in range(8):\n",
    "    #if i!=6:\n",
    "    #    continue\n",
    "    \n",
    "    d = data[i][hand]    \n",
    "    a = data[i][2]\n",
    "    if hand == 0:\n",
    "        a = a[(a[:, 0]==ex_no) & (a[:, 1]!=2), :] \n",
    "    else:\n",
    "        a = a[(a[:, 0]==ex_no) & (a[:, 1]>=2), :]\n",
    "    \n",
    "    fig = plt.figure(figsize=(10,5))\n",
    "    subplot = fig.add_subplot(111)\n",
    "    plt.ylim([-180, 180])\n",
    "    plt.grid()\n",
    "    \n",
    "    for j in range(len(a)):\n",
    "        #if j!=1:\n",
    "        #    continue\n",
    "            \n",
    "        t1 = a[j, -2]\n",
    "        t2 = a[j, -1]\n",
    "        flex = a[j, -3]\n",
    "        ds = d[(d[:, 0]>=t1) & (d[:,0]<=t2), :]\n",
    "        \n",
    "        t = ds[:, 0] - ds[0, 0]\n",
    "        x = np.arccos(ds[:, -6])*180/np.pi\n",
    "        y = np.arccos(ds[:, -5])*180/np.pi\n",
    "        z = np.arccos(ds[:, -4])*180/np.pi\n",
    "        \n",
    "        subplot.plot(t, x)\n",
    "        avgx = np.mean(x)\n",
    "        #subplot.plot([0, t[-1]], [avgx, avgx], 'k--')\n",
    "        \n",
    "    plt.title('subject: '+str(i+1)+', Ex No: '+str(ex_no)+', Hand: '+str(hand)+', Flexibility: '+str(flex))\n",
    "    plt.legend()\n",
    "    plt.xlabel('Time (s)')\n",
    "    plt.ylabel(r\"$\\Theta$ (degree)\")\n"
   ]
  },
  {
   "cell_type": "code",
   "execution_count": 38,
   "metadata": {},
   "outputs": [
    {
     "name": "stdout",
     "output_type": "stream",
     "text": [
      "[[  6.68594935  15.23117706  25.41884027]\n",
      " [ 11.25119575   4.55819394  22.12646857]\n",
      " [  6.61636219  10.89918302  25.83245756]\n",
      " [  8.37368738   9.57751319  38.08044487]\n",
      " [  5.14695362  16.40236248  44.47365985]\n",
      " [  2.48994038  17.29118172  27.14449496]\n",
      " [  6.24720502  12.15111972  22.87788153]\n",
      " [ 31.47861576  17.43068215  26.00865825]]\n"
     ]
    },
    {
     "data": {
      "image/png": "[encoded data removed]",
      "text/plain": [
       "<matplotlib.figure.Figure at 0x1589659a6d8>"
      ]
     },
     "metadata": {},
     "output_type": "display_data"
    }
   ],
   "source": [
    "#Generate Figure for Right hand with respect to gravity\n",
    "ex_no = 2\n",
    "hand = 0 #0:right hand, 1 left hand\n",
    "\n",
    "res = np.zeros((8,3))\n",
    "\n",
    "for i in range(8):\n",
    "    d = data[i][hand]    \n",
    "    a = data[i][2]\n",
    "    if hand == 0:\n",
    "        a = a[(a[:, 0]==ex_no) & (a[:, 1]!=2), :] \n",
    "    else:\n",
    "        a = a[(a[:, 0]==ex_no) & (a[:, 1]>=2), :]\n",
    "    \n",
    "    \n",
    "    for j in range(3):\n",
    "        t1 = a[j, -2]\n",
    "        t2 = a[j, -1]\n",
    "        flex = a[j, -3]\n",
    "        ds = d[(d[:, 0]>=t1) & (d[:,0]<=t2), :]\n",
    "        \n",
    "        t = ds[:, 0] - ds[0, 0]\n",
    "        x = np.arccos(ds[:, -6])*180/np.pi\n",
    "        res[i, j] = get_theta2(x)\n",
    "        \n",
    "print(res)\n",
    "temp = res[1, 0]\n",
    "res[1, 0] = res[1, 1]\n",
    "res[1, 1] = temp\n",
    "\n",
    "temp = res[7, 0]\n",
    "res[7, 0] = res[7, 1]\n",
    "res[7, 1] = res[7, 2]\n",
    "res[7, 2] = temp\n",
    "#print(res)\n",
    "\n",
    "\n",
    "n_groups = 8\n",
    "\n",
    "fig, ax = plt.subplots()\n",
    "index = np.arange(n_groups)\n",
    "bar_width = 0.25\n",
    "opacity = 0.4\n",
    "\n",
    "rects1 = ax.bar(index, res[:, 0], bar_width,\n",
    "                alpha=opacity, color='r',                \n",
    "                label='low')\n",
    "\n",
    "rects2 = ax.bar(index + bar_width, res[:, 1], bar_width,\n",
    "                alpha=opacity, color='b',                \n",
    "                label='average')\n",
    "\n",
    "rects3 = ax.bar(index + 2*bar_width, res[:, 2], bar_width,\n",
    "                alpha=opacity, color='g',                \n",
    "                label='high')\n",
    "\n",
    "ax.set_xlabel('Subject ID')\n",
    "ax.set_ylabel(\"Average amount of rotation (degree)\")\n",
    "#ax.set_title('')\n",
    "ax.set_xticks(index + bar_width / 2)\n",
    "ax.set_xticklabels(('1', '2', '3', '4', '5', '6', '7', '8'))\n",
    "ax.legend()\n",
    "\n",
    "plt.grid()\n",
    "fig.tight_layout()\n",
    "plt.show()        \n",
    "res1 = res        "
   ]
  },
  {
   "cell_type": "code",
   "execution_count": 31,
   "metadata": {},
   "outputs": [
    {
     "name": "stdout",
     "output_type": "stream",
     "text": [
      "[[  2.11769119   1.91411662   4.08599894]\n",
      " [  6.47090503   5.11347256   6.02710528]\n",
      " [  2.30973864   1.62559946  15.12440877]\n",
      " [  2.16264817   5.062808     3.71542564]\n",
      " [  0.70851484   0.86711788   1.82181267]\n",
      " [  2.41606534   2.56519291   2.00690901]\n",
      " [  1.4180553    3.25583564   8.78141001]\n",
      " [  1.20100598   4.87695469   6.29977556]]\n"
     ]
    },
    {
     "data": {
      "image/png": "[encoded data removed]",
      "text/plain": [
       "<matplotlib.figure.Figure at 0x15896ae4160>"
      ]
     },
     "metadata": {},
     "output_type": "display_data"
    }
   ],
   "source": [
    "#Generate Figure for Left hand with respect to gravity\n",
    "ex_no = 3\n",
    "hand = 0 #0:right hand, 1 left hand\n",
    "\n",
    "res = np.zeros((8,3))\n",
    "\n",
    "for i in range(8):\n",
    "    d = data[i][hand]    \n",
    "    a = data[i][2]\n",
    "    if hand == 0:\n",
    "        a = a[(a[:, 0]==ex_no) & (a[:, 1]!=2), :] \n",
    "    else:\n",
    "        a = a[(a[:, 0]==ex_no) & (a[:, 1]>=2), :]\n",
    "    \n",
    "    \n",
    "    for j in range(3):\n",
    "        t1 = a[j, -2]\n",
    "        t2 = a[j, -1]\n",
    "        flex = a[j, -3]\n",
    "        ds = d[(d[:, 0]>=t1) & (d[:,0]<=t2), :]\n",
    "        \n",
    "        t = ds[:, 0] - ds[0, 0]\n",
    "        x = np.arccos(ds[:, -3]*(-1))*180/np.pi\n",
    "        res[i, j] = get_theta2(x)\n",
    "        \n",
    "print(res)\n",
    "\n",
    "n_groups = 8\n",
    "\n",
    "fig, ax = plt.subplots()\n",
    "index = np.arange(n_groups)\n",
    "bar_width = 0.25\n",
    "opacity = 0.4\n",
    "\n",
    "rects1 = ax.bar(index, res[:, 0], bar_width,\n",
    "                alpha=opacity, color='r',                \n",
    "                label='Short')\n",
    "\n",
    "rects2 = ax.bar(index + bar_width, res[:, 1], bar_width,\n",
    "                alpha=opacity, color='b',                \n",
    "                label='Medium')\n",
    "\n",
    "rects3 = ax.bar(index + 2*bar_width, res[:, 2], bar_width,\n",
    "                alpha=opacity, color='g',                \n",
    "                label='Full')\n",
    "\n",
    "ax.set_xlabel('Subject')\n",
    "ax.set_ylabel(r\"Average of $\\Theta$ (degree)\")\n",
    "#ax.set_title('')\n",
    "ax.set_xticks(index + bar_width / 2)\n",
    "ax.set_xticklabels(('1', '2', '3', '4', '5', '6', '7', '8'))\n",
    "ax.legend()\n",
    "\n",
    "plt.grid()\n",
    "fig.tight_layout()\n",
    "plt.show()        \n",
    "res2 = res        "
   ]
  },
  {
   "cell_type": "code",
   "execution_count": null,
   "metadata": {
    "collapsed": true
   },
   "outputs": [],
   "source": [
    "n_groups = 8\n",
    "\n",
    "fig, ax = plt.subplots()\n",
    "index = np.arange(n_groups)\n",
    "bar_width = 0.35\n",
    "opacity = 0.4\n",
    "\n",
    "rects1 = ax.bar(index, res1[:, 0], bar_width,\n",
    "                alpha=opacity, color='r',                \n",
    "                label='Right')\n",
    "\n",
    "rects2 = ax.bar(index + bar_width, res2[:, 0], bar_width,\n",
    "                alpha=opacity, color='b',                \n",
    "                label='Left')\n",
    "\n",
    "\n",
    "ax.set_xlabel('Subject')\n",
    "ax.set_ylabel(r\"Average of $\\Theta$ (degree)\")\n",
    "#ax.set_title('')\n",
    "ax.set_xticks(index + bar_width / 2)\n",
    "ax.set_xticklabels(('1', '2', '3', '4', '5', '6', '7', '8'))\n",
    "ax.legend()\n",
    "\n",
    "plt.grid()\n",
    "fig.tight_layout()\n",
    "plt.show()        "
   ]
  },
  {
   "cell_type": "code",
   "execution_count": null,
   "metadata": {
    "collapsed": true
   },
   "outputs": [],
   "source": []
  }
 ],
 "metadata": {
  "kernelspec": {
   "display_name": "Python 3",
   "language": "python",
   "name": "python3"
  },
  "language_info": {
   "codemirror_mode": {
    "name": "ipython",
    "version": 3
   },
   "file_extension": ".py",
   "mimetype": "text/x-python",
   "name": "python",
   "nbconvert_exporter": "python",
   "pygments_lexer": "ipython3",
   "version": "3.6.3"
  }
 },
 "nbformat": 4,
 "nbformat_minor": 2
}
