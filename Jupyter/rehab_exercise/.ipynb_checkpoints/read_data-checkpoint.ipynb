{
 "cells": [
  {
   "cell_type": "code",
   "execution_count": 1,
   "metadata": {
    "collapsed": true
   },
   "outputs": [],
   "source": [
    "import numpy as np\n",
    "import pickle\n",
    "import os\n",
    "import sys"
   ]
  },
  {
   "cell_type": "code",
   "execution_count": 2,
   "metadata": {},
   "outputs": [],
   "source": [
    "src_folder = \"G:/Box Sync/MyData/rehab_exercise/shoulder_surgery/\"\n",
    "dest_folder = \"E:/DevData/rehab_exercise/shoulder_surgery/\"\n",
    "#subject_list = [\"abu\", \"emi\", \"liza\", \"saikat\", \"tonmoy\", \"arif\", \"nishat\", \"amzad\"]\n",
    "subject_list = [\"abu\", \"emi\", \"liza\", \"saikat\", \"tonmoy\", \"arif\", \"amzad\", \"nishat\"]\n",
    "annots_all = {}\n",
    "right_all = {}\n",
    "left_all = {}"
   ]
  },
  {
   "cell_type": "code",
   "execution_count": 3,
   "metadata": {},
   "outputs": [
    {
     "name": "stdout",
     "output_type": "stream",
     "text": [
      "Processing Annots of subject  abu\n",
      "Annots of subject  abu , count:  61\n",
      "Processing Annots of subject  emi\n",
      "Annots of subject  emi , count:  60\n",
      "Processing Annots of subject  liza\n",
      "Annots of subject  liza , count:  66\n",
      "Processing Annots of subject  saikat\n",
      "Annots of subject  saikat , count:  63\n",
      "Processing Annots of subject  tonmoy\n",
      "Annots of subject  tonmoy , count:  66\n",
      "Processing Annots of subject  arif\n",
      "Annots of subject  arif , count:  67\n",
      "Processing Annots of subject  amzad\n",
      "Annots of subject  amzad , count:  71\n",
      "Processing Annots of subject  nishat\n",
      "Annots of subject  nishat , count:  48\n"
     ]
    }
   ],
   "source": [
    "def str_to_time(s):\n",
    "    ts = s.split(\".\")\n",
    "    if len(ts)!=3:\n",
    "        print(\"Error in time. Not 3 tokens\")\n",
    "        sys.exit(0)\n",
    "    if len(ts[2])!=1:\n",
    "        print(\"Error in time. third token is greater than 1\")\n",
    "        sys.exit(0)\n",
    "    \n",
    "    t = int(ts[0])*60 + int(ts[1]) + int(ts[2])/10\n",
    "    return t\n",
    "\n",
    "#subject_list = [\"arif\"]\n",
    "for s in subject_list:\n",
    "    print(\"Processing Annots of subject \", s)\n",
    "    annots = []\n",
    "    with open(src_folder+\"annots/\"+s+\".csv\") as file:\n",
    "        lines = file.readlines()\n",
    "    for line in lines:\n",
    "        tokens = line.rstrip().split(\",\")\n",
    "        #print(tokens)\n",
    "        if tokens[1]=='R':\n",
    "            hand = 1\n",
    "        elif tokens[1]=='L':\n",
    "            hand = 2\n",
    "        elif tokens[1] ==\"RL\":\n",
    "            hand = 3\n",
    "        else:\n",
    "            print(\"xxxxxxxxxxxx Error in hand xxxxxxxxxxxxxxx\")\n",
    "            sys.exit(0)\n",
    "        \n",
    "        ex_no = int(tokens[0])\n",
    "        st = str_to_time(tokens[2])\n",
    "        et = str_to_time(tokens[3])\n",
    "        \n",
    "        if ex_no >=100 or 7<=ex_no<=12:\n",
    "            flex = 0\n",
    "            a = [ex_no, hand, flex, st, et]\n",
    "            annots.append(a)\n",
    "        else:\n",
    "            flex = 1\n",
    "            a = [ex_no, hand, flex, st, et]\n",
    "            annots.append(a)\n",
    "            \n",
    "            if s=='liza' and ex_no==5 and hand==2:\n",
    "                st = str_to_time('14.49.5')\n",
    "                et = str_to_time('14.55.0')\n",
    "                a = [105, hand, 0, st, et]\n",
    "                annots.append(a)\n",
    "            \n",
    "            st = str_to_time(tokens[4])\n",
    "            et = str_to_time(tokens[5])            \n",
    "            flex = 2\n",
    "            a = [ex_no, hand, flex, st, et]\n",
    "            annots.append(a)\n",
    "            \n",
    "            st = str_to_time(tokens[6])\n",
    "            et = str_to_time(tokens[7])            \n",
    "            flex = 3\n",
    "            a = [ex_no, hand, flex, st, et]\n",
    "            annots.append(a)\n",
    "    \n",
    "    annot_count = len(annots)\n",
    "    if annots[0][3]>=annots[0][4]:\n",
    "        print(\"Error in annot time sequence. Subject:\", s, annots[i])\n",
    "        sys.exit(0)\n",
    "    for i in range(1, annot_count):\n",
    "        if annots[i][3]<annots[i-1][4] or annots[i][3]>=annots[i][4]:\n",
    "            print(\"Error in annot time sequence. Subject:\", s, annots[i])\n",
    "            sys.exit(0)\n",
    "        \n",
    "    annots_all[s] = np.asarray(annots)\n",
    "    print(\"Annots of subject \", s, \", count: \", annot_count)"
   ]
  },
  {
   "cell_type": "code",
   "execution_count": 4,
   "metadata": {},
   "outputs": [],
   "source": [
    "#for a in annots_all[\"liza\"]:\n",
    "#    print(a)"
   ]
  },
  {
   "cell_type": "code",
   "execution_count": 5,
   "metadata": {},
   "outputs": [],
   "source": [
    "def process_data(sname, watch_clock_time, vid_clock_time):\n",
    "    with open(src_folder+'data/'+sname+'.wada') as file:\n",
    "        d = file.readlines()\n",
    "        \n",
    "    st = int(d[0].rstrip())/1000\n",
    "    print(\"Diff: \", st - watch_clock_time)\n",
    "    offset = vid_clock_time + (st - watch_clock_time)\n",
    "    count = len(d)\n",
    "    \n",
    "    res = np.zeros((count-1, 6))\n",
    "    for i in range(1, count):\n",
    "        tokens = d[i].rstrip().split(\",\")\n",
    "        t = int(tokens[0])\n",
    "        sensor_type = int(tokens[1])\n",
    "        accuracy = int(tokens[2])\n",
    "        x = float(tokens[3])\n",
    "        y = float(tokens[4])\n",
    "        z = float(tokens[5])        \n",
    "        a = [t, sensor_type, accuracy, x, y, z]\n",
    "        res[i-1] = a\n",
    "    \n",
    "    res[:, 0] = (res[:, 0] - res[0, 0])/1e9 + offset\n",
    "    return res    "
   ]
  },
  {
   "cell_type": "code",
   "execution_count": 6,
   "metadata": {},
   "outputs": [
    {
     "name": "stdout",
     "output_type": "stream",
     "text": [
      "Diff:  10.88699984550476\n",
      "Diff:  17.4490000000078\n",
      "abu  right:  704577 53.0869998455 2059.99936846\n",
      "abu  left:  692211 89.649 2059.99319638\n",
      "emi  right:  569185 2170.00484003 3792.64545076\n",
      "emi  left:  571940 2170.01404462 3800.43047405\n"
     ]
    }
   ],
   "source": [
    "r = process_data(\"abu_emi_right\", 1514258122.522, 42.2)\n",
    "l = process_data(\"abu_emi_left\", 98215.590, 72.2)\n",
    "\n",
    "s = \"abu\"\n",
    "right_all[s] = r[r[:, 0]<=34*60+20, :]\n",
    "left_all[s] = l[l[:, 0]<=34*60+20, :]\n",
    "print(s, \" right: \", len(right_all[s]), right_all[s][0, 0], right_all[s][-1, 0])\n",
    "print(s, \" left: \", len(left_all[s]), left_all[s][0, 0], left_all[s][-1, 0])\n",
    "\n",
    "s = \"emi\"\n",
    "right_all[s] = r[r[:, 0]>=36*60+10, :]\n",
    "left_all[s] = l[l[:, 0]>=36*60+10, :]\n",
    "print(s, \" right: \", len(right_all[s]), right_all[s][0, 0], right_all[s][-1, 0])\n",
    "print(s, \" left: \", len(left_all[s]), left_all[s][0, 0], left_all[s][-1, 0])\n"
   ]
  },
  {
   "cell_type": "code",
   "execution_count": 7,
   "metadata": {},
   "outputs": [
    {
     "name": "stdout",
     "output_type": "stream",
     "text": [
      "Diff:  12.224999904632568\n",
      "Diff:  28.971999999994296\n",
      "liza  right:  636612 56.4249999046 1869.22860432\n",
      "liza  left:  610254 118.072 1853.86321632\n"
     ]
    }
   ],
   "source": [
    "s = \"liza\"\n",
    "right_all[s] = process_data(\"liza_right\", 1514263417.716, 44.2)\n",
    "left_all[s] = process_data(\"liza_left\", 103525.626, 89.1)\n",
    "print(s, \" right: \", len(right_all[s]), right_all[s][0, 0], right_all[s][-1, 0])\n",
    "print(s, \" left: \", len(left_all[s]), left_all[s][0, 0], left_all[s][-1, 0])"
   ]
  },
  {
   "cell_type": "code",
   "execution_count": 8,
   "metadata": {},
   "outputs": [
    {
     "name": "stdout",
     "output_type": "stream",
     "text": [
      "Diff:  13.014999866485596\n",
      "Diff:  14.021000000007916\n",
      "saikat  right:  598306 36.7149998665 1739.99203495\n",
      "saikat  left:  589180 63.821 1739.98838671\n",
      "tonmoy  right:  431347 1770.00880952 2999.9860165\n",
      "tonmoy  left:  431546 1770.00922372 2999.99242044\n",
      "arif  right:  632595 3030.01372503 4833.43379283\n",
      "arif  left:  629519 3030.01374179 4823.47153746\n"
     ]
    }
   ],
   "source": [
    "r = process_data(\"saikat_tonmoy_arif_right\", 1514420432.890, 23.7)\n",
    "l = process_data(\"saikat_tonmoy_arif_left\", 260525.535, 49.8)\n",
    "\n",
    "s = \"saikat\"\n",
    "right_all[s] = r[r[:, 0]<=29*60, :]\n",
    "left_all[s] = l[l[:, 0]<=29*60, :]\n",
    "print(s, \" right: \", len(right_all[s]), right_all[s][0, 0], right_all[s][-1, 0])\n",
    "print(s, \" left: \", len(left_all[s]), left_all[s][0, 0], left_all[s][-1, 0])\n",
    "\n",
    "s = \"tonmoy\"\n",
    "right_all[s] = r[(r[:, 0]>=29*60+30) & (r[:, 0]<=50*60), :]\n",
    "left_all[s] = l[(l[:, 0]>=29*60+30) & (l[:, 0]<=50*60), :]\n",
    "print(s, \" right: \", len(right_all[s]), right_all[s][0, 0], right_all[s][-1, 0])\n",
    "print(s, \" left: \", len(left_all[s]), left_all[s][0, 0], left_all[s][-1, 0])\n",
    "\n",
    "s = \"arif\"\n",
    "right_all[s] = r[r[:, 0]>=50*60+30, :]\n",
    "left_all[s] = l[l[:, 0]>=50*60+30, :]\n",
    "print(s, \" right: \", len(right_all[s]), right_all[s][0, 0], right_all[s][-1, 0])\n",
    "print(s, \" left: \", len(left_all[s]), left_all[s][0, 0], left_all[s][-1, 0])"
   ]
  },
  {
   "cell_type": "code",
   "execution_count": 9,
   "metadata": {},
   "outputs": [
    {
     "name": "stdout",
     "output_type": "stream",
     "text": [
      "Diff:  113.00799989700317\n",
      "Diff:  32.0109999999986\n",
      "amzad  right:  501418 131.207999897 1559.99417638\n",
      "amzad  left:  505728 121.511 1559.98382096\n",
      "nishat  right:  441868 1620.01242037 2879.98592687\n",
      "nishat  left:  442509 1620.00250625 2879.99445192\n"
     ]
    }
   ],
   "source": [
    "r = process_data(\"amzad_nishat_right\", 1514503203.400, 18.2)\n",
    "l = process_data(\"amzad_nishat_left\", 343342.207, 89.5)\n",
    "\n",
    "s = \"amzad\"\n",
    "right_all[s] = r[r[:, 0]<=26*60, :]\n",
    "left_all[s] = l[l[:, 0]<=26*60, :]\n",
    "print(s, \" right: \", len(right_all[s]), right_all[s][0, 0], right_all[s][-1, 0])\n",
    "print(s, \" left: \", len(left_all[s]), left_all[s][0, 0], left_all[s][-1, 0])\n",
    "\n",
    "s = \"nishat\"\n",
    "right_all[\"nishat\"] = r[(r[:, 0]>=27*60) & (r[:, 0]<=48*60), :]\n",
    "left_all[\"nishat\"] = l[(l[:, 0]>=27*60) & (l[:, 0]<=48*60), :]\n",
    "print(s, \" right: \", len(right_all[s]), right_all[s][0, 0], right_all[s][-1, 0])\n",
    "print(s, \" left: \", len(left_all[s]), left_all[s][0, 0], left_all[s][-1, 0])\n"
   ]
  },
  {
   "cell_type": "code",
   "execution_count": 10,
   "metadata": {},
   "outputs": [],
   "source": [
    "data = []\n",
    "for i in range(len(subject_list)):\n",
    "    s = subject_list[i]\n",
    "    ds = [right_all[s], left_all[s], annots_all[s]]\n",
    "    data.append(ds)"
   ]
  },
  {
   "cell_type": "code",
   "execution_count": 11,
   "metadata": {},
   "outputs": [],
   "source": [
    "with open(dest_folder+'data/unprocessed.pkl', \"wb\") as file:\n",
    "    pickle.dump(data, file)"
   ]
  },
  {
   "cell_type": "code",
   "execution_count": null,
   "metadata": {
    "collapsed": true
   },
   "outputs": [],
   "source": []
  }
 ],
 "metadata": {
  "anaconda-cloud": {},
  "kernelspec": {
   "display_name": "Python 3",
   "language": "python",
   "name": "python3"
  },
  "language_info": {
   "codemirror_mode": {
    "name": "ipython",
    "version": 3
   },
   "file_extension": ".py",
   "mimetype": "text/x-python",
   "name": "python",
   "nbconvert_exporter": "python",
   "pygments_lexer": "ipython3",
   "version": "3.6.3"
  }
 },
 "nbformat": 4,
 "nbformat_minor": 1
}
