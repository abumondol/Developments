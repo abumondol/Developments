{
 "cells": [
  {
   "cell_type": "code",
   "execution_count": 2,
   "metadata": {
    "collapsed": true
   },
   "outputs": [],
   "source": [
    "import numpy as np\n",
    "import pickle\n",
    "import os\n",
    "import sys"
   ]
  },
  {
   "cell_type": "code",
   "execution_count": 6,
   "metadata": {},
   "outputs": [],
   "source": [
    "src_folder = \"E:/DevData/rehab_exercise/shoulder_surgery/data/\"\n",
    "with open(src_folder+'unprocessed.pkl', \"rb\") as file:\n",
    "    data = pickle.load(file)"
   ]
  },
  {
   "cell_type": "code",
   "execution_count": 9,
   "metadata": {},
   "outputs": [],
   "source": [
    "def resample(data, ts):        \n",
    "    count = len(ts)    \n",
    "    res = np.zeros((count, data.shape[1]))\n",
    "    \n",
    "    if data[0,0]>ts[0] or data[-1, 0]<ts[-1]:\n",
    "        print(ts[0], ts[-1])\n",
    "        print(data[0, 0], data[-1, 0])\n",
    "        print(\"Accel time problem\")\n",
    "        sys.exit(0)\n",
    "        \n",
    "    i = 0\n",
    "    j = 0\n",
    "    while i < count:\n",
    "        if ts[i] == data[j,0]:\n",
    "            res[i, 0] = ts[i]\n",
    "            res[i, 1:] = data[j, 1:]\n",
    "            i+=1\n",
    "        elif data[j, 0] < ts[i] < data[j+1, 0]:\n",
    "            res[i, 0] = ts[i]        \n",
    "            factor = (ts[i] - data[j, 0])/(data[j+1, 0]-data[j, 0]);\n",
    "            res[i, 1:] = (1-factor)*data[j, 1:]  + factor*data[j+1, 1:]\n",
    "            i+=1\n",
    "        else:\n",
    "            j+=1\n",
    "            \n",
    "    return res\n",
    "\n",
    "def process_quat(q):\n",
    "    #q0 = q[:, 0]\n",
    "    count = len(q)\n",
    "    q1 = q[:, 0].reshape(count, 1)\n",
    "    q2 = q[:, 1].reshape(count, 1)\n",
    "    q3 = q[:, 2].reshape(count, 1)\n",
    "    sin2_theta_by_2 = q1*q1 + q2*q2 + q3*q3        \n",
    "    q0 = np.sqrt(1-sin2_theta_by_2)\n",
    "        \n",
    "    Rx = np.concatenate( ( q0*q0+q1*q1-q2*q2-q3*q3, 2*(q1*q2-q0*q3), 2*(q1*q3+q0*q2) ), axis=1)\n",
    "    Ry = np.concatenate( ( 2*(q0*q3+q1*q2),  q0*q0-q1*q1+q2*q2-q3*q3, 2*(q2*q3 - q0*q1) ), axis=1)\n",
    "    Rz = np.concatenate( ( 2*(q1*q3 - q0*q2), 2*(q2*q3+q0*q1), q0*q0-q1*q1-q2*q2+q3*q3 ), axis=1)\n",
    "    \n",
    "    R = np.concatenate((Rx, Ry, Rz), axis=1)\n",
    "    \n",
    "    return R"
   ]
  },
  {
   "cell_type": "code",
   "execution_count": 10,
   "metadata": {
    "scrolled": false
   },
   "outputs": [
    {
     "name": "stdout",
     "output_type": "stream",
     "text": [
      "8\n",
      "Subject  0 :  220.8\n"
     ]
    },
    {
     "name": "stderr",
     "output_type": "stream",
     "text": [
      "C:\\Users\\Abu\\Anaconda3\\lib\\site-packages\\ipykernel_launcher.py:34: RuntimeWarning: invalid value encountered in sqrt\n"
     ]
    },
    {
     "ename": "AxisError",
     "evalue": "axis 1 is out of bounds for array of dimension 1",
     "output_type": "error",
     "traceback": [
      "\u001b[1;31m---------------------------------------------------------------------------\u001b[0m",
      "\u001b[1;31mAxisError\u001b[0m                                 Traceback (most recent call last)",
      "\u001b[1;32m<ipython-input-10-c8b267537e24>\u001b[0m in \u001b[0;36m<module>\u001b[1;34m()\u001b[0m\n\u001b[0;32m     18\u001b[0m     \u001b[0morient\u001b[0m \u001b[1;33m=\u001b[0m \u001b[0md\u001b[0m\u001b[1;33m[\u001b[0m\u001b[0md\u001b[0m\u001b[1;33m[\u001b[0m\u001b[1;33m:\u001b[0m\u001b[1;33m,\u001b[0m \u001b[1;36m1\u001b[0m\u001b[1;33m]\u001b[0m\u001b[1;33m==\u001b[0m\u001b[1;36m3\u001b[0m\u001b[1;33m,\u001b[0m \u001b[1;33m:\u001b[0m\u001b[1;33m]\u001b[0m\u001b[1;33m\u001b[0m\u001b[0m\n\u001b[0;32m     19\u001b[0m     \u001b[0mquat\u001b[0m \u001b[1;33m=\u001b[0m \u001b[0md\u001b[0m\u001b[1;33m[\u001b[0m\u001b[0md\u001b[0m\u001b[1;33m[\u001b[0m\u001b[1;33m:\u001b[0m\u001b[1;33m,\u001b[0m \u001b[1;36m1\u001b[0m\u001b[1;33m]\u001b[0m\u001b[1;33m==\u001b[0m\u001b[1;36m11\u001b[0m\u001b[1;33m,\u001b[0m \u001b[1;33m:\u001b[0m\u001b[1;33m]\u001b[0m\u001b[1;33m\u001b[0m\u001b[0m\n\u001b[1;32m---> 20\u001b[1;33m     \u001b[0mquat\u001b[0m \u001b[1;33m=\u001b[0m \u001b[0mprocess_quat\u001b[0m\u001b[1;33m(\u001b[0m\u001b[0mquat\u001b[0m\u001b[1;33m)\u001b[0m\u001b[1;33m\u001b[0m\u001b[0m\n\u001b[0m\u001b[0;32m     21\u001b[0m     \u001b[0maccel\u001b[0m \u001b[1;33m=\u001b[0m \u001b[0mresample\u001b[0m\u001b[1;33m(\u001b[0m\u001b[0maccel\u001b[0m\u001b[1;33m[\u001b[0m\u001b[1;33m:\u001b[0m\u001b[1;33m,\u001b[0m \u001b[1;33m[\u001b[0m\u001b[1;36m0\u001b[0m\u001b[1;33m,\u001b[0m \u001b[1;36m3\u001b[0m\u001b[1;33m,\u001b[0m \u001b[1;36m4\u001b[0m\u001b[1;33m,\u001b[0m \u001b[1;36m5\u001b[0m\u001b[1;33m]\u001b[0m\u001b[1;33m]\u001b[0m\u001b[1;33m,\u001b[0m \u001b[0mgrav\u001b[0m\u001b[1;33m[\u001b[0m\u001b[1;33m:\u001b[0m\u001b[1;33m,\u001b[0m \u001b[1;36m0\u001b[0m\u001b[1;33m]\u001b[0m\u001b[1;33m)\u001b[0m\u001b[1;33m\u001b[0m\u001b[0m\n\u001b[0;32m     22\u001b[0m     \u001b[0mgyro\u001b[0m \u001b[1;33m=\u001b[0m \u001b[0mresample\u001b[0m\u001b[1;33m(\u001b[0m\u001b[0mgyro\u001b[0m\u001b[1;33m[\u001b[0m\u001b[1;33m:\u001b[0m\u001b[1;33m,\u001b[0m \u001b[1;33m[\u001b[0m\u001b[1;36m0\u001b[0m\u001b[1;33m,\u001b[0m \u001b[1;36m3\u001b[0m\u001b[1;33m,\u001b[0m \u001b[1;36m4\u001b[0m\u001b[1;33m,\u001b[0m \u001b[1;36m5\u001b[0m\u001b[1;33m]\u001b[0m\u001b[1;33m]\u001b[0m\u001b[1;33m,\u001b[0m \u001b[0mgrav\u001b[0m\u001b[1;33m[\u001b[0m\u001b[1;33m:\u001b[0m\u001b[1;33m,\u001b[0m \u001b[1;36m0\u001b[0m\u001b[1;33m]\u001b[0m\u001b[1;33m)\u001b[0m\u001b[1;33m\u001b[0m\u001b[0m\n",
      "\u001b[1;32m<ipython-input-9-4847ad4d954d>\u001b[0m in \u001b[0;36mprocess_quat\u001b[1;34m(q)\u001b[0m\n\u001b[0;32m     34\u001b[0m     \u001b[0mq0\u001b[0m \u001b[1;33m=\u001b[0m \u001b[0mnp\u001b[0m\u001b[1;33m.\u001b[0m\u001b[0msqrt\u001b[0m\u001b[1;33m(\u001b[0m\u001b[1;36m1\u001b[0m\u001b[1;33m-\u001b[0m\u001b[0msin2_theta_by_2\u001b[0m\u001b[1;33m)\u001b[0m\u001b[1;33m\u001b[0m\u001b[0m\n\u001b[0;32m     35\u001b[0m \u001b[1;33m\u001b[0m\u001b[0m\n\u001b[1;32m---> 36\u001b[1;33m     \u001b[0mRx\u001b[0m \u001b[1;33m=\u001b[0m \u001b[0mnp\u001b[0m\u001b[1;33m.\u001b[0m\u001b[0mconcatenate\u001b[0m\u001b[1;33m(\u001b[0m \u001b[1;33m(\u001b[0m \u001b[0mq0\u001b[0m\u001b[1;33m*\u001b[0m\u001b[0mq0\u001b[0m\u001b[1;33m+\u001b[0m\u001b[0mq1\u001b[0m\u001b[1;33m*\u001b[0m\u001b[0mq1\u001b[0m\u001b[1;33m-\u001b[0m\u001b[0mq2\u001b[0m\u001b[1;33m*\u001b[0m\u001b[0mq2\u001b[0m\u001b[1;33m-\u001b[0m\u001b[0mq3\u001b[0m\u001b[1;33m*\u001b[0m\u001b[0mq3\u001b[0m\u001b[1;33m,\u001b[0m \u001b[1;36m2\u001b[0m\u001b[1;33m*\u001b[0m\u001b[1;33m(\u001b[0m\u001b[0mq1\u001b[0m\u001b[1;33m*\u001b[0m\u001b[0mq2\u001b[0m\u001b[1;33m-\u001b[0m\u001b[0mq0\u001b[0m\u001b[1;33m*\u001b[0m\u001b[0mq3\u001b[0m\u001b[1;33m)\u001b[0m\u001b[1;33m,\u001b[0m \u001b[1;36m2\u001b[0m\u001b[1;33m*\u001b[0m\u001b[1;33m(\u001b[0m\u001b[0mq1\u001b[0m\u001b[1;33m*\u001b[0m\u001b[0mq3\u001b[0m\u001b[1;33m+\u001b[0m\u001b[0mq0\u001b[0m\u001b[1;33m*\u001b[0m\u001b[0mq2\u001b[0m\u001b[1;33m)\u001b[0m \u001b[1;33m)\u001b[0m\u001b[1;33m,\u001b[0m \u001b[0maxis\u001b[0m\u001b[1;33m=\u001b[0m\u001b[1;36m1\u001b[0m\u001b[1;33m)\u001b[0m\u001b[1;33m\u001b[0m\u001b[0m\n\u001b[0m\u001b[0;32m     37\u001b[0m     \u001b[0mRy\u001b[0m \u001b[1;33m=\u001b[0m \u001b[0mnp\u001b[0m\u001b[1;33m.\u001b[0m\u001b[0mconcatenate\u001b[0m\u001b[1;33m(\u001b[0m \u001b[1;33m(\u001b[0m \u001b[1;36m2\u001b[0m\u001b[1;33m*\u001b[0m\u001b[1;33m(\u001b[0m\u001b[0mq0\u001b[0m\u001b[1;33m*\u001b[0m\u001b[0mq3\u001b[0m\u001b[1;33m+\u001b[0m\u001b[0mq1\u001b[0m\u001b[1;33m*\u001b[0m\u001b[0mq2\u001b[0m\u001b[1;33m)\u001b[0m\u001b[1;33m,\u001b[0m  \u001b[0mq0\u001b[0m\u001b[1;33m*\u001b[0m\u001b[0mq0\u001b[0m\u001b[1;33m-\u001b[0m\u001b[0mq1\u001b[0m\u001b[1;33m*\u001b[0m\u001b[0mq1\u001b[0m\u001b[1;33m+\u001b[0m\u001b[0mq2\u001b[0m\u001b[1;33m*\u001b[0m\u001b[0mq2\u001b[0m\u001b[1;33m-\u001b[0m\u001b[0mq3\u001b[0m\u001b[1;33m*\u001b[0m\u001b[0mq3\u001b[0m\u001b[1;33m,\u001b[0m \u001b[1;36m2\u001b[0m\u001b[1;33m*\u001b[0m\u001b[1;33m(\u001b[0m\u001b[0mq2\u001b[0m\u001b[1;33m*\u001b[0m\u001b[0mq3\u001b[0m \u001b[1;33m-\u001b[0m \u001b[0mq0\u001b[0m\u001b[1;33m*\u001b[0m\u001b[0mq1\u001b[0m\u001b[1;33m)\u001b[0m \u001b[1;33m)\u001b[0m\u001b[1;33m,\u001b[0m \u001b[0maxis\u001b[0m\u001b[1;33m=\u001b[0m\u001b[1;36m1\u001b[0m\u001b[1;33m)\u001b[0m\u001b[1;33m\u001b[0m\u001b[0m\n\u001b[0;32m     38\u001b[0m     \u001b[0mRz\u001b[0m \u001b[1;33m=\u001b[0m \u001b[0mnp\u001b[0m\u001b[1;33m.\u001b[0m\u001b[0mconcatenate\u001b[0m\u001b[1;33m(\u001b[0m \u001b[1;33m(\u001b[0m \u001b[1;36m2\u001b[0m\u001b[1;33m*\u001b[0m\u001b[1;33m(\u001b[0m\u001b[0mq1\u001b[0m\u001b[1;33m*\u001b[0m\u001b[0mq3\u001b[0m \u001b[1;33m-\u001b[0m \u001b[0mq0\u001b[0m\u001b[1;33m*\u001b[0m\u001b[0mq2\u001b[0m\u001b[1;33m)\u001b[0m\u001b[1;33m,\u001b[0m \u001b[1;36m2\u001b[0m\u001b[1;33m*\u001b[0m\u001b[1;33m(\u001b[0m\u001b[0mq2\u001b[0m\u001b[1;33m*\u001b[0m\u001b[0mq3\u001b[0m\u001b[1;33m+\u001b[0m\u001b[0mq0\u001b[0m\u001b[1;33m*\u001b[0m\u001b[0mq1\u001b[0m\u001b[1;33m)\u001b[0m\u001b[1;33m,\u001b[0m \u001b[0mq0\u001b[0m\u001b[1;33m*\u001b[0m\u001b[0mq0\u001b[0m\u001b[1;33m-\u001b[0m\u001b[0mq1\u001b[0m\u001b[1;33m*\u001b[0m\u001b[0mq1\u001b[0m\u001b[1;33m-\u001b[0m\u001b[0mq2\u001b[0m\u001b[1;33m*\u001b[0m\u001b[0mq2\u001b[0m\u001b[1;33m+\u001b[0m\u001b[0mq3\u001b[0m\u001b[1;33m*\u001b[0m\u001b[0mq3\u001b[0m \u001b[1;33m)\u001b[0m\u001b[1;33m,\u001b[0m \u001b[0maxis\u001b[0m\u001b[1;33m=\u001b[0m\u001b[1;36m1\u001b[0m\u001b[1;33m)\u001b[0m\u001b[1;33m\u001b[0m\u001b[0m\n",
      "\u001b[1;31mAxisError\u001b[0m: axis 1 is out of bounds for array of dimension 1"
     ]
    }
   ],
   "source": [
    "sensors = [1, 3, 4, 9, 10, 11]\n",
    "print(len(data))\n",
    "for i in range(8):\n",
    "    #print(len(data[i][0]), len(data[i][1]), len(data[i][2]), data[i][2][0, -2], data[i][2][-1, -1])\n",
    "    print(\"Subject \", i, \": \", data[i][2][0, -2])    \n",
    "    \n",
    "    d = data[i][0]\n",
    "    a = d[d[:, 1]==1 , :]    \n",
    "    g = d[d[:, 1]==4 , :]\n",
    "    t1 = max(a[0, 0], g[0, 0])    \n",
    "    t2 = min(a[-1, 0], g[-1, 0])    \n",
    "    d = d[(d[:, 0]>=t1) & (d[:, 0]<=t2), :]\n",
    "    \n",
    "    accel = d[d[:, 1]==1, :]\n",
    "    gyro = d[d[:, 1]==4, :] \n",
    "    grav = d[d[:, 1]==9, :]\n",
    "    laccel = d[d[:, 1]==10, :]\n",
    "    orient = d[d[:, 1]==3, :]\n",
    "    quat = d[d[:, 1]==11, :]\n",
    "    quat = process_quat(quat)\n",
    "    accel = resample(accel[:, [0, 3, 4, 5]], grav[:, 0])\n",
    "    gyro = resample(gyro[:, [0, 3, 4, 5]], grav[:, 0])    \n",
    "    data[i][0] = np.concatenate((accel, gyro[:, 1:], grav[:, 3:], laccel[:, 3:], orient[:, 3:], quat[:, 3:]), axis = 1)\n",
    "    \n",
    "    d = data[i][1]\n",
    "    a = d[d[:, 1]==1 , :]    \n",
    "    g = d[d[:, 1]==4 , :]\n",
    "    t1 = max(a[0, 0], g[0, 0])    \n",
    "    t2 = min(a[-1, 0], g[-1, 0])    \n",
    "    d = d[(d[:, 0]>=t1) & (d[:, 0]<=t2), :]\n",
    "    \n",
    "    accel = d[d[:, 1]==1, :]\n",
    "    gyro = d[d[:, 1]==4, :]    \n",
    "    grav = d[d[:, 1]==9, :]\n",
    "    laccel = d[d[:, 1]==10, :]\n",
    "    orient = d[d[:, 1]==3, :]\n",
    "    quat = d[d[:, 1]==11, :]\n",
    "    quat = process_quat(quat)\n",
    "    accel = resample(accel[:, [0, 3, 4, 5]], grav[:, 0])\n",
    "    gyro = resample(gyro[:, [0, 3, 4, 5]], grav[:, 0])\n",
    "    data[i][1] = np.concatenate((accel, gyro[:, 1:], grav[:, 3:], laccel[:, 3:], orient[:, 3:], quat[:, 3:]), axis = 1)"
   ]
  },
  {
   "cell_type": "code",
   "execution_count": 105,
   "metadata": {
    "collapsed": true
   },
   "outputs": [],
   "source": [
    "with open(src_folder+'processed.pkl', \"wb\") as file:\n",
    "    pickle.dump(data, file)"
   ]
  },
  {
   "cell_type": "code",
   "execution_count": 108,
   "metadata": {},
   "outputs": [
    {
     "name": "stdout",
     "output_type": "stream",
     "text": [
      "Subject  0 :  (100541, 19) (98707, 19) (61, 5)\n",
      ">>>   53.1585645335 2059.99936846\n",
      ">>>   89.820555052 2059.99319638\n",
      ">>>   220.8 2047.5\n",
      "Subject  1 :  (81292, 19) (81681, 19) (60, 5)\n",
      ">>>   2170.00484003 3792.64049493\n",
      ">>>   2170.01404462 3800.41062036\n",
      ">>>   2200.0 3744.4\n",
      "Subject  2 :  (90818, 19) (86957, 19) (66, 5)\n",
      ">>>   56.4947642276 1869.2236464\n",
      ">>>   118.181025833 1853.8433059\n",
      ">>>   228.1 1801.6\n",
      "Subject  3 :  (85314, 19) (83968, 19) (63, 5)\n",
      ">>>   37.0358400225 1739.99203495\n",
      ">>>   63.98419724 1739.98838671\n",
      ">>>   164.8 1712.6\n",
      "Subject  4 :  (61621, 19) (61621, 19) (66, 5)\n",
      ">>>   1770.00880952 2999.9860165\n",
      ">>>   1770.00922372 2999.98348435\n",
      ">>>   1810.8 2956.0\n",
      "Subject  5 :  (90346, 19) (89846, 19) (67, 5)\n",
      ">>>   3030.01372503 4833.42484476\n",
      ">>>   3030.01374179 4823.45168376\n",
      ">>>   3130.7 4781.0\n",
      "Subject  6 :  (71571, 19) (72060, 19) (71, 5)\n",
      ">>>   131.404896459 1559.99417638\n",
      ">>>   121.600497136 1559.98382096\n",
      ">>>   250.6 1524.8\n",
      "Subject  7 :  (63124, 19) (63123, 19) (48, 5)\n",
      ">>>   1620.01242037 2879.98592687\n",
      ">>>   1620.00250625 2879.99445192\n",
      ">>>   1699.6 2795.0\n"
     ]
    }
   ],
   "source": [
    "for i in range(8):\n",
    "    print(\"Subject \", i, \": \", data[i][0].shape, data[i][1].shape, data[i][2].shape)\n",
    "    print(\">>>  \", data[i][0][0, 0], data[i][0][-1, 0])\n",
    "    print(\">>>  \", data[i][1][0, 0], data[i][1][-1, 0])\n",
    "    print(\">>>  \", data[i][2][0, -2], data[i][2][-1, -1])"
   ]
  },
  {
   "cell_type": "code",
   "execution_count": 110,
   "metadata": {},
   "outputs": [
    {
     "name": "stdout",
     "output_type": "stream",
     "text": [
      "[[  5.31585645e+01  -6.70376500e-02   2.39899020e+00   9.65581500e+00\n",
      "   -2.40217130e-01   4.24507900e-01   2.50070840e-01  -8.81260200e+00\n",
      "    3.30814960e+00   2.75035100e+00   8.74556400e+00  -9.09159400e-01\n",
      "    6.90546400e+00   2.15178710e+02  -1.97147350e+01  -7.26672200e+01\n",
      "   -5.08583000e-01   3.17985000e-01   7.84247000e-01]\n",
      " [  5.31766812e+01  -1.67594120e-01   2.33913520e+00   9.90241800e+00\n",
      "   -2.21308700e-01   4.07996300e-01   2.60723470e-01  -8.76904300e+00\n",
      "    3.33441100e+00   2.85583190e+00   8.60144900e+00  -9.95275740e-01\n",
      "    7.04658600e+00   2.09777200e+02  -1.98778060e+01  -7.19610100e+01\n",
      "   -5.17694000e-01   2.93915000e-01   7.94110000e-01]\n",
      " [  5.32004598e+01  -4.54898330e-01   2.03507140e+00   9.64863300e+00\n",
      "   -1.54995980e-01   3.83228900e-01   1.81361270e-01  -8.72003900e+00\n",
      "    3.38037400e+00   2.95026560e+00   8.26514150e+00  -1.34530260e+00\n",
      "    6.69836700e+00   2.01731000e+02  -2.01636180e+01  -7.13076900e+01\n",
      "   -5.31735000e-01   2.58527000e-01   8.03728000e-01]\n",
      " [  5.32203834e+01  -5.69820000e-01   2.21942500e+00   9.90481300e+00\n",
      "   -1.70708630e-01   3.22242500e-01   4.87358500e-02  -8.67594000e+00\n",
      "    3.41552300e+00   3.03848580e+00   8.10611900e+00  -1.19609810e+00\n",
      "    6.86632730e+00   1.92538590e+02  -2.03825420e+01  -7.06987460e+01\n",
      "   -5.46030000e-01   2.16637000e-01   8.09267000e-01]\n",
      " [  5.32403834e+01  -5.81791000e-01   2.13802220e+00   9.55286500e+00\n",
      "    2.26368700e-02  -6.92421900e-02   2.13052900e-03  -8.42480400e+00\n",
      "    3.44297400e+00   3.65223600e+00   7.85498400e+00  -1.22354910e+00\n",
      "    6.25257700e+00   1.90818040e+02  -2.05537320e+01  -6.65627900e+01\n",
      "    5.19863000e-01  -2.08639000e-01  -8.28362000e-01]\n",
      " [  5.32603834e+01  -5.81791000e-01   2.13802220e+00   9.55286500e+00\n",
      "    2.26368700e-02  -6.92421900e-02   2.13052900e-03  -8.42480400e+00\n",
      "    3.44297400e+00   3.65223600e+00   7.85498400e+00  -1.22354910e+00\n",
      "    6.25257700e+00   1.90818040e+02  -2.05537320e+01  -6.65627900e+01\n",
      "    5.19863000e-01  -2.08639000e-01  -8.28362000e-01]\n",
      " [  5.32803834e+01  -5.81791000e-01   2.13802220e+00   9.55286500e+00\n",
      "    2.26368700e-02  -6.92421900e-02   2.13052900e-03  -8.42480400e+00\n",
      "    3.44297400e+00   3.65223600e+00   7.85498400e+00  -1.22354910e+00\n",
      "    6.25257700e+00   1.90818040e+02  -2.05537320e+01  -6.65627900e+01\n",
      "    5.19863000e-01  -2.08639000e-01  -8.28362000e-01]\n",
      " [  5.33003834e+01  -5.81791000e-01   2.13802220e+00   9.55286500e+00\n",
      "    2.26368700e-02  -6.92421900e-02   2.13052900e-03  -8.42480400e+00\n",
      "    3.44297400e+00   3.65223600e+00   7.85498400e+00  -1.22354910e+00\n",
      "    6.25257700e+00   1.90818040e+02  -2.05537320e+01  -6.65627900e+01\n",
      "    5.19863000e-01  -2.08639000e-01  -8.28362000e-01]\n",
      " [  5.33186056e+01  -5.81791000e-01   2.13802220e+00   9.55286500e+00\n",
      "    2.26368700e-02  -6.92421900e-02   2.13052900e-03  -8.42480400e+00\n",
      "    3.44297400e+00   3.65223600e+00   7.85498400e+00  -1.22354910e+00\n",
      "    6.25257700e+00   1.90818040e+02  -2.05537320e+01  -6.65627900e+01\n",
      "    5.19863000e-01  -2.08639000e-01  -8.28362000e-01]\n",
      " [  5.33306214e+01  -6.46434500e-01   2.27449150e+00   9.47146200e+00\n",
      "    2.26368700e-02  -6.92421900e-02   2.13052900e-03  -8.36057700e+00\n",
      "    3.44612100e+00   3.79409700e+00   7.79075670e+00  -1.22669600e+00\n",
      "    6.11071600e+00   1.82862750e+02  -2.05733700e+01  -6.55910700e+01\n",
      "    5.26130000e-01  -1.72459000e-01  -8.30440000e-01]]\n"
     ]
    }
   ],
   "source": [
    "print(data[0][0][:10, :])"
   ]
  },
  {
   "cell_type": "code",
   "execution_count": null,
   "metadata": {
    "collapsed": true
   },
   "outputs": [],
   "source": []
  }
 ],
 "metadata": {
  "anaconda-cloud": {},
  "kernelspec": {
   "display_name": "Python 3",
   "language": "python",
   "name": "python3"
  },
  "language_info": {
   "codemirror_mode": {
    "name": "ipython",
    "version": 3
   },
   "file_extension": ".py",
   "mimetype": "text/x-python",
   "name": "python",
   "nbconvert_exporter": "python",
   "pygments_lexer": "ipython3",
   "version": "3.6.3"
  }
 },
 "nbformat": 4,
 "nbformat_minor": 1
}
